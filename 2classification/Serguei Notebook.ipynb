{
 "metadata": {
  "name": ""
 },
 "nbformat": 3,
 "nbformat_minor": 0,
 "worksheets": [
  {
   "cells": [
    {
     "cell_type": "markdown",
     "metadata": {},
     "source": [
      "Imports"
     ]
    },
    {
     "cell_type": "code",
     "collapsed": false,
     "input": [
      "import os\n",
      "from collections import Counter\n",
      "try:\n",
      "    import xml.etree.cElementTree as ET\n",
      "except ImportError:\n",
      "    import xml.etree.ElementTree as ET\n",
      "import numpy as np\n",
      "from scipy import sparse\n",
      "\n",
      "import util\n",
      "import pandas as pd\n",
      "from sklearn import cross_validation\n",
      "\n",
      "from sklearn.grid_search import GridSearchCV, RandomizedSearchCV\n",
      "\n",
      "from sklearn.externals.six.moves import zip\n",
      "\n",
      "import matplotlib.pyplot as plt\n",
      "\n",
      "from sklearn.datasets import make_gaussian_quantiles\n",
      "from sklearn.ensemble import AdaBoostClassifier\n",
      "from sklearn.metrics import accuracy_score\n",
      "from sklearn.tree import DecisionTreeClassifier"
     ],
     "language": "python",
     "metadata": {},
     "outputs": [],
     "prompt_number": 1
    },
    {
     "cell_type": "markdown",
     "metadata": {},
     "source": [
      "Feature Extraction"
     ]
    },
    {
     "cell_type": "code",
     "collapsed": false,
     "input": [
      "classMap = {\n",
      "0: 'Agent',\n",
      "1: 'AutoRun',\n",
      "2: 'FraudLoad',\n",
      "3: 'FraudPack',\n",
      "4: 'Hupigon',\n",
      "5: 'Krap',\n",
      "6: 'Lipler',\n",
      "7: 'Magania',\n",
      "8: 'None',\n",
      "9: 'Poison',\n",
      "10: 'Swizzor',\n",
      "11: 'Tdss',\n",
      "12: 'VB',\n",
      "13: 'Virut',\n",
      "14: 'Zbot'\n",
      "}\n",
      "classMap = dict([[v,k] for k,v in classMap.items()])"
     ],
     "language": "python",
     "metadata": {},
     "outputs": [],
     "prompt_number": 2
    },
    {
     "cell_type": "code",
     "collapsed": false,
     "input": [
      "#Converts an xml malware file to a vector of frequencies of each all_section token\n",
      "def xml2vec(filename, readPath = \"train/\"):\n",
      "    tokens = []\n",
      "    # extract id and true class (if available) from filename\n",
      "    id_str, clas = filename.split('.')[:2]\n",
      "    \n",
      "    # parse file as an xml document\n",
      "    tree = ET.parse(readPath + filename)\n",
      "    root = tree.getroot()\n",
      "    for section in root.iter('all_section'):\n",
      "        for token in section:\n",
      "            tokens.append(token.tag)\n",
      "    return tokens"
     ],
     "language": "python",
     "metadata": {},
     "outputs": [],
     "prompt_number": 3
    },
    {
     "cell_type": "code",
     "collapsed": false,
     "input": [
      "def createDesignMatrix(readPath = \"train/\"):\n",
      "    '''Returns the design matrix and target values if readPath = \"/train\", else returns just the design matrix.\n",
      "    The design matrix has a row for each xml file and the columns are counts of all of the distinct all_section tokens.\n",
      "    '''\n",
      "    indices = []\n",
      "    target = []   \n",
      "    all_rows = []\n",
      "    \n",
      "    for filename in os.listdir(readPath):\n",
      "        #print ('Working on file:', filename)\n",
      "        row = pd.Series(xml2vec(filename, readPath=readPath)).value_counts()\n",
      "        all_rows.append(row)\n",
      "        id_str, clas = filename.split('.')[:2]\n",
      "        indices.append(id_str)\n",
      "        if readPath == \"train/\":\n",
      "            target.append(classMap[clas])\n",
      "            \n",
      "    df = pd.concat(all_rows, axis = 1, join = 'outer')\n",
      "    df = df.transpose()\n",
      "    df = df.replace(to_replace=np.nan, value = 0)\n",
      "    df.index = indices\n",
      "    target = pd.Series(target)\n",
      "    \n",
      "    return (df, target) if readPath == \"train/\" else df"
     ],
     "language": "python",
     "metadata": {},
     "outputs": [],
     "prompt_number": 4
    },
    {
     "cell_type": "code",
     "collapsed": false,
     "input": [
      "X, t = createDesignMatrix(readPath = \"train/\")\n",
      "testdf = createDesignMatrix(readPath = \"test/\")\n",
      "\n",
      "##REMOVE ALL FEATURES IN TRAINING DATA THAT ARE NOT IN TEST DATA (AND VICE VERSA IF NECESSARY)\n",
      "for column in testdf.columns:\n",
      "    if column not in X.columns:\n",
      "        del testdf[column]\n",
      "        \n",
      "for column in X.columns:\n",
      "    if column not in testdf.columns:\n",
      "        del X[column]\n",
      "\n",
      "originalX = X\n",
      "originalT = t\n",
      "len(testdf.columns)"
     ],
     "language": "python",
     "metadata": {},
     "outputs": [
      {
       "metadata": {},
       "output_type": "pyout",
       "prompt_number": 5,
       "text": [
        "99"
       ]
      }
     ],
     "prompt_number": 5
    },
    {
     "cell_type": "code",
     "collapsed": false,
     "input": [
      "for filename in os.listdir(\"train/\"):\n",
      "        #print ('Working on file:', filename)\n",
      "        row1 = xml2vec(filename)\n",
      "        row2 = [row1[i] + \"-\" + row1[i+1] for i in xrange(len(row1)) if i < len(row1)-1]\n",
      "        row = pd.Series(row1+row2).value_counts()\n",
      "#         print(row.head(25))\n",
      "        break"
     ],
     "language": "python",
     "metadata": {},
     "outputs": []
    },
    {
     "cell_type": "code",
     "collapsed": false,
     "input": [
      "def createDesignMatrix2(readPath = \"train/\"):\n",
      "    '''Returns the design matrix and target values if readPath = \"/train\", else returns just the design matrix.\n",
      "    The design matrix has a row for each xml file and the columns are counts of all of the distinct all_section tokens\n",
      "    as well as counts for each consecutive token pair\n",
      "    '''\n",
      "    indices = []\n",
      "    target = []   \n",
      "    all_rows = []\n",
      "    \n",
      "    for filename in os.listdir(readPath):\n",
      "        #print ('Working on file:', filename)\n",
      "        row1 = xml2vec(filename, readPath=readPath)\n",
      "        row2 = [row1[i] + \"-\" + row1[i+1] for i in xrange(len(row1)) if i < len(row1)-1]\n",
      "        row = pd.Series(row1+row2).value_counts()\n",
      "        all_rows.append(row)\n",
      "        id_str, clas = filename.split('.')[:2]\n",
      "        indices.append(id_str)\n",
      "        if readPath == \"train/\":\n",
      "            target.append(classMap[clas])\n",
      "            \n",
      "    df = pd.concat(all_rows, axis = 1, join = 'outer')\n",
      "    df = df.transpose()\n",
      "    df = df.replace(to_replace=np.nan, value = 0)\n",
      "    df.index = indices\n",
      "    target = pd.Series(target)\n",
      "    \n",
      "    return (df, target) if readPath == \"train/\" else df"
     ],
     "language": "python",
     "metadata": {},
     "outputs": [],
     "prompt_number": 6
    },
    {
     "cell_type": "code",
     "collapsed": false,
     "input": [
      "X, t = createDesignMatrix2(readPath = \"train/\")\n",
      "testdf = createDesignMatrix2(readPath = \"test/\")\n",
      "\n",
      "##REMOVE ALL FEATURES IN TRAINING DATA THAT ARE NOT IN TEST DATA (AND VICE VERSA IF NECESSARY)\n",
      "for column in testdf.columns:\n",
      "    if column not in X.columns:\n",
      "        del testdf[column]\n",
      "        \n",
      "for column in X.columns:\n",
      "    if column not in testdf.columns:\n",
      "        del X[column]\n",
      "\n",
      "originalX = X\n",
      "originalT = t\n",
      "len(testdf.columns)"
     ],
     "language": "python",
     "metadata": {},
     "outputs": [
      {
       "metadata": {},
       "output_type": "pyout",
       "prompt_number": 7,
       "text": [
        "2188"
       ]
      }
     ],
     "prompt_number": 7
    },
    {
     "cell_type": "code",
     "collapsed": false,
     "input": [
      "X.to_pickle(\"trainDF.pkl\")\n",
      "t.to_pickle(\"target.pkl\")\n",
      "testdf.to_pickle(\"testDF.pkl\")"
     ],
     "language": "python",
     "metadata": {},
     "outputs": [],
     "prompt_number": 8
    },
    {
     "cell_type": "code",
     "collapsed": false,
     "input": [
      "X = pd.read_pickle(\"trainDF.pkl\")\n",
      "t = pd.read_pickle(\"target.pkl\")\n",
      "testdf = pd.read_pickle(\"testDF.pkl\")"
     ],
     "language": "python",
     "metadata": {},
     "outputs": [],
     "prompt_number": 6
    },
    {
     "cell_type": "markdown",
     "metadata": {},
     "source": [
      "Classifier (Discrete > Real)"
     ]
    },
    {
     "cell_type": "code",
     "collapsed": false,
     "input": [
      "bdt_real = AdaBoostClassifier(\n",
      "    DecisionTreeClassifier(max_depth=2),\n",
      "    n_estimators=600,\n",
      "    learning_rate=1)\n",
      "\n",
      "X, t = createDesignMatrix2(readPath = \"train/\")\n",
      "testdf = createDesignMatrix2(readPath = \"test/\")\n",
      "\n",
      "##REMOVE ALL FEATURES IN TRAINING DATA THAT ARE NOT IN TEST DATA (AND VICE VERSA IF NECESSARY)\n",
      "for column in testdf.columns:\n",
      "    if column not in X.columns:\n",
      "        del testdf[column]\n",
      "        \n",
      "for column in X.columns:\n",
      "    if column not in testdf.columns:\n",
      "        del X[column]\n",
      "\n",
      "originalX = X\n",
      "originalT = t\n",
      "len(testdf.columns)\n",
      "        \n",
      "print(len(X.columns), len(testdf.columns))\n",
      "\n",
      "classifier = bdt_real.fit(X, t)\n",
      "predicted = classifier.predict(testdf) #predict on test values, not on X\n",
      "accuracy = sum(pd.Series(predicted) & t) / len(testdf)\n",
      "print (accuracy)"
     ],
     "language": "python",
     "metadata": {},
     "outputs": [
      {
       "output_type": "stream",
       "stream": "stdout",
       "text": [
        "(2188, 2188)\n",
        "0"
       ]
      },
      {
       "output_type": "stream",
       "stream": "stdout",
       "text": [
        "\n"
       ]
      }
     ],
     "prompt_number": 63
    },
    {
     "cell_type": "code",
     "collapsed": false,
     "input": [
      "bdt_discrete = AdaBoostClassifier(\n",
      "    DecisionTreeClassifier(max_depth=2),\n",
      "    n_estimators=600,\n",
      "    learning_rate=1.5,\n",
      "    algorithm=\"SAMME\")\n",
      "\n",
      "X, t = createDesignMatrix2(readPath = \"train/\")\n",
      "testdf = createDesignMatrix2(readPath= \"test/\")\n",
      "\n",
      "##REMOVE ALL FEATURES IN TRAINING DATA THAT ARE NOT IN TEST DATA (AND VICE VERSA IF NECESSARY)\n",
      "for column in testdf.columns:\n",
      "    if column not in X.columns:\n",
      "        del testdf[column]\n",
      "        \n",
      "for column in X.columns:\n",
      "    if column not in testdf.columns:\n",
      "        del X[column]        \n",
      "     \n",
      "originalX = X\n",
      "originalT = t\n",
      "len(testdf.columns)        \n",
      "\n",
      "classif_discrete = bdt_discrete.fit(X, t)\n",
      "discrete_predicted = classif_discrete.predict(testdf) #predict on test values, not on X\n",
      "print(sum(pd.Series(discrete_predicted) & t) / len(testdf))"
     ],
     "language": "python",
     "metadata": {},
     "outputs": [
      {
       "output_type": "stream",
       "stream": "stdout",
       "text": [
        "0\n"
       ]
      }
     ],
     "prompt_number": 64
    },
    {
     "cell_type": "markdown",
     "metadata": {},
     "source": [
      "Feature Extraction cont."
     ]
    },
    {
     "cell_type": "markdown",
     "metadata": {},
     "source": [
      "Make Kaggle Submission"
     ]
    },
    {
     "cell_type": "code",
     "collapsed": false,
     "input": [
      "filename = \"submission2.csv\"\n",
      "pd.DataFrame(discrete_predicted, testdf.index).to_csv(filename, index_label = 'Id', header = ['Prediction'])"
     ],
     "language": "python",
     "metadata": {},
     "outputs": [],
     "prompt_number": 60
    },
    {
     "cell_type": "code",
     "collapsed": false,
     "input": [
      "accuracy = sum(pd.Series(predicted) & t) / float(len(testdf))\n",
      "print (accuracy)"
     ],
     "language": "python",
     "metadata": {},
     "outputs": [
      {
       "output_type": "stream",
       "stream": "stdout",
       "text": [
        "0.167830290011\n"
       ]
      }
     ],
     "prompt_number": 68
    },
    {
     "cell_type": "markdown",
     "metadata": {},
     "source": [
      "Trying all the optimized stuff"
     ]
    },
    {
     "cell_type": "code",
     "collapsed": false,
     "input": [
      "# specify parameters and distributions to sample from\n",
      "param_dist = {'base_estimator':(DecisionTreeClassifier(max_depth=2), DecisionTreeClassifier(max_depth=4), DecisionTreeClassifier(max_depth=6), DecisionTreeClassifier(max_depth=8)), \n",
      "              'n_estimators':np.arange(10, 1000, 10),\n",
      "              'learning_rate': np.arange(.1, 5, .1),\n",
      "              'algorithm': [\"SAMME\", \"SAMME.R\"]}\n",
      "\n",
      "# run randomized search\n",
      "n_iter_search = 500\n",
      "clf = AdaBoostClassifier(\n",
      "    DecisionTreeClassifier(max_depth=4),\n",
      "    n_estimators=100,\n",
      "    learning_rate=1,\n",
      "    algorithm=\"SAMME\")\n",
      "random_search = RandomizedSearchCV(clf, param_distributions=param_dist,\n",
      "                                   n_iter=n_iter_search, )"
     ],
     "language": "python",
     "metadata": {},
     "outputs": [],
     "prompt_number": 7
    },
    {
     "cell_type": "code",
     "collapsed": false,
     "input": [
      "result_random = random_search.fit(X, t)"
     ],
     "language": "python",
     "metadata": {},
     "outputs": [
      {
       "ename": "KeyboardInterrupt",
       "evalue": "",
       "output_type": "pyerr",
       "traceback": [
        "\u001b[0;31m---------------------------------------------------------------------------\u001b[0m\n\u001b[0;31mKeyboardInterrupt\u001b[0m                         Traceback (most recent call last)",
        "\u001b[0;32m<ipython-input-8-f548d0139f86>\u001b[0m in \u001b[0;36m<module>\u001b[0;34m()\u001b[0m\n\u001b[0;32m----> 1\u001b[0;31m \u001b[0mresult_random\u001b[0m \u001b[0;34m=\u001b[0m \u001b[0mrandom_search\u001b[0m\u001b[0;34m.\u001b[0m\u001b[0mfit\u001b[0m\u001b[0;34m(\u001b[0m\u001b[0mX\u001b[0m\u001b[0;34m,\u001b[0m \u001b[0mt\u001b[0m\u001b[0;34m)\u001b[0m\u001b[0;34m\u001b[0m\u001b[0m\n\u001b[0m",
        "\u001b[0;32m/home/sergs/.local/lib/python2.7/site-packages/sklearn/grid_search.pyc\u001b[0m in \u001b[0;36mfit\u001b[0;34m(self, X, y)\u001b[0m\n\u001b[1;32m    747\u001b[0m                                           \u001b[0mself\u001b[0m\u001b[0;34m.\u001b[0m\u001b[0mn_iter\u001b[0m\u001b[0;34m,\u001b[0m\u001b[0;34m\u001b[0m\u001b[0m\n\u001b[1;32m    748\u001b[0m                                           random_state=self.random_state)\n\u001b[0;32m--> 749\u001b[0;31m         \u001b[0;32mreturn\u001b[0m \u001b[0mself\u001b[0m\u001b[0;34m.\u001b[0m\u001b[0m_fit\u001b[0m\u001b[0;34m(\u001b[0m\u001b[0mX\u001b[0m\u001b[0;34m,\u001b[0m \u001b[0my\u001b[0m\u001b[0;34m,\u001b[0m \u001b[0msampled_params\u001b[0m\u001b[0;34m)\u001b[0m\u001b[0;34m\u001b[0m\u001b[0m\n\u001b[0m",
        "\u001b[0;32m/home/sergs/.local/lib/python2.7/site-packages/sklearn/grid_search.pyc\u001b[0m in \u001b[0;36m_fit\u001b[0;34m(self, X, y, parameter_iterable)\u001b[0m\n\u001b[1;32m    376\u001b[0m                                     \u001b[0mtrain\u001b[0m\u001b[0;34m,\u001b[0m \u001b[0mtest\u001b[0m\u001b[0;34m,\u001b[0m \u001b[0mself\u001b[0m\u001b[0;34m.\u001b[0m\u001b[0mverbose\u001b[0m\u001b[0;34m,\u001b[0m \u001b[0mparameters\u001b[0m\u001b[0;34m,\u001b[0m\u001b[0;34m\u001b[0m\u001b[0m\n\u001b[1;32m    377\u001b[0m                                     self.fit_params, return_parameters=True)\n\u001b[0;32m--> 378\u001b[0;31m             \u001b[0;32mfor\u001b[0m \u001b[0mparameters\u001b[0m \u001b[0;32min\u001b[0m \u001b[0mparameter_iterable\u001b[0m\u001b[0;34m\u001b[0m\u001b[0m\n\u001b[0m\u001b[1;32m    379\u001b[0m             for train, test in cv)\n\u001b[1;32m    380\u001b[0m \u001b[0;34m\u001b[0m\u001b[0m\n",
        "\u001b[0;32m/home/sergs/.local/lib/python2.7/site-packages/sklearn/externals/joblib/parallel.pyc\u001b[0m in \u001b[0;36m__call__\u001b[0;34m(self, iterable)\u001b[0m\n\u001b[1;32m    651\u001b[0m             \u001b[0mself\u001b[0m\u001b[0;34m.\u001b[0m\u001b[0m_iterating\u001b[0m \u001b[0;34m=\u001b[0m \u001b[0mTrue\u001b[0m\u001b[0;34m\u001b[0m\u001b[0m\n\u001b[1;32m    652\u001b[0m             \u001b[0;32mfor\u001b[0m \u001b[0mfunction\u001b[0m\u001b[0;34m,\u001b[0m \u001b[0margs\u001b[0m\u001b[0;34m,\u001b[0m \u001b[0mkwargs\u001b[0m \u001b[0;32min\u001b[0m \u001b[0miterable\u001b[0m\u001b[0;34m:\u001b[0m\u001b[0;34m\u001b[0m\u001b[0m\n\u001b[0;32m--> 653\u001b[0;31m                 \u001b[0mself\u001b[0m\u001b[0;34m.\u001b[0m\u001b[0mdispatch\u001b[0m\u001b[0;34m(\u001b[0m\u001b[0mfunction\u001b[0m\u001b[0;34m,\u001b[0m \u001b[0margs\u001b[0m\u001b[0;34m,\u001b[0m \u001b[0mkwargs\u001b[0m\u001b[0;34m)\u001b[0m\u001b[0;34m\u001b[0m\u001b[0m\n\u001b[0m\u001b[1;32m    654\u001b[0m \u001b[0;34m\u001b[0m\u001b[0m\n\u001b[1;32m    655\u001b[0m             \u001b[0;32mif\u001b[0m \u001b[0mpre_dispatch\u001b[0m \u001b[0;34m==\u001b[0m \u001b[0;34m\"all\"\u001b[0m \u001b[0;32mor\u001b[0m \u001b[0mn_jobs\u001b[0m \u001b[0;34m==\u001b[0m \u001b[0;36m1\u001b[0m\u001b[0;34m:\u001b[0m\u001b[0;34m\u001b[0m\u001b[0m\n",
        "\u001b[0;32m/home/sergs/.local/lib/python2.7/site-packages/sklearn/externals/joblib/parallel.pyc\u001b[0m in \u001b[0;36mdispatch\u001b[0;34m(self, func, args, kwargs)\u001b[0m\n\u001b[1;32m    398\u001b[0m         \"\"\"\n\u001b[1;32m    399\u001b[0m         \u001b[0;32mif\u001b[0m \u001b[0mself\u001b[0m\u001b[0;34m.\u001b[0m\u001b[0m_pool\u001b[0m \u001b[0;32mis\u001b[0m \u001b[0mNone\u001b[0m\u001b[0;34m:\u001b[0m\u001b[0;34m\u001b[0m\u001b[0m\n\u001b[0;32m--> 400\u001b[0;31m             \u001b[0mjob\u001b[0m \u001b[0;34m=\u001b[0m \u001b[0mImmediateApply\u001b[0m\u001b[0;34m(\u001b[0m\u001b[0mfunc\u001b[0m\u001b[0;34m,\u001b[0m \u001b[0margs\u001b[0m\u001b[0;34m,\u001b[0m \u001b[0mkwargs\u001b[0m\u001b[0;34m)\u001b[0m\u001b[0;34m\u001b[0m\u001b[0m\n\u001b[0m\u001b[1;32m    401\u001b[0m             \u001b[0mindex\u001b[0m \u001b[0;34m=\u001b[0m \u001b[0mlen\u001b[0m\u001b[0;34m(\u001b[0m\u001b[0mself\u001b[0m\u001b[0;34m.\u001b[0m\u001b[0m_jobs\u001b[0m\u001b[0;34m)\u001b[0m\u001b[0;34m\u001b[0m\u001b[0m\n\u001b[1;32m    402\u001b[0m             \u001b[0;32mif\u001b[0m \u001b[0;32mnot\u001b[0m \u001b[0m_verbosity_filter\u001b[0m\u001b[0;34m(\u001b[0m\u001b[0mindex\u001b[0m\u001b[0;34m,\u001b[0m \u001b[0mself\u001b[0m\u001b[0;34m.\u001b[0m\u001b[0mverbose\u001b[0m\u001b[0;34m)\u001b[0m\u001b[0;34m:\u001b[0m\u001b[0;34m\u001b[0m\u001b[0m\n",
        "\u001b[0;32m/home/sergs/.local/lib/python2.7/site-packages/sklearn/externals/joblib/parallel.pyc\u001b[0m in \u001b[0;36m__init__\u001b[0;34m(self, func, args, kwargs)\u001b[0m\n\u001b[1;32m    136\u001b[0m         \u001b[0;31m# Don't delay the application, to avoid keeping the input\u001b[0m\u001b[0;34m\u001b[0m\u001b[0;34m\u001b[0m\u001b[0m\n\u001b[1;32m    137\u001b[0m         \u001b[0;31m# arguments in memory\u001b[0m\u001b[0;34m\u001b[0m\u001b[0;34m\u001b[0m\u001b[0m\n\u001b[0;32m--> 138\u001b[0;31m         \u001b[0mself\u001b[0m\u001b[0;34m.\u001b[0m\u001b[0mresults\u001b[0m \u001b[0;34m=\u001b[0m \u001b[0mfunc\u001b[0m\u001b[0;34m(\u001b[0m\u001b[0;34m*\u001b[0m\u001b[0margs\u001b[0m\u001b[0;34m,\u001b[0m \u001b[0;34m**\u001b[0m\u001b[0mkwargs\u001b[0m\u001b[0;34m)\u001b[0m\u001b[0;34m\u001b[0m\u001b[0m\n\u001b[0m\u001b[1;32m    139\u001b[0m \u001b[0;34m\u001b[0m\u001b[0m\n\u001b[1;32m    140\u001b[0m     \u001b[0;32mdef\u001b[0m \u001b[0mget\u001b[0m\u001b[0;34m(\u001b[0m\u001b[0mself\u001b[0m\u001b[0;34m)\u001b[0m\u001b[0;34m:\u001b[0m\u001b[0;34m\u001b[0m\u001b[0m\n",
        "\u001b[0;32m/home/sergs/.local/lib/python2.7/site-packages/sklearn/cross_validation.pyc\u001b[0m in \u001b[0;36m_fit_and_score\u001b[0;34m(estimator, X, y, scorer, train, test, verbose, parameters, fit_params, return_train_score, return_parameters)\u001b[0m\n\u001b[1;32m   1237\u001b[0m         \u001b[0mestimator\u001b[0m\u001b[0;34m.\u001b[0m\u001b[0mfit\u001b[0m\u001b[0;34m(\u001b[0m\u001b[0mX_train\u001b[0m\u001b[0;34m,\u001b[0m \u001b[0;34m**\u001b[0m\u001b[0mfit_params\u001b[0m\u001b[0;34m)\u001b[0m\u001b[0;34m\u001b[0m\u001b[0m\n\u001b[1;32m   1238\u001b[0m     \u001b[0;32melse\u001b[0m\u001b[0;34m:\u001b[0m\u001b[0;34m\u001b[0m\u001b[0m\n\u001b[0;32m-> 1239\u001b[0;31m         \u001b[0mestimator\u001b[0m\u001b[0;34m.\u001b[0m\u001b[0mfit\u001b[0m\u001b[0;34m(\u001b[0m\u001b[0mX_train\u001b[0m\u001b[0;34m,\u001b[0m \u001b[0my_train\u001b[0m\u001b[0;34m,\u001b[0m \u001b[0;34m**\u001b[0m\u001b[0mfit_params\u001b[0m\u001b[0;34m)\u001b[0m\u001b[0;34m\u001b[0m\u001b[0m\n\u001b[0m\u001b[1;32m   1240\u001b[0m     \u001b[0mtest_score\u001b[0m \u001b[0;34m=\u001b[0m \u001b[0m_score\u001b[0m\u001b[0;34m(\u001b[0m\u001b[0mestimator\u001b[0m\u001b[0;34m,\u001b[0m \u001b[0mX_test\u001b[0m\u001b[0;34m,\u001b[0m \u001b[0my_test\u001b[0m\u001b[0;34m,\u001b[0m \u001b[0mscorer\u001b[0m\u001b[0;34m)\u001b[0m\u001b[0;34m\u001b[0m\u001b[0m\n\u001b[1;32m   1241\u001b[0m     \u001b[0;32mif\u001b[0m \u001b[0mreturn_train_score\u001b[0m\u001b[0;34m:\u001b[0m\u001b[0;34m\u001b[0m\u001b[0m\n",
        "\u001b[0;32m/home/sergs/.local/lib/python2.7/site-packages/sklearn/ensemble/weight_boosting.pyc\u001b[0m in \u001b[0;36mfit\u001b[0;34m(self, X, y, sample_weight)\u001b[0m\n\u001b[1;32m    397\u001b[0m \u001b[0;34m\u001b[0m\u001b[0m\n\u001b[1;32m    398\u001b[0m         \u001b[0;31m# Fit\u001b[0m\u001b[0;34m\u001b[0m\u001b[0;34m\u001b[0m\u001b[0m\n\u001b[0;32m--> 399\u001b[0;31m         \u001b[0;32mreturn\u001b[0m \u001b[0msuper\u001b[0m\u001b[0;34m(\u001b[0m\u001b[0mAdaBoostClassifier\u001b[0m\u001b[0;34m,\u001b[0m \u001b[0mself\u001b[0m\u001b[0;34m)\u001b[0m\u001b[0;34m.\u001b[0m\u001b[0mfit\u001b[0m\u001b[0;34m(\u001b[0m\u001b[0mX\u001b[0m\u001b[0;34m,\u001b[0m \u001b[0my\u001b[0m\u001b[0;34m,\u001b[0m \u001b[0msample_weight\u001b[0m\u001b[0;34m)\u001b[0m\u001b[0;34m\u001b[0m\u001b[0m\n\u001b[0m\u001b[1;32m    400\u001b[0m \u001b[0;34m\u001b[0m\u001b[0m\n\u001b[1;32m    401\u001b[0m     \u001b[0;32mdef\u001b[0m \u001b[0m_validate_estimator\u001b[0m\u001b[0;34m(\u001b[0m\u001b[0mself\u001b[0m\u001b[0;34m)\u001b[0m\u001b[0;34m:\u001b[0m\u001b[0;34m\u001b[0m\u001b[0m\n",
        "\u001b[0;32m/home/sergs/.local/lib/python2.7/site-packages/sklearn/ensemble/weight_boosting.pyc\u001b[0m in \u001b[0;36mfit\u001b[0;34m(self, X, y, sample_weight)\u001b[0m\n\u001b[1;32m    141\u001b[0m                 \u001b[0miboost\u001b[0m\u001b[0;34m,\u001b[0m\u001b[0;34m\u001b[0m\u001b[0m\n\u001b[1;32m    142\u001b[0m                 \u001b[0mX\u001b[0m\u001b[0;34m,\u001b[0m \u001b[0my\u001b[0m\u001b[0;34m,\u001b[0m\u001b[0;34m\u001b[0m\u001b[0m\n\u001b[0;32m--> 143\u001b[0;31m                 sample_weight)\n\u001b[0m\u001b[1;32m    144\u001b[0m \u001b[0;34m\u001b[0m\u001b[0m\n\u001b[1;32m    145\u001b[0m             \u001b[0;31m# Early termination\u001b[0m\u001b[0;34m\u001b[0m\u001b[0;34m\u001b[0m\u001b[0m\n",
        "\u001b[0;32m/home/sergs/.local/lib/python2.7/site-packages/sklearn/ensemble/weight_boosting.pyc\u001b[0m in \u001b[0;36m_boost\u001b[0;34m(self, iboost, X, y, sample_weight)\u001b[0m\n\u001b[1;32m    454\u001b[0m \u001b[0;34m\u001b[0m\u001b[0m\n\u001b[1;32m    455\u001b[0m         \u001b[0;32melse\u001b[0m\u001b[0;34m:\u001b[0m  \u001b[0;31m# elif self.algorithm == \"SAMME\":\u001b[0m\u001b[0;34m\u001b[0m\u001b[0m\n\u001b[0;32m--> 456\u001b[0;31m             \u001b[0;32mreturn\u001b[0m \u001b[0mself\u001b[0m\u001b[0;34m.\u001b[0m\u001b[0m_boost_discrete\u001b[0m\u001b[0;34m(\u001b[0m\u001b[0miboost\u001b[0m\u001b[0;34m,\u001b[0m \u001b[0mX\u001b[0m\u001b[0;34m,\u001b[0m \u001b[0my\u001b[0m\u001b[0;34m,\u001b[0m \u001b[0msample_weight\u001b[0m\u001b[0;34m)\u001b[0m\u001b[0;34m\u001b[0m\u001b[0m\n\u001b[0m\u001b[1;32m    457\u001b[0m \u001b[0;34m\u001b[0m\u001b[0m\n\u001b[1;32m    458\u001b[0m     \u001b[0;32mdef\u001b[0m \u001b[0m_boost_real\u001b[0m\u001b[0;34m(\u001b[0m\u001b[0mself\u001b[0m\u001b[0;34m,\u001b[0m \u001b[0miboost\u001b[0m\u001b[0;34m,\u001b[0m \u001b[0mX\u001b[0m\u001b[0;34m,\u001b[0m \u001b[0my\u001b[0m\u001b[0;34m,\u001b[0m \u001b[0msample_weight\u001b[0m\u001b[0;34m)\u001b[0m\u001b[0;34m:\u001b[0m\u001b[0;34m\u001b[0m\u001b[0m\n",
        "\u001b[0;32m/home/sergs/.local/lib/python2.7/site-packages/sklearn/ensemble/weight_boosting.pyc\u001b[0m in \u001b[0;36m_boost_discrete\u001b[0;34m(self, iboost, X, y, sample_weight)\u001b[0m\n\u001b[1;32m    527\u001b[0m             \u001b[0;32mpass\u001b[0m\u001b[0;34m\u001b[0m\u001b[0m\n\u001b[1;32m    528\u001b[0m \u001b[0;34m\u001b[0m\u001b[0m\n\u001b[0;32m--> 529\u001b[0;31m         \u001b[0mestimator\u001b[0m\u001b[0;34m.\u001b[0m\u001b[0mfit\u001b[0m\u001b[0;34m(\u001b[0m\u001b[0mX\u001b[0m\u001b[0;34m,\u001b[0m \u001b[0my\u001b[0m\u001b[0;34m,\u001b[0m \u001b[0msample_weight\u001b[0m\u001b[0;34m=\u001b[0m\u001b[0msample_weight\u001b[0m\u001b[0;34m)\u001b[0m\u001b[0;34m\u001b[0m\u001b[0m\n\u001b[0m\u001b[1;32m    530\u001b[0m \u001b[0;34m\u001b[0m\u001b[0m\n\u001b[1;32m    531\u001b[0m         \u001b[0my_predict\u001b[0m \u001b[0;34m=\u001b[0m \u001b[0mestimator\u001b[0m\u001b[0;34m.\u001b[0m\u001b[0mpredict\u001b[0m\u001b[0;34m(\u001b[0m\u001b[0mX\u001b[0m\u001b[0;34m)\u001b[0m\u001b[0;34m\u001b[0m\u001b[0m\n",
        "\u001b[0;32m/home/sergs/.local/lib/python2.7/site-packages/sklearn/tree/tree.pyc\u001b[0m in \u001b[0;36mfit\u001b[0;34m(self, X, y, sample_mask, X_argsorted, check_input, sample_weight)\u001b[0m\n\u001b[1;32m    265\u001b[0m                                            max_leaf_nodes)\n\u001b[1;32m    266\u001b[0m \u001b[0;34m\u001b[0m\u001b[0m\n\u001b[0;32m--> 267\u001b[0;31m         \u001b[0mbuilder\u001b[0m\u001b[0;34m.\u001b[0m\u001b[0mbuild\u001b[0m\u001b[0;34m(\u001b[0m\u001b[0mself\u001b[0m\u001b[0;34m.\u001b[0m\u001b[0mtree_\u001b[0m\u001b[0;34m,\u001b[0m \u001b[0mX\u001b[0m\u001b[0;34m,\u001b[0m \u001b[0my\u001b[0m\u001b[0;34m,\u001b[0m \u001b[0msample_weight\u001b[0m\u001b[0;34m)\u001b[0m\u001b[0;34m\u001b[0m\u001b[0m\n\u001b[0m\u001b[1;32m    268\u001b[0m \u001b[0;34m\u001b[0m\u001b[0m\n\u001b[1;32m    269\u001b[0m         \u001b[0;32mif\u001b[0m \u001b[0mself\u001b[0m\u001b[0;34m.\u001b[0m\u001b[0mn_outputs_\u001b[0m \u001b[0;34m==\u001b[0m \u001b[0;36m1\u001b[0m\u001b[0;34m:\u001b[0m\u001b[0;34m\u001b[0m\u001b[0m\n",
        "\u001b[0;31mKeyboardInterrupt\u001b[0m: "
       ]
      }
     ],
     "prompt_number": 8
    },
    {
     "cell_type": "code",
     "collapsed": false,
     "input": [
      "result_random.best_estimator_"
     ],
     "language": "python",
     "metadata": {},
     "outputs": []
    },
    {
     "cell_type": "code",
     "collapsed": false,
     "input": [
      "clf = AdaBoostClassifier(algorithm='SAMME.R',\n",
      "          base_estimator=DecisionTreeClassifier(compute_importances=None, criterion='gini',\n",
      "            max_depth=8, max_features=None, max_leaf_nodes=None,\n",
      "            min_density=None, min_samples_leaf=1, min_samples_split=2,\n",
      "            random_state=None, splitter='best'),\n",
      "          learning_rate=0.40000000000000002, n_estimators=480,\n",
      "          random_state=None)\n",
      "pred = classifier.fit(X, t).predict(testdf)"
     ],
     "language": "python",
     "metadata": {},
     "outputs": []
    },
    {
     "cell_type": "code",
     "collapsed": false,
     "input": [
      "accuracy = sum(pd.Series(pred) & t) / float(len(testdf))\n",
      "print (accuracy)"
     ],
     "language": "python",
     "metadata": {},
     "outputs": []
    },
    {
     "cell_type": "code",
     "collapsed": false,
     "input": [
      "filename = \"submission3.csv\"\n",
      "pd.DataFrame(pred, testdf.index).to_csv(filename, index_label = 'Id', header = ['Prediction'])"
     ],
     "language": "python",
     "metadata": {},
     "outputs": []
    },
    {
     "cell_type": "markdown",
     "metadata": {},
     "source": [
      "New Stuff"
     ]
    },
    {
     "cell_type": "code",
     "collapsed": false,
     "input": [
      "from sklearn.ensemble import RandomForestClassifier"
     ],
     "language": "python",
     "metadata": {},
     "outputs": [],
     "prompt_number": 10
    },
    {
     "cell_type": "code",
     "collapsed": false,
     "input": [
      "# specify parameters and distributions to sample from\n",
      "param_dist = {'criterion':['gini','entropy'],\n",
      "                'n_estimators': np.arange(30, 1000, 5)}\n",
      "\n",
      "# run randomized search\n",
      "n_iter_search = 50\n",
      "clf = RandomForestClassifier(verbose = 1,\n",
      "                             max_features=None,\n",
      "                             oob_score=True,\n",
      "                             bootstrap = True)\n",
      "random_search_forest = RandomizedSearchCV(clf, param_distributions=param_dist,\n",
      "                                   n_iter=n_iter_search, )"
     ],
     "language": "python",
     "metadata": {},
     "outputs": [],
     "prompt_number": 20
    },
    {
     "cell_type": "code",
     "collapsed": false,
     "input": [
      "result_random_search_rf = random_search_forest.fit(X, t)"
     ],
     "language": "python",
     "metadata": {},
     "outputs": [
      {
       "output_type": "stream",
       "stream": "stderr",
       "text": [
        "[Parallel(n_jobs=1)]: Done   1 jobs       | elapsed:   55.5s\n",
        "[Parallel(n_jobs=1)]: Done   1 out of   1 | elapsed:   55.5s finished\n",
        "[Parallel(n_jobs=1)]: Done   1 jobs       | elapsed:    0.0s\n"
       ]
      },
      {
       "output_type": "stream",
       "stream": "stderr",
       "text": [
        "[Parallel(n_jobs=1)]: Done   1 out of   1 | elapsed:    0.0s finished\n",
        "[Parallel(n_jobs=1)]: Done   1 jobs       | elapsed:   49.7s\n"
       ]
      },
      {
       "output_type": "stream",
       "stream": "stderr",
       "text": [
        "[Parallel(n_jobs=1)]: Done   1 out of   1 | elapsed:   49.7s finished\n",
        "[Parallel(n_jobs=1)]: Done   1 jobs       | elapsed:    0.0s\n"
       ]
      },
      {
       "output_type": "stream",
       "stream": "stderr",
       "text": [
        "[Parallel(n_jobs=1)]: Done   1 out of   1 | elapsed:    0.0s finished\n",
        "[Parallel(n_jobs=1)]: Done   1 jobs       | elapsed:   48.8s\n"
       ]
      },
      {
       "output_type": "stream",
       "stream": "stderr",
       "text": [
        "[Parallel(n_jobs=1)]: Done   1 out of   1 | elapsed:   48.8s finished\n",
        "[Parallel(n_jobs=1)]: Done   1 jobs       | elapsed:    0.0s\n"
       ]
      },
      {
       "output_type": "stream",
       "stream": "stderr",
       "text": [
        "[Parallel(n_jobs=1)]: Done   1 out of   1 | elapsed:    0.0s finished\n",
        "[Parallel(n_jobs=1)]: Done   1 jobs       | elapsed:  2.5min\n"
       ]
      },
      {
       "output_type": "stream",
       "stream": "stderr",
       "text": [
        "[Parallel(n_jobs=1)]: Done   1 out of   1 | elapsed:  2.5min finished\n",
        "[Parallel(n_jobs=1)]: Done   1 jobs       | elapsed:    0.1s\n"
       ]
      },
      {
       "output_type": "stream",
       "stream": "stderr",
       "text": [
        "[Parallel(n_jobs=1)]: Done   1 out of   1 | elapsed:    0.1s finished\n",
        "[Parallel(n_jobs=1)]: Done   1 jobs       | elapsed:  2.2min\n"
       ]
      },
      {
       "output_type": "stream",
       "stream": "stderr",
       "text": [
        "[Parallel(n_jobs=1)]: Done   1 out of   1 | elapsed:  2.2min finished\n",
        "[Parallel(n_jobs=1)]: Done   1 jobs       | elapsed:    0.1s\n"
       ]
      },
      {
       "output_type": "stream",
       "stream": "stderr",
       "text": [
        "[Parallel(n_jobs=1)]: Done   1 out of   1 | elapsed:    0.1s finished\n",
        "[Parallel(n_jobs=1)]: Done   1 jobs       | elapsed:  2.3min\n"
       ]
      },
      {
       "output_type": "stream",
       "stream": "stderr",
       "text": [
        "[Parallel(n_jobs=1)]: Done   1 out of   1 | elapsed:  2.3min finished\n",
        "[Parallel(n_jobs=1)]: Done   1 jobs       | elapsed:    0.1s\n"
       ]
      },
      {
       "output_type": "stream",
       "stream": "stderr",
       "text": [
        "[Parallel(n_jobs=1)]: Done   1 out of   1 | elapsed:    0.1s finished\n",
        "[Parallel(n_jobs=1)]: Done   1 jobs       | elapsed:  2.0min\n"
       ]
      },
      {
       "output_type": "stream",
       "stream": "stderr",
       "text": [
        "[Parallel(n_jobs=1)]: Done   1 out of   1 | elapsed:  2.0min finished\n",
        "[Parallel(n_jobs=1)]: Done   1 jobs       | elapsed:    0.1s\n"
       ]
      },
      {
       "output_type": "stream",
       "stream": "stderr",
       "text": [
        "[Parallel(n_jobs=1)]: Done   1 out of   1 | elapsed:    0.1s finished\n",
        "[Parallel(n_jobs=1)]: Done   1 jobs       | elapsed:  1.8min\n"
       ]
      },
      {
       "output_type": "stream",
       "stream": "stderr",
       "text": [
        "[Parallel(n_jobs=1)]: Done   1 out of   1 | elapsed:  1.8min finished\n",
        "[Parallel(n_jobs=1)]: Done   1 jobs       | elapsed:    0.1s\n"
       ]
      },
      {
       "output_type": "stream",
       "stream": "stderr",
       "text": [
        "[Parallel(n_jobs=1)]: Done   1 out of   1 | elapsed:    0.1s finished\n",
        "[Parallel(n_jobs=1)]: Done   1 jobs       | elapsed:  1.8min\n"
       ]
      },
      {
       "output_type": "stream",
       "stream": "stderr",
       "text": [
        "[Parallel(n_jobs=1)]: Done   1 out of   1 | elapsed:  1.8min finished\n",
        "[Parallel(n_jobs=1)]: Done   1 jobs       | elapsed:    0.1s\n"
       ]
      },
      {
       "output_type": "stream",
       "stream": "stderr",
       "text": [
        "[Parallel(n_jobs=1)]: Done   1 out of   1 | elapsed:    0.1s finished\n",
        "[Parallel(n_jobs=1)]: Done   1 jobs       | elapsed:  1.5min\n"
       ]
      },
      {
       "output_type": "stream",
       "stream": "stderr",
       "text": [
        "[Parallel(n_jobs=1)]: Done   1 out of   1 | elapsed:  1.5min finished\n",
        "[Parallel(n_jobs=1)]: Done   1 jobs       | elapsed:    0.1s\n"
       ]
      },
      {
       "output_type": "stream",
       "stream": "stderr",
       "text": [
        "[Parallel(n_jobs=1)]: Done   1 out of   1 | elapsed:    0.1s finished\n",
        "[Parallel(n_jobs=1)]: Done   1 jobs       | elapsed:  1.5min\n"
       ]
      },
      {
       "output_type": "stream",
       "stream": "stderr",
       "text": [
        "[Parallel(n_jobs=1)]: Done   1 out of   1 | elapsed:  1.5min finished\n",
        "[Parallel(n_jobs=1)]: Done   1 jobs       | elapsed:    0.1s\n"
       ]
      },
      {
       "output_type": "stream",
       "stream": "stderr",
       "text": [
        "[Parallel(n_jobs=1)]: Done   1 out of   1 | elapsed:    0.1s finished\n",
        "[Parallel(n_jobs=1)]: Done   1 jobs       | elapsed:  1.5min\n"
       ]
      },
      {
       "output_type": "stream",
       "stream": "stderr",
       "text": [
        "[Parallel(n_jobs=1)]: Done   1 out of   1 | elapsed:  1.5min finished\n",
        "[Parallel(n_jobs=1)]: Done   1 jobs       | elapsed:    0.1s\n"
       ]
      },
      {
       "output_type": "stream",
       "stream": "stderr",
       "text": [
        "[Parallel(n_jobs=1)]: Done   1 out of   1 | elapsed:    0.1s finished\n",
        "[Parallel(n_jobs=1)]: Done   1 jobs       | elapsed:  6.4min\n"
       ]
      },
      {
       "output_type": "stream",
       "stream": "stderr",
       "text": [
        "[Parallel(n_jobs=1)]: Done   1 out of   1 | elapsed:  6.4min finished\n",
        "[Parallel(n_jobs=1)]: Done   1 jobs       | elapsed:    0.2s\n"
       ]
      },
      {
       "output_type": "stream",
       "stream": "stderr",
       "text": [
        "[Parallel(n_jobs=1)]: Done   1 out of   1 | elapsed:    0.2s finished\n",
        "[Parallel(n_jobs=1)]: Done   1 jobs       | elapsed:  5.7min\n"
       ]
      },
      {
       "output_type": "stream",
       "stream": "stderr",
       "text": [
        "[Parallel(n_jobs=1)]: Done   1 out of   1 | elapsed:  5.7min finished\n",
        "[Parallel(n_jobs=1)]: Done   1 jobs       | elapsed:    0.2s\n"
       ]
      },
      {
       "output_type": "stream",
       "stream": "stderr",
       "text": [
        "[Parallel(n_jobs=1)]: Done   1 out of   1 | elapsed:    0.2s finished\n",
        "[Parallel(n_jobs=1)]: Done   1 jobs       | elapsed:  5.7min\n"
       ]
      },
      {
       "output_type": "stream",
       "stream": "stderr",
       "text": [
        "[Parallel(n_jobs=1)]: Done   1 out of   1 | elapsed:  5.7min finished\n",
        "[Parallel(n_jobs=1)]: Done   1 jobs       | elapsed:    0.2s\n"
       ]
      },
      {
       "output_type": "stream",
       "stream": "stderr",
       "text": [
        "[Parallel(n_jobs=1)]: Done   1 out of   1 | elapsed:    0.2s finished\n",
        "[Parallel(n_jobs=1)]: Done   1 jobs       | elapsed:   35.5s\n"
       ]
      },
      {
       "output_type": "stream",
       "stream": "stderr",
       "text": [
        "[Parallel(n_jobs=1)]: Done   1 out of   1 | elapsed:   35.5s finished\n",
        "[Parallel(n_jobs=1)]: Done   1 jobs       | elapsed:    0.0s\n"
       ]
      },
      {
       "output_type": "stream",
       "stream": "stderr",
       "text": [
        "[Parallel(n_jobs=1)]: Done   1 out of   1 | elapsed:    0.0s finished\n",
        "[Parallel(n_jobs=1)]: Done   1 jobs       | elapsed:   35.0s\n"
       ]
      },
      {
       "output_type": "stream",
       "stream": "stderr",
       "text": [
        "[Parallel(n_jobs=1)]: Done   1 out of   1 | elapsed:   35.0s finished\n",
        "[Parallel(n_jobs=1)]: Done   1 jobs       | elapsed:    0.0s\n"
       ]
      },
      {
       "output_type": "stream",
       "stream": "stderr",
       "text": [
        "[Parallel(n_jobs=1)]: Done   1 out of   1 | elapsed:    0.0s finished\n",
        "[Parallel(n_jobs=1)]: Done   1 jobs       | elapsed:   35.8s\n"
       ]
      },
      {
       "output_type": "stream",
       "stream": "stderr",
       "text": [
        "[Parallel(n_jobs=1)]: Done   1 out of   1 | elapsed:   35.8s finished\n",
        "[Parallel(n_jobs=1)]: Done   1 jobs       | elapsed:    0.0s\n"
       ]
      },
      {
       "output_type": "stream",
       "stream": "stderr",
       "text": [
        "[Parallel(n_jobs=1)]: Done   1 out of   1 | elapsed:    0.0s finished\n",
        "[Parallel(n_jobs=1)]: Done   1 jobs       | elapsed:  4.7min\n"
       ]
      },
      {
       "output_type": "stream",
       "stream": "stderr",
       "text": [
        "[Parallel(n_jobs=1)]: Done   1 out of   1 | elapsed:  4.7min finished\n",
        "[Parallel(n_jobs=1)]: Done   1 jobs       | elapsed:    0.2s\n"
       ]
      },
      {
       "output_type": "stream",
       "stream": "stderr",
       "text": [
        "[Parallel(n_jobs=1)]: Done   1 out of   1 | elapsed:    0.2s finished\n",
        "[Parallel(n_jobs=1)]: Done   1 jobs       | elapsed:  3.9min\n"
       ]
      },
      {
       "output_type": "stream",
       "stream": "stderr",
       "text": [
        "[Parallel(n_jobs=1)]: Done   1 out of   1 | elapsed:  3.9min finished\n",
        "[Parallel(n_jobs=1)]: Done   1 jobs       | elapsed:    0.2s\n"
       ]
      },
      {
       "output_type": "stream",
       "stream": "stderr",
       "text": [
        "[Parallel(n_jobs=1)]: Done   1 out of   1 | elapsed:    0.2s finished\n",
        "[Parallel(n_jobs=1)]: Done   1 jobs       | elapsed:  4.1min\n"
       ]
      },
      {
       "output_type": "stream",
       "stream": "stderr",
       "text": [
        "[Parallel(n_jobs=1)]: Done   1 out of   1 | elapsed:  4.1min finished\n",
        "[Parallel(n_jobs=1)]: Done   1 jobs       | elapsed:    0.2s\n"
       ]
      },
      {
       "output_type": "stream",
       "stream": "stderr",
       "text": [
        "[Parallel(n_jobs=1)]: Done   1 out of   1 | elapsed:    0.2s finished\n",
        "[Parallel(n_jobs=1)]: Done   1 jobs       | elapsed:  4.9min\n"
       ]
      },
      {
       "output_type": "stream",
       "stream": "stderr",
       "text": [
        "[Parallel(n_jobs=1)]: Done   1 out of   1 | elapsed:  4.9min finished\n",
        "[Parallel(n_jobs=1)]: Done   1 jobs       | elapsed:    0.2s\n"
       ]
      },
      {
       "output_type": "stream",
       "stream": "stderr",
       "text": [
        "[Parallel(n_jobs=1)]: Done   1 out of   1 | elapsed:    0.2s finished\n",
        "[Parallel(n_jobs=1)]: Done   1 jobs       | elapsed:  4.9min\n"
       ]
      },
      {
       "output_type": "stream",
       "stream": "stderr",
       "text": [
        "[Parallel(n_jobs=1)]: Done   1 out of   1 | elapsed:  4.9min finished\n",
        "[Parallel(n_jobs=1)]: Done   1 jobs       | elapsed:    0.2s\n"
       ]
      },
      {
       "output_type": "stream",
       "stream": "stderr",
       "text": [
        "[Parallel(n_jobs=1)]: Done   1 out of   1 | elapsed:    0.2s finished\n",
        "[Parallel(n_jobs=1)]: Done   1 jobs       | elapsed:  5.0min\n"
       ]
      },
      {
       "output_type": "stream",
       "stream": "stderr",
       "text": [
        "[Parallel(n_jobs=1)]: Done   1 out of   1 | elapsed:  5.0min finished\n",
        "[Parallel(n_jobs=1)]: Done   1 jobs       | elapsed:    0.2s\n"
       ]
      },
      {
       "output_type": "stream",
       "stream": "stderr",
       "text": [
        "[Parallel(n_jobs=1)]: Done   1 out of   1 | elapsed:    0.2s finished\n",
        "[Parallel(n_jobs=1)]: Done   1 jobs       | elapsed:  1.1min\n"
       ]
      },
      {
       "output_type": "stream",
       "stream": "stderr",
       "text": [
        "[Parallel(n_jobs=1)]: Done   1 out of   1 | elapsed:  1.1min finished\n",
        "[Parallel(n_jobs=1)]: Done   1 jobs       | elapsed:    0.0s\n"
       ]
      },
      {
       "output_type": "stream",
       "stream": "stderr",
       "text": [
        "[Parallel(n_jobs=1)]: Done   1 out of   1 | elapsed:    0.0s finished\n",
        "[Parallel(n_jobs=1)]: Done   1 jobs       | elapsed:   55.6s\n"
       ]
      },
      {
       "output_type": "stream",
       "stream": "stderr",
       "text": [
        "[Parallel(n_jobs=1)]: Done   1 out of   1 | elapsed:   55.6s finished\n",
        "[Parallel(n_jobs=1)]: Done   1 jobs       | elapsed:    0.0s\n"
       ]
      },
      {
       "output_type": "stream",
       "stream": "stderr",
       "text": [
        "[Parallel(n_jobs=1)]: Done   1 out of   1 | elapsed:    0.0s finished\n",
        "[Parallel(n_jobs=1)]: Done   1 jobs       | elapsed:   57.9s\n"
       ]
      },
      {
       "output_type": "stream",
       "stream": "stderr",
       "text": [
        "[Parallel(n_jobs=1)]: Done   1 out of   1 | elapsed:   57.9s finished\n",
        "[Parallel(n_jobs=1)]: Done   1 jobs       | elapsed:    0.0s\n"
       ]
      },
      {
       "output_type": "stream",
       "stream": "stderr",
       "text": [
        "[Parallel(n_jobs=1)]: Done   1 out of   1 | elapsed:    0.0s finished\n",
        "[Parallel(n_jobs=1)]: Done   1 jobs       | elapsed:  6.0min\n"
       ]
      },
      {
       "output_type": "stream",
       "stream": "stderr",
       "text": [
        "[Parallel(n_jobs=1)]: Done   1 out of   1 | elapsed:  6.0min finished\n",
        "[Parallel(n_jobs=1)]: Done   1 jobs       | elapsed:    0.2s\n"
       ]
      },
      {
       "output_type": "stream",
       "stream": "stderr",
       "text": [
        "[Parallel(n_jobs=1)]: Done   1 out of   1 | elapsed:    0.2s finished\n",
        "[Parallel(n_jobs=1)]: Done   1 jobs       | elapsed:  5.4min\n"
       ]
      },
      {
       "output_type": "stream",
       "stream": "stderr",
       "text": [
        "[Parallel(n_jobs=1)]: Done   1 out of   1 | elapsed:  5.4min finished\n",
        "[Parallel(n_jobs=1)]: Done   1 jobs       | elapsed:    0.2s\n"
       ]
      },
      {
       "output_type": "stream",
       "stream": "stderr",
       "text": [
        "[Parallel(n_jobs=1)]: Done   1 out of   1 | elapsed:    0.2s finished\n",
        "[Parallel(n_jobs=1)]: Done   1 jobs       | elapsed:  5.3min\n"
       ]
      },
      {
       "output_type": "stream",
       "stream": "stderr",
       "text": [
        "[Parallel(n_jobs=1)]: Done   1 out of   1 | elapsed:  5.3min finished\n",
        "[Parallel(n_jobs=1)]: Done   1 jobs       | elapsed:    0.2s\n"
       ]
      },
      {
       "output_type": "stream",
       "stream": "stderr",
       "text": [
        "[Parallel(n_jobs=1)]: Done   1 out of   1 | elapsed:    0.2s finished\n",
        "[Parallel(n_jobs=1)]: Done   1 jobs       | elapsed:   28.4s\n"
       ]
      },
      {
       "output_type": "stream",
       "stream": "stderr",
       "text": [
        "[Parallel(n_jobs=1)]: Done   1 out of   1 | elapsed:   28.4s finished\n",
        "[Parallel(n_jobs=1)]: Done   1 jobs       | elapsed:    0.0s\n"
       ]
      },
      {
       "output_type": "stream",
       "stream": "stderr",
       "text": [
        "[Parallel(n_jobs=1)]: Done   1 out of   1 | elapsed:    0.0s finished\n",
        "[Parallel(n_jobs=1)]: Done   1 jobs       | elapsed:   27.9s\n"
       ]
      },
      {
       "output_type": "stream",
       "stream": "stderr",
       "text": [
        "[Parallel(n_jobs=1)]: Done   1 out of   1 | elapsed:   27.9s finished\n",
        "[Parallel(n_jobs=1)]: Done   1 jobs       | elapsed:    0.0s\n"
       ]
      },
      {
       "output_type": "stream",
       "stream": "stderr",
       "text": [
        "[Parallel(n_jobs=1)]: Done   1 out of   1 | elapsed:    0.0s finished\n",
        "[Parallel(n_jobs=1)]: Done   1 jobs       | elapsed:   28.5s\n"
       ]
      },
      {
       "output_type": "stream",
       "stream": "stderr",
       "text": [
        "[Parallel(n_jobs=1)]: Done   1 out of   1 | elapsed:   28.5s finished\n",
        "[Parallel(n_jobs=1)]: Done   1 jobs       | elapsed:    0.0s\n"
       ]
      },
      {
       "output_type": "stream",
       "stream": "stderr",
       "text": [
        "[Parallel(n_jobs=1)]: Done   1 out of   1 | elapsed:    0.0s finished\n",
        "[Parallel(n_jobs=1)]: Done   1 jobs       | elapsed:   15.5s\n"
       ]
      },
      {
       "output_type": "stream",
       "stream": "stderr",
       "text": [
        "[Parallel(n_jobs=1)]: Done   1 out of   1 | elapsed:   15.5s finished\n",
        "[Parallel(n_jobs=1)]: Done   1 jobs       | elapsed:    0.0s\n"
       ]
      },
      {
       "output_type": "stream",
       "stream": "stderr",
       "text": [
        "[Parallel(n_jobs=1)]: Done   1 out of   1 | elapsed:    0.0s finished\n",
        "[Parallel(n_jobs=1)]: Done   1 jobs       | elapsed:   15.3s\n"
       ]
      },
      {
       "output_type": "stream",
       "stream": "stderr",
       "text": [
        "[Parallel(n_jobs=1)]: Done   1 out of   1 | elapsed:   15.3s finished\n",
        "[Parallel(n_jobs=1)]: Done   1 jobs       | elapsed:    0.0s\n"
       ]
      },
      {
       "output_type": "stream",
       "stream": "stderr",
       "text": [
        "[Parallel(n_jobs=1)]: Done   1 out of   1 | elapsed:    0.0s finished\n",
        "[Parallel(n_jobs=1)]: Done   1 jobs       | elapsed:   16.2s\n"
       ]
      },
      {
       "output_type": "stream",
       "stream": "stderr",
       "text": [
        "[Parallel(n_jobs=1)]: Done   1 out of   1 | elapsed:   16.2s finished\n",
        "[Parallel(n_jobs=1)]: Done   1 jobs       | elapsed:    0.0s\n"
       ]
      },
      {
       "output_type": "stream",
       "stream": "stderr",
       "text": [
        "[Parallel(n_jobs=1)]: Done   1 out of   1 | elapsed:    0.0s finished\n",
        "[Parallel(n_jobs=1)]: Done   1 jobs       | elapsed:  5.5min\n"
       ]
      },
      {
       "output_type": "stream",
       "stream": "stderr",
       "text": [
        "[Parallel(n_jobs=1)]: Done   1 out of   1 | elapsed:  5.5min finished\n",
        "[Parallel(n_jobs=1)]: Done   1 jobs       | elapsed:    0.2s\n"
       ]
      },
      {
       "output_type": "stream",
       "stream": "stderr",
       "text": [
        "[Parallel(n_jobs=1)]: Done   1 out of   1 | elapsed:    0.2s finished\n",
        "[Parallel(n_jobs=1)]: Done   1 jobs       | elapsed:  5.2min\n"
       ]
      },
      {
       "output_type": "stream",
       "stream": "stderr",
       "text": [
        "[Parallel(n_jobs=1)]: Done   1 out of   1 | elapsed:  5.2min finished\n",
        "[Parallel(n_jobs=1)]: Done   1 jobs       | elapsed:    0.2s\n"
       ]
      },
      {
       "output_type": "stream",
       "stream": "stderr",
       "text": [
        "[Parallel(n_jobs=1)]: Done   1 out of   1 | elapsed:    0.2s finished\n",
        "[Parallel(n_jobs=1)]: Done   1 jobs       | elapsed:  5.3min\n"
       ]
      },
      {
       "output_type": "stream",
       "stream": "stderr",
       "text": [
        "[Parallel(n_jobs=1)]: Done   1 out of   1 | elapsed:  5.3min finished\n",
        "[Parallel(n_jobs=1)]: Done   1 jobs       | elapsed:    0.2s\n"
       ]
      },
      {
       "output_type": "stream",
       "stream": "stderr",
       "text": [
        "[Parallel(n_jobs=1)]: Done   1 out of   1 | elapsed:    0.2s finished\n",
        "[Parallel(n_jobs=1)]: Done   1 jobs       | elapsed:  1.9min\n"
       ]
      },
      {
       "output_type": "stream",
       "stream": "stderr",
       "text": [
        "[Parallel(n_jobs=1)]: Done   1 out of   1 | elapsed:  1.9min finished\n",
        "[Parallel(n_jobs=1)]: Done   1 jobs       | elapsed:    0.1s\n"
       ]
      },
      {
       "output_type": "stream",
       "stream": "stderr",
       "text": [
        "[Parallel(n_jobs=1)]: Done   1 out of   1 | elapsed:    0.1s finished\n",
        "[Parallel(n_jobs=1)]: Done   1 jobs       | elapsed:  1.8min\n"
       ]
      },
      {
       "output_type": "stream",
       "stream": "stderr",
       "text": [
        "[Parallel(n_jobs=1)]: Done   1 out of   1 | elapsed:  1.8min finished\n",
        "[Parallel(n_jobs=1)]: Done   1 jobs       | elapsed:    0.1s\n"
       ]
      },
      {
       "output_type": "stream",
       "stream": "stderr",
       "text": [
        "[Parallel(n_jobs=1)]: Done   1 out of   1 | elapsed:    0.1s finished\n",
        "[Parallel(n_jobs=1)]: Done   1 jobs       | elapsed:  1.8min\n"
       ]
      },
      {
       "output_type": "stream",
       "stream": "stderr",
       "text": [
        "[Parallel(n_jobs=1)]: Done   1 out of   1 | elapsed:  1.8min finished\n",
        "[Parallel(n_jobs=1)]: Done   1 jobs       | elapsed:    0.1s\n"
       ]
      },
      {
       "output_type": "stream",
       "stream": "stderr",
       "text": [
        "[Parallel(n_jobs=1)]: Done   1 out of   1 | elapsed:    0.1s finished\n",
        "[Parallel(n_jobs=1)]: Done   1 jobs       | elapsed:  2.8min\n"
       ]
      },
      {
       "output_type": "stream",
       "stream": "stderr",
       "text": [
        "[Parallel(n_jobs=1)]: Done   1 out of   1 | elapsed:  2.8min finished\n",
        "[Parallel(n_jobs=1)]: Done   1 jobs       | elapsed:    0.1s\n"
       ]
      },
      {
       "output_type": "stream",
       "stream": "stderr",
       "text": [
        "[Parallel(n_jobs=1)]: Done   1 out of   1 | elapsed:    0.1s finished\n",
        "[Parallel(n_jobs=1)]: Done   1 jobs       | elapsed:  2.4min\n"
       ]
      },
      {
       "output_type": "stream",
       "stream": "stderr",
       "text": [
        "[Parallel(n_jobs=1)]: Done   1 out of   1 | elapsed:  2.4min finished\n",
        "[Parallel(n_jobs=1)]: Done   1 jobs       | elapsed:    0.1s\n"
       ]
      },
      {
       "output_type": "stream",
       "stream": "stderr",
       "text": [
        "[Parallel(n_jobs=1)]: Done   1 out of   1 | elapsed:    0.1s finished\n",
        "[Parallel(n_jobs=1)]: Done   1 jobs       | elapsed:  2.5min\n"
       ]
      },
      {
       "output_type": "stream",
       "stream": "stderr",
       "text": [
        "[Parallel(n_jobs=1)]: Done   1 out of   1 | elapsed:  2.5min finished\n",
        "[Parallel(n_jobs=1)]: Done   1 jobs       | elapsed:    0.1s\n"
       ]
      },
      {
       "output_type": "stream",
       "stream": "stderr",
       "text": [
        "[Parallel(n_jobs=1)]: Done   1 out of   1 | elapsed:    0.1s finished\n",
        "[Parallel(n_jobs=1)]: Done   1 jobs       | elapsed:  3.6min\n"
       ]
      },
      {
       "output_type": "stream",
       "stream": "stderr",
       "text": [
        "[Parallel(n_jobs=1)]: Done   1 out of   1 | elapsed:  3.6min finished\n",
        "[Parallel(n_jobs=1)]: Done   1 jobs       | elapsed:    0.1s\n"
       ]
      },
      {
       "output_type": "stream",
       "stream": "stderr",
       "text": [
        "[Parallel(n_jobs=1)]: Done   1 out of   1 | elapsed:    0.1s finished\n",
        "[Parallel(n_jobs=1)]: Done   1 jobs       | elapsed:  3.6min\n"
       ]
      },
      {
       "output_type": "stream",
       "stream": "stderr",
       "text": [
        "[Parallel(n_jobs=1)]: Done   1 out of   1 | elapsed:  3.6min finished\n",
        "[Parallel(n_jobs=1)]: Done   1 jobs       | elapsed:    0.1s\n"
       ]
      },
      {
       "output_type": "stream",
       "stream": "stderr",
       "text": [
        "[Parallel(n_jobs=1)]: Done   1 out of   1 | elapsed:    0.1s finished\n",
        "[Parallel(n_jobs=1)]: Done   1 jobs       | elapsed:  3.6min\n"
       ]
      },
      {
       "output_type": "stream",
       "stream": "stderr",
       "text": [
        "[Parallel(n_jobs=1)]: Done   1 out of   1 | elapsed:  3.6min finished\n",
        "[Parallel(n_jobs=1)]: Done   1 jobs       | elapsed:    0.1s\n"
       ]
      },
      {
       "output_type": "stream",
       "stream": "stderr",
       "text": [
        "[Parallel(n_jobs=1)]: Done   1 out of   1 | elapsed:    0.1s finished\n",
        "[Parallel(n_jobs=1)]: Done   1 jobs       | elapsed:  3.7min\n"
       ]
      },
      {
       "output_type": "stream",
       "stream": "stderr",
       "text": [
        "[Parallel(n_jobs=1)]: Done   1 out of   1 | elapsed:  3.7min finished\n",
        "[Parallel(n_jobs=1)]: Done   1 jobs       | elapsed:    0.1s\n"
       ]
      },
      {
       "output_type": "stream",
       "stream": "stderr",
       "text": [
        "[Parallel(n_jobs=1)]: Done   1 out of   1 | elapsed:    0.1s finished\n",
        "[Parallel(n_jobs=1)]: Done   1 jobs       | elapsed:  3.8min\n"
       ]
      },
      {
       "output_type": "stream",
       "stream": "stderr",
       "text": [
        "[Parallel(n_jobs=1)]: Done   1 out of   1 | elapsed:  3.8min finished\n",
        "[Parallel(n_jobs=1)]: Done   1 jobs       | elapsed:    0.1s\n"
       ]
      },
      {
       "output_type": "stream",
       "stream": "stderr",
       "text": [
        "[Parallel(n_jobs=1)]: Done   1 out of   1 | elapsed:    0.1s finished\n",
        "[Parallel(n_jobs=1)]: Done   1 jobs       | elapsed:  3.7min\n"
       ]
      },
      {
       "output_type": "stream",
       "stream": "stderr",
       "text": [
        "[Parallel(n_jobs=1)]: Done   1 out of   1 | elapsed:  3.7min finished\n",
        "[Parallel(n_jobs=1)]: Done   1 jobs       | elapsed:    0.2s\n"
       ]
      },
      {
       "output_type": "stream",
       "stream": "stderr",
       "text": [
        "[Parallel(n_jobs=1)]: Done   1 out of   1 | elapsed:    0.2s finished\n",
        "[Parallel(n_jobs=1)]: Done   1 jobs       | elapsed:  3.4min\n"
       ]
      },
      {
       "output_type": "stream",
       "stream": "stderr",
       "text": [
        "[Parallel(n_jobs=1)]: Done   1 out of   1 | elapsed:  3.4min finished\n",
        "[Parallel(n_jobs=1)]: Done   1 jobs       | elapsed:    0.1s\n"
       ]
      },
      {
       "output_type": "stream",
       "stream": "stderr",
       "text": [
        "[Parallel(n_jobs=1)]: Done   1 out of   1 | elapsed:    0.1s finished\n",
        "[Parallel(n_jobs=1)]: Done   1 jobs       | elapsed:  3.4min\n"
       ]
      },
      {
       "output_type": "stream",
       "stream": "stderr",
       "text": [
        "[Parallel(n_jobs=1)]: Done   1 out of   1 | elapsed:  3.4min finished\n",
        "[Parallel(n_jobs=1)]: Done   1 jobs       | elapsed:    0.1s\n"
       ]
      },
      {
       "output_type": "stream",
       "stream": "stderr",
       "text": [
        "[Parallel(n_jobs=1)]: Done   1 out of   1 | elapsed:    0.1s finished\n",
        "[Parallel(n_jobs=1)]: Done   1 jobs       | elapsed:  3.6min\n"
       ]
      },
      {
       "output_type": "stream",
       "stream": "stderr",
       "text": [
        "[Parallel(n_jobs=1)]: Done   1 out of   1 | elapsed:  3.6min finished\n",
        "[Parallel(n_jobs=1)]: Done   1 jobs       | elapsed:    0.1s\n"
       ]
      },
      {
       "output_type": "stream",
       "stream": "stderr",
       "text": [
        "[Parallel(n_jobs=1)]: Done   1 out of   1 | elapsed:    0.1s finished\n",
        "[Parallel(n_jobs=1)]: Done   1 jobs       | elapsed:  6.1min\n"
       ]
      },
      {
       "output_type": "stream",
       "stream": "stderr",
       "text": [
        "[Parallel(n_jobs=1)]: Done   1 out of   1 | elapsed:  6.1min finished\n",
        "[Parallel(n_jobs=1)]: Done   1 jobs       | elapsed:    0.2s\n"
       ]
      },
      {
       "output_type": "stream",
       "stream": "stderr",
       "text": [
        "[Parallel(n_jobs=1)]: Done   1 out of   1 | elapsed:    0.2s finished\n",
        "[Parallel(n_jobs=1)]: Done   1 jobs       | elapsed:  5.5min\n"
       ]
      },
      {
       "output_type": "stream",
       "stream": "stderr",
       "text": [
        "[Parallel(n_jobs=1)]: Done   1 out of   1 | elapsed:  5.5min finished\n",
        "[Parallel(n_jobs=1)]: Done   1 jobs       | elapsed:    0.2s\n"
       ]
      },
      {
       "output_type": "stream",
       "stream": "stderr",
       "text": [
        "[Parallel(n_jobs=1)]: Done   1 out of   1 | elapsed:    0.2s finished\n",
        "[Parallel(n_jobs=1)]: Done   1 jobs       | elapsed:  5.7min\n"
       ]
      },
      {
       "output_type": "stream",
       "stream": "stderr",
       "text": [
        "[Parallel(n_jobs=1)]: Done   1 out of   1 | elapsed:  5.7min finished\n",
        "[Parallel(n_jobs=1)]: Done   1 jobs       | elapsed:    0.2s\n"
       ]
      },
      {
       "output_type": "stream",
       "stream": "stderr",
       "text": [
        "[Parallel(n_jobs=1)]: Done   1 out of   1 | elapsed:    0.2s finished\n",
        "[Parallel(n_jobs=1)]: Done   1 jobs       | elapsed:  5.6min\n"
       ]
      },
      {
       "output_type": "stream",
       "stream": "stderr",
       "text": [
        "[Parallel(n_jobs=1)]: Done   1 out of   1 | elapsed:  5.6min finished\n",
        "[Parallel(n_jobs=1)]: Done   1 jobs       | elapsed:    0.2s\n"
       ]
      },
      {
       "output_type": "stream",
       "stream": "stderr",
       "text": [
        "[Parallel(n_jobs=1)]: Done   1 out of   1 | elapsed:    0.2s finished\n",
        "[Parallel(n_jobs=1)]: Done   1 jobs       | elapsed:  4.9min\n"
       ]
      },
      {
       "output_type": "stream",
       "stream": "stderr",
       "text": [
        "[Parallel(n_jobs=1)]: Done   1 out of   1 | elapsed:  4.9min finished\n",
        "[Parallel(n_jobs=1)]: Done   1 jobs       | elapsed:    0.2s\n"
       ]
      },
      {
       "output_type": "stream",
       "stream": "stderr",
       "text": [
        "[Parallel(n_jobs=1)]: Done   1 out of   1 | elapsed:    0.2s finished\n",
        "[Parallel(n_jobs=1)]: Done   1 jobs       | elapsed:  4.5min\n"
       ]
      },
      {
       "output_type": "stream",
       "stream": "stderr",
       "text": [
        "[Parallel(n_jobs=1)]: Done   1 out of   1 | elapsed:  4.5min finished\n",
        "[Parallel(n_jobs=1)]: Done   1 jobs       | elapsed:    0.2s\n"
       ]
      },
      {
       "output_type": "stream",
       "stream": "stderr",
       "text": [
        "[Parallel(n_jobs=1)]: Done   1 out of   1 | elapsed:    0.2s finished\n",
        "[Parallel(n_jobs=1)]: Done   1 jobs       | elapsed:   26.8s\n"
       ]
      },
      {
       "output_type": "stream",
       "stream": "stderr",
       "text": [
        "[Parallel(n_jobs=1)]: Done   1 out of   1 | elapsed:   26.8s finished\n",
        "[Parallel(n_jobs=1)]: Done   1 jobs       | elapsed:    0.0s\n"
       ]
      },
      {
       "output_type": "stream",
       "stream": "stderr",
       "text": [
        "[Parallel(n_jobs=1)]: Done   1 out of   1 | elapsed:    0.0s finished\n",
        "[Parallel(n_jobs=1)]: Done   1 jobs       | elapsed:   25.5s\n"
       ]
      },
      {
       "output_type": "stream",
       "stream": "stderr",
       "text": [
        "[Parallel(n_jobs=1)]: Done   1 out of   1 | elapsed:   25.5s finished\n",
        "[Parallel(n_jobs=1)]: Done   1 jobs       | elapsed:    0.0s\n"
       ]
      },
      {
       "output_type": "stream",
       "stream": "stderr",
       "text": [
        "[Parallel(n_jobs=1)]: Done   1 out of   1 | elapsed:    0.0s finished\n",
        "[Parallel(n_jobs=1)]: Done   1 jobs       | elapsed:   26.0s\n"
       ]
      },
      {
       "output_type": "stream",
       "stream": "stderr",
       "text": [
        "[Parallel(n_jobs=1)]: Done   1 out of   1 | elapsed:   26.0s finished\n",
        "[Parallel(n_jobs=1)]: Done   1 jobs       | elapsed:    0.0s\n"
       ]
      },
      {
       "output_type": "stream",
       "stream": "stderr",
       "text": [
        "[Parallel(n_jobs=1)]: Done   1 out of   1 | elapsed:    0.0s finished\n",
        "[Parallel(n_jobs=1)]: Done   1 jobs       | elapsed:  1.7min\n"
       ]
      },
      {
       "output_type": "stream",
       "stream": "stderr",
       "text": [
        "[Parallel(n_jobs=1)]: Done   1 out of   1 | elapsed:  1.7min finished\n",
        "[Parallel(n_jobs=1)]: Done   1 jobs       | elapsed:    0.1s\n"
       ]
      },
      {
       "output_type": "stream",
       "stream": "stderr",
       "text": [
        "[Parallel(n_jobs=1)]: Done   1 out of   1 | elapsed:    0.1s finished\n",
        "[Parallel(n_jobs=1)]: Done   1 jobs       | elapsed:  1.5min\n"
       ]
      },
      {
       "output_type": "stream",
       "stream": "stderr",
       "text": [
        "[Parallel(n_jobs=1)]: Done   1 out of   1 | elapsed:  1.5min finished\n",
        "[Parallel(n_jobs=1)]: Done   1 jobs       | elapsed:    0.1s\n"
       ]
      },
      {
       "output_type": "stream",
       "stream": "stderr",
       "text": [
        "[Parallel(n_jobs=1)]: Done   1 out of   1 | elapsed:    0.1s finished\n",
        "[Parallel(n_jobs=1)]: Done   1 jobs       | elapsed:  1.5min\n"
       ]
      },
      {
       "output_type": "stream",
       "stream": "stderr",
       "text": [
        "[Parallel(n_jobs=1)]: Done   1 out of   1 | elapsed:  1.5min finished\n",
        "[Parallel(n_jobs=1)]: Done   1 jobs       | elapsed:    0.1s\n"
       ]
      },
      {
       "output_type": "stream",
       "stream": "stderr",
       "text": [
        "[Parallel(n_jobs=1)]: Done   1 out of   1 | elapsed:    0.1s finished\n",
        "[Parallel(n_jobs=1)]: Done   1 jobs       | elapsed:  1.2min\n"
       ]
      },
      {
       "output_type": "stream",
       "stream": "stderr",
       "text": [
        "[Parallel(n_jobs=1)]: Done   1 out of   1 | elapsed:  1.2min finished\n",
        "[Parallel(n_jobs=1)]: Done   1 jobs       | elapsed:    0.1s\n"
       ]
      },
      {
       "output_type": "stream",
       "stream": "stderr",
       "text": [
        "[Parallel(n_jobs=1)]: Done   1 out of   1 | elapsed:    0.1s finished\n",
        "[Parallel(n_jobs=1)]: Done   1 jobs       | elapsed:  1.3min\n"
       ]
      },
      {
       "output_type": "stream",
       "stream": "stderr",
       "text": [
        "[Parallel(n_jobs=1)]: Done   1 out of   1 | elapsed:  1.3min finished\n",
        "[Parallel(n_jobs=1)]: Done   1 jobs       | elapsed:    0.1s\n"
       ]
      },
      {
       "output_type": "stream",
       "stream": "stderr",
       "text": [
        "[Parallel(n_jobs=1)]: Done   1 out of   1 | elapsed:    0.1s finished\n",
        "[Parallel(n_jobs=1)]: Done   1 jobs       | elapsed:  1.3min\n"
       ]
      },
      {
       "output_type": "stream",
       "stream": "stderr",
       "text": [
        "[Parallel(n_jobs=1)]: Done   1 out of   1 | elapsed:  1.3min finished\n",
        "[Parallel(n_jobs=1)]: Done   1 jobs       | elapsed:    0.0s\n"
       ]
      },
      {
       "output_type": "stream",
       "stream": "stderr",
       "text": [
        "[Parallel(n_jobs=1)]: Done   1 out of   1 | elapsed:    0.0s finished\n",
        "[Parallel(n_jobs=1)]: Done   1 jobs       | elapsed:  2.9min\n"
       ]
      },
      {
       "output_type": "stream",
       "stream": "stderr",
       "text": [
        "[Parallel(n_jobs=1)]: Done   1 out of   1 | elapsed:  2.9min finished\n",
        "[Parallel(n_jobs=1)]: Done   1 jobs       | elapsed:    0.1s\n"
       ]
      },
      {
       "output_type": "stream",
       "stream": "stderr",
       "text": [
        "[Parallel(n_jobs=1)]: Done   1 out of   1 | elapsed:    0.1s finished\n",
        "[Parallel(n_jobs=1)]: Done   1 jobs       | elapsed:  2.5min\n"
       ]
      },
      {
       "output_type": "stream",
       "stream": "stderr",
       "text": [
        "[Parallel(n_jobs=1)]: Done   1 out of   1 | elapsed:  2.5min finished\n",
        "[Parallel(n_jobs=1)]: Done   1 jobs       | elapsed:    0.1s\n"
       ]
      },
      {
       "output_type": "stream",
       "stream": "stderr",
       "text": [
        "[Parallel(n_jobs=1)]: Done   1 out of   1 | elapsed:    0.1s finished\n",
        "[Parallel(n_jobs=1)]: Done   1 jobs       | elapsed:  2.6min\n"
       ]
      },
      {
       "output_type": "stream",
       "stream": "stderr",
       "text": [
        "[Parallel(n_jobs=1)]: Done   1 out of   1 | elapsed:  2.6min finished\n",
        "[Parallel(n_jobs=1)]: Done   1 jobs       | elapsed:    0.1s\n"
       ]
      },
      {
       "output_type": "stream",
       "stream": "stderr",
       "text": [
        "[Parallel(n_jobs=1)]: Done   1 out of   1 | elapsed:    0.1s finished\n",
        "[Parallel(n_jobs=1)]: Done   1 jobs       | elapsed:  5.9min\n"
       ]
      },
      {
       "output_type": "stream",
       "stream": "stderr",
       "text": [
        "[Parallel(n_jobs=1)]: Done   1 out of   1 | elapsed:  5.9min finished\n",
        "[Parallel(n_jobs=1)]: Done   1 jobs       | elapsed:    0.2s\n"
       ]
      },
      {
       "output_type": "stream",
       "stream": "stderr",
       "text": [
        "[Parallel(n_jobs=1)]: Done   1 out of   1 | elapsed:    0.2s finished\n",
        "[Parallel(n_jobs=1)]: Done   1 jobs       | elapsed:  5.3min\n"
       ]
      },
      {
       "output_type": "stream",
       "stream": "stderr",
       "text": [
        "[Parallel(n_jobs=1)]: Done   1 out of   1 | elapsed:  5.3min finished\n",
        "[Parallel(n_jobs=1)]: Done   1 jobs       | elapsed:    0.2s\n"
       ]
      },
      {
       "output_type": "stream",
       "stream": "stderr",
       "text": [
        "[Parallel(n_jobs=1)]: Done   1 out of   1 | elapsed:    0.2s finished\n",
        "[Parallel(n_jobs=1)]: Done   1 jobs       | elapsed:  5.3min\n"
       ]
      },
      {
       "output_type": "stream",
       "stream": "stderr",
       "text": [
        "[Parallel(n_jobs=1)]: Done   1 out of   1 | elapsed:  5.3min finished\n",
        "[Parallel(n_jobs=1)]: Done   1 jobs       | elapsed:    0.2s\n"
       ]
      },
      {
       "output_type": "stream",
       "stream": "stderr",
       "text": [
        "[Parallel(n_jobs=1)]: Done   1 out of   1 | elapsed:    0.2s finished\n",
        "[Parallel(n_jobs=1)]: Done   1 jobs       | elapsed:  3.4min\n"
       ]
      },
      {
       "output_type": "stream",
       "stream": "stderr",
       "text": [
        "[Parallel(n_jobs=1)]: Done   1 out of   1 | elapsed:  3.4min finished\n",
        "[Parallel(n_jobs=1)]: Done   1 jobs       | elapsed:    0.1s\n"
       ]
      },
      {
       "output_type": "stream",
       "stream": "stderr",
       "text": [
        "[Parallel(n_jobs=1)]: Done   1 out of   1 | elapsed:    0.1s finished\n",
        "[Parallel(n_jobs=1)]: Done   1 jobs       | elapsed:  2.9min\n"
       ]
      },
      {
       "output_type": "stream",
       "stream": "stderr",
       "text": [
        "[Parallel(n_jobs=1)]: Done   1 out of   1 | elapsed:  2.9min finished\n",
        "[Parallel(n_jobs=1)]: Done   1 jobs       | elapsed:    0.1s\n"
       ]
      },
      {
       "output_type": "stream",
       "stream": "stderr",
       "text": [
        "[Parallel(n_jobs=1)]: Done   1 out of   1 | elapsed:    0.1s finished\n",
        "[Parallel(n_jobs=1)]: Done   1 jobs       | elapsed:  2.9min\n"
       ]
      },
      {
       "output_type": "stream",
       "stream": "stderr",
       "text": [
        "[Parallel(n_jobs=1)]: Done   1 out of   1 | elapsed:  2.9min finished\n",
        "[Parallel(n_jobs=1)]: Done   1 jobs       | elapsed:    0.1s\n"
       ]
      },
      {
       "output_type": "stream",
       "stream": "stderr",
       "text": [
        "[Parallel(n_jobs=1)]: Done   1 out of   1 | elapsed:    0.1s finished\n",
        "[Parallel(n_jobs=1)]: Done   1 jobs       | elapsed:  2.9min\n"
       ]
      },
      {
       "output_type": "stream",
       "stream": "stderr",
       "text": [
        "[Parallel(n_jobs=1)]: Done   1 out of   1 | elapsed:  2.9min finished\n",
        "[Parallel(n_jobs=1)]: Done   1 jobs       | elapsed:    0.1s\n"
       ]
      },
      {
       "output_type": "stream",
       "stream": "stderr",
       "text": [
        "[Parallel(n_jobs=1)]: Done   1 out of   1 | elapsed:    0.1s finished\n",
        "[Parallel(n_jobs=1)]: Done   1 jobs       | elapsed:  2.9min\n"
       ]
      },
      {
       "output_type": "stream",
       "stream": "stderr",
       "text": [
        "[Parallel(n_jobs=1)]: Done   1 out of   1 | elapsed:  2.9min finished\n",
        "[Parallel(n_jobs=1)]: Done   1 jobs       | elapsed:    0.1s\n"
       ]
      },
      {
       "output_type": "stream",
       "stream": "stderr",
       "text": [
        "[Parallel(n_jobs=1)]: Done   1 out of   1 | elapsed:    0.1s finished\n",
        "[Parallel(n_jobs=1)]: Done   1 jobs       | elapsed:  2.9min\n"
       ]
      },
      {
       "output_type": "stream",
       "stream": "stderr",
       "text": [
        "[Parallel(n_jobs=1)]: Done   1 out of   1 | elapsed:  2.9min finished\n",
        "[Parallel(n_jobs=1)]: Done   1 jobs       | elapsed:    0.1s\n"
       ]
      },
      {
       "output_type": "stream",
       "stream": "stderr",
       "text": [
        "[Parallel(n_jobs=1)]: Done   1 out of   1 | elapsed:    0.1s finished\n",
        "[Parallel(n_jobs=1)]: Done   1 jobs       | elapsed:  4.2min\n"
       ]
      },
      {
       "output_type": "stream",
       "stream": "stderr",
       "text": [
        "[Parallel(n_jobs=1)]: Done   1 out of   1 | elapsed:  4.2min finished\n",
        "[Parallel(n_jobs=1)]: Done   1 jobs       | elapsed:    0.2s\n"
       ]
      },
      {
       "output_type": "stream",
       "stream": "stderr",
       "text": [
        "[Parallel(n_jobs=1)]: Done   1 out of   1 | elapsed:    0.2s finished\n",
        "[Parallel(n_jobs=1)]: Done   1 jobs       | elapsed:  3.8min\n"
       ]
      },
      {
       "output_type": "stream",
       "stream": "stderr",
       "text": [
        "[Parallel(n_jobs=1)]: Done   1 out of   1 | elapsed:  3.8min finished\n",
        "[Parallel(n_jobs=1)]: Done   1 jobs       | elapsed:    0.1s\n"
       ]
      },
      {
       "output_type": "stream",
       "stream": "stderr",
       "text": [
        "[Parallel(n_jobs=1)]: Done   1 out of   1 | elapsed:    0.1s finished\n",
        "[Parallel(n_jobs=1)]: Done   1 jobs       | elapsed:  3.9min\n"
       ]
      },
      {
       "output_type": "stream",
       "stream": "stderr",
       "text": [
        "[Parallel(n_jobs=1)]: Done   1 out of   1 | elapsed:  3.9min finished\n",
        "[Parallel(n_jobs=1)]: Done   1 jobs       | elapsed:    0.2s\n"
       ]
      },
      {
       "output_type": "stream",
       "stream": "stderr",
       "text": [
        "[Parallel(n_jobs=1)]: Done   1 out of   1 | elapsed:    0.2s finished\n",
        "[Parallel(n_jobs=1)]: Done   1 jobs       | elapsed:   36.6s\n"
       ]
      },
      {
       "output_type": "stream",
       "stream": "stderr",
       "text": [
        "[Parallel(n_jobs=1)]: Done   1 out of   1 | elapsed:   36.6s finished\n",
        "[Parallel(n_jobs=1)]: Done   1 jobs       | elapsed:    0.0s\n"
       ]
      },
      {
       "output_type": "stream",
       "stream": "stderr",
       "text": [
        "[Parallel(n_jobs=1)]: Done   1 out of   1 | elapsed:    0.0s finished\n",
        "[Parallel(n_jobs=1)]: Done   1 jobs       | elapsed:   33.5s\n"
       ]
      },
      {
       "output_type": "stream",
       "stream": "stderr",
       "text": [
        "[Parallel(n_jobs=1)]: Done   1 out of   1 | elapsed:   33.5s finished\n",
        "[Parallel(n_jobs=1)]: Done   1 jobs       | elapsed:    0.0s\n"
       ]
      },
      {
       "output_type": "stream",
       "stream": "stderr",
       "text": [
        "[Parallel(n_jobs=1)]: Done   1 out of   1 | elapsed:    0.0s finished\n",
        "[Parallel(n_jobs=1)]: Done   1 jobs       | elapsed:   34.1s\n"
       ]
      },
      {
       "output_type": "stream",
       "stream": "stderr",
       "text": [
        "[Parallel(n_jobs=1)]: Done   1 out of   1 | elapsed:   34.1s finished\n",
        "[Parallel(n_jobs=1)]: Done   1 jobs       | elapsed:    0.0s\n"
       ]
      },
      {
       "output_type": "stream",
       "stream": "stderr",
       "text": [
        "[Parallel(n_jobs=1)]: Done   1 out of   1 | elapsed:    0.0s finished\n",
        "[Parallel(n_jobs=1)]: Done   1 jobs       | elapsed:  2.2min\n"
       ]
      },
      {
       "output_type": "stream",
       "stream": "stderr",
       "text": [
        "[Parallel(n_jobs=1)]: Done   1 out of   1 | elapsed:  2.2min finished\n",
        "[Parallel(n_jobs=1)]: Done   1 jobs       | elapsed:    0.1s\n"
       ]
      },
      {
       "output_type": "stream",
       "stream": "stderr",
       "text": [
        "[Parallel(n_jobs=1)]: Done   1 out of   1 | elapsed:    0.1s finished\n",
        "[Parallel(n_jobs=1)]: Done   1 jobs       | elapsed:  1.9min\n"
       ]
      },
      {
       "output_type": "stream",
       "stream": "stderr",
       "text": [
        "[Parallel(n_jobs=1)]: Done   1 out of   1 | elapsed:  1.9min finished\n",
        "[Parallel(n_jobs=1)]: Done   1 jobs       | elapsed:    0.1s\n"
       ]
      },
      {
       "output_type": "stream",
       "stream": "stderr",
       "text": [
        "[Parallel(n_jobs=1)]: Done   1 out of   1 | elapsed:    0.1s finished\n",
        "[Parallel(n_jobs=1)]: Done   1 jobs       | elapsed:  2.0min\n"
       ]
      },
      {
       "output_type": "stream",
       "stream": "stderr",
       "text": [
        "[Parallel(n_jobs=1)]: Done   1 out of   1 | elapsed:  2.0min finished\n",
        "[Parallel(n_jobs=1)]: Done   1 jobs       | elapsed:    0.1s\n"
       ]
      },
      {
       "output_type": "stream",
       "stream": "stderr",
       "text": [
        "[Parallel(n_jobs=1)]: Done   1 out of   1 | elapsed:    0.1s finished\n",
        "[Parallel(n_jobs=1)]: Done   1 jobs       | elapsed:  5.9min\n"
       ]
      },
      {
       "output_type": "stream",
       "stream": "stderr",
       "text": [
        "[Parallel(n_jobs=1)]: Done   1 out of   1 | elapsed:  5.9min finished\n",
        "[Parallel(n_jobs=1)]: Done   1 jobs       | elapsed:    0.3s\n"
       ]
      },
      {
       "output_type": "stream",
       "stream": "stderr",
       "text": [
        "[Parallel(n_jobs=1)]: Done   1 out of   1 | elapsed:    0.3s finished\n",
        "[Parallel(n_jobs=1)]: Done   1 jobs       | elapsed:  5.4min\n"
       ]
      },
      {
       "output_type": "stream",
       "stream": "stderr",
       "text": [
        "[Parallel(n_jobs=1)]: Done   1 out of   1 | elapsed:  5.4min finished\n",
        "[Parallel(n_jobs=1)]: Done   1 jobs       | elapsed:    0.2s\n"
       ]
      },
      {
       "output_type": "stream",
       "stream": "stderr",
       "text": [
        "[Parallel(n_jobs=1)]: Done   1 out of   1 | elapsed:    0.2s finished\n",
        "[Parallel(n_jobs=1)]: Done   1 jobs       | elapsed:  5.5min\n"
       ]
      },
      {
       "output_type": "stream",
       "stream": "stderr",
       "text": [
        "[Parallel(n_jobs=1)]: Done   1 out of   1 | elapsed:  5.5min finished\n",
        "[Parallel(n_jobs=1)]: Done   1 jobs       | elapsed:    0.2s\n"
       ]
      },
      {
       "output_type": "stream",
       "stream": "stderr",
       "text": [
        "[Parallel(n_jobs=1)]: Done   1 out of   1 | elapsed:    0.2s finished\n",
        "[Parallel(n_jobs=1)]: Done   1 jobs       | elapsed:  6.1min\n"
       ]
      },
      {
       "output_type": "stream",
       "stream": "stderr",
       "text": [
        "[Parallel(n_jobs=1)]: Done   1 out of   1 | elapsed:  6.1min finished\n",
        "[Parallel(n_jobs=1)]: Done   1 jobs       | elapsed:    0.2s\n"
       ]
      },
      {
       "output_type": "stream",
       "stream": "stderr",
       "text": [
        "[Parallel(n_jobs=1)]: Done   1 out of   1 | elapsed:    0.2s finished\n",
        "[Parallel(n_jobs=1)]: Done   1 jobs       | elapsed:  6.2min\n"
       ]
      },
      {
       "output_type": "stream",
       "stream": "stderr",
       "text": [
        "[Parallel(n_jobs=1)]: Done   1 out of   1 | elapsed:  6.2min finished\n",
        "[Parallel(n_jobs=1)]: Done   1 jobs       | elapsed:    0.2s\n"
       ]
      },
      {
       "output_type": "stream",
       "stream": "stderr",
       "text": [
        "[Parallel(n_jobs=1)]: Done   1 out of   1 | elapsed:    0.2s finished\n",
        "[Parallel(n_jobs=1)]: Done   1 jobs       | elapsed:  6.1min\n"
       ]
      },
      {
       "output_type": "stream",
       "stream": "stderr",
       "text": [
        "[Parallel(n_jobs=1)]: Done   1 out of   1 | elapsed:  6.1min finished\n",
        "[Parallel(n_jobs=1)]: Done   1 jobs       | elapsed:    0.2s\n"
       ]
      },
      {
       "output_type": "stream",
       "stream": "stderr",
       "text": [
        "[Parallel(n_jobs=1)]: Done   1 out of   1 | elapsed:    0.2s finished\n",
        "[Parallel(n_jobs=1)]: Done   1 jobs       | elapsed:  3.4min\n"
       ]
      },
      {
       "output_type": "stream",
       "stream": "stderr",
       "text": [
        "[Parallel(n_jobs=1)]: Done   1 out of   1 | elapsed:  3.4min finished\n",
        "[Parallel(n_jobs=1)]: Done   1 jobs       | elapsed:    0.1s\n"
       ]
      },
      {
       "output_type": "stream",
       "stream": "stderr",
       "text": [
        "[Parallel(n_jobs=1)]: Done   1 out of   1 | elapsed:    0.1s finished\n",
        "[Parallel(n_jobs=1)]: Done   1 jobs       | elapsed:  3.2min\n"
       ]
      },
      {
       "output_type": "stream",
       "stream": "stderr",
       "text": [
        "[Parallel(n_jobs=1)]: Done   1 out of   1 | elapsed:  3.2min finished\n",
        "[Parallel(n_jobs=1)]: Done   1 jobs       | elapsed:    0.1s\n"
       ]
      },
      {
       "output_type": "stream",
       "stream": "stderr",
       "text": [
        "[Parallel(n_jobs=1)]: Done   1 out of   1 | elapsed:    0.1s finished\n",
        "[Parallel(n_jobs=1)]: Done   1 jobs       | elapsed:  3.2min\n"
       ]
      },
      {
       "output_type": "stream",
       "stream": "stderr",
       "text": [
        "[Parallel(n_jobs=1)]: Done   1 out of   1 | elapsed:  3.2min finished\n",
        "[Parallel(n_jobs=1)]: Done   1 jobs       | elapsed:    0.1s\n"
       ]
      },
      {
       "output_type": "stream",
       "stream": "stderr",
       "text": [
        "[Parallel(n_jobs=1)]: Done   1 out of   1 | elapsed:    0.1s finished\n",
        "[Parallel(n_jobs=1)]: Done   1 jobs       | elapsed:  1.1min\n"
       ]
      },
      {
       "output_type": "stream",
       "stream": "stderr",
       "text": [
        "[Parallel(n_jobs=1)]: Done   1 out of   1 | elapsed:  1.1min finished\n",
        "[Parallel(n_jobs=1)]: Done   1 jobs       | elapsed:    0.0s\n"
       ]
      },
      {
       "output_type": "stream",
       "stream": "stderr",
       "text": [
        "[Parallel(n_jobs=1)]: Done   1 out of   1 | elapsed:    0.0s finished\n",
        "[Parallel(n_jobs=1)]: Done   1 jobs       | elapsed:  1.1min\n"
       ]
      },
      {
       "output_type": "stream",
       "stream": "stderr",
       "text": [
        "[Parallel(n_jobs=1)]: Done   1 out of   1 | elapsed:  1.1min finished\n",
        "[Parallel(n_jobs=1)]: Done   1 jobs       | elapsed:    0.0s\n"
       ]
      },
      {
       "output_type": "stream",
       "stream": "stderr",
       "text": [
        "[Parallel(n_jobs=1)]: Done   1 out of   1 | elapsed:    0.0s finished\n",
        "[Parallel(n_jobs=1)]: Done   1 jobs       | elapsed:  1.1min\n"
       ]
      },
      {
       "output_type": "stream",
       "stream": "stderr",
       "text": [
        "[Parallel(n_jobs=1)]: Done   1 out of   1 | elapsed:  1.1min finished\n",
        "[Parallel(n_jobs=1)]: Done   1 jobs       | elapsed:    0.0s\n"
       ]
      },
      {
       "output_type": "stream",
       "stream": "stderr",
       "text": [
        "[Parallel(n_jobs=1)]: Done   1 out of   1 | elapsed:    0.0s finished\n",
        "[Parallel(n_jobs=1)]: Done   1 jobs       | elapsed:  5.5min\n"
       ]
      },
      {
       "output_type": "stream",
       "stream": "stderr",
       "text": [
        "[Parallel(n_jobs=1)]: Done   1 out of   1 | elapsed:  5.5min finished\n",
        "[Parallel(n_jobs=1)]: Done   1 jobs       | elapsed:    0.2s\n"
       ]
      },
      {
       "output_type": "stream",
       "stream": "stderr",
       "text": [
        "[Parallel(n_jobs=1)]: Done   1 out of   1 | elapsed:    0.2s finished\n",
        "[Parallel(n_jobs=1)]: Done   1 jobs       | elapsed:  4.8min\n"
       ]
      },
      {
       "output_type": "stream",
       "stream": "stderr",
       "text": [
        "[Parallel(n_jobs=1)]: Done   1 out of   1 | elapsed:  4.8min finished\n",
        "[Parallel(n_jobs=1)]: Done   1 jobs       | elapsed:    0.2s\n"
       ]
      },
      {
       "output_type": "stream",
       "stream": "stderr",
       "text": [
        "[Parallel(n_jobs=1)]: Done   1 out of   1 | elapsed:    0.2s finished\n",
        "[Parallel(n_jobs=1)]: Done   1 jobs       | elapsed:  4.7min\n"
       ]
      },
      {
       "output_type": "stream",
       "stream": "stderr",
       "text": [
        "[Parallel(n_jobs=1)]: Done   1 out of   1 | elapsed:  4.7min finished\n",
        "[Parallel(n_jobs=1)]: Done   1 jobs       | elapsed:    0.2s\n"
       ]
      },
      {
       "output_type": "stream",
       "stream": "stderr",
       "text": [
        "[Parallel(n_jobs=1)]: Done   1 out of   1 | elapsed:    0.2s finished\n",
        "[Parallel(n_jobs=1)]: Done   1 jobs       | elapsed:  2.4min\n"
       ]
      },
      {
       "output_type": "stream",
       "stream": "stderr",
       "text": [
        "[Parallel(n_jobs=1)]: Done   1 out of   1 | elapsed:  2.4min finished\n",
        "[Parallel(n_jobs=1)]: Done   1 jobs       | elapsed:    0.1s\n"
       ]
      },
      {
       "output_type": "stream",
       "stream": "stderr",
       "text": [
        "[Parallel(n_jobs=1)]: Done   1 out of   1 | elapsed:    0.1s finished\n",
        "[Parallel(n_jobs=1)]: Done   1 jobs       | elapsed:  2.4min\n"
       ]
      },
      {
       "output_type": "stream",
       "stream": "stderr",
       "text": [
        "[Parallel(n_jobs=1)]: Done   1 out of   1 | elapsed:  2.4min finished\n",
        "[Parallel(n_jobs=1)]: Done   1 jobs       | elapsed:    0.1s\n"
       ]
      },
      {
       "output_type": "stream",
       "stream": "stderr",
       "text": [
        "[Parallel(n_jobs=1)]: Done   1 out of   1 | elapsed:    0.1s finished\n",
        "[Parallel(n_jobs=1)]: Done   1 jobs       | elapsed:  2.5min\n"
       ]
      },
      {
       "output_type": "stream",
       "stream": "stderr",
       "text": [
        "[Parallel(n_jobs=1)]: Done   1 out of   1 | elapsed:  2.5min finished\n",
        "[Parallel(n_jobs=1)]: Done   1 jobs       | elapsed:    0.1s\n"
       ]
      },
      {
       "output_type": "stream",
       "stream": "stderr",
       "text": [
        "[Parallel(n_jobs=1)]: Done   1 out of   1 | elapsed:    0.1s finished\n",
        "[Parallel(n_jobs=1)]: Done   1 jobs       | elapsed:  1.9min\n"
       ]
      },
      {
       "output_type": "stream",
       "stream": "stderr",
       "text": [
        "[Parallel(n_jobs=1)]: Done   1 out of   1 | elapsed:  1.9min finished\n",
        "[Parallel(n_jobs=1)]: Done   1 jobs       | elapsed:    0.1s\n"
       ]
      },
      {
       "output_type": "stream",
       "stream": "stderr",
       "text": [
        "[Parallel(n_jobs=1)]: Done   1 out of   1 | elapsed:    0.1s finished\n",
        "[Parallel(n_jobs=1)]: Done   1 jobs       | elapsed:  1.7min\n"
       ]
      },
      {
       "output_type": "stream",
       "stream": "stderr",
       "text": [
        "[Parallel(n_jobs=1)]: Done   1 out of   1 | elapsed:  1.7min finished\n",
        "[Parallel(n_jobs=1)]: Done   1 jobs       | elapsed:    0.1s\n"
       ]
      },
      {
       "output_type": "stream",
       "stream": "stderr",
       "text": [
        "[Parallel(n_jobs=1)]: Done   1 out of   1 | elapsed:    0.1s finished\n",
        "[Parallel(n_jobs=1)]: Done   1 jobs       | elapsed:  1.7min\n"
       ]
      },
      {
       "output_type": "stream",
       "stream": "stderr",
       "text": [
        "[Parallel(n_jobs=1)]: Done   1 out of   1 | elapsed:  1.7min finished\n",
        "[Parallel(n_jobs=1)]: Done   1 jobs       | elapsed:    0.1s\n"
       ]
      },
      {
       "output_type": "stream",
       "stream": "stderr",
       "text": [
        "[Parallel(n_jobs=1)]: Done   1 out of   1 | elapsed:    0.1s finished\n",
        "[Parallel(n_jobs=1)]: Done   1 jobs       | elapsed:  1.5min\n"
       ]
      },
      {
       "output_type": "stream",
       "stream": "stderr",
       "text": [
        "[Parallel(n_jobs=1)]: Done   1 out of   1 | elapsed:  1.5min finished\n",
        "[Parallel(n_jobs=1)]: Done   1 jobs       | elapsed:    0.1s\n"
       ]
      },
      {
       "output_type": "stream",
       "stream": "stderr",
       "text": [
        "[Parallel(n_jobs=1)]: Done   1 out of   1 | elapsed:    0.1s finished\n",
        "[Parallel(n_jobs=1)]: Done   1 jobs       | elapsed:  1.3min\n"
       ]
      },
      {
       "output_type": "stream",
       "stream": "stderr",
       "text": [
        "[Parallel(n_jobs=1)]: Done   1 out of   1 | elapsed:  1.3min finished\n",
        "[Parallel(n_jobs=1)]: Done   1 jobs       | elapsed:    0.1s\n"
       ]
      },
      {
       "output_type": "stream",
       "stream": "stderr",
       "text": [
        "[Parallel(n_jobs=1)]: Done   1 out of   1 | elapsed:    0.1s finished\n",
        "[Parallel(n_jobs=1)]: Done   1 jobs       | elapsed:  1.3min\n"
       ]
      },
      {
       "output_type": "stream",
       "stream": "stderr",
       "text": [
        "[Parallel(n_jobs=1)]: Done   1 out of   1 | elapsed:  1.3min finished\n",
        "[Parallel(n_jobs=1)]: Done   1 jobs       | elapsed:    0.1s\n"
       ]
      },
      {
       "output_type": "stream",
       "stream": "stderr",
       "text": [
        "[Parallel(n_jobs=1)]: Done   1 out of   1 | elapsed:    0.1s finished\n",
        "[Parallel(n_jobs=1)]: Done   1 jobs       | elapsed:  2.5min\n"
       ]
      },
      {
       "output_type": "stream",
       "stream": "stderr",
       "text": [
        "[Parallel(n_jobs=1)]: Done   1 out of   1 | elapsed:  2.5min finished\n",
        "[Parallel(n_jobs=1)]: Done   1 jobs       | elapsed:    0.1s\n"
       ]
      },
      {
       "output_type": "stream",
       "stream": "stderr",
       "text": [
        "[Parallel(n_jobs=1)]: Done   1 out of   1 | elapsed:    0.1s finished\n",
        "[Parallel(n_jobs=1)]: Done   1 jobs       | elapsed:  2.2min\n"
       ]
      },
      {
       "output_type": "stream",
       "stream": "stderr",
       "text": [
        "[Parallel(n_jobs=1)]: Done   1 out of   1 | elapsed:  2.2min finished\n",
        "[Parallel(n_jobs=1)]: Done   1 jobs       | elapsed:    0.1s\n"
       ]
      },
      {
       "output_type": "stream",
       "stream": "stderr",
       "text": [
        "[Parallel(n_jobs=1)]: Done   1 out of   1 | elapsed:    0.1s finished\n",
        "[Parallel(n_jobs=1)]: Done   1 jobs       | elapsed:  2.2min\n"
       ]
      },
      {
       "output_type": "stream",
       "stream": "stderr",
       "text": [
        "[Parallel(n_jobs=1)]: Done   1 out of   1 | elapsed:  2.2min finished\n",
        "[Parallel(n_jobs=1)]: Done   1 jobs       | elapsed:    0.1s\n"
       ]
      },
      {
       "output_type": "stream",
       "stream": "stderr",
       "text": [
        "[Parallel(n_jobs=1)]: Done   1 out of   1 | elapsed:    0.1s finished\n",
        "[Parallel(n_jobs=1)]: Done   1 jobs       | elapsed:   56.6s\n"
       ]
      },
      {
       "output_type": "stream",
       "stream": "stderr",
       "text": [
        "[Parallel(n_jobs=1)]: Done   1 out of   1 | elapsed:   56.6s finished\n",
        "[Parallel(n_jobs=1)]: Done   1 jobs       | elapsed:    0.0s\n"
       ]
      },
      {
       "output_type": "stream",
       "stream": "stderr",
       "text": [
        "[Parallel(n_jobs=1)]: Done   1 out of   1 | elapsed:    0.0s finished\n",
        "[Parallel(n_jobs=1)]: Done   1 jobs       | elapsed:   57.3s\n"
       ]
      },
      {
       "output_type": "stream",
       "stream": "stderr",
       "text": [
        "[Parallel(n_jobs=1)]: Done   1 out of   1 | elapsed:   57.3s finished\n",
        "[Parallel(n_jobs=1)]: Done   1 jobs       | elapsed:    0.0s\n"
       ]
      },
      {
       "output_type": "stream",
       "stream": "stderr",
       "text": [
        "[Parallel(n_jobs=1)]: Done   1 out of   1 | elapsed:    0.0s finished\n",
        "[Parallel(n_jobs=1)]: Done   1 jobs       | elapsed:   56.9s\n"
       ]
      },
      {
       "output_type": "stream",
       "stream": "stderr",
       "text": [
        "[Parallel(n_jobs=1)]: Done   1 out of   1 | elapsed:   56.9s finished\n",
        "[Parallel(n_jobs=1)]: Done   1 jobs       | elapsed:    0.0s\n"
       ]
      },
      {
       "output_type": "stream",
       "stream": "stderr",
       "text": [
        "[Parallel(n_jobs=1)]: Done   1 out of   1 | elapsed:    0.0s finished\n",
        "[Parallel(n_jobs=1)]: Done   1 jobs       | elapsed:   18.8s\n"
       ]
      },
      {
       "output_type": "stream",
       "stream": "stderr",
       "text": [
        "[Parallel(n_jobs=1)]: Done   1 out of   1 | elapsed:   18.8s finished\n",
        "[Parallel(n_jobs=1)]: Done   1 jobs       | elapsed:    0.0s\n"
       ]
      },
      {
       "output_type": "stream",
       "stream": "stderr",
       "text": [
        "[Parallel(n_jobs=1)]: Done   1 out of   1 | elapsed:    0.0s finished\n",
        "[Parallel(n_jobs=1)]: Done   1 jobs       | elapsed:   16.1s\n"
       ]
      },
      {
       "output_type": "stream",
       "stream": "stderr",
       "text": [
        "[Parallel(n_jobs=1)]: Done   1 out of   1 | elapsed:   16.1s finished\n",
        "[Parallel(n_jobs=1)]: Done   1 jobs       | elapsed:    0.0s\n"
       ]
      },
      {
       "output_type": "stream",
       "stream": "stderr",
       "text": [
        "[Parallel(n_jobs=1)]: Done   1 out of   1 | elapsed:    0.0s finished\n",
        "[Parallel(n_jobs=1)]: Done   1 jobs       | elapsed:   16.8s\n"
       ]
      },
      {
       "output_type": "stream",
       "stream": "stderr",
       "text": [
        "[Parallel(n_jobs=1)]: Done   1 out of   1 | elapsed:   16.8s finished\n",
        "[Parallel(n_jobs=1)]: Done   1 jobs       | elapsed:    0.0s\n"
       ]
      },
      {
       "output_type": "stream",
       "stream": "stderr",
       "text": [
        "[Parallel(n_jobs=1)]: Done   1 out of   1 | elapsed:    0.0s finished\n",
        "[Parallel(n_jobs=1)]: Done   1 jobs       | elapsed:  5.1min\n"
       ]
      },
      {
       "output_type": "stream",
       "stream": "stderr",
       "text": [
        "[Parallel(n_jobs=1)]: Done   1 out of   1 | elapsed:  5.1min finished\n",
        "[Parallel(n_jobs=1)]: Done   1 jobs       | elapsed:    0.2s\n"
       ]
      },
      {
       "output_type": "stream",
       "stream": "stderr",
       "text": [
        "[Parallel(n_jobs=1)]: Done   1 out of   1 | elapsed:    0.2s finished\n",
        "[Parallel(n_jobs=1)]: Done   1 jobs       | elapsed:  5.1min\n"
       ]
      },
      {
       "output_type": "stream",
       "stream": "stderr",
       "text": [
        "[Parallel(n_jobs=1)]: Done   1 out of   1 | elapsed:  5.1min finished\n",
        "[Parallel(n_jobs=1)]: Done   1 jobs       | elapsed:    0.2s\n"
       ]
      },
      {
       "output_type": "stream",
       "stream": "stderr",
       "text": [
        "[Parallel(n_jobs=1)]: Done   1 out of   1 | elapsed:    0.2s finished\n",
        "[Parallel(n_jobs=1)]: Done   1 jobs       | elapsed:  5.0min\n"
       ]
      },
      {
       "output_type": "stream",
       "stream": "stderr",
       "text": [
        "[Parallel(n_jobs=1)]: Done   1 out of   1 | elapsed:  5.0min finished\n",
        "[Parallel(n_jobs=1)]: Done   1 jobs       | elapsed:    0.2s\n"
       ]
      },
      {
       "output_type": "stream",
       "stream": "stderr",
       "text": [
        "[Parallel(n_jobs=1)]: Done   1 out of   1 | elapsed:    0.2s finished\n",
        "[Parallel(n_jobs=1)]: Done   1 jobs       | elapsed:  4.9min\n"
       ]
      },
      {
       "output_type": "stream",
       "stream": "stderr",
       "text": [
        "[Parallel(n_jobs=1)]: Done   1 out of   1 | elapsed:  4.9min finished\n",
        "[Parallel(n_jobs=1)]: Done   1 jobs       | elapsed:    0.2s\n"
       ]
      },
      {
       "output_type": "stream",
       "stream": "stderr",
       "text": [
        "[Parallel(n_jobs=1)]: Done   1 out of   1 | elapsed:    0.2s finished\n",
        "[Parallel(n_jobs=1)]: Done   1 jobs       | elapsed:  4.9min\n"
       ]
      },
      {
       "output_type": "stream",
       "stream": "stderr",
       "text": [
        "[Parallel(n_jobs=1)]: Done   1 out of   1 | elapsed:  4.9min finished\n",
        "[Parallel(n_jobs=1)]: Done   1 jobs       | elapsed:    0.2s\n"
       ]
      },
      {
       "output_type": "stream",
       "stream": "stderr",
       "text": [
        "[Parallel(n_jobs=1)]: Done   1 out of   1 | elapsed:    0.2s finished\n",
        "[Parallel(n_jobs=1)]: Done   1 jobs       | elapsed:  4.9min\n"
       ]
      },
      {
       "output_type": "stream",
       "stream": "stderr",
       "text": [
        "[Parallel(n_jobs=1)]: Done   1 out of   1 | elapsed:  4.9min finished\n",
        "[Parallel(n_jobs=1)]: Done   1 jobs       | elapsed:    0.2s\n"
       ]
      },
      {
       "output_type": "stream",
       "stream": "stderr",
       "text": [
        "[Parallel(n_jobs=1)]: Done   1 out of   1 | elapsed:    0.2s finished\n",
        "[Parallel(n_jobs=1)]: Done   1 jobs       | elapsed:  3.6min\n"
       ]
      },
      {
       "output_type": "stream",
       "stream": "stderr",
       "text": [
        "[Parallel(n_jobs=1)]: Done   1 out of   1 | elapsed:  3.6min finished\n",
        "[Parallel(n_jobs=1)]: Done   1 jobs       | elapsed:    0.1s\n"
       ]
      },
      {
       "output_type": "stream",
       "stream": "stderr",
       "text": [
        "[Parallel(n_jobs=1)]: Done   1 out of   1 | elapsed:    0.1s finished\n",
        "[Parallel(n_jobs=1)]: Done   1 jobs       | elapsed:  3.6min\n"
       ]
      },
      {
       "output_type": "stream",
       "stream": "stderr",
       "text": [
        "[Parallel(n_jobs=1)]: Done   1 out of   1 | elapsed:  3.6min finished\n",
        "[Parallel(n_jobs=1)]: Done   1 jobs       | elapsed:    0.1s\n"
       ]
      },
      {
       "output_type": "stream",
       "stream": "stderr",
       "text": [
        "[Parallel(n_jobs=1)]: Done   1 out of   1 | elapsed:    0.1s finished\n",
        "[Parallel(n_jobs=1)]: Done   1 jobs       | elapsed:  3.7min\n"
       ]
      },
      {
       "output_type": "stream",
       "stream": "stderr",
       "text": [
        "[Parallel(n_jobs=1)]: Done   1 out of   1 | elapsed:  3.7min finished\n",
        "[Parallel(n_jobs=1)]: Done   1 jobs       | elapsed:    0.1s\n"
       ]
      },
      {
       "output_type": "stream",
       "stream": "stderr",
       "text": [
        "[Parallel(n_jobs=1)]: Done   1 out of   1 | elapsed:    0.1s finished\n",
        "[Parallel(n_jobs=1)]: Done   1 jobs       | elapsed:  1.3min\n"
       ]
      },
      {
       "output_type": "stream",
       "stream": "stderr",
       "text": [
        "[Parallel(n_jobs=1)]: Done   1 out of   1 | elapsed:  1.3min finished\n",
        "[Parallel(n_jobs=1)]: Done   1 jobs       | elapsed:    0.0s\n"
       ]
      },
      {
       "output_type": "stream",
       "stream": "stderr",
       "text": [
        "[Parallel(n_jobs=1)]: Done   1 out of   1 | elapsed:    0.0s finished\n",
        "[Parallel(n_jobs=1)]: Done   1 jobs       | elapsed:  1.2min\n"
       ]
      },
      {
       "output_type": "stream",
       "stream": "stderr",
       "text": [
        "[Parallel(n_jobs=1)]: Done   1 out of   1 | elapsed:  1.2min finished\n",
        "[Parallel(n_jobs=1)]: Done   1 jobs       | elapsed:    0.0s\n"
       ]
      },
      {
       "output_type": "stream",
       "stream": "stderr",
       "text": [
        "[Parallel(n_jobs=1)]: Done   1 out of   1 | elapsed:    0.0s finished\n",
        "[Parallel(n_jobs=1)]: Done   1 jobs       | elapsed:  1.2min\n"
       ]
      },
      {
       "output_type": "stream",
       "stream": "stderr",
       "text": [
        "[Parallel(n_jobs=1)]: Done   1 out of   1 | elapsed:  1.2min finished\n",
        "[Parallel(n_jobs=1)]: Done   1 jobs       | elapsed:    0.0s\n"
       ]
      },
      {
       "output_type": "stream",
       "stream": "stderr",
       "text": [
        "[Parallel(n_jobs=1)]: Done   1 out of   1 | elapsed:    0.0s finished\n",
        "[Parallel(n_jobs=1)]: Done   1 jobs       | elapsed:  5.1min\n"
       ]
      },
      {
       "output_type": "stream",
       "stream": "stderr",
       "text": [
        "[Parallel(n_jobs=1)]: Done   1 out of   1 | elapsed:  5.1min finished\n",
        "[Parallel(n_jobs=1)]: Done   1 jobs       | elapsed:    0.2s\n"
       ]
      },
      {
       "output_type": "stream",
       "stream": "stderr",
       "text": [
        "[Parallel(n_jobs=1)]: Done   1 out of   1 | elapsed:    0.2s finished\n",
        "[Parallel(n_jobs=1)]: Done   1 jobs       | elapsed:  4.6min\n"
       ]
      },
      {
       "output_type": "stream",
       "stream": "stderr",
       "text": [
        "[Parallel(n_jobs=1)]: Done   1 out of   1 | elapsed:  4.6min finished\n",
        "[Parallel(n_jobs=1)]: Done   1 jobs       | elapsed:    0.2s\n"
       ]
      },
      {
       "output_type": "stream",
       "stream": "stderr",
       "text": [
        "[Parallel(n_jobs=1)]: Done   1 out of   1 | elapsed:    0.2s finished\n",
        "[Parallel(n_jobs=1)]: Done   1 jobs       | elapsed:  4.6min\n"
       ]
      },
      {
       "output_type": "stream",
       "stream": "stderr",
       "text": [
        "[Parallel(n_jobs=1)]: Done   1 out of   1 | elapsed:  4.6min finished\n",
        "[Parallel(n_jobs=1)]: Done   1 jobs       | elapsed:    0.2s\n"
       ]
      },
      {
       "output_type": "stream",
       "stream": "stderr",
       "text": [
        "[Parallel(n_jobs=1)]: Done   1 out of   1 | elapsed:    0.2s finished\n",
        "[Parallel(n_jobs=1)]: Done   1 jobs       | elapsed:  2.5min\n"
       ]
      },
      {
       "output_type": "stream",
       "stream": "stderr",
       "text": [
        "[Parallel(n_jobs=1)]: Done   1 out of   1 | elapsed:  2.5min finished\n",
        "[Parallel(n_jobs=1)]: Done   1 jobs       | elapsed:    0.1s\n"
       ]
      },
      {
       "output_type": "stream",
       "stream": "stderr",
       "text": [
        "[Parallel(n_jobs=1)]: Done   1 out of   1 | elapsed:    0.1s finished\n",
        "[Parallel(n_jobs=1)]: Done   1 jobs       | elapsed:  2.2min\n"
       ]
      },
      {
       "output_type": "stream",
       "stream": "stderr",
       "text": [
        "[Parallel(n_jobs=1)]: Done   1 out of   1 | elapsed:  2.2min finished\n",
        "[Parallel(n_jobs=1)]: Done   1 jobs       | elapsed:    0.1s\n"
       ]
      },
      {
       "output_type": "stream",
       "stream": "stderr",
       "text": [
        "[Parallel(n_jobs=1)]: Done   1 out of   1 | elapsed:    0.1s finished\n",
        "[Parallel(n_jobs=1)]: Done   1 jobs       | elapsed:  2.2min\n"
       ]
      },
      {
       "output_type": "stream",
       "stream": "stderr",
       "text": [
        "[Parallel(n_jobs=1)]: Done   1 out of   1 | elapsed:  2.2min finished\n",
        "[Parallel(n_jobs=1)]: Done   1 jobs       | elapsed:    0.1s\n"
       ]
      },
      {
       "output_type": "stream",
       "stream": "stderr",
       "text": [
        "[Parallel(n_jobs=1)]: Done   1 out of   1 | elapsed:    0.1s finished\n",
        "[Parallel(n_jobs=1)]: Done   1 jobs       | elapsed:  3.9min\n"
       ]
      },
      {
       "output_type": "stream",
       "stream": "stderr",
       "text": [
        "[Parallel(n_jobs=1)]: Done   1 out of   1 | elapsed:  3.9min finished\n",
        "[Parallel(n_jobs=1)]: Done   1 jobs       | elapsed:    0.1s\n"
       ]
      },
      {
       "output_type": "stream",
       "stream": "stderr",
       "text": [
        "[Parallel(n_jobs=1)]: Done   1 out of   1 | elapsed:    0.1s finished\n",
        "[Parallel(n_jobs=1)]: Done   1 jobs       | elapsed:  4.0min\n"
       ]
      },
      {
       "output_type": "stream",
       "stream": "stderr",
       "text": [
        "[Parallel(n_jobs=1)]: Done   1 out of   1 | elapsed:  4.0min finished\n",
        "[Parallel(n_jobs=1)]: Done   1 jobs       | elapsed:    0.1s\n"
       ]
      },
      {
       "output_type": "stream",
       "stream": "stderr",
       "text": [
        "[Parallel(n_jobs=1)]: Done   1 out of   1 | elapsed:    0.1s finished\n",
        "[Parallel(n_jobs=1)]: Done   1 jobs       | elapsed:  4.0min\n"
       ]
      },
      {
       "output_type": "stream",
       "stream": "stderr",
       "text": [
        "[Parallel(n_jobs=1)]: Done   1 out of   1 | elapsed:  4.0min finished\n",
        "[Parallel(n_jobs=1)]: Done   1 jobs       | elapsed:    0.1s\n"
       ]
      },
      {
       "output_type": "stream",
       "stream": "stderr",
       "text": [
        "[Parallel(n_jobs=1)]: Done   1 out of   1 | elapsed:    0.1s finished\n",
        "[Parallel(n_jobs=1)]: Done   1 jobs       | elapsed:   15.2s\n"
       ]
      },
      {
       "output_type": "stream",
       "stream": "stderr",
       "text": [
        "[Parallel(n_jobs=1)]: Done   1 out of   1 | elapsed:   15.2s finished\n",
        "[Parallel(n_jobs=1)]: Done   1 jobs       | elapsed:    0.0s\n"
       ]
      },
      {
       "output_type": "stream",
       "stream": "stderr",
       "text": [
        "[Parallel(n_jobs=1)]: Done   1 out of   1 | elapsed:    0.0s finished\n",
        "[Parallel(n_jobs=1)]: Done   1 jobs       | elapsed:   14.4s\n"
       ]
      },
      {
       "output_type": "stream",
       "stream": "stderr",
       "text": [
        "[Parallel(n_jobs=1)]: Done   1 out of   1 | elapsed:   14.4s finished\n",
        "[Parallel(n_jobs=1)]: Done   1 jobs       | elapsed:    0.0s\n"
       ]
      },
      {
       "output_type": "stream",
       "stream": "stderr",
       "text": [
        "[Parallel(n_jobs=1)]: Done   1 out of   1 | elapsed:    0.0s finished\n",
        "[Parallel(n_jobs=1)]: Done   1 jobs       | elapsed:   14.7s\n"
       ]
      },
      {
       "output_type": "stream",
       "stream": "stderr",
       "text": [
        "[Parallel(n_jobs=1)]: Done   1 out of   1 | elapsed:   14.7s finished\n",
        "[Parallel(n_jobs=1)]: Done   1 jobs       | elapsed:    0.0s\n"
       ]
      },
      {
       "output_type": "stream",
       "stream": "stderr",
       "text": [
        "[Parallel(n_jobs=1)]: Done   1 out of   1 | elapsed:    0.0s finished\n",
        "[Parallel(n_jobs=1)]: Done   1 jobs       | elapsed:   46.8s\n"
       ]
      },
      {
       "output_type": "stream",
       "stream": "stderr",
       "text": [
        "[Parallel(n_jobs=1)]: Done   1 out of   1 | elapsed:   46.8s finished\n",
        "[Parallel(n_jobs=1)]: Done   1 jobs       | elapsed:    0.0s\n"
       ]
      },
      {
       "output_type": "stream",
       "stream": "stderr",
       "text": [
        "[Parallel(n_jobs=1)]: Done   1 out of   1 | elapsed:    0.0s finished\n",
        "[Parallel(n_jobs=1)]: Done   1 jobs       | elapsed:   46.9s\n"
       ]
      },
      {
       "output_type": "stream",
       "stream": "stderr",
       "text": [
        "[Parallel(n_jobs=1)]: Done   1 out of   1 | elapsed:   46.9s finished\n",
        "[Parallel(n_jobs=1)]: Done   1 jobs       | elapsed:    0.0s\n"
       ]
      },
      {
       "output_type": "stream",
       "stream": "stderr",
       "text": [
        "[Parallel(n_jobs=1)]: Done   1 out of   1 | elapsed:    0.0s finished\n",
        "[Parallel(n_jobs=1)]: Done   1 jobs       | elapsed:   47.1s\n"
       ]
      },
      {
       "output_type": "stream",
       "stream": "stderr",
       "text": [
        "[Parallel(n_jobs=1)]: Done   1 out of   1 | elapsed:   47.1s finished\n",
        "[Parallel(n_jobs=1)]: Done   1 jobs       | elapsed:    0.0s\n"
       ]
      },
      {
       "output_type": "stream",
       "stream": "stderr",
       "text": [
        "[Parallel(n_jobs=1)]: Done   1 out of   1 | elapsed:    0.0s finished\n",
        "[Parallel(n_jobs=1)]: Done   1 jobs       | elapsed:  4.9min\n"
       ]
      },
      {
       "output_type": "stream",
       "stream": "stderr",
       "text": [
        "[Parallel(n_jobs=1)]: Done   1 out of   1 | elapsed:  4.9min finished\n"
       ]
      }
     ],
     "prompt_number": 21
    },
    {
     "cell_type": "code",
     "collapsed": false,
     "input": [
      "print (result_random_search_rf.best_estimator_)"
     ],
     "language": "python",
     "metadata": {},
     "outputs": [
      {
       "output_type": "stream",
       "stream": "stdout",
       "text": [
        "RandomForestClassifier(bootstrap=True, compute_importances=None,\n",
        "            criterion='entropy', max_depth=None, max_features=None,\n",
        "            max_leaf_nodes=None, min_density=None, min_samples_leaf=1,\n",
        "            min_samples_split=2, n_estimators=835, n_jobs=1,\n",
        "            oob_score=True, random_state=None, verbose=1)\n"
       ]
      }
     ],
     "prompt_number": 22
    },
    {
     "cell_type": "code",
     "collapsed": false,
     "input": [
      "clf = RandomForestClassifier(bootstrap=True, compute_importances=None,\n",
      "            criterion='gini', max_depth=None, max_features=None,\n",
      "            max_leaf_nodes=None, min_density=None, min_samples_leaf=1,\n",
      "            min_samples_split=2, n_estimators=730, n_jobs=1,\n",
      "            oob_score=True, random_state=None, verbose=1)"
     ],
     "language": "python",
     "metadata": {},
     "outputs": []
    },
    {
     "cell_type": "code",
     "collapsed": false,
     "input": [
      "clf = RandomForestClassifier(bootstrap=True, compute_importances=None,\n",
      "            criterion='entropy', max_depth=None, max_features=None,\n",
      "            max_leaf_nodes=None, min_density=None, min_samples_leaf=1,\n",
      "            min_samples_split=2, n_estimators=835, n_jobs=1,\n",
      "            oob_score=True, random_state=None, verbose=1)\n",
      "\n"
     ],
     "language": "python",
     "metadata": {},
     "outputs": [],
     "prompt_number": 23
    },
    {
     "cell_type": "code",
     "collapsed": false,
     "input": [
      "result_random_search_rf.grid_scores_"
     ],
     "language": "python",
     "metadata": {},
     "outputs": [
      {
       "metadata": {},
       "output_type": "pyout",
       "prompt_number": 24,
       "text": [
        "[mean: 0.89695, std: 0.00989, params: {'n_estimators': 145, 'criterion': 'gini'},\n",
        " mean: 0.89663, std: 0.00966, params: {'n_estimators': 390, 'criterion': 'gini'},\n",
        " mean: 0.89955, std: 0.01120, params: {'n_estimators': 305, 'criterion': 'gini'},\n",
        " mean: 0.89793, std: 0.01408, params: {'n_estimators': 245, 'criterion': 'entropy'},\n",
        " mean: 0.89793, std: 0.00935, params: {'n_estimators': 965, 'criterion': 'gini'},\n",
        " mean: 0.89793, std: 0.01282, params: {'n_estimators': 95, 'criterion': 'entropy'},\n",
        " mean: 0.89825, std: 0.01117, params: {'n_estimators': 685, 'criterion': 'gini'},\n",
        " mean: 0.89922, std: 0.01403, params: {'n_estimators': 795, 'criterion': 'entropy'},\n",
        " mean: 0.89760, std: 0.00878, params: {'n_estimators': 155, 'criterion': 'gini'},\n",
        " mean: 0.89825, std: 0.01056, params: {'n_estimators': 885, 'criterion': 'gini'},\n",
        " mean: 0.89695, std: 0.01332, params: {'n_estimators': 75, 'criterion': 'entropy'},\n",
        " mean: 0.89631, std: 0.01201, params: {'n_estimators': 40, 'criterion': 'entropy'},\n",
        " mean: 0.89825, std: 0.01343, params: {'n_estimators': 830, 'criterion': 'entropy'},\n",
        " mean: 0.89695, std: 0.01281, params: {'n_estimators': 295, 'criterion': 'entropy'},\n",
        " mean: 0.89760, std: 0.01088, params: {'n_estimators': 410, 'criterion': 'gini'},\n",
        " mean: 0.89890, std: 0.01333, params: {'n_estimators': 570, 'criterion': 'entropy'},\n",
        " mean: 0.89857, std: 0.01290, params: {'n_estimators': 575, 'criterion': 'entropy'},\n",
        " mean: 0.89825, std: 0.01390, params: {'n_estimators': 545, 'criterion': 'entropy'},\n",
        " mean: 0.89793, std: 0.00899, params: {'n_estimators': 900, 'criterion': 'gini'},\n",
        " mean: 0.89695, std: 0.00899, params: {'n_estimators': 800, 'criterion': 'gini'},\n",
        " mean: 0.89793, std: 0.01207, params: {'n_estimators': 70, 'criterion': 'entropy'},\n",
        " mean: 0.89728, std: 0.00943, params: {'n_estimators': 255, 'criterion': 'gini'},\n",
        " mean: 0.89922, std: 0.01382, params: {'n_estimators': 195, 'criterion': 'entropy'},\n",
        " mean: 0.89728, std: 0.01107, params: {'n_estimators': 415, 'criterion': 'gini'},\n",
        " mean: 0.89728, std: 0.01042, params: {'n_estimators': 835, 'criterion': 'gini'},\n",
        " mean: 0.89663, std: 0.01015, params: {'n_estimators': 475, 'criterion': 'gini'},\n",
        " mean: 0.89922, std: 0.01254, params: {'n_estimators': 460, 'criterion': 'entropy'},\n",
        " mean: 0.89760, std: 0.00934, params: {'n_estimators': 625, 'criterion': 'gini'},\n",
        " mean: 0.89857, std: 0.00807, params: {'n_estimators': 90, 'criterion': 'gini'},\n",
        " mean: 0.89760, std: 0.01026, params: {'n_estimators': 315, 'criterion': 'gini'},\n",
        " mean: 0.89890, std: 0.00877, params: {'n_estimators': 885, 'criterion': 'gini'},\n",
        " mean: 0.89922, std: 0.01382, params: {'n_estimators': 935, 'criterion': 'entropy'},\n",
        " mean: 0.89825, std: 0.01034, params: {'n_estimators': 510, 'criterion': 'gini'},\n",
        " mean: 0.89760, std: 0.01435, params: {'n_estimators': 170, 'criterion': 'entropy'},\n",
        " mean: 0.89857, std: 0.01045, params: {'n_estimators': 760, 'criterion': 'gini'},\n",
        " mean: 0.89890, std: 0.01433, params: {'n_estimators': 390, 'criterion': 'entropy'},\n",
        " mean: 0.89728, std: 0.00969, params: {'n_estimators': 280, 'criterion': 'gini'},\n",
        " mean: 0.89695, std: 0.00851, params: {'n_estimators': 215, 'criterion': 'gini'},\n",
        " mean: 0.89825, std: 0.01075, params: {'n_estimators': 360, 'criterion': 'gini'},\n",
        " mean: 0.89760, std: 0.01286, params: {'n_estimators': 150, 'criterion': 'entropy'},\n",
        " mean: 0.89631, std: 0.01099, params: {'n_estimators': 45, 'criterion': 'gini'},\n",
        " mean: 0.89987, std: 0.01419, params: {'n_estimators': 835, 'criterion': 'entropy'},\n",
        " mean: 0.89987, std: 0.01345, params: {'n_estimators': 815, 'criterion': 'entropy'},\n",
        " mean: 0.89857, std: 0.01363, params: {'n_estimators': 605, 'criterion': 'entropy'},\n",
        " mean: 0.89955, std: 0.01082, params: {'n_estimators': 200, 'criterion': 'gini'},\n",
        " mean: 0.89857, std: 0.01026, params: {'n_estimators': 790, 'criterion': 'gini'},\n",
        " mean: 0.89695, std: 0.00997, params: {'n_estimators': 385, 'criterion': 'gini'},\n",
        " mean: 0.89922, std: 0.01245, params: {'n_estimators': 660, 'criterion': 'entropy'},\n",
        " mean: 0.89663, std: 0.01025, params: {'n_estimators': 40, 'criterion': 'gini'},\n",
        " mean: 0.89760, std: 0.01298, params: {'n_estimators': 130, 'criterion': 'entropy'}]"
       ]
      }
     ],
     "prompt_number": 24
    },
    {
     "cell_type": "code",
     "collapsed": false,
     "input": [
      "import pickle\n",
      "modelFileSave = open('bigBoyCLF.pkl', 'wb')\n",
      "pickle.dump(clf, modelFileSave)\n",
      "modelFileSave.close() "
     ],
     "language": "python",
     "metadata": {},
     "outputs": [],
     "prompt_number": 29
    },
    {
     "cell_type": "code",
     "collapsed": false,
     "input": [
      "pred = clf.fit(X, t)"
     ],
     "language": "python",
     "metadata": {},
     "outputs": [
      {
       "output_type": "stream",
       "stream": "stderr",
       "text": [
        "[Parallel(n_jobs=1)]: Done   1 jobs       | elapsed:  5.1min\n",
        "[Parallel(n_jobs=1)]: Done   1 out of   1 | elapsed:  5.1min finished\n"
       ]
      }
     ],
     "prompt_number": 30
    },
    {
     "cell_type": "code",
     "collapsed": false,
     "input": [
      "pred = pred.predict(testdf)"
     ],
     "language": "python",
     "metadata": {},
     "outputs": [
      {
       "output_type": "stream",
       "stream": "stderr",
       "text": [
        "[Parallel(n_jobs=1)]: Done   1 jobs       | elapsed:    0.7s\n",
        "[Parallel(n_jobs=1)]: Done   1 out of   1 | elapsed:    0.7s finished\n"
       ]
      }
     ],
     "prompt_number": 31
    },
    {
     "cell_type": "code",
     "collapsed": false,
     "input": [
      "filename = \"submission12.csv\"\n",
      "pd.DataFrame(pred, testdf.index).to_csv(filename, index_label = 'Id', header = ['Prediction'])"
     ],
     "language": "python",
     "metadata": {},
     "outputs": [],
     "prompt_number": 32
    },
    {
     "cell_type": "code",
     "collapsed": false,
     "input": [
      "pred"
     ],
     "language": "python",
     "metadata": {},
     "outputs": [
      {
       "metadata": {},
       "output_type": "pyout",
       "prompt_number": 33,
       "text": [
        "array([12, 10,  8, ...,  8,  8,  0])"
       ]
      }
     ],
     "prompt_number": 33
    },
    {
     "cell_type": "markdown",
     "metadata": {},
     "source": [
      "New Shit"
     ]
    },
    {
     "cell_type": "code",
     "collapsed": false,
     "input": [
      "from sklearn.svm import SVC"
     ],
     "language": "python",
     "metadata": {},
     "outputs": [],
     "prompt_number": 6
    },
    {
     "cell_type": "code",
     "collapsed": false,
     "input": [
      "# specify parameters and distributions to sample from\n",
      "param_dist = {'kernel':['rbf','linear','poly','sigmoid'],\n",
      "                'degree': np.arange(1, 5, 1),\n",
      "                'gamma': np.arange(0.0, 1.0, .05)}\n",
      "\n",
      "# run randomized search\n",
      "n_iter_search = 5\n",
      "clf = SVC(verbose = 1)\n",
      "\n",
      "random_search_svc = RandomizedSearchCV(clf, param_distributions=param_dist,\n",
      "                                   n_iter=n_iter_search, )"
     ],
     "language": "python",
     "metadata": {},
     "outputs": [],
     "prompt_number": 7
    },
    {
     "cell_type": "code",
     "collapsed": false,
     "input": [
      "result_random_search_rf = random_search_svc.fit(X, t)"
     ],
     "language": "python",
     "metadata": {},
     "outputs": [
      {
       "output_type": "stream",
       "stream": "stdout",
       "text": [
        "[LibSVM][LibSVM]"
       ]
      },
      {
       "output_type": "stream",
       "stream": "stdout",
       "text": [
        "[LibSVM]"
       ]
      },
      {
       "output_type": "stream",
       "stream": "stdout",
       "text": [
        "[LibSVM]"
       ]
      },
      {
       "output_type": "stream",
       "stream": "stdout",
       "text": [
        "[LibSVM]"
       ]
      },
      {
       "output_type": "stream",
       "stream": "stdout",
       "text": [
        "[LibSVM]"
       ]
      },
      {
       "output_type": "stream",
       "stream": "stdout",
       "text": [
        "[LibSVM]"
       ]
      },
      {
       "output_type": "stream",
       "stream": "stdout",
       "text": [
        "[LibSVM]"
       ]
      },
      {
       "output_type": "stream",
       "stream": "stdout",
       "text": [
        "[LibSVM]"
       ]
      },
      {
       "output_type": "stream",
       "stream": "stdout",
       "text": [
        "[LibSVM]"
       ]
      },
      {
       "output_type": "stream",
       "stream": "stdout",
       "text": [
        "[LibSVM]"
       ]
      },
      {
       "output_type": "stream",
       "stream": "stdout",
       "text": [
        "[LibSVM]"
       ]
      },
      {
       "output_type": "stream",
       "stream": "stdout",
       "text": [
        "[LibSVM]"
       ]
      },
      {
       "output_type": "stream",
       "stream": "stdout",
       "text": [
        "[LibSVM]"
       ]
      },
      {
       "output_type": "stream",
       "stream": "stdout",
       "text": [
        "[LibSVM]"
       ]
      },
      {
       "output_type": "stream",
       "stream": "stdout",
       "text": [
        "[LibSVM]"
       ]
      }
     ],
     "prompt_number": 8
    },
    {
     "cell_type": "code",
     "collapsed": false,
     "input": [
      "print (result_random_search_rf.best_estimator_)"
     ],
     "language": "python",
     "metadata": {},
     "outputs": [
      {
       "output_type": "stream",
       "stream": "stdout",
       "text": [
        "SVC(C=1.0, cache_size=200, class_weight=None, coef0=0.0, degree=4, gamma=0.0,\n",
        "  kernel='linear', max_iter=-1, probability=False, random_state=None,\n",
        "  shrinking=True, tol=0.001, verbose=1)\n"
       ]
      }
     ],
     "prompt_number": 9
    },
    {
     "cell_type": "code",
     "collapsed": false,
     "input": [
      "SVC(C=1.0, cache_size=200, class_weight=None, coef0=0.0, degree=4, gamma=0.0,\n",
      "  kernel='linear', max_iter=-1, probability=False, random_state=None,\n",
      "  shrinking=True, tol=0.001, verbose=1)\n"
     ],
     "language": "python",
     "metadata": {},
     "outputs": [
      {
       "metadata": {},
       "output_type": "pyout",
       "prompt_number": 10,
       "text": [
        "SVC(C=1.0, cache_size=200, class_weight=None, coef0=0.0, degree=4, gamma=0.0,\n",
        "  kernel='linear', max_iter=-1, probability=False, random_state=None,\n",
        "  shrinking=True, tol=0.001, verbose=1)"
       ]
      }
     ],
     "prompt_number": 10
    },
    {
     "cell_type": "code",
     "collapsed": false,
     "input": [
      "result_random_search_rf.grid_scores_"
     ],
     "language": "python",
     "metadata": {},
     "outputs": [
      {
       "metadata": {},
       "output_type": "pyout",
       "prompt_number": 11,
       "text": [
        "[mean: 0.67142, std: 0.01378, params: {'kernel': 'rbf', 'gamma': 0.90000000000000002, 'degree': 2},\n",
        " mean: 0.86261, std: 0.00832, params: {'kernel': 'linear', 'gamma': 0.0, 'degree': 4},\n",
        " mean: 0.67077, std: 0.01361, params: {'kernel': 'rbf', 'gamma': 0.95000000000000007, 'degree': 4},\n",
        " mean: 0.52139, std: 0.00221, params: {'kernel': 'sigmoid', 'gamma': 0.0, 'degree': 1},\n",
        " mean: 0.68471, std: 0.01119, params: {'kernel': 'rbf', 'gamma': 0.45000000000000001, 'degree': 3}]"
       ]
      }
     ],
     "prompt_number": 11
    },
    {
     "cell_type": "code",
     "collapsed": false,
     "input": [
      "pred = clf.fit(X, t)"
     ],
     "language": "python",
     "metadata": {},
     "outputs": [
      {
       "output_type": "stream",
       "stream": "stdout",
       "text": [
        "[LibSVM]"
       ]
      }
     ],
     "prompt_number": 12
    },
    {
     "cell_type": "code",
     "collapsed": false,
     "input": [
      "pred = pred.predict(testdf)"
     ],
     "language": "python",
     "metadata": {},
     "outputs": [],
     "prompt_number": 13
    },
    {
     "cell_type": "code",
     "collapsed": false,
     "input": [
      "filename = \"submission13.csv\"\n",
      "pd.DataFrame(pred, testdf.index).to_csv(filename, index_label = 'Id', header = ['Prediction'])"
     ],
     "language": "python",
     "metadata": {},
     "outputs": [],
     "prompt_number": 14
    },
    {
     "cell_type": "code",
     "collapsed": false,
     "input": [],
     "language": "python",
     "metadata": {},
     "outputs": []
    }
   ],
   "metadata": {}
  }
 ]
}