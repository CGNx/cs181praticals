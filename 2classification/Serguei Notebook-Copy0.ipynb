{
 "metadata": {
  "name": ""
 },
 "nbformat": 3,
 "nbformat_minor": 0,
 "worksheets": [
  {
   "cells": [
    {
     "cell_type": "markdown",
     "metadata": {},
     "source": [
      "Imports"
     ]
    },
    {
     "cell_type": "code",
     "collapsed": false,
     "input": [
      "import os\n",
      "from collections import Counter\n",
      "try:\n",
      "    import xml.etree.cElementTree as ET\n",
      "except ImportError:\n",
      "    import xml.etree.ElementTree as ET\n",
      "import numpy as np\n",
      "from scipy import sparse\n",
      "\n",
      "import util\n",
      "import pandas as pd\n",
      "from sklearn import cross_validation\n",
      "\n",
      "from sklearn.grid_search import GridSearchCV, RandomizedSearchCV\n",
      "\n",
      "from sklearn.externals.six.moves import zip\n",
      "\n",
      "import matplotlib.pyplot as plt\n",
      "\n",
      "from sklearn.datasets import make_gaussian_quantiles\n",
      "from sklearn.ensemble import AdaBoostClassifier\n",
      "from sklearn.metrics import accuracy_score\n",
      "from sklearn.tree import DecisionTreeClassifier"
     ],
     "language": "python",
     "metadata": {},
     "outputs": [],
     "prompt_number": 1
    },
    {
     "cell_type": "markdown",
     "metadata": {},
     "source": [
      "Feature Extraction"
     ]
    },
    {
     "cell_type": "code",
     "collapsed": false,
     "input": [
      "classMap = {\n",
      "0: 'Agent',\n",
      "1: 'AutoRun',\n",
      "2: 'FraudLoad',\n",
      "3: 'FraudPack',\n",
      "4: 'Hupigon',\n",
      "5: 'Krap',\n",
      "6: 'Lipler',\n",
      "7: 'Magania',\n",
      "8: 'None',\n",
      "9: 'Poison',\n",
      "10: 'Swizzor',\n",
      "11: 'Tdss',\n",
      "12: 'VB',\n",
      "13: 'Virut',\n",
      "14: 'Zbot'\n",
      "}\n",
      "classMap = dict([[v,k] for k,v in classMap.items()])"
     ],
     "language": "python",
     "metadata": {},
     "outputs": [],
     "prompt_number": 2
    },
    {
     "cell_type": "code",
     "collapsed": false,
     "input": [
      "#Converts an xml malware file to a vector of frequencies of each all_section token\n",
      "def xml2vec(filename, readPath = \"train/\"):\n",
      "    tokens = []\n",
      "    # extract id and true class (if available) from filename\n",
      "    id_str, clas = filename.split('.')[:2]\n",
      "    \n",
      "    # parse file as an xml document\n",
      "    tree = ET.parse(readPath + filename)\n",
      "    root = tree.getroot()\n",
      "    for section in root.iter('all_section'):\n",
      "        for token in section:\n",
      "            tokens.append(token.tag)\n",
      "    tokens += ['total']*len(tokens)\n",
      "    return tokens"
     ],
     "language": "python",
     "metadata": {},
     "outputs": [],
     "prompt_number": 24
    },
    {
     "cell_type": "code",
     "collapsed": false,
     "input": [
      "def createDesignMatrix(readPath = \"train/\"):\n",
      "    '''Returns the design matrix and target values if readPath = \"/train\", else returns just the design matrix.\n",
      "    The design matrix has a row for each xml file and the columns are counts of all of the distinct all_section tokens.\n",
      "    '''\n",
      "    indices = []\n",
      "    target = []   \n",
      "    all_rows = []\n",
      "    \n",
      "    for filename in os.listdir(readPath):\n",
      "        #print ('Working on file:', filename)\n",
      "        row = pd.Series(xml2vec(filename, readPath=readPath)).value_counts()\n",
      "        all_rows.append(row)\n",
      "        id_str, clas = filename.split('.')[:2]\n",
      "        indices.append(id_str)\n",
      "        if readPath == \"train/\":\n",
      "            target.append(classMap[clas])\n",
      "            \n",
      "    df = pd.concat(all_rows, axis = 1, join = 'outer')\n",
      "    df = df.transpose()\n",
      "    df = df.replace(to_replace=np.nan, value = 0)\n",
      "    df.index = indices\n",
      "    target = pd.Series(target)\n",
      "    \n",
      "    return (df, target) if readPath == \"train/\" else df"
     ],
     "language": "python",
     "metadata": {},
     "outputs": [],
     "prompt_number": 25
    },
    {
     "cell_type": "code",
     "collapsed": false,
     "input": [
      "X, t = createDesignMatrix(readPath = \"train/\")\n",
      "testdf = createDesignMatrix(readPath = \"test/\")\n",
      "\n",
      "##REMOVE ALL FEATURES IN TRAINING DATA THAT ARE NOT IN TEST DATA (AND VICE VERSA IF NECESSARY)\n",
      "for column in testdf.columns:\n",
      "    if column not in X.columns:\n",
      "        del testdf[column]\n",
      "        \n",
      "for column in X.columns:\n",
      "    if column not in testdf.columns:\n",
      "        del X[column]\n",
      "\n",
      "originalX = X\n",
      "originalT = t\n",
      "len(testdf.columns)"
     ],
     "language": "python",
     "metadata": {},
     "outputs": [
      {
       "metadata": {},
       "output_type": "pyout",
       "prompt_number": 26,
       "text": [
        "100"
       ]
      }
     ],
     "prompt_number": 26
    },
    {
     "cell_type": "code",
     "collapsed": false,
     "input": [
      "for filename in os.listdir(\"train/\"):\n",
      "        #print ('Working on file:', filename)\n",
      "        row1 = xml2vec(filename)\n",
      "        row2 = [row1[i] + \"-\" + row1[i+1] for i in xrange(len(row1)) if i < len(row1)-1]\n",
      "        row = pd.Series(row1+row2).value_counts()\n",
      "#         print(row.head(25))\n",
      "        break"
     ],
     "language": "python",
     "metadata": {},
     "outputs": []
    },
    {
     "cell_type": "code",
     "collapsed": false,
     "input": [
      "X, t = createDesignMatrix2(readPath = \"train/\")\n",
      "testdf = createDesignMatrix2(readPath = \"test/\")\n",
      "\n",
      "##REMOVE ALL FEATURES IN TRAINING DATA THAT ARE NOT IN TEST DATA (AND VICE VERSA IF NECESSARY)\n",
      "for column in testdf.columns:\n",
      "    if column not in X.columns:\n",
      "        del testdf[column]\n",
      "        \n",
      "for column in X.columns:\n",
      "    if column not in testdf.columns:\n",
      "        del X[column]\n",
      "\n",
      "originalX = X\n",
      "originalT = t\n",
      "len(testdf.columns)"
     ],
     "language": "python",
     "metadata": {},
     "outputs": [
      {
       "metadata": {},
       "output_type": "pyout",
       "prompt_number": 7,
       "text": [
        "2188"
       ]
      }
     ],
     "prompt_number": 7
    },
    {
     "cell_type": "code",
     "collapsed": false,
     "input": [
      "def createDesignMatrix2(readPath = \"train/\"):\n",
      "    '''Returns the design matrix and target values if readPath = \"/train\", else returns just the design matrix.\n",
      "    The design matrix has a row for each xml file and the columns are counts of all of the distinct all_section tokens\n",
      "    as well as counts for each consecutive token pair\n",
      "    '''\n",
      "    indices = []\n",
      "    target = []   \n",
      "    all_rows = []\n",
      "    \n",
      "    for filename in os.listdir(readPath):\n",
      "        #print ('Working on file:', filename)\n",
      "        row1 = xml2vec(filename, readPath=readPath)\n",
      "        row2 = [row1[i] + \"-\" + row1[i+1] for i in xrange(len(row1)) if i < len(row1)-1]\n",
      "        row = pd.Series(row1+row2).value_counts()\n",
      "        all_rows.append(row)\n",
      "        id_str, clas = filename.split('.')[:2]\n",
      "        indices.append(id_str)\n",
      "        if readPath == \"train/\":\n",
      "            target.append(classMap[clas])\n",
      "            \n",
      "    df = pd.concat(all_rows, axis = 1, join = 'outer')\n",
      "    df = df.transpose()\n",
      "    df = df.replace(to_replace=np.nan, value = 0)\n",
      "    df.index = indices\n",
      "    target = pd.Series(target)\n",
      "    \n",
      "    return (df, target) if readPath == \"train/\" else df"
     ],
     "language": "python",
     "metadata": {},
     "outputs": [],
     "prompt_number": 6
    },
    {
     "cell_type": "code",
     "collapsed": false,
     "input": [
      "def createDesignMatrix3(readPath = \"train/\"):\n",
      "    '''Returns the design matrix and target values if readPath = \"/train\", else returns just the design matrix.\n",
      "    The design matrix has a row for each xml file and the columns are counts of all of the distinct all_section tokens\n",
      "    as well as counts for each consecutive token pair\n",
      "    '''\n",
      "    indices = []\n",
      "    target = []   \n",
      "    all_rows = []\n",
      "    \n",
      "    for filename in os.listdir(readPath):\n",
      "        #print ('Working on file:', filename)\n",
      "        row = pd.Series(xml2vec(filename, readPath=readPath)).value_counts()\n",
      "        all_rows.append(row)\n",
      "        all_rows.append()\n",
      "        id_str, clas = filename.split('.')[:2]\n",
      "        indices.append(id_str)\n",
      "        if readPath == \"train/\":\n",
      "            target.append(classMap[clas])\n",
      "            \n",
      "    df = pd.concat(all_rows, axis = 1, join = 'outer')\n",
      "    df = df.transpose()\n",
      "    df = df.replace(to_replace=np.nan, value = 0)\n",
      "    df.index = indices\n",
      "    target = pd.Series(target)\n",
      "    \n",
      "    return (df, target) if readPath == \"train/\" else df"
     ],
     "language": "python",
     "metadata": {},
     "outputs": []
    },
    {
     "cell_type": "code",
     "collapsed": false,
     "input": [
      "X.to_pickle(\"trainDF.pkl\")\n",
      "t.to_pickle(\"target.pkl\")\n",
      "testdf.to_pickle(\"testDF.pkl\")"
     ],
     "language": "python",
     "metadata": {},
     "outputs": [],
     "prompt_number": 8
    },
    {
     "cell_type": "code",
     "collapsed": false,
     "input": [
      "X = pd.read_pickle(\"trainDF.pkl\")\n",
      "t = pd.read_pickle(\"target.pkl\")\n",
      "testdf = pd.read_pickle(\"testDF.pkl\")"
     ],
     "language": "python",
     "metadata": {},
     "outputs": [],
     "prompt_number": 6
    },
    {
     "cell_type": "markdown",
     "metadata": {},
     "source": [
      "Classifier (Discrete > Real)"
     ]
    },
    {
     "cell_type": "code",
     "collapsed": false,
     "input": [
      "bdt_real = AdaBoostClassifier(\n",
      "    DecisionTreeClassifier(max_depth=2),\n",
      "    n_estimators=600,\n",
      "    learning_rate=1)\n",
      "\n",
      "X, t = createDesignMatrix2(readPath = \"train/\")\n",
      "testdf = createDesignMatrix2(readPath = \"test/\")\n",
      "\n",
      "##REMOVE ALL FEATURES IN TRAINING DATA THAT ARE NOT IN TEST DATA (AND VICE VERSA IF NECESSARY)\n",
      "for column in testdf.columns:\n",
      "    if column not in X.columns:\n",
      "        del testdf[column]\n",
      "        \n",
      "for column in X.columns:\n",
      "    if column not in testdf.columns:\n",
      "        del X[column]\n",
      "\n",
      "originalX = X\n",
      "originalT = t\n",
      "len(testdf.columns)\n",
      "        \n",
      "print(len(X.columns), len(testdf.columns))\n",
      "\n",
      "classifier = bdt_real.fit(X, t)\n",
      "predicted = classifier.predict(testdf) #predict on test values, not on X\n",
      "accuracy = sum(pd.Series(predicted) & t) / len(testdf)\n",
      "print (accuracy)"
     ],
     "language": "python",
     "metadata": {},
     "outputs": [
      {
       "output_type": "stream",
       "stream": "stdout",
       "text": [
        "(2188, 2188)\n",
        "0"
       ]
      },
      {
       "output_type": "stream",
       "stream": "stdout",
       "text": [
        "\n"
       ]
      }
     ],
     "prompt_number": 63
    },
    {
     "cell_type": "code",
     "collapsed": false,
     "input": [
      "bdt_discrete = AdaBoostClassifier(\n",
      "    DecisionTreeClassifier(max_depth=2),\n",
      "    n_estimators=600,\n",
      "    learning_rate=1.5,\n",
      "    algorithm=\"SAMME\")\n",
      "\n",
      "X, t = createDesignMatrix2(readPath = \"train/\")\n",
      "testdf = createDesignMatrix2(readPath= \"test/\")\n",
      "\n",
      "##REMOVE ALL FEATURES IN TRAINING DATA THAT ARE NOT IN TEST DATA (AND VICE VERSA IF NECESSARY)\n",
      "for column in testdf.columns:\n",
      "    if column not in X.columns:\n",
      "        del testdf[column]\n",
      "        \n",
      "for column in X.columns:\n",
      "    if column not in testdf.columns:\n",
      "        del X[column]        \n",
      "     \n",
      "originalX = X\n",
      "originalT = t\n",
      "len(testdf.columns)        \n",
      "\n",
      "classif_discrete = bdt_discrete.fit(X, t)\n",
      "discrete_predicted = classif_discrete.predict(testdf) #predict on test values, not on X\n",
      "print(sum(pd.Series(discrete_predicted) & t) / len(testdf))"
     ],
     "language": "python",
     "metadata": {},
     "outputs": [
      {
       "output_type": "stream",
       "stream": "stdout",
       "text": [
        "0\n"
       ]
      }
     ],
     "prompt_number": 64
    },
    {
     "cell_type": "markdown",
     "metadata": {},
     "source": [
      "Feature Extraction cont."
     ]
    },
    {
     "cell_type": "markdown",
     "metadata": {},
     "source": [
      "Make Kaggle Submission"
     ]
    },
    {
     "cell_type": "code",
     "collapsed": false,
     "input": [
      "filename = \"submission2.csv\"\n",
      "pd.DataFrame(discrete_predicted, testdf.index).to_csv(filename, index_label = 'Id', header = ['Prediction'])"
     ],
     "language": "python",
     "metadata": {},
     "outputs": [],
     "prompt_number": 60
    },
    {
     "cell_type": "code",
     "collapsed": false,
     "input": [
      "accuracy = sum(pd.Series(predicted) & t) / float(len(testdf))\n",
      "print (accuracy)"
     ],
     "language": "python",
     "metadata": {},
     "outputs": [
      {
       "output_type": "stream",
       "stream": "stdout",
       "text": [
        "0.167830290011\n"
       ]
      }
     ],
     "prompt_number": 68
    },
    {
     "cell_type": "markdown",
     "metadata": {},
     "source": [
      "Trying all the optimized stuff"
     ]
    },
    {
     "cell_type": "code",
     "collapsed": false,
     "input": [
      "# specify parameters and distributions to sample from\n",
      "param_dist = {'base_estimator':(DecisionTreeClassifier(max_depth=2), DecisionTreeClassifier(max_depth=4), DecisionTreeClassifier(max_depth=6), DecisionTreeClassifier(max_depth=8)), \n",
      "              'n_estimators':np.arange(10, 1000, 10),\n",
      "              'learning_rate': np.arange(.1, 5, .1),\n",
      "              'algorithm': [\"SAMME\", \"SAMME.R\"]}\n",
      "\n",
      "# run randomized search\n",
      "n_iter_search = 500\n",
      "clf = AdaBoostClassifier(\n",
      "    DecisionTreeClassifier(max_depth=4),\n",
      "    n_estimators=100,\n",
      "    learning_rate=1,\n",
      "    algorithm=\"SAMME\")\n",
      "random_search = RandomizedSearchCV(clf, param_distributions=param_dist,\n",
      "                                   n_iter=n_iter_search, )"
     ],
     "language": "python",
     "metadata": {},
     "outputs": [],
     "prompt_number": 7
    },
    {
     "cell_type": "code",
     "collapsed": false,
     "input": [
      "result_random = random_search.fit(X, t)"
     ],
     "language": "python",
     "metadata": {},
     "outputs": [
      {
       "ename": "KeyboardInterrupt",
       "evalue": "",
       "output_type": "pyerr",
       "traceback": [
        "\u001b[0;31m---------------------------------------------------------------------------\u001b[0m\n\u001b[0;31mKeyboardInterrupt\u001b[0m                         Traceback (most recent call last)",
        "\u001b[0;32m<ipython-input-8-f548d0139f86>\u001b[0m in \u001b[0;36m<module>\u001b[0;34m()\u001b[0m\n\u001b[0;32m----> 1\u001b[0;31m \u001b[0mresult_random\u001b[0m \u001b[0;34m=\u001b[0m \u001b[0mrandom_search\u001b[0m\u001b[0;34m.\u001b[0m\u001b[0mfit\u001b[0m\u001b[0;34m(\u001b[0m\u001b[0mX\u001b[0m\u001b[0;34m,\u001b[0m \u001b[0mt\u001b[0m\u001b[0;34m)\u001b[0m\u001b[0;34m\u001b[0m\u001b[0m\n\u001b[0m",
        "\u001b[0;32m/home/sergs/.local/lib/python2.7/site-packages/sklearn/grid_search.pyc\u001b[0m in \u001b[0;36mfit\u001b[0;34m(self, X, y)\u001b[0m\n\u001b[1;32m    747\u001b[0m                                           \u001b[0mself\u001b[0m\u001b[0;34m.\u001b[0m\u001b[0mn_iter\u001b[0m\u001b[0;34m,\u001b[0m\u001b[0;34m\u001b[0m\u001b[0m\n\u001b[1;32m    748\u001b[0m                                           random_state=self.random_state)\n\u001b[0;32m--> 749\u001b[0;31m         \u001b[0;32mreturn\u001b[0m \u001b[0mself\u001b[0m\u001b[0;34m.\u001b[0m\u001b[0m_fit\u001b[0m\u001b[0;34m(\u001b[0m\u001b[0mX\u001b[0m\u001b[0;34m,\u001b[0m \u001b[0my\u001b[0m\u001b[0;34m,\u001b[0m \u001b[0msampled_params\u001b[0m\u001b[0;34m)\u001b[0m\u001b[0;34m\u001b[0m\u001b[0m\n\u001b[0m",
        "\u001b[0;32m/home/sergs/.local/lib/python2.7/site-packages/sklearn/grid_search.pyc\u001b[0m in \u001b[0;36m_fit\u001b[0;34m(self, X, y, parameter_iterable)\u001b[0m\n\u001b[1;32m    376\u001b[0m                                     \u001b[0mtrain\u001b[0m\u001b[0;34m,\u001b[0m \u001b[0mtest\u001b[0m\u001b[0;34m,\u001b[0m \u001b[0mself\u001b[0m\u001b[0;34m.\u001b[0m\u001b[0mverbose\u001b[0m\u001b[0;34m,\u001b[0m \u001b[0mparameters\u001b[0m\u001b[0;34m,\u001b[0m\u001b[0;34m\u001b[0m\u001b[0m\n\u001b[1;32m    377\u001b[0m                                     self.fit_params, return_parameters=True)\n\u001b[0;32m--> 378\u001b[0;31m             \u001b[0;32mfor\u001b[0m \u001b[0mparameters\u001b[0m \u001b[0;32min\u001b[0m \u001b[0mparameter_iterable\u001b[0m\u001b[0;34m\u001b[0m\u001b[0m\n\u001b[0m\u001b[1;32m    379\u001b[0m             for train, test in cv)\n\u001b[1;32m    380\u001b[0m \u001b[0;34m\u001b[0m\u001b[0m\n",
        "\u001b[0;32m/home/sergs/.local/lib/python2.7/site-packages/sklearn/externals/joblib/parallel.pyc\u001b[0m in \u001b[0;36m__call__\u001b[0;34m(self, iterable)\u001b[0m\n\u001b[1;32m    651\u001b[0m             \u001b[0mself\u001b[0m\u001b[0;34m.\u001b[0m\u001b[0m_iterating\u001b[0m \u001b[0;34m=\u001b[0m \u001b[0mTrue\u001b[0m\u001b[0;34m\u001b[0m\u001b[0m\n\u001b[1;32m    652\u001b[0m             \u001b[0;32mfor\u001b[0m \u001b[0mfunction\u001b[0m\u001b[0;34m,\u001b[0m \u001b[0margs\u001b[0m\u001b[0;34m,\u001b[0m \u001b[0mkwargs\u001b[0m \u001b[0;32min\u001b[0m \u001b[0miterable\u001b[0m\u001b[0;34m:\u001b[0m\u001b[0;34m\u001b[0m\u001b[0m\n\u001b[0;32m--> 653\u001b[0;31m                 \u001b[0mself\u001b[0m\u001b[0;34m.\u001b[0m\u001b[0mdispatch\u001b[0m\u001b[0;34m(\u001b[0m\u001b[0mfunction\u001b[0m\u001b[0;34m,\u001b[0m \u001b[0margs\u001b[0m\u001b[0;34m,\u001b[0m \u001b[0mkwargs\u001b[0m\u001b[0;34m)\u001b[0m\u001b[0;34m\u001b[0m\u001b[0m\n\u001b[0m\u001b[1;32m    654\u001b[0m \u001b[0;34m\u001b[0m\u001b[0m\n\u001b[1;32m    655\u001b[0m             \u001b[0;32mif\u001b[0m \u001b[0mpre_dispatch\u001b[0m \u001b[0;34m==\u001b[0m \u001b[0;34m\"all\"\u001b[0m \u001b[0;32mor\u001b[0m \u001b[0mn_jobs\u001b[0m \u001b[0;34m==\u001b[0m \u001b[0;36m1\u001b[0m\u001b[0;34m:\u001b[0m\u001b[0;34m\u001b[0m\u001b[0m\n",
        "\u001b[0;32m/home/sergs/.local/lib/python2.7/site-packages/sklearn/externals/joblib/parallel.pyc\u001b[0m in \u001b[0;36mdispatch\u001b[0;34m(self, func, args, kwargs)\u001b[0m\n\u001b[1;32m    398\u001b[0m         \"\"\"\n\u001b[1;32m    399\u001b[0m         \u001b[0;32mif\u001b[0m \u001b[0mself\u001b[0m\u001b[0;34m.\u001b[0m\u001b[0m_pool\u001b[0m \u001b[0;32mis\u001b[0m \u001b[0mNone\u001b[0m\u001b[0;34m:\u001b[0m\u001b[0;34m\u001b[0m\u001b[0m\n\u001b[0;32m--> 400\u001b[0;31m             \u001b[0mjob\u001b[0m \u001b[0;34m=\u001b[0m \u001b[0mImmediateApply\u001b[0m\u001b[0;34m(\u001b[0m\u001b[0mfunc\u001b[0m\u001b[0;34m,\u001b[0m \u001b[0margs\u001b[0m\u001b[0;34m,\u001b[0m \u001b[0mkwargs\u001b[0m\u001b[0;34m)\u001b[0m\u001b[0;34m\u001b[0m\u001b[0m\n\u001b[0m\u001b[1;32m    401\u001b[0m             \u001b[0mindex\u001b[0m \u001b[0;34m=\u001b[0m \u001b[0mlen\u001b[0m\u001b[0;34m(\u001b[0m\u001b[0mself\u001b[0m\u001b[0;34m.\u001b[0m\u001b[0m_jobs\u001b[0m\u001b[0;34m)\u001b[0m\u001b[0;34m\u001b[0m\u001b[0m\n\u001b[1;32m    402\u001b[0m             \u001b[0;32mif\u001b[0m \u001b[0;32mnot\u001b[0m \u001b[0m_verbosity_filter\u001b[0m\u001b[0;34m(\u001b[0m\u001b[0mindex\u001b[0m\u001b[0;34m,\u001b[0m \u001b[0mself\u001b[0m\u001b[0;34m.\u001b[0m\u001b[0mverbose\u001b[0m\u001b[0;34m)\u001b[0m\u001b[0;34m:\u001b[0m\u001b[0;34m\u001b[0m\u001b[0m\n",
        "\u001b[0;32m/home/sergs/.local/lib/python2.7/site-packages/sklearn/externals/joblib/parallel.pyc\u001b[0m in \u001b[0;36m__init__\u001b[0;34m(self, func, args, kwargs)\u001b[0m\n\u001b[1;32m    136\u001b[0m         \u001b[0;31m# Don't delay the application, to avoid keeping the input\u001b[0m\u001b[0;34m\u001b[0m\u001b[0;34m\u001b[0m\u001b[0m\n\u001b[1;32m    137\u001b[0m         \u001b[0;31m# arguments in memory\u001b[0m\u001b[0;34m\u001b[0m\u001b[0;34m\u001b[0m\u001b[0m\n\u001b[0;32m--> 138\u001b[0;31m         \u001b[0mself\u001b[0m\u001b[0;34m.\u001b[0m\u001b[0mresults\u001b[0m \u001b[0;34m=\u001b[0m \u001b[0mfunc\u001b[0m\u001b[0;34m(\u001b[0m\u001b[0;34m*\u001b[0m\u001b[0margs\u001b[0m\u001b[0;34m,\u001b[0m \u001b[0;34m**\u001b[0m\u001b[0mkwargs\u001b[0m\u001b[0;34m)\u001b[0m\u001b[0;34m\u001b[0m\u001b[0m\n\u001b[0m\u001b[1;32m    139\u001b[0m \u001b[0;34m\u001b[0m\u001b[0m\n\u001b[1;32m    140\u001b[0m     \u001b[0;32mdef\u001b[0m \u001b[0mget\u001b[0m\u001b[0;34m(\u001b[0m\u001b[0mself\u001b[0m\u001b[0;34m)\u001b[0m\u001b[0;34m:\u001b[0m\u001b[0;34m\u001b[0m\u001b[0m\n",
        "\u001b[0;32m/home/sergs/.local/lib/python2.7/site-packages/sklearn/cross_validation.pyc\u001b[0m in \u001b[0;36m_fit_and_score\u001b[0;34m(estimator, X, y, scorer, train, test, verbose, parameters, fit_params, return_train_score, return_parameters)\u001b[0m\n\u001b[1;32m   1237\u001b[0m         \u001b[0mestimator\u001b[0m\u001b[0;34m.\u001b[0m\u001b[0mfit\u001b[0m\u001b[0;34m(\u001b[0m\u001b[0mX_train\u001b[0m\u001b[0;34m,\u001b[0m \u001b[0;34m**\u001b[0m\u001b[0mfit_params\u001b[0m\u001b[0;34m)\u001b[0m\u001b[0;34m\u001b[0m\u001b[0m\n\u001b[1;32m   1238\u001b[0m     \u001b[0;32melse\u001b[0m\u001b[0;34m:\u001b[0m\u001b[0;34m\u001b[0m\u001b[0m\n\u001b[0;32m-> 1239\u001b[0;31m         \u001b[0mestimator\u001b[0m\u001b[0;34m.\u001b[0m\u001b[0mfit\u001b[0m\u001b[0;34m(\u001b[0m\u001b[0mX_train\u001b[0m\u001b[0;34m,\u001b[0m \u001b[0my_train\u001b[0m\u001b[0;34m,\u001b[0m \u001b[0;34m**\u001b[0m\u001b[0mfit_params\u001b[0m\u001b[0;34m)\u001b[0m\u001b[0;34m\u001b[0m\u001b[0m\n\u001b[0m\u001b[1;32m   1240\u001b[0m     \u001b[0mtest_score\u001b[0m \u001b[0;34m=\u001b[0m \u001b[0m_score\u001b[0m\u001b[0;34m(\u001b[0m\u001b[0mestimator\u001b[0m\u001b[0;34m,\u001b[0m \u001b[0mX_test\u001b[0m\u001b[0;34m,\u001b[0m \u001b[0my_test\u001b[0m\u001b[0;34m,\u001b[0m \u001b[0mscorer\u001b[0m\u001b[0;34m)\u001b[0m\u001b[0;34m\u001b[0m\u001b[0m\n\u001b[1;32m   1241\u001b[0m     \u001b[0;32mif\u001b[0m \u001b[0mreturn_train_score\u001b[0m\u001b[0;34m:\u001b[0m\u001b[0;34m\u001b[0m\u001b[0m\n",
        "\u001b[0;32m/home/sergs/.local/lib/python2.7/site-packages/sklearn/ensemble/weight_boosting.pyc\u001b[0m in \u001b[0;36mfit\u001b[0;34m(self, X, y, sample_weight)\u001b[0m\n\u001b[1;32m    397\u001b[0m \u001b[0;34m\u001b[0m\u001b[0m\n\u001b[1;32m    398\u001b[0m         \u001b[0;31m# Fit\u001b[0m\u001b[0;34m\u001b[0m\u001b[0;34m\u001b[0m\u001b[0m\n\u001b[0;32m--> 399\u001b[0;31m         \u001b[0;32mreturn\u001b[0m \u001b[0msuper\u001b[0m\u001b[0;34m(\u001b[0m\u001b[0mAdaBoostClassifier\u001b[0m\u001b[0;34m,\u001b[0m \u001b[0mself\u001b[0m\u001b[0;34m)\u001b[0m\u001b[0;34m.\u001b[0m\u001b[0mfit\u001b[0m\u001b[0;34m(\u001b[0m\u001b[0mX\u001b[0m\u001b[0;34m,\u001b[0m \u001b[0my\u001b[0m\u001b[0;34m,\u001b[0m \u001b[0msample_weight\u001b[0m\u001b[0;34m)\u001b[0m\u001b[0;34m\u001b[0m\u001b[0m\n\u001b[0m\u001b[1;32m    400\u001b[0m \u001b[0;34m\u001b[0m\u001b[0m\n\u001b[1;32m    401\u001b[0m     \u001b[0;32mdef\u001b[0m \u001b[0m_validate_estimator\u001b[0m\u001b[0;34m(\u001b[0m\u001b[0mself\u001b[0m\u001b[0;34m)\u001b[0m\u001b[0;34m:\u001b[0m\u001b[0;34m\u001b[0m\u001b[0m\n",
        "\u001b[0;32m/home/sergs/.local/lib/python2.7/site-packages/sklearn/ensemble/weight_boosting.pyc\u001b[0m in \u001b[0;36mfit\u001b[0;34m(self, X, y, sample_weight)\u001b[0m\n\u001b[1;32m    141\u001b[0m                 \u001b[0miboost\u001b[0m\u001b[0;34m,\u001b[0m\u001b[0;34m\u001b[0m\u001b[0m\n\u001b[1;32m    142\u001b[0m                 \u001b[0mX\u001b[0m\u001b[0;34m,\u001b[0m \u001b[0my\u001b[0m\u001b[0;34m,\u001b[0m\u001b[0;34m\u001b[0m\u001b[0m\n\u001b[0;32m--> 143\u001b[0;31m                 sample_weight)\n\u001b[0m\u001b[1;32m    144\u001b[0m \u001b[0;34m\u001b[0m\u001b[0m\n\u001b[1;32m    145\u001b[0m             \u001b[0;31m# Early termination\u001b[0m\u001b[0;34m\u001b[0m\u001b[0;34m\u001b[0m\u001b[0m\n",
        "\u001b[0;32m/home/sergs/.local/lib/python2.7/site-packages/sklearn/ensemble/weight_boosting.pyc\u001b[0m in \u001b[0;36m_boost\u001b[0;34m(self, iboost, X, y, sample_weight)\u001b[0m\n\u001b[1;32m    454\u001b[0m \u001b[0;34m\u001b[0m\u001b[0m\n\u001b[1;32m    455\u001b[0m         \u001b[0;32melse\u001b[0m\u001b[0;34m:\u001b[0m  \u001b[0;31m# elif self.algorithm == \"SAMME\":\u001b[0m\u001b[0;34m\u001b[0m\u001b[0m\n\u001b[0;32m--> 456\u001b[0;31m             \u001b[0;32mreturn\u001b[0m \u001b[0mself\u001b[0m\u001b[0;34m.\u001b[0m\u001b[0m_boost_discrete\u001b[0m\u001b[0;34m(\u001b[0m\u001b[0miboost\u001b[0m\u001b[0;34m,\u001b[0m \u001b[0mX\u001b[0m\u001b[0;34m,\u001b[0m \u001b[0my\u001b[0m\u001b[0;34m,\u001b[0m \u001b[0msample_weight\u001b[0m\u001b[0;34m)\u001b[0m\u001b[0;34m\u001b[0m\u001b[0m\n\u001b[0m\u001b[1;32m    457\u001b[0m \u001b[0;34m\u001b[0m\u001b[0m\n\u001b[1;32m    458\u001b[0m     \u001b[0;32mdef\u001b[0m \u001b[0m_boost_real\u001b[0m\u001b[0;34m(\u001b[0m\u001b[0mself\u001b[0m\u001b[0;34m,\u001b[0m \u001b[0miboost\u001b[0m\u001b[0;34m,\u001b[0m \u001b[0mX\u001b[0m\u001b[0;34m,\u001b[0m \u001b[0my\u001b[0m\u001b[0;34m,\u001b[0m \u001b[0msample_weight\u001b[0m\u001b[0;34m)\u001b[0m\u001b[0;34m:\u001b[0m\u001b[0;34m\u001b[0m\u001b[0m\n",
        "\u001b[0;32m/home/sergs/.local/lib/python2.7/site-packages/sklearn/ensemble/weight_boosting.pyc\u001b[0m in \u001b[0;36m_boost_discrete\u001b[0;34m(self, iboost, X, y, sample_weight)\u001b[0m\n\u001b[1;32m    527\u001b[0m             \u001b[0;32mpass\u001b[0m\u001b[0;34m\u001b[0m\u001b[0m\n\u001b[1;32m    528\u001b[0m \u001b[0;34m\u001b[0m\u001b[0m\n\u001b[0;32m--> 529\u001b[0;31m         \u001b[0mestimator\u001b[0m\u001b[0;34m.\u001b[0m\u001b[0mfit\u001b[0m\u001b[0;34m(\u001b[0m\u001b[0mX\u001b[0m\u001b[0;34m,\u001b[0m \u001b[0my\u001b[0m\u001b[0;34m,\u001b[0m \u001b[0msample_weight\u001b[0m\u001b[0;34m=\u001b[0m\u001b[0msample_weight\u001b[0m\u001b[0;34m)\u001b[0m\u001b[0;34m\u001b[0m\u001b[0m\n\u001b[0m\u001b[1;32m    530\u001b[0m \u001b[0;34m\u001b[0m\u001b[0m\n\u001b[1;32m    531\u001b[0m         \u001b[0my_predict\u001b[0m \u001b[0;34m=\u001b[0m \u001b[0mestimator\u001b[0m\u001b[0;34m.\u001b[0m\u001b[0mpredict\u001b[0m\u001b[0;34m(\u001b[0m\u001b[0mX\u001b[0m\u001b[0;34m)\u001b[0m\u001b[0;34m\u001b[0m\u001b[0m\n",
        "\u001b[0;32m/home/sergs/.local/lib/python2.7/site-packages/sklearn/tree/tree.pyc\u001b[0m in \u001b[0;36mfit\u001b[0;34m(self, X, y, sample_mask, X_argsorted, check_input, sample_weight)\u001b[0m\n\u001b[1;32m    265\u001b[0m                                            max_leaf_nodes)\n\u001b[1;32m    266\u001b[0m \u001b[0;34m\u001b[0m\u001b[0m\n\u001b[0;32m--> 267\u001b[0;31m         \u001b[0mbuilder\u001b[0m\u001b[0;34m.\u001b[0m\u001b[0mbuild\u001b[0m\u001b[0;34m(\u001b[0m\u001b[0mself\u001b[0m\u001b[0;34m.\u001b[0m\u001b[0mtree_\u001b[0m\u001b[0;34m,\u001b[0m \u001b[0mX\u001b[0m\u001b[0;34m,\u001b[0m \u001b[0my\u001b[0m\u001b[0;34m,\u001b[0m \u001b[0msample_weight\u001b[0m\u001b[0;34m)\u001b[0m\u001b[0;34m\u001b[0m\u001b[0m\n\u001b[0m\u001b[1;32m    268\u001b[0m \u001b[0;34m\u001b[0m\u001b[0m\n\u001b[1;32m    269\u001b[0m         \u001b[0;32mif\u001b[0m \u001b[0mself\u001b[0m\u001b[0;34m.\u001b[0m\u001b[0mn_outputs_\u001b[0m \u001b[0;34m==\u001b[0m \u001b[0;36m1\u001b[0m\u001b[0;34m:\u001b[0m\u001b[0;34m\u001b[0m\u001b[0m\n",
        "\u001b[0;31mKeyboardInterrupt\u001b[0m: "
       ]
      }
     ],
     "prompt_number": 8
    },
    {
     "cell_type": "code",
     "collapsed": false,
     "input": [
      "result_random.best_estimator_"
     ],
     "language": "python",
     "metadata": {},
     "outputs": []
    },
    {
     "cell_type": "code",
     "collapsed": false,
     "input": [
      "clf = AdaBoostClassifier(algorithm='SAMME.R',\n",
      "          base_estimator=DecisionTreeClassifier(compute_importances=None, criterion='gini',\n",
      "            max_depth=8, max_features=None, max_leaf_nodes=None,\n",
      "            min_density=None, min_samples_leaf=1, min_samples_split=2,\n",
      "            random_state=None, splitter='best'),\n",
      "          learning_rate=0.40000000000000002, n_estimators=480,\n",
      "          random_state=None)\n",
      "pred = classifier.fit(X, t).predict(testdf)"
     ],
     "language": "python",
     "metadata": {},
     "outputs": []
    },
    {
     "cell_type": "code",
     "collapsed": false,
     "input": [
      "accuracy = sum(pd.Series(pred) & t) / float(len(testdf))\n",
      "print (accuracy)"
     ],
     "language": "python",
     "metadata": {},
     "outputs": []
    },
    {
     "cell_type": "code",
     "collapsed": false,
     "input": [
      "filename = \"submission3.csv\"\n",
      "pd.DataFrame(pred, testdf.index).to_csv(filename, index_label = 'Id', header = ['Prediction'])"
     ],
     "language": "python",
     "metadata": {},
     "outputs": []
    },
    {
     "cell_type": "markdown",
     "metadata": {},
     "source": [
      "New Stuff"
     ]
    },
    {
     "cell_type": "code",
     "collapsed": false,
     "input": [
      "from sklearn.ensemble import RandomForestClassifier"
     ],
     "language": "python",
     "metadata": {},
     "outputs": [],
     "prompt_number": 28
    },
    {
     "cell_type": "code",
     "collapsed": false,
     "input": [
      "# specify parameters and distributions to sample from\n",
      "param_dist = {'criterion':['gini','entropy'],\n",
      "                'n_estimators': np.arange(10, 1000, 5)}\n",
      "\n",
      "# run randomized search\n",
      "n_iter_search = 300\n",
      "clf = RandomForestClassifier(verbose = 1,\n",
      "                             max_features=None,\n",
      "                             oob_score=True,\n",
      "                             bootstrap = True,\n",
      "                             n_jobs = -1)\n",
      "random_search_forest = RandomizedSearchCV(clf, param_distributions=param_dist,\n",
      "                                   n_iter=n_iter_search, )"
     ],
     "language": "python",
     "metadata": {},
     "outputs": [],
     "prompt_number": 33
    },
    {
     "cell_type": "code",
     "collapsed": false,
     "input": [
      "result_random_search_rf = random_search_forest.fit(X, t)"
     ],
     "language": "python",
     "metadata": {},
     "outputs": [
      {
       "output_type": "stream",
       "stream": "stderr",
       "text": [
        "[Parallel(n_jobs=4)]: Done   1 out of   4 | elapsed:    2.8s remaining:    8.5s\n",
        "[Parallel(n_jobs=4)]: Done   4 out of   4 | elapsed:    3.0s finished\n"
       ]
      },
      {
       "output_type": "stream",
       "stream": "stderr",
       "text": [
        "[Parallel(n_jobs=4)]: Done   1 out of   4 | elapsed:    0.1s remaining:    0.4s\n",
        "[Parallel(n_jobs=4)]: Done   4 out of   4 | elapsed:    0.1s finished\n",
        "[Parallel(n_jobs=4)]: Done   1 out of   4 | elapsed:    2.9s remaining:    8.8s\n",
        "[Parallel(n_jobs=4)]: Done   4 out of   4 | elapsed:    3.0s finished\n"
       ]
      },
      {
       "output_type": "stream",
       "stream": "stderr",
       "text": [
        "[Parallel(n_jobs=4)]: Done   1 out of   4 | elapsed:    0.1s remaining:    0.4s\n",
        "[Parallel(n_jobs=4)]: Done   4 out of   4 | elapsed:    0.1s finished\n",
        "[Parallel(n_jobs=4)]: Done   1 out of   4 | elapsed:    3.2s remaining:    9.5s\n",
        "[Parallel(n_jobs=4)]: Done   4 out of   4 | elapsed:    3.4s finished\n"
       ]
      },
      {
       "output_type": "stream",
       "stream": "stderr",
       "text": [
        "[Parallel(n_jobs=4)]: Done   1 out of   4 | elapsed:    0.2s remaining:    0.5s\n",
        "[Parallel(n_jobs=4)]: Done   4 out of   4 | elapsed:    0.2s finished\n",
        "[Parallel(n_jobs=4)]: Done   1 out of   4 | elapsed:    5.7s remaining:   17.2s\n",
        "[Parallel(n_jobs=4)]: Done   4 out of   4 | elapsed:    6.2s finished\n"
       ]
      },
      {
       "output_type": "stream",
       "stream": "stderr",
       "text": [
        "[Parallel(n_jobs=4)]: Done   1 out of   4 | elapsed:    0.3s remaining:    0.9s\n",
        "[Parallel(n_jobs=4)]: Done   4 out of   4 | elapsed:    0.3s finished\n",
        "[Parallel(n_jobs=4)]: Done   1 out of   4 | elapsed:    6.5s remaining:   19.5s\n",
        "[Parallel(n_jobs=4)]: Done   4 out of   4 | elapsed:    6.5s finished\n"
       ]
      },
      {
       "output_type": "stream",
       "stream": "stderr",
       "text": [
        "[Parallel(n_jobs=4)]: Done   1 out of   4 | elapsed:    0.3s remaining:    0.9s\n",
        "[Parallel(n_jobs=4)]: Done   4 out of   4 | elapsed:    0.3s finished\n",
        "[Parallel(n_jobs=4)]: Done   1 out of   4 | elapsed:    6.2s remaining:   18.5s\n",
        "[Parallel(n_jobs=4)]: Done   4 out of   4 | elapsed:    6.5s finished\n"
       ]
      },
      {
       "output_type": "stream",
       "stream": "stderr",
       "text": [
        "[Parallel(n_jobs=4)]: Done   1 out of   4 | elapsed:    0.3s remaining:    0.9s\n",
        "[Parallel(n_jobs=4)]: Done   4 out of   4 | elapsed:    0.3s finished\n",
        "[Parallel(n_jobs=4)]: Done   1 out of   4 | elapsed:    3.4s remaining:   10.2s\n",
        "[Parallel(n_jobs=4)]: Done   4 out of   4 | elapsed:    3.9s finished\n"
       ]
      },
      {
       "output_type": "stream",
       "stream": "stderr",
       "text": [
        "[Parallel(n_jobs=4)]: Done   1 out of   4 | elapsed:    0.1s remaining:    0.2s\n",
        "[Parallel(n_jobs=4)]: Done   4 out of   4 | elapsed:    0.1s finished\n",
        "[Parallel(n_jobs=4)]: Done   1 out of   4 | elapsed:    4.0s remaining:   12.0s\n",
        "[Parallel(n_jobs=4)]: Done   4 out of   4 | elapsed:    4.2s finished\n"
       ]
      },
      {
       "output_type": "stream",
       "stream": "stderr",
       "text": [
        "[Parallel(n_jobs=4)]: Done   1 out of   4 | elapsed:    0.1s remaining:    0.2s\n",
        "[Parallel(n_jobs=4)]: Done   4 out of   4 | elapsed:    0.1s finished\n",
        "[Parallel(n_jobs=4)]: Done   1 out of   4 | elapsed:    3.8s remaining:   11.3s\n",
        "[Parallel(n_jobs=4)]: Done   4 out of   4 | elapsed:    3.8s finished\n"
       ]
      },
      {
       "output_type": "stream",
       "stream": "stderr",
       "text": [
        "[Parallel(n_jobs=4)]: Done   1 out of   4 | elapsed:    0.1s remaining:    0.3s\n",
        "[Parallel(n_jobs=4)]: Done   4 out of   4 | elapsed:    0.1s finished\n",
        "[Parallel(n_jobs=4)]: Done   1 out of   4 | elapsed:   10.0s remaining:   29.9s\n",
        "[Parallel(n_jobs=4)]: Done   4 out of   4 | elapsed:   11.4s finished\n"
       ]
      },
      {
       "output_type": "stream",
       "stream": "stderr",
       "text": [
        "[Parallel(n_jobs=4)]: Done   1 out of   4 | elapsed:    0.2s remaining:    0.7s\n",
        "[Parallel(n_jobs=4)]: Done   4 out of   4 | elapsed:    0.2s finished\n",
        "[Parallel(n_jobs=4)]: Done   1 out of   4 | elapsed:   10.1s remaining:   30.4s\n",
        "[Parallel(n_jobs=4)]: Done   4 out of   4 | elapsed:   10.6s finished\n"
       ]
      },
      {
       "output_type": "stream",
       "stream": "stderr",
       "text": [
        "[Parallel(n_jobs=4)]: Done   1 out of   4 | elapsed:    0.2s remaining:    0.7s\n",
        "[Parallel(n_jobs=4)]: Done   4 out of   4 | elapsed:    0.2s finished\n",
        "[Parallel(n_jobs=4)]: Done   1 out of   4 | elapsed:   10.7s remaining:   32.0s\n",
        "[Parallel(n_jobs=4)]: Done   4 out of   4 | elapsed:   10.8s finished\n"
       ]
      },
      {
       "output_type": "stream",
       "stream": "stderr",
       "text": [
        "[Parallel(n_jobs=4)]: Done   1 out of   4 | elapsed:    0.3s remaining:    0.8s\n",
        "[Parallel(n_jobs=4)]: Done   4 out of   4 | elapsed:    0.3s finished\n",
        "[Parallel(n_jobs=4)]: Done   1 out of   4 | elapsed:    1.0s remaining:    3.0s\n",
        "[Parallel(n_jobs=4)]: Done   4 out of   4 | elapsed:    1.1s finished\n"
       ]
      },
      {
       "output_type": "stream",
       "stream": "stderr",
       "text": [
        "[Parallel(n_jobs=4)]: Done   1 out of   4 | elapsed:    0.0s remaining:    0.0s\n",
        "[Parallel(n_jobs=4)]: Done   4 out of   4 | elapsed:    0.0s finished\n",
        "[Parallel(n_jobs=4)]: Done   1 out of   4 | elapsed:    1.1s remaining:    3.2s\n",
        "[Parallel(n_jobs=4)]: Done   4 out of   4 | elapsed:    1.1s finished\n"
       ]
      },
      {
       "output_type": "stream",
       "stream": "stderr",
       "text": [
        "[Parallel(n_jobs=4)]: Done   1 out of   4 | elapsed:    0.0s remaining:    0.1s\n",
        "[Parallel(n_jobs=4)]: Done   4 out of   4 | elapsed:    0.0s finished\n",
        "[Parallel(n_jobs=4)]: Done   1 out of   4 | elapsed:    1.0s remaining:    2.9s\n",
        "[Parallel(n_jobs=4)]: Done   4 out of   4 | elapsed:    1.2s finished\n"
       ]
      },
      {
       "output_type": "stream",
       "stream": "stderr",
       "text": [
        "[Parallel(n_jobs=4)]: Done   1 out of   4 | elapsed:    0.0s remaining:    0.1s\n",
        "[Parallel(n_jobs=4)]: Done   4 out of   4 | elapsed:    0.0s finished\n",
        "[Parallel(n_jobs=4)]: Done   1 out of   4 | elapsed:    8.2s remaining:   24.7s\n",
        "[Parallel(n_jobs=4)]: Done   4 out of   4 | elapsed:    9.5s finished\n"
       ]
      },
      {
       "output_type": "stream",
       "stream": "stderr",
       "text": [
        "[Parallel(n_jobs=4)]: Done   1 out of   4 | elapsed:    0.2s remaining:    0.6s\n",
        "[Parallel(n_jobs=4)]: Done   4 out of   4 | elapsed:    0.2s finished\n",
        "[Parallel(n_jobs=4)]: Done   1 out of   4 | elapsed:    8.4s remaining:   25.2s\n",
        "[Parallel(n_jobs=4)]: Done   4 out of   4 | elapsed:    8.8s finished\n"
       ]
      },
      {
       "output_type": "stream",
       "stream": "stderr",
       "text": [
        "[Parallel(n_jobs=4)]: Done   1 out of   4 | elapsed:    0.2s remaining:    0.6s\n",
        "[Parallel(n_jobs=4)]: Done   4 out of   4 | elapsed:    0.2s finished\n",
        "[Parallel(n_jobs=4)]: Done   1 out of   4 | elapsed:    9.8s remaining:   29.5s\n",
        "[Parallel(n_jobs=4)]: Done   4 out of   4 | elapsed:    9.8s finished\n"
       ]
      },
      {
       "output_type": "stream",
       "stream": "stderr",
       "text": [
        "[Parallel(n_jobs=4)]: Done   1 out of   4 | elapsed:    0.2s remaining:    0.5s\n",
        "[Parallel(n_jobs=4)]: Done   4 out of   4 | elapsed:    0.2s finished\n",
        "[Parallel(n_jobs=4)]: Done   1 out of   4 | elapsed:   10.0s remaining:   29.9s\n",
        "[Parallel(n_jobs=4)]: Done   4 out of   4 | elapsed:   10.6s finished\n"
       ]
      },
      {
       "output_type": "stream",
       "stream": "stderr",
       "text": [
        "[Parallel(n_jobs=4)]: Done   1 out of   4 | elapsed:    0.2s remaining:    0.6s\n",
        "[Parallel(n_jobs=4)]: Done   4 out of   4 | elapsed:    0.2s finished\n",
        "[Parallel(n_jobs=4)]: Done   1 out of   4 | elapsed:    9.9s remaining:   29.6s\n",
        "[Parallel(n_jobs=4)]: Done   4 out of   4 | elapsed:   10.2s finished\n"
       ]
      },
      {
       "output_type": "stream",
       "stream": "stderr",
       "text": [
        "[Parallel(n_jobs=4)]: Done   1 out of   4 | elapsed:    0.2s remaining:    0.6s\n",
        "[Parallel(n_jobs=4)]: Done   4 out of   4 | elapsed:    0.2s finished\n",
        "[Parallel(n_jobs=4)]: Done   1 out of   4 | elapsed:   10.1s remaining:   30.3s\n",
        "[Parallel(n_jobs=4)]: Done   4 out of   4 | elapsed:   10.2s finished\n"
       ]
      },
      {
       "output_type": "stream",
       "stream": "stderr",
       "text": [
        "[Parallel(n_jobs=4)]: Done   1 out of   4 | elapsed:    0.2s remaining:    0.7s\n",
        "[Parallel(n_jobs=4)]: Done   4 out of   4 | elapsed:    0.2s finished\n",
        "[Parallel(n_jobs=4)]: Done   1 out of   4 | elapsed:   11.8s remaining:   35.4s\n",
        "[Parallel(n_jobs=4)]: Done   4 out of   4 | elapsed:   12.3s finished\n"
       ]
      },
      {
       "output_type": "stream",
       "stream": "stderr",
       "text": [
        "[Parallel(n_jobs=4)]: Done   1 out of   4 | elapsed:    0.3s remaining:    0.8s\n",
        "[Parallel(n_jobs=4)]: Done   4 out of   4 | elapsed:    0.3s finished\n",
        "[Parallel(n_jobs=4)]: Done   1 out of   4 | elapsed:   11.9s remaining:   35.8s\n",
        "[Parallel(n_jobs=4)]: Done   4 out of   4 | elapsed:   11.9s finished\n"
       ]
      },
      {
       "output_type": "stream",
       "stream": "stderr",
       "text": [
        "[Parallel(n_jobs=4)]: Done   1 out of   4 | elapsed:    0.3s remaining:    0.9s\n",
        "[Parallel(n_jobs=4)]: Done   4 out of   4 | elapsed:    0.3s finished\n",
        "[Parallel(n_jobs=4)]: Done   1 out of   4 | elapsed:   12.7s remaining:   38.1s\n",
        "[Parallel(n_jobs=4)]: Done   4 out of   4 | elapsed:   12.7s finished\n"
       ]
      },
      {
       "output_type": "stream",
       "stream": "stderr",
       "text": [
        "[Parallel(n_jobs=4)]: Done   1 out of   4 | elapsed:    0.3s remaining:    0.8s\n",
        "[Parallel(n_jobs=4)]: Done   4 out of   4 | elapsed:    0.3s finished\n",
        "[Parallel(n_jobs=4)]: Done   1 out of   4 | elapsed:    9.2s remaining:   27.7s\n",
        "[Parallel(n_jobs=4)]: Done   4 out of   4 | elapsed:   10.6s finished\n"
       ]
      },
      {
       "output_type": "stream",
       "stream": "stderr",
       "text": [
        "[Parallel(n_jobs=4)]: Done   1 out of   4 | elapsed:    0.2s remaining:    0.6s\n",
        "[Parallel(n_jobs=4)]: Done   4 out of   4 | elapsed:    0.2s finished\n",
        "[Parallel(n_jobs=4)]: Done   1 out of   4 | elapsed:    9.0s remaining:   27.0s\n",
        "[Parallel(n_jobs=4)]: Done   4 out of   4 | elapsed:   10.6s finished\n"
       ]
      },
      {
       "output_type": "stream",
       "stream": "stderr",
       "text": [
        "[Parallel(n_jobs=4)]: Done   1 out of   4 | elapsed:    0.2s remaining:    0.6s\n",
        "[Parallel(n_jobs=4)]: Done   4 out of   4 | elapsed:    0.2s finished\n",
        "[Parallel(n_jobs=4)]: Done   1 out of   4 | elapsed:    9.3s remaining:   27.8s\n",
        "[Parallel(n_jobs=4)]: Done   4 out of   4 | elapsed:   10.9s finished\n"
       ]
      },
      {
       "output_type": "stream",
       "stream": "stderr",
       "text": [
        "[Parallel(n_jobs=4)]: Done   1 out of   4 | elapsed:    0.2s remaining:    0.6s\n",
        "[Parallel(n_jobs=4)]: Done   4 out of   4 | elapsed:    0.2s finished\n",
        "[Parallel(n_jobs=4)]: Done   1 out of   4 | elapsed:   11.3s remaining:   33.9s\n",
        "[Parallel(n_jobs=4)]: Done   4 out of   4 | elapsed:   11.6s finished\n"
       ]
      },
      {
       "output_type": "stream",
       "stream": "stderr",
       "text": [
        "[Parallel(n_jobs=4)]: Done   1 out of   4 | elapsed:    0.3s remaining:    0.8s\n",
        "[Parallel(n_jobs=4)]: Done   4 out of   4 | elapsed:    0.3s finished\n",
        "[Parallel(n_jobs=4)]: Done   1 out of   4 | elapsed:   12.5s remaining:   37.5s\n",
        "[Parallel(n_jobs=4)]: Done   4 out of   4 | elapsed:   12.5s finished\n"
       ]
      },
      {
       "output_type": "stream",
       "stream": "stderr",
       "text": [
        "[Parallel(n_jobs=4)]: Done   1 out of   4 | elapsed:    0.3s remaining:    0.8s\n",
        "[Parallel(n_jobs=4)]: Done   4 out of   4 | elapsed:    0.3s finished\n",
        "[Parallel(n_jobs=4)]: Done   1 out of   4 | elapsed:   12.5s remaining:   37.5s\n",
        "[Parallel(n_jobs=4)]: Done   4 out of   4 | elapsed:   12.5s finished\n"
       ]
      },
      {
       "output_type": "stream",
       "stream": "stderr",
       "text": [
        "[Parallel(n_jobs=4)]: Done   1 out of   4 | elapsed:    0.3s remaining:    0.8s\n",
        "[Parallel(n_jobs=4)]: Done   4 out of   4 | elapsed:    0.3s finished\n",
        "[Parallel(n_jobs=4)]: Done   1 out of   4 | elapsed:    6.5s remaining:   19.6s\n",
        "[Parallel(n_jobs=4)]: Done   4 out of   4 | elapsed:    6.5s finished\n"
       ]
      },
      {
       "output_type": "stream",
       "stream": "stderr",
       "text": [
        "[Parallel(n_jobs=4)]: Done   1 out of   4 | elapsed:    0.3s remaining:    0.8s\n",
        "[Parallel(n_jobs=4)]: Done   4 out of   4 | elapsed:    0.3s finished\n",
        "[Parallel(n_jobs=4)]: Done   1 out of   4 | elapsed:    5.7s remaining:   17.1s\n",
        "[Parallel(n_jobs=4)]: Done   4 out of   4 | elapsed:    5.9s finished\n"
       ]
      },
      {
       "output_type": "stream",
       "stream": "stderr",
       "text": [
        "[Parallel(n_jobs=4)]: Done   1 out of   4 | elapsed:    0.3s remaining:    0.8s\n",
        "[Parallel(n_jobs=4)]: Done   4 out of   4 | elapsed:    0.3s finished\n",
        "[Parallel(n_jobs=4)]: Done   1 out of   4 | elapsed:    5.6s remaining:   16.7s\n",
        "[Parallel(n_jobs=4)]: Done   4 out of   4 | elapsed:    6.5s finished\n"
       ]
      },
      {
       "output_type": "stream",
       "stream": "stderr",
       "text": [
        "[Parallel(n_jobs=4)]: Done   1 out of   4 | elapsed:    0.3s remaining:    0.8s\n",
        "[Parallel(n_jobs=4)]: Done   4 out of   4 | elapsed:    0.3s finished\n",
        "[Parallel(n_jobs=4)]: Done   1 out of   4 | elapsed:    3.4s remaining:   10.3s\n",
        "[Parallel(n_jobs=4)]: Done   4 out of   4 | elapsed:    3.8s finished\n"
       ]
      },
      {
       "output_type": "stream",
       "stream": "stderr",
       "text": [
        "[Parallel(n_jobs=4)]: Done   1 out of   4 | elapsed:    0.1s remaining:    0.4s\n",
        "[Parallel(n_jobs=4)]: Done   4 out of   4 | elapsed:    0.2s finished\n",
        "[Parallel(n_jobs=4)]: Done   1 out of   4 | elapsed:    3.2s remaining:    9.7s\n",
        "[Parallel(n_jobs=4)]: Done   4 out of   4 | elapsed:    3.6s finished\n"
       ]
      },
      {
       "output_type": "stream",
       "stream": "stderr",
       "text": [
        "[Parallel(n_jobs=4)]: Done   1 out of   4 | elapsed:    0.1s remaining:    0.4s\n",
        "[Parallel(n_jobs=4)]: Done   4 out of   4 | elapsed:    0.1s finished\n",
        "[Parallel(n_jobs=4)]: Done   1 out of   4 | elapsed:    3.2s remaining:    9.7s\n",
        "[Parallel(n_jobs=4)]: Done   4 out of   4 | elapsed:    3.8s finished\n"
       ]
      },
      {
       "output_type": "stream",
       "stream": "stderr",
       "text": [
        "[Parallel(n_jobs=4)]: Done   1 out of   4 | elapsed:    0.1s remaining:    0.4s\n",
        "[Parallel(n_jobs=4)]: Done   4 out of   4 | elapsed:    0.1s finished\n",
        "[Parallel(n_jobs=4)]: Done   1 out of   4 | elapsed:    0.4s remaining:    1.1s\n",
        "[Parallel(n_jobs=4)]: Done   4 out of   4 | elapsed:    0.4s finished\n"
       ]
      },
      {
       "output_type": "stream",
       "stream": "stderr",
       "text": [
        "[Parallel(n_jobs=4)]: Done   1 out of   4 | elapsed:    0.0s remaining:    0.0s\n",
        "[Parallel(n_jobs=4)]: Done   4 out of   4 | elapsed:    0.0s finished\n",
        "[Parallel(n_jobs=4)]: Done   1 out of   4 | elapsed:    0.4s remaining:    1.1s\n",
        "[Parallel(n_jobs=4)]: Done   4 out of   4 | elapsed:    0.4s finished\n"
       ]
      },
      {
       "output_type": "stream",
       "stream": "stderr",
       "text": [
        "[Parallel(n_jobs=4)]: Done   1 out of   4 | elapsed:    0.0s remaining:    0.0s\n",
        "[Parallel(n_jobs=4)]: Done   4 out of   4 | elapsed:    0.0s finished\n",
        "[Parallel(n_jobs=4)]: Done   1 out of   4 | elapsed:    0.4s remaining:    1.1s\n",
        "[Parallel(n_jobs=4)]: Done   4 out of   4 | elapsed:    0.4s finished\n"
       ]
      },
      {
       "output_type": "stream",
       "stream": "stderr",
       "text": [
        "[Parallel(n_jobs=4)]: Done   1 out of   4 | elapsed:    0.0s remaining:    0.0s\n",
        "[Parallel(n_jobs=4)]: Done   4 out of   4 | elapsed:    0.0s finished\n",
        "[Parallel(n_jobs=4)]: Done   1 out of   4 | elapsed:    0.4s remaining:    1.2s\n",
        "[Parallel(n_jobs=4)]: Done   4 out of   4 | elapsed:    0.4s finished\n"
       ]
      },
      {
       "output_type": "stream",
       "stream": "stderr",
       "text": [
        "[Parallel(n_jobs=4)]: Done   1 out of   4 | elapsed:    0.0s remaining:    0.0s\n",
        "[Parallel(n_jobs=4)]: Done   4 out of   4 | elapsed:    0.0s finished\n",
        "[Parallel(n_jobs=4)]: Done   1 out of   4 | elapsed:    0.5s remaining:    1.5s\n",
        "[Parallel(n_jobs=4)]: Done   4 out of   4 | elapsed:    0.5s finished\n"
       ]
      },
      {
       "output_type": "stream",
       "stream": "stderr",
       "text": [
        "[Parallel(n_jobs=4)]: Done   1 out of   4 | elapsed:    0.0s remaining:    0.0s\n",
        "[Parallel(n_jobs=4)]: Done   4 out of   4 | elapsed:    0.0s finished\n",
        "[Parallel(n_jobs=4)]: Done   1 out of   4 | elapsed:    0.5s remaining:    1.4s\n",
        "[Parallel(n_jobs=4)]: Done   4 out of   4 | elapsed:    0.5s finished\n"
       ]
      },
      {
       "output_type": "stream",
       "stream": "stderr",
       "text": [
        "[Parallel(n_jobs=4)]: Done   1 out of   4 | elapsed:    0.0s remaining:    0.0s\n",
        "[Parallel(n_jobs=4)]: Done   4 out of   4 | elapsed:    0.0s finished\n",
        "[Parallel(n_jobs=4)]: Done   1 out of   4 | elapsed:    1.8s remaining:    5.3s\n",
        "[Parallel(n_jobs=4)]: Done   4 out of   4 | elapsed:    2.2s finished\n"
       ]
      },
      {
       "output_type": "stream",
       "stream": "stderr",
       "text": [
        "[Parallel(n_jobs=4)]: Done   1 out of   4 | elapsed:    0.0s remaining:    0.1s\n",
        "[Parallel(n_jobs=4)]: Done   4 out of   4 | elapsed:    0.0s finished\n",
        "[Parallel(n_jobs=4)]: Done   1 out of   4 | elapsed:    1.8s remaining:    5.3s\n",
        "[Parallel(n_jobs=4)]: Done   4 out of   4 | elapsed:    2.2s finished\n"
       ]
      },
      {
       "output_type": "stream",
       "stream": "stderr",
       "text": [
        "[Parallel(n_jobs=4)]: Done   1 out of   4 | elapsed:    0.0s remaining:    0.1s\n",
        "[Parallel(n_jobs=4)]: Done   4 out of   4 | elapsed:    0.0s finished\n",
        "[Parallel(n_jobs=4)]: Done   1 out of   4 | elapsed:    1.8s remaining:    5.4s\n",
        "[Parallel(n_jobs=4)]: Done   4 out of   4 | elapsed:    2.2s finished\n"
       ]
      },
      {
       "output_type": "stream",
       "stream": "stderr",
       "text": [
        "[Parallel(n_jobs=4)]: Done   1 out of   4 | elapsed:    0.0s remaining:    0.1s\n",
        "[Parallel(n_jobs=4)]: Done   4 out of   4 | elapsed:    0.0s finished\n",
        "[Parallel(n_jobs=4)]: Done   1 out of   4 | elapsed:    6.4s remaining:   19.2s\n",
        "[Parallel(n_jobs=4)]: Done   4 out of   4 | elapsed:    7.3s finished\n"
       ]
      },
      {
       "output_type": "stream",
       "stream": "stderr",
       "text": [
        "[Parallel(n_jobs=4)]: Done   1 out of   4 | elapsed:    0.1s remaining:    0.4s\n",
        "[Parallel(n_jobs=4)]: Done   4 out of   4 | elapsed:    0.1s finished\n",
        "[Parallel(n_jobs=4)]: Done   1 out of   4 | elapsed:    6.9s remaining:   20.8s\n",
        "[Parallel(n_jobs=4)]: Done   4 out of   4 | elapsed:    6.9s finished\n"
       ]
      },
      {
       "output_type": "stream",
       "stream": "stderr",
       "text": [
        "[Parallel(n_jobs=4)]: Done   1 out of   4 | elapsed:    0.1s remaining:    0.4s\n",
        "[Parallel(n_jobs=4)]: Done   4 out of   4 | elapsed:    0.1s finished\n",
        "[Parallel(n_jobs=4)]: Done   1 out of   4 | elapsed:    6.7s remaining:   20.1s\n",
        "[Parallel(n_jobs=4)]: Done   4 out of   4 | elapsed:    7.1s finished\n"
       ]
      },
      {
       "output_type": "stream",
       "stream": "stderr",
       "text": [
        "[Parallel(n_jobs=4)]: Done   1 out of   4 | elapsed:    0.1s remaining:    0.4s\n",
        "[Parallel(n_jobs=4)]: Done   4 out of   4 | elapsed:    0.1s finished\n",
        "[Parallel(n_jobs=4)]: Done   1 out of   4 | elapsed:    2.9s remaining:    8.8s\n",
        "[Parallel(n_jobs=4)]: Done   4 out of   4 | elapsed:    3.6s finished\n"
       ]
      },
      {
       "output_type": "stream",
       "stream": "stderr",
       "text": [
        "[Parallel(n_jobs=4)]: Done   1 out of   4 | elapsed:    0.1s remaining:    0.2s\n",
        "[Parallel(n_jobs=4)]: Done   4 out of   4 | elapsed:    0.1s finished\n",
        "[Parallel(n_jobs=4)]: Done   1 out of   4 | elapsed:    2.9s remaining:    8.6s\n",
        "[Parallel(n_jobs=4)]: Done   4 out of   4 | elapsed:    3.4s finished\n"
       ]
      },
      {
       "output_type": "stream",
       "stream": "stderr",
       "text": [
        "[Parallel(n_jobs=4)]: Done   1 out of   4 | elapsed:    0.1s remaining:    0.2s\n",
        "[Parallel(n_jobs=4)]: Done   4 out of   4 | elapsed:    0.1s finished\n",
        "[Parallel(n_jobs=4)]: Done   1 out of   4 | elapsed:    3.4s remaining:   10.3s\n",
        "[Parallel(n_jobs=4)]: Done   4 out of   4 | elapsed:    3.4s finished\n"
       ]
      },
      {
       "output_type": "stream",
       "stream": "stderr",
       "text": [
        "[Parallel(n_jobs=4)]: Done   1 out of   4 | elapsed:    0.1s remaining:    0.2s\n",
        "[Parallel(n_jobs=4)]: Done   4 out of   4 | elapsed:    0.1s finished\n",
        "[Parallel(n_jobs=4)]: Done   1 out of   4 | elapsed:    9.4s remaining:   28.2s\n",
        "[Parallel(n_jobs=4)]: Done   4 out of   4 | elapsed:    9.7s finished\n"
       ]
      },
      {
       "output_type": "stream",
       "stream": "stderr",
       "text": [
        "[Parallel(n_jobs=4)]: Done   1 out of   4 | elapsed:    0.2s remaining:    0.6s\n",
        "[Parallel(n_jobs=4)]: Done   4 out of   4 | elapsed:    0.2s finished\n",
        "[Parallel(n_jobs=4)]: Done   1 out of   4 | elapsed:    8.9s remaining:   26.6s\n",
        "[Parallel(n_jobs=4)]: Done   4 out of   4 | elapsed:    9.3s finished\n"
       ]
      },
      {
       "output_type": "stream",
       "stream": "stderr",
       "text": [
        "[Parallel(n_jobs=4)]: Done   1 out of   4 | elapsed:    0.2s remaining:    0.5s\n",
        "[Parallel(n_jobs=4)]: Done   4 out of   4 | elapsed:    0.2s finished\n",
        "[Parallel(n_jobs=4)]: Done   1 out of   4 | elapsed:    9.1s remaining:   27.4s\n",
        "[Parallel(n_jobs=4)]: Done   4 out of   4 | elapsed:    9.7s finished\n"
       ]
      },
      {
       "output_type": "stream",
       "stream": "stderr",
       "text": [
        "[Parallel(n_jobs=4)]: Done   1 out of   4 | elapsed:    0.2s remaining:    0.6s\n",
        "[Parallel(n_jobs=4)]: Done   4 out of   4 | elapsed:    0.2s finished\n",
        "[Parallel(n_jobs=4)]: Done   1 out of   4 | elapsed:    1.0s remaining:    3.0s\n",
        "[Parallel(n_jobs=4)]: Done   4 out of   4 | elapsed:    1.1s finished\n"
       ]
      },
      {
       "output_type": "stream",
       "stream": "stderr",
       "text": [
        "[Parallel(n_jobs=4)]: Done   1 out of   4 | elapsed:    0.0s remaining:    0.1s\n",
        "[Parallel(n_jobs=4)]: Done   4 out of   4 | elapsed:    0.0s finished\n",
        "[Parallel(n_jobs=4)]: Done   1 out of   4 | elapsed:    1.1s remaining:    3.4s\n",
        "[Parallel(n_jobs=4)]: Done   4 out of   4 | elapsed:    1.1s finished\n"
       ]
      },
      {
       "output_type": "stream",
       "stream": "stderr",
       "text": [
        "[Parallel(n_jobs=4)]: Done   1 out of   4 | elapsed:    0.0s remaining:    0.1s\n",
        "[Parallel(n_jobs=4)]: Done   4 out of   4 | elapsed:    0.0s finished\n",
        "[Parallel(n_jobs=4)]: Done   1 out of   4 | elapsed:    0.9s remaining:    2.7s\n",
        "[Parallel(n_jobs=4)]: Done   4 out of   4 | elapsed:    1.1s finished\n"
       ]
      },
      {
       "output_type": "stream",
       "stream": "stderr",
       "text": [
        "[Parallel(n_jobs=4)]: Done   1 out of   4 | elapsed:    0.0s remaining:    0.1s\n",
        "[Parallel(n_jobs=4)]: Done   4 out of   4 | elapsed:    0.0s finished\n",
        "[Parallel(n_jobs=4)]: Done   1 out of   4 | elapsed:    0.4s remaining:    1.3s\n",
        "[Parallel(n_jobs=4)]: Done   4 out of   4 | elapsed:    0.4s finished\n"
       ]
      },
      {
       "output_type": "stream",
       "stream": "stderr",
       "text": [
        "[Parallel(n_jobs=4)]: Done   1 out of   4 | elapsed:    0.0s remaining:    0.0s\n",
        "[Parallel(n_jobs=4)]: Done   4 out of   4 | elapsed:    0.0s finished\n",
        "[Parallel(n_jobs=4)]: Done   1 out of   4 | elapsed:    0.4s remaining:    1.2s\n",
        "[Parallel(n_jobs=4)]: Done   4 out of   4 | elapsed:    0.5s finished\n"
       ]
      },
      {
       "output_type": "stream",
       "stream": "stderr",
       "text": [
        "[Parallel(n_jobs=4)]: Done   1 out of   4 | elapsed:    0.0s remaining:    0.0s\n",
        "[Parallel(n_jobs=4)]: Done   4 out of   4 | elapsed:    0.0s finished\n",
        "[Parallel(n_jobs=4)]: Done   1 out of   4 | elapsed:    0.4s remaining:    1.2s\n",
        "[Parallel(n_jobs=4)]: Done   4 out of   4 | elapsed:    0.5s finished\n"
       ]
      },
      {
       "output_type": "stream",
       "stream": "stderr",
       "text": [
        "[Parallel(n_jobs=4)]: Done   1 out of   4 | elapsed:    0.0s remaining:    0.0s\n",
        "[Parallel(n_jobs=4)]: Done   4 out of   4 | elapsed:    0.0s finished\n",
        "[Parallel(n_jobs=4)]: Done   1 out of   4 | elapsed:    4.0s remaining:   12.0s\n",
        "[Parallel(n_jobs=4)]: Done   4 out of   4 | elapsed:    4.3s finished\n"
       ]
      },
      {
       "output_type": "stream",
       "stream": "stderr",
       "text": [
        "[Parallel(n_jobs=4)]: Done   1 out of   4 | elapsed:    0.1s remaining:    0.4s\n",
        "[Parallel(n_jobs=4)]: Done   4 out of   4 | elapsed:    0.2s finished\n",
        "[Parallel(n_jobs=4)]: Done   1 out of   4 | elapsed:    4.1s remaining:   12.2s\n",
        "[Parallel(n_jobs=4)]: Done   4 out of   4 | elapsed:    4.1s finished\n"
       ]
      },
      {
       "output_type": "stream",
       "stream": "stderr",
       "text": [
        "[Parallel(n_jobs=4)]: Done   1 out of   4 | elapsed:    0.2s remaining:    0.5s\n",
        "[Parallel(n_jobs=4)]: Done   4 out of   4 | elapsed:    0.2s finished\n",
        "[Parallel(n_jobs=4)]: Done   1 out of   4 | elapsed:    3.8s remaining:   11.5s\n",
        "[Parallel(n_jobs=4)]: Done   4 out of   4 | elapsed:    4.5s finished\n"
       ]
      },
      {
       "output_type": "stream",
       "stream": "stderr",
       "text": [
        "[Parallel(n_jobs=4)]: Done   1 out of   4 | elapsed:    0.2s remaining:    0.5s\n",
        "[Parallel(n_jobs=4)]: Done   4 out of   4 | elapsed:    0.2s finished\n",
        "[Parallel(n_jobs=4)]: Done   1 out of   4 | elapsed:   10.9s remaining:   32.6s\n",
        "[Parallel(n_jobs=4)]: Done   4 out of   4 | elapsed:   10.9s finished\n"
       ]
      },
      {
       "output_type": "stream",
       "stream": "stderr",
       "text": [
        "[Parallel(n_jobs=4)]: Done   1 out of   4 | elapsed:    0.2s remaining:    0.6s\n",
        "[Parallel(n_jobs=4)]: Done   4 out of   4 | elapsed:    0.2s finished\n",
        "[Parallel(n_jobs=4)]: Done   1 out of   4 | elapsed:    9.2s remaining:   27.6s\n",
        "[Parallel(n_jobs=4)]: Done   4 out of   4 | elapsed:   11.5s finished\n"
       ]
      },
      {
       "output_type": "stream",
       "stream": "stderr",
       "text": [
        "[Parallel(n_jobs=4)]: Done   1 out of   4 | elapsed:    0.2s remaining:    0.6s\n",
        "[Parallel(n_jobs=4)]: Done   4 out of   4 | elapsed:    0.2s finished\n",
        "[Parallel(n_jobs=4)]: Done   1 out of   4 | elapsed:   10.3s remaining:   30.9s\n",
        "[Parallel(n_jobs=4)]: Done   4 out of   4 | elapsed:   10.5s finished\n"
       ]
      },
      {
       "output_type": "stream",
       "stream": "stderr",
       "text": [
        "[Parallel(n_jobs=4)]: Done   1 out of   4 | elapsed:    0.2s remaining:    0.6s\n",
        "[Parallel(n_jobs=4)]: Done   4 out of   4 | elapsed:    0.2s finished\n",
        "[Parallel(n_jobs=4)]: Done   1 out of   4 | elapsed:    4.2s remaining:   12.7s\n",
        "[Parallel(n_jobs=4)]: Done   4 out of   4 | elapsed:    4.4s finished\n"
       ]
      },
      {
       "output_type": "stream",
       "stream": "stderr",
       "text": [
        "[Parallel(n_jobs=4)]: Done   1 out of   4 | elapsed:    0.1s remaining:    0.3s\n",
        "[Parallel(n_jobs=4)]: Done   4 out of   4 | elapsed:    0.1s finished\n",
        "[Parallel(n_jobs=4)]: Done   1 out of   4 | elapsed:    3.8s remaining:   11.3s\n",
        "[Parallel(n_jobs=4)]: Done   4 out of   4 | elapsed:    4.4s finished\n"
       ]
      },
      {
       "output_type": "stream",
       "stream": "stderr",
       "text": [
        "[Parallel(n_jobs=4)]: Done   1 out of   4 | elapsed:    0.1s remaining:    0.3s\n",
        "[Parallel(n_jobs=4)]: Done   4 out of   4 | elapsed:    0.1s finished\n",
        "[Parallel(n_jobs=4)]: Done   1 out of   4 | elapsed:    4.2s remaining:   12.7s\n",
        "[Parallel(n_jobs=4)]: Done   4 out of   4 | elapsed:    4.5s finished\n"
       ]
      },
      {
       "output_type": "stream",
       "stream": "stderr",
       "text": [
        "[Parallel(n_jobs=4)]: Done   1 out of   4 | elapsed:    0.1s remaining:    0.3s\n",
        "[Parallel(n_jobs=4)]: Done   4 out of   4 | elapsed:    0.1s finished\n",
        "[Parallel(n_jobs=4)]: Done   1 out of   4 | elapsed:    1.9s remaining:    5.6s\n",
        "[Parallel(n_jobs=4)]: Done   4 out of   4 | elapsed:    2.1s finished\n"
       ]
      },
      {
       "output_type": "stream",
       "stream": "stderr",
       "text": [
        "[Parallel(n_jobs=4)]: Done   1 out of   4 | elapsed:    0.0s remaining:    0.1s\n",
        "[Parallel(n_jobs=4)]: Done   4 out of   4 | elapsed:    0.0s finished\n",
        "[Parallel(n_jobs=4)]: Done   1 out of   4 | elapsed:    2.0s remaining:    5.9s\n",
        "[Parallel(n_jobs=4)]: Done   4 out of   4 | elapsed:    2.0s finished\n"
       ]
      },
      {
       "output_type": "stream",
       "stream": "stderr",
       "text": [
        "[Parallel(n_jobs=4)]: Done   1 out of   4 | elapsed:    0.0s remaining:    0.1s\n",
        "[Parallel(n_jobs=4)]: Done   4 out of   4 | elapsed:    0.0s finished\n",
        "[Parallel(n_jobs=4)]: Done   1 out of   4 | elapsed:    2.2s remaining:    6.6s\n",
        "[Parallel(n_jobs=4)]: Done   4 out of   4 | elapsed:    2.2s finished\n"
       ]
      },
      {
       "output_type": "stream",
       "stream": "stderr",
       "text": [
        "[Parallel(n_jobs=4)]: Done   1 out of   4 | elapsed:    0.0s remaining:    0.1s\n",
        "[Parallel(n_jobs=4)]: Done   4 out of   4 | elapsed:    0.0s finished\n",
        "[Parallel(n_jobs=4)]: Done   1 out of   4 | elapsed:    1.8s remaining:    5.4s\n",
        "[Parallel(n_jobs=4)]: Done   4 out of   4 | elapsed:    2.1s finished\n"
       ]
      },
      {
       "output_type": "stream",
       "stream": "stderr",
       "text": [
        "[Parallel(n_jobs=4)]: Done   1 out of   4 | elapsed:    0.1s remaining:    0.2s\n",
        "[Parallel(n_jobs=4)]: Done   4 out of   4 | elapsed:    0.1s finished\n",
        "[Parallel(n_jobs=4)]: Done   1 out of   4 | elapsed:    1.8s remaining:    5.5s\n",
        "[Parallel(n_jobs=4)]: Done   4 out of   4 | elapsed:    2.0s finished\n"
       ]
      },
      {
       "output_type": "stream",
       "stream": "stderr",
       "text": [
        "[Parallel(n_jobs=4)]: Done   1 out of   4 | elapsed:    0.1s remaining:    0.3s\n",
        "[Parallel(n_jobs=4)]: Done   4 out of   4 | elapsed:    0.1s finished\n",
        "[Parallel(n_jobs=4)]: Done   1 out of   4 | elapsed:    2.0s remaining:    6.1s\n",
        "[Parallel(n_jobs=4)]: Done   4 out of   4 | elapsed:    2.2s finished\n"
       ]
      },
      {
       "output_type": "stream",
       "stream": "stderr",
       "text": [
        "[Parallel(n_jobs=4)]: Done   1 out of   4 | elapsed:    0.1s remaining:    0.2s\n",
        "[Parallel(n_jobs=4)]: Done   4 out of   4 | elapsed:    0.1s finished\n",
        "[Parallel(n_jobs=4)]: Done   1 out of   4 | elapsed:    5.2s remaining:   15.6s\n",
        "[Parallel(n_jobs=4)]: Done   4 out of   4 | elapsed:    5.3s finished\n"
       ]
      },
      {
       "output_type": "stream",
       "stream": "stderr",
       "text": [
        "[Parallel(n_jobs=4)]: Done   1 out of   4 | elapsed:    0.1s remaining:    0.3s\n",
        "[Parallel(n_jobs=4)]: Done   4 out of   4 | elapsed:    0.1s finished\n",
        "[Parallel(n_jobs=4)]: Done   1 out of   4 | elapsed:    4.7s remaining:   14.1s\n",
        "[Parallel(n_jobs=4)]: Done   4 out of   4 | elapsed:    5.1s finished\n"
       ]
      },
      {
       "output_type": "stream",
       "stream": "stderr",
       "text": [
        "[Parallel(n_jobs=4)]: Done   1 out of   4 | elapsed:    0.1s remaining:    0.3s\n",
        "[Parallel(n_jobs=4)]: Done   4 out of   4 | elapsed:    0.1s finished\n",
        "[Parallel(n_jobs=4)]: Done   1 out of   4 | elapsed:    5.2s remaining:   15.5s\n",
        "[Parallel(n_jobs=4)]: Done   4 out of   4 | elapsed:    5.2s finished\n"
       ]
      },
      {
       "output_type": "stream",
       "stream": "stderr",
       "text": [
        "[Parallel(n_jobs=4)]: Done   1 out of   4 | elapsed:    0.1s remaining:    0.3s\n",
        "[Parallel(n_jobs=4)]: Done   4 out of   4 | elapsed:    0.1s finished\n",
        "[Parallel(n_jobs=4)]: Done   1 out of   4 | elapsed:    7.6s remaining:   22.7s\n",
        "[Parallel(n_jobs=4)]: Done   4 out of   4 | elapsed:    8.7s finished\n"
       ]
      },
      {
       "output_type": "stream",
       "stream": "stderr",
       "text": [
        "[Parallel(n_jobs=4)]: Done   1 out of   4 | elapsed:    0.2s remaining:    0.5s\n",
        "[Parallel(n_jobs=4)]: Done   4 out of   4 | elapsed:    0.2s finished\n",
        "[Parallel(n_jobs=4)]: Done   1 out of   4 | elapsed:    7.5s remaining:   22.5s\n",
        "[Parallel(n_jobs=4)]: Done   4 out of   4 | elapsed:    8.4s finished\n"
       ]
      },
      {
       "output_type": "stream",
       "stream": "stderr",
       "text": [
        "[Parallel(n_jobs=4)]: Done   1 out of   4 | elapsed:    0.1s remaining:    0.4s\n",
        "[Parallel(n_jobs=4)]: Done   4 out of   4 | elapsed:    0.2s finished\n",
        "[Parallel(n_jobs=4)]: Done   1 out of   4 | elapsed:    7.9s remaining:   23.7s\n",
        "[Parallel(n_jobs=4)]: Done   4 out of   4 | elapsed:    8.6s finished\n"
       ]
      },
      {
       "output_type": "stream",
       "stream": "stderr",
       "text": [
        "[Parallel(n_jobs=4)]: Done   1 out of   4 | elapsed:    0.2s remaining:    0.5s\n",
        "[Parallel(n_jobs=4)]: Done   4 out of   4 | elapsed:    0.2s finished\n",
        "[Parallel(n_jobs=4)]: Done   1 out of   4 | elapsed:    0.5s remaining:    1.5s\n",
        "[Parallel(n_jobs=4)]: Done   4 out of   4 | elapsed:    0.5s finished\n"
       ]
      },
      {
       "output_type": "stream",
       "stream": "stderr",
       "text": [
        "[Parallel(n_jobs=4)]: Done   1 out of   4 | elapsed:    0.0s remaining:    0.1s\n",
        "[Parallel(n_jobs=4)]: Done   4 out of   4 | elapsed:    0.0s finished\n",
        "[Parallel(n_jobs=4)]: Done   1 out of   4 | elapsed:    0.5s remaining:    1.4s\n",
        "[Parallel(n_jobs=4)]: Done   4 out of   4 | elapsed:    0.5s finished\n"
       ]
      },
      {
       "output_type": "stream",
       "stream": "stderr",
       "text": [
        "[Parallel(n_jobs=4)]: Done   1 out of   4 | elapsed:    0.0s remaining:    0.1s\n",
        "[Parallel(n_jobs=4)]: Done   4 out of   4 | elapsed:    0.0s finished\n",
        "[Parallel(n_jobs=4)]: Done   1 out of   4 | elapsed:    0.5s remaining:    1.4s\n",
        "[Parallel(n_jobs=4)]: Done   4 out of   4 | elapsed:    0.5s finished\n"
       ]
      },
      {
       "output_type": "stream",
       "stream": "stderr",
       "text": [
        "[Parallel(n_jobs=4)]: Done   1 out of   4 | elapsed:    0.0s remaining:    0.0s\n",
        "[Parallel(n_jobs=4)]: Done   4 out of   4 | elapsed:    0.0s finished\n",
        "[Parallel(n_jobs=4)]: Done   1 out of   4 | elapsed:    3.9s remaining:   11.6s\n",
        "[Parallel(n_jobs=4)]: Done   4 out of   4 | elapsed:    4.2s finished\n"
       ]
      },
      {
       "output_type": "stream",
       "stream": "stderr",
       "text": [
        "[Parallel(n_jobs=4)]: Done   1 out of   4 | elapsed:    0.1s remaining:    0.4s\n",
        "[Parallel(n_jobs=4)]: Done   4 out of   4 | elapsed:    0.1s finished\n",
        "[Parallel(n_jobs=4)]: Done   1 out of   4 | elapsed:    3.9s remaining:   11.8s\n",
        "[Parallel(n_jobs=4)]: Done   4 out of   4 | elapsed:    4.0s finished\n"
       ]
      },
      {
       "output_type": "stream",
       "stream": "stderr",
       "text": [
        "[Parallel(n_jobs=4)]: Done   1 out of   4 | elapsed:    0.1s remaining:    0.4s\n",
        "[Parallel(n_jobs=4)]: Done   4 out of   4 | elapsed:    0.1s finished\n",
        "[Parallel(n_jobs=4)]: Done   1 out of   4 | elapsed:    3.9s remaining:   11.8s\n",
        "[Parallel(n_jobs=4)]: Done   4 out of   4 | elapsed:    4.2s finished\n"
       ]
      },
      {
       "output_type": "stream",
       "stream": "stderr",
       "text": [
        "[Parallel(n_jobs=4)]: Done   1 out of   4 | elapsed:    0.2s remaining:    0.5s\n",
        "[Parallel(n_jobs=4)]: Done   4 out of   4 | elapsed:    0.2s finished\n",
        "[Parallel(n_jobs=4)]: Done   1 out of   4 | elapsed:    4.8s remaining:   14.5s\n",
        "[Parallel(n_jobs=4)]: Done   4 out of   4 | elapsed:    5.2s finished\n"
       ]
      },
      {
       "output_type": "stream",
       "stream": "stderr",
       "text": [
        "[Parallel(n_jobs=4)]: Done   1 out of   4 | elapsed:    0.2s remaining:    0.6s\n",
        "[Parallel(n_jobs=4)]: Done   4 out of   4 | elapsed:    0.2s finished\n",
        "[Parallel(n_jobs=4)]: Done   1 out of   4 | elapsed:    5.2s remaining:   15.5s\n",
        "[Parallel(n_jobs=4)]: Done   4 out of   4 | elapsed:    5.5s finished\n"
       ]
      },
      {
       "output_type": "stream",
       "stream": "stderr",
       "text": [
        "[Parallel(n_jobs=4)]: Done   1 out of   4 | elapsed:    0.2s remaining:    0.7s\n",
        "[Parallel(n_jobs=4)]: Done   4 out of   4 | elapsed:    0.2s finished\n",
        "[Parallel(n_jobs=4)]: Done   1 out of   4 | elapsed:    5.7s remaining:   17.2s\n",
        "[Parallel(n_jobs=4)]: Done   4 out of   4 | elapsed:    5.7s finished\n"
       ]
      },
      {
       "output_type": "stream",
       "stream": "stderr",
       "text": [
        "[Parallel(n_jobs=4)]: Done   1 out of   4 | elapsed:    0.3s remaining:    0.8s\n",
        "[Parallel(n_jobs=4)]: Done   4 out of   4 | elapsed:    0.3s finished\n",
        "[Parallel(n_jobs=4)]: Done   1 out of   4 | elapsed:    0.9s remaining:    2.6s\n",
        "[Parallel(n_jobs=4)]: Done   4 out of   4 | elapsed:    1.0s finished\n"
       ]
      },
      {
       "output_type": "stream",
       "stream": "stderr",
       "text": [
        "[Parallel(n_jobs=4)]: Done   1 out of   4 | elapsed:    0.0s remaining:    0.1s\n",
        "[Parallel(n_jobs=4)]: Done   4 out of   4 | elapsed:    0.0s finished\n",
        "[Parallel(n_jobs=4)]: Done   1 out of   4 | elapsed:    0.8s remaining:    2.4s\n",
        "[Parallel(n_jobs=4)]: Done   4 out of   4 | elapsed:    0.9s finished\n"
       ]
      },
      {
       "output_type": "stream",
       "stream": "stderr",
       "text": [
        "[Parallel(n_jobs=4)]: Done   1 out of   4 | elapsed:    0.0s remaining:    0.0s\n",
        "[Parallel(n_jobs=4)]: Done   4 out of   4 | elapsed:    0.0s finished\n",
        "[Parallel(n_jobs=4)]: Done   1 out of   4 | elapsed:    0.8s remaining:    2.5s\n",
        "[Parallel(n_jobs=4)]: Done   4 out of   4 | elapsed:    0.9s finished\n"
       ]
      },
      {
       "output_type": "stream",
       "stream": "stderr",
       "text": [
        "[Parallel(n_jobs=4)]: Done   1 out of   4 | elapsed:    0.0s remaining:    0.1s\n",
        "[Parallel(n_jobs=4)]: Done   4 out of   4 | elapsed:    0.0s finished\n",
        "[Parallel(n_jobs=4)]: Done   1 out of   4 | elapsed:    5.9s remaining:   17.6s\n",
        "[Parallel(n_jobs=4)]: Done   4 out of   4 | elapsed:    5.9s finished\n"
       ]
      },
      {
       "output_type": "stream",
       "stream": "stderr",
       "text": [
        "[Parallel(n_jobs=4)]: Done   1 out of   4 | elapsed:    0.2s remaining:    0.7s\n",
        "[Parallel(n_jobs=4)]: Done   4 out of   4 | elapsed:    0.3s finished\n",
        "[Parallel(n_jobs=4)]: Done   1 out of   4 | elapsed:    6.0s remaining:   18.0s\n",
        "[Parallel(n_jobs=4)]: Done   4 out of   4 | elapsed:    6.0s finished\n"
       ]
      },
      {
       "output_type": "stream",
       "stream": "stderr",
       "text": [
        "[Parallel(n_jobs=4)]: Done   1 out of   4 | elapsed:    0.3s remaining:    0.8s\n",
        "[Parallel(n_jobs=4)]: Done   4 out of   4 | elapsed:    0.3s finished\n",
        "[Parallel(n_jobs=4)]: Done   1 out of   4 | elapsed:    5.9s remaining:   17.8s\n",
        "[Parallel(n_jobs=4)]: Done   4 out of   4 | elapsed:    6.1s finished\n"
       ]
      },
      {
       "output_type": "stream",
       "stream": "stderr",
       "text": [
        "[Parallel(n_jobs=4)]: Done   1 out of   4 | elapsed:    0.2s remaining:    0.7s\n",
        "[Parallel(n_jobs=4)]: Done   4 out of   4 | elapsed:    0.2s finished\n",
        "[Parallel(n_jobs=4)]: Done   1 out of   4 | elapsed:    2.8s remaining:    8.3s\n",
        "[Parallel(n_jobs=4)]: Done   4 out of   4 | elapsed:    2.8s finished\n"
       ]
      },
      {
       "output_type": "stream",
       "stream": "stderr",
       "text": [
        "[Parallel(n_jobs=4)]: Done   1 out of   4 | elapsed:    0.1s remaining:    0.3s\n",
        "[Parallel(n_jobs=4)]: Done   4 out of   4 | elapsed:    0.1s finished\n",
        "[Parallel(n_jobs=4)]: Done   1 out of   4 | elapsed:    2.6s remaining:    7.9s\n",
        "[Parallel(n_jobs=4)]: Done   4 out of   4 | elapsed:    3.0s finished\n"
       ]
      },
      {
       "output_type": "stream",
       "stream": "stderr",
       "text": [
        "[Parallel(n_jobs=4)]: Done   1 out of   4 | elapsed:    0.1s remaining:    0.3s\n",
        "[Parallel(n_jobs=4)]: Done   4 out of   4 | elapsed:    0.1s finished\n",
        "[Parallel(n_jobs=4)]: Done   1 out of   4 | elapsed:    3.1s remaining:    9.3s\n",
        "[Parallel(n_jobs=4)]: Done   4 out of   4 | elapsed:    3.1s finished\n"
       ]
      },
      {
       "output_type": "stream",
       "stream": "stderr",
       "text": [
        "[Parallel(n_jobs=4)]: Done   1 out of   4 | elapsed:    0.1s remaining:    0.3s\n",
        "[Parallel(n_jobs=4)]: Done   4 out of   4 | elapsed:    0.1s finished\n",
        "[Parallel(n_jobs=4)]: Done   1 out of   4 | elapsed:    6.0s remaining:   17.9s\n",
        "[Parallel(n_jobs=4)]: Done   4 out of   4 | elapsed:    6.0s finished\n"
       ]
      },
      {
       "output_type": "stream",
       "stream": "stderr",
       "text": [
        "[Parallel(n_jobs=4)]: Done   1 out of   4 | elapsed:    0.3s remaining:    0.8s\n",
        "[Parallel(n_jobs=4)]: Done   4 out of   4 | elapsed:    0.3s finished\n",
        "[Parallel(n_jobs=4)]: Done   1 out of   4 | elapsed:    6.3s remaining:   18.8s\n",
        "[Parallel(n_jobs=4)]: Done   4 out of   4 | elapsed:    6.3s finished\n"
       ]
      },
      {
       "output_type": "stream",
       "stream": "stderr",
       "text": [
        "[Parallel(n_jobs=4)]: Done   1 out of   4 | elapsed:    0.3s remaining:    0.8s\n",
        "[Parallel(n_jobs=4)]: Done   4 out of   4 | elapsed:    0.3s finished\n",
        "[Parallel(n_jobs=4)]: Done   1 out of   4 | elapsed:    5.9s remaining:   17.7s\n",
        "[Parallel(n_jobs=4)]: Done   4 out of   4 | elapsed:    5.9s finished\n"
       ]
      },
      {
       "output_type": "stream",
       "stream": "stderr",
       "text": [
        "[Parallel(n_jobs=4)]: Done   1 out of   4 | elapsed:    0.2s remaining:    0.7s\n",
        "[Parallel(n_jobs=4)]: Done   4 out of   4 | elapsed:    0.2s finished\n",
        "[Parallel(n_jobs=4)]: Done   1 out of   4 | elapsed:    1.9s remaining:    5.6s\n",
        "[Parallel(n_jobs=4)]: Done   4 out of   4 | elapsed:    1.9s finished\n"
       ]
      },
      {
       "output_type": "stream",
       "stream": "stderr",
       "text": [
        "[Parallel(n_jobs=4)]: Done   1 out of   4 | elapsed:    0.1s remaining:    0.2s\n",
        "[Parallel(n_jobs=4)]: Done   4 out of   4 | elapsed:    0.1s finished\n",
        "[Parallel(n_jobs=4)]: Done   1 out of   4 | elapsed:    1.8s remaining:    5.5s\n",
        "[Parallel(n_jobs=4)]: Done   4 out of   4 | elapsed:    2.0s finished\n"
       ]
      },
      {
       "output_type": "stream",
       "stream": "stderr",
       "text": [
        "[Parallel(n_jobs=4)]: Done   1 out of   4 | elapsed:    0.1s remaining:    0.2s\n",
        "[Parallel(n_jobs=4)]: Done   4 out of   4 | elapsed:    0.1s finished\n",
        "[Parallel(n_jobs=4)]: Done   1 out of   4 | elapsed:    1.8s remaining:    5.3s\n",
        "[Parallel(n_jobs=4)]: Done   4 out of   4 | elapsed:    2.1s finished\n"
       ]
      },
      {
       "output_type": "stream",
       "stream": "stderr",
       "text": [
        "[Parallel(n_jobs=4)]: Done   1 out of   4 | elapsed:    0.1s remaining:    0.2s\n",
        "[Parallel(n_jobs=4)]: Done   4 out of   4 | elapsed:    0.1s finished\n",
        "[Parallel(n_jobs=4)]: Done   1 out of   4 | elapsed:    0.6s remaining:    1.9s\n",
        "[Parallel(n_jobs=4)]: Done   4 out of   4 | elapsed:    0.7s finished\n"
       ]
      },
      {
       "output_type": "stream",
       "stream": "stderr",
       "text": [
        "[Parallel(n_jobs=4)]: Done   1 out of   4 | elapsed:    0.0s remaining:    0.0s\n",
        "[Parallel(n_jobs=4)]: Done   4 out of   4 | elapsed:    0.0s finished\n",
        "[Parallel(n_jobs=4)]: Done   1 out of   4 | elapsed:    0.6s remaining:    1.9s\n",
        "[Parallel(n_jobs=4)]: Done   4 out of   4 | elapsed:    0.8s finished\n"
       ]
      },
      {
       "output_type": "stream",
       "stream": "stderr",
       "text": [
        "[Parallel(n_jobs=4)]: Done   1 out of   4 | elapsed:    0.0s remaining:    0.0s\n",
        "[Parallel(n_jobs=4)]: Done   4 out of   4 | elapsed:    0.0s finished\n",
        "[Parallel(n_jobs=4)]: Done   1 out of   4 | elapsed:    0.6s remaining:    1.9s\n",
        "[Parallel(n_jobs=4)]: Done   4 out of   4 | elapsed:    0.8s finished\n"
       ]
      },
      {
       "output_type": "stream",
       "stream": "stderr",
       "text": [
        "[Parallel(n_jobs=4)]: Done   1 out of   4 | elapsed:    0.0s remaining:    0.0s\n",
        "[Parallel(n_jobs=4)]: Done   4 out of   4 | elapsed:    0.0s finished\n",
        "[Parallel(n_jobs=4)]: Done   1 out of   4 | elapsed:    1.8s remaining:    5.4s\n",
        "[Parallel(n_jobs=4)]: Done   4 out of   4 | elapsed:    2.1s finished\n"
       ]
      },
      {
       "output_type": "stream",
       "stream": "stderr",
       "text": [
        "[Parallel(n_jobs=4)]: Done   1 out of   4 | elapsed:    0.1s remaining:    0.2s\n",
        "[Parallel(n_jobs=4)]: Done   4 out of   4 | elapsed:    0.1s finished\n",
        "[Parallel(n_jobs=4)]: Done   1 out of   4 | elapsed:    1.8s remaining:    5.3s\n",
        "[Parallel(n_jobs=4)]: Done   4 out of   4 | elapsed:    2.2s finished\n"
       ]
      },
      {
       "output_type": "stream",
       "stream": "stderr",
       "text": [
        "[Parallel(n_jobs=4)]: Done   1 out of   4 | elapsed:    0.1s remaining:    0.2s\n",
        "[Parallel(n_jobs=4)]: Done   4 out of   4 | elapsed:    0.1s finished\n",
        "[Parallel(n_jobs=4)]: Done   1 out of   4 | elapsed:    1.8s remaining:    5.3s\n",
        "[Parallel(n_jobs=4)]: Done   4 out of   4 | elapsed:    2.1s finished\n"
       ]
      },
      {
       "output_type": "stream",
       "stream": "stderr",
       "text": [
        "[Parallel(n_jobs=4)]: Done   1 out of   4 | elapsed:    0.1s remaining:    0.2s\n",
        "[Parallel(n_jobs=4)]: Done   4 out of   4 | elapsed:    0.1s finished\n",
        "[Parallel(n_jobs=4)]: Done   1 out of   4 | elapsed:    0.5s remaining:    1.4s\n",
        "[Parallel(n_jobs=4)]: Done   4 out of   4 | elapsed:    0.6s finished\n"
       ]
      },
      {
       "output_type": "stream",
       "stream": "stderr",
       "text": [
        "[Parallel(n_jobs=4)]: Done   1 out of   4 | elapsed:    0.0s remaining:    0.1s\n",
        "[Parallel(n_jobs=4)]: Done   4 out of   4 | elapsed:    0.0s finished\n",
        "[Parallel(n_jobs=4)]: Done   1 out of   4 | elapsed:    0.5s remaining:    1.4s\n",
        "[Parallel(n_jobs=4)]: Done   4 out of   4 | elapsed:    0.6s finished\n"
       ]
      },
      {
       "output_type": "stream",
       "stream": "stderr",
       "text": [
        "[Parallel(n_jobs=4)]: Done   1 out of   4 | elapsed:    0.0s remaining:    0.1s\n",
        "[Parallel(n_jobs=4)]: Done   4 out of   4 | elapsed:    0.0s finished\n",
        "[Parallel(n_jobs=4)]: Done   1 out of   4 | elapsed:    0.5s remaining:    1.4s\n",
        "[Parallel(n_jobs=4)]: Done   4 out of   4 | elapsed:    0.6s finished\n"
       ]
      },
      {
       "output_type": "stream",
       "stream": "stderr",
       "text": [
        "[Parallel(n_jobs=4)]: Done   1 out of   4 | elapsed:    0.0s remaining:    0.1s\n",
        "[Parallel(n_jobs=4)]: Done   4 out of   4 | elapsed:    0.0s finished\n",
        "[Parallel(n_jobs=4)]: Done   1 out of   4 | elapsed:    3.2s remaining:    9.7s\n",
        "[Parallel(n_jobs=4)]: Done   4 out of   4 | elapsed:    3.7s finished\n"
       ]
      },
      {
       "output_type": "stream",
       "stream": "stderr",
       "text": [
        "[Parallel(n_jobs=4)]: Done   1 out of   4 | elapsed:    0.1s remaining:    0.2s\n",
        "[Parallel(n_jobs=4)]: Done   4 out of   4 | elapsed:    0.1s finished\n",
        "[Parallel(n_jobs=4)]: Done   1 out of   4 | elapsed:    3.1s remaining:    9.4s\n",
        "[Parallel(n_jobs=4)]: Done   4 out of   4 | elapsed:    3.6s finished\n"
       ]
      },
      {
       "output_type": "stream",
       "stream": "stderr",
       "text": [
        "[Parallel(n_jobs=4)]: Done   1 out of   4 | elapsed:    0.1s remaining:    0.2s\n",
        "[Parallel(n_jobs=4)]: Done   4 out of   4 | elapsed:    0.1s finished\n",
        "[Parallel(n_jobs=4)]: Done   1 out of   4 | elapsed:    3.2s remaining:    9.7s\n",
        "[Parallel(n_jobs=4)]: Done   4 out of   4 | elapsed:    4.2s finished\n"
       ]
      },
      {
       "output_type": "stream",
       "stream": "stderr",
       "text": [
        "[Parallel(n_jobs=4)]: Done   1 out of   4 | elapsed:    0.1s remaining:    0.2s\n",
        "[Parallel(n_jobs=4)]: Done   4 out of   4 | elapsed:    0.1s finished\n",
        "[Parallel(n_jobs=4)]: Done   1 out of   4 | elapsed:    1.2s remaining:    3.6s\n",
        "[Parallel(n_jobs=4)]: Done   4 out of   4 | elapsed:    1.2s finished\n"
       ]
      },
      {
       "output_type": "stream",
       "stream": "stderr",
       "text": [
        "[Parallel(n_jobs=4)]: Done   1 out of   4 | elapsed:    0.0s remaining:    0.1s\n",
        "[Parallel(n_jobs=4)]: Done   4 out of   4 | elapsed:    0.0s finished\n",
        "[Parallel(n_jobs=4)]: Done   1 out of   4 | elapsed:    1.1s remaining:    3.2s\n",
        "[Parallel(n_jobs=4)]: Done   4 out of   4 | elapsed:    1.3s finished\n"
       ]
      },
      {
       "output_type": "stream",
       "stream": "stderr",
       "text": [
        "[Parallel(n_jobs=4)]: Done   1 out of   4 | elapsed:    0.0s remaining:    0.1s\n",
        "[Parallel(n_jobs=4)]: Done   4 out of   4 | elapsed:    0.0s finished\n",
        "[Parallel(n_jobs=4)]: Done   1 out of   4 | elapsed:    1.2s remaining:    3.6s\n",
        "[Parallel(n_jobs=4)]: Done   4 out of   4 | elapsed:    1.3s finished\n"
       ]
      },
      {
       "output_type": "stream",
       "stream": "stderr",
       "text": [
        "[Parallel(n_jobs=4)]: Done   1 out of   4 | elapsed:    0.0s remaining:    0.1s\n",
        "[Parallel(n_jobs=4)]: Done   4 out of   4 | elapsed:    0.0s finished\n",
        "[Parallel(n_jobs=4)]: Done   1 out of   4 | elapsed:    1.6s remaining:    4.9s\n",
        "[Parallel(n_jobs=4)]: Done   4 out of   4 | elapsed:    1.6s finished\n"
       ]
      },
      {
       "output_type": "stream",
       "stream": "stderr",
       "text": [
        "[Parallel(n_jobs=4)]: Done   1 out of   4 | elapsed:    0.1s remaining:    0.2s\n",
        "[Parallel(n_jobs=4)]: Done   4 out of   4 | elapsed:    0.1s finished\n",
        "[Parallel(n_jobs=4)]: Done   1 out of   4 | elapsed:    1.4s remaining:    4.3s\n",
        "[Parallel(n_jobs=4)]: Done   4 out of   4 | elapsed:    1.4s finished\n"
       ]
      },
      {
       "output_type": "stream",
       "stream": "stderr",
       "text": [
        "[Parallel(n_jobs=4)]: Done   1 out of   4 | elapsed:    0.1s remaining:    0.2s\n",
        "[Parallel(n_jobs=4)]: Done   4 out of   4 | elapsed:    0.1s finished\n",
        "[Parallel(n_jobs=4)]: Done   1 out of   4 | elapsed:    1.3s remaining:    4.0s\n",
        "[Parallel(n_jobs=4)]: Done   4 out of   4 | elapsed:    1.5s finished\n"
       ]
      },
      {
       "output_type": "stream",
       "stream": "stderr",
       "text": [
        "[Parallel(n_jobs=4)]: Done   1 out of   4 | elapsed:    0.1s remaining:    0.2s\n",
        "[Parallel(n_jobs=4)]: Done   4 out of   4 | elapsed:    0.1s finished\n",
        "[Parallel(n_jobs=4)]: Done   1 out of   4 | elapsed:    5.3s remaining:   15.9s\n",
        "[Parallel(n_jobs=4)]: Done   4 out of   4 | elapsed:    6.0s finished\n"
       ]
      },
      {
       "output_type": "stream",
       "stream": "stderr",
       "text": [
        "[Parallel(n_jobs=4)]: Done   1 out of   4 | elapsed:    0.3s remaining:    0.8s\n",
        "[Parallel(n_jobs=4)]: Done   4 out of   4 | elapsed:    0.3s finished\n",
        "[Parallel(n_jobs=4)]: Done   1 out of   4 | elapsed:    5.4s remaining:   16.1s\n",
        "[Parallel(n_jobs=4)]: Done   4 out of   4 | elapsed:    6.0s finished\n"
       ]
      },
      {
       "output_type": "stream",
       "stream": "stderr",
       "text": [
        "[Parallel(n_jobs=4)]: Done   1 out of   4 | elapsed:    0.2s remaining:    0.7s\n",
        "[Parallel(n_jobs=4)]: Done   4 out of   4 | elapsed:    0.2s finished\n",
        "[Parallel(n_jobs=4)]: Done   1 out of   4 | elapsed:    5.3s remaining:   16.0s\n",
        "[Parallel(n_jobs=4)]: Done   4 out of   4 | elapsed:    6.1s finished\n"
       ]
      },
      {
       "output_type": "stream",
       "stream": "stderr",
       "text": [
        "[Parallel(n_jobs=4)]: Done   1 out of   4 | elapsed:    0.3s remaining:    0.8s\n",
        "[Parallel(n_jobs=4)]: Done   4 out of   4 | elapsed:    0.3s finished\n",
        "[Parallel(n_jobs=4)]: Done   1 out of   4 | elapsed:   10.5s remaining:   31.6s\n",
        "[Parallel(n_jobs=4)]: Done   4 out of   4 | elapsed:   10.6s finished\n"
       ]
      },
      {
       "output_type": "stream",
       "stream": "stderr",
       "text": [
        "[Parallel(n_jobs=4)]: Done   1 out of   4 | elapsed:    0.2s remaining:    0.6s\n",
        "[Parallel(n_jobs=4)]: Done   4 out of   4 | elapsed:    0.2s finished\n",
        "[Parallel(n_jobs=4)]: Done   1 out of   4 | elapsed:    9.3s remaining:   27.8s\n",
        "[Parallel(n_jobs=4)]: Done   4 out of   4 | elapsed:   10.2s finished\n"
       ]
      },
      {
       "output_type": "stream",
       "stream": "stderr",
       "text": [
        "[Parallel(n_jobs=4)]: Done   1 out of   4 | elapsed:    0.2s remaining:    0.6s\n",
        "[Parallel(n_jobs=4)]: Done   4 out of   4 | elapsed:    0.2s finished\n",
        "[Parallel(n_jobs=4)]: Done   1 out of   4 | elapsed:   10.3s remaining:   30.9s\n",
        "[Parallel(n_jobs=4)]: Done   4 out of   4 | elapsed:   10.3s finished\n"
       ]
      },
      {
       "output_type": "stream",
       "stream": "stderr",
       "text": [
        "[Parallel(n_jobs=4)]: Done   1 out of   4 | elapsed:    0.2s remaining:    0.6s\n",
        "[Parallel(n_jobs=4)]: Done   4 out of   4 | elapsed:    0.2s finished\n",
        "[Parallel(n_jobs=4)]: Done   1 out of   4 | elapsed:    1.7s remaining:    5.1s\n",
        "[Parallel(n_jobs=4)]: Done   4 out of   4 | elapsed:    1.8s finished\n"
       ]
      },
      {
       "output_type": "stream",
       "stream": "stderr",
       "text": [
        "[Parallel(n_jobs=4)]: Done   1 out of   4 | elapsed:    0.1s remaining:    0.2s\n",
        "[Parallel(n_jobs=4)]: Done   4 out of   4 | elapsed:    0.1s finished\n",
        "[Parallel(n_jobs=4)]: Done   1 out of   4 | elapsed:    1.7s remaining:    5.1s\n",
        "[Parallel(n_jobs=4)]: Done   4 out of   4 | elapsed:    1.7s finished\n"
       ]
      },
      {
       "output_type": "stream",
       "stream": "stderr",
       "text": [
        "[Parallel(n_jobs=4)]: Done   1 out of   4 | elapsed:    0.1s remaining:    0.2s\n",
        "[Parallel(n_jobs=4)]: Done   4 out of   4 | elapsed:    0.1s finished\n",
        "[Parallel(n_jobs=4)]: Done   1 out of   4 | elapsed:    1.7s remaining:    5.1s\n",
        "[Parallel(n_jobs=4)]: Done   4 out of   4 | elapsed:    1.8s finished\n"
       ]
      },
      {
       "output_type": "stream",
       "stream": "stderr",
       "text": [
        "[Parallel(n_jobs=4)]: Done   1 out of   4 | elapsed:    0.1s remaining:    0.2s\n",
        "[Parallel(n_jobs=4)]: Done   4 out of   4 | elapsed:    0.1s finished\n",
        "[Parallel(n_jobs=4)]: Done   1 out of   4 | elapsed:   11.6s remaining:   34.9s\n",
        "[Parallel(n_jobs=4)]: Done   4 out of   4 | elapsed:   11.6s finished\n"
       ]
      },
      {
       "output_type": "stream",
       "stream": "stderr",
       "text": [
        "[Parallel(n_jobs=4)]: Done   1 out of   4 | elapsed:    0.3s remaining:    0.8s\n",
        "[Parallel(n_jobs=4)]: Done   4 out of   4 | elapsed:    0.3s finished\n",
        "[Parallel(n_jobs=4)]: Done   1 out of   4 | elapsed:   11.0s remaining:   32.9s\n",
        "[Parallel(n_jobs=4)]: Done   4 out of   4 | elapsed:   11.9s finished\n"
       ]
      },
      {
       "output_type": "stream",
       "stream": "stderr",
       "text": [
        "[Parallel(n_jobs=4)]: Done   1 out of   4 | elapsed:    0.3s remaining:    0.8s\n",
        "[Parallel(n_jobs=4)]: Done   4 out of   4 | elapsed:    0.3s finished\n",
        "[Parallel(n_jobs=4)]: Done   1 out of   4 | elapsed:   12.0s remaining:   36.0s\n",
        "[Parallel(n_jobs=4)]: Done   4 out of   4 | elapsed:   12.0s finished\n"
       ]
      },
      {
       "output_type": "stream",
       "stream": "stderr",
       "text": [
        "[Parallel(n_jobs=4)]: Done   1 out of   4 | elapsed:    0.3s remaining:    0.8s\n",
        "[Parallel(n_jobs=4)]: Done   4 out of   4 | elapsed:    0.3s finished\n",
        "[Parallel(n_jobs=4)]: Done   1 out of   4 | elapsed:    6.1s remaining:   18.4s\n",
        "[Parallel(n_jobs=4)]: Done   4 out of   4 | elapsed:    6.9s finished\n"
       ]
      },
      {
       "output_type": "stream",
       "stream": "stderr",
       "text": [
        "[Parallel(n_jobs=4)]: Done   1 out of   4 | elapsed:    0.1s remaining:    0.4s\n",
        "[Parallel(n_jobs=4)]: Done   4 out of   4 | elapsed:    0.1s finished\n",
        "[Parallel(n_jobs=4)]: Done   1 out of   4 | elapsed:    5.9s remaining:   17.7s\n",
        "[Parallel(n_jobs=4)]: Done   4 out of   4 | elapsed:    6.5s finished\n"
       ]
      },
      {
       "output_type": "stream",
       "stream": "stderr",
       "text": [
        "[Parallel(n_jobs=4)]: Done   1 out of   4 | elapsed:    0.1s remaining:    0.4s\n",
        "[Parallel(n_jobs=4)]: Done   4 out of   4 | elapsed:    0.1s finished\n",
        "[Parallel(n_jobs=4)]: Done   1 out of   4 | elapsed:    6.1s remaining:   18.2s\n",
        "[Parallel(n_jobs=4)]: Done   4 out of   4 | elapsed:    7.0s finished\n"
       ]
      },
      {
       "output_type": "stream",
       "stream": "stderr",
       "text": [
        "[Parallel(n_jobs=4)]: Done   1 out of   4 | elapsed:    0.1s remaining:    0.4s\n",
        "[Parallel(n_jobs=4)]: Done   4 out of   4 | elapsed:    0.1s finished\n",
        "[Parallel(n_jobs=4)]: Done   1 out of   4 | elapsed:    1.1s remaining:    3.4s\n",
        "[Parallel(n_jobs=4)]: Done   4 out of   4 | elapsed:    1.4s finished\n"
       ]
      },
      {
       "output_type": "stream",
       "stream": "stderr",
       "text": [
        "[Parallel(n_jobs=4)]: Done   1 out of   4 | elapsed:    0.0s remaining:    0.1s\n",
        "[Parallel(n_jobs=4)]: Done   4 out of   4 | elapsed:    0.1s finished\n",
        "[Parallel(n_jobs=4)]: Done   1 out of   4 | elapsed:    1.3s remaining:    3.9s\n",
        "[Parallel(n_jobs=4)]: Done   4 out of   4 | elapsed:    1.3s finished\n"
       ]
      },
      {
       "output_type": "stream",
       "stream": "stderr",
       "text": [
        "[Parallel(n_jobs=4)]: Done   1 out of   4 | elapsed:    0.0s remaining:    0.1s\n",
        "[Parallel(n_jobs=4)]: Done   4 out of   4 | elapsed:    0.0s finished\n",
        "[Parallel(n_jobs=4)]: Done   1 out of   4 | elapsed:    1.1s remaining:    3.4s\n",
        "[Parallel(n_jobs=4)]: Done   4 out of   4 | elapsed:    1.4s finished\n"
       ]
      },
      {
       "output_type": "stream",
       "stream": "stderr",
       "text": [
        "[Parallel(n_jobs=4)]: Done   1 out of   4 | elapsed:    0.1s remaining:    0.2s\n",
        "[Parallel(n_jobs=4)]: Done   4 out of   4 | elapsed:    0.1s finished\n",
        "[Parallel(n_jobs=4)]: Done   1 out of   4 | elapsed:    1.8s remaining:    5.5s\n",
        "[Parallel(n_jobs=4)]: Done   4 out of   4 | elapsed:    2.0s finished\n"
       ]
      },
      {
       "output_type": "stream",
       "stream": "stderr",
       "text": [
        "[Parallel(n_jobs=4)]: Done   1 out of   4 | elapsed:    0.1s remaining:    0.2s\n",
        "[Parallel(n_jobs=4)]: Done   4 out of   4 | elapsed:    0.1s finished\n",
        "[Parallel(n_jobs=4)]: Done   1 out of   4 | elapsed:    1.7s remaining:    5.1s\n",
        "[Parallel(n_jobs=4)]: Done   4 out of   4 | elapsed:    2.0s finished\n"
       ]
      },
      {
       "output_type": "stream",
       "stream": "stderr",
       "text": [
        "[Parallel(n_jobs=4)]: Done   1 out of   4 | elapsed:    0.1s remaining:    0.2s\n",
        "[Parallel(n_jobs=4)]: Done   4 out of   4 | elapsed:    0.1s finished\n",
        "[Parallel(n_jobs=4)]: Done   1 out of   4 | elapsed:    2.0s remaining:    6.1s\n",
        "[Parallel(n_jobs=4)]: Done   4 out of   4 | elapsed:    2.0s finished\n"
       ]
      },
      {
       "output_type": "stream",
       "stream": "stderr",
       "text": [
        "[Parallel(n_jobs=4)]: Done   1 out of   4 | elapsed:    0.1s remaining:    0.2s\n",
        "[Parallel(n_jobs=4)]: Done   4 out of   4 | elapsed:    0.1s finished\n",
        "[Parallel(n_jobs=4)]: Done   1 out of   4 | elapsed:   10.9s remaining:   32.7s\n",
        "[Parallel(n_jobs=4)]: Done   4 out of   4 | elapsed:   12.5s finished\n"
       ]
      },
      {
       "output_type": "stream",
       "stream": "stderr",
       "text": [
        "[Parallel(n_jobs=4)]: Done   1 out of   4 | elapsed:    0.3s remaining:    0.8s\n",
        "[Parallel(n_jobs=4)]: Done   4 out of   4 | elapsed:    0.3s finished\n",
        "[Parallel(n_jobs=4)]: Done   1 out of   4 | elapsed:   11.9s remaining:   35.6s\n",
        "[Parallel(n_jobs=4)]: Done   4 out of   4 | elapsed:   11.9s finished\n"
       ]
      },
      {
       "output_type": "stream",
       "stream": "stderr",
       "text": [
        "[Parallel(n_jobs=4)]: Done   1 out of   4 | elapsed:    0.3s remaining:    0.8s\n",
        "[Parallel(n_jobs=4)]: Done   4 out of   4 | elapsed:    0.3s finished\n",
        "[Parallel(n_jobs=4)]: Done   1 out of   4 | elapsed:   11.1s remaining:   33.4s\n",
        "[Parallel(n_jobs=4)]: Done   4 out of   4 | elapsed:   11.8s finished\n"
       ]
      },
      {
       "output_type": "stream",
       "stream": "stderr",
       "text": [
        "[Parallel(n_jobs=4)]: Done   1 out of   4 | elapsed:    0.3s remaining:    0.8s\n",
        "[Parallel(n_jobs=4)]: Done   4 out of   4 | elapsed:    0.3s finished\n",
        "[Parallel(n_jobs=4)]: Done   1 out of   4 | elapsed:    0.9s remaining:    2.8s\n",
        "[Parallel(n_jobs=4)]: Done   4 out of   4 | elapsed:    0.9s finished\n"
       ]
      },
      {
       "output_type": "stream",
       "stream": "stderr",
       "text": [
        "[Parallel(n_jobs=4)]: Done   1 out of   4 | elapsed:    0.0s remaining:    0.1s\n",
        "[Parallel(n_jobs=4)]: Done   4 out of   4 | elapsed:    0.0s finished\n",
        "[Parallel(n_jobs=4)]: Done   1 out of   4 | elapsed:    0.7s remaining:    2.2s\n",
        "[Parallel(n_jobs=4)]: Done   4 out of   4 | elapsed:    0.9s finished\n"
       ]
      },
      {
       "output_type": "stream",
       "stream": "stderr",
       "text": [
        "[Parallel(n_jobs=4)]: Done   1 out of   4 | elapsed:    0.0s remaining:    0.1s\n",
        "[Parallel(n_jobs=4)]: Done   4 out of   4 | elapsed:    0.0s finished\n",
        "[Parallel(n_jobs=4)]: Done   1 out of   4 | elapsed:    0.7s remaining:    2.2s\n",
        "[Parallel(n_jobs=4)]: Done   4 out of   4 | elapsed:    0.9s finished\n"
       ]
      },
      {
       "output_type": "stream",
       "stream": "stderr",
       "text": [
        "[Parallel(n_jobs=4)]: Done   1 out of   4 | elapsed:    0.0s remaining:    0.1s\n",
        "[Parallel(n_jobs=4)]: Done   4 out of   4 | elapsed:    0.0s finished\n",
        "[Parallel(n_jobs=4)]: Done   1 out of   4 | elapsed:    2.0s remaining:    5.9s\n",
        "[Parallel(n_jobs=4)]: Done   4 out of   4 | elapsed:    2.2s finished\n"
       ]
      },
      {
       "output_type": "stream",
       "stream": "stderr",
       "text": [
        "[Parallel(n_jobs=4)]: Done   1 out of   4 | elapsed:    0.1s remaining:    0.3s\n",
        "[Parallel(n_jobs=4)]: Done   4 out of   4 | elapsed:    0.1s finished\n",
        "[Parallel(n_jobs=4)]: Done   1 out of   4 | elapsed:    2.0s remaining:    6.0s\n",
        "[Parallel(n_jobs=4)]: Done   4 out of   4 | elapsed:    2.2s finished\n"
       ]
      },
      {
       "output_type": "stream",
       "stream": "stderr",
       "text": [
        "[Parallel(n_jobs=4)]: Done   1 out of   4 | elapsed:    0.1s remaining:    0.2s\n",
        "[Parallel(n_jobs=4)]: Done   4 out of   4 | elapsed:    0.1s finished\n",
        "[Parallel(n_jobs=4)]: Done   1 out of   4 | elapsed:    2.0s remaining:    6.0s\n",
        "[Parallel(n_jobs=4)]: Done   4 out of   4 | elapsed:    2.2s finished\n"
       ]
      },
      {
       "output_type": "stream",
       "stream": "stderr",
       "text": [
        "[Parallel(n_jobs=4)]: Done   1 out of   4 | elapsed:    0.1s remaining:    0.2s\n",
        "[Parallel(n_jobs=4)]: Done   4 out of   4 | elapsed:    0.1s finished\n",
        "[Parallel(n_jobs=4)]: Done   1 out of   4 | elapsed:    7.0s remaining:   20.9s\n",
        "[Parallel(n_jobs=4)]: Done   4 out of   4 | elapsed:    7.0s finished\n"
       ]
      },
      {
       "output_type": "stream",
       "stream": "stderr",
       "text": [
        "[Parallel(n_jobs=4)]: Done   1 out of   4 | elapsed:    0.1s remaining:    0.4s\n",
        "[Parallel(n_jobs=4)]: Done   4 out of   4 | elapsed:    0.1s finished\n",
        "[Parallel(n_jobs=4)]: Done   1 out of   4 | elapsed:    6.2s remaining:   18.7s\n",
        "[Parallel(n_jobs=4)]: Done   4 out of   4 | elapsed:    7.2s finished\n"
       ]
      },
      {
       "output_type": "stream",
       "stream": "stderr",
       "text": [
        "[Parallel(n_jobs=4)]: Done   1 out of   4 | elapsed:    0.1s remaining:    0.4s\n",
        "[Parallel(n_jobs=4)]: Done   4 out of   4 | elapsed:    0.1s finished\n",
        "[Parallel(n_jobs=4)]: Done   1 out of   4 | elapsed:    6.3s remaining:   19.0s\n",
        "[Parallel(n_jobs=4)]: Done   4 out of   4 | elapsed:    6.8s finished\n"
       ]
      },
      {
       "output_type": "stream",
       "stream": "stderr",
       "text": [
        "[Parallel(n_jobs=4)]: Done   1 out of   4 | elapsed:    0.1s remaining:    0.4s\n",
        "[Parallel(n_jobs=4)]: Done   4 out of   4 | elapsed:    0.1s finished\n",
        "[Parallel(n_jobs=4)]: Done   1 out of   4 | elapsed:    7.4s remaining:   22.2s\n",
        "[Parallel(n_jobs=4)]: Done   4 out of   4 | elapsed:    8.5s finished\n"
       ]
      },
      {
       "output_type": "stream",
       "stream": "stderr",
       "text": [
        "[Parallel(n_jobs=4)]: Done   1 out of   4 | elapsed:    0.2s remaining:    0.5s\n",
        "[Parallel(n_jobs=4)]: Done   4 out of   4 | elapsed:    0.2s finished\n",
        "[Parallel(n_jobs=4)]: Done   1 out of   4 | elapsed:    7.3s remaining:   21.8s\n",
        "[Parallel(n_jobs=4)]: Done   4 out of   4 | elapsed:    8.8s finished\n"
       ]
      },
      {
       "output_type": "stream",
       "stream": "stderr",
       "text": [
        "[Parallel(n_jobs=4)]: Done   1 out of   4 | elapsed:    0.1s remaining:    0.4s\n",
        "[Parallel(n_jobs=4)]: Done   4 out of   4 | elapsed:    0.1s finished\n",
        "[Parallel(n_jobs=4)]: Done   1 out of   4 | elapsed:    7.7s remaining:   23.2s\n",
        "[Parallel(n_jobs=4)]: Done   4 out of   4 | elapsed:    8.2s finished\n"
       ]
      },
      {
       "output_type": "stream",
       "stream": "stderr",
       "text": [
        "[Parallel(n_jobs=4)]: Done   1 out of   4 | elapsed:    0.2s remaining:    0.5s\n",
        "[Parallel(n_jobs=4)]: Done   4 out of   4 | elapsed:    0.2s finished\n",
        "[Parallel(n_jobs=4)]: Done   1 out of   4 | elapsed:    5.9s remaining:   17.7s\n",
        "[Parallel(n_jobs=4)]: Done   4 out of   4 | elapsed:    6.4s finished\n"
       ]
      },
      {
       "output_type": "stream",
       "stream": "stderr",
       "text": [
        "[Parallel(n_jobs=4)]: Done   1 out of   4 | elapsed:    0.1s remaining:    0.4s\n",
        "[Parallel(n_jobs=4)]: Done   4 out of   4 | elapsed:    0.1s finished\n",
        "[Parallel(n_jobs=4)]: Done   1 out of   4 | elapsed:    6.3s remaining:   18.9s\n",
        "[Parallel(n_jobs=4)]: Done   4 out of   4 | elapsed:    6.3s finished\n"
       ]
      },
      {
       "output_type": "stream",
       "stream": "stderr",
       "text": [
        "[Parallel(n_jobs=4)]: Done   1 out of   4 | elapsed:    0.1s remaining:    0.3s\n",
        "[Parallel(n_jobs=4)]: Done   4 out of   4 | elapsed:    0.1s finished\n",
        "[Parallel(n_jobs=4)]: Done   1 out of   4 | elapsed:    5.7s remaining:   17.0s\n",
        "[Parallel(n_jobs=4)]: Done   4 out of   4 | elapsed:    6.7s finished\n"
       ]
      },
      {
       "output_type": "stream",
       "stream": "stderr",
       "text": [
        "[Parallel(n_jobs=4)]: Done   1 out of   4 | elapsed:    0.1s remaining:    0.3s\n",
        "[Parallel(n_jobs=4)]: Done   4 out of   4 | elapsed:    0.1s finished\n",
        "[Parallel(n_jobs=4)]: Done   1 out of   4 | elapsed:    0.6s remaining:    1.9s\n",
        "[Parallel(n_jobs=4)]: Done   4 out of   4 | elapsed:    0.7s finished\n"
       ]
      },
      {
       "output_type": "stream",
       "stream": "stderr",
       "text": [
        "[Parallel(n_jobs=4)]: Done   1 out of   4 | elapsed:    0.0s remaining:    0.1s\n",
        "[Parallel(n_jobs=4)]: Done   4 out of   4 | elapsed:    0.0s finished\n",
        "[Parallel(n_jobs=4)]: Done   1 out of   4 | elapsed:    0.7s remaining:    2.0s\n",
        "[Parallel(n_jobs=4)]: Done   4 out of   4 | elapsed:    0.7s finished\n"
       ]
      },
      {
       "output_type": "stream",
       "stream": "stderr",
       "text": [
        "[Parallel(n_jobs=4)]: Done   1 out of   4 | elapsed:    0.0s remaining:    0.1s\n",
        "[Parallel(n_jobs=4)]: Done   4 out of   4 | elapsed:    0.0s finished\n",
        "[Parallel(n_jobs=4)]: Done   1 out of   4 | elapsed:    0.7s remaining:    2.0s\n",
        "[Parallel(n_jobs=4)]: Done   4 out of   4 | elapsed:    0.7s finished\n"
       ]
      },
      {
       "output_type": "stream",
       "stream": "stderr",
       "text": [
        "[Parallel(n_jobs=4)]: Done   1 out of   4 | elapsed:    0.0s remaining:    0.1s\n",
        "[Parallel(n_jobs=4)]: Done   4 out of   4 | elapsed:    0.0s finished\n",
        "[Parallel(n_jobs=4)]: Done   1 out of   4 | elapsed:    6.0s remaining:   18.0s\n",
        "[Parallel(n_jobs=4)]: Done   4 out of   4 | elapsed:    6.3s finished\n"
       ]
      },
      {
       "output_type": "stream",
       "stream": "stderr",
       "text": [
        "[Parallel(n_jobs=4)]: Done   1 out of   4 | elapsed:    0.1s remaining:    0.3s\n",
        "[Parallel(n_jobs=4)]: Done   4 out of   4 | elapsed:    0.1s finished\n",
        "[Parallel(n_jobs=4)]: Done   1 out of   4 | elapsed:    6.6s remaining:   19.7s\n",
        "[Parallel(n_jobs=4)]: Done   4 out of   4 | elapsed:    6.6s finished\n"
       ]
      },
      {
       "output_type": "stream",
       "stream": "stderr",
       "text": [
        "[Parallel(n_jobs=4)]: Done   1 out of   4 | elapsed:    0.1s remaining:    0.4s\n",
        "[Parallel(n_jobs=4)]: Done   4 out of   4 | elapsed:    0.1s finished\n",
        "[Parallel(n_jobs=4)]: Done   1 out of   4 | elapsed:    6.2s remaining:   18.5s\n",
        "[Parallel(n_jobs=4)]: Done   4 out of   4 | elapsed:    6.5s finished\n"
       ]
      },
      {
       "output_type": "stream",
       "stream": "stderr",
       "text": [
        "[Parallel(n_jobs=4)]: Done   1 out of   4 | elapsed:    0.1s remaining:    0.4s\n",
        "[Parallel(n_jobs=4)]: Done   4 out of   4 | elapsed:    0.1s finished\n",
        "[Parallel(n_jobs=4)]: Done   1 out of   4 | elapsed:    1.2s remaining:    3.5s\n",
        "[Parallel(n_jobs=4)]: Done   4 out of   4 | elapsed:    1.2s finished\n"
       ]
      },
      {
       "output_type": "stream",
       "stream": "stderr",
       "text": [
        "[Parallel(n_jobs=4)]: Done   1 out of   4 | elapsed:    0.0s remaining:    0.1s\n",
        "[Parallel(n_jobs=4)]: Done   4 out of   4 | elapsed:    0.0s finished\n",
        "[Parallel(n_jobs=4)]: Done   1 out of   4 | elapsed:    0.9s remaining:    2.8s\n",
        "[Parallel(n_jobs=4)]: Done   4 out of   4 | elapsed:    1.1s finished\n"
       ]
      },
      {
       "output_type": "stream",
       "stream": "stderr",
       "text": [
        "[Parallel(n_jobs=4)]: Done   1 out of   4 | elapsed:    0.0s remaining:    0.1s\n",
        "[Parallel(n_jobs=4)]: Done   4 out of   4 | elapsed:    0.0s finished\n",
        "[Parallel(n_jobs=4)]: Done   1 out of   4 | elapsed:    1.0s remaining:    3.1s\n",
        "[Parallel(n_jobs=4)]: Done   4 out of   4 | elapsed:    1.1s finished\n"
       ]
      },
      {
       "output_type": "stream",
       "stream": "stderr",
       "text": [
        "[Parallel(n_jobs=4)]: Done   1 out of   4 | elapsed:    0.0s remaining:    0.1s\n",
        "[Parallel(n_jobs=4)]: Done   4 out of   4 | elapsed:    0.0s finished\n",
        "[Parallel(n_jobs=4)]: Done   1 out of   4 | elapsed:    5.4s remaining:   16.1s\n",
        "[Parallel(n_jobs=4)]: Done   4 out of   4 | elapsed:    6.0s finished\n"
       ]
      },
      {
       "output_type": "stream",
       "stream": "stderr",
       "text": [
        "[Parallel(n_jobs=4)]: Done   1 out of   4 | elapsed:    0.2s remaining:    0.7s\n",
        "[Parallel(n_jobs=4)]: Done   4 out of   4 | elapsed:    0.3s finished\n",
        "[Parallel(n_jobs=4)]: Done   1 out of   4 | elapsed:    5.6s remaining:   16.9s\n",
        "[Parallel(n_jobs=4)]: Done   4 out of   4 | elapsed:    5.7s finished\n"
       ]
      },
      {
       "output_type": "stream",
       "stream": "stderr",
       "text": [
        "[Parallel(n_jobs=4)]: Done   1 out of   4 | elapsed:    0.3s remaining:    0.8s\n",
        "[Parallel(n_jobs=4)]: Done   4 out of   4 | elapsed:    0.3s finished\n",
        "[Parallel(n_jobs=4)]: Done   1 out of   4 | elapsed:    5.6s remaining:   16.9s\n",
        "[Parallel(n_jobs=4)]: Done   4 out of   4 | elapsed:    6.0s finished\n"
       ]
      },
      {
       "output_type": "stream",
       "stream": "stderr",
       "text": [
        "[Parallel(n_jobs=4)]: Done   1 out of   4 | elapsed:    0.2s remaining:    0.7s\n",
        "[Parallel(n_jobs=4)]: Done   4 out of   4 | elapsed:    0.2s finished\n",
        "[Parallel(n_jobs=4)]: Done   1 out of   4 | elapsed:    3.5s remaining:   10.6s\n",
        "[Parallel(n_jobs=4)]: Done   4 out of   4 | elapsed:    3.7s finished\n"
       ]
      },
      {
       "output_type": "stream",
       "stream": "stderr",
       "text": [
        "[Parallel(n_jobs=4)]: Done   1 out of   4 | elapsed:    0.1s remaining:    0.4s\n",
        "[Parallel(n_jobs=4)]: Done   4 out of   4 | elapsed:    0.1s finished\n",
        "[Parallel(n_jobs=4)]: Done   1 out of   4 | elapsed:    3.7s remaining:   11.2s\n",
        "[Parallel(n_jobs=4)]: Done   4 out of   4 | elapsed:    3.8s finished\n"
       ]
      },
      {
       "output_type": "stream",
       "stream": "stderr",
       "text": [
        "[Parallel(n_jobs=4)]: Done   1 out of   4 | elapsed:    0.1s remaining:    0.4s\n",
        "[Parallel(n_jobs=4)]: Done   4 out of   4 | elapsed:    0.1s finished\n",
        "[Parallel(n_jobs=4)]: Done   1 out of   4 | elapsed:    3.5s remaining:   10.4s\n",
        "[Parallel(n_jobs=4)]: Done   4 out of   4 | elapsed:    3.9s finished\n"
       ]
      },
      {
       "output_type": "stream",
       "stream": "stderr",
       "text": [
        "[Parallel(n_jobs=4)]: Done   1 out of   4 | elapsed:    0.1s remaining:    0.4s\n",
        "[Parallel(n_jobs=4)]: Done   4 out of   4 | elapsed:    0.1s finished\n",
        "[Parallel(n_jobs=4)]: Done   1 out of   4 | elapsed:    3.4s remaining:   10.2s\n",
        "[Parallel(n_jobs=4)]: Done   4 out of   4 | elapsed:    3.6s finished\n"
       ]
      },
      {
       "output_type": "stream",
       "stream": "stderr",
       "text": [
        "[Parallel(n_jobs=4)]: Done   1 out of   4 | elapsed:    0.1s remaining:    0.4s\n",
        "[Parallel(n_jobs=4)]: Done   4 out of   4 | elapsed:    0.1s finished\n",
        "[Parallel(n_jobs=4)]: Done   1 out of   4 | elapsed:    3.1s remaining:    9.3s\n",
        "[Parallel(n_jobs=4)]: Done   4 out of   4 | elapsed:    3.8s finished\n"
       ]
      },
      {
       "output_type": "stream",
       "stream": "stderr",
       "text": [
        "[Parallel(n_jobs=4)]: Done   1 out of   4 | elapsed:    0.1s remaining:    0.4s\n",
        "[Parallel(n_jobs=4)]: Done   4 out of   4 | elapsed:    0.1s finished\n",
        "[Parallel(n_jobs=4)]: Done   1 out of   4 | elapsed:    3.0s remaining:    9.0s\n",
        "[Parallel(n_jobs=4)]: Done   4 out of   4 | elapsed:    3.8s finished\n"
       ]
      },
      {
       "output_type": "stream",
       "stream": "stderr",
       "text": [
        "[Parallel(n_jobs=4)]: Done   1 out of   4 | elapsed:    0.1s remaining:    0.4s\n",
        "[Parallel(n_jobs=4)]: Done   4 out of   4 | elapsed:    0.1s finished\n",
        "[Parallel(n_jobs=4)]: Done   1 out of   4 | elapsed:    1.0s remaining:    3.1s\n",
        "[Parallel(n_jobs=4)]: Done   4 out of   4 | elapsed:    1.0s finished\n"
       ]
      },
      {
       "output_type": "stream",
       "stream": "stderr",
       "text": [
        "[Parallel(n_jobs=4)]: Done   1 out of   4 | elapsed:    0.0s remaining:    0.1s\n",
        "[Parallel(n_jobs=4)]: Done   4 out of   4 | elapsed:    0.0s finished\n",
        "[Parallel(n_jobs=4)]: Done   1 out of   4 | elapsed:    0.9s remaining:    2.8s\n",
        "[Parallel(n_jobs=4)]: Done   4 out of   4 | elapsed:    0.9s finished\n"
       ]
      },
      {
       "output_type": "stream",
       "stream": "stderr",
       "text": [
        "[Parallel(n_jobs=4)]: Done   1 out of   4 | elapsed:    0.0s remaining:    0.1s\n",
        "[Parallel(n_jobs=4)]: Done   4 out of   4 | elapsed:    0.0s finished\n",
        "[Parallel(n_jobs=4)]: Done   1 out of   4 | elapsed:    0.9s remaining:    2.7s\n",
        "[Parallel(n_jobs=4)]: Done   4 out of   4 | elapsed:    1.0s finished\n"
       ]
      },
      {
       "output_type": "stream",
       "stream": "stderr",
       "text": [
        "[Parallel(n_jobs=4)]: Done   1 out of   4 | elapsed:    0.0s remaining:    0.1s\n",
        "[Parallel(n_jobs=4)]: Done   4 out of   4 | elapsed:    0.0s finished\n",
        "[Parallel(n_jobs=4)]: Done   1 out of   4 | elapsed:    1.6s remaining:    4.9s\n",
        "[Parallel(n_jobs=4)]: Done   4 out of   4 | elapsed:    1.6s finished\n"
       ]
      },
      {
       "output_type": "stream",
       "stream": "stderr",
       "text": [
        "[Parallel(n_jobs=4)]: Done   1 out of   4 | elapsed:    0.1s remaining:    0.2s\n",
        "[Parallel(n_jobs=4)]: Done   4 out of   4 | elapsed:    0.1s finished\n",
        "[Parallel(n_jobs=4)]: Done   1 out of   4 | elapsed:    1.8s remaining:    5.3s\n",
        "[Parallel(n_jobs=4)]: Done   4 out of   4 | elapsed:    1.8s finished\n"
       ]
      },
      {
       "output_type": "stream",
       "stream": "stderr",
       "text": [
        "[Parallel(n_jobs=4)]: Done   1 out of   4 | elapsed:    0.1s remaining:    0.2s\n",
        "[Parallel(n_jobs=4)]: Done   4 out of   4 | elapsed:    0.1s finished\n",
        "[Parallel(n_jobs=4)]: Done   1 out of   4 | elapsed:    1.5s remaining:    4.4s\n",
        "[Parallel(n_jobs=4)]: Done   4 out of   4 | elapsed:    1.8s finished\n"
       ]
      },
      {
       "output_type": "stream",
       "stream": "stderr",
       "text": [
        "[Parallel(n_jobs=4)]: Done   1 out of   4 | elapsed:    0.1s remaining:    0.2s\n",
        "[Parallel(n_jobs=4)]: Done   4 out of   4 | elapsed:    0.1s finished\n",
        "[Parallel(n_jobs=4)]: Done   1 out of   4 | elapsed:    1.0s remaining:    3.0s\n",
        "[Parallel(n_jobs=4)]: Done   4 out of   4 | elapsed:    1.0s finished\n"
       ]
      },
      {
       "output_type": "stream",
       "stream": "stderr",
       "text": [
        "[Parallel(n_jobs=4)]: Done   1 out of   4 | elapsed:    0.0s remaining:    0.1s\n",
        "[Parallel(n_jobs=4)]: Done   4 out of   4 | elapsed:    0.0s finished\n",
        "[Parallel(n_jobs=4)]: Done   1 out of   4 | elapsed:    0.9s remaining:    2.7s\n",
        "[Parallel(n_jobs=4)]: Done   4 out of   4 | elapsed:    0.9s finished\n"
       ]
      },
      {
       "output_type": "stream",
       "stream": "stderr",
       "text": [
        "[Parallel(n_jobs=4)]: Done   1 out of   4 | elapsed:    0.0s remaining:    0.0s\n",
        "[Parallel(n_jobs=4)]: Done   4 out of   4 | elapsed:    0.0s finished\n",
        "[Parallel(n_jobs=4)]: Done   1 out of   4 | elapsed:    0.8s remaining:    2.3s\n",
        "[Parallel(n_jobs=4)]: Done   4 out of   4 | elapsed:    1.0s finished\n"
       ]
      },
      {
       "output_type": "stream",
       "stream": "stderr",
       "text": [
        "[Parallel(n_jobs=4)]: Done   1 out of   4 | elapsed:    0.0s remaining:    0.1s\n",
        "[Parallel(n_jobs=4)]: Done   4 out of   4 | elapsed:    0.0s finished\n",
        "[Parallel(n_jobs=4)]: Done   1 out of   4 | elapsed:    0.6s remaining:    1.7s\n",
        "[Parallel(n_jobs=4)]: Done   4 out of   4 | elapsed:    0.7s finished\n"
       ]
      },
      {
       "output_type": "stream",
       "stream": "stderr",
       "text": [
        "[Parallel(n_jobs=4)]: Done   1 out of   4 | elapsed:    0.0s remaining:    0.1s\n",
        "[Parallel(n_jobs=4)]: Done   4 out of   4 | elapsed:    0.0s finished\n",
        "[Parallel(n_jobs=4)]: Done   1 out of   4 | elapsed:    0.6s remaining:    1.7s\n",
        "[Parallel(n_jobs=4)]: Done   4 out of   4 | elapsed:    0.7s finished\n"
       ]
      },
      {
       "output_type": "stream",
       "stream": "stderr",
       "text": [
        "[Parallel(n_jobs=4)]: Done   1 out of   4 | elapsed:    0.0s remaining:    0.1s\n",
        "[Parallel(n_jobs=4)]: Done   4 out of   4 | elapsed:    0.0s finished\n",
        "[Parallel(n_jobs=4)]: Done   1 out of   4 | elapsed:    0.6s remaining:    1.7s\n",
        "[Parallel(n_jobs=4)]: Done   4 out of   4 | elapsed:    0.7s finished\n"
       ]
      },
      {
       "output_type": "stream",
       "stream": "stderr",
       "text": [
        "[Parallel(n_jobs=4)]: Done   1 out of   4 | elapsed:    0.0s remaining:    0.1s\n",
        "[Parallel(n_jobs=4)]: Done   4 out of   4 | elapsed:    0.0s finished\n",
        "[Parallel(n_jobs=4)]: Done   1 out of   4 | elapsed:    1.7s remaining:    5.1s\n",
        "[Parallel(n_jobs=4)]: Done   4 out of   4 | elapsed:    1.7s finished\n"
       ]
      },
      {
       "output_type": "stream",
       "stream": "stderr",
       "text": [
        "[Parallel(n_jobs=4)]: Done   1 out of   4 | elapsed:    0.0s remaining:    0.1s\n",
        "[Parallel(n_jobs=4)]: Done   4 out of   4 | elapsed:    0.0s finished\n",
        "[Parallel(n_jobs=4)]: Done   1 out of   4 | elapsed:    1.5s remaining:    4.5s\n",
        "[Parallel(n_jobs=4)]: Done   4 out of   4 | elapsed:    1.8s finished\n"
       ]
      },
      {
       "output_type": "stream",
       "stream": "stderr",
       "text": [
        "[Parallel(n_jobs=4)]: Done   1 out of   4 | elapsed:    0.0s remaining:    0.1s\n",
        "[Parallel(n_jobs=4)]: Done   4 out of   4 | elapsed:    0.0s finished\n",
        "[Parallel(n_jobs=4)]: Done   1 out of   4 | elapsed:    1.8s remaining:    5.4s\n",
        "[Parallel(n_jobs=4)]: Done   4 out of   4 | elapsed:    1.8s finished\n"
       ]
      },
      {
       "output_type": "stream",
       "stream": "stderr",
       "text": [
        "[Parallel(n_jobs=4)]: Done   1 out of   4 | elapsed:    0.0s remaining:    0.1s\n",
        "[Parallel(n_jobs=4)]: Done   4 out of   4 | elapsed:    0.0s finished\n",
        "[Parallel(n_jobs=4)]: Done   1 out of   4 | elapsed:    6.3s remaining:   19.0s\n",
        "[Parallel(n_jobs=4)]: Done   4 out of   4 | elapsed:    6.3s finished\n"
       ]
      },
      {
       "output_type": "stream",
       "stream": "stderr",
       "text": [
        "[Parallel(n_jobs=4)]: Done   1 out of   4 | elapsed:    0.3s remaining:    0.8s\n",
        "[Parallel(n_jobs=4)]: Done   4 out of   4 | elapsed:    0.3s finished\n",
        "[Parallel(n_jobs=4)]: Done   1 out of   4 | elapsed:    5.7s remaining:   17.2s\n",
        "[Parallel(n_jobs=4)]: Done   4 out of   4 | elapsed:    6.4s finished\n"
       ]
      },
      {
       "output_type": "stream",
       "stream": "stderr",
       "text": [
        "[Parallel(n_jobs=4)]: Done   1 out of   4 | elapsed:    0.3s remaining:    0.8s\n",
        "[Parallel(n_jobs=4)]: Done   4 out of   4 | elapsed:    0.3s finished\n",
        "[Parallel(n_jobs=4)]: Done   1 out of   4 | elapsed:    5.9s remaining:   17.8s\n",
        "[Parallel(n_jobs=4)]: Done   4 out of   4 | elapsed:    6.2s finished\n"
       ]
      },
      {
       "output_type": "stream",
       "stream": "stderr",
       "text": [
        "[Parallel(n_jobs=4)]: Done   1 out of   4 | elapsed:    0.3s remaining:    0.8s\n",
        "[Parallel(n_jobs=4)]: Done   4 out of   4 | elapsed:    0.3s finished\n",
        "[Parallel(n_jobs=4)]: Done   1 out of   4 | elapsed:    0.2s remaining:    0.7s\n",
        "[Parallel(n_jobs=4)]: Done   4 out of   4 | elapsed:    0.3s finished\n"
       ]
      },
      {
       "output_type": "stream",
       "stream": "stderr",
       "text": [
        "[Parallel(n_jobs=4)]: Done   1 out of   4 | elapsed:    0.0s remaining:    0.0s\n",
        "[Parallel(n_jobs=4)]: Done   4 out of   4 | elapsed:    0.0s finished\n",
        "[Parallel(n_jobs=4)]: Done   1 out of   4 | elapsed:    0.2s remaining:    0.7s\n",
        "[Parallel(n_jobs=4)]: Done   4 out of   4 | elapsed:    0.3s finished\n"
       ]
      },
      {
       "output_type": "stream",
       "stream": "stderr",
       "text": [
        "[Parallel(n_jobs=4)]: Done   1 out of   4 | elapsed:    0.0s remaining:    0.0s\n",
        "[Parallel(n_jobs=4)]: Done   4 out of   4 | elapsed:    0.0s finished\n",
        "[Parallel(n_jobs=4)]: Done   1 out of   4 | elapsed:    0.2s remaining:    0.6s\n",
        "[Parallel(n_jobs=4)]: Done   4 out of   4 | elapsed:    0.2s finished\n"
       ]
      },
      {
       "output_type": "stream",
       "stream": "stderr",
       "text": [
        "[Parallel(n_jobs=4)]: Done   1 out of   4 | elapsed:    0.0s remaining:    0.0s\n",
        "[Parallel(n_jobs=4)]: Done   4 out of   4 | elapsed:    0.0s finished\n",
        "[Parallel(n_jobs=4)]: Done   1 out of   4 | elapsed:    2.0s remaining:    5.9s\n",
        "[Parallel(n_jobs=4)]: Done   4 out of   4 | elapsed:    2.1s finished\n"
       ]
      },
      {
       "output_type": "stream",
       "stream": "stderr",
       "text": [
        "[Parallel(n_jobs=4)]: Done   1 out of   4 | elapsed:    0.0s remaining:    0.1s\n",
        "[Parallel(n_jobs=4)]: Done   4 out of   4 | elapsed:    0.0s finished\n",
        "[Parallel(n_jobs=4)]: Done   1 out of   4 | elapsed:    1.8s remaining:    5.3s\n",
        "[Parallel(n_jobs=4)]: Done   4 out of   4 | elapsed:    2.3s finished\n"
       ]
      },
      {
       "output_type": "stream",
       "stream": "stderr",
       "text": [
        "[Parallel(n_jobs=4)]: Done   1 out of   4 | elapsed:    0.0s remaining:    0.1s\n",
        "[Parallel(n_jobs=4)]: Done   4 out of   4 | elapsed:    0.0s finished\n",
        "[Parallel(n_jobs=4)]: Done   1 out of   4 | elapsed:    1.9s remaining:    5.7s\n",
        "[Parallel(n_jobs=4)]: Done   4 out of   4 | elapsed:    2.2s finished\n"
       ]
      },
      {
       "output_type": "stream",
       "stream": "stderr",
       "text": [
        "[Parallel(n_jobs=4)]: Done   1 out of   4 | elapsed:    0.0s remaining:    0.1s\n",
        "[Parallel(n_jobs=4)]: Done   4 out of   4 | elapsed:    0.0s finished\n",
        "[Parallel(n_jobs=4)]: Done   1 out of   4 | elapsed:    2.9s remaining:    8.7s\n",
        "[Parallel(n_jobs=4)]: Done   4 out of   4 | elapsed:    2.9s finished\n"
       ]
      },
      {
       "output_type": "stream",
       "stream": "stderr",
       "text": [
        "[Parallel(n_jobs=4)]: Done   1 out of   4 | elapsed:    0.1s remaining:    0.3s\n",
        "[Parallel(n_jobs=4)]: Done   4 out of   4 | elapsed:    0.1s finished\n",
        "[Parallel(n_jobs=4)]: Done   1 out of   4 | elapsed:    2.5s remaining:    7.6s\n",
        "[Parallel(n_jobs=4)]: Done   4 out of   4 | elapsed:    3.2s finished\n"
       ]
      },
      {
       "output_type": "stream",
       "stream": "stderr",
       "text": [
        "[Parallel(n_jobs=4)]: Done   1 out of   4 | elapsed:    0.1s remaining:    0.3s\n",
        "[Parallel(n_jobs=4)]: Done   4 out of   4 | elapsed:    0.1s finished\n",
        "[Parallel(n_jobs=4)]: Done   1 out of   4 | elapsed:    2.8s remaining:    8.3s\n",
        "[Parallel(n_jobs=4)]: Done   4 out of   4 | elapsed:    2.8s finished\n"
       ]
      },
      {
       "output_type": "stream",
       "stream": "stderr",
       "text": [
        "[Parallel(n_jobs=4)]: Done   1 out of   4 | elapsed:    0.1s remaining:    0.4s\n",
        "[Parallel(n_jobs=4)]: Done   4 out of   4 | elapsed:    0.1s finished\n",
        "[Parallel(n_jobs=4)]: Done   1 out of   4 | elapsed:   11.9s remaining:   35.7s\n",
        "[Parallel(n_jobs=4)]: Done   4 out of   4 | elapsed:   11.9s finished\n"
       ]
      },
      {
       "output_type": "stream",
       "stream": "stderr",
       "text": [
        "[Parallel(n_jobs=4)]: Done   1 out of   4 | elapsed:    0.2s remaining:    0.7s\n",
        "[Parallel(n_jobs=4)]: Done   4 out of   4 | elapsed:    0.2s finished\n",
        "[Parallel(n_jobs=4)]: Done   1 out of   4 | elapsed:   10.0s remaining:   30.1s\n",
        "[Parallel(n_jobs=4)]: Done   4 out of   4 | elapsed:   10.9s finished\n"
       ]
      },
      {
       "output_type": "stream",
       "stream": "stderr",
       "text": [
        "[Parallel(n_jobs=4)]: Done   1 out of   4 | elapsed:    0.3s remaining:    0.8s\n",
        "[Parallel(n_jobs=4)]: Done   4 out of   4 | elapsed:    0.3s finished\n",
        "[Parallel(n_jobs=4)]: Done   1 out of   4 | elapsed:   10.2s remaining:   30.5s\n",
        "[Parallel(n_jobs=4)]: Done   4 out of   4 | elapsed:   11.4s finished\n"
       ]
      },
      {
       "output_type": "stream",
       "stream": "stderr",
       "text": [
        "[Parallel(n_jobs=4)]: Done   1 out of   4 | elapsed:    0.3s remaining:    0.8s\n",
        "[Parallel(n_jobs=4)]: Done   4 out of   4 | elapsed:    0.3s finished\n",
        "[Parallel(n_jobs=4)]: Done   1 out of   4 | elapsed:    2.2s remaining:    6.7s\n",
        "[Parallel(n_jobs=4)]: Done   4 out of   4 | elapsed:    2.6s finished\n"
       ]
      },
      {
       "output_type": "stream",
       "stream": "stderr",
       "text": [
        "[Parallel(n_jobs=4)]: Done   1 out of   4 | elapsed:    0.1s remaining:    0.3s\n",
        "[Parallel(n_jobs=4)]: Done   4 out of   4 | elapsed:    0.1s finished\n",
        "[Parallel(n_jobs=4)]: Done   1 out of   4 | elapsed:    2.2s remaining:    6.5s\n",
        "[Parallel(n_jobs=4)]: Done   4 out of   4 | elapsed:    2.4s finished\n"
       ]
      },
      {
       "output_type": "stream",
       "stream": "stderr",
       "text": [
        "[Parallel(n_jobs=4)]: Done   1 out of   4 | elapsed:    0.1s remaining:    0.3s\n",
        "[Parallel(n_jobs=4)]: Done   4 out of   4 | elapsed:    0.1s finished\n",
        "[Parallel(n_jobs=4)]: Done   1 out of   4 | elapsed:    2.3s remaining:    7.0s\n",
        "[Parallel(n_jobs=4)]: Done   4 out of   4 | elapsed:    2.5s finished\n"
       ]
      },
      {
       "output_type": "stream",
       "stream": "stderr",
       "text": [
        "[Parallel(n_jobs=4)]: Done   1 out of   4 | elapsed:    0.1s remaining:    0.3s\n",
        "[Parallel(n_jobs=4)]: Done   4 out of   4 | elapsed:    0.1s finished\n",
        "[Parallel(n_jobs=4)]: Done   1 out of   4 | elapsed:    3.7s remaining:   11.0s\n",
        "[Parallel(n_jobs=4)]: Done   4 out of   4 | elapsed:    4.2s finished\n"
       ]
      },
      {
       "output_type": "stream",
       "stream": "stderr",
       "text": [
        "[Parallel(n_jobs=4)]: Done   1 out of   4 | elapsed:    0.2s remaining:    0.5s\n",
        "[Parallel(n_jobs=4)]: Done   4 out of   4 | elapsed:    0.2s finished\n",
        "[Parallel(n_jobs=4)]: Done   1 out of   4 | elapsed:    3.8s remaining:   11.5s\n",
        "[Parallel(n_jobs=4)]: Done   4 out of   4 | elapsed:    4.4s finished\n"
       ]
      },
      {
       "output_type": "stream",
       "stream": "stderr",
       "text": [
        "[Parallel(n_jobs=4)]: Done   1 out of   4 | elapsed:    0.2s remaining:    0.5s\n",
        "[Parallel(n_jobs=4)]: Done   4 out of   4 | elapsed:    0.2s finished\n",
        "[Parallel(n_jobs=4)]: Done   1 out of   4 | elapsed:    4.0s remaining:   12.0s\n",
        "[Parallel(n_jobs=4)]: Done   4 out of   4 | elapsed:    4.5s finished\n"
       ]
      },
      {
       "output_type": "stream",
       "stream": "stderr",
       "text": [
        "[Parallel(n_jobs=4)]: Done   1 out of   4 | elapsed:    0.2s remaining:    0.5s\n",
        "[Parallel(n_jobs=4)]: Done   4 out of   4 | elapsed:    0.2s finished\n",
        "[Parallel(n_jobs=4)]: Done   1 out of   4 | elapsed:   11.3s remaining:   34.0s\n",
        "[Parallel(n_jobs=4)]: Done   4 out of   4 | elapsed:   13.0s finished\n"
       ]
      },
      {
       "output_type": "stream",
       "stream": "stderr",
       "text": [
        "[Parallel(n_jobs=4)]: Done   1 out of   4 | elapsed:    0.3s remaining:    0.8s\n",
        "[Parallel(n_jobs=4)]: Done   4 out of   4 | elapsed:    0.3s finished\n",
        "[Parallel(n_jobs=4)]: Done   1 out of   4 | elapsed:   12.3s remaining:   36.9s\n",
        "[Parallel(n_jobs=4)]: Done   4 out of   4 | elapsed:   12.3s finished\n"
       ]
      },
      {
       "output_type": "stream",
       "stream": "stderr",
       "text": [
        "[Parallel(n_jobs=4)]: Done   1 out of   4 | elapsed:    0.3s remaining:    0.8s\n",
        "[Parallel(n_jobs=4)]: Done   4 out of   4 | elapsed:    0.3s finished\n",
        "[Parallel(n_jobs=4)]: Done   1 out of   4 | elapsed:   11.6s remaining:   34.8s\n",
        "[Parallel(n_jobs=4)]: Done   4 out of   4 | elapsed:   12.7s finished\n"
       ]
      },
      {
       "output_type": "stream",
       "stream": "stderr",
       "text": [
        "[Parallel(n_jobs=4)]: Done   1 out of   4 | elapsed:    0.3s remaining:    0.9s\n",
        "[Parallel(n_jobs=4)]: Done   4 out of   4 | elapsed:    0.3s finished\n",
        "[Parallel(n_jobs=4)]: Done   1 out of   4 | elapsed:    2.4s remaining:    7.2s\n",
        "[Parallel(n_jobs=4)]: Done   4 out of   4 | elapsed:    2.7s finished\n"
       ]
      },
      {
       "output_type": "stream",
       "stream": "stderr",
       "text": [
        "[Parallel(n_jobs=4)]: Done   1 out of   4 | elapsed:    0.1s remaining:    0.3s\n",
        "[Parallel(n_jobs=4)]: Done   4 out of   4 | elapsed:    0.1s finished\n",
        "[Parallel(n_jobs=4)]: Done   1 out of   4 | elapsed:    2.7s remaining:    8.0s\n",
        "[Parallel(n_jobs=4)]: Done   4 out of   4 | elapsed:    2.7s finished\n"
       ]
      },
      {
       "output_type": "stream",
       "stream": "stderr",
       "text": [
        "[Parallel(n_jobs=4)]: Done   1 out of   4 | elapsed:    0.1s remaining:    0.3s\n",
        "[Parallel(n_jobs=4)]: Done   4 out of   4 | elapsed:    0.1s finished\n",
        "[Parallel(n_jobs=4)]: Done   1 out of   4 | elapsed:    2.8s remaining:    8.5s\n",
        "[Parallel(n_jobs=4)]: Done   4 out of   4 | elapsed:    2.8s finished\n"
       ]
      },
      {
       "output_type": "stream",
       "stream": "stderr",
       "text": [
        "[Parallel(n_jobs=4)]: Done   1 out of   4 | elapsed:    0.1s remaining:    0.3s\n",
        "[Parallel(n_jobs=4)]: Done   4 out of   4 | elapsed:    0.1s finished\n",
        "[Parallel(n_jobs=4)]: Done   1 out of   4 | elapsed:    2.2s remaining:    6.7s\n",
        "[Parallel(n_jobs=4)]: Done   4 out of   4 | elapsed:    2.5s finished\n"
       ]
      },
      {
       "output_type": "stream",
       "stream": "stderr",
       "text": [
        "[Parallel(n_jobs=4)]: Done   1 out of   4 | elapsed:    0.0s remaining:    0.1s\n",
        "[Parallel(n_jobs=4)]: Done   4 out of   4 | elapsed:    0.1s finished\n",
        "[Parallel(n_jobs=4)]: Done   1 out of   4 | elapsed:    2.2s remaining:    6.6s\n",
        "[Parallel(n_jobs=4)]: Done   4 out of   4 | elapsed:    2.8s finished\n"
       ]
      },
      {
       "output_type": "stream",
       "stream": "stderr",
       "text": [
        "[Parallel(n_jobs=4)]: Done   1 out of   4 | elapsed:    0.0s remaining:    0.1s\n",
        "[Parallel(n_jobs=4)]: Done   4 out of   4 | elapsed:    0.1s finished\n",
        "[Parallel(n_jobs=4)]: Done   1 out of   4 | elapsed:    2.2s remaining:    6.6s\n",
        "[Parallel(n_jobs=4)]: Done   4 out of   4 | elapsed:    2.7s finished\n"
       ]
      },
      {
       "output_type": "stream",
       "stream": "stderr",
       "text": [
        "[Parallel(n_jobs=4)]: Done   1 out of   4 | elapsed:    0.0s remaining:    0.1s\n",
        "[Parallel(n_jobs=4)]: Done   4 out of   4 | elapsed:    0.0s finished\n",
        "[Parallel(n_jobs=4)]: Done   1 out of   4 | elapsed:    0.7s remaining:    2.2s\n",
        "[Parallel(n_jobs=4)]: Done   4 out of   4 | elapsed:    0.8s finished\n"
       ]
      },
      {
       "output_type": "stream",
       "stream": "stderr",
       "text": [
        "[Parallel(n_jobs=4)]: Done   1 out of   4 | elapsed:    0.0s remaining:    0.1s\n",
        "[Parallel(n_jobs=4)]: Done   4 out of   4 | elapsed:    0.0s finished\n",
        "[Parallel(n_jobs=4)]: Done   1 out of   4 | elapsed:    0.7s remaining:    2.1s\n",
        "[Parallel(n_jobs=4)]: Done   4 out of   4 | elapsed:    0.8s finished\n"
       ]
      },
      {
       "output_type": "stream",
       "stream": "stderr",
       "text": [
        "[Parallel(n_jobs=4)]: Done   1 out of   4 | elapsed:    0.0s remaining:    0.1s\n",
        "[Parallel(n_jobs=4)]: Done   4 out of   4 | elapsed:    0.0s finished\n",
        "[Parallel(n_jobs=4)]: Done   1 out of   4 | elapsed:    0.8s remaining:    2.3s\n",
        "[Parallel(n_jobs=4)]: Done   4 out of   4 | elapsed:    0.8s finished\n"
       ]
      },
      {
       "output_type": "stream",
       "stream": "stderr",
       "text": [
        "[Parallel(n_jobs=4)]: Done   1 out of   4 | elapsed:    0.0s remaining:    0.1s\n",
        "[Parallel(n_jobs=4)]: Done   4 out of   4 | elapsed:    0.0s finished\n",
        "[Parallel(n_jobs=4)]: Done   1 out of   4 | elapsed:    1.1s remaining:    3.3s\n",
        "[Parallel(n_jobs=4)]: Done   4 out of   4 | elapsed:    1.2s finished\n"
       ]
      },
      {
       "output_type": "stream",
       "stream": "stderr",
       "text": [
        "[Parallel(n_jobs=4)]: Done   1 out of   4 | elapsed:    0.0s remaining:    0.1s\n",
        "[Parallel(n_jobs=4)]: Done   4 out of   4 | elapsed:    0.1s finished\n",
        "[Parallel(n_jobs=4)]: Done   1 out of   4 | elapsed:    1.1s remaining:    3.3s\n",
        "[Parallel(n_jobs=4)]: Done   4 out of   4 | elapsed:    1.2s finished\n"
       ]
      },
      {
       "output_type": "stream",
       "stream": "stderr",
       "text": [
        "[Parallel(n_jobs=4)]: Done   1 out of   4 | elapsed:    0.0s remaining:    0.1s\n",
        "[Parallel(n_jobs=4)]: Done   4 out of   4 | elapsed:    0.1s finished\n",
        "[Parallel(n_jobs=4)]: Done   1 out of   4 | elapsed:    1.1s remaining:    3.4s\n",
        "[Parallel(n_jobs=4)]: Done   4 out of   4 | elapsed:    1.4s finished\n"
       ]
      },
      {
       "output_type": "stream",
       "stream": "stderr",
       "text": [
        "[Parallel(n_jobs=4)]: Done   1 out of   4 | elapsed:    0.0s remaining:    0.1s\n",
        "[Parallel(n_jobs=4)]: Done   4 out of   4 | elapsed:    0.1s finished\n",
        "[Parallel(n_jobs=4)]: Done   1 out of   4 | elapsed:    4.0s remaining:   11.9s\n",
        "[Parallel(n_jobs=4)]: Done   4 out of   4 | elapsed:    4.0s finished\n"
       ]
      },
      {
       "output_type": "stream",
       "stream": "stderr",
       "text": [
        "[Parallel(n_jobs=4)]: Done   1 out of   4 | elapsed:    0.1s remaining:    0.4s\n",
        "[Parallel(n_jobs=4)]: Done   4 out of   4 | elapsed:    0.2s finished\n",
        "[Parallel(n_jobs=4)]: Done   1 out of   4 | elapsed:    4.5s remaining:   13.5s\n",
        "[Parallel(n_jobs=4)]: Done   4 out of   4 | elapsed:    4.5s finished\n"
       ]
      },
      {
       "output_type": "stream",
       "stream": "stderr",
       "text": [
        "[Parallel(n_jobs=4)]: Done   1 out of   4 | elapsed:    0.2s remaining:    0.5s\n",
        "[Parallel(n_jobs=4)]: Done   4 out of   4 | elapsed:    0.2s finished\n",
        "[Parallel(n_jobs=4)]: Done   1 out of   4 | elapsed:    3.6s remaining:   10.9s\n",
        "[Parallel(n_jobs=4)]: Done   4 out of   4 | elapsed:    4.2s finished\n"
       ]
      },
      {
       "output_type": "stream",
       "stream": "stderr",
       "text": [
        "[Parallel(n_jobs=4)]: Done   1 out of   4 | elapsed:    0.1s remaining:    0.4s\n",
        "[Parallel(n_jobs=4)]: Done   4 out of   4 | elapsed:    0.1s finished\n",
        "[Parallel(n_jobs=4)]: Done   1 out of   4 | elapsed:    2.3s remaining:    7.0s\n",
        "[Parallel(n_jobs=4)]: Done   4 out of   4 | elapsed:    2.3s finished\n"
       ]
      },
      {
       "output_type": "stream",
       "stream": "stderr",
       "text": [
        "[Parallel(n_jobs=4)]: Done   1 out of   4 | elapsed:    0.1s remaining:    0.3s\n",
        "[Parallel(n_jobs=4)]: Done   4 out of   4 | elapsed:    0.1s finished\n",
        "[Parallel(n_jobs=4)]: Done   1 out of   4 | elapsed:    2.2s remaining:    6.7s\n",
        "[Parallel(n_jobs=4)]: Done   4 out of   4 | elapsed:    2.6s finished\n"
       ]
      },
      {
       "output_type": "stream",
       "stream": "stderr",
       "text": [
        "[Parallel(n_jobs=4)]: Done   1 out of   4 | elapsed:    0.1s remaining:    0.3s\n",
        "[Parallel(n_jobs=4)]: Done   4 out of   4 | elapsed:    0.1s finished\n",
        "[Parallel(n_jobs=4)]: Done   1 out of   4 | elapsed:    2.2s remaining:    6.6s\n",
        "[Parallel(n_jobs=4)]: Done   4 out of   4 | elapsed:    2.6s finished\n"
       ]
      },
      {
       "output_type": "stream",
       "stream": "stderr",
       "text": [
        "[Parallel(n_jobs=4)]: Done   1 out of   4 | elapsed:    0.1s remaining:    0.3s\n",
        "[Parallel(n_jobs=4)]: Done   4 out of   4 | elapsed:    0.1s finished\n",
        "[Parallel(n_jobs=4)]: Done   1 out of   4 | elapsed:    1.3s remaining:    4.0s\n",
        "[Parallel(n_jobs=4)]: Done   4 out of   4 | elapsed:    1.5s finished\n"
       ]
      },
      {
       "output_type": "stream",
       "stream": "stderr",
       "text": [
        "[Parallel(n_jobs=4)]: Done   1 out of   4 | elapsed:    0.1s remaining:    0.2s\n",
        "[Parallel(n_jobs=4)]: Done   4 out of   4 | elapsed:    0.1s finished\n",
        "[Parallel(n_jobs=4)]: Done   1 out of   4 | elapsed:    1.4s remaining:    4.3s\n",
        "[Parallel(n_jobs=4)]: Done   4 out of   4 | elapsed:    1.5s finished\n"
       ]
      },
      {
       "output_type": "stream",
       "stream": "stderr",
       "text": [
        "[Parallel(n_jobs=4)]: Done   1 out of   4 | elapsed:    0.1s remaining:    0.2s\n",
        "[Parallel(n_jobs=4)]: Done   4 out of   4 | elapsed:    0.1s finished\n",
        "[Parallel(n_jobs=4)]: Done   1 out of   4 | elapsed:    1.6s remaining:    4.9s\n",
        "[Parallel(n_jobs=4)]: Done   4 out of   4 | elapsed:    1.6s finished\n"
       ]
      },
      {
       "output_type": "stream",
       "stream": "stderr",
       "text": [
        "[Parallel(n_jobs=4)]: Done   1 out of   4 | elapsed:    0.1s remaining:    0.2s\n",
        "[Parallel(n_jobs=4)]: Done   4 out of   4 | elapsed:    0.1s finished\n",
        "[Parallel(n_jobs=4)]: Done   1 out of   4 | elapsed:    4.3s remaining:   12.8s\n",
        "[Parallel(n_jobs=4)]: Done   4 out of   4 | elapsed:    4.7s finished\n"
       ]
      },
      {
       "output_type": "stream",
       "stream": "stderr",
       "text": [
        "[Parallel(n_jobs=4)]: Done   1 out of   4 | elapsed:    0.2s remaining:    0.6s\n",
        "[Parallel(n_jobs=4)]: Done   4 out of   4 | elapsed:    0.2s finished\n",
        "[Parallel(n_jobs=4)]: Done   1 out of   4 | elapsed:    4.4s remaining:   13.2s\n",
        "[Parallel(n_jobs=4)]: Done   4 out of   4 | elapsed:    4.6s finished\n"
       ]
      },
      {
       "output_type": "stream",
       "stream": "stderr",
       "text": [
        "[Parallel(n_jobs=4)]: Done   1 out of   4 | elapsed:    0.2s remaining:    0.5s\n",
        "[Parallel(n_jobs=4)]: Done   4 out of   4 | elapsed:    0.2s finished\n",
        "[Parallel(n_jobs=4)]: Done   1 out of   4 | elapsed:    4.5s remaining:   13.6s\n",
        "[Parallel(n_jobs=4)]: Done   4 out of   4 | elapsed:    4.9s finished\n"
       ]
      },
      {
       "output_type": "stream",
       "stream": "stderr",
       "text": [
        "[Parallel(n_jobs=4)]: Done   1 out of   4 | elapsed:    0.2s remaining:    0.5s\n",
        "[Parallel(n_jobs=4)]: Done   4 out of   4 | elapsed:    0.2s finished\n",
        "[Parallel(n_jobs=4)]: Done   1 out of   4 | elapsed:    8.2s remaining:   24.5s\n",
        "[Parallel(n_jobs=4)]: Done   4 out of   4 | elapsed:    8.8s finished\n"
       ]
      },
      {
       "output_type": "stream",
       "stream": "stderr",
       "text": [
        "[Parallel(n_jobs=4)]: Done   1 out of   4 | elapsed:    0.1s remaining:    0.4s\n",
        "[Parallel(n_jobs=4)]: Done   4 out of   4 | elapsed:    0.2s finished\n",
        "[Parallel(n_jobs=4)]: Done   1 out of   4 | elapsed:    8.7s remaining:   26.1s\n",
        "[Parallel(n_jobs=4)]: Done   4 out of   4 | elapsed:    8.7s finished\n"
       ]
      },
      {
       "output_type": "stream",
       "stream": "stderr",
       "text": [
        "[Parallel(n_jobs=4)]: Done   1 out of   4 | elapsed:    0.1s remaining:    0.4s\n",
        "[Parallel(n_jobs=4)]: Done   4 out of   4 | elapsed:    0.2s finished\n",
        "[Parallel(n_jobs=4)]: Done   1 out of   4 | elapsed:    8.9s remaining:   26.6s\n",
        "[Parallel(n_jobs=4)]: Done   4 out of   4 | elapsed:    9.4s finished\n"
       ]
      },
      {
       "output_type": "stream",
       "stream": "stderr",
       "text": [
        "[Parallel(n_jobs=4)]: Done   1 out of   4 | elapsed:    0.2s remaining:    0.5s\n",
        "[Parallel(n_jobs=4)]: Done   4 out of   4 | elapsed:    0.2s finished\n",
        "[Parallel(n_jobs=4)]: Done   1 out of   4 | elapsed:    3.8s remaining:   11.4s\n",
        "[Parallel(n_jobs=4)]: Done   4 out of   4 | elapsed:    3.9s finished\n"
       ]
      },
      {
       "output_type": "stream",
       "stream": "stderr",
       "text": [
        "[Parallel(n_jobs=4)]: Done   1 out of   4 | elapsed:    0.1s remaining:    0.4s\n",
        "[Parallel(n_jobs=4)]: Done   4 out of   4 | elapsed:    0.1s finished\n",
        "[Parallel(n_jobs=4)]: Done   1 out of   4 | elapsed:    4.1s remaining:   12.3s\n",
        "[Parallel(n_jobs=4)]: Done   4 out of   4 | elapsed:    4.1s finished\n"
       ]
      },
      {
       "output_type": "stream",
       "stream": "stderr",
       "text": [
        "[Parallel(n_jobs=4)]: Done   1 out of   4 | elapsed:    0.1s remaining:    0.4s\n",
        "[Parallel(n_jobs=4)]: Done   4 out of   4 | elapsed:    0.1s finished\n",
        "[Parallel(n_jobs=4)]: Done   1 out of   4 | elapsed:    4.3s remaining:   12.8s\n",
        "[Parallel(n_jobs=4)]: Done   4 out of   4 | elapsed:    4.3s finished\n"
       ]
      },
      {
       "output_type": "stream",
       "stream": "stderr",
       "text": [
        "[Parallel(n_jobs=4)]: Done   1 out of   4 | elapsed:    0.1s remaining:    0.4s\n",
        "[Parallel(n_jobs=4)]: Done   4 out of   4 | elapsed:    0.1s finished\n",
        "[Parallel(n_jobs=4)]: Done   1 out of   4 | elapsed:    1.6s remaining:    4.7s\n",
        "[Parallel(n_jobs=4)]: Done   4 out of   4 | elapsed:    1.6s finished\n"
       ]
      },
      {
       "output_type": "stream",
       "stream": "stderr",
       "text": [
        "[Parallel(n_jobs=4)]: Done   1 out of   4 | elapsed:    0.1s remaining:    0.2s\n",
        "[Parallel(n_jobs=4)]: Done   4 out of   4 | elapsed:    0.1s finished\n",
        "[Parallel(n_jobs=4)]: Done   1 out of   4 | elapsed:    1.4s remaining:    4.2s\n",
        "[Parallel(n_jobs=4)]: Done   4 out of   4 | elapsed:    1.6s finished\n"
       ]
      },
      {
       "output_type": "stream",
       "stream": "stderr",
       "text": [
        "[Parallel(n_jobs=4)]: Done   1 out of   4 | elapsed:    0.1s remaining:    0.2s\n",
        "[Parallel(n_jobs=4)]: Done   4 out of   4 | elapsed:    0.1s finished\n",
        "[Parallel(n_jobs=4)]: Done   1 out of   4 | elapsed:    1.5s remaining:    4.4s\n",
        "[Parallel(n_jobs=4)]: Done   4 out of   4 | elapsed:    1.7s finished\n"
       ]
      },
      {
       "output_type": "stream",
       "stream": "stderr",
       "text": [
        "[Parallel(n_jobs=4)]: Done   1 out of   4 | elapsed:    0.1s remaining:    0.2s\n",
        "[Parallel(n_jobs=4)]: Done   4 out of   4 | elapsed:    0.1s finished\n",
        "[Parallel(n_jobs=4)]: Done   1 out of   4 | elapsed:    4.3s remaining:   12.8s\n",
        "[Parallel(n_jobs=4)]: Done   4 out of   4 | elapsed:    5.3s finished\n"
       ]
      },
      {
       "output_type": "stream",
       "stream": "stderr",
       "text": [
        "[Parallel(n_jobs=4)]: Done   1 out of   4 | elapsed:    0.1s remaining:    0.3s\n",
        "[Parallel(n_jobs=4)]: Done   4 out of   4 | elapsed:    0.1s finished\n",
        "[Parallel(n_jobs=4)]: Done   1 out of   4 | elapsed:    4.6s remaining:   13.9s\n",
        "[Parallel(n_jobs=4)]: Done   4 out of   4 | elapsed:    4.7s finished\n"
       ]
      },
      {
       "output_type": "stream",
       "stream": "stderr",
       "text": [
        "[Parallel(n_jobs=4)]: Done   1 out of   4 | elapsed:    0.1s remaining:    0.3s\n",
        "[Parallel(n_jobs=4)]: Done   4 out of   4 | elapsed:    0.1s finished\n",
        "[Parallel(n_jobs=4)]: Done   1 out of   4 | elapsed:    4.5s remaining:   13.4s\n",
        "[Parallel(n_jobs=4)]: Done   4 out of   4 | elapsed:    4.7s finished\n"
       ]
      },
      {
       "output_type": "stream",
       "stream": "stderr",
       "text": [
        "[Parallel(n_jobs=4)]: Done   1 out of   4 | elapsed:    0.1s remaining:    0.3s\n",
        "[Parallel(n_jobs=4)]: Done   4 out of   4 | elapsed:    0.1s finished\n",
        "[Parallel(n_jobs=4)]: Done   1 out of   4 | elapsed:    4.9s remaining:   14.8s\n",
        "[Parallel(n_jobs=4)]: Done   4 out of   4 | elapsed:    5.4s finished\n"
       ]
      },
      {
       "output_type": "stream",
       "stream": "stderr",
       "text": [
        "[Parallel(n_jobs=4)]: Done   1 out of   4 | elapsed:    0.2s remaining:    0.6s\n",
        "[Parallel(n_jobs=4)]: Done   4 out of   4 | elapsed:    0.2s finished\n",
        "[Parallel(n_jobs=4)]: Done   1 out of   4 | elapsed:    4.9s remaining:   14.6s\n",
        "[Parallel(n_jobs=4)]: Done   4 out of   4 | elapsed:    5.6s finished\n"
       ]
      },
      {
       "output_type": "stream",
       "stream": "stderr",
       "text": [
        "[Parallel(n_jobs=4)]: Done   1 out of   4 | elapsed:    0.2s remaining:    0.7s\n",
        "[Parallel(n_jobs=4)]: Done   4 out of   4 | elapsed:    0.2s finished\n",
        "[Parallel(n_jobs=4)]: Done   1 out of   4 | elapsed:    5.2s remaining:   15.7s\n",
        "[Parallel(n_jobs=4)]: Done   4 out of   4 | elapsed:    5.4s finished\n"
       ]
      },
      {
       "output_type": "stream",
       "stream": "stderr",
       "text": [
        "[Parallel(n_jobs=4)]: Done   1 out of   4 | elapsed:    0.2s remaining:    0.7s\n",
        "[Parallel(n_jobs=4)]: Done   4 out of   4 | elapsed:    0.2s finished\n",
        "[Parallel(n_jobs=4)]: Done   1 out of   4 | elapsed:    3.4s remaining:   10.1s\n",
        "[Parallel(n_jobs=4)]: Done   4 out of   4 | elapsed:    3.5s finished\n"
       ]
      },
      {
       "output_type": "stream",
       "stream": "stderr",
       "text": [
        "[Parallel(n_jobs=4)]: Done   1 out of   4 | elapsed:    0.1s remaining:    0.4s\n",
        "[Parallel(n_jobs=4)]: Done   4 out of   4 | elapsed:    0.1s finished\n",
        "[Parallel(n_jobs=4)]: Done   1 out of   4 | elapsed:    3.4s remaining:   10.1s\n",
        "[Parallel(n_jobs=4)]: Done   4 out of   4 | elapsed:    3.8s finished\n"
       ]
      },
      {
       "output_type": "stream",
       "stream": "stderr",
       "text": [
        "[Parallel(n_jobs=4)]: Done   1 out of   4 | elapsed:    0.1s remaining:    0.4s\n",
        "[Parallel(n_jobs=4)]: Done   4 out of   4 | elapsed:    0.1s finished\n",
        "[Parallel(n_jobs=4)]: Done   1 out of   4 | elapsed:    3.5s remaining:   10.5s\n",
        "[Parallel(n_jobs=4)]: Done   4 out of   4 | elapsed:    3.7s finished\n"
       ]
      },
      {
       "output_type": "stream",
       "stream": "stderr",
       "text": [
        "[Parallel(n_jobs=4)]: Done   1 out of   4 | elapsed:    0.1s remaining:    0.4s\n",
        "[Parallel(n_jobs=4)]: Done   4 out of   4 | elapsed:    0.1s finished\n",
        "[Parallel(n_jobs=4)]: Done   1 out of   4 | elapsed:    6.7s remaining:   20.1s\n",
        "[Parallel(n_jobs=4)]: Done   4 out of   4 | elapsed:    7.4s finished\n"
       ]
      },
      {
       "output_type": "stream",
       "stream": "stderr",
       "text": [
        "[Parallel(n_jobs=4)]: Done   1 out of   4 | elapsed:    0.1s remaining:    0.4s\n",
        "[Parallel(n_jobs=4)]: Done   4 out of   4 | elapsed:    0.1s finished\n",
        "[Parallel(n_jobs=4)]: Done   1 out of   4 | elapsed:    7.3s remaining:   21.9s\n",
        "[Parallel(n_jobs=4)]: Done   4 out of   4 | elapsed:    7.3s finished\n"
       ]
      },
      {
       "output_type": "stream",
       "stream": "stderr",
       "text": [
        "[Parallel(n_jobs=4)]: Done   1 out of   4 | elapsed:    0.1s remaining:    0.4s\n",
        "[Parallel(n_jobs=4)]: Done   4 out of   4 | elapsed:    0.1s finished\n",
        "[Parallel(n_jobs=4)]: Done   1 out of   4 | elapsed:    6.5s remaining:   19.6s\n",
        "[Parallel(n_jobs=4)]: Done   4 out of   4 | elapsed:    7.4s finished\n"
       ]
      },
      {
       "output_type": "stream",
       "stream": "stderr",
       "text": [
        "[Parallel(n_jobs=4)]: Done   1 out of   4 | elapsed:    0.1s remaining:    0.4s\n",
        "[Parallel(n_jobs=4)]: Done   4 out of   4 | elapsed:    0.1s finished\n",
        "[Parallel(n_jobs=4)]: Done   1 out of   4 | elapsed:    1.7s remaining:    5.2s\n",
        "[Parallel(n_jobs=4)]: Done   4 out of   4 | elapsed:    2.0s finished\n"
       ]
      },
      {
       "output_type": "stream",
       "stream": "stderr",
       "text": [
        "[Parallel(n_jobs=4)]: Done   1 out of   4 | elapsed:    0.1s remaining:    0.2s\n",
        "[Parallel(n_jobs=4)]: Done   4 out of   4 | elapsed:    0.1s finished\n",
        "[Parallel(n_jobs=4)]: Done   1 out of   4 | elapsed:    1.6s remaining:    4.9s\n",
        "[Parallel(n_jobs=4)]: Done   4 out of   4 | elapsed:    1.8s finished\n"
       ]
      },
      {
       "output_type": "stream",
       "stream": "stderr",
       "text": [
        "[Parallel(n_jobs=4)]: Done   1 out of   4 | elapsed:    0.1s remaining:    0.2s\n",
        "[Parallel(n_jobs=4)]: Done   4 out of   4 | elapsed:    0.1s finished\n",
        "[Parallel(n_jobs=4)]: Done   1 out of   4 | elapsed:    1.7s remaining:    5.1s\n",
        "[Parallel(n_jobs=4)]: Done   4 out of   4 | elapsed:    1.9s finished\n"
       ]
      },
      {
       "output_type": "stream",
       "stream": "stderr",
       "text": [
        "[Parallel(n_jobs=4)]: Done   1 out of   4 | elapsed:    0.1s remaining:    0.2s\n",
        "[Parallel(n_jobs=4)]: Done   4 out of   4 | elapsed:    0.1s finished\n",
        "[Parallel(n_jobs=4)]: Done   1 out of   4 | elapsed:    5.9s remaining:   17.8s\n",
        "[Parallel(n_jobs=4)]: Done   4 out of   4 | elapsed:    6.9s finished\n"
       ]
      },
      {
       "output_type": "stream",
       "stream": "stderr",
       "text": [
        "[Parallel(n_jobs=4)]: Done   1 out of   4 | elapsed:    0.1s remaining:    0.4s\n",
        "[Parallel(n_jobs=4)]: Done   4 out of   4 | elapsed:    0.1s finished\n",
        "[Parallel(n_jobs=4)]: Done   1 out of   4 | elapsed:    6.2s remaining:   18.5s\n",
        "[Parallel(n_jobs=4)]: Done   4 out of   4 | elapsed:    6.3s finished\n"
       ]
      },
      {
       "output_type": "stream",
       "stream": "stderr",
       "text": [
        "[Parallel(n_jobs=4)]: Done   1 out of   4 | elapsed:    0.1s remaining:    0.4s\n",
        "[Parallel(n_jobs=4)]: Done   4 out of   4 | elapsed:    0.1s finished\n",
        "[Parallel(n_jobs=4)]: Done   1 out of   4 | elapsed:    6.1s remaining:   18.4s\n",
        "[Parallel(n_jobs=4)]: Done   4 out of   4 | elapsed:    6.4s finished\n"
       ]
      },
      {
       "output_type": "stream",
       "stream": "stderr",
       "text": [
        "[Parallel(n_jobs=4)]: Done   1 out of   4 | elapsed:    0.1s remaining:    0.3s\n",
        "[Parallel(n_jobs=4)]: Done   4 out of   4 | elapsed:    0.1s finished\n",
        "[Parallel(n_jobs=4)]: Done   1 out of   4 | elapsed:    2.5s remaining:    7.6s\n",
        "[Parallel(n_jobs=4)]: Done   4 out of   4 | elapsed:    2.8s finished\n"
       ]
      },
      {
       "output_type": "stream",
       "stream": "stderr",
       "text": [
        "[Parallel(n_jobs=4)]: Done   1 out of   4 | elapsed:    0.1s remaining:    0.3s\n",
        "[Parallel(n_jobs=4)]: Done   4 out of   4 | elapsed:    0.1s finished\n",
        "[Parallel(n_jobs=4)]: Done   1 out of   4 | elapsed:    2.6s remaining:    7.8s\n",
        "[Parallel(n_jobs=4)]: Done   4 out of   4 | elapsed:    2.9s finished\n"
       ]
      },
      {
       "output_type": "stream",
       "stream": "stderr",
       "text": [
        "[Parallel(n_jobs=4)]: Done   1 out of   4 | elapsed:    0.1s remaining:    0.3s\n",
        "[Parallel(n_jobs=4)]: Done   4 out of   4 | elapsed:    0.1s finished\n",
        "[Parallel(n_jobs=4)]: Done   1 out of   4 | elapsed:    2.5s remaining:    7.5s\n",
        "[Parallel(n_jobs=4)]: Done   4 out of   4 | elapsed:    3.3s finished\n"
       ]
      },
      {
       "output_type": "stream",
       "stream": "stderr",
       "text": [
        "[Parallel(n_jobs=4)]: Done   1 out of   4 | elapsed:    0.1s remaining:    0.3s\n",
        "[Parallel(n_jobs=4)]: Done   4 out of   4 | elapsed:    0.1s finished\n",
        "[Parallel(n_jobs=4)]: Done   1 out of   4 | elapsed:    0.7s remaining:    2.0s\n",
        "[Parallel(n_jobs=4)]: Done   4 out of   4 | elapsed:    0.8s finished\n"
       ]
      },
      {
       "output_type": "stream",
       "stream": "stderr",
       "text": [
        "[Parallel(n_jobs=4)]: Done   1 out of   4 | elapsed:    0.0s remaining:    0.0s\n",
        "[Parallel(n_jobs=4)]: Done   4 out of   4 | elapsed:    0.0s finished\n",
        "[Parallel(n_jobs=4)]: Done   1 out of   4 | elapsed:    0.6s remaining:    1.9s\n",
        "[Parallel(n_jobs=4)]: Done   4 out of   4 | elapsed:    0.8s finished\n"
       ]
      },
      {
       "output_type": "stream",
       "stream": "stderr",
       "text": [
        "[Parallel(n_jobs=4)]: Done   1 out of   4 | elapsed:    0.0s remaining:    0.0s\n",
        "[Parallel(n_jobs=4)]: Done   4 out of   4 | elapsed:    0.0s finished\n",
        "[Parallel(n_jobs=4)]: Done   1 out of   4 | elapsed:    0.7s remaining:    2.1s\n",
        "[Parallel(n_jobs=4)]: Done   4 out of   4 | elapsed:    0.7s finished\n"
       ]
      },
      {
       "output_type": "stream",
       "stream": "stderr",
       "text": [
        "[Parallel(n_jobs=4)]: Done   1 out of   4 | elapsed:    0.0s remaining:    0.0s\n",
        "[Parallel(n_jobs=4)]: Done   4 out of   4 | elapsed:    0.0s finished\n",
        "[Parallel(n_jobs=4)]: Done   1 out of   4 | elapsed:   10.9s remaining:   32.6s\n",
        "[Parallel(n_jobs=4)]: Done   4 out of   4 | elapsed:   11.8s finished\n"
       ]
      },
      {
       "output_type": "stream",
       "stream": "stderr",
       "text": [
        "[Parallel(n_jobs=4)]: Done   1 out of   4 | elapsed:    0.3s remaining:    0.8s\n",
        "[Parallel(n_jobs=4)]: Done   4 out of   4 | elapsed:    0.3s finished\n",
        "[Parallel(n_jobs=4)]: Done   1 out of   4 | elapsed:   11.4s remaining:   34.2s\n",
        "[Parallel(n_jobs=4)]: Done   4 out of   4 | elapsed:   11.8s finished\n"
       ]
      },
      {
       "output_type": "stream",
       "stream": "stderr",
       "text": [
        "[Parallel(n_jobs=4)]: Done   1 out of   4 | elapsed:    0.3s remaining:    0.8s\n",
        "[Parallel(n_jobs=4)]: Done   4 out of   4 | elapsed:    0.3s finished\n",
        "[Parallel(n_jobs=4)]: Done   1 out of   4 | elapsed:   11.1s remaining:   33.4s\n",
        "[Parallel(n_jobs=4)]: Done   4 out of   4 | elapsed:   12.5s finished\n"
       ]
      },
      {
       "output_type": "stream",
       "stream": "stderr",
       "text": [
        "[Parallel(n_jobs=4)]: Done   1 out of   4 | elapsed:    0.3s remaining:    0.8s\n",
        "[Parallel(n_jobs=4)]: Done   4 out of   4 | elapsed:    0.3s finished\n",
        "[Parallel(n_jobs=4)]: Done   1 out of   4 | elapsed:    3.0s remaining:    9.1s\n",
        "[Parallel(n_jobs=4)]: Done   4 out of   4 | elapsed:    3.5s finished\n"
       ]
      },
      {
       "output_type": "stream",
       "stream": "stderr",
       "text": [
        "[Parallel(n_jobs=4)]: Done   1 out of   4 | elapsed:    0.1s remaining:    0.2s\n",
        "[Parallel(n_jobs=4)]: Done   4 out of   4 | elapsed:    0.1s finished\n",
        "[Parallel(n_jobs=4)]: Done   1 out of   4 | elapsed:    3.0s remaining:    8.9s\n",
        "[Parallel(n_jobs=4)]: Done   4 out of   4 | elapsed:    3.4s finished\n"
       ]
      },
      {
       "output_type": "stream",
       "stream": "stderr",
       "text": [
        "[Parallel(n_jobs=4)]: Done   1 out of   4 | elapsed:    0.1s remaining:    0.2s\n",
        "[Parallel(n_jobs=4)]: Done   4 out of   4 | elapsed:    0.1s finished\n",
        "[Parallel(n_jobs=4)]: Done   1 out of   4 | elapsed:    3.0s remaining:    9.1s\n",
        "[Parallel(n_jobs=4)]: Done   4 out of   4 | elapsed:    3.6s finished\n"
       ]
      },
      {
       "output_type": "stream",
       "stream": "stderr",
       "text": [
        "[Parallel(n_jobs=4)]: Done   1 out of   4 | elapsed:    0.1s remaining:    0.2s\n",
        "[Parallel(n_jobs=4)]: Done   4 out of   4 | elapsed:    0.1s finished\n",
        "[Parallel(n_jobs=4)]: Done   1 out of   4 | elapsed:    4.9s remaining:   14.6s\n",
        "[Parallel(n_jobs=4)]: Done   4 out of   4 | elapsed:    5.2s finished\n"
       ]
      },
      {
       "output_type": "stream",
       "stream": "stderr",
       "text": [
        "[Parallel(n_jobs=4)]: Done   1 out of   4 | elapsed:    0.2s remaining:    0.6s\n",
        "[Parallel(n_jobs=4)]: Done   4 out of   4 | elapsed:    0.2s finished\n",
        "[Parallel(n_jobs=4)]: Done   1 out of   4 | elapsed:    4.7s remaining:   14.0s\n",
        "[Parallel(n_jobs=4)]: Done   4 out of   4 | elapsed:    5.5s finished\n"
       ]
      },
      {
       "output_type": "stream",
       "stream": "stderr",
       "text": [
        "[Parallel(n_jobs=4)]: Done   1 out of   4 | elapsed:    0.2s remaining:    0.5s\n",
        "[Parallel(n_jobs=4)]: Done   4 out of   4 | elapsed:    0.2s finished\n",
        "[Parallel(n_jobs=4)]: Done   1 out of   4 | elapsed:    4.7s remaining:   14.2s\n",
        "[Parallel(n_jobs=4)]: Done   4 out of   4 | elapsed:    5.3s finished\n"
       ]
      },
      {
       "output_type": "stream",
       "stream": "stderr",
       "text": [
        "[Parallel(n_jobs=4)]: Done   1 out of   4 | elapsed:    0.2s remaining:    0.6s\n",
        "[Parallel(n_jobs=4)]: Done   4 out of   4 | elapsed:    0.2s finished\n",
        "[Parallel(n_jobs=4)]: Done   1 out of   4 | elapsed:    2.3s remaining:    6.9s\n",
        "[Parallel(n_jobs=4)]: Done   4 out of   4 | elapsed:    2.7s finished\n"
       ]
      },
      {
       "output_type": "stream",
       "stream": "stderr",
       "text": [
        "[Parallel(n_jobs=4)]: Done   1 out of   4 | elapsed:    0.0s remaining:    0.1s\n",
        "[Parallel(n_jobs=4)]: Done   4 out of   4 | elapsed:    0.0s finished\n",
        "[Parallel(n_jobs=4)]: Done   1 out of   4 | elapsed:    2.2s remaining:    6.5s\n",
        "[Parallel(n_jobs=4)]: Done   4 out of   4 | elapsed:    2.7s finished\n"
       ]
      },
      {
       "output_type": "stream",
       "stream": "stderr",
       "text": [
        "[Parallel(n_jobs=4)]: Done   1 out of   4 | elapsed:    0.0s remaining:    0.1s\n",
        "[Parallel(n_jobs=4)]: Done   4 out of   4 | elapsed:    0.0s finished\n",
        "[Parallel(n_jobs=4)]: Done   1 out of   4 | elapsed:    2.6s remaining:    7.7s\n",
        "[Parallel(n_jobs=4)]: Done   4 out of   4 | elapsed:    2.6s finished\n"
       ]
      },
      {
       "output_type": "stream",
       "stream": "stderr",
       "text": [
        "[Parallel(n_jobs=4)]: Done   1 out of   4 | elapsed:    0.1s remaining:    0.2s\n",
        "[Parallel(n_jobs=4)]: Done   4 out of   4 | elapsed:    0.1s finished\n",
        "[Parallel(n_jobs=4)]: Done   1 out of   4 | elapsed:    4.5s remaining:   13.6s\n",
        "[Parallel(n_jobs=4)]: Done   4 out of   4 | elapsed:    5.0s finished\n"
       ]
      },
      {
       "output_type": "stream",
       "stream": "stderr",
       "text": [
        "[Parallel(n_jobs=4)]: Done   1 out of   4 | elapsed:    0.2s remaining:    0.6s\n",
        "[Parallel(n_jobs=4)]: Done   4 out of   4 | elapsed:    0.2s finished\n",
        "[Parallel(n_jobs=4)]: Done   1 out of   4 | elapsed:    4.4s remaining:   13.3s\n",
        "[Parallel(n_jobs=4)]: Done   4 out of   4 | elapsed:    5.1s finished\n"
       ]
      },
      {
       "output_type": "stream",
       "stream": "stderr",
       "text": [
        "[Parallel(n_jobs=4)]: Done   1 out of   4 | elapsed:    0.2s remaining:    0.5s\n",
        "[Parallel(n_jobs=4)]: Done   4 out of   4 | elapsed:    0.2s finished\n",
        "[Parallel(n_jobs=4)]: Done   1 out of   4 | elapsed:    4.7s remaining:   14.1s\n",
        "[Parallel(n_jobs=4)]: Done   4 out of   4 | elapsed:    5.1s finished\n"
       ]
      },
      {
       "output_type": "stream",
       "stream": "stderr",
       "text": [
        "[Parallel(n_jobs=4)]: Done   1 out of   4 | elapsed:    0.2s remaining:    0.6s\n",
        "[Parallel(n_jobs=4)]: Done   4 out of   4 | elapsed:    0.2s finished\n",
        "[Parallel(n_jobs=4)]: Done   1 out of   4 | elapsed:    2.2s remaining:    6.7s\n",
        "[Parallel(n_jobs=4)]: Done   4 out of   4 | elapsed:    2.3s finished\n"
       ]
      },
      {
       "output_type": "stream",
       "stream": "stderr",
       "text": [
        "[Parallel(n_jobs=4)]: Done   1 out of   4 | elapsed:    0.1s remaining:    0.3s\n",
        "[Parallel(n_jobs=4)]: Done   4 out of   4 | elapsed:    0.1s finished\n",
        "[Parallel(n_jobs=4)]: Done   1 out of   4 | elapsed:    2.1s remaining:    6.4s\n",
        "[Parallel(n_jobs=4)]: Done   4 out of   4 | elapsed:    2.3s finished\n"
       ]
      },
      {
       "output_type": "stream",
       "stream": "stderr",
       "text": [
        "[Parallel(n_jobs=4)]: Done   1 out of   4 | elapsed:    0.1s remaining:    0.2s\n",
        "[Parallel(n_jobs=4)]: Done   4 out of   4 | elapsed:    0.1s finished\n",
        "[Parallel(n_jobs=4)]: Done   1 out of   4 | elapsed:    2.1s remaining:    6.3s\n",
        "[Parallel(n_jobs=4)]: Done   4 out of   4 | elapsed:    2.3s finished\n"
       ]
      },
      {
       "output_type": "stream",
       "stream": "stderr",
       "text": [
        "[Parallel(n_jobs=4)]: Done   1 out of   4 | elapsed:    0.1s remaining:    0.3s\n",
        "[Parallel(n_jobs=4)]: Done   4 out of   4 | elapsed:    0.1s finished\n",
        "[Parallel(n_jobs=4)]: Done   1 out of   4 | elapsed:    8.7s remaining:   26.0s\n",
        "[Parallel(n_jobs=4)]: Done   4 out of   4 | elapsed:    9.4s finished\n"
       ]
      },
      {
       "output_type": "stream",
       "stream": "stderr",
       "text": [
        "[Parallel(n_jobs=4)]: Done   1 out of   4 | elapsed:    0.2s remaining:    0.5s\n",
        "[Parallel(n_jobs=4)]: Done   4 out of   4 | elapsed:    0.2s finished\n",
        "[Parallel(n_jobs=4)]: Done   1 out of   4 | elapsed:    9.7s remaining:   29.2s\n",
        "[Parallel(n_jobs=4)]: Done   4 out of   4 | elapsed:    9.7s finished\n"
       ]
      },
      {
       "output_type": "stream",
       "stream": "stderr",
       "text": [
        "[Parallel(n_jobs=4)]: Done   1 out of   4 | elapsed:    0.2s remaining:    0.6s\n",
        "[Parallel(n_jobs=4)]: Done   4 out of   4 | elapsed:    0.2s finished\n",
        "[Parallel(n_jobs=4)]: Done   1 out of   4 | elapsed:    8.4s remaining:   25.2s\n",
        "[Parallel(n_jobs=4)]: Done   4 out of   4 | elapsed:   10.5s finished\n"
       ]
      },
      {
       "output_type": "stream",
       "stream": "stderr",
       "text": [
        "[Parallel(n_jobs=4)]: Done   1 out of   4 | elapsed:    0.2s remaining:    0.6s\n",
        "[Parallel(n_jobs=4)]: Done   4 out of   4 | elapsed:    0.2s finished\n",
        "[Parallel(n_jobs=4)]: Done   1 out of   4 | elapsed:    3.8s remaining:   11.4s\n",
        "[Parallel(n_jobs=4)]: Done   4 out of   4 | elapsed:    4.2s finished\n"
       ]
      },
      {
       "output_type": "stream",
       "stream": "stderr",
       "text": [
        "[Parallel(n_jobs=4)]: Done   1 out of   4 | elapsed:    0.2s remaining:    0.5s\n",
        "[Parallel(n_jobs=4)]: Done   4 out of   4 | elapsed:    0.2s finished\n",
        "[Parallel(n_jobs=4)]: Done   1 out of   4 | elapsed:    3.9s remaining:   11.8s\n",
        "[Parallel(n_jobs=4)]: Done   4 out of   4 | elapsed:    4.2s finished\n"
       ]
      },
      {
       "output_type": "stream",
       "stream": "stderr",
       "text": [
        "[Parallel(n_jobs=4)]: Done   1 out of   4 | elapsed:    0.2s remaining:    0.5s\n",
        "[Parallel(n_jobs=4)]: Done   4 out of   4 | elapsed:    0.2s finished\n",
        "[Parallel(n_jobs=4)]: Done   1 out of   4 | elapsed:    4.5s remaining:   13.6s\n",
        "[Parallel(n_jobs=4)]: Done   4 out of   4 | elapsed:    4.5s finished\n"
       ]
      },
      {
       "output_type": "stream",
       "stream": "stderr",
       "text": [
        "[Parallel(n_jobs=4)]: Done   1 out of   4 | elapsed:    0.2s remaining:    0.5s\n",
        "[Parallel(n_jobs=4)]: Done   4 out of   4 | elapsed:    0.2s finished\n",
        "[Parallel(n_jobs=4)]: Done   1 out of   4 | elapsed:    3.8s remaining:   11.5s\n",
        "[Parallel(n_jobs=4)]: Done   4 out of   4 | elapsed:    4.1s finished\n"
       ]
      },
      {
       "output_type": "stream",
       "stream": "stderr",
       "text": [
        "[Parallel(n_jobs=4)]: Done   1 out of   4 | elapsed:    0.1s remaining:    0.2s\n",
        "[Parallel(n_jobs=4)]: Done   4 out of   4 | elapsed:    0.1s finished\n",
        "[Parallel(n_jobs=4)]: Done   1 out of   4 | elapsed:    4.0s remaining:   12.1s\n",
        "[Parallel(n_jobs=4)]: Done   4 out of   4 | elapsed:    4.0s finished\n"
       ]
      },
      {
       "output_type": "stream",
       "stream": "stderr",
       "text": [
        "[Parallel(n_jobs=4)]: Done   1 out of   4 | elapsed:    0.1s remaining:    0.2s\n",
        "[Parallel(n_jobs=4)]: Done   4 out of   4 | elapsed:    0.1s finished\n",
        "[Parallel(n_jobs=4)]: Done   1 out of   4 | elapsed:    3.6s remaining:   10.7s\n",
        "[Parallel(n_jobs=4)]: Done   4 out of   4 | elapsed:    4.1s finished\n"
       ]
      },
      {
       "output_type": "stream",
       "stream": "stderr",
       "text": [
        "[Parallel(n_jobs=4)]: Done   1 out of   4 | elapsed:    0.1s remaining:    0.2s\n",
        "[Parallel(n_jobs=4)]: Done   4 out of   4 | elapsed:    0.1s finished\n",
        "[Parallel(n_jobs=4)]: Done   1 out of   4 | elapsed:    7.0s remaining:   21.0s\n",
        "[Parallel(n_jobs=4)]: Done   4 out of   4 | elapsed:    7.5s finished\n"
       ]
      },
      {
       "output_type": "stream",
       "stream": "stderr",
       "text": [
        "[Parallel(n_jobs=4)]: Done   1 out of   4 | elapsed:    0.1s remaining:    0.4s\n",
        "[Parallel(n_jobs=4)]: Done   4 out of   4 | elapsed:    0.1s finished\n",
        "[Parallel(n_jobs=4)]: Done   1 out of   4 | elapsed:    7.2s remaining:   21.7s\n",
        "[Parallel(n_jobs=4)]: Done   4 out of   4 | elapsed:    7.2s finished\n"
       ]
      },
      {
       "output_type": "stream",
       "stream": "stderr",
       "text": [
        "[Parallel(n_jobs=4)]: Done   1 out of   4 | elapsed:    0.1s remaining:    0.4s\n",
        "[Parallel(n_jobs=4)]: Done   4 out of   4 | elapsed:    0.1s finished\n",
        "[Parallel(n_jobs=4)]: Done   1 out of   4 | elapsed:    6.9s remaining:   20.8s\n",
        "[Parallel(n_jobs=4)]: Done   4 out of   4 | elapsed:    7.5s finished\n"
       ]
      },
      {
       "output_type": "stream",
       "stream": "stderr",
       "text": [
        "[Parallel(n_jobs=4)]: Done   1 out of   4 | elapsed:    0.1s remaining:    0.4s\n",
        "[Parallel(n_jobs=4)]: Done   4 out of   4 | elapsed:    0.1s finished\n",
        "[Parallel(n_jobs=4)]: Done   1 out of   4 | elapsed:    4.8s remaining:   14.5s\n",
        "[Parallel(n_jobs=4)]: Done   4 out of   4 | elapsed:    4.9s finished\n"
       ]
      },
      {
       "output_type": "stream",
       "stream": "stderr",
       "text": [
        "[Parallel(n_jobs=4)]: Done   1 out of   4 | elapsed:    0.2s remaining:    0.6s\n",
        "[Parallel(n_jobs=4)]: Done   4 out of   4 | elapsed:    0.2s finished\n",
        "[Parallel(n_jobs=4)]: Done   1 out of   4 | elapsed:    4.5s remaining:   13.5s\n",
        "[Parallel(n_jobs=4)]: Done   4 out of   4 | elapsed:    5.3s finished\n"
       ]
      },
      {
       "output_type": "stream",
       "stream": "stderr",
       "text": [
        "[Parallel(n_jobs=4)]: Done   1 out of   4 | elapsed:    0.2s remaining:    0.6s\n",
        "[Parallel(n_jobs=4)]: Done   4 out of   4 | elapsed:    0.2s finished\n",
        "[Parallel(n_jobs=4)]: Done   1 out of   4 | elapsed:    4.8s remaining:   14.3s\n",
        "[Parallel(n_jobs=4)]: Done   4 out of   4 | elapsed:    5.2s finished\n"
       ]
      },
      {
       "output_type": "stream",
       "stream": "stderr",
       "text": [
        "[Parallel(n_jobs=4)]: Done   1 out of   4 | elapsed:    0.2s remaining:    0.6s\n",
        "[Parallel(n_jobs=4)]: Done   4 out of   4 | elapsed:    0.2s finished\n",
        "[Parallel(n_jobs=4)]: Done   1 out of   4 | elapsed:    3.6s remaining:   10.8s\n",
        "[Parallel(n_jobs=4)]: Done   4 out of   4 | elapsed:    3.8s finished\n"
       ]
      },
      {
       "output_type": "stream",
       "stream": "stderr",
       "text": [
        "[Parallel(n_jobs=4)]: Done   1 out of   4 | elapsed:    0.1s remaining:    0.4s\n",
        "[Parallel(n_jobs=4)]: Done   4 out of   4 | elapsed:    0.1s finished\n",
        "[Parallel(n_jobs=4)]: Done   1 out of   4 | elapsed:    3.4s remaining:   10.1s\n",
        "[Parallel(n_jobs=4)]: Done   4 out of   4 | elapsed:    3.8s finished\n"
       ]
      },
      {
       "output_type": "stream",
       "stream": "stderr",
       "text": [
        "[Parallel(n_jobs=4)]: Done   1 out of   4 | elapsed:    0.1s remaining:    0.4s\n",
        "[Parallel(n_jobs=4)]: Done   4 out of   4 | elapsed:    0.1s finished\n",
        "[Parallel(n_jobs=4)]: Done   1 out of   4 | elapsed:    3.3s remaining:   10.0s\n",
        "[Parallel(n_jobs=4)]: Done   4 out of   4 | elapsed:    3.9s finished\n"
       ]
      },
      {
       "output_type": "stream",
       "stream": "stderr",
       "text": [
        "[Parallel(n_jobs=4)]: Done   1 out of   4 | elapsed:    0.1s remaining:    0.4s\n",
        "[Parallel(n_jobs=4)]: Done   4 out of   4 | elapsed:    0.1s finished\n",
        "[Parallel(n_jobs=4)]: Done   1 out of   4 | elapsed:   10.2s remaining:   30.5s\n",
        "[Parallel(n_jobs=4)]: Done   4 out of   4 | elapsed:   10.2s finished\n"
       ]
      },
      {
       "output_type": "stream",
       "stream": "stderr",
       "text": [
        "[Parallel(n_jobs=4)]: Done   1 out of   4 | elapsed:    0.2s remaining:    0.6s\n",
        "[Parallel(n_jobs=4)]: Done   4 out of   4 | elapsed:    0.2s finished\n",
        "[Parallel(n_jobs=4)]: Done   1 out of   4 | elapsed:    9.0s remaining:   27.0s\n",
        "[Parallel(n_jobs=4)]: Done   4 out of   4 | elapsed:    9.6s finished\n"
       ]
      },
      {
       "output_type": "stream",
       "stream": "stderr",
       "text": [
        "[Parallel(n_jobs=4)]: Done   1 out of   4 | elapsed:    0.2s remaining:    0.6s\n",
        "[Parallel(n_jobs=4)]: Done   4 out of   4 | elapsed:    0.2s finished\n",
        "[Parallel(n_jobs=4)]: Done   1 out of   4 | elapsed:    9.5s remaining:   28.4s\n",
        "[Parallel(n_jobs=4)]: Done   4 out of   4 | elapsed:    9.6s finished\n"
       ]
      },
      {
       "output_type": "stream",
       "stream": "stderr",
       "text": [
        "[Parallel(n_jobs=4)]: Done   1 out of   4 | elapsed:    0.2s remaining:    0.6s\n",
        "[Parallel(n_jobs=4)]: Done   4 out of   4 | elapsed:    0.2s finished\n",
        "[Parallel(n_jobs=4)]: Done   1 out of   4 | elapsed:    5.9s remaining:   17.8s\n",
        "[Parallel(n_jobs=4)]: Done   4 out of   4 | elapsed:    6.3s finished\n"
       ]
      },
      {
       "output_type": "stream",
       "stream": "stderr",
       "text": [
        "[Parallel(n_jobs=4)]: Done   1 out of   4 | elapsed:    0.3s remaining:    0.8s\n",
        "[Parallel(n_jobs=4)]: Done   4 out of   4 | elapsed:    0.3s finished\n",
        "[Parallel(n_jobs=4)]: Done   1 out of   4 | elapsed:    5.3s remaining:   15.8s\n",
        "[Parallel(n_jobs=4)]: Done   4 out of   4 | elapsed:    5.9s finished\n"
       ]
      },
      {
       "output_type": "stream",
       "stream": "stderr",
       "text": [
        "[Parallel(n_jobs=4)]: Done   1 out of   4 | elapsed:    0.3s remaining:    0.8s\n",
        "[Parallel(n_jobs=4)]: Done   4 out of   4 | elapsed:    0.3s finished\n",
        "[Parallel(n_jobs=4)]: Done   1 out of   4 | elapsed:    5.3s remaining:   16.0s\n",
        "[Parallel(n_jobs=4)]: Done   4 out of   4 | elapsed:    6.1s finished\n"
       ]
      },
      {
       "output_type": "stream",
       "stream": "stderr",
       "text": [
        "[Parallel(n_jobs=4)]: Done   1 out of   4 | elapsed:    0.3s remaining:    0.8s\n",
        "[Parallel(n_jobs=4)]: Done   4 out of   4 | elapsed:    0.3s finished\n",
        "[Parallel(n_jobs=4)]: Done   1 out of   4 | elapsed:    2.4s remaining:    7.3s\n",
        "[Parallel(n_jobs=4)]: Done   4 out of   4 | elapsed:    2.4s finished\n"
       ]
      },
      {
       "output_type": "stream",
       "stream": "stderr",
       "text": [
        "[Parallel(n_jobs=4)]: Done   1 out of   4 | elapsed:    0.0s remaining:    0.1s\n",
        "[Parallel(n_jobs=4)]: Done   4 out of   4 | elapsed:    0.1s finished\n",
        "[Parallel(n_jobs=4)]: Done   1 out of   4 | elapsed:    2.4s remaining:    7.3s\n",
        "[Parallel(n_jobs=4)]: Done   4 out of   4 | elapsed:    2.4s finished\n"
       ]
      },
      {
       "output_type": "stream",
       "stream": "stderr",
       "text": [
        "[Parallel(n_jobs=4)]: Done   1 out of   4 | elapsed:    0.0s remaining:    0.1s\n",
        "[Parallel(n_jobs=4)]: Done   4 out of   4 | elapsed:    0.0s finished\n",
        "[Parallel(n_jobs=4)]: Done   1 out of   4 | elapsed:    2.4s remaining:    7.2s\n",
        "[Parallel(n_jobs=4)]: Done   4 out of   4 | elapsed:    2.4s finished\n"
       ]
      },
      {
       "output_type": "stream",
       "stream": "stderr",
       "text": [
        "[Parallel(n_jobs=4)]: Done   1 out of   4 | elapsed:    0.0s remaining:    0.1s\n",
        "[Parallel(n_jobs=4)]: Done   4 out of   4 | elapsed:    0.1s finished\n",
        "[Parallel(n_jobs=4)]: Done   1 out of   4 | elapsed:    6.1s remaining:   18.4s\n",
        "[Parallel(n_jobs=4)]: Done   4 out of   4 | elapsed:    6.7s finished\n"
       ]
      },
      {
       "output_type": "stream",
       "stream": "stderr",
       "text": [
        "[Parallel(n_jobs=4)]: Done   1 out of   4 | elapsed:    0.1s remaining:    0.4s\n",
        "[Parallel(n_jobs=4)]: Done   4 out of   4 | elapsed:    0.1s finished\n",
        "[Parallel(n_jobs=4)]: Done   1 out of   4 | elapsed:    6.5s remaining:   19.5s\n",
        "[Parallel(n_jobs=4)]: Done   4 out of   4 | elapsed:    6.7s finished\n"
       ]
      },
      {
       "output_type": "stream",
       "stream": "stderr",
       "text": [
        "[Parallel(n_jobs=4)]: Done   1 out of   4 | elapsed:    0.1s remaining:    0.4s\n",
        "[Parallel(n_jobs=4)]: Done   4 out of   4 | elapsed:    0.1s finished\n",
        "[Parallel(n_jobs=4)]: Done   1 out of   4 | elapsed:    6.5s remaining:   19.4s\n",
        "[Parallel(n_jobs=4)]: Done   4 out of   4 | elapsed:    6.5s finished\n"
       ]
      },
      {
       "output_type": "stream",
       "stream": "stderr",
       "text": [
        "[Parallel(n_jobs=4)]: Done   1 out of   4 | elapsed:    0.1s remaining:    0.4s\n",
        "[Parallel(n_jobs=4)]: Done   4 out of   4 | elapsed:    0.1s finished\n",
        "[Parallel(n_jobs=4)]: Done   1 out of   4 | elapsed:    1.7s remaining:    5.1s\n",
        "[Parallel(n_jobs=4)]: Done   4 out of   4 | elapsed:    1.7s finished\n"
       ]
      },
      {
       "output_type": "stream",
       "stream": "stderr",
       "text": [
        "[Parallel(n_jobs=4)]: Done   1 out of   4 | elapsed:    0.1s remaining:    0.2s\n",
        "[Parallel(n_jobs=4)]: Done   4 out of   4 | elapsed:    0.1s finished\n",
        "[Parallel(n_jobs=4)]: Done   1 out of   4 | elapsed:    1.5s remaining:    4.5s\n",
        "[Parallel(n_jobs=4)]: Done   4 out of   4 | elapsed:    1.6s finished\n"
       ]
      },
      {
       "output_type": "stream",
       "stream": "stderr",
       "text": [
        "[Parallel(n_jobs=4)]: Done   1 out of   4 | elapsed:    0.1s remaining:    0.2s\n",
        "[Parallel(n_jobs=4)]: Done   4 out of   4 | elapsed:    0.1s finished\n",
        "[Parallel(n_jobs=4)]: Done   1 out of   4 | elapsed:    1.6s remaining:    4.9s\n",
        "[Parallel(n_jobs=4)]: Done   4 out of   4 | elapsed:    1.6s finished\n"
       ]
      },
      {
       "output_type": "stream",
       "stream": "stderr",
       "text": [
        "[Parallel(n_jobs=4)]: Done   1 out of   4 | elapsed:    0.1s remaining:    0.2s\n",
        "[Parallel(n_jobs=4)]: Done   4 out of   4 | elapsed:    0.1s finished\n",
        "[Parallel(n_jobs=4)]: Done   1 out of   4 | elapsed:    5.7s remaining:   17.1s\n",
        "[Parallel(n_jobs=4)]: Done   4 out of   4 | elapsed:    5.9s finished\n"
       ]
      },
      {
       "output_type": "stream",
       "stream": "stderr",
       "text": [
        "[Parallel(n_jobs=4)]: Done   1 out of   4 | elapsed:    0.3s remaining:    0.8s\n",
        "[Parallel(n_jobs=4)]: Done   4 out of   4 | elapsed:    0.3s finished\n",
        "[Parallel(n_jobs=4)]: Done   1 out of   4 | elapsed:    5.7s remaining:   17.1s\n",
        "[Parallel(n_jobs=4)]: Done   4 out of   4 | elapsed:    5.7s finished\n"
       ]
      },
      {
       "output_type": "stream",
       "stream": "stderr",
       "text": [
        "[Parallel(n_jobs=4)]: Done   1 out of   4 | elapsed:    0.2s remaining:    0.7s\n",
        "[Parallel(n_jobs=4)]: Done   4 out of   4 | elapsed:    0.2s finished\n",
        "[Parallel(n_jobs=4)]: Done   1 out of   4 | elapsed:    6.0s remaining:   18.0s\n",
        "[Parallel(n_jobs=4)]: Done   4 out of   4 | elapsed:    6.0s finished\n"
       ]
      },
      {
       "output_type": "stream",
       "stream": "stderr",
       "text": [
        "[Parallel(n_jobs=4)]: Done   1 out of   4 | elapsed:    0.3s remaining:    0.8s\n",
        "[Parallel(n_jobs=4)]: Done   4 out of   4 | elapsed:    0.3s finished\n",
        "[Parallel(n_jobs=4)]: Done   1 out of   4 | elapsed:    5.5s remaining:   16.4s\n",
        "[Parallel(n_jobs=4)]: Done   4 out of   4 | elapsed:    6.3s finished\n"
       ]
      },
      {
       "output_type": "stream",
       "stream": "stderr",
       "text": [
        "[Parallel(n_jobs=4)]: Done   1 out of   4 | elapsed:    0.1s remaining:    0.3s\n",
        "[Parallel(n_jobs=4)]: Done   4 out of   4 | elapsed:    0.1s finished\n",
        "[Parallel(n_jobs=4)]: Done   1 out of   4 | elapsed:    5.4s remaining:   16.1s\n",
        "[Parallel(n_jobs=4)]: Done   4 out of   4 | elapsed:    5.6s finished\n"
       ]
      },
      {
       "output_type": "stream",
       "stream": "stderr",
       "text": [
        "[Parallel(n_jobs=4)]: Done   1 out of   4 | elapsed:    0.1s remaining:    0.3s\n",
        "[Parallel(n_jobs=4)]: Done   4 out of   4 | elapsed:    0.1s finished\n",
        "[Parallel(n_jobs=4)]: Done   1 out of   4 | elapsed:    5.7s remaining:   17.0s\n",
        "[Parallel(n_jobs=4)]: Done   4 out of   4 | elapsed:    5.8s finished\n"
       ]
      },
      {
       "output_type": "stream",
       "stream": "stderr",
       "text": [
        "[Parallel(n_jobs=4)]: Done   1 out of   4 | elapsed:    0.1s remaining:    0.3s\n",
        "[Parallel(n_jobs=4)]: Done   4 out of   4 | elapsed:    0.1s finished\n",
        "[Parallel(n_jobs=4)]: Done   1 out of   4 | elapsed:    3.3s remaining:    9.9s\n",
        "[Parallel(n_jobs=4)]: Done   4 out of   4 | elapsed:    3.3s finished\n"
       ]
      },
      {
       "output_type": "stream",
       "stream": "stderr",
       "text": [
        "[Parallel(n_jobs=4)]: Done   1 out of   4 | elapsed:    0.1s remaining:    0.2s\n",
        "[Parallel(n_jobs=4)]: Done   4 out of   4 | elapsed:    0.1s finished\n",
        "[Parallel(n_jobs=4)]: Done   1 out of   4 | elapsed:    2.8s remaining:    8.4s\n",
        "[Parallel(n_jobs=4)]: Done   4 out of   4 | elapsed:    3.0s finished\n"
       ]
      },
      {
       "output_type": "stream",
       "stream": "stderr",
       "text": [
        "[Parallel(n_jobs=4)]: Done   1 out of   4 | elapsed:    0.0s remaining:    0.1s\n",
        "[Parallel(n_jobs=4)]: Done   4 out of   4 | elapsed:    0.1s finished\n",
        "[Parallel(n_jobs=4)]: Done   1 out of   4 | elapsed:    3.2s remaining:    9.6s\n",
        "[Parallel(n_jobs=4)]: Done   4 out of   4 | elapsed:    3.2s finished\n"
       ]
      },
      {
       "output_type": "stream",
       "stream": "stderr",
       "text": [
        "[Parallel(n_jobs=4)]: Done   1 out of   4 | elapsed:    0.1s remaining:    0.2s\n",
        "[Parallel(n_jobs=4)]: Done   4 out of   4 | elapsed:    0.1s finished\n",
        "[Parallel(n_jobs=4)]: Done   1 out of   4 | elapsed:   12.4s remaining:   37.1s\n",
        "[Parallel(n_jobs=4)]: Done   4 out of   4 | elapsed:   12.4s finished\n"
       ]
      },
      {
       "output_type": "stream",
       "stream": "stderr",
       "text": [
        "[Parallel(n_jobs=4)]: Done   1 out of   4 | elapsed:    0.2s remaining:    0.7s\n",
        "[Parallel(n_jobs=4)]: Done   4 out of   4 | elapsed:    0.2s finished\n",
        "[Parallel(n_jobs=4)]: Done   1 out of   4 | elapsed:   11.1s remaining:   33.4s\n",
        "[Parallel(n_jobs=4)]: Done   4 out of   4 | elapsed:   11.9s finished\n"
       ]
      },
      {
       "output_type": "stream",
       "stream": "stderr",
       "text": [
        "[Parallel(n_jobs=4)]: Done   1 out of   4 | elapsed:    0.3s remaining:    0.8s\n",
        "[Parallel(n_jobs=4)]: Done   4 out of   4 | elapsed:    0.3s finished\n",
        "[Parallel(n_jobs=4)]: Done   1 out of   4 | elapsed:   11.2s remaining:   33.5s\n",
        "[Parallel(n_jobs=4)]: Done   4 out of   4 | elapsed:   13.2s finished\n"
       ]
      },
      {
       "output_type": "stream",
       "stream": "stderr",
       "text": [
        "[Parallel(n_jobs=4)]: Done   1 out of   4 | elapsed:    0.3s remaining:    0.8s\n",
        "[Parallel(n_jobs=4)]: Done   4 out of   4 | elapsed:    0.3s finished\n",
        "[Parallel(n_jobs=4)]: Done   1 out of   4 | elapsed:   11.9s remaining:   35.6s\n",
        "[Parallel(n_jobs=4)]: Done   4 out of   4 | elapsed:   12.3s finished\n"
       ]
      },
      {
       "output_type": "stream",
       "stream": "stderr",
       "text": [
        "[Parallel(n_jobs=4)]: Done   1 out of   4 | elapsed:    0.3s remaining:    0.8s\n",
        "[Parallel(n_jobs=4)]: Done   4 out of   4 | elapsed:    0.3s finished\n",
        "[Parallel(n_jobs=4)]: Done   1 out of   4 | elapsed:   11.2s remaining:   33.6s\n",
        "[Parallel(n_jobs=4)]: Done   4 out of   4 | elapsed:   11.6s finished\n"
       ]
      },
      {
       "output_type": "stream",
       "stream": "stderr",
       "text": [
        "[Parallel(n_jobs=4)]: Done   1 out of   4 | elapsed:    0.3s remaining:    0.8s\n",
        "[Parallel(n_jobs=4)]: Done   4 out of   4 | elapsed:    0.3s finished\n",
        "[Parallel(n_jobs=4)]: Done   1 out of   4 | elapsed:   12.1s remaining:   36.2s\n",
        "[Parallel(n_jobs=4)]: Done   4 out of   4 | elapsed:   12.1s finished\n"
       ]
      },
      {
       "output_type": "stream",
       "stream": "stderr",
       "text": [
        "[Parallel(n_jobs=4)]: Done   1 out of   4 | elapsed:    0.2s remaining:    0.7s\n",
        "[Parallel(n_jobs=4)]: Done   4 out of   4 | elapsed:    0.2s finished\n",
        "[Parallel(n_jobs=4)]: Done   1 out of   4 | elapsed:    4.1s remaining:   12.2s\n",
        "[Parallel(n_jobs=4)]: Done   4 out of   4 | elapsed:    4.4s finished\n"
       ]
      },
      {
       "output_type": "stream",
       "stream": "stderr",
       "text": [
        "[Parallel(n_jobs=4)]: Done   1 out of   4 | elapsed:    0.2s remaining:    0.5s\n",
        "[Parallel(n_jobs=4)]: Done   4 out of   4 | elapsed:    0.2s finished\n",
        "[Parallel(n_jobs=4)]: Done   1 out of   4 | elapsed:    3.9s remaining:   11.8s\n",
        "[Parallel(n_jobs=4)]: Done   4 out of   4 | elapsed:    4.7s finished\n"
       ]
      },
      {
       "output_type": "stream",
       "stream": "stderr",
       "text": [
        "[Parallel(n_jobs=4)]: Done   1 out of   4 | elapsed:    0.2s remaining:    0.5s\n",
        "[Parallel(n_jobs=4)]: Done   4 out of   4 | elapsed:    0.2s finished\n",
        "[Parallel(n_jobs=4)]: Done   1 out of   4 | elapsed:    4.4s remaining:   13.3s\n",
        "[Parallel(n_jobs=4)]: Done   4 out of   4 | elapsed:    4.5s finished\n"
       ]
      },
      {
       "output_type": "stream",
       "stream": "stderr",
       "text": [
        "[Parallel(n_jobs=4)]: Done   1 out of   4 | elapsed:    0.2s remaining:    0.5s\n",
        "[Parallel(n_jobs=4)]: Done   4 out of   4 | elapsed:    0.2s finished\n",
        "[Parallel(n_jobs=4)]: Done   1 out of   4 | elapsed:    5.5s remaining:   16.4s\n",
        "[Parallel(n_jobs=4)]: Done   4 out of   4 | elapsed:    5.7s finished\n"
       ]
      },
      {
       "output_type": "stream",
       "stream": "stderr",
       "text": [
        "[Parallel(n_jobs=4)]: Done   1 out of   4 | elapsed:    0.3s remaining:    0.8s\n",
        "[Parallel(n_jobs=4)]: Done   4 out of   4 | elapsed:    0.3s finished\n",
        "[Parallel(n_jobs=4)]: Done   1 out of   4 | elapsed:    5.5s remaining:   16.5s\n",
        "[Parallel(n_jobs=4)]: Done   4 out of   4 | elapsed:    5.8s finished\n"
       ]
      },
      {
       "output_type": "stream",
       "stream": "stderr",
       "text": [
        "[Parallel(n_jobs=4)]: Done   1 out of   4 | elapsed:    0.3s remaining:    0.8s\n",
        "[Parallel(n_jobs=4)]: Done   4 out of   4 | elapsed:    0.3s finished\n",
        "[Parallel(n_jobs=4)]: Done   1 out of   4 | elapsed:    5.3s remaining:   15.9s\n",
        "[Parallel(n_jobs=4)]: Done   4 out of   4 | elapsed:    6.9s finished\n"
       ]
      },
      {
       "output_type": "stream",
       "stream": "stderr",
       "text": [
        "[Parallel(n_jobs=4)]: Done   1 out of   4 | elapsed:    0.2s remaining:    0.7s\n",
        "[Parallel(n_jobs=4)]: Done   4 out of   4 | elapsed:    0.2s finished\n",
        "[Parallel(n_jobs=4)]: Done   1 out of   4 | elapsed:    3.6s remaining:   10.8s\n",
        "[Parallel(n_jobs=4)]: Done   4 out of   4 | elapsed:    3.6s finished\n"
       ]
      },
      {
       "output_type": "stream",
       "stream": "stderr",
       "text": [
        "[Parallel(n_jobs=4)]: Done   1 out of   4 | elapsed:    0.1s remaining:    0.4s\n",
        "[Parallel(n_jobs=4)]: Done   4 out of   4 | elapsed:    0.1s finished\n",
        "[Parallel(n_jobs=4)]: Done   1 out of   4 | elapsed:    3.1s remaining:    9.3s\n",
        "[Parallel(n_jobs=4)]: Done   4 out of   4 | elapsed:    3.6s finished\n"
       ]
      },
      {
       "output_type": "stream",
       "stream": "stderr",
       "text": [
        "[Parallel(n_jobs=4)]: Done   1 out of   4 | elapsed:    0.1s remaining:    0.4s\n",
        "[Parallel(n_jobs=4)]: Done   4 out of   4 | elapsed:    0.1s finished\n",
        "[Parallel(n_jobs=4)]: Done   1 out of   4 | elapsed:    3.6s remaining:   10.9s\n",
        "[Parallel(n_jobs=4)]: Done   4 out of   4 | elapsed:    3.6s finished\n"
       ]
      },
      {
       "output_type": "stream",
       "stream": "stderr",
       "text": [
        "[Parallel(n_jobs=4)]: Done   1 out of   4 | elapsed:    0.1s remaining:    0.4s\n",
        "[Parallel(n_jobs=4)]: Done   4 out of   4 | elapsed:    0.1s finished\n",
        "[Parallel(n_jobs=4)]: Done   1 out of   4 | elapsed:    1.3s remaining:    3.8s\n",
        "[Parallel(n_jobs=4)]: Done   4 out of   4 | elapsed:    1.3s finished\n"
       ]
      },
      {
       "output_type": "stream",
       "stream": "stderr",
       "text": [
        "[Parallel(n_jobs=4)]: Done   1 out of   4 | elapsed:    0.0s remaining:    0.1s\n",
        "[Parallel(n_jobs=4)]: Done   4 out of   4 | elapsed:    0.0s finished\n",
        "[Parallel(n_jobs=4)]: Done   1 out of   4 | elapsed:    1.1s remaining:    3.4s\n",
        "[Parallel(n_jobs=4)]: Done   4 out of   4 | elapsed:    1.3s finished\n"
       ]
      },
      {
       "output_type": "stream",
       "stream": "stderr",
       "text": [
        "[Parallel(n_jobs=4)]: Done   1 out of   4 | elapsed:    0.0s remaining:    0.1s\n",
        "[Parallel(n_jobs=4)]: Done   4 out of   4 | elapsed:    0.0s finished\n",
        "[Parallel(n_jobs=4)]: Done   1 out of   4 | elapsed:    1.1s remaining:    3.3s\n",
        "[Parallel(n_jobs=4)]: Done   4 out of   4 | elapsed:    1.4s finished\n"
       ]
      },
      {
       "output_type": "stream",
       "stream": "stderr",
       "text": [
        "[Parallel(n_jobs=4)]: Done   1 out of   4 | elapsed:    0.0s remaining:    0.1s\n",
        "[Parallel(n_jobs=4)]: Done   4 out of   4 | elapsed:    0.1s finished\n",
        "[Parallel(n_jobs=4)]: Done   1 out of   4 | elapsed:    4.1s remaining:   12.4s\n",
        "[Parallel(n_jobs=4)]: Done   4 out of   4 | elapsed:    4.5s finished\n"
       ]
      },
      {
       "output_type": "stream",
       "stream": "stderr",
       "text": [
        "[Parallel(n_jobs=4)]: Done   1 out of   4 | elapsed:    0.2s remaining:    0.5s\n",
        "[Parallel(n_jobs=4)]: Done   4 out of   4 | elapsed:    0.2s finished\n",
        "[Parallel(n_jobs=4)]: Done   1 out of   4 | elapsed:    4.1s remaining:   12.2s\n",
        "[Parallel(n_jobs=4)]: Done   4 out of   4 | elapsed:    4.6s finished\n"
       ]
      },
      {
       "output_type": "stream",
       "stream": "stderr",
       "text": [
        "[Parallel(n_jobs=4)]: Done   1 out of   4 | elapsed:    0.2s remaining:    0.5s\n",
        "[Parallel(n_jobs=4)]: Done   4 out of   4 | elapsed:    0.2s finished\n",
        "[Parallel(n_jobs=4)]: Done   1 out of   4 | elapsed:    4.2s remaining:   12.5s\n",
        "[Parallel(n_jobs=4)]: Done   4 out of   4 | elapsed:    4.7s finished\n"
       ]
      },
      {
       "output_type": "stream",
       "stream": "stderr",
       "text": [
        "[Parallel(n_jobs=4)]: Done   1 out of   4 | elapsed:    0.2s remaining:    0.5s\n",
        "[Parallel(n_jobs=4)]: Done   4 out of   4 | elapsed:    0.2s finished\n",
        "[Parallel(n_jobs=4)]: Done   1 out of   4 | elapsed:    7.9s remaining:   23.6s\n",
        "[Parallel(n_jobs=4)]: Done   4 out of   4 | elapsed:    8.6s finished\n"
       ]
      },
      {
       "output_type": "stream",
       "stream": "stderr",
       "text": [
        "[Parallel(n_jobs=4)]: Done   1 out of   4 | elapsed:    0.1s remaining:    0.4s\n",
        "[Parallel(n_jobs=4)]: Done   4 out of   4 | elapsed:    0.2s finished\n",
        "[Parallel(n_jobs=4)]: Done   1 out of   4 | elapsed:    7.4s remaining:   22.2s\n",
        "[Parallel(n_jobs=4)]: Done   4 out of   4 | elapsed:    8.1s finished\n"
       ]
      },
      {
       "output_type": "stream",
       "stream": "stderr",
       "text": [
        "[Parallel(n_jobs=4)]: Done   1 out of   4 | elapsed:    0.2s remaining:    0.5s\n",
        "[Parallel(n_jobs=4)]: Done   4 out of   4 | elapsed:    0.2s finished\n",
        "[Parallel(n_jobs=4)]: Done   1 out of   4 | elapsed:    8.3s remaining:   24.8s\n",
        "[Parallel(n_jobs=4)]: Done   4 out of   4 | elapsed:    8.3s finished\n"
       ]
      },
      {
       "output_type": "stream",
       "stream": "stderr",
       "text": [
        "[Parallel(n_jobs=4)]: Done   1 out of   4 | elapsed:    0.2s remaining:    0.5s\n",
        "[Parallel(n_jobs=4)]: Done   4 out of   4 | elapsed:    0.2s finished\n",
        "[Parallel(n_jobs=4)]: Done   1 out of   4 | elapsed:    3.6s remaining:   10.7s\n",
        "[Parallel(n_jobs=4)]: Done   4 out of   4 | elapsed:    3.8s finished\n"
       ]
      },
      {
       "output_type": "stream",
       "stream": "stderr",
       "text": [
        "[Parallel(n_jobs=4)]: Done   1 out of   4 | elapsed:    0.1s remaining:    0.4s\n",
        "[Parallel(n_jobs=4)]: Done   4 out of   4 | elapsed:    0.1s finished\n",
        "[Parallel(n_jobs=4)]: Done   1 out of   4 | elapsed:    3.4s remaining:   10.3s\n",
        "[Parallel(n_jobs=4)]: Done   4 out of   4 | elapsed:    4.0s finished\n"
       ]
      },
      {
       "output_type": "stream",
       "stream": "stderr",
       "text": [
        "[Parallel(n_jobs=4)]: Done   1 out of   4 | elapsed:    0.1s remaining:    0.4s\n",
        "[Parallel(n_jobs=4)]: Done   4 out of   4 | elapsed:    0.1s finished\n",
        "[Parallel(n_jobs=4)]: Done   1 out of   4 | elapsed:    3.8s remaining:   11.3s\n",
        "[Parallel(n_jobs=4)]: Done   4 out of   4 | elapsed:    4.1s finished\n"
       ]
      },
      {
       "output_type": "stream",
       "stream": "stderr",
       "text": [
        "[Parallel(n_jobs=4)]: Done   1 out of   4 | elapsed:    0.1s remaining:    0.4s\n",
        "[Parallel(n_jobs=4)]: Done   4 out of   4 | elapsed:    0.1s finished\n",
        "[Parallel(n_jobs=4)]: Done   1 out of   4 | elapsed:    2.4s remaining:    7.3s\n",
        "[Parallel(n_jobs=4)]: Done   4 out of   4 | elapsed:    3.1s finished\n"
       ]
      },
      {
       "output_type": "stream",
       "stream": "stderr",
       "text": [
        "[Parallel(n_jobs=4)]: Done   1 out of   4 | elapsed:    0.1s remaining:    0.3s\n",
        "[Parallel(n_jobs=4)]: Done   4 out of   4 | elapsed:    0.1s finished\n",
        "[Parallel(n_jobs=4)]: Done   1 out of   4 | elapsed:    2.4s remaining:    7.3s\n",
        "[Parallel(n_jobs=4)]: Done   4 out of   4 | elapsed:    2.8s finished\n"
       ]
      },
      {
       "output_type": "stream",
       "stream": "stderr",
       "text": [
        "[Parallel(n_jobs=4)]: Done   1 out of   4 | elapsed:    0.1s remaining:    0.3s\n",
        "[Parallel(n_jobs=4)]: Done   4 out of   4 | elapsed:    0.1s finished\n",
        "[Parallel(n_jobs=4)]: Done   1 out of   4 | elapsed:    2.6s remaining:    7.7s\n",
        "[Parallel(n_jobs=4)]: Done   4 out of   4 | elapsed:    2.8s finished\n"
       ]
      },
      {
       "output_type": "stream",
       "stream": "stderr",
       "text": [
        "[Parallel(n_jobs=4)]: Done   1 out of   4 | elapsed:    0.1s remaining:    0.3s\n",
        "[Parallel(n_jobs=4)]: Done   4 out of   4 | elapsed:    0.1s finished\n",
        "[Parallel(n_jobs=4)]: Done   1 out of   4 | elapsed:    4.6s remaining:   13.9s\n",
        "[Parallel(n_jobs=4)]: Done   4 out of   4 | elapsed:    5.3s finished\n"
       ]
      },
      {
       "output_type": "stream",
       "stream": "stderr",
       "text": [
        "[Parallel(n_jobs=4)]: Done   1 out of   4 | elapsed:    0.2s remaining:    0.6s\n",
        "[Parallel(n_jobs=4)]: Done   4 out of   4 | elapsed:    0.2s finished\n",
        "[Parallel(n_jobs=4)]: Done   1 out of   4 | elapsed:    4.5s remaining:   13.5s\n",
        "[Parallel(n_jobs=4)]: Done   4 out of   4 | elapsed:    5.1s finished\n"
       ]
      },
      {
       "output_type": "stream",
       "stream": "stderr",
       "text": [
        "[Parallel(n_jobs=4)]: Done   1 out of   4 | elapsed:    0.2s remaining:    0.5s\n",
        "[Parallel(n_jobs=4)]: Done   4 out of   4 | elapsed:    0.2s finished\n",
        "[Parallel(n_jobs=4)]: Done   1 out of   4 | elapsed:    4.7s remaining:   14.2s\n",
        "[Parallel(n_jobs=4)]: Done   4 out of   4 | elapsed:    5.2s finished\n"
       ]
      },
      {
       "output_type": "stream",
       "stream": "stderr",
       "text": [
        "[Parallel(n_jobs=4)]: Done   1 out of   4 | elapsed:    0.2s remaining:    0.6s\n",
        "[Parallel(n_jobs=4)]: Done   4 out of   4 | elapsed:    0.2s finished\n",
        "[Parallel(n_jobs=4)]: Done   1 out of   4 | elapsed:   10.3s remaining:   31.0s\n",
        "[Parallel(n_jobs=4)]: Done   4 out of   4 | elapsed:   10.9s finished\n"
       ]
      },
      {
       "output_type": "stream",
       "stream": "stderr",
       "text": [
        "[Parallel(n_jobs=4)]: Done   1 out of   4 | elapsed:    0.2s remaining:    0.6s\n",
        "[Parallel(n_jobs=4)]: Done   4 out of   4 | elapsed:    0.2s finished\n",
        "[Parallel(n_jobs=4)]: Done   1 out of   4 | elapsed:   10.1s remaining:   30.4s\n",
        "[Parallel(n_jobs=4)]: Done   4 out of   4 | elapsed:   10.2s finished\n"
       ]
      },
      {
       "output_type": "stream",
       "stream": "stderr",
       "text": [
        "[Parallel(n_jobs=4)]: Done   1 out of   4 | elapsed:    0.2s remaining:    0.6s\n",
        "[Parallel(n_jobs=4)]: Done   4 out of   4 | elapsed:    0.2s finished\n",
        "[Parallel(n_jobs=4)]: Done   1 out of   4 | elapsed:   10.7s remaining:   32.1s\n",
        "[Parallel(n_jobs=4)]: Done   4 out of   4 | elapsed:   11.5s finished\n"
       ]
      },
      {
       "output_type": "stream",
       "stream": "stderr",
       "text": [
        "[Parallel(n_jobs=4)]: Done   1 out of   4 | elapsed:    0.2s remaining:    0.7s\n",
        "[Parallel(n_jobs=4)]: Done   4 out of   4 | elapsed:    0.2s finished\n",
        "[Parallel(n_jobs=4)]: Done   1 out of   4 | elapsed:    2.9s remaining:    8.6s\n",
        "[Parallel(n_jobs=4)]: Done   4 out of   4 | elapsed:    3.0s finished\n"
       ]
      },
      {
       "output_type": "stream",
       "stream": "stderr",
       "text": [
        "[Parallel(n_jobs=4)]: Done   1 out of   4 | elapsed:    0.1s remaining:    0.2s\n",
        "[Parallel(n_jobs=4)]: Done   4 out of   4 | elapsed:    0.1s finished\n",
        "[Parallel(n_jobs=4)]: Done   1 out of   4 | elapsed:    2.7s remaining:    8.2s\n",
        "[Parallel(n_jobs=4)]: Done   4 out of   4 | elapsed:    3.3s finished\n"
       ]
      },
      {
       "output_type": "stream",
       "stream": "stderr",
       "text": [
        "[Parallel(n_jobs=4)]: Done   1 out of   4 | elapsed:    0.1s remaining:    0.2s\n",
        "[Parallel(n_jobs=4)]: Done   4 out of   4 | elapsed:    0.1s finished\n",
        "[Parallel(n_jobs=4)]: Done   1 out of   4 | elapsed:    2.8s remaining:    8.5s\n",
        "[Parallel(n_jobs=4)]: Done   4 out of   4 | elapsed:    3.1s finished\n"
       ]
      },
      {
       "output_type": "stream",
       "stream": "stderr",
       "text": [
        "[Parallel(n_jobs=4)]: Done   1 out of   4 | elapsed:    0.1s remaining:    0.2s\n",
        "[Parallel(n_jobs=4)]: Done   4 out of   4 | elapsed:    0.1s finished\n",
        "[Parallel(n_jobs=4)]: Done   1 out of   4 | elapsed:    3.0s remaining:    9.0s\n",
        "[Parallel(n_jobs=4)]: Done   4 out of   4 | elapsed:    3.5s finished\n"
       ]
      },
      {
       "output_type": "stream",
       "stream": "stderr",
       "text": [
        "[Parallel(n_jobs=4)]: Done   1 out of   4 | elapsed:    0.1s remaining:    0.4s\n",
        "[Parallel(n_jobs=4)]: Done   4 out of   4 | elapsed:    0.1s finished\n",
        "[Parallel(n_jobs=4)]: Done   1 out of   4 | elapsed:    3.8s remaining:   11.3s\n",
        "[Parallel(n_jobs=4)]: Done   4 out of   4 | elapsed:    3.8s finished\n"
       ]
      },
      {
       "output_type": "stream",
       "stream": "stderr",
       "text": [
        "[Parallel(n_jobs=4)]: Done   1 out of   4 | elapsed:    0.1s remaining:    0.4s\n",
        "[Parallel(n_jobs=4)]: Done   4 out of   4 | elapsed:    0.1s finished\n",
        "[Parallel(n_jobs=4)]: Done   1 out of   4 | elapsed:    3.2s remaining:    9.6s\n",
        "[Parallel(n_jobs=4)]: Done   4 out of   4 | elapsed:    3.5s finished\n"
       ]
      },
      {
       "output_type": "stream",
       "stream": "stderr",
       "text": [
        "[Parallel(n_jobs=4)]: Done   1 out of   4 | elapsed:    0.1s remaining:    0.4s\n",
        "[Parallel(n_jobs=4)]: Done   4 out of   4 | elapsed:    0.1s finished\n",
        "[Parallel(n_jobs=4)]: Done   1 out of   4 | elapsed:    1.4s remaining:    4.3s\n",
        "[Parallel(n_jobs=4)]: Done   4 out of   4 | elapsed:    1.6s finished\n"
       ]
      },
      {
       "output_type": "stream",
       "stream": "stderr",
       "text": [
        "[Parallel(n_jobs=4)]: Done   1 out of   4 | elapsed:    0.0s remaining:    0.1s\n",
        "[Parallel(n_jobs=4)]: Done   4 out of   4 | elapsed:    0.0s finished\n",
        "[Parallel(n_jobs=4)]: Done   1 out of   4 | elapsed:    1.4s remaining:    4.2s\n",
        "[Parallel(n_jobs=4)]: Done   4 out of   4 | elapsed:    1.6s finished\n"
       ]
      },
      {
       "output_type": "stream",
       "stream": "stderr",
       "text": [
        "[Parallel(n_jobs=4)]: Done   1 out of   4 | elapsed:    0.0s remaining:    0.1s\n",
        "[Parallel(n_jobs=4)]: Done   4 out of   4 | elapsed:    0.0s finished\n",
        "[Parallel(n_jobs=4)]: Done   1 out of   4 | elapsed:    1.8s remaining:    5.4s\n",
        "[Parallel(n_jobs=4)]: Done   4 out of   4 | elapsed:    1.8s finished\n"
       ]
      },
      {
       "output_type": "stream",
       "stream": "stderr",
       "text": [
        "[Parallel(n_jobs=4)]: Done   1 out of   4 | elapsed:    0.0s remaining:    0.1s\n",
        "[Parallel(n_jobs=4)]: Done   4 out of   4 | elapsed:    0.0s finished\n",
        "[Parallel(n_jobs=4)]: Done   1 out of   4 | elapsed:    3.3s remaining:   10.0s\n",
        "[Parallel(n_jobs=4)]: Done   4 out of   4 | elapsed:    3.7s finished\n"
       ]
      },
      {
       "output_type": "stream",
       "stream": "stderr",
       "text": [
        "[Parallel(n_jobs=4)]: Done   1 out of   4 | elapsed:    0.1s remaining:    0.2s\n",
        "[Parallel(n_jobs=4)]: Done   4 out of   4 | elapsed:    0.1s finished\n",
        "[Parallel(n_jobs=4)]: Done   1 out of   4 | elapsed:    3.2s remaining:    9.5s\n",
        "[Parallel(n_jobs=4)]: Done   4 out of   4 | elapsed:    3.6s finished\n"
       ]
      },
      {
       "output_type": "stream",
       "stream": "stderr",
       "text": [
        "[Parallel(n_jobs=4)]: Done   1 out of   4 | elapsed:    0.1s remaining:    0.2s\n",
        "[Parallel(n_jobs=4)]: Done   4 out of   4 | elapsed:    0.1s finished\n",
        "[Parallel(n_jobs=4)]: Done   1 out of   4 | elapsed:    3.2s remaining:    9.7s\n",
        "[Parallel(n_jobs=4)]: Done   4 out of   4 | elapsed:    4.2s finished\n"
       ]
      },
      {
       "output_type": "stream",
       "stream": "stderr",
       "text": [
        "[Parallel(n_jobs=4)]: Done   1 out of   4 | elapsed:    0.1s remaining:    0.2s\n",
        "[Parallel(n_jobs=4)]: Done   4 out of   4 | elapsed:    0.1s finished\n",
        "[Parallel(n_jobs=4)]: Done   1 out of   4 | elapsed:    3.6s remaining:   10.7s\n",
        "[Parallel(n_jobs=4)]: Done   4 out of   4 | elapsed:    4.3s finished\n"
       ]
      },
      {
       "output_type": "stream",
       "stream": "stderr",
       "text": [
        "[Parallel(n_jobs=4)]: Done   1 out of   4 | elapsed:    0.1s remaining:    0.2s\n",
        "[Parallel(n_jobs=4)]: Done   4 out of   4 | elapsed:    0.1s finished\n",
        "[Parallel(n_jobs=4)]: Done   1 out of   4 | elapsed:    3.6s remaining:   10.9s\n",
        "[Parallel(n_jobs=4)]: Done   4 out of   4 | elapsed:    3.8s finished\n"
       ]
      },
      {
       "output_type": "stream",
       "stream": "stderr",
       "text": [
        "[Parallel(n_jobs=4)]: Done   1 out of   4 | elapsed:    0.1s remaining:    0.2s\n",
        "[Parallel(n_jobs=4)]: Done   4 out of   4 | elapsed:    0.1s finished\n",
        "[Parallel(n_jobs=4)]: Done   1 out of   4 | elapsed:    4.4s remaining:   13.3s\n",
        "[Parallel(n_jobs=4)]: Done   4 out of   4 | elapsed:    4.4s finished\n"
       ]
      },
      {
       "output_type": "stream",
       "stream": "stderr",
       "text": [
        "[Parallel(n_jobs=4)]: Done   1 out of   4 | elapsed:    0.1s remaining:    0.2s\n",
        "[Parallel(n_jobs=4)]: Done   4 out of   4 | elapsed:    0.1s finished\n",
        "[Parallel(n_jobs=4)]: Done   1 out of   4 | elapsed:    3.4s remaining:   10.1s\n",
        "[Parallel(n_jobs=4)]: Done   4 out of   4 | elapsed:    3.7s finished\n"
       ]
      },
      {
       "output_type": "stream",
       "stream": "stderr",
       "text": [
        "[Parallel(n_jobs=4)]: Done   1 out of   4 | elapsed:    0.1s remaining:    0.4s\n",
        "[Parallel(n_jobs=4)]: Done   4 out of   4 | elapsed:    0.1s finished\n",
        "[Parallel(n_jobs=4)]: Done   1 out of   4 | elapsed:    3.3s remaining:   10.0s\n",
        "[Parallel(n_jobs=4)]: Done   4 out of   4 | elapsed:    3.9s finished\n"
       ]
      },
      {
       "output_type": "stream",
       "stream": "stderr",
       "text": [
        "[Parallel(n_jobs=4)]: Done   1 out of   4 | elapsed:    0.2s remaining:    0.5s\n",
        "[Parallel(n_jobs=4)]: Done   4 out of   4 | elapsed:    0.2s finished\n",
        "[Parallel(n_jobs=4)]: Done   1 out of   4 | elapsed:    3.4s remaining:   10.3s\n",
        "[Parallel(n_jobs=4)]: Done   4 out of   4 | elapsed:    3.9s finished\n"
       ]
      },
      {
       "output_type": "stream",
       "stream": "stderr",
       "text": [
        "[Parallel(n_jobs=4)]: Done   1 out of   4 | elapsed:    0.1s remaining:    0.4s\n",
        "[Parallel(n_jobs=4)]: Done   4 out of   4 | elapsed:    0.1s finished\n",
        "[Parallel(n_jobs=4)]: Done   1 out of   4 | elapsed:    4.1s remaining:   12.3s\n",
        "[Parallel(n_jobs=4)]: Done   4 out of   4 | elapsed:    4.1s finished\n"
       ]
      },
      {
       "output_type": "stream",
       "stream": "stderr",
       "text": [
        "[Parallel(n_jobs=4)]: Done   1 out of   4 | elapsed:    0.1s remaining:    0.4s\n",
        "[Parallel(n_jobs=4)]: Done   4 out of   4 | elapsed:    0.1s finished\n",
        "[Parallel(n_jobs=4)]: Done   1 out of   4 | elapsed:    3.9s remaining:   11.7s\n",
        "[Parallel(n_jobs=4)]: Done   4 out of   4 | elapsed:    3.9s finished\n"
       ]
      },
      {
       "output_type": "stream",
       "stream": "stderr",
       "text": [
        "[Parallel(n_jobs=4)]: Done   1 out of   4 | elapsed:    0.2s remaining:    0.5s\n",
        "[Parallel(n_jobs=4)]: Done   4 out of   4 | elapsed:    0.2s finished\n",
        "[Parallel(n_jobs=4)]: Done   1 out of   4 | elapsed:    4.3s remaining:   12.8s\n",
        "[Parallel(n_jobs=4)]: Done   4 out of   4 | elapsed:    4.3s finished\n"
       ]
      },
      {
       "output_type": "stream",
       "stream": "stderr",
       "text": [
        "[Parallel(n_jobs=4)]: Done   1 out of   4 | elapsed:    0.1s remaining:    0.4s\n",
        "[Parallel(n_jobs=4)]: Done   4 out of   4 | elapsed:    0.1s finished\n",
        "[Parallel(n_jobs=4)]: Done   1 out of   4 | elapsed:    5.6s remaining:   16.7s\n",
        "[Parallel(n_jobs=4)]: Done   4 out of   4 | elapsed:    6.1s finished\n"
       ]
      },
      {
       "output_type": "stream",
       "stream": "stderr",
       "text": [
        "[Parallel(n_jobs=4)]: Done   1 out of   4 | elapsed:    0.2s remaining:    0.6s\n",
        "[Parallel(n_jobs=4)]: Done   4 out of   4 | elapsed:    0.3s finished\n"
       ]
      },
      {
       "output_type": "stream",
       "stream": "stderr",
       "text": [
        "[Parallel(n_jobs=4)]: Done   1 out of   4 | elapsed:    5.3s remaining:   15.8s\n",
        "[Parallel(n_jobs=4)]: Done   4 out of   4 | elapsed:    5.5s finished\n"
       ]
      },
      {
       "output_type": "stream",
       "stream": "stderr",
       "text": [
        "[Parallel(n_jobs=4)]: Done   1 out of   4 | elapsed:    0.3s remaining:    0.8s\n",
        "[Parallel(n_jobs=4)]: Done   4 out of   4 | elapsed:    0.3s finished\n",
        "[Parallel(n_jobs=4)]: Done   1 out of   4 | elapsed:    5.7s remaining:   17.2s\n",
        "[Parallel(n_jobs=4)]: Done   4 out of   4 | elapsed:    6.2s finished\n"
       ]
      },
      {
       "output_type": "stream",
       "stream": "stderr",
       "text": [
        "[Parallel(n_jobs=4)]: Done   1 out of   4 | elapsed:    0.2s remaining:    0.6s\n",
        "[Parallel(n_jobs=4)]: Done   4 out of   4 | elapsed:    0.2s finished\n",
        "[Parallel(n_jobs=4)]: Done   1 out of   4 | elapsed:    3.6s remaining:   10.8s\n",
        "[Parallel(n_jobs=4)]: Done   4 out of   4 | elapsed:    3.7s finished\n"
       ]
      },
      {
       "output_type": "stream",
       "stream": "stderr",
       "text": [
        "[Parallel(n_jobs=4)]: Done   1 out of   4 | elapsed:    0.1s remaining:    0.2s\n",
        "[Parallel(n_jobs=4)]: Done   4 out of   4 | elapsed:    0.1s finished\n",
        "[Parallel(n_jobs=4)]: Done   1 out of   4 | elapsed:    3.3s remaining:   10.0s\n",
        "[Parallel(n_jobs=4)]: Done   4 out of   4 | elapsed:    4.2s finished\n"
       ]
      },
      {
       "output_type": "stream",
       "stream": "stderr",
       "text": [
        "[Parallel(n_jobs=4)]: Done   1 out of   4 | elapsed:    0.1s remaining:    0.2s\n",
        "[Parallel(n_jobs=4)]: Done   4 out of   4 | elapsed:    0.1s finished\n",
        "[Parallel(n_jobs=4)]: Done   1 out of   4 | elapsed:    3.7s remaining:   11.2s\n",
        "[Parallel(n_jobs=4)]: Done   4 out of   4 | elapsed:    3.7s finished\n"
       ]
      },
      {
       "output_type": "stream",
       "stream": "stderr",
       "text": [
        "[Parallel(n_jobs=4)]: Done   1 out of   4 | elapsed:    0.1s remaining:    0.2s\n",
        "[Parallel(n_jobs=4)]: Done   4 out of   4 | elapsed:    0.1s finished\n",
        "[Parallel(n_jobs=4)]: Done   1 out of   4 | elapsed:    1.7s remaining:    5.0s\n",
        "[Parallel(n_jobs=4)]: Done   4 out of   4 | elapsed:    1.7s finished\n"
       ]
      },
      {
       "output_type": "stream",
       "stream": "stderr",
       "text": [
        "[Parallel(n_jobs=4)]: Done   1 out of   4 | elapsed:    0.1s remaining:    0.2s\n",
        "[Parallel(n_jobs=4)]: Done   4 out of   4 | elapsed:    0.1s finished\n",
        "[Parallel(n_jobs=4)]: Done   1 out of   4 | elapsed:    1.5s remaining:    4.5s\n",
        "[Parallel(n_jobs=4)]: Done   4 out of   4 | elapsed:    1.7s finished\n"
       ]
      },
      {
       "output_type": "stream",
       "stream": "stderr",
       "text": [
        "[Parallel(n_jobs=4)]: Done   1 out of   4 | elapsed:    0.1s remaining:    0.2s\n",
        "[Parallel(n_jobs=4)]: Done   4 out of   4 | elapsed:    0.1s finished\n",
        "[Parallel(n_jobs=4)]: Done   1 out of   4 | elapsed:    1.5s remaining:    4.4s\n",
        "[Parallel(n_jobs=4)]: Done   4 out of   4 | elapsed:    1.6s finished\n"
       ]
      },
      {
       "output_type": "stream",
       "stream": "stderr",
       "text": [
        "[Parallel(n_jobs=4)]: Done   1 out of   4 | elapsed:    0.1s remaining:    0.2s\n",
        "[Parallel(n_jobs=4)]: Done   4 out of   4 | elapsed:    0.1s finished\n",
        "[Parallel(n_jobs=4)]: Done   1 out of   4 | elapsed:    5.4s remaining:   16.3s\n",
        "[Parallel(n_jobs=4)]: Done   4 out of   4 | elapsed:    6.5s finished\n"
       ]
      },
      {
       "output_type": "stream",
       "stream": "stderr",
       "text": [
        "[Parallel(n_jobs=4)]: Done   1 out of   4 | elapsed:    0.1s remaining:    0.3s\n",
        "[Parallel(n_jobs=4)]: Done   4 out of   4 | elapsed:    0.1s finished\n",
        "[Parallel(n_jobs=4)]: Done   1 out of   4 | elapsed:    5.1s remaining:   15.4s\n",
        "[Parallel(n_jobs=4)]: Done   4 out of   4 | elapsed:    6.0s finished\n"
       ]
      },
      {
       "output_type": "stream",
       "stream": "stderr",
       "text": [
        "[Parallel(n_jobs=4)]: Done   1 out of   4 | elapsed:    0.1s remaining:    0.3s\n",
        "[Parallel(n_jobs=4)]: Done   4 out of   4 | elapsed:    0.1s finished\n",
        "[Parallel(n_jobs=4)]: Done   1 out of   4 | elapsed:    5.4s remaining:   16.1s\n",
        "[Parallel(n_jobs=4)]: Done   4 out of   4 | elapsed:    6.2s finished\n"
       ]
      },
      {
       "output_type": "stream",
       "stream": "stderr",
       "text": [
        "[Parallel(n_jobs=4)]: Done   1 out of   4 | elapsed:    0.1s remaining:    0.3s\n",
        "[Parallel(n_jobs=4)]: Done   4 out of   4 | elapsed:    0.1s finished\n",
        "[Parallel(n_jobs=4)]: Done   1 out of   4 | elapsed:    7.2s remaining:   21.6s\n",
        "[Parallel(n_jobs=4)]: Done   4 out of   4 | elapsed:    8.0s finished\n"
       ]
      },
      {
       "output_type": "stream",
       "stream": "stderr",
       "text": [
        "[Parallel(n_jobs=4)]: Done   1 out of   4 | elapsed:    0.1s remaining:    0.4s\n",
        "[Parallel(n_jobs=4)]: Done   4 out of   4 | elapsed:    0.2s finished\n",
        "[Parallel(n_jobs=4)]: Done   1 out of   4 | elapsed:    6.8s remaining:   20.3s\n",
        "[Parallel(n_jobs=4)]: Done   4 out of   4 | elapsed:    7.4s finished\n"
       ]
      },
      {
       "output_type": "stream",
       "stream": "stderr",
       "text": [
        "[Parallel(n_jobs=4)]: Done   1 out of   4 | elapsed:    0.1s remaining:    0.4s\n",
        "[Parallel(n_jobs=4)]: Done   4 out of   4 | elapsed:    0.1s finished\n",
        "[Parallel(n_jobs=4)]: Done   1 out of   4 | elapsed:    7.1s remaining:   21.2s\n",
        "[Parallel(n_jobs=4)]: Done   4 out of   4 | elapsed:    7.5s finished\n"
       ]
      },
      {
       "output_type": "stream",
       "stream": "stderr",
       "text": [
        "[Parallel(n_jobs=4)]: Done   1 out of   4 | elapsed:    0.1s remaining:    0.4s\n",
        "[Parallel(n_jobs=4)]: Done   4 out of   4 | elapsed:    0.1s finished\n",
        "[Parallel(n_jobs=4)]: Done   1 out of   4 | elapsed:    6.8s remaining:   20.5s\n",
        "[Parallel(n_jobs=4)]: Done   4 out of   4 | elapsed:    7.2s finished\n"
       ]
      },
      {
       "output_type": "stream",
       "stream": "stderr",
       "text": [
        "[Parallel(n_jobs=4)]: Done   1 out of   4 | elapsed:    0.1s remaining:    0.4s\n",
        "[Parallel(n_jobs=4)]: Done   4 out of   4 | elapsed:    0.1s finished\n",
        "[Parallel(n_jobs=4)]: Done   1 out of   4 | elapsed:    6.6s remaining:   19.7s\n",
        "[Parallel(n_jobs=4)]: Done   4 out of   4 | elapsed:    8.3s finished\n"
       ]
      },
      {
       "output_type": "stream",
       "stream": "stderr",
       "text": [
        "[Parallel(n_jobs=4)]: Done   1 out of   4 | elapsed:    0.1s remaining:    0.4s\n",
        "[Parallel(n_jobs=4)]: Done   4 out of   4 | elapsed:    0.1s finished\n",
        "[Parallel(n_jobs=4)]: Done   1 out of   4 | elapsed:    6.6s remaining:   19.8s\n",
        "[Parallel(n_jobs=4)]: Done   4 out of   4 | elapsed:    7.7s finished\n"
       ]
      },
      {
       "output_type": "stream",
       "stream": "stderr",
       "text": [
        "[Parallel(n_jobs=4)]: Done   1 out of   4 | elapsed:    0.1s remaining:    0.4s\n",
        "[Parallel(n_jobs=4)]: Done   4 out of   4 | elapsed:    0.1s finished\n",
        "[Parallel(n_jobs=4)]: Done   1 out of   4 | elapsed:   12.2s remaining:   36.6s\n",
        "[Parallel(n_jobs=4)]: Done   4 out of   4 | elapsed:   12.2s finished\n"
       ]
      },
      {
       "output_type": "stream",
       "stream": "stderr",
       "text": [
        "[Parallel(n_jobs=4)]: Done   1 out of   4 | elapsed:    0.3s remaining:    0.8s\n",
        "[Parallel(n_jobs=4)]: Done   4 out of   4 | elapsed:    0.3s finished\n",
        "[Parallel(n_jobs=4)]: Done   1 out of   4 | elapsed:   11.5s remaining:   34.5s\n",
        "[Parallel(n_jobs=4)]: Done   4 out of   4 | elapsed:   11.8s finished\n"
       ]
      },
      {
       "output_type": "stream",
       "stream": "stderr",
       "text": [
        "[Parallel(n_jobs=4)]: Done   1 out of   4 | elapsed:    0.3s remaining:    0.8s\n",
        "[Parallel(n_jobs=4)]: Done   4 out of   4 | elapsed:    0.3s finished\n",
        "[Parallel(n_jobs=4)]: Done   1 out of   4 | elapsed:   12.4s remaining:   37.1s\n",
        "[Parallel(n_jobs=4)]: Done   4 out of   4 | elapsed:   12.4s finished\n"
       ]
      },
      {
       "output_type": "stream",
       "stream": "stderr",
       "text": [
        "[Parallel(n_jobs=4)]: Done   1 out of   4 | elapsed:    0.2s remaining:    0.7s\n",
        "[Parallel(n_jobs=4)]: Done   4 out of   4 | elapsed:    0.2s finished\n",
        "[Parallel(n_jobs=4)]: Done   1 out of   4 | elapsed:    6.3s remaining:   18.8s\n",
        "[Parallel(n_jobs=4)]: Done   4 out of   4 | elapsed:    6.3s finished\n"
       ]
      },
      {
       "output_type": "stream",
       "stream": "stderr",
       "text": [
        "[Parallel(n_jobs=4)]: Done   1 out of   4 | elapsed:    0.3s remaining:    0.8s\n",
        "[Parallel(n_jobs=4)]: Done   4 out of   4 | elapsed:    0.3s finished\n",
        "[Parallel(n_jobs=4)]: Done   1 out of   4 | elapsed:    5.5s remaining:   16.5s\n",
        "[Parallel(n_jobs=4)]: Done   4 out of   4 | elapsed:    6.2s finished\n"
       ]
      },
      {
       "output_type": "stream",
       "stream": "stderr",
       "text": [
        "[Parallel(n_jobs=4)]: Done   1 out of   4 | elapsed:    0.3s remaining:    0.9s\n",
        "[Parallel(n_jobs=4)]: Done   4 out of   4 | elapsed:    0.3s finished\n",
        "[Parallel(n_jobs=4)]: Done   1 out of   4 | elapsed:    5.6s remaining:   16.7s\n",
        "[Parallel(n_jobs=4)]: Done   4 out of   4 | elapsed:    6.6s finished\n"
       ]
      },
      {
       "output_type": "stream",
       "stream": "stderr",
       "text": [
        "[Parallel(n_jobs=4)]: Done   1 out of   4 | elapsed:    0.2s remaining:    0.7s\n",
        "[Parallel(n_jobs=4)]: Done   4 out of   4 | elapsed:    0.2s finished\n",
        "[Parallel(n_jobs=4)]: Done   1 out of   4 | elapsed:    2.5s remaining:    7.6s\n",
        "[Parallel(n_jobs=4)]: Done   4 out of   4 | elapsed:    2.7s finished\n"
       ]
      },
      {
       "output_type": "stream",
       "stream": "stderr",
       "text": [
        "[Parallel(n_jobs=4)]: Done   1 out of   4 | elapsed:    0.1s remaining:    0.3s\n",
        "[Parallel(n_jobs=4)]: Done   4 out of   4 | elapsed:    0.1s finished\n",
        "[Parallel(n_jobs=4)]: Done   1 out of   4 | elapsed:    2.8s remaining:    8.4s\n",
        "[Parallel(n_jobs=4)]: Done   4 out of   4 | elapsed:    2.8s finished\n"
       ]
      },
      {
       "output_type": "stream",
       "stream": "stderr",
       "text": [
        "[Parallel(n_jobs=4)]: Done   1 out of   4 | elapsed:    0.1s remaining:    0.3s\n",
        "[Parallel(n_jobs=4)]: Done   4 out of   4 | elapsed:    0.1s finished\n",
        "[Parallel(n_jobs=4)]: Done   1 out of   4 | elapsed:    2.7s remaining:    8.2s\n",
        "[Parallel(n_jobs=4)]: Done   4 out of   4 | elapsed:    2.9s finished\n"
       ]
      },
      {
       "output_type": "stream",
       "stream": "stderr",
       "text": [
        "[Parallel(n_jobs=4)]: Done   1 out of   4 | elapsed:    0.1s remaining:    0.3s\n",
        "[Parallel(n_jobs=4)]: Done   4 out of   4 | elapsed:    0.1s finished\n",
        "[Parallel(n_jobs=4)]: Done   1 out of   4 | elapsed:    8.0s remaining:   24.1s\n",
        "[Parallel(n_jobs=4)]: Done   4 out of   4 | elapsed:    9.0s finished\n"
       ]
      },
      {
       "output_type": "stream",
       "stream": "stderr",
       "text": [
        "[Parallel(n_jobs=4)]: Done   1 out of   4 | elapsed:    0.2s remaining:    0.5s\n",
        "[Parallel(n_jobs=4)]: Done   4 out of   4 | elapsed:    0.2s finished\n",
        "[Parallel(n_jobs=4)]: Done   1 out of   4 | elapsed:    8.6s remaining:   25.8s\n",
        "[Parallel(n_jobs=4)]: Done   4 out of   4 | elapsed:    8.7s finished\n"
       ]
      },
      {
       "output_type": "stream",
       "stream": "stderr",
       "text": [
        "[Parallel(n_jobs=4)]: Done   1 out of   4 | elapsed:    0.2s remaining:    0.5s\n",
        "[Parallel(n_jobs=4)]: Done   4 out of   4 | elapsed:    0.2s finished\n",
        "[Parallel(n_jobs=4)]: Done   1 out of   4 | elapsed:    9.1s remaining:   27.2s\n",
        "[Parallel(n_jobs=4)]: Done   4 out of   4 | elapsed:    9.1s finished\n"
       ]
      },
      {
       "output_type": "stream",
       "stream": "stderr",
       "text": [
        "[Parallel(n_jobs=4)]: Done   1 out of   4 | elapsed:    0.2s remaining:    0.5s\n",
        "[Parallel(n_jobs=4)]: Done   4 out of   4 | elapsed:    0.2s finished\n",
        "[Parallel(n_jobs=4)]: Done   1 out of   4 | elapsed:    0.9s remaining:    2.6s\n",
        "[Parallel(n_jobs=4)]: Done   4 out of   4 | elapsed:    0.9s finished\n"
       ]
      },
      {
       "output_type": "stream",
       "stream": "stderr",
       "text": [
        "[Parallel(n_jobs=4)]: Done   1 out of   4 | elapsed:    0.0s remaining:    0.1s\n",
        "[Parallel(n_jobs=4)]: Done   4 out of   4 | elapsed:    0.0s finished\n",
        "[Parallel(n_jobs=4)]: Done   1 out of   4 | elapsed:    0.9s remaining:    2.8s\n",
        "[Parallel(n_jobs=4)]: Done   4 out of   4 | elapsed:    0.9s finished\n"
       ]
      },
      {
       "output_type": "stream",
       "stream": "stderr",
       "text": [
        "[Parallel(n_jobs=4)]: Done   1 out of   4 | elapsed:    0.0s remaining:    0.1s\n",
        "[Parallel(n_jobs=4)]: Done   4 out of   4 | elapsed:    0.0s finished\n",
        "[Parallel(n_jobs=4)]: Done   1 out of   4 | elapsed:    0.9s remaining:    2.6s\n",
        "[Parallel(n_jobs=4)]: Done   4 out of   4 | elapsed:    1.0s finished\n"
       ]
      },
      {
       "output_type": "stream",
       "stream": "stderr",
       "text": [
        "[Parallel(n_jobs=4)]: Done   1 out of   4 | elapsed:    0.0s remaining:    0.1s\n",
        "[Parallel(n_jobs=4)]: Done   4 out of   4 | elapsed:    0.0s finished\n",
        "[Parallel(n_jobs=4)]: Done   1 out of   4 | elapsed:    4.5s remaining:   13.4s\n",
        "[Parallel(n_jobs=4)]: Done   4 out of   4 | elapsed:    4.9s finished\n"
       ]
      },
      {
       "output_type": "stream",
       "stream": "stderr",
       "text": [
        "[Parallel(n_jobs=4)]: Done   1 out of   4 | elapsed:    0.2s remaining:    0.6s\n",
        "[Parallel(n_jobs=4)]: Done   4 out of   4 | elapsed:    0.2s finished\n",
        "[Parallel(n_jobs=4)]: Done   1 out of   4 | elapsed:    4.9s remaining:   14.7s\n",
        "[Parallel(n_jobs=4)]: Done   4 out of   4 | elapsed:    4.9s finished\n"
       ]
      },
      {
       "output_type": "stream",
       "stream": "stderr",
       "text": [
        "[Parallel(n_jobs=4)]: Done   1 out of   4 | elapsed:    0.2s remaining:    0.5s\n",
        "[Parallel(n_jobs=4)]: Done   4 out of   4 | elapsed:    0.2s finished\n",
        "[Parallel(n_jobs=4)]: Done   1 out of   4 | elapsed:    4.8s remaining:   14.5s\n",
        "[Parallel(n_jobs=4)]: Done   4 out of   4 | elapsed:    5.1s finished\n"
       ]
      },
      {
       "output_type": "stream",
       "stream": "stderr",
       "text": [
        "[Parallel(n_jobs=4)]: Done   1 out of   4 | elapsed:    0.2s remaining:    0.6s\n",
        "[Parallel(n_jobs=4)]: Done   4 out of   4 | elapsed:    0.2s finished\n",
        "[Parallel(n_jobs=4)]: Done   1 out of   4 | elapsed:    2.9s remaining:    8.7s\n",
        "[Parallel(n_jobs=4)]: Done   4 out of   4 | elapsed:    3.3s finished\n"
       ]
      },
      {
       "output_type": "stream",
       "stream": "stderr",
       "text": [
        "[Parallel(n_jobs=4)]: Done   1 out of   4 | elapsed:    0.1s remaining:    0.2s\n",
        "[Parallel(n_jobs=4)]: Done   4 out of   4 | elapsed:    0.1s finished\n",
        "[Parallel(n_jobs=4)]: Done   1 out of   4 | elapsed:    2.8s remaining:    8.4s\n",
        "[Parallel(n_jobs=4)]: Done   4 out of   4 | elapsed:    3.1s finished\n"
       ]
      },
      {
       "output_type": "stream",
       "stream": "stderr",
       "text": [
        "[Parallel(n_jobs=4)]: Done   1 out of   4 | elapsed:    0.1s remaining:    0.2s\n",
        "[Parallel(n_jobs=4)]: Done   4 out of   4 | elapsed:    0.1s finished\n",
        "[Parallel(n_jobs=4)]: Done   1 out of   4 | elapsed:    2.9s remaining:    8.7s\n",
        "[Parallel(n_jobs=4)]: Done   4 out of   4 | elapsed:    3.2s finished\n"
       ]
      },
      {
       "output_type": "stream",
       "stream": "stderr",
       "text": [
        "[Parallel(n_jobs=4)]: Done   1 out of   4 | elapsed:    0.1s remaining:    0.2s\n",
        "[Parallel(n_jobs=4)]: Done   4 out of   4 | elapsed:    0.1s finished\n",
        "[Parallel(n_jobs=4)]: Done   1 out of   4 | elapsed:    4.5s remaining:   13.6s\n",
        "[Parallel(n_jobs=4)]: Done   4 out of   4 | elapsed:    5.0s finished\n"
       ]
      },
      {
       "output_type": "stream",
       "stream": "stderr",
       "text": [
        "[Parallel(n_jobs=4)]: Done   1 out of   4 | elapsed:    0.2s remaining:    0.6s\n",
        "[Parallel(n_jobs=4)]: Done   4 out of   4 | elapsed:    0.2s finished\n",
        "[Parallel(n_jobs=4)]: Done   1 out of   4 | elapsed:    4.6s remaining:   13.9s\n",
        "[Parallel(n_jobs=4)]: Done   4 out of   4 | elapsed:    5.3s finished\n"
       ]
      },
      {
       "output_type": "stream",
       "stream": "stderr",
       "text": [
        "[Parallel(n_jobs=4)]: Done   1 out of   4 | elapsed:    0.2s remaining:    0.6s\n",
        "[Parallel(n_jobs=4)]: Done   4 out of   4 | elapsed:    0.2s finished\n",
        "[Parallel(n_jobs=4)]: Done   1 out of   4 | elapsed:    4.7s remaining:   14.2s\n",
        "[Parallel(n_jobs=4)]: Done   4 out of   4 | elapsed:    5.6s finished\n"
       ]
      },
      {
       "output_type": "stream",
       "stream": "stderr",
       "text": [
        "[Parallel(n_jobs=4)]: Done   1 out of   4 | elapsed:    0.2s remaining:    0.6s\n",
        "[Parallel(n_jobs=4)]: Done   4 out of   4 | elapsed:    0.2s finished\n",
        "[Parallel(n_jobs=4)]: Done   1 out of   4 | elapsed:    7.0s remaining:   21.0s\n",
        "[Parallel(n_jobs=4)]: Done   4 out of   4 | elapsed:    7.5s finished\n"
       ]
      },
      {
       "output_type": "stream",
       "stream": "stderr",
       "text": [
        "[Parallel(n_jobs=4)]: Done   1 out of   4 | elapsed:    0.1s remaining:    0.4s\n",
        "[Parallel(n_jobs=4)]: Done   4 out of   4 | elapsed:    0.1s finished\n",
        "[Parallel(n_jobs=4)]: Done   1 out of   4 | elapsed:    6.4s remaining:   19.1s\n",
        "[Parallel(n_jobs=4)]: Done   4 out of   4 | elapsed:    7.2s finished\n"
       ]
      },
      {
       "output_type": "stream",
       "stream": "stderr",
       "text": [
        "[Parallel(n_jobs=4)]: Done   1 out of   4 | elapsed:    0.1s remaining:    0.4s\n",
        "[Parallel(n_jobs=4)]: Done   4 out of   4 | elapsed:    0.1s finished\n",
        "[Parallel(n_jobs=4)]: Done   1 out of   4 | elapsed:    7.2s remaining:   21.7s\n",
        "[Parallel(n_jobs=4)]: Done   4 out of   4 | elapsed:    7.2s finished\n"
       ]
      },
      {
       "output_type": "stream",
       "stream": "stderr",
       "text": [
        "[Parallel(n_jobs=4)]: Done   1 out of   4 | elapsed:    0.1s remaining:    0.4s\n",
        "[Parallel(n_jobs=4)]: Done   4 out of   4 | elapsed:    0.1s finished\n",
        "[Parallel(n_jobs=4)]: Done   1 out of   4 | elapsed:    0.9s remaining:    2.8s\n",
        "[Parallel(n_jobs=4)]: Done   4 out of   4 | elapsed:    1.0s finished\n"
       ]
      },
      {
       "output_type": "stream",
       "stream": "stderr",
       "text": [
        "[Parallel(n_jobs=4)]: Done   1 out of   4 | elapsed:    0.0s remaining:    0.1s\n",
        "[Parallel(n_jobs=4)]: Done   4 out of   4 | elapsed:    0.0s finished\n",
        "[Parallel(n_jobs=4)]: Done   1 out of   4 | elapsed:    0.9s remaining:    2.7s\n",
        "[Parallel(n_jobs=4)]: Done   4 out of   4 | elapsed:    1.0s finished\n"
       ]
      },
      {
       "output_type": "stream",
       "stream": "stderr",
       "text": [
        "[Parallel(n_jobs=4)]: Done   1 out of   4 | elapsed:    0.0s remaining:    0.1s\n",
        "[Parallel(n_jobs=4)]: Done   4 out of   4 | elapsed:    0.0s finished\n",
        "[Parallel(n_jobs=4)]: Done   1 out of   4 | elapsed:    0.9s remaining:    2.8s\n",
        "[Parallel(n_jobs=4)]: Done   4 out of   4 | elapsed:    1.1s finished\n"
       ]
      },
      {
       "output_type": "stream",
       "stream": "stderr",
       "text": [
        "[Parallel(n_jobs=4)]: Done   1 out of   4 | elapsed:    0.0s remaining:    0.1s\n",
        "[Parallel(n_jobs=4)]: Done   4 out of   4 | elapsed:    0.0s finished\n",
        "[Parallel(n_jobs=4)]: Done   1 out of   4 | elapsed:    2.7s remaining:    8.2s\n",
        "[Parallel(n_jobs=4)]: Done   4 out of   4 | elapsed:    2.9s finished\n"
       ]
      },
      {
       "output_type": "stream",
       "stream": "stderr",
       "text": [
        "[Parallel(n_jobs=4)]: Done   1 out of   4 | elapsed:    0.1s remaining:    0.3s\n",
        "[Parallel(n_jobs=4)]: Done   4 out of   4 | elapsed:    0.1s finished\n",
        "[Parallel(n_jobs=4)]: Done   1 out of   4 | elapsed:    2.8s remaining:    8.4s\n",
        "[Parallel(n_jobs=4)]: Done   4 out of   4 | elapsed:    3.0s finished\n"
       ]
      },
      {
       "output_type": "stream",
       "stream": "stderr",
       "text": [
        "[Parallel(n_jobs=4)]: Done   1 out of   4 | elapsed:    0.1s remaining:    0.4s\n",
        "[Parallel(n_jobs=4)]: Done   4 out of   4 | elapsed:    0.1s finished\n",
        "[Parallel(n_jobs=4)]: Done   1 out of   4 | elapsed:    3.0s remaining:    9.0s\n",
        "[Parallel(n_jobs=4)]: Done   4 out of   4 | elapsed:    3.0s finished\n"
       ]
      },
      {
       "output_type": "stream",
       "stream": "stderr",
       "text": [
        "[Parallel(n_jobs=4)]: Done   1 out of   4 | elapsed:    0.1s remaining:    0.3s\n",
        "[Parallel(n_jobs=4)]: Done   4 out of   4 | elapsed:    0.1s finished\n",
        "[Parallel(n_jobs=4)]: Done   1 out of   4 | elapsed:    6.4s remaining:   19.1s\n",
        "[Parallel(n_jobs=4)]: Done   4 out of   4 | elapsed:    6.4s finished\n"
       ]
      },
      {
       "output_type": "stream",
       "stream": "stderr",
       "text": [
        "[Parallel(n_jobs=4)]: Done   1 out of   4 | elapsed:    0.1s remaining:    0.3s\n",
        "[Parallel(n_jobs=4)]: Done   4 out of   4 | elapsed:    0.1s finished\n",
        "[Parallel(n_jobs=4)]: Done   1 out of   4 | elapsed:    5.2s remaining:   15.7s\n",
        "[Parallel(n_jobs=4)]: Done   4 out of   4 | elapsed:    5.8s finished\n"
       ]
      },
      {
       "output_type": "stream",
       "stream": "stderr",
       "text": [
        "[Parallel(n_jobs=4)]: Done   1 out of   4 | elapsed:    0.1s remaining:    0.3s\n",
        "[Parallel(n_jobs=4)]: Done   4 out of   4 | elapsed:    0.1s finished\n",
        "[Parallel(n_jobs=4)]: Done   1 out of   4 | elapsed:    5.3s remaining:   16.0s\n",
        "[Parallel(n_jobs=4)]: Done   4 out of   4 | elapsed:    6.0s finished\n"
       ]
      },
      {
       "output_type": "stream",
       "stream": "stderr",
       "text": [
        "[Parallel(n_jobs=4)]: Done   1 out of   4 | elapsed:    0.1s remaining:    0.3s\n",
        "[Parallel(n_jobs=4)]: Done   4 out of   4 | elapsed:    0.1s finished\n",
        "[Parallel(n_jobs=4)]: Done   1 out of   4 | elapsed:    3.3s remaining:    9.9s\n",
        "[Parallel(n_jobs=4)]: Done   4 out of   4 | elapsed:    3.9s finished\n"
       ]
      },
      {
       "output_type": "stream",
       "stream": "stderr",
       "text": [
        "[Parallel(n_jobs=4)]: Done   1 out of   4 | elapsed:    0.1s remaining:    0.2s\n",
        "[Parallel(n_jobs=4)]: Done   4 out of   4 | elapsed:    0.1s finished\n",
        "[Parallel(n_jobs=4)]: Done   1 out of   4 | elapsed:    3.2s remaining:    9.6s\n",
        "[Parallel(n_jobs=4)]: Done   4 out of   4 | elapsed:    3.6s finished\n"
       ]
      },
      {
       "output_type": "stream",
       "stream": "stderr",
       "text": [
        "[Parallel(n_jobs=4)]: Done   1 out of   4 | elapsed:    0.1s remaining:    0.2s\n",
        "[Parallel(n_jobs=4)]: Done   4 out of   4 | elapsed:    0.1s finished\n",
        "[Parallel(n_jobs=4)]: Done   1 out of   4 | elapsed:    3.5s remaining:   10.4s\n",
        "[Parallel(n_jobs=4)]: Done   4 out of   4 | elapsed:    3.6s finished\n"
       ]
      },
      {
       "output_type": "stream",
       "stream": "stderr",
       "text": [
        "[Parallel(n_jobs=4)]: Done   1 out of   4 | elapsed:    0.1s remaining:    0.2s\n",
        "[Parallel(n_jobs=4)]: Done   4 out of   4 | elapsed:    0.1s finished\n",
        "[Parallel(n_jobs=4)]: Done   1 out of   4 | elapsed:    2.7s remaining:    8.1s\n",
        "[Parallel(n_jobs=4)]: Done   4 out of   4 | elapsed:    2.9s finished\n"
       ]
      },
      {
       "output_type": "stream",
       "stream": "stderr",
       "text": [
        "[Parallel(n_jobs=4)]: Done   1 out of   4 | elapsed:    0.1s remaining:    0.4s\n",
        "[Parallel(n_jobs=4)]: Done   4 out of   4 | elapsed:    0.1s finished\n",
        "[Parallel(n_jobs=4)]: Done   1 out of   4 | elapsed:    3.2s remaining:    9.6s\n",
        "[Parallel(n_jobs=4)]: Done   4 out of   4 | elapsed:    3.2s finished\n"
       ]
      },
      {
       "output_type": "stream",
       "stream": "stderr",
       "text": [
        "[Parallel(n_jobs=4)]: Done   1 out of   4 | elapsed:    0.1s remaining:    0.3s\n",
        "[Parallel(n_jobs=4)]: Done   4 out of   4 | elapsed:    0.1s finished\n",
        "[Parallel(n_jobs=4)]: Done   1 out of   4 | elapsed:    3.0s remaining:    9.1s\n",
        "[Parallel(n_jobs=4)]: Done   4 out of   4 | elapsed:    3.1s finished\n"
       ]
      },
      {
       "output_type": "stream",
       "stream": "stderr",
       "text": [
        "[Parallel(n_jobs=4)]: Done   1 out of   4 | elapsed:    0.1s remaining:    0.3s\n",
        "[Parallel(n_jobs=4)]: Done   4 out of   4 | elapsed:    0.1s finished\n",
        "[Parallel(n_jobs=4)]: Done   1 out of   4 | elapsed:    1.7s remaining:    5.1s\n",
        "[Parallel(n_jobs=4)]: Done   4 out of   4 | elapsed:    2.0s finished\n"
       ]
      },
      {
       "output_type": "stream",
       "stream": "stderr",
       "text": [
        "[Parallel(n_jobs=4)]: Done   1 out of   4 | elapsed:    0.1s remaining:    0.2s\n",
        "[Parallel(n_jobs=4)]: Done   4 out of   4 | elapsed:    0.1s finished\n",
        "[Parallel(n_jobs=4)]: Done   1 out of   4 | elapsed:    2.2s remaining:    6.5s\n",
        "[Parallel(n_jobs=4)]: Done   4 out of   4 | elapsed:    2.2s finished\n"
       ]
      },
      {
       "output_type": "stream",
       "stream": "stderr",
       "text": [
        "[Parallel(n_jobs=4)]: Done   1 out of   4 | elapsed:    0.1s remaining:    0.2s\n",
        "[Parallel(n_jobs=4)]: Done   4 out of   4 | elapsed:    0.1s finished\n",
        "[Parallel(n_jobs=4)]: Done   1 out of   4 | elapsed:    1.7s remaining:    5.0s\n",
        "[Parallel(n_jobs=4)]: Done   4 out of   4 | elapsed:    2.0s finished\n"
       ]
      },
      {
       "output_type": "stream",
       "stream": "stderr",
       "text": [
        "[Parallel(n_jobs=4)]: Done   1 out of   4 | elapsed:    0.1s remaining:    0.2s\n",
        "[Parallel(n_jobs=4)]: Done   4 out of   4 | elapsed:    0.1s finished\n",
        "[Parallel(n_jobs=4)]: Done   1 out of   4 | elapsed:   11.7s remaining:   35.1s\n",
        "[Parallel(n_jobs=4)]: Done   4 out of   4 | elapsed:   12.1s finished\n"
       ]
      },
      {
       "output_type": "stream",
       "stream": "stderr",
       "text": [
        "[Parallel(n_jobs=4)]: Done   1 out of   4 | elapsed:    0.3s remaining:    0.8s\n",
        "[Parallel(n_jobs=4)]: Done   4 out of   4 | elapsed:    0.3s finished\n",
        "[Parallel(n_jobs=4)]: Done   1 out of   4 | elapsed:   11.4s remaining:   34.1s\n",
        "[Parallel(n_jobs=4)]: Done   4 out of   4 | elapsed:   12.0s finished\n"
       ]
      },
      {
       "output_type": "stream",
       "stream": "stderr",
       "text": [
        "[Parallel(n_jobs=4)]: Done   1 out of   4 | elapsed:    0.3s remaining:    0.8s\n",
        "[Parallel(n_jobs=4)]: Done   4 out of   4 | elapsed:    0.3s finished\n",
        "[Parallel(n_jobs=4)]: Done   1 out of   4 | elapsed:   12.3s remaining:   36.9s\n",
        "[Parallel(n_jobs=4)]: Done   4 out of   4 | elapsed:   12.3s finished\n"
       ]
      },
      {
       "output_type": "stream",
       "stream": "stderr",
       "text": [
        "[Parallel(n_jobs=4)]: Done   1 out of   4 | elapsed:    0.3s remaining:    0.8s\n",
        "[Parallel(n_jobs=4)]: Done   4 out of   4 | elapsed:    0.3s finished\n",
        "[Parallel(n_jobs=4)]: Done   1 out of   4 | elapsed:    3.1s remaining:    9.3s\n",
        "[Parallel(n_jobs=4)]: Done   4 out of   4 | elapsed:    3.4s finished\n"
       ]
      },
      {
       "output_type": "stream",
       "stream": "stderr",
       "text": [
        "[Parallel(n_jobs=4)]: Done   1 out of   4 | elapsed:    0.1s remaining:    0.2s\n",
        "[Parallel(n_jobs=4)]: Done   4 out of   4 | elapsed:    0.1s finished\n",
        "[Parallel(n_jobs=4)]: Done   1 out of   4 | elapsed:    3.1s remaining:    9.3s\n",
        "[Parallel(n_jobs=4)]: Done   4 out of   4 | elapsed:    3.7s finished\n"
       ]
      },
      {
       "output_type": "stream",
       "stream": "stderr",
       "text": [
        "[Parallel(n_jobs=4)]: Done   1 out of   4 | elapsed:    0.1s remaining:    0.2s\n",
        "[Parallel(n_jobs=4)]: Done   4 out of   4 | elapsed:    0.1s finished\n",
        "[Parallel(n_jobs=4)]: Done   1 out of   4 | elapsed:    3.6s remaining:   10.9s\n",
        "[Parallel(n_jobs=4)]: Done   4 out of   4 | elapsed:    3.6s finished\n"
       ]
      },
      {
       "output_type": "stream",
       "stream": "stderr",
       "text": [
        "[Parallel(n_jobs=4)]: Done   1 out of   4 | elapsed:    0.1s remaining:    0.2s\n",
        "[Parallel(n_jobs=4)]: Done   4 out of   4 | elapsed:    0.1s finished\n",
        "[Parallel(n_jobs=4)]: Done   1 out of   4 | elapsed:    8.6s remaining:   25.7s\n",
        "[Parallel(n_jobs=4)]: Done   4 out of   4 | elapsed:    8.6s finished\n"
       ]
      },
      {
       "output_type": "stream",
       "stream": "stderr",
       "text": [
        "[Parallel(n_jobs=4)]: Done   1 out of   4 | elapsed:    0.1s remaining:    0.4s\n",
        "[Parallel(n_jobs=4)]: Done   4 out of   4 | elapsed:    0.2s finished\n",
        "[Parallel(n_jobs=4)]: Done   1 out of   4 | elapsed:    8.2s remaining:   24.6s\n",
        "[Parallel(n_jobs=4)]: Done   4 out of   4 | elapsed:    8.2s finished\n"
       ]
      },
      {
       "output_type": "stream",
       "stream": "stderr",
       "text": [
        "[Parallel(n_jobs=4)]: Done   1 out of   4 | elapsed:    0.2s remaining:    0.5s\n",
        "[Parallel(n_jobs=4)]: Done   4 out of   4 | elapsed:    0.2s finished\n",
        "[Parallel(n_jobs=4)]: Done   1 out of   4 | elapsed:    8.6s remaining:   25.8s\n",
        "[Parallel(n_jobs=4)]: Done   4 out of   4 | elapsed:    8.6s finished\n"
       ]
      },
      {
       "output_type": "stream",
       "stream": "stderr",
       "text": [
        "[Parallel(n_jobs=4)]: Done   1 out of   4 | elapsed:    0.1s remaining:    0.4s\n",
        "[Parallel(n_jobs=4)]: Done   4 out of   4 | elapsed:    0.1s finished\n",
        "[Parallel(n_jobs=4)]: Done   1 out of   4 | elapsed:    6.8s remaining:   20.5s\n",
        "[Parallel(n_jobs=4)]: Done   4 out of   4 | elapsed:    7.3s finished\n"
       ]
      },
      {
       "output_type": "stream",
       "stream": "stderr",
       "text": [
        "[Parallel(n_jobs=4)]: Done   1 out of   4 | elapsed:    0.1s remaining:    0.4s\n",
        "[Parallel(n_jobs=4)]: Done   4 out of   4 | elapsed:    0.1s finished\n",
        "[Parallel(n_jobs=4)]: Done   1 out of   4 | elapsed:    6.3s remaining:   19.0s\n",
        "[Parallel(n_jobs=4)]: Done   4 out of   4 | elapsed:    7.2s finished\n"
       ]
      },
      {
       "output_type": "stream",
       "stream": "stderr",
       "text": [
        "[Parallel(n_jobs=4)]: Done   1 out of   4 | elapsed:    0.1s remaining:    0.4s\n",
        "[Parallel(n_jobs=4)]: Done   4 out of   4 | elapsed:    0.1s finished\n",
        "[Parallel(n_jobs=4)]: Done   1 out of   4 | elapsed:    6.4s remaining:   19.2s\n",
        "[Parallel(n_jobs=4)]: Done   4 out of   4 | elapsed:    7.5s finished\n"
       ]
      },
      {
       "output_type": "stream",
       "stream": "stderr",
       "text": [
        "[Parallel(n_jobs=4)]: Done   1 out of   4 | elapsed:    0.1s remaining:    0.4s\n",
        "[Parallel(n_jobs=4)]: Done   4 out of   4 | elapsed:    0.1s finished\n",
        "[Parallel(n_jobs=4)]: Done   1 out of   4 | elapsed:   10.5s remaining:   31.4s\n",
        "[Parallel(n_jobs=4)]: Done   4 out of   4 | elapsed:   10.9s finished\n"
       ]
      },
      {
       "output_type": "stream",
       "stream": "stderr",
       "text": [
        "[Parallel(n_jobs=4)]: Done   1 out of   4 | elapsed:    0.2s remaining:    0.7s\n",
        "[Parallel(n_jobs=4)]: Done   4 out of   4 | elapsed:    0.2s finished\n",
        "[Parallel(n_jobs=4)]: Done   1 out of   4 | elapsed:   10.8s remaining:   32.5s\n",
        "[Parallel(n_jobs=4)]: Done   4 out of   4 | elapsed:   10.8s finished\n"
       ]
      },
      {
       "output_type": "stream",
       "stream": "stderr",
       "text": [
        "[Parallel(n_jobs=4)]: Done   1 out of   4 | elapsed:    0.2s remaining:    0.7s\n",
        "[Parallel(n_jobs=4)]: Done   4 out of   4 | elapsed:    0.2s finished\n",
        "[Parallel(n_jobs=4)]: Done   1 out of   4 | elapsed:   10.5s remaining:   31.5s\n",
        "[Parallel(n_jobs=4)]: Done   4 out of   4 | elapsed:   11.6s finished\n"
       ]
      },
      {
       "output_type": "stream",
       "stream": "stderr",
       "text": [
        "[Parallel(n_jobs=4)]: Done   1 out of   4 | elapsed:    0.3s remaining:    0.8s\n",
        "[Parallel(n_jobs=4)]: Done   4 out of   4 | elapsed:    0.3s finished\n",
        "[Parallel(n_jobs=4)]: Done   1 out of   4 | elapsed:    1.5s remaining:    4.6s\n",
        "[Parallel(n_jobs=4)]: Done   4 out of   4 | elapsed:    1.9s finished\n"
       ]
      },
      {
       "output_type": "stream",
       "stream": "stderr",
       "text": [
        "[Parallel(n_jobs=4)]: Done   1 out of   4 | elapsed:    0.1s remaining:    0.2s\n",
        "[Parallel(n_jobs=4)]: Done   4 out of   4 | elapsed:    0.1s finished\n",
        "[Parallel(n_jobs=4)]: Done   1 out of   4 | elapsed:    1.8s remaining:    5.5s\n",
        "[Parallel(n_jobs=4)]: Done   4 out of   4 | elapsed:    1.8s finished\n"
       ]
      },
      {
       "output_type": "stream",
       "stream": "stderr",
       "text": [
        "[Parallel(n_jobs=4)]: Done   1 out of   4 | elapsed:    0.1s remaining:    0.2s\n",
        "[Parallel(n_jobs=4)]: Done   4 out of   4 | elapsed:    0.1s finished\n",
        "[Parallel(n_jobs=4)]: Done   1 out of   4 | elapsed:    1.6s remaining:    4.8s\n",
        "[Parallel(n_jobs=4)]: Done   4 out of   4 | elapsed:    1.8s finished\n"
       ]
      },
      {
       "output_type": "stream",
       "stream": "stderr",
       "text": [
        "[Parallel(n_jobs=4)]: Done   1 out of   4 | elapsed:    0.1s remaining:    0.2s\n",
        "[Parallel(n_jobs=4)]: Done   4 out of   4 | elapsed:    0.1s finished\n",
        "[Parallel(n_jobs=4)]: Done   1 out of   4 | elapsed:    5.3s remaining:   15.9s\n",
        "[Parallel(n_jobs=4)]: Done   4 out of   4 | elapsed:    5.9s finished\n"
       ]
      },
      {
       "output_type": "stream",
       "stream": "stderr",
       "text": [
        "[Parallel(n_jobs=4)]: Done   1 out of   4 | elapsed:    0.2s remaining:    0.7s\n",
        "[Parallel(n_jobs=4)]: Done   4 out of   4 | elapsed:    0.3s finished\n",
        "[Parallel(n_jobs=4)]: Done   1 out of   4 | elapsed:    5.2s remaining:   15.6s\n",
        "[Parallel(n_jobs=4)]: Done   4 out of   4 | elapsed:    6.6s finished\n"
       ]
      },
      {
       "output_type": "stream",
       "stream": "stderr",
       "text": [
        "[Parallel(n_jobs=4)]: Done   1 out of   4 | elapsed:    0.2s remaining:    0.7s\n",
        "[Parallel(n_jobs=4)]: Done   4 out of   4 | elapsed:    0.2s finished\n",
        "[Parallel(n_jobs=4)]: Done   1 out of   4 | elapsed:    5.8s remaining:   17.4s\n",
        "[Parallel(n_jobs=4)]: Done   4 out of   4 | elapsed:    6.0s finished\n"
       ]
      },
      {
       "output_type": "stream",
       "stream": "stderr",
       "text": [
        "[Parallel(n_jobs=4)]: Done   1 out of   4 | elapsed:    0.2s remaining:    0.7s\n",
        "[Parallel(n_jobs=4)]: Done   4 out of   4 | elapsed:    0.2s finished\n",
        "[Parallel(n_jobs=4)]: Done   1 out of   4 | elapsed:    2.0s remaining:    6.0s\n",
        "[Parallel(n_jobs=4)]: Done   4 out of   4 | elapsed:    2.1s finished\n"
       ]
      },
      {
       "output_type": "stream",
       "stream": "stderr",
       "text": [
        "[Parallel(n_jobs=4)]: Done   1 out of   4 | elapsed:    0.1s remaining:    0.2s\n",
        "[Parallel(n_jobs=4)]: Done   4 out of   4 | elapsed:    0.1s finished\n",
        "[Parallel(n_jobs=4)]: Done   1 out of   4 | elapsed:    1.8s remaining:    5.5s\n",
        "[Parallel(n_jobs=4)]: Done   4 out of   4 | elapsed:    2.2s finished\n"
       ]
      },
      {
       "output_type": "stream",
       "stream": "stderr",
       "text": [
        "[Parallel(n_jobs=4)]: Done   1 out of   4 | elapsed:    0.1s remaining:    0.3s\n",
        "[Parallel(n_jobs=4)]: Done   4 out of   4 | elapsed:    0.1s finished\n",
        "[Parallel(n_jobs=4)]: Done   1 out of   4 | elapsed:    1.9s remaining:    5.6s\n",
        "[Parallel(n_jobs=4)]: Done   4 out of   4 | elapsed:    2.2s finished\n"
       ]
      },
      {
       "output_type": "stream",
       "stream": "stderr",
       "text": [
        "[Parallel(n_jobs=4)]: Done   1 out of   4 | elapsed:    0.1s remaining:    0.2s\n",
        "[Parallel(n_jobs=4)]: Done   4 out of   4 | elapsed:    0.1s finished\n",
        "[Parallel(n_jobs=4)]: Done   1 out of   4 | elapsed:   11.4s remaining:   34.2s\n",
        "[Parallel(n_jobs=4)]: Done   4 out of   4 | elapsed:   12.3s finished\n"
       ]
      },
      {
       "output_type": "stream",
       "stream": "stderr",
       "text": [
        "[Parallel(n_jobs=4)]: Done   1 out of   4 | elapsed:    0.3s remaining:    0.8s\n",
        "[Parallel(n_jobs=4)]: Done   4 out of   4 | elapsed:    0.3s finished\n",
        "[Parallel(n_jobs=4)]: Done   1 out of   4 | elapsed:   11.1s remaining:   33.2s\n",
        "[Parallel(n_jobs=4)]: Done   4 out of   4 | elapsed:   12.8s finished\n"
       ]
      },
      {
       "output_type": "stream",
       "stream": "stderr",
       "text": [
        "[Parallel(n_jobs=4)]: Done   1 out of   4 | elapsed:    0.3s remaining:    0.8s\n",
        "[Parallel(n_jobs=4)]: Done   4 out of   4 | elapsed:    0.3s finished\n",
        "[Parallel(n_jobs=4)]: Done   1 out of   4 | elapsed:   11.3s remaining:   33.8s\n",
        "[Parallel(n_jobs=4)]: Done   4 out of   4 | elapsed:   12.0s finished\n"
       ]
      },
      {
       "output_type": "stream",
       "stream": "stderr",
       "text": [
        "[Parallel(n_jobs=4)]: Done   1 out of   4 | elapsed:    0.3s remaining:    0.8s\n",
        "[Parallel(n_jobs=4)]: Done   4 out of   4 | elapsed:    0.3s finished\n",
        "[Parallel(n_jobs=4)]: Done   1 out of   4 | elapsed:    5.8s remaining:   17.5s\n",
        "[Parallel(n_jobs=4)]: Done   4 out of   4 | elapsed:    6.6s finished\n"
       ]
      },
      {
       "output_type": "stream",
       "stream": "stderr",
       "text": [
        "[Parallel(n_jobs=4)]: Done   1 out of   4 | elapsed:    0.1s remaining:    0.4s\n",
        "[Parallel(n_jobs=4)]: Done   4 out of   4 | elapsed:    0.1s finished\n",
        "[Parallel(n_jobs=4)]: Done   1 out of   4 | elapsed:    5.8s remaining:   17.5s\n",
        "[Parallel(n_jobs=4)]: Done   4 out of   4 | elapsed:    6.8s finished\n"
       ]
      },
      {
       "output_type": "stream",
       "stream": "stderr",
       "text": [
        "[Parallel(n_jobs=4)]: Done   1 out of   4 | elapsed:    0.1s remaining:    0.3s\n",
        "[Parallel(n_jobs=4)]: Done   4 out of   4 | elapsed:    0.1s finished\n",
        "[Parallel(n_jobs=4)]: Done   1 out of   4 | elapsed:    5.6s remaining:   16.8s\n",
        "[Parallel(n_jobs=4)]: Done   4 out of   4 | elapsed:    6.3s finished\n"
       ]
      },
      {
       "output_type": "stream",
       "stream": "stderr",
       "text": [
        "[Parallel(n_jobs=4)]: Done   1 out of   4 | elapsed:    0.1s remaining:    0.3s\n",
        "[Parallel(n_jobs=4)]: Done   4 out of   4 | elapsed:    0.1s finished\n",
        "[Parallel(n_jobs=4)]: Done   1 out of   4 | elapsed:    8.8s remaining:   26.4s\n",
        "[Parallel(n_jobs=4)]: Done   4 out of   4 | elapsed:    9.6s finished\n"
       ]
      },
      {
       "output_type": "stream",
       "stream": "stderr",
       "text": [
        "[Parallel(n_jobs=4)]: Done   1 out of   4 | elapsed:    0.2s remaining:    0.5s\n",
        "[Parallel(n_jobs=4)]: Done   4 out of   4 | elapsed:    0.2s finished\n",
        "[Parallel(n_jobs=4)]: Done   1 out of   4 | elapsed:    9.3s remaining:   27.9s\n",
        "[Parallel(n_jobs=4)]: Done   4 out of   4 | elapsed:    9.3s finished\n"
       ]
      },
      {
       "output_type": "stream",
       "stream": "stderr",
       "text": [
        "[Parallel(n_jobs=4)]: Done   1 out of   4 | elapsed:    0.2s remaining:    0.5s\n",
        "[Parallel(n_jobs=4)]: Done   4 out of   4 | elapsed:    0.2s finished\n",
        "[Parallel(n_jobs=4)]: Done   1 out of   4 | elapsed:    8.8s remaining:   26.4s\n",
        "[Parallel(n_jobs=4)]: Done   4 out of   4 | elapsed:   10.0s finished\n"
       ]
      },
      {
       "output_type": "stream",
       "stream": "stderr",
       "text": [
        "[Parallel(n_jobs=4)]: Done   1 out of   4 | elapsed:    0.2s remaining:    0.5s\n",
        "[Parallel(n_jobs=4)]: Done   4 out of   4 | elapsed:    0.2s finished\n",
        "[Parallel(n_jobs=4)]: Done   1 out of   4 | elapsed:    7.6s remaining:   22.7s\n",
        "[Parallel(n_jobs=4)]: Done   4 out of   4 | elapsed:    8.4s finished\n"
       ]
      },
      {
       "output_type": "stream",
       "stream": "stderr",
       "text": [
        "[Parallel(n_jobs=4)]: Done   1 out of   4 | elapsed:    0.1s remaining:    0.4s\n",
        "[Parallel(n_jobs=4)]: Done   4 out of   4 | elapsed:    0.1s finished\n",
        "[Parallel(n_jobs=4)]: Done   1 out of   4 | elapsed:    7.1s remaining:   21.3s\n",
        "[Parallel(n_jobs=4)]: Done   4 out of   4 | elapsed:    8.6s finished\n"
       ]
      },
      {
       "output_type": "stream",
       "stream": "stderr",
       "text": [
        "[Parallel(n_jobs=4)]: Done   1 out of   4 | elapsed:    0.1s remaining:    0.4s\n",
        "[Parallel(n_jobs=4)]: Done   4 out of   4 | elapsed:    0.2s finished\n",
        "[Parallel(n_jobs=4)]: Done   1 out of   4 | elapsed:    7.9s remaining:   23.7s\n",
        "[Parallel(n_jobs=4)]: Done   4 out of   4 | elapsed:    8.0s finished\n"
       ]
      },
      {
       "output_type": "stream",
       "stream": "stderr",
       "text": [
        "[Parallel(n_jobs=4)]: Done   1 out of   4 | elapsed:    0.1s remaining:    0.4s\n",
        "[Parallel(n_jobs=4)]: Done   4 out of   4 | elapsed:    0.2s finished\n",
        "[Parallel(n_jobs=4)]: Done   1 out of   4 | elapsed:    4.9s remaining:   14.6s\n",
        "[Parallel(n_jobs=4)]: Done   4 out of   4 | elapsed:    5.3s finished\n"
       ]
      },
      {
       "output_type": "stream",
       "stream": "stderr",
       "text": [
        "[Parallel(n_jobs=4)]: Done   1 out of   4 | elapsed:    0.1s remaining:    0.3s\n",
        "[Parallel(n_jobs=4)]: Done   4 out of   4 | elapsed:    0.1s finished\n",
        "[Parallel(n_jobs=4)]: Done   1 out of   4 | elapsed:    4.9s remaining:   14.7s\n",
        "[Parallel(n_jobs=4)]: Done   4 out of   4 | elapsed:    5.2s finished\n"
       ]
      },
      {
       "output_type": "stream",
       "stream": "stderr",
       "text": [
        "[Parallel(n_jobs=4)]: Done   1 out of   4 | elapsed:    0.1s remaining:    0.3s\n",
        "[Parallel(n_jobs=4)]: Done   4 out of   4 | elapsed:    0.1s finished\n",
        "[Parallel(n_jobs=4)]: Done   1 out of   4 | elapsed:    5.0s remaining:   15.0s\n",
        "[Parallel(n_jobs=4)]: Done   4 out of   4 | elapsed:    5.4s finished\n"
       ]
      },
      {
       "output_type": "stream",
       "stream": "stderr",
       "text": [
        "[Parallel(n_jobs=4)]: Done   1 out of   4 | elapsed:    0.1s remaining:    0.3s\n",
        "[Parallel(n_jobs=4)]: Done   4 out of   4 | elapsed:    0.1s finished\n",
        "[Parallel(n_jobs=4)]: Done   1 out of   4 | elapsed:    4.6s remaining:   13.9s\n",
        "[Parallel(n_jobs=4)]: Done   4 out of   4 | elapsed:    4.9s finished\n"
       ]
      },
      {
       "output_type": "stream",
       "stream": "stderr",
       "text": [
        "[Parallel(n_jobs=4)]: Done   1 out of   4 | elapsed:    0.2s remaining:    0.5s\n",
        "[Parallel(n_jobs=4)]: Done   4 out of   4 | elapsed:    0.2s finished\n",
        "[Parallel(n_jobs=4)]: Done   1 out of   4 | elapsed:    4.4s remaining:   13.1s\n",
        "[Parallel(n_jobs=4)]: Done   4 out of   4 | elapsed:    4.9s finished\n"
       ]
      },
      {
       "output_type": "stream",
       "stream": "stderr",
       "text": [
        "[Parallel(n_jobs=4)]: Done   1 out of   4 | elapsed:    0.2s remaining:    0.5s\n",
        "[Parallel(n_jobs=4)]: Done   4 out of   4 | elapsed:    0.2s finished\n",
        "[Parallel(n_jobs=4)]: Done   1 out of   4 | elapsed:    4.6s remaining:   13.9s\n",
        "[Parallel(n_jobs=4)]: Done   4 out of   4 | elapsed:    4.9s finished\n"
       ]
      },
      {
       "output_type": "stream",
       "stream": "stderr",
       "text": [
        "[Parallel(n_jobs=4)]: Done   1 out of   4 | elapsed:    0.2s remaining:    0.5s\n",
        "[Parallel(n_jobs=4)]: Done   4 out of   4 | elapsed:    0.2s finished\n",
        "[Parallel(n_jobs=4)]: Done   1 out of   4 | elapsed:    3.4s remaining:   10.1s\n",
        "[Parallel(n_jobs=4)]: Done   4 out of   4 | elapsed:    4.0s finished\n"
       ]
      },
      {
       "output_type": "stream",
       "stream": "stderr",
       "text": [
        "[Parallel(n_jobs=4)]: Done   1 out of   4 | elapsed:    0.1s remaining:    0.4s\n",
        "[Parallel(n_jobs=4)]: Done   4 out of   4 | elapsed:    0.1s finished\n",
        "[Parallel(n_jobs=4)]: Done   1 out of   4 | elapsed:    3.4s remaining:   10.1s\n",
        "[Parallel(n_jobs=4)]: Done   4 out of   4 | elapsed:    4.2s finished\n"
       ]
      },
      {
       "output_type": "stream",
       "stream": "stderr",
       "text": [
        "[Parallel(n_jobs=4)]: Done   1 out of   4 | elapsed:    0.1s remaining:    0.4s\n",
        "[Parallel(n_jobs=4)]: Done   4 out of   4 | elapsed:    0.1s finished\n",
        "[Parallel(n_jobs=4)]: Done   1 out of   4 | elapsed:    4.0s remaining:   12.0s\n",
        "[Parallel(n_jobs=4)]: Done   4 out of   4 | elapsed:    4.0s finished\n"
       ]
      },
      {
       "output_type": "stream",
       "stream": "stderr",
       "text": [
        "[Parallel(n_jobs=4)]: Done   1 out of   4 | elapsed:    0.1s remaining:    0.4s\n",
        "[Parallel(n_jobs=4)]: Done   4 out of   4 | elapsed:    0.1s finished\n",
        "[Parallel(n_jobs=4)]: Done   1 out of   4 | elapsed:    5.6s remaining:   16.8s\n",
        "[Parallel(n_jobs=4)]: Done   4 out of   4 | elapsed:    5.9s finished\n"
       ]
      },
      {
       "output_type": "stream",
       "stream": "stderr",
       "text": [
        "[Parallel(n_jobs=4)]: Done   1 out of   4 | elapsed:    0.1s remaining:    0.3s\n",
        "[Parallel(n_jobs=4)]: Done   4 out of   4 | elapsed:    0.1s finished\n",
        "[Parallel(n_jobs=4)]: Done   1 out of   4 | elapsed:    5.5s remaining:   16.6s\n",
        "[Parallel(n_jobs=4)]: Done   4 out of   4 | elapsed:    5.6s finished\n"
       ]
      },
      {
       "output_type": "stream",
       "stream": "stderr",
       "text": [
        "[Parallel(n_jobs=4)]: Done   1 out of   4 | elapsed:    0.1s remaining:    0.3s\n",
        "[Parallel(n_jobs=4)]: Done   4 out of   4 | elapsed:    0.1s finished\n",
        "[Parallel(n_jobs=4)]: Done   1 out of   4 | elapsed:    5.8s remaining:   17.5s\n",
        "[Parallel(n_jobs=4)]: Done   4 out of   4 | elapsed:    5.9s finished\n"
       ]
      },
      {
       "output_type": "stream",
       "stream": "stderr",
       "text": [
        "[Parallel(n_jobs=4)]: Done   1 out of   4 | elapsed:    0.1s remaining:    0.3s\n",
        "[Parallel(n_jobs=4)]: Done   4 out of   4 | elapsed:    0.1s finished\n",
        "[Parallel(n_jobs=4)]: Done   1 out of   4 | elapsed:    4.0s remaining:   12.1s\n",
        "[Parallel(n_jobs=4)]: Done   4 out of   4 | elapsed:    4.5s finished\n"
       ]
      },
      {
       "output_type": "stream",
       "stream": "stderr",
       "text": [
        "[Parallel(n_jobs=4)]: Done   1 out of   4 | elapsed:    0.2s remaining:    0.5s\n",
        "[Parallel(n_jobs=4)]: Done   4 out of   4 | elapsed:    0.2s finished\n",
        "[Parallel(n_jobs=4)]: Done   1 out of   4 | elapsed:    4.5s remaining:   13.6s\n",
        "[Parallel(n_jobs=4)]: Done   4 out of   4 | elapsed:    4.5s finished\n"
       ]
      },
      {
       "output_type": "stream",
       "stream": "stderr",
       "text": [
        "[Parallel(n_jobs=4)]: Done   1 out of   4 | elapsed:    0.2s remaining:    0.5s\n",
        "[Parallel(n_jobs=4)]: Done   4 out of   4 | elapsed:    0.2s finished\n",
        "[Parallel(n_jobs=4)]: Done   1 out of   4 | elapsed:    4.4s remaining:   13.1s\n",
        "[Parallel(n_jobs=4)]: Done   4 out of   4 | elapsed:    4.5s finished\n"
       ]
      },
      {
       "output_type": "stream",
       "stream": "stderr",
       "text": [
        "[Parallel(n_jobs=4)]: Done   1 out of   4 | elapsed:    0.2s remaining:    0.5s\n",
        "[Parallel(n_jobs=4)]: Done   4 out of   4 | elapsed:    0.2s finished\n",
        "[Parallel(n_jobs=4)]: Done   1 out of   4 | elapsed:    6.2s remaining:   18.7s\n",
        "[Parallel(n_jobs=4)]: Done   4 out of   4 | elapsed:    6.2s finished\n"
       ]
      },
      {
       "output_type": "stream",
       "stream": "stderr",
       "text": [
        "[Parallel(n_jobs=4)]: Done   1 out of   4 | elapsed:    0.3s remaining:    0.8s\n",
        "[Parallel(n_jobs=4)]: Done   4 out of   4 | elapsed:    0.3s finished\n",
        "[Parallel(n_jobs=4)]: Done   1 out of   4 | elapsed:    5.8s remaining:   17.3s\n",
        "[Parallel(n_jobs=4)]: Done   4 out of   4 | elapsed:    6.0s finished\n"
       ]
      },
      {
       "output_type": "stream",
       "stream": "stderr",
       "text": [
        "[Parallel(n_jobs=4)]: Done   1 out of   4 | elapsed:    0.3s remaining:    0.8s\n",
        "[Parallel(n_jobs=4)]: Done   4 out of   4 | elapsed:    0.3s finished\n",
        "[Parallel(n_jobs=4)]: Done   1 out of   4 | elapsed:    5.8s remaining:   17.3s\n",
        "[Parallel(n_jobs=4)]: Done   4 out of   4 | elapsed:    6.7s finished\n"
       ]
      },
      {
       "output_type": "stream",
       "stream": "stderr",
       "text": [
        "[Parallel(n_jobs=4)]: Done   1 out of   4 | elapsed:    0.3s remaining:    0.8s\n",
        "[Parallel(n_jobs=4)]: Done   4 out of   4 | elapsed:    0.3s finished\n",
        "[Parallel(n_jobs=4)]: Done   1 out of   4 | elapsed:    1.2s remaining:    3.7s\n",
        "[Parallel(n_jobs=4)]: Done   4 out of   4 | elapsed:    1.5s finished\n"
       ]
      },
      {
       "output_type": "stream",
       "stream": "stderr",
       "text": [
        "[Parallel(n_jobs=4)]: Done   1 out of   4 | elapsed:    0.1s remaining:    0.2s\n",
        "[Parallel(n_jobs=4)]: Done   4 out of   4 | elapsed:    0.1s finished\n",
        "[Parallel(n_jobs=4)]: Done   1 out of   4 | elapsed:    1.3s remaining:    3.9s\n",
        "[Parallel(n_jobs=4)]: Done   4 out of   4 | elapsed:    1.5s finished\n"
       ]
      },
      {
       "output_type": "stream",
       "stream": "stderr",
       "text": [
        "[Parallel(n_jobs=4)]: Done   1 out of   4 | elapsed:    0.0s remaining:    0.1s\n",
        "[Parallel(n_jobs=4)]: Done   4 out of   4 | elapsed:    0.1s finished\n",
        "[Parallel(n_jobs=4)]: Done   1 out of   4 | elapsed:    1.4s remaining:    4.2s\n",
        "[Parallel(n_jobs=4)]: Done   4 out of   4 | elapsed:    1.4s finished\n"
       ]
      },
      {
       "output_type": "stream",
       "stream": "stderr",
       "text": [
        "[Parallel(n_jobs=4)]: Done   1 out of   4 | elapsed:    0.1s remaining:    0.2s\n",
        "[Parallel(n_jobs=4)]: Done   4 out of   4 | elapsed:    0.1s finished\n",
        "[Parallel(n_jobs=4)]: Done   1 out of   4 | elapsed:    0.1s remaining:    0.3s\n",
        "[Parallel(n_jobs=4)]: Done   4 out of   4 | elapsed:    0.1s finished\n"
       ]
      },
      {
       "output_type": "stream",
       "stream": "stderr",
       "text": [
        "[Parallel(n_jobs=4)]: Done   1 out of   4 | elapsed:    0.0s remaining:    0.0s\n",
        "[Parallel(n_jobs=4)]: Done   4 out of   4 | elapsed:    0.0s finished\n",
        "[Parallel(n_jobs=4)]: Done   1 out of   4 | elapsed:    0.1s remaining:    0.3s\n",
        "[Parallel(n_jobs=4)]: Done   4 out of   4 | elapsed:    0.1s finished\n"
       ]
      },
      {
       "output_type": "stream",
       "stream": "stderr",
       "text": [
        "[Parallel(n_jobs=4)]: Done   1 out of   4 | elapsed:    0.0s remaining:    0.0s\n",
        "[Parallel(n_jobs=4)]: Done   4 out of   4 | elapsed:    0.0s finished\n",
        "[Parallel(n_jobs=4)]: Done   1 out of   4 | elapsed:    0.1s remaining:    0.3s\n",
        "[Parallel(n_jobs=4)]: Done   4 out of   4 | elapsed:    0.1s finished\n"
       ]
      },
      {
       "output_type": "stream",
       "stream": "stderr",
       "text": [
        "[Parallel(n_jobs=4)]: Done   1 out of   4 | elapsed:    0.0s remaining:    0.0s\n",
        "[Parallel(n_jobs=4)]: Done   4 out of   4 | elapsed:    0.0s finished\n",
        "[Parallel(n_jobs=4)]: Done   1 out of   4 | elapsed:    5.1s remaining:   15.3s\n",
        "[Parallel(n_jobs=4)]: Done   4 out of   4 | elapsed:    5.6s finished\n"
       ]
      },
      {
       "output_type": "stream",
       "stream": "stderr",
       "text": [
        "[Parallel(n_jobs=4)]: Done   1 out of   4 | elapsed:    0.1s remaining:    0.3s\n",
        "[Parallel(n_jobs=4)]: Done   4 out of   4 | elapsed:    0.1s finished\n",
        "[Parallel(n_jobs=4)]: Done   1 out of   4 | elapsed:    5.1s remaining:   15.2s\n",
        "[Parallel(n_jobs=4)]: Done   4 out of   4 | elapsed:    5.6s finished\n"
       ]
      },
      {
       "output_type": "stream",
       "stream": "stderr",
       "text": [
        "[Parallel(n_jobs=4)]: Done   1 out of   4 | elapsed:    0.1s remaining:    0.3s\n",
        "[Parallel(n_jobs=4)]: Done   4 out of   4 | elapsed:    0.1s finished\n",
        "[Parallel(n_jobs=4)]: Done   1 out of   4 | elapsed:    5.6s remaining:   16.8s\n",
        "[Parallel(n_jobs=4)]: Done   4 out of   4 | elapsed:    5.8s finished\n"
       ]
      },
      {
       "output_type": "stream",
       "stream": "stderr",
       "text": [
        "[Parallel(n_jobs=4)]: Done   1 out of   4 | elapsed:    0.1s remaining:    0.3s\n",
        "[Parallel(n_jobs=4)]: Done   4 out of   4 | elapsed:    0.1s finished\n",
        "[Parallel(n_jobs=4)]: Done   1 out of   4 | elapsed:    6.5s remaining:   19.6s\n",
        "[Parallel(n_jobs=4)]: Done   4 out of   4 | elapsed:    7.4s finished\n"
       ]
      },
      {
       "output_type": "stream",
       "stream": "stderr",
       "text": [
        "[Parallel(n_jobs=4)]: Done   1 out of   4 | elapsed:    0.1s remaining:    0.4s\n",
        "[Parallel(n_jobs=4)]: Done   4 out of   4 | elapsed:    0.1s finished\n",
        "[Parallel(n_jobs=4)]: Done   1 out of   4 | elapsed:    6.5s remaining:   19.4s\n",
        "[Parallel(n_jobs=4)]: Done   4 out of   4 | elapsed:    7.3s finished\n"
       ]
      },
      {
       "output_type": "stream",
       "stream": "stderr",
       "text": [
        "[Parallel(n_jobs=4)]: Done   1 out of   4 | elapsed:    0.1s remaining:    0.4s\n",
        "[Parallel(n_jobs=4)]: Done   4 out of   4 | elapsed:    0.1s finished\n",
        "[Parallel(n_jobs=4)]: Done   1 out of   4 | elapsed:    6.9s remaining:   20.7s\n",
        "[Parallel(n_jobs=4)]: Done   4 out of   4 | elapsed:    7.5s finished\n"
       ]
      },
      {
       "output_type": "stream",
       "stream": "stderr",
       "text": [
        "[Parallel(n_jobs=4)]: Done   1 out of   4 | elapsed:    0.1s remaining:    0.4s\n",
        "[Parallel(n_jobs=4)]: Done   4 out of   4 | elapsed:    0.1s finished\n",
        "[Parallel(n_jobs=4)]: Done   1 out of   4 | elapsed:    4.0s remaining:   11.9s\n",
        "[Parallel(n_jobs=4)]: Done   4 out of   4 | elapsed:    4.0s finished\n"
       ]
      },
      {
       "output_type": "stream",
       "stream": "stderr",
       "text": [
        "[Parallel(n_jobs=4)]: Done   1 out of   4 | elapsed:    0.1s remaining:    0.4s\n",
        "[Parallel(n_jobs=4)]: Done   4 out of   4 | elapsed:    0.1s finished\n",
        "[Parallel(n_jobs=4)]: Done   1 out of   4 | elapsed:    4.0s remaining:   11.9s\n",
        "[Parallel(n_jobs=4)]: Done   4 out of   4 | elapsed:    4.0s finished\n"
       ]
      },
      {
       "output_type": "stream",
       "stream": "stderr",
       "text": [
        "[Parallel(n_jobs=4)]: Done   1 out of   4 | elapsed:    0.1s remaining:    0.4s\n",
        "[Parallel(n_jobs=4)]: Done   4 out of   4 | elapsed:    0.1s finished\n",
        "[Parallel(n_jobs=4)]: Done   1 out of   4 | elapsed:    4.2s remaining:   12.5s\n",
        "[Parallel(n_jobs=4)]: Done   4 out of   4 | elapsed:    4.2s finished\n"
       ]
      },
      {
       "output_type": "stream",
       "stream": "stderr",
       "text": [
        "[Parallel(n_jobs=4)]: Done   1 out of   4 | elapsed:    0.2s remaining:    0.5s\n",
        "[Parallel(n_jobs=4)]: Done   4 out of   4 | elapsed:    0.2s finished\n",
        "[Parallel(n_jobs=4)]: Done   1 out of   4 | elapsed:    9.1s remaining:   27.3s\n",
        "[Parallel(n_jobs=4)]: Done   4 out of   4 | elapsed:    9.5s finished\n"
       ]
      },
      {
       "output_type": "stream",
       "stream": "stderr",
       "text": [
        "[Parallel(n_jobs=4)]: Done   1 out of   4 | elapsed:    0.2s remaining:    0.5s\n",
        "[Parallel(n_jobs=4)]: Done   4 out of   4 | elapsed:    0.2s finished\n",
        "[Parallel(n_jobs=4)]: Done   1 out of   4 | elapsed:    8.9s remaining:   26.6s\n",
        "[Parallel(n_jobs=4)]: Done   4 out of   4 | elapsed:    9.4s finished\n"
       ]
      },
      {
       "output_type": "stream",
       "stream": "stderr",
       "text": [
        "[Parallel(n_jobs=4)]: Done   1 out of   4 | elapsed:    0.2s remaining:    0.5s\n",
        "[Parallel(n_jobs=4)]: Done   4 out of   4 | elapsed:    0.2s finished\n",
        "[Parallel(n_jobs=4)]: Done   1 out of   4 | elapsed:    9.2s remaining:   27.5s\n",
        "[Parallel(n_jobs=4)]: Done   4 out of   4 | elapsed:   10.1s finished\n"
       ]
      },
      {
       "output_type": "stream",
       "stream": "stderr",
       "text": [
        "[Parallel(n_jobs=4)]: Done   1 out of   4 | elapsed:    0.2s remaining:    0.5s\n",
        "[Parallel(n_jobs=4)]: Done   4 out of   4 | elapsed:    0.2s finished\n",
        "[Parallel(n_jobs=4)]: Done   1 out of   4 | elapsed:    3.0s remaining:    8.9s\n",
        "[Parallel(n_jobs=4)]: Done   4 out of   4 | elapsed:    3.0s finished\n"
       ]
      },
      {
       "output_type": "stream",
       "stream": "stderr",
       "text": [
        "[Parallel(n_jobs=4)]: Done   1 out of   4 | elapsed:    0.1s remaining:    0.3s\n",
        "[Parallel(n_jobs=4)]: Done   4 out of   4 | elapsed:    0.1s finished\n",
        "[Parallel(n_jobs=4)]: Done   1 out of   4 | elapsed:    2.9s remaining:    8.6s\n",
        "[Parallel(n_jobs=4)]: Done   4 out of   4 | elapsed:    3.1s finished\n"
       ]
      },
      {
       "output_type": "stream",
       "stream": "stderr",
       "text": [
        "[Parallel(n_jobs=4)]: Done   1 out of   4 | elapsed:    0.1s remaining:    0.4s\n",
        "[Parallel(n_jobs=4)]: Done   4 out of   4 | elapsed:    0.1s finished\n",
        "[Parallel(n_jobs=4)]: Done   1 out of   4 | elapsed:    2.9s remaining:    8.7s\n",
        "[Parallel(n_jobs=4)]: Done   4 out of   4 | elapsed:    3.4s finished\n"
       ]
      },
      {
       "output_type": "stream",
       "stream": "stderr",
       "text": [
        "[Parallel(n_jobs=4)]: Done   1 out of   4 | elapsed:    0.1s remaining:    0.3s\n",
        "[Parallel(n_jobs=4)]: Done   4 out of   4 | elapsed:    0.1s finished\n",
        "[Parallel(n_jobs=4)]: Done   1 out of   4 | elapsed:    5.4s remaining:   16.1s\n",
        "[Parallel(n_jobs=4)]: Done   4 out of   4 | elapsed:    5.6s finished\n"
       ]
      },
      {
       "output_type": "stream",
       "stream": "stderr",
       "text": [
        "[Parallel(n_jobs=4)]: Done   1 out of   4 | elapsed:    0.3s remaining:    0.8s\n",
        "[Parallel(n_jobs=4)]: Done   4 out of   4 | elapsed:    0.3s finished\n",
        "[Parallel(n_jobs=4)]: Done   1 out of   4 | elapsed:    5.2s remaining:   15.7s\n",
        "[Parallel(n_jobs=4)]: Done   4 out of   4 | elapsed:    5.6s finished\n"
       ]
      },
      {
       "output_type": "stream",
       "stream": "stderr",
       "text": [
        "[Parallel(n_jobs=4)]: Done   1 out of   4 | elapsed:    0.2s remaining:    0.6s\n",
        "[Parallel(n_jobs=4)]: Done   4 out of   4 | elapsed:    0.2s finished\n",
        "[Parallel(n_jobs=4)]: Done   1 out of   4 | elapsed:    5.1s remaining:   15.3s\n",
        "[Parallel(n_jobs=4)]: Done   4 out of   4 | elapsed:    5.9s finished\n"
       ]
      },
      {
       "output_type": "stream",
       "stream": "stderr",
       "text": [
        "[Parallel(n_jobs=4)]: Done   1 out of   4 | elapsed:    0.2s remaining:    0.7s\n",
        "[Parallel(n_jobs=4)]: Done   4 out of   4 | elapsed:    0.2s finished\n",
        "[Parallel(n_jobs=4)]: Done   1 out of   4 | elapsed:    2.8s remaining:    8.3s\n",
        "[Parallel(n_jobs=4)]: Done   4 out of   4 | elapsed:    3.2s finished\n"
       ]
      },
      {
       "output_type": "stream",
       "stream": "stderr",
       "text": [
        "[Parallel(n_jobs=4)]: Done   1 out of   4 | elapsed:    0.1s remaining:    0.3s\n",
        "[Parallel(n_jobs=4)]: Done   4 out of   4 | elapsed:    0.1s finished\n",
        "[Parallel(n_jobs=4)]: Done   1 out of   4 | elapsed:    2.7s remaining:    8.0s\n",
        "[Parallel(n_jobs=4)]: Done   4 out of   4 | elapsed:    3.3s finished\n"
       ]
      },
      {
       "output_type": "stream",
       "stream": "stderr",
       "text": [
        "[Parallel(n_jobs=4)]: Done   1 out of   4 | elapsed:    0.1s remaining:    0.3s\n",
        "[Parallel(n_jobs=4)]: Done   4 out of   4 | elapsed:    0.1s finished\n",
        "[Parallel(n_jobs=4)]: Done   1 out of   4 | elapsed:    2.8s remaining:    8.4s\n",
        "[Parallel(n_jobs=4)]: Done   4 out of   4 | elapsed:    3.2s finished\n"
       ]
      },
      {
       "output_type": "stream",
       "stream": "stderr",
       "text": [
        "[Parallel(n_jobs=4)]: Done   1 out of   4 | elapsed:    0.1s remaining:    0.4s\n",
        "[Parallel(n_jobs=4)]: Done   4 out of   4 | elapsed:    0.1s finished\n",
        "[Parallel(n_jobs=4)]: Done   1 out of   4 | elapsed:    7.9s remaining:   23.8s\n",
        "[Parallel(n_jobs=4)]: Done   4 out of   4 | elapsed:    9.6s finished\n"
       ]
      },
      {
       "output_type": "stream",
       "stream": "stderr",
       "text": [
        "[Parallel(n_jobs=4)]: Done   1 out of   4 | elapsed:    0.2s remaining:    0.5s\n",
        "[Parallel(n_jobs=4)]: Done   4 out of   4 | elapsed:    0.2s finished\n",
        "[Parallel(n_jobs=4)]: Done   1 out of   4 | elapsed:    9.3s remaining:   27.8s\n",
        "[Parallel(n_jobs=4)]: Done   4 out of   4 | elapsed:    9.3s finished\n"
       ]
      },
      {
       "output_type": "stream",
       "stream": "stderr",
       "text": [
        "[Parallel(n_jobs=4)]: Done   1 out of   4 | elapsed:    0.2s remaining:    0.5s\n",
        "[Parallel(n_jobs=4)]: Done   4 out of   4 | elapsed:    0.2s finished\n",
        "[Parallel(n_jobs=4)]: Done   1 out of   4 | elapsed:    8.1s remaining:   24.3s\n",
        "[Parallel(n_jobs=4)]: Done   4 out of   4 | elapsed:    8.7s finished\n"
       ]
      },
      {
       "output_type": "stream",
       "stream": "stderr",
       "text": [
        "[Parallel(n_jobs=4)]: Done   1 out of   4 | elapsed:    0.2s remaining:    0.5s\n",
        "[Parallel(n_jobs=4)]: Done   4 out of   4 | elapsed:    0.2s finished\n",
        "[Parallel(n_jobs=4)]: Done   1 out of   4 | elapsed:    7.1s remaining:   21.3s\n",
        "[Parallel(n_jobs=4)]: Done   4 out of   4 | elapsed:    7.2s finished\n"
       ]
      },
      {
       "output_type": "stream",
       "stream": "stderr",
       "text": [
        "[Parallel(n_jobs=4)]: Done   1 out of   4 | elapsed:    0.1s remaining:    0.4s\n",
        "[Parallel(n_jobs=4)]: Done   4 out of   4 | elapsed:    0.1s finished\n",
        "[Parallel(n_jobs=4)]: Done   1 out of   4 | elapsed:    6.5s remaining:   19.5s\n",
        "[Parallel(n_jobs=4)]: Done   4 out of   4 | elapsed:    7.4s finished\n"
       ]
      },
      {
       "output_type": "stream",
       "stream": "stderr",
       "text": [
        "[Parallel(n_jobs=4)]: Done   1 out of   4 | elapsed:    0.1s remaining:    0.4s\n",
        "[Parallel(n_jobs=4)]: Done   4 out of   4 | elapsed:    0.1s finished\n",
        "[Parallel(n_jobs=4)]: Done   1 out of   4 | elapsed:    7.6s remaining:   22.8s\n",
        "[Parallel(n_jobs=4)]: Done   4 out of   4 | elapsed:    7.6s finished\n"
       ]
      },
      {
       "output_type": "stream",
       "stream": "stderr",
       "text": [
        "[Parallel(n_jobs=4)]: Done   1 out of   4 | elapsed:    0.1s remaining:    0.4s\n",
        "[Parallel(n_jobs=4)]: Done   4 out of   4 | elapsed:    0.1s finished\n",
        "[Parallel(n_jobs=4)]: Done   1 out of   4 | elapsed:    3.7s remaining:   11.0s\n",
        "[Parallel(n_jobs=4)]: Done   4 out of   4 | elapsed:    4.6s finished\n"
       ]
      },
      {
       "output_type": "stream",
       "stream": "stderr",
       "text": [
        "[Parallel(n_jobs=4)]: Done   1 out of   4 | elapsed:    0.1s remaining:    0.4s\n",
        "[Parallel(n_jobs=4)]: Done   4 out of   4 | elapsed:    0.1s finished\n",
        "[Parallel(n_jobs=4)]: Done   1 out of   4 | elapsed:    3.6s remaining:   10.9s\n",
        "[Parallel(n_jobs=4)]: Done   4 out of   4 | elapsed:    4.1s finished\n"
       ]
      },
      {
       "output_type": "stream",
       "stream": "stderr",
       "text": [
        "[Parallel(n_jobs=4)]: Done   1 out of   4 | elapsed:    0.1s remaining:    0.4s\n",
        "[Parallel(n_jobs=4)]: Done   4 out of   4 | elapsed:    0.1s finished\n",
        "[Parallel(n_jobs=4)]: Done   1 out of   4 | elapsed:    4.1s remaining:   12.3s\n",
        "[Parallel(n_jobs=4)]: Done   4 out of   4 | elapsed:    4.1s finished\n"
       ]
      },
      {
       "output_type": "stream",
       "stream": "stderr",
       "text": [
        "[Parallel(n_jobs=4)]: Done   1 out of   4 | elapsed:    0.1s remaining:    0.4s\n",
        "[Parallel(n_jobs=4)]: Done   4 out of   4 | elapsed:    0.2s finished\n",
        "[Parallel(n_jobs=4)]: Done   1 out of   4 | elapsed:    2.4s remaining:    7.1s\n",
        "[Parallel(n_jobs=4)]: Done   4 out of   4 | elapsed:    2.4s finished\n"
       ]
      },
      {
       "output_type": "stream",
       "stream": "stderr",
       "text": [
        "[Parallel(n_jobs=4)]: Done   1 out of   4 | elapsed:    0.1s remaining:    0.3s\n",
        "[Parallel(n_jobs=4)]: Done   4 out of   4 | elapsed:    0.1s finished\n",
        "[Parallel(n_jobs=4)]: Done   1 out of   4 | elapsed:    2.3s remaining:    6.9s\n",
        "[Parallel(n_jobs=4)]: Done   4 out of   4 | elapsed:    2.4s finished\n"
       ]
      },
      {
       "output_type": "stream",
       "stream": "stderr",
       "text": [
        "[Parallel(n_jobs=4)]: Done   1 out of   4 | elapsed:    0.1s remaining:    0.3s\n",
        "[Parallel(n_jobs=4)]: Done   4 out of   4 | elapsed:    0.1s finished\n",
        "[Parallel(n_jobs=4)]: Done   1 out of   4 | elapsed:    2.6s remaining:    7.7s\n",
        "[Parallel(n_jobs=4)]: Done   4 out of   4 | elapsed:    2.6s finished\n"
       ]
      },
      {
       "output_type": "stream",
       "stream": "stderr",
       "text": [
        "[Parallel(n_jobs=4)]: Done   1 out of   4 | elapsed:    0.1s remaining:    0.3s\n",
        "[Parallel(n_jobs=4)]: Done   4 out of   4 | elapsed:    0.1s finished\n",
        "[Parallel(n_jobs=4)]: Done   1 out of   4 | elapsed:    2.4s remaining:    7.3s\n",
        "[Parallel(n_jobs=4)]: Done   4 out of   4 | elapsed:    2.8s finished\n"
       ]
      },
      {
       "output_type": "stream",
       "stream": "stderr",
       "text": [
        "[Parallel(n_jobs=4)]: Done   1 out of   4 | elapsed:    0.1s remaining:    0.2s\n",
        "[Parallel(n_jobs=4)]: Done   4 out of   4 | elapsed:    0.1s finished\n",
        "[Parallel(n_jobs=4)]: Done   1 out of   4 | elapsed:    2.3s remaining:    7.0s\n",
        "[Parallel(n_jobs=4)]: Done   4 out of   4 | elapsed:    2.8s finished\n"
       ]
      },
      {
       "output_type": "stream",
       "stream": "stderr",
       "text": [
        "[Parallel(n_jobs=4)]: Done   1 out of   4 | elapsed:    0.1s remaining:    0.2s\n",
        "[Parallel(n_jobs=4)]: Done   4 out of   4 | elapsed:    0.1s finished\n",
        "[Parallel(n_jobs=4)]: Done   1 out of   4 | elapsed:    2.5s remaining:    7.5s\n",
        "[Parallel(n_jobs=4)]: Done   4 out of   4 | elapsed:    2.9s finished\n"
       ]
      },
      {
       "output_type": "stream",
       "stream": "stderr",
       "text": [
        "[Parallel(n_jobs=4)]: Done   1 out of   4 | elapsed:    0.0s remaining:    0.1s\n",
        "[Parallel(n_jobs=4)]: Done   4 out of   4 | elapsed:    0.1s finished\n",
        "[Parallel(n_jobs=4)]: Done   1 out of   4 | elapsed:    3.5s remaining:   10.6s\n",
        "[Parallel(n_jobs=4)]: Done   4 out of   4 | elapsed:    3.8s finished\n"
       ]
      },
      {
       "output_type": "stream",
       "stream": "stderr",
       "text": [
        "[Parallel(n_jobs=4)]: Done   1 out of   4 | elapsed:    0.1s remaining:    0.2s\n",
        "[Parallel(n_jobs=4)]: Done   4 out of   4 | elapsed:    0.1s finished\n",
        "[Parallel(n_jobs=4)]: Done   1 out of   4 | elapsed:    3.3s remaining:   10.0s\n",
        "[Parallel(n_jobs=4)]: Done   4 out of   4 | elapsed:    4.0s finished\n"
       ]
      },
      {
       "output_type": "stream",
       "stream": "stderr",
       "text": [
        "[Parallel(n_jobs=4)]: Done   1 out of   4 | elapsed:    0.1s remaining:    0.2s\n",
        "[Parallel(n_jobs=4)]: Done   4 out of   4 | elapsed:    0.1s finished\n",
        "[Parallel(n_jobs=4)]: Done   1 out of   4 | elapsed:    3.3s remaining:   10.0s\n",
        "[Parallel(n_jobs=4)]: Done   4 out of   4 | elapsed:    3.7s finished\n"
       ]
      },
      {
       "output_type": "stream",
       "stream": "stderr",
       "text": [
        "[Parallel(n_jobs=4)]: Done   1 out of   4 | elapsed:    0.1s remaining:    0.2s\n",
        "[Parallel(n_jobs=4)]: Done   4 out of   4 | elapsed:    0.1s finished\n",
        "[Parallel(n_jobs=4)]: Done   1 out of   4 | elapsed:    1.6s remaining:    4.7s\n",
        "[Parallel(n_jobs=4)]: Done   4 out of   4 | elapsed:    1.7s finished\n"
       ]
      },
      {
       "output_type": "stream",
       "stream": "stderr",
       "text": [
        "[Parallel(n_jobs=4)]: Done   1 out of   4 | elapsed:    0.1s remaining:    0.2s\n",
        "[Parallel(n_jobs=4)]: Done   4 out of   4 | elapsed:    0.1s finished\n",
        "[Parallel(n_jobs=4)]: Done   1 out of   4 | elapsed:    1.6s remaining:    4.9s\n",
        "[Parallel(n_jobs=4)]: Done   4 out of   4 | elapsed:    1.7s finished\n"
       ]
      },
      {
       "output_type": "stream",
       "stream": "stderr",
       "text": [
        "[Parallel(n_jobs=4)]: Done   1 out of   4 | elapsed:    0.1s remaining:    0.2s\n",
        "[Parallel(n_jobs=4)]: Done   4 out of   4 | elapsed:    0.1s finished\n",
        "[Parallel(n_jobs=4)]: Done   1 out of   4 | elapsed:    1.6s remaining:    4.9s\n",
        "[Parallel(n_jobs=4)]: Done   4 out of   4 | elapsed:    1.7s finished\n"
       ]
      },
      {
       "output_type": "stream",
       "stream": "stderr",
       "text": [
        "[Parallel(n_jobs=4)]: Done   1 out of   4 | elapsed:    0.1s remaining:    0.2s\n",
        "[Parallel(n_jobs=4)]: Done   4 out of   4 | elapsed:    0.1s finished\n",
        "[Parallel(n_jobs=4)]: Done   1 out of   4 | elapsed:    2.1s remaining:    6.2s\n",
        "[Parallel(n_jobs=4)]: Done   4 out of   4 | elapsed:    2.2s finished\n"
       ]
      },
      {
       "output_type": "stream",
       "stream": "stderr",
       "text": [
        "[Parallel(n_jobs=4)]: Done   1 out of   4 | elapsed:    0.1s remaining:    0.3s\n",
        "[Parallel(n_jobs=4)]: Done   4 out of   4 | elapsed:    0.1s finished\n",
        "[Parallel(n_jobs=4)]: Done   1 out of   4 | elapsed:    2.0s remaining:    6.0s\n",
        "[Parallel(n_jobs=4)]: Done   4 out of   4 | elapsed:    2.2s finished\n"
       ]
      },
      {
       "output_type": "stream",
       "stream": "stderr",
       "text": [
        "[Parallel(n_jobs=4)]: Done   1 out of   4 | elapsed:    0.1s remaining:    0.2s\n",
        "[Parallel(n_jobs=4)]: Done   4 out of   4 | elapsed:    0.1s finished\n",
        "[Parallel(n_jobs=4)]: Done   1 out of   4 | elapsed:    2.0s remaining:    6.1s\n",
        "[Parallel(n_jobs=4)]: Done   4 out of   4 | elapsed:    2.1s finished\n"
       ]
      },
      {
       "output_type": "stream",
       "stream": "stderr",
       "text": [
        "[Parallel(n_jobs=4)]: Done   1 out of   4 | elapsed:    0.1s remaining:    0.2s\n",
        "[Parallel(n_jobs=4)]: Done   4 out of   4 | elapsed:    0.1s finished\n",
        "[Parallel(n_jobs=4)]: Done   1 out of   4 | elapsed:    3.2s remaining:    9.5s\n",
        "[Parallel(n_jobs=4)]: Done   4 out of   4 | elapsed:    3.5s finished\n"
       ]
      },
      {
       "output_type": "stream",
       "stream": "stderr",
       "text": [
        "[Parallel(n_jobs=4)]: Done   1 out of   4 | elapsed:    0.1s remaining:    0.2s\n",
        "[Parallel(n_jobs=4)]: Done   4 out of   4 | elapsed:    0.1s finished\n",
        "[Parallel(n_jobs=4)]: Done   1 out of   4 | elapsed:    3.5s remaining:   10.4s\n",
        "[Parallel(n_jobs=4)]: Done   4 out of   4 | elapsed:    3.5s finished\n"
       ]
      },
      {
       "output_type": "stream",
       "stream": "stderr",
       "text": [
        "[Parallel(n_jobs=4)]: Done   1 out of   4 | elapsed:    0.1s remaining:    0.2s\n",
        "[Parallel(n_jobs=4)]: Done   4 out of   4 | elapsed:    0.1s finished\n",
        "[Parallel(n_jobs=4)]: Done   1 out of   4 | elapsed:    3.7s remaining:   11.1s\n",
        "[Parallel(n_jobs=4)]: Done   4 out of   4 | elapsed:    3.7s finished\n"
       ]
      },
      {
       "output_type": "stream",
       "stream": "stderr",
       "text": [
        "[Parallel(n_jobs=4)]: Done   1 out of   4 | elapsed:    0.1s remaining:    0.2s\n",
        "[Parallel(n_jobs=4)]: Done   4 out of   4 | elapsed:    0.1s finished\n",
        "[Parallel(n_jobs=4)]: Done   1 out of   4 | elapsed:    5.1s remaining:   15.4s\n",
        "[Parallel(n_jobs=4)]: Done   4 out of   4 | elapsed:    5.8s finished\n"
       ]
      },
      {
       "output_type": "stream",
       "stream": "stderr",
       "text": [
        "[Parallel(n_jobs=4)]: Done   1 out of   4 | elapsed:    0.1s remaining:    0.3s\n",
        "[Parallel(n_jobs=4)]: Done   4 out of   4 | elapsed:    0.1s finished\n",
        "[Parallel(n_jobs=4)]: Done   1 out of   4 | elapsed:    5.6s remaining:   16.7s\n",
        "[Parallel(n_jobs=4)]: Done   4 out of   4 | elapsed:    5.6s finished\n"
       ]
      },
      {
       "output_type": "stream",
       "stream": "stderr",
       "text": [
        "[Parallel(n_jobs=4)]: Done   1 out of   4 | elapsed:    0.1s remaining:    0.3s\n",
        "[Parallel(n_jobs=4)]: Done   4 out of   4 | elapsed:    0.1s finished\n",
        "[Parallel(n_jobs=4)]: Done   1 out of   4 | elapsed:    5.0s remaining:   15.1s\n",
        "[Parallel(n_jobs=4)]: Done   4 out of   4 | elapsed:    5.8s finished\n"
       ]
      },
      {
       "output_type": "stream",
       "stream": "stderr",
       "text": [
        "[Parallel(n_jobs=4)]: Done   1 out of   4 | elapsed:    0.1s remaining:    0.3s\n",
        "[Parallel(n_jobs=4)]: Done   4 out of   4 | elapsed:    0.1s finished\n",
        "[Parallel(n_jobs=4)]: Done   1 out of   4 | elapsed:    6.7s remaining:   20.2s\n",
        "[Parallel(n_jobs=4)]: Done   4 out of   4 | elapsed:    8.4s finished\n"
       ]
      },
      {
       "output_type": "stream",
       "stream": "stderr",
       "text": [
        "[Parallel(n_jobs=4)]: Done   1 out of   4 | elapsed:    0.1s remaining:    0.4s\n",
        "[Parallel(n_jobs=4)]: Done   4 out of   4 | elapsed:    0.1s finished\n",
        "[Parallel(n_jobs=4)]: Done   1 out of   4 | elapsed:    6.5s remaining:   19.4s\n",
        "[Parallel(n_jobs=4)]: Done   4 out of   4 | elapsed:    7.2s finished\n"
       ]
      },
      {
       "output_type": "stream",
       "stream": "stderr",
       "text": [
        "[Parallel(n_jobs=4)]: Done   1 out of   4 | elapsed:    0.1s remaining:    0.4s\n",
        "[Parallel(n_jobs=4)]: Done   4 out of   4 | elapsed:    0.1s finished\n",
        "[Parallel(n_jobs=4)]: Done   1 out of   4 | elapsed:    7.0s remaining:   21.0s\n",
        "[Parallel(n_jobs=4)]: Done   4 out of   4 | elapsed:    7.3s finished\n"
       ]
      },
      {
       "output_type": "stream",
       "stream": "stderr",
       "text": [
        "[Parallel(n_jobs=4)]: Done   1 out of   4 | elapsed:    0.1s remaining:    0.4s\n",
        "[Parallel(n_jobs=4)]: Done   4 out of   4 | elapsed:    0.1s finished\n",
        "[Parallel(n_jobs=4)]: Done   1 out of   4 | elapsed:    4.3s remaining:   12.8s\n",
        "[Parallel(n_jobs=4)]: Done   4 out of   4 | elapsed:    4.5s finished\n"
       ]
      },
      {
       "output_type": "stream",
       "stream": "stderr",
       "text": [
        "[Parallel(n_jobs=4)]: Done   1 out of   4 | elapsed:    0.2s remaining:    0.5s\n",
        "[Parallel(n_jobs=4)]: Done   4 out of   4 | elapsed:    0.2s finished\n",
        "[Parallel(n_jobs=4)]: Done   1 out of   4 | elapsed:    4.8s remaining:   14.4s\n",
        "[Parallel(n_jobs=4)]: Done   4 out of   4 | elapsed:    4.8s finished\n"
       ]
      },
      {
       "output_type": "stream",
       "stream": "stderr",
       "text": [
        "[Parallel(n_jobs=4)]: Done   1 out of   4 | elapsed:    0.2s remaining:    0.5s\n",
        "[Parallel(n_jobs=4)]: Done   4 out of   4 | elapsed:    0.2s finished\n",
        "[Parallel(n_jobs=4)]: Done   1 out of   4 | elapsed:    4.5s remaining:   13.6s\n",
        "[Parallel(n_jobs=4)]: Done   4 out of   4 | elapsed:    4.6s finished\n"
       ]
      },
      {
       "output_type": "stream",
       "stream": "stderr",
       "text": [
        "[Parallel(n_jobs=4)]: Done   1 out of   4 | elapsed:    0.2s remaining:    0.5s\n",
        "[Parallel(n_jobs=4)]: Done   4 out of   4 | elapsed:    0.2s finished\n",
        "[Parallel(n_jobs=4)]: Done   1 out of   4 | elapsed:    2.6s remaining:    7.7s\n",
        "[Parallel(n_jobs=4)]: Done   4 out of   4 | elapsed:    2.7s finished\n"
       ]
      },
      {
       "output_type": "stream",
       "stream": "stderr",
       "text": [
        "[Parallel(n_jobs=4)]: Done   1 out of   4 | elapsed:    0.1s remaining:    0.3s\n",
        "[Parallel(n_jobs=4)]: Done   4 out of   4 | elapsed:    0.1s finished\n",
        "[Parallel(n_jobs=4)]: Done   1 out of   4 | elapsed:    2.4s remaining:    7.2s\n",
        "[Parallel(n_jobs=4)]: Done   4 out of   4 | elapsed:    3.0s finished\n"
       ]
      },
      {
       "output_type": "stream",
       "stream": "stderr",
       "text": [
        "[Parallel(n_jobs=4)]: Done   1 out of   4 | elapsed:    0.1s remaining:    0.3s\n",
        "[Parallel(n_jobs=4)]: Done   4 out of   4 | elapsed:    0.1s finished\n",
        "[Parallel(n_jobs=4)]: Done   1 out of   4 | elapsed:    2.7s remaining:    8.1s\n",
        "[Parallel(n_jobs=4)]: Done   4 out of   4 | elapsed:    2.8s finished\n"
       ]
      },
      {
       "output_type": "stream",
       "stream": "stderr",
       "text": [
        "[Parallel(n_jobs=4)]: Done   1 out of   4 | elapsed:    0.1s remaining:    0.3s\n",
        "[Parallel(n_jobs=4)]: Done   4 out of   4 | elapsed:    0.1s finished\n",
        "[Parallel(n_jobs=4)]: Done   1 out of   4 | elapsed:    6.1s remaining:   18.4s\n",
        "[Parallel(n_jobs=4)]: Done   4 out of   4 | elapsed:    6.1s finished\n"
       ]
      },
      {
       "output_type": "stream",
       "stream": "stderr",
       "text": [
        "[Parallel(n_jobs=4)]: Done   1 out of   4 | elapsed:    0.1s remaining:    0.3s\n",
        "[Parallel(n_jobs=4)]: Done   4 out of   4 | elapsed:    0.1s finished\n",
        "[Parallel(n_jobs=4)]: Done   1 out of   4 | elapsed:    5.1s remaining:   15.3s\n",
        "[Parallel(n_jobs=4)]: Done   4 out of   4 | elapsed:    6.1s finished\n"
       ]
      },
      {
       "output_type": "stream",
       "stream": "stderr",
       "text": [
        "[Parallel(n_jobs=4)]: Done   1 out of   4 | elapsed:    0.1s remaining:    0.3s\n",
        "[Parallel(n_jobs=4)]: Done   4 out of   4 | elapsed:    0.1s finished\n",
        "[Parallel(n_jobs=4)]: Done   1 out of   4 | elapsed:    5.6s remaining:   16.9s\n",
        "[Parallel(n_jobs=4)]: Done   4 out of   4 | elapsed:    6.1s finished\n"
       ]
      },
      {
       "output_type": "stream",
       "stream": "stderr",
       "text": [
        "[Parallel(n_jobs=4)]: Done   1 out of   4 | elapsed:    0.1s remaining:    0.3s\n",
        "[Parallel(n_jobs=4)]: Done   4 out of   4 | elapsed:    0.1s finished\n",
        "[Parallel(n_jobs=4)]: Done   1 out of   4 | elapsed:    8.7s remaining:   26.0s\n",
        "[Parallel(n_jobs=4)]: Done   4 out of   4 | elapsed:    8.7s finished\n"
       ]
      },
      {
       "output_type": "stream",
       "stream": "stderr",
       "text": [
        "[Parallel(n_jobs=4)]: Done   1 out of   4 | elapsed:    0.1s remaining:    0.4s\n",
        "[Parallel(n_jobs=4)]: Done   4 out of   4 | elapsed:    0.2s finished\n",
        "[Parallel(n_jobs=4)]: Done   1 out of   4 | elapsed:    7.8s remaining:   23.3s\n",
        "[Parallel(n_jobs=4)]: Done   4 out of   4 | elapsed:    8.9s finished\n"
       ]
      },
      {
       "output_type": "stream",
       "stream": "stderr",
       "text": [
        "[Parallel(n_jobs=4)]: Done   1 out of   4 | elapsed:    0.2s remaining:    0.5s\n",
        "[Parallel(n_jobs=4)]: Done   4 out of   4 | elapsed:    0.2s finished\n",
        "[Parallel(n_jobs=4)]: Done   1 out of   4 | elapsed:    8.0s remaining:   24.1s\n",
        "[Parallel(n_jobs=4)]: Done   4 out of   4 | elapsed:    8.8s finished\n"
       ]
      },
      {
       "output_type": "stream",
       "stream": "stderr",
       "text": [
        "[Parallel(n_jobs=4)]: Done   1 out of   4 | elapsed:    0.2s remaining:    0.5s\n",
        "[Parallel(n_jobs=4)]: Done   4 out of   4 | elapsed:    0.2s finished\n",
        "[Parallel(n_jobs=4)]: Done   1 out of   4 | elapsed:    5.5s remaining:   16.4s\n",
        "[Parallel(n_jobs=4)]: Done   4 out of   4 | elapsed:    6.5s finished\n"
       ]
      },
      {
       "output_type": "stream",
       "stream": "stderr",
       "text": [
        "[Parallel(n_jobs=4)]: Done   1 out of   4 | elapsed:    0.1s remaining:    0.3s\n",
        "[Parallel(n_jobs=4)]: Done   4 out of   4 | elapsed:    0.1s finished\n",
        "[Parallel(n_jobs=4)]: Done   1 out of   4 | elapsed:    5.7s remaining:   17.2s\n",
        "[Parallel(n_jobs=4)]: Done   4 out of   4 | elapsed:    6.0s finished\n"
       ]
      },
      {
       "output_type": "stream",
       "stream": "stderr",
       "text": [
        "[Parallel(n_jobs=4)]: Done   1 out of   4 | elapsed:    0.1s remaining:    0.3s\n",
        "[Parallel(n_jobs=4)]: Done   4 out of   4 | elapsed:    0.1s finished\n",
        "[Parallel(n_jobs=4)]: Done   1 out of   4 | elapsed:    6.3s remaining:   18.9s\n",
        "[Parallel(n_jobs=4)]: Done   4 out of   4 | elapsed:    6.3s finished\n"
       ]
      },
      {
       "output_type": "stream",
       "stream": "stderr",
       "text": [
        "[Parallel(n_jobs=4)]: Done   1 out of   4 | elapsed:    0.1s remaining:    0.3s\n",
        "[Parallel(n_jobs=4)]: Done   4 out of   4 | elapsed:    0.1s finished\n",
        "[Parallel(n_jobs=4)]: Done   1 out of   4 | elapsed:    1.3s remaining:    3.8s\n",
        "[Parallel(n_jobs=4)]: Done   4 out of   4 | elapsed:    1.3s finished\n"
       ]
      },
      {
       "output_type": "stream",
       "stream": "stderr",
       "text": [
        "[Parallel(n_jobs=4)]: Done   1 out of   4 | elapsed:    0.1s remaining:    0.2s\n",
        "[Parallel(n_jobs=4)]: Done   4 out of   4 | elapsed:    0.1s finished\n",
        "[Parallel(n_jobs=4)]: Done   1 out of   4 | elapsed:    1.4s remaining:    4.1s\n",
        "[Parallel(n_jobs=4)]: Done   4 out of   4 | elapsed:    1.4s finished\n"
       ]
      },
      {
       "output_type": "stream",
       "stream": "stderr",
       "text": [
        "[Parallel(n_jobs=4)]: Done   1 out of   4 | elapsed:    0.0s remaining:    0.1s\n",
        "[Parallel(n_jobs=4)]: Done   4 out of   4 | elapsed:    0.0s finished\n",
        "[Parallel(n_jobs=4)]: Done   1 out of   4 | elapsed:    1.2s remaining:    3.6s\n",
        "[Parallel(n_jobs=4)]: Done   4 out of   4 | elapsed:    1.5s finished\n"
       ]
      },
      {
       "output_type": "stream",
       "stream": "stderr",
       "text": [
        "[Parallel(n_jobs=4)]: Done   1 out of   4 | elapsed:    0.0s remaining:    0.1s\n",
        "[Parallel(n_jobs=4)]: Done   4 out of   4 | elapsed:    0.1s finished\n",
        "[Parallel(n_jobs=4)]: Done   1 out of   4 | elapsed:    5.2s remaining:   15.5s\n",
        "[Parallel(n_jobs=4)]: Done   4 out of   4 | elapsed:    5.8s finished\n"
       ]
      },
      {
       "output_type": "stream",
       "stream": "stderr",
       "text": [
        "[Parallel(n_jobs=4)]: Done   1 out of   4 | elapsed:    0.3s remaining:    0.8s\n",
        "[Parallel(n_jobs=4)]: Done   4 out of   4 | elapsed:    0.3s finished\n",
        "[Parallel(n_jobs=4)]: Done   1 out of   4 | elapsed:    5.1s remaining:   15.4s\n",
        "[Parallel(n_jobs=4)]: Done   4 out of   4 | elapsed:    5.8s finished\n"
       ]
      },
      {
       "output_type": "stream",
       "stream": "stderr",
       "text": [
        "[Parallel(n_jobs=4)]: Done   1 out of   4 | elapsed:    0.3s remaining:    0.8s\n",
        "[Parallel(n_jobs=4)]: Done   4 out of   4 | elapsed:    0.3s finished\n",
        "[Parallel(n_jobs=4)]: Done   1 out of   4 | elapsed:    5.1s remaining:   15.3s\n",
        "[Parallel(n_jobs=4)]: Done   4 out of   4 | elapsed:    5.7s finished\n"
       ]
      },
      {
       "output_type": "stream",
       "stream": "stderr",
       "text": [
        "[Parallel(n_jobs=4)]: Done   1 out of   4 | elapsed:    0.2s remaining:    0.7s\n",
        "[Parallel(n_jobs=4)]: Done   4 out of   4 | elapsed:    0.2s finished\n",
        "[Parallel(n_jobs=4)]: Done   1 out of   4 | elapsed:    0.1s remaining:    0.4s\n",
        "[Parallel(n_jobs=4)]: Done   4 out of   4 | elapsed:    0.2s finished\n"
       ]
      },
      {
       "output_type": "stream",
       "stream": "stderr",
       "text": [
        "[Parallel(n_jobs=4)]: Done   1 out of   4 | elapsed:    0.0s remaining:    0.0s\n",
        "[Parallel(n_jobs=4)]: Done   4 out of   4 | elapsed:    0.0s finished\n",
        "[Parallel(n_jobs=4)]: Done   1 out of   4 | elapsed:    0.1s remaining:    0.3s\n",
        "[Parallel(n_jobs=4)]: Done   4 out of   4 | elapsed:    0.1s finished\n"
       ]
      },
      {
       "output_type": "stream",
       "stream": "stderr",
       "text": [
        "[Parallel(n_jobs=4)]: Done   1 out of   4 | elapsed:    0.0s remaining:    0.0s\n",
        "[Parallel(n_jobs=4)]: Done   4 out of   4 | elapsed:    0.0s finished\n",
        "[Parallel(n_jobs=4)]: Done   1 out of   4 | elapsed:    0.1s remaining:    0.4s\n",
        "[Parallel(n_jobs=4)]: Done   4 out of   4 | elapsed:    0.1s finished\n"
       ]
      },
      {
       "output_type": "stream",
       "stream": "stderr",
       "text": [
        "[Parallel(n_jobs=4)]: Done   1 out of   4 | elapsed:    0.0s remaining:    0.0s\n",
        "[Parallel(n_jobs=4)]: Done   4 out of   4 | elapsed:    0.0s finished\n",
        "[Parallel(n_jobs=4)]: Done   1 out of   4 | elapsed:    4.1s remaining:   12.4s\n",
        "[Parallel(n_jobs=4)]: Done   4 out of   4 | elapsed:    4.9s finished\n"
       ]
      },
      {
       "output_type": "stream",
       "stream": "stderr",
       "text": [
        "[Parallel(n_jobs=4)]: Done   1 out of   4 | elapsed:    0.2s remaining:    0.5s\n",
        "[Parallel(n_jobs=4)]: Done   4 out of   4 | elapsed:    0.2s finished\n",
        "[Parallel(n_jobs=4)]: Done   1 out of   4 | elapsed:    4.2s remaining:   12.5s\n",
        "[Parallel(n_jobs=4)]: Done   4 out of   4 | elapsed:    4.9s finished\n"
       ]
      },
      {
       "output_type": "stream",
       "stream": "stderr",
       "text": [
        "[Parallel(n_jobs=4)]: Done   1 out of   4 | elapsed:    0.2s remaining:    0.5s\n",
        "[Parallel(n_jobs=4)]: Done   4 out of   4 | elapsed:    0.2s finished\n",
        "[Parallel(n_jobs=4)]: Done   1 out of   4 | elapsed:    5.1s remaining:   15.2s\n",
        "[Parallel(n_jobs=4)]: Done   4 out of   4 | elapsed:    5.1s finished\n"
       ]
      },
      {
       "output_type": "stream",
       "stream": "stderr",
       "text": [
        "[Parallel(n_jobs=4)]: Done   1 out of   4 | elapsed:    0.2s remaining:    0.5s\n",
        "[Parallel(n_jobs=4)]: Done   4 out of   4 | elapsed:    0.2s finished\n",
        "[Parallel(n_jobs=4)]: Done   1 out of   4 | elapsed:    1.9s remaining:    5.7s\n",
        "[Parallel(n_jobs=4)]: Done   4 out of   4 | elapsed:    1.9s finished\n"
       ]
      },
      {
       "output_type": "stream",
       "stream": "stderr",
       "text": [
        "[Parallel(n_jobs=4)]: Done   1 out of   4 | elapsed:    0.1s remaining:    0.2s\n",
        "[Parallel(n_jobs=4)]: Done   4 out of   4 | elapsed:    0.1s finished\n",
        "[Parallel(n_jobs=4)]: Done   1 out of   4 | elapsed:    1.6s remaining:    4.7s\n",
        "[Parallel(n_jobs=4)]: Done   4 out of   4 | elapsed:    1.8s finished\n"
       ]
      },
      {
       "output_type": "stream",
       "stream": "stderr",
       "text": [
        "[Parallel(n_jobs=4)]: Done   1 out of   4 | elapsed:    0.1s remaining:    0.2s\n",
        "[Parallel(n_jobs=4)]: Done   4 out of   4 | elapsed:    0.1s finished\n",
        "[Parallel(n_jobs=4)]: Done   1 out of   4 | elapsed:    1.8s remaining:    5.4s\n",
        "[Parallel(n_jobs=4)]: Done   4 out of   4 | elapsed:    1.8s finished\n"
       ]
      },
      {
       "output_type": "stream",
       "stream": "stderr",
       "text": [
        "[Parallel(n_jobs=4)]: Done   1 out of   4 | elapsed:    0.1s remaining:    0.2s\n",
        "[Parallel(n_jobs=4)]: Done   4 out of   4 | elapsed:    0.1s finished\n",
        "[Parallel(n_jobs=4)]: Done   1 out of   4 | elapsed:    2.5s remaining:    7.6s\n",
        "[Parallel(n_jobs=4)]: Done   4 out of   4 | elapsed:    2.5s finished\n"
       ]
      },
      {
       "output_type": "stream",
       "stream": "stderr",
       "text": [
        "[Parallel(n_jobs=4)]: Done   1 out of   4 | elapsed:    0.0s remaining:    0.1s\n",
        "[Parallel(n_jobs=4)]: Done   4 out of   4 | elapsed:    0.0s finished\n",
        "[Parallel(n_jobs=4)]: Done   1 out of   4 | elapsed:    2.2s remaining:    6.6s\n",
        "[Parallel(n_jobs=4)]: Done   4 out of   4 | elapsed:    2.7s finished\n"
       ]
      },
      {
       "output_type": "stream",
       "stream": "stderr",
       "text": [
        "[Parallel(n_jobs=4)]: Done   1 out of   4 | elapsed:    0.0s remaining:    0.1s\n",
        "[Parallel(n_jobs=4)]: Done   4 out of   4 | elapsed:    0.0s finished\n",
        "[Parallel(n_jobs=4)]: Done   1 out of   4 | elapsed:    2.4s remaining:    7.1s\n",
        "[Parallel(n_jobs=4)]: Done   4 out of   4 | elapsed:    2.4s finished\n"
       ]
      },
      {
       "output_type": "stream",
       "stream": "stderr",
       "text": [
        "[Parallel(n_jobs=4)]: Done   1 out of   4 | elapsed:    0.1s remaining:    0.2s\n",
        "[Parallel(n_jobs=4)]: Done   4 out of   4 | elapsed:    0.1s finished\n",
        "[Parallel(n_jobs=4)]: Done   1 out of   4 | elapsed:    0.8s remaining:    2.3s\n",
        "[Parallel(n_jobs=4)]: Done   4 out of   4 | elapsed:    0.9s finished\n"
       ]
      },
      {
       "output_type": "stream",
       "stream": "stderr",
       "text": [
        "[Parallel(n_jobs=4)]: Done   1 out of   4 | elapsed:    0.0s remaining:    0.1s\n",
        "[Parallel(n_jobs=4)]: Done   4 out of   4 | elapsed:    0.0s finished\n",
        "[Parallel(n_jobs=4)]: Done   1 out of   4 | elapsed:    0.8s remaining:    2.3s\n",
        "[Parallel(n_jobs=4)]: Done   4 out of   4 | elapsed:    0.8s finished\n"
       ]
      },
      {
       "output_type": "stream",
       "stream": "stderr",
       "text": [
        "[Parallel(n_jobs=4)]: Done   1 out of   4 | elapsed:    0.0s remaining:    0.1s\n",
        "[Parallel(n_jobs=4)]: Done   4 out of   4 | elapsed:    0.0s finished\n",
        "[Parallel(n_jobs=4)]: Done   1 out of   4 | elapsed:    0.8s remaining:    2.4s\n",
        "[Parallel(n_jobs=4)]: Done   4 out of   4 | elapsed:    0.9s finished\n"
       ]
      },
      {
       "output_type": "stream",
       "stream": "stderr",
       "text": [
        "[Parallel(n_jobs=4)]: Done   1 out of   4 | elapsed:    0.0s remaining:    0.1s\n",
        "[Parallel(n_jobs=4)]: Done   4 out of   4 | elapsed:    0.0s finished\n",
        "[Parallel(n_jobs=4)]: Done   1 out of   4 | elapsed:   11.6s remaining:   34.7s\n",
        "[Parallel(n_jobs=4)]: Done   4 out of   4 | elapsed:   12.2s finished\n"
       ]
      },
      {
       "output_type": "stream",
       "stream": "stderr",
       "text": [
        "[Parallel(n_jobs=4)]: Done   1 out of   4 | elapsed:    0.3s remaining:    0.8s\n",
        "[Parallel(n_jobs=4)]: Done   4 out of   4 | elapsed:    0.3s finished\n",
        "[Parallel(n_jobs=4)]: Done   1 out of   4 | elapsed:   11.0s remaining:   33.0s\n",
        "[Parallel(n_jobs=4)]: Done   4 out of   4 | elapsed:   12.3s finished\n"
       ]
      },
      {
       "output_type": "stream",
       "stream": "stderr",
       "text": [
        "[Parallel(n_jobs=4)]: Done   1 out of   4 | elapsed:    0.2s remaining:    0.7s\n",
        "[Parallel(n_jobs=4)]: Done   4 out of   4 | elapsed:    0.2s finished\n",
        "[Parallel(n_jobs=4)]: Done   1 out of   4 | elapsed:   11.6s remaining:   34.9s\n",
        "[Parallel(n_jobs=4)]: Done   4 out of   4 | elapsed:   12.0s finished\n"
       ]
      },
      {
       "output_type": "stream",
       "stream": "stderr",
       "text": [
        "[Parallel(n_jobs=4)]: Done   1 out of   4 | elapsed:    0.3s remaining:    0.8s\n",
        "[Parallel(n_jobs=4)]: Done   4 out of   4 | elapsed:    0.3s finished\n",
        "[Parallel(n_jobs=4)]: Done   1 out of   4 | elapsed:    1.2s remaining:    3.5s\n",
        "[Parallel(n_jobs=4)]: Done   4 out of   4 | elapsed:    1.3s finished\n"
       ]
      },
      {
       "output_type": "stream",
       "stream": "stderr",
       "text": [
        "[Parallel(n_jobs=4)]: Done   1 out of   4 | elapsed:    0.0s remaining:    0.1s\n",
        "[Parallel(n_jobs=4)]: Done   4 out of   4 | elapsed:    0.0s finished\n",
        "[Parallel(n_jobs=4)]: Done   1 out of   4 | elapsed:    1.1s remaining:    3.4s\n",
        "[Parallel(n_jobs=4)]: Done   4 out of   4 | elapsed:    1.2s finished\n"
       ]
      },
      {
       "output_type": "stream",
       "stream": "stderr",
       "text": [
        "[Parallel(n_jobs=4)]: Done   1 out of   4 | elapsed:    0.0s remaining:    0.1s\n",
        "[Parallel(n_jobs=4)]: Done   4 out of   4 | elapsed:    0.0s finished\n",
        "[Parallel(n_jobs=4)]: Done   1 out of   4 | elapsed:    1.1s remaining:    3.4s\n",
        "[Parallel(n_jobs=4)]: Done   4 out of   4 | elapsed:    1.3s finished\n"
       ]
      },
      {
       "output_type": "stream",
       "stream": "stderr",
       "text": [
        "[Parallel(n_jobs=4)]: Done   1 out of   4 | elapsed:    0.0s remaining:    0.1s\n",
        "[Parallel(n_jobs=4)]: Done   4 out of   4 | elapsed:    0.0s finished\n",
        "[Parallel(n_jobs=4)]: Done   1 out of   4 | elapsed:    2.4s remaining:    7.3s\n",
        "[Parallel(n_jobs=4)]: Done   4 out of   4 | elapsed:    2.6s finished\n"
       ]
      },
      {
       "output_type": "stream",
       "stream": "stderr",
       "text": [
        "[Parallel(n_jobs=4)]: Done   1 out of   4 | elapsed:    0.1s remaining:    0.3s\n",
        "[Parallel(n_jobs=4)]: Done   4 out of   4 | elapsed:    0.1s finished\n",
        "[Parallel(n_jobs=4)]: Done   1 out of   4 | elapsed:    2.6s remaining:    7.7s\n",
        "[Parallel(n_jobs=4)]: Done   4 out of   4 | elapsed:    2.6s finished\n"
       ]
      },
      {
       "output_type": "stream",
       "stream": "stderr",
       "text": [
        "[Parallel(n_jobs=4)]: Done   1 out of   4 | elapsed:    0.1s remaining:    0.3s\n",
        "[Parallel(n_jobs=4)]: Done   4 out of   4 | elapsed:    0.1s finished\n",
        "[Parallel(n_jobs=4)]: Done   1 out of   4 | elapsed:    2.4s remaining:    7.2s\n",
        "[Parallel(n_jobs=4)]: Done   4 out of   4 | elapsed:    2.7s finished\n"
       ]
      },
      {
       "output_type": "stream",
       "stream": "stderr",
       "text": [
        "[Parallel(n_jobs=4)]: Done   1 out of   4 | elapsed:    0.1s remaining:    0.3s\n",
        "[Parallel(n_jobs=4)]: Done   4 out of   4 | elapsed:    0.1s finished\n",
        "[Parallel(n_jobs=4)]: Done   1 out of   4 | elapsed:    4.0s remaining:   11.9s\n",
        "[Parallel(n_jobs=4)]: Done   4 out of   4 | elapsed:    4.8s finished\n"
       ]
      },
      {
       "output_type": "stream",
       "stream": "stderr",
       "text": [
        "[Parallel(n_jobs=4)]: Done   1 out of   4 | elapsed:    0.1s remaining:    0.3s\n",
        "[Parallel(n_jobs=4)]: Done   4 out of   4 | elapsed:    0.1s finished\n",
        "[Parallel(n_jobs=4)]: Done   1 out of   4 | elapsed:    3.8s remaining:   11.4s\n",
        "[Parallel(n_jobs=4)]: Done   4 out of   4 | elapsed:    4.3s finished\n"
       ]
      },
      {
       "output_type": "stream",
       "stream": "stderr",
       "text": [
        "[Parallel(n_jobs=4)]: Done   1 out of   4 | elapsed:    0.1s remaining:    0.2s\n",
        "[Parallel(n_jobs=4)]: Done   4 out of   4 | elapsed:    0.1s finished\n",
        "[Parallel(n_jobs=4)]: Done   1 out of   4 | elapsed:    4.2s remaining:   12.5s\n",
        "[Parallel(n_jobs=4)]: Done   4 out of   4 | elapsed:    4.3s finished\n"
       ]
      },
      {
       "output_type": "stream",
       "stream": "stderr",
       "text": [
        "[Parallel(n_jobs=4)]: Done   1 out of   4 | elapsed:    0.1s remaining:    0.2s\n",
        "[Parallel(n_jobs=4)]: Done   4 out of   4 | elapsed:    0.1s finished\n",
        "[Parallel(n_jobs=4)]: Done   1 out of   4 | elapsed:    1.1s remaining:    3.3s\n",
        "[Parallel(n_jobs=4)]: Done   4 out of   4 | elapsed:    1.1s finished\n"
       ]
      },
      {
       "output_type": "stream",
       "stream": "stderr",
       "text": [
        "[Parallel(n_jobs=4)]: Done   1 out of   4 | elapsed:    0.0s remaining:    0.1s\n",
        "[Parallel(n_jobs=4)]: Done   4 out of   4 | elapsed:    0.0s finished\n",
        "[Parallel(n_jobs=4)]: Done   1 out of   4 | elapsed:    1.1s remaining:    3.2s\n",
        "[Parallel(n_jobs=4)]: Done   4 out of   4 | elapsed:    1.3s finished\n"
       ]
      },
      {
       "output_type": "stream",
       "stream": "stderr",
       "text": [
        "[Parallel(n_jobs=4)]: Done   1 out of   4 | elapsed:    0.0s remaining:    0.1s\n",
        "[Parallel(n_jobs=4)]: Done   4 out of   4 | elapsed:    0.0s finished\n",
        "[Parallel(n_jobs=4)]: Done   1 out of   4 | elapsed:    1.1s remaining:    3.2s\n",
        "[Parallel(n_jobs=4)]: Done   4 out of   4 | elapsed:    1.3s finished\n"
       ]
      },
      {
       "output_type": "stream",
       "stream": "stderr",
       "text": [
        "[Parallel(n_jobs=4)]: Done   1 out of   4 | elapsed:    0.0s remaining:    0.1s\n",
        "[Parallel(n_jobs=4)]: Done   4 out of   4 | elapsed:    0.0s finished\n",
        "[Parallel(n_jobs=4)]: Done   1 out of   4 | elapsed:   11.4s remaining:   34.3s\n",
        "[Parallel(n_jobs=4)]: Done   4 out of   4 | elapsed:   12.2s finished\n"
       ]
      },
      {
       "output_type": "stream",
       "stream": "stderr",
       "text": [
        "[Parallel(n_jobs=4)]: Done   1 out of   4 | elapsed:    0.3s remaining:    0.8s\n",
        "[Parallel(n_jobs=4)]: Done   4 out of   4 | elapsed:    0.3s finished\n",
        "[Parallel(n_jobs=4)]: Done   1 out of   4 | elapsed:   11.1s remaining:   33.2s\n",
        "[Parallel(n_jobs=4)]: Done   4 out of   4 | elapsed:   11.7s finished\n"
       ]
      },
      {
       "output_type": "stream",
       "stream": "stderr",
       "text": [
        "[Parallel(n_jobs=4)]: Done   1 out of   4 | elapsed:    0.3s remaining:    0.8s\n",
        "[Parallel(n_jobs=4)]: Done   4 out of   4 | elapsed:    0.3s finished\n",
        "[Parallel(n_jobs=4)]: Done   1 out of   4 | elapsed:   12.7s remaining:   38.0s\n",
        "[Parallel(n_jobs=4)]: Done   4 out of   4 | elapsed:   12.7s finished\n"
       ]
      },
      {
       "output_type": "stream",
       "stream": "stderr",
       "text": [
        "[Parallel(n_jobs=4)]: Done   1 out of   4 | elapsed:    0.3s remaining:    0.8s\n",
        "[Parallel(n_jobs=4)]: Done   4 out of   4 | elapsed:    0.3s finished\n",
        "[Parallel(n_jobs=4)]: Done   1 out of   4 | elapsed:    8.6s remaining:   25.8s\n",
        "[Parallel(n_jobs=4)]: Done   4 out of   4 | elapsed:   10.9s finished\n"
       ]
      },
      {
       "output_type": "stream",
       "stream": "stderr",
       "text": [
        "[Parallel(n_jobs=4)]: Done   1 out of   4 | elapsed:    0.2s remaining:    0.5s\n",
        "[Parallel(n_jobs=4)]: Done   4 out of   4 | elapsed:    0.2s finished\n",
        "[Parallel(n_jobs=4)]: Done   1 out of   4 | elapsed:    8.9s remaining:   26.7s\n",
        "[Parallel(n_jobs=4)]: Done   4 out of   4 | elapsed:    9.1s finished\n"
       ]
      },
      {
       "output_type": "stream",
       "stream": "stderr",
       "text": [
        "[Parallel(n_jobs=4)]: Done   1 out of   4 | elapsed:    0.2s remaining:    0.5s\n",
        "[Parallel(n_jobs=4)]: Done   4 out of   4 | elapsed:    0.2s finished\n",
        "[Parallel(n_jobs=4)]: Done   1 out of   4 | elapsed:    8.6s remaining:   25.9s\n",
        "[Parallel(n_jobs=4)]: Done   4 out of   4 | elapsed:   10.2s finished\n"
       ]
      },
      {
       "output_type": "stream",
       "stream": "stderr",
       "text": [
        "[Parallel(n_jobs=4)]: Done   1 out of   4 | elapsed:    0.2s remaining:    0.5s\n",
        "[Parallel(n_jobs=4)]: Done   4 out of   4 | elapsed:    0.2s finished\n",
        "[Parallel(n_jobs=4)]: Done   1 out of   4 | elapsed:   11.3s remaining:   33.9s\n",
        "[Parallel(n_jobs=4)]: Done   4 out of   4 | elapsed:   11.4s finished\n"
       ]
      },
      {
       "output_type": "stream",
       "stream": "stderr",
       "text": [
        "[Parallel(n_jobs=4)]: Done   1 out of   4 | elapsed:    0.2s remaining:    0.7s\n",
        "[Parallel(n_jobs=4)]: Done   4 out of   4 | elapsed:    0.2s finished\n",
        "[Parallel(n_jobs=4)]: Done   1 out of   4 | elapsed:   10.2s remaining:   30.6s\n",
        "[Parallel(n_jobs=4)]: Done   4 out of   4 | elapsed:   11.9s finished\n"
       ]
      },
      {
       "output_type": "stream",
       "stream": "stderr",
       "text": [
        "[Parallel(n_jobs=4)]: Done   1 out of   4 | elapsed:    0.3s remaining:    0.8s\n",
        "[Parallel(n_jobs=4)]: Done   4 out of   4 | elapsed:    0.3s finished\n",
        "[Parallel(n_jobs=4)]: Done   1 out of   4 | elapsed:   10.8s remaining:   32.4s\n",
        "[Parallel(n_jobs=4)]: Done   4 out of   4 | elapsed:   12.2s finished\n"
       ]
      },
      {
       "output_type": "stream",
       "stream": "stderr",
       "text": [
        "[Parallel(n_jobs=4)]: Done   1 out of   4 | elapsed:    0.3s remaining:    0.8s\n",
        "[Parallel(n_jobs=4)]: Done   4 out of   4 | elapsed:    0.3s finished\n",
        "[Parallel(n_jobs=4)]: Done   1 out of   4 | elapsed:    4.7s remaining:   14.0s\n",
        "[Parallel(n_jobs=4)]: Done   4 out of   4 | elapsed:    5.0s finished\n"
       ]
      },
      {
       "output_type": "stream",
       "stream": "stderr",
       "text": [
        "[Parallel(n_jobs=4)]: Done   1 out of   4 | elapsed:    0.2s remaining:    0.5s\n",
        "[Parallel(n_jobs=4)]: Done   4 out of   4 | elapsed:    0.2s finished\n",
        "[Parallel(n_jobs=4)]: Done   1 out of   4 | elapsed:    4.4s remaining:   13.3s\n",
        "[Parallel(n_jobs=4)]: Done   4 out of   4 | elapsed:    5.0s finished\n"
       ]
      },
      {
       "output_type": "stream",
       "stream": "stderr",
       "text": [
        "[Parallel(n_jobs=4)]: Done   1 out of   4 | elapsed:    0.2s remaining:    0.5s\n",
        "[Parallel(n_jobs=4)]: Done   4 out of   4 | elapsed:    0.2s finished\n",
        "[Parallel(n_jobs=4)]: Done   1 out of   4 | elapsed:    5.2s remaining:   15.5s\n",
        "[Parallel(n_jobs=4)]: Done   4 out of   4 | elapsed:    5.2s finished\n"
       ]
      },
      {
       "output_type": "stream",
       "stream": "stderr",
       "text": [
        "[Parallel(n_jobs=4)]: Done   1 out of   4 | elapsed:    0.2s remaining:    0.5s\n",
        "[Parallel(n_jobs=4)]: Done   4 out of   4 | elapsed:    0.2s finished\n",
        "[Parallel(n_jobs=4)]: Done   1 out of   4 | elapsed:    5.8s remaining:   17.4s\n",
        "[Parallel(n_jobs=4)]: Done   4 out of   4 | elapsed:    6.6s finished\n"
       ]
      },
      {
       "output_type": "stream",
       "stream": "stderr",
       "text": [
        "[Parallel(n_jobs=4)]: Done   1 out of   4 | elapsed:    0.3s remaining:    0.8s\n",
        "[Parallel(n_jobs=4)]: Done   4 out of   4 | elapsed:    0.3s finished\n",
        "[Parallel(n_jobs=4)]: Done   1 out of   4 | elapsed:    5.9s remaining:   17.7s\n",
        "[Parallel(n_jobs=4)]: Done   4 out of   4 | elapsed:    6.0s finished\n"
       ]
      },
      {
       "output_type": "stream",
       "stream": "stderr",
       "text": [
        "[Parallel(n_jobs=4)]: Done   1 out of   4 | elapsed:    0.3s remaining:    0.8s\n",
        "[Parallel(n_jobs=4)]: Done   4 out of   4 | elapsed:    0.3s finished\n",
        "[Parallel(n_jobs=4)]: Done   1 out of   4 | elapsed:    5.6s remaining:   16.7s\n",
        "[Parallel(n_jobs=4)]: Done   4 out of   4 | elapsed:    6.4s finished\n"
       ]
      },
      {
       "output_type": "stream",
       "stream": "stderr",
       "text": [
        "[Parallel(n_jobs=4)]: Done   1 out of   4 | elapsed:    0.3s remaining:    0.8s\n",
        "[Parallel(n_jobs=4)]: Done   4 out of   4 | elapsed:    0.3s finished\n",
        "[Parallel(n_jobs=4)]: Done   1 out of   4 | elapsed:    5.4s remaining:   16.2s\n",
        "[Parallel(n_jobs=4)]: Done   4 out of   4 | elapsed:    6.7s finished\n"
       ]
      },
      {
       "output_type": "stream",
       "stream": "stderr",
       "text": [
        "[Parallel(n_jobs=4)]: Done   1 out of   4 | elapsed:    0.3s remaining:    0.8s\n",
        "[Parallel(n_jobs=4)]: Done   4 out of   4 | elapsed:    0.3s finished\n",
        "[Parallel(n_jobs=4)]: Done   1 out of   4 | elapsed:    5.6s remaining:   16.8s\n",
        "[Parallel(n_jobs=4)]: Done   4 out of   4 | elapsed:    6.3s finished\n"
       ]
      },
      {
       "output_type": "stream",
       "stream": "stderr",
       "text": [
        "[Parallel(n_jobs=4)]: Done   1 out of   4 | elapsed:    0.2s remaining:    0.7s\n",
        "[Parallel(n_jobs=4)]: Done   4 out of   4 | elapsed:    0.2s finished\n",
        "[Parallel(n_jobs=4)]: Done   1 out of   4 | elapsed:    6.0s remaining:   17.9s\n",
        "[Parallel(n_jobs=4)]: Done   4 out of   4 | elapsed:    6.1s finished\n"
       ]
      },
      {
       "output_type": "stream",
       "stream": "stderr",
       "text": [
        "[Parallel(n_jobs=4)]: Done   1 out of   4 | elapsed:    0.3s remaining:    0.8s\n",
        "[Parallel(n_jobs=4)]: Done   4 out of   4 | elapsed:    0.3s finished\n",
        "[Parallel(n_jobs=4)]: Done   1 out of   4 | elapsed:    4.8s remaining:   14.3s\n",
        "[Parallel(n_jobs=4)]: Done   4 out of   4 | elapsed:    5.2s finished\n"
       ]
      },
      {
       "output_type": "stream",
       "stream": "stderr",
       "text": [
        "[Parallel(n_jobs=4)]: Done   1 out of   4 | elapsed:    0.2s remaining:    0.6s\n",
        "[Parallel(n_jobs=4)]: Done   4 out of   4 | elapsed:    0.2s finished\n",
        "[Parallel(n_jobs=4)]: Done   1 out of   4 | elapsed:    4.9s remaining:   14.7s\n",
        "[Parallel(n_jobs=4)]: Done   4 out of   4 | elapsed:    5.0s finished\n"
       ]
      },
      {
       "output_type": "stream",
       "stream": "stderr",
       "text": [
        "[Parallel(n_jobs=4)]: Done   1 out of   4 | elapsed:    0.2s remaining:    0.5s\n",
        "[Parallel(n_jobs=4)]: Done   4 out of   4 | elapsed:    0.2s finished\n",
        "[Parallel(n_jobs=4)]: Done   1 out of   4 | elapsed:    5.3s remaining:   16.0s\n",
        "[Parallel(n_jobs=4)]: Done   4 out of   4 | elapsed:    5.3s finished\n"
       ]
      },
      {
       "output_type": "stream",
       "stream": "stderr",
       "text": [
        "[Parallel(n_jobs=4)]: Done   1 out of   4 | elapsed:    0.2s remaining:    0.5s\n",
        "[Parallel(n_jobs=4)]: Done   4 out of   4 | elapsed:    0.2s finished\n",
        "[Parallel(n_jobs=4)]: Done   1 out of   4 | elapsed:    0.9s remaining:    2.8s\n",
        "[Parallel(n_jobs=4)]: Done   4 out of   4 | elapsed:    1.0s finished\n"
       ]
      },
      {
       "output_type": "stream",
       "stream": "stderr",
       "text": [
        "[Parallel(n_jobs=4)]: Done   1 out of   4 | elapsed:    0.0s remaining:    0.1s\n",
        "[Parallel(n_jobs=4)]: Done   4 out of   4 | elapsed:    0.0s finished\n",
        "[Parallel(n_jobs=4)]: Done   1 out of   4 | elapsed:    0.9s remaining:    2.6s\n",
        "[Parallel(n_jobs=4)]: Done   4 out of   4 | elapsed:    1.0s finished\n"
       ]
      },
      {
       "output_type": "stream",
       "stream": "stderr",
       "text": [
        "[Parallel(n_jobs=4)]: Done   1 out of   4 | elapsed:    0.0s remaining:    0.1s\n",
        "[Parallel(n_jobs=4)]: Done   4 out of   4 | elapsed:    0.0s finished\n",
        "[Parallel(n_jobs=4)]: Done   1 out of   4 | elapsed:    0.9s remaining:    2.6s\n",
        "[Parallel(n_jobs=4)]: Done   4 out of   4 | elapsed:    1.1s finished\n"
       ]
      },
      {
       "output_type": "stream",
       "stream": "stderr",
       "text": [
        "[Parallel(n_jobs=4)]: Done   1 out of   4 | elapsed:    0.0s remaining:    0.0s\n",
        "[Parallel(n_jobs=4)]: Done   4 out of   4 | elapsed:    0.0s finished\n",
        "[Parallel(n_jobs=4)]: Done   1 out of   4 | elapsed:   11.1s remaining:   33.2s\n",
        "[Parallel(n_jobs=4)]: Done   4 out of   4 | elapsed:   12.3s finished\n"
       ]
      },
      {
       "output_type": "stream",
       "stream": "stderr",
       "text": [
        "[Parallel(n_jobs=4)]: Done   1 out of   4 | elapsed:    0.3s remaining:    0.8s\n",
        "[Parallel(n_jobs=4)]: Done   4 out of   4 | elapsed:    0.3s finished\n",
        "[Parallel(n_jobs=4)]: Done   1 out of   4 | elapsed:   10.8s remaining:   32.3s\n",
        "[Parallel(n_jobs=4)]: Done   4 out of   4 | elapsed:   11.5s finished\n"
       ]
      },
      {
       "output_type": "stream",
       "stream": "stderr",
       "text": [
        "[Parallel(n_jobs=4)]: Done   1 out of   4 | elapsed:    0.3s remaining:    0.8s\n",
        "[Parallel(n_jobs=4)]: Done   4 out of   4 | elapsed:    0.3s finished\n",
        "[Parallel(n_jobs=4)]: Done   1 out of   4 | elapsed:   10.7s remaining:   32.0s\n",
        "[Parallel(n_jobs=4)]: Done   4 out of   4 | elapsed:   12.7s finished\n"
       ]
      },
      {
       "output_type": "stream",
       "stream": "stderr",
       "text": [
        "[Parallel(n_jobs=4)]: Done   1 out of   4 | elapsed:    0.2s remaining:    0.7s\n",
        "[Parallel(n_jobs=4)]: Done   4 out of   4 | elapsed:    0.2s finished\n",
        "[Parallel(n_jobs=4)]: Done   1 out of   4 | elapsed:    0.8s remaining:    2.5s\n",
        "[Parallel(n_jobs=4)]: Done   4 out of   4 | elapsed:    0.9s finished\n"
       ]
      },
      {
       "output_type": "stream",
       "stream": "stderr",
       "text": [
        "[Parallel(n_jobs=4)]: Done   1 out of   4 | elapsed:    0.0s remaining:    0.1s\n",
        "[Parallel(n_jobs=4)]: Done   4 out of   4 | elapsed:    0.0s finished\n",
        "[Parallel(n_jobs=4)]: Done   1 out of   4 | elapsed:    0.8s remaining:    2.3s\n",
        "[Parallel(n_jobs=4)]: Done   4 out of   4 | elapsed:    0.9s finished\n"
       ]
      },
      {
       "output_type": "stream",
       "stream": "stderr",
       "text": [
        "[Parallel(n_jobs=4)]: Done   1 out of   4 | elapsed:    0.0s remaining:    0.1s\n",
        "[Parallel(n_jobs=4)]: Done   4 out of   4 | elapsed:    0.0s finished\n",
        "[Parallel(n_jobs=4)]: Done   1 out of   4 | elapsed:    0.9s remaining:    2.7s\n",
        "[Parallel(n_jobs=4)]: Done   4 out of   4 | elapsed:    0.9s finished\n"
       ]
      },
      {
       "output_type": "stream",
       "stream": "stderr",
       "text": [
        "[Parallel(n_jobs=4)]: Done   1 out of   4 | elapsed:    0.0s remaining:    0.1s\n",
        "[Parallel(n_jobs=4)]: Done   4 out of   4 | elapsed:    0.0s finished\n",
        "[Parallel(n_jobs=4)]: Done   1 out of   4 | elapsed:    3.6s remaining:   10.8s\n",
        "[Parallel(n_jobs=4)]: Done   4 out of   4 | elapsed:    4.0s finished\n"
       ]
      },
      {
       "output_type": "stream",
       "stream": "stderr",
       "text": [
        "[Parallel(n_jobs=4)]: Done   1 out of   4 | elapsed:    0.1s remaining:    0.4s\n",
        "[Parallel(n_jobs=4)]: Done   4 out of   4 | elapsed:    0.1s finished\n",
        "[Parallel(n_jobs=4)]: Done   1 out of   4 | elapsed:    3.9s remaining:   11.8s\n",
        "[Parallel(n_jobs=4)]: Done   4 out of   4 | elapsed:    3.9s finished\n"
       ]
      },
      {
       "output_type": "stream",
       "stream": "stderr",
       "text": [
        "[Parallel(n_jobs=4)]: Done   1 out of   4 | elapsed:    0.1s remaining:    0.4s\n",
        "[Parallel(n_jobs=4)]: Done   4 out of   4 | elapsed:    0.1s finished\n",
        "[Parallel(n_jobs=4)]: Done   1 out of   4 | elapsed:    3.6s remaining:   10.8s\n",
        "[Parallel(n_jobs=4)]: Done   4 out of   4 | elapsed:    4.0s finished\n"
       ]
      },
      {
       "output_type": "stream",
       "stream": "stderr",
       "text": [
        "[Parallel(n_jobs=4)]: Done   1 out of   4 | elapsed:    0.1s remaining:    0.4s\n",
        "[Parallel(n_jobs=4)]: Done   4 out of   4 | elapsed:    0.1s finished\n",
        "[Parallel(n_jobs=4)]: Done   1 out of   4 | elapsed:    3.5s remaining:   10.4s\n",
        "[Parallel(n_jobs=4)]: Done   4 out of   4 | elapsed:    3.5s finished\n"
       ]
      },
      {
       "output_type": "stream",
       "stream": "stderr",
       "text": [
        "[Parallel(n_jobs=4)]: Done   1 out of   4 | elapsed:    0.1s remaining:    0.4s\n",
        "[Parallel(n_jobs=4)]: Done   4 out of   4 | elapsed:    0.1s finished\n",
        "[Parallel(n_jobs=4)]: Done   1 out of   4 | elapsed:    3.0s remaining:    9.1s\n",
        "[Parallel(n_jobs=4)]: Done   4 out of   4 | elapsed:    3.4s finished\n"
       ]
      },
      {
       "output_type": "stream",
       "stream": "stderr",
       "text": [
        "[Parallel(n_jobs=4)]: Done   1 out of   4 | elapsed:    0.1s remaining:    0.4s\n",
        "[Parallel(n_jobs=4)]: Done   4 out of   4 | elapsed:    0.1s finished\n",
        "[Parallel(n_jobs=4)]: Done   1 out of   4 | elapsed:    3.0s remaining:    9.1s\n",
        "[Parallel(n_jobs=4)]: Done   4 out of   4 | elapsed:    3.3s finished\n"
       ]
      },
      {
       "output_type": "stream",
       "stream": "stderr",
       "text": [
        "[Parallel(n_jobs=4)]: Done   1 out of   4 | elapsed:    0.1s remaining:    0.4s\n",
        "[Parallel(n_jobs=4)]: Done   4 out of   4 | elapsed:    0.1s finished\n",
        "[Parallel(n_jobs=4)]: Done   1 out of   4 | elapsed:    5.2s remaining:   15.5s\n",
        "[Parallel(n_jobs=4)]: Done   4 out of   4 | elapsed:    6.3s finished\n"
       ]
      },
      {
       "output_type": "stream",
       "stream": "stderr",
       "text": [
        "[Parallel(n_jobs=4)]: Done   1 out of   4 | elapsed:    0.1s remaining:    0.3s\n",
        "[Parallel(n_jobs=4)]: Done   4 out of   4 | elapsed:    0.1s finished\n",
        "[Parallel(n_jobs=4)]: Done   1 out of   4 | elapsed:    5.3s remaining:   15.9s\n",
        "[Parallel(n_jobs=4)]: Done   4 out of   4 | elapsed:    5.3s finished\n"
       ]
      },
      {
       "output_type": "stream",
       "stream": "stderr",
       "text": [
        "[Parallel(n_jobs=4)]: Done   1 out of   4 | elapsed:    0.1s remaining:    0.3s\n",
        "[Parallel(n_jobs=4)]: Done   4 out of   4 | elapsed:    0.1s finished\n",
        "[Parallel(n_jobs=4)]: Done   1 out of   4 | elapsed:    6.2s remaining:   18.6s\n",
        "[Parallel(n_jobs=4)]: Done   4 out of   4 | elapsed:    6.2s finished\n"
       ]
      },
      {
       "output_type": "stream",
       "stream": "stderr",
       "text": [
        "[Parallel(n_jobs=4)]: Done   1 out of   4 | elapsed:    0.1s remaining:    0.3s\n",
        "[Parallel(n_jobs=4)]: Done   4 out of   4 | elapsed:    0.1s finished\n",
        "[Parallel(n_jobs=4)]: Done   1 out of   4 | elapsed:   10.6s remaining:   31.7s\n",
        "[Parallel(n_jobs=4)]: Done   4 out of   4 | elapsed:   11.6s finished\n"
       ]
      },
      {
       "output_type": "stream",
       "stream": "stderr",
       "text": [
        "[Parallel(n_jobs=4)]: Done   1 out of   4 | elapsed:    0.3s remaining:    0.8s\n",
        "[Parallel(n_jobs=4)]: Done   4 out of   4 | elapsed:    0.3s finished\n",
        "[Parallel(n_jobs=4)]: Done   1 out of   4 | elapsed:   11.6s remaining:   34.7s\n",
        "[Parallel(n_jobs=4)]: Done   4 out of   4 | elapsed:   11.6s finished\n"
       ]
      },
      {
       "output_type": "stream",
       "stream": "stderr",
       "text": [
        "[Parallel(n_jobs=4)]: Done   1 out of   4 | elapsed:    0.3s remaining:    0.8s\n",
        "[Parallel(n_jobs=4)]: Done   4 out of   4 | elapsed:    0.3s finished\n",
        "[Parallel(n_jobs=4)]: Done   1 out of   4 | elapsed:   11.3s remaining:   33.8s\n",
        "[Parallel(n_jobs=4)]: Done   4 out of   4 | elapsed:   11.3s finished\n"
       ]
      },
      {
       "output_type": "stream",
       "stream": "stderr",
       "text": [
        "[Parallel(n_jobs=4)]: Done   1 out of   4 | elapsed:    0.3s remaining:    0.8s\n",
        "[Parallel(n_jobs=4)]: Done   4 out of   4 | elapsed:    0.3s finished\n",
        "[Parallel(n_jobs=4)]: Done   1 out of   4 | elapsed:    7.7s remaining:   23.1s\n",
        "[Parallel(n_jobs=4)]: Done   4 out of   4 | elapsed:    7.7s finished\n"
       ]
      },
      {
       "output_type": "stream",
       "stream": "stderr",
       "text": [
        "[Parallel(n_jobs=4)]: Done   1 out of   4 | elapsed:    0.1s remaining:    0.4s\n",
        "[Parallel(n_jobs=4)]: Done   4 out of   4 | elapsed:    0.1s finished\n",
        "[Parallel(n_jobs=4)]: Done   1 out of   4 | elapsed:    6.4s remaining:   19.2s\n",
        "[Parallel(n_jobs=4)]: Done   4 out of   4 | elapsed:    7.1s finished\n"
       ]
      },
      {
       "output_type": "stream",
       "stream": "stderr",
       "text": [
        "[Parallel(n_jobs=4)]: Done   1 out of   4 | elapsed:    0.1s remaining:    0.4s\n",
        "[Parallel(n_jobs=4)]: Done   4 out of   4 | elapsed:    0.1s finished\n",
        "[Parallel(n_jobs=4)]: Done   1 out of   4 | elapsed:    6.8s remaining:   20.5s\n",
        "[Parallel(n_jobs=4)]: Done   4 out of   4 | elapsed:    7.7s finished\n"
       ]
      },
      {
       "output_type": "stream",
       "stream": "stderr",
       "text": [
        "[Parallel(n_jobs=4)]: Done   1 out of   4 | elapsed:    0.1s remaining:    0.4s\n",
        "[Parallel(n_jobs=4)]: Done   4 out of   4 | elapsed:    0.1s finished\n",
        "[Parallel(n_jobs=4)]: Done   1 out of   4 | elapsed:    8.0s remaining:   24.1s\n",
        "[Parallel(n_jobs=4)]: Done   4 out of   4 | elapsed:    9.1s finished\n"
       ]
      },
      {
       "output_type": "stream",
       "stream": "stderr",
       "text": [
        "[Parallel(n_jobs=4)]: Done   1 out of   4 | elapsed:    0.2s remaining:    0.5s\n",
        "[Parallel(n_jobs=4)]: Done   4 out of   4 | elapsed:    0.2s finished\n",
        "[Parallel(n_jobs=4)]: Done   1 out of   4 | elapsed:    7.8s remaining:   23.4s\n",
        "[Parallel(n_jobs=4)]: Done   4 out of   4 | elapsed:    8.5s finished\n"
       ]
      },
      {
       "output_type": "stream",
       "stream": "stderr",
       "text": [
        "[Parallel(n_jobs=4)]: Done   1 out of   4 | elapsed:    0.2s remaining:    0.5s\n",
        "[Parallel(n_jobs=4)]: Done   4 out of   4 | elapsed:    0.2s finished\n",
        "[Parallel(n_jobs=4)]: Done   1 out of   4 | elapsed:    8.5s remaining:   25.6s\n",
        "[Parallel(n_jobs=4)]: Done   4 out of   4 | elapsed:    8.5s finished\n"
       ]
      },
      {
       "output_type": "stream",
       "stream": "stderr",
       "text": [
        "[Parallel(n_jobs=4)]: Done   1 out of   4 | elapsed:    0.2s remaining:    0.5s\n",
        "[Parallel(n_jobs=4)]: Done   4 out of   4 | elapsed:    0.2s finished\n",
        "[Parallel(n_jobs=4)]: Done   1 out of   4 | elapsed:    4.4s remaining:   13.2s\n",
        "[Parallel(n_jobs=4)]: Done   4 out of   4 | elapsed:    4.7s finished\n"
       ]
      },
      {
       "output_type": "stream",
       "stream": "stderr",
       "text": [
        "[Parallel(n_jobs=4)]: Done   1 out of   4 | elapsed:    0.2s remaining:    0.5s\n",
        "[Parallel(n_jobs=4)]: Done   4 out of   4 | elapsed:    0.2s finished\n",
        "[Parallel(n_jobs=4)]: Done   1 out of   4 | elapsed:    4.2s remaining:   12.5s\n",
        "[Parallel(n_jobs=4)]: Done   4 out of   4 | elapsed:    4.9s finished\n"
       ]
      },
      {
       "output_type": "stream",
       "stream": "stderr",
       "text": [
        "[Parallel(n_jobs=4)]: Done   1 out of   4 | elapsed:    0.2s remaining:    0.6s\n",
        "[Parallel(n_jobs=4)]: Done   4 out of   4 | elapsed:    0.2s finished\n",
        "[Parallel(n_jobs=4)]: Done   1 out of   4 | elapsed:    4.5s remaining:   13.5s\n",
        "[Parallel(n_jobs=4)]: Done   4 out of   4 | elapsed:    4.8s finished\n"
       ]
      },
      {
       "output_type": "stream",
       "stream": "stderr",
       "text": [
        "[Parallel(n_jobs=4)]: Done   1 out of   4 | elapsed:    0.2s remaining:    0.5s\n",
        "[Parallel(n_jobs=4)]: Done   4 out of   4 | elapsed:    0.2s finished\n",
        "[Parallel(n_jobs=4)]: Done   1 out of   4 | elapsed:   11.6s remaining:   34.7s\n",
        "[Parallel(n_jobs=4)]: Done   4 out of   4 | elapsed:   12.2s finished\n"
       ]
      },
      {
       "output_type": "stream",
       "stream": "stderr",
       "text": [
        "[Parallel(n_jobs=4)]: Done   1 out of   4 | elapsed:    0.3s remaining:    0.9s\n",
        "[Parallel(n_jobs=4)]: Done   4 out of   4 | elapsed:    0.3s finished\n",
        "[Parallel(n_jobs=4)]: Done   1 out of   4 | elapsed:   11.2s remaining:   33.5s\n",
        "[Parallel(n_jobs=4)]: Done   4 out of   4 | elapsed:   12.7s finished\n"
       ]
      },
      {
       "output_type": "stream",
       "stream": "stderr",
       "text": [
        "[Parallel(n_jobs=4)]: Done   1 out of   4 | elapsed:    0.3s remaining:    0.8s\n",
        "[Parallel(n_jobs=4)]: Done   4 out of   4 | elapsed:    0.3s finished\n",
        "[Parallel(n_jobs=4)]: Done   1 out of   4 | elapsed:   12.7s remaining:   38.1s\n",
        "[Parallel(n_jobs=4)]: Done   4 out of   4 | elapsed:   12.7s finished\n"
       ]
      },
      {
       "output_type": "stream",
       "stream": "stderr",
       "text": [
        "[Parallel(n_jobs=4)]: Done   1 out of   4 | elapsed:    0.3s remaining:    0.8s\n",
        "[Parallel(n_jobs=4)]: Done   4 out of   4 | elapsed:    0.3s finished\n",
        "[Parallel(n_jobs=4)]: Done   1 out of   4 | elapsed:    5.7s remaining:   17.0s\n",
        "[Parallel(n_jobs=4)]: Done   4 out of   4 | elapsed:    6.0s finished\n"
       ]
      },
      {
       "output_type": "stream",
       "stream": "stderr",
       "text": [
        "[Parallel(n_jobs=4)]: Done   1 out of   4 | elapsed:    0.2s remaining:    0.7s\n",
        "[Parallel(n_jobs=4)]: Done   4 out of   4 | elapsed:    0.2s finished\n",
        "[Parallel(n_jobs=4)]: Done   1 out of   4 | elapsed:    5.5s remaining:   16.6s\n",
        "[Parallel(n_jobs=4)]: Done   4 out of   4 | elapsed:    5.7s finished\n"
       ]
      },
      {
       "output_type": "stream",
       "stream": "stderr",
       "text": [
        "[Parallel(n_jobs=4)]: Done   1 out of   4 | elapsed:    0.3s remaining:    0.8s\n",
        "[Parallel(n_jobs=4)]: Done   4 out of   4 | elapsed:    0.3s finished\n",
        "[Parallel(n_jobs=4)]: Done   1 out of   4 | elapsed:    5.5s remaining:   16.6s\n",
        "[Parallel(n_jobs=4)]: Done   4 out of   4 | elapsed:    6.2s finished\n"
       ]
      },
      {
       "output_type": "stream",
       "stream": "stderr",
       "text": [
        "[Parallel(n_jobs=4)]: Done   1 out of   4 | elapsed:    0.3s remaining:    0.8s\n",
        "[Parallel(n_jobs=4)]: Done   4 out of   4 | elapsed:    0.3s finished\n",
        "[Parallel(n_jobs=4)]: Done   1 out of   4 | elapsed:    2.1s remaining:    6.2s\n",
        "[Parallel(n_jobs=4)]: Done   4 out of   4 | elapsed:    2.1s finished\n"
       ]
      },
      {
       "output_type": "stream",
       "stream": "stderr",
       "text": [
        "[Parallel(n_jobs=4)]: Done   1 out of   4 | elapsed:    0.1s remaining:    0.2s\n",
        "[Parallel(n_jobs=4)]: Done   4 out of   4 | elapsed:    0.1s finished\n",
        "[Parallel(n_jobs=4)]: Done   1 out of   4 | elapsed:    1.6s remaining:    4.9s\n",
        "[Parallel(n_jobs=4)]: Done   4 out of   4 | elapsed:    2.0s finished\n"
       ]
      },
      {
       "output_type": "stream",
       "stream": "stderr",
       "text": [
        "[Parallel(n_jobs=4)]: Done   1 out of   4 | elapsed:    0.1s remaining:    0.2s\n",
        "[Parallel(n_jobs=4)]: Done   4 out of   4 | elapsed:    0.1s finished\n",
        "[Parallel(n_jobs=4)]: Done   1 out of   4 | elapsed:    1.9s remaining:    5.7s\n",
        "[Parallel(n_jobs=4)]: Done   4 out of   4 | elapsed:    1.9s finished\n"
       ]
      },
      {
       "output_type": "stream",
       "stream": "stderr",
       "text": [
        "[Parallel(n_jobs=4)]: Done   1 out of   4 | elapsed:    0.1s remaining:    0.2s\n",
        "[Parallel(n_jobs=4)]: Done   4 out of   4 | elapsed:    0.1s finished\n",
        "[Parallel(n_jobs=4)]: Done   1 out of   4 | elapsed:    4.9s remaining:   14.8s\n",
        "[Parallel(n_jobs=4)]: Done   4 out of   4 | elapsed:    4.9s finished\n"
       ]
      },
      {
       "output_type": "stream",
       "stream": "stderr",
       "text": [
        "[Parallel(n_jobs=4)]: Done   1 out of   4 | elapsed:    0.1s remaining:    0.3s\n",
        "[Parallel(n_jobs=4)]: Done   4 out of   4 | elapsed:    0.1s finished\n",
        "[Parallel(n_jobs=4)]: Done   1 out of   4 | elapsed:    4.8s remaining:   14.3s\n",
        "[Parallel(n_jobs=4)]: Done   4 out of   4 | elapsed:    5.3s finished\n"
       ]
      },
      {
       "output_type": "stream",
       "stream": "stderr",
       "text": [
        "[Parallel(n_jobs=4)]: Done   1 out of   4 | elapsed:    0.1s remaining:    0.3s\n",
        "[Parallel(n_jobs=4)]: Done   4 out of   4 | elapsed:    0.1s finished\n",
        "[Parallel(n_jobs=4)]: Done   1 out of   4 | elapsed:    5.0s remaining:   15.0s\n",
        "[Parallel(n_jobs=4)]: Done   4 out of   4 | elapsed:    5.4s finished\n"
       ]
      },
      {
       "output_type": "stream",
       "stream": "stderr",
       "text": [
        "[Parallel(n_jobs=4)]: Done   1 out of   4 | elapsed:    0.1s remaining:    0.3s\n",
        "[Parallel(n_jobs=4)]: Done   4 out of   4 | elapsed:    0.1s finished\n",
        "[Parallel(n_jobs=4)]: Done   1 out of   4 | elapsed:    0.9s remaining:    2.7s\n",
        "[Parallel(n_jobs=4)]: Done   4 out of   4 | elapsed:    1.0s finished\n"
       ]
      },
      {
       "output_type": "stream",
       "stream": "stderr",
       "text": [
        "[Parallel(n_jobs=4)]: Done   1 out of   4 | elapsed:    0.0s remaining:    0.1s\n",
        "[Parallel(n_jobs=4)]: Done   4 out of   4 | elapsed:    0.0s finished\n",
        "[Parallel(n_jobs=4)]: Done   1 out of   4 | elapsed:    0.9s remaining:    2.8s\n",
        "[Parallel(n_jobs=4)]: Done   4 out of   4 | elapsed:    1.2s finished\n"
       ]
      },
      {
       "output_type": "stream",
       "stream": "stderr",
       "text": [
        "[Parallel(n_jobs=4)]: Done   1 out of   2 | elapsed:    0.0s remaining:    0.0s\n",
        "[Parallel(n_jobs=4)]: Done   4 out of   4 | elapsed:    0.0s finished\n",
        "[Parallel(n_jobs=4)]: Done   1 out of   4 | elapsed:    0.9s remaining:    2.8s\n",
        "[Parallel(n_jobs=4)]: Done   4 out of   4 | elapsed:    1.0s finished\n"
       ]
      },
      {
       "output_type": "stream",
       "stream": "stderr",
       "text": [
        "[Parallel(n_jobs=4)]: Done   1 out of   4 | elapsed:    0.0s remaining:    0.1s\n",
        "[Parallel(n_jobs=4)]: Done   4 out of   4 | elapsed:    0.0s finished\n",
        "[Parallel(n_jobs=4)]: Done   1 out of   4 | elapsed:    0.3s remaining:    1.0s\n",
        "[Parallel(n_jobs=4)]: Done   4 out of   4 | elapsed:    0.3s finished\n"
       ]
      },
      {
       "output_type": "stream",
       "stream": "stderr",
       "text": [
        "[Parallel(n_jobs=4)]: Done   1 out of   4 | elapsed:    0.0s remaining:    0.0s\n",
        "[Parallel(n_jobs=4)]: Done   4 out of   4 | elapsed:    0.0s finished\n",
        "[Parallel(n_jobs=4)]: Done   1 out of   4 | elapsed:    0.3s remaining:    1.0s\n",
        "[Parallel(n_jobs=4)]: Done   4 out of   4 | elapsed:    0.3s finished\n"
       ]
      },
      {
       "output_type": "stream",
       "stream": "stderr",
       "text": [
        "[Parallel(n_jobs=4)]: Done   1 out of   4 | elapsed:    0.0s remaining:    0.0s\n",
        "[Parallel(n_jobs=4)]: Done   4 out of   4 | elapsed:    0.0s finished\n",
        "[Parallel(n_jobs=4)]: Done   1 out of   4 | elapsed:    0.3s remaining:    1.0s\n",
        "[Parallel(n_jobs=4)]: Done   4 out of   4 | elapsed:    0.3s finished\n"
       ]
      },
      {
       "output_type": "stream",
       "stream": "stderr",
       "text": [
        "[Parallel(n_jobs=4)]: Done   1 out of   4 | elapsed:    0.0s remaining:    0.0s\n",
        "[Parallel(n_jobs=4)]: Done   4 out of   4 | elapsed:    0.0s finished\n",
        "[Parallel(n_jobs=4)]: Done   1 out of   4 | elapsed:    5.7s remaining:   17.1s\n",
        "[Parallel(n_jobs=4)]: Done   4 out of   4 | elapsed:    6.2s finished\n"
       ]
      },
      {
       "output_type": "stream",
       "stream": "stderr",
       "text": [
        "[Parallel(n_jobs=4)]: Done   1 out of   4 | elapsed:    0.3s remaining:    0.8s\n",
        "[Parallel(n_jobs=4)]: Done   4 out of   4 | elapsed:    0.3s finished\n",
        "[Parallel(n_jobs=4)]: Done   1 out of   4 | elapsed:    5.9s remaining:   17.6s\n",
        "[Parallel(n_jobs=4)]: Done   4 out of   4 | elapsed:    6.5s finished\n"
       ]
      },
      {
       "output_type": "stream",
       "stream": "stderr",
       "text": [
        "[Parallel(n_jobs=4)]: Done   1 out of   4 | elapsed:    0.3s remaining:    0.8s\n",
        "[Parallel(n_jobs=4)]: Done   4 out of   4 | elapsed:    0.3s finished\n",
        "[Parallel(n_jobs=4)]: Done   1 out of   4 | elapsed:    5.8s remaining:   17.3s\n",
        "[Parallel(n_jobs=4)]: Done   4 out of   4 | elapsed:    6.1s finished\n"
       ]
      },
      {
       "output_type": "stream",
       "stream": "stderr",
       "text": [
        "[Parallel(n_jobs=4)]: Done   1 out of   4 | elapsed:    0.3s remaining:    0.8s\n",
        "[Parallel(n_jobs=4)]: Done   4 out of   4 | elapsed:    0.3s finished\n",
        "[Parallel(n_jobs=4)]: Done   1 out of   4 | elapsed:    1.1s remaining:    3.4s\n",
        "[Parallel(n_jobs=4)]: Done   4 out of   4 | elapsed:    1.3s finished\n"
       ]
      },
      {
       "output_type": "stream",
       "stream": "stderr",
       "text": [
        "[Parallel(n_jobs=4)]: Done   1 out of   4 | elapsed:    0.0s remaining:    0.1s\n",
        "[Parallel(n_jobs=4)]: Done   4 out of   4 | elapsed:    0.0s finished\n",
        "[Parallel(n_jobs=4)]: Done   1 out of   4 | elapsed:    1.2s remaining:    3.5s\n",
        "[Parallel(n_jobs=4)]: Done   4 out of   4 | elapsed:    1.3s finished\n"
       ]
      },
      {
       "output_type": "stream",
       "stream": "stderr",
       "text": [
        "[Parallel(n_jobs=4)]: Done   1 out of   4 | elapsed:    0.0s remaining:    0.1s\n",
        "[Parallel(n_jobs=4)]: Done   4 out of   4 | elapsed:    0.0s finished\n",
        "[Parallel(n_jobs=4)]: Done   1 out of   4 | elapsed:    1.2s remaining:    3.6s\n",
        "[Parallel(n_jobs=4)]: Done   4 out of   4 | elapsed:    1.2s finished\n"
       ]
      },
      {
       "output_type": "stream",
       "stream": "stderr",
       "text": [
        "[Parallel(n_jobs=4)]: Done   1 out of   4 | elapsed:    0.1s remaining:    0.2s\n",
        "[Parallel(n_jobs=4)]: Done   4 out of   4 | elapsed:    0.1s finished\n",
        "[Parallel(n_jobs=4)]: Done   1 out of   4 | elapsed:    5.6s remaining:   16.8s\n",
        "[Parallel(n_jobs=4)]: Done   4 out of   4 | elapsed:    5.8s finished\n"
       ]
      },
      {
       "output_type": "stream",
       "stream": "stderr",
       "text": [
        "[Parallel(n_jobs=4)]: Done   1 out of   4 | elapsed:    0.3s remaining:    0.8s\n",
        "[Parallel(n_jobs=4)]: Done   4 out of   4 | elapsed:    0.3s finished\n",
        "[Parallel(n_jobs=4)]: Done   1 out of   4 | elapsed:    6.1s remaining:   18.4s\n",
        "[Parallel(n_jobs=4)]: Done   4 out of   4 | elapsed:    6.1s finished\n"
       ]
      },
      {
       "output_type": "stream",
       "stream": "stderr",
       "text": [
        "[Parallel(n_jobs=4)]: Done   1 out of   4 | elapsed:    0.3s remaining:    0.8s\n",
        "[Parallel(n_jobs=4)]: Done   4 out of   4 | elapsed:    0.3s finished\n",
        "[Parallel(n_jobs=4)]: Done   1 out of   4 | elapsed:    5.7s remaining:   17.2s\n",
        "[Parallel(n_jobs=4)]: Done   4 out of   4 | elapsed:    5.9s finished\n"
       ]
      },
      {
       "output_type": "stream",
       "stream": "stderr",
       "text": [
        "[Parallel(n_jobs=4)]: Done   1 out of   4 | elapsed:    0.2s remaining:    0.7s\n",
        "[Parallel(n_jobs=4)]: Done   4 out of   4 | elapsed:    0.2s finished\n",
        "[Parallel(n_jobs=4)]: Done   1 out of   4 | elapsed:    5.7s remaining:   17.1s\n",
        "[Parallel(n_jobs=4)]: Done   4 out of   4 | elapsed:    6.5s finished\n"
       ]
      },
      {
       "output_type": "stream",
       "stream": "stderr",
       "text": [
        "[Parallel(n_jobs=4)]: Done   1 out of   4 | elapsed:    0.3s remaining:    0.8s\n",
        "[Parallel(n_jobs=4)]: Done   4 out of   4 | elapsed:    0.3s finished\n",
        "[Parallel(n_jobs=4)]: Done   1 out of   4 | elapsed:    5.5s remaining:   16.4s\n",
        "[Parallel(n_jobs=4)]: Done   4 out of   4 | elapsed:    6.4s finished\n"
       ]
      },
      {
       "output_type": "stream",
       "stream": "stderr",
       "text": [
        "[Parallel(n_jobs=4)]: Done   1 out of   4 | elapsed:    0.3s remaining:    0.8s\n",
        "[Parallel(n_jobs=4)]: Done   4 out of   4 | elapsed:    0.3s finished\n",
        "[Parallel(n_jobs=4)]: Done   1 out of   4 | elapsed:    5.7s remaining:   17.2s\n",
        "[Parallel(n_jobs=4)]: Done   4 out of   4 | elapsed:    6.6s finished\n"
       ]
      },
      {
       "output_type": "stream",
       "stream": "stderr",
       "text": [
        "[Parallel(n_jobs=4)]: Done   1 out of   4 | elapsed:    0.3s remaining:    0.8s\n",
        "[Parallel(n_jobs=4)]: Done   4 out of   4 | elapsed:    0.3s finished\n",
        "[Parallel(n_jobs=4)]: Done   1 out of   4 | elapsed:    2.5s remaining:    7.5s\n",
        "[Parallel(n_jobs=4)]: Done   4 out of   4 | elapsed:    2.5s finished\n"
       ]
      },
      {
       "output_type": "stream",
       "stream": "stderr",
       "text": [
        "[Parallel(n_jobs=4)]: Done   1 out of   4 | elapsed:    0.1s remaining:    0.3s\n",
        "[Parallel(n_jobs=4)]: Done   4 out of   4 | elapsed:    0.1s finished\n",
        "[Parallel(n_jobs=4)]: Done   1 out of   4 | elapsed:    2.1s remaining:    6.4s\n",
        "[Parallel(n_jobs=4)]: Done   4 out of   4 | elapsed:    2.3s finished\n"
       ]
      },
      {
       "output_type": "stream",
       "stream": "stderr",
       "text": [
        "[Parallel(n_jobs=4)]: Done   1 out of   4 | elapsed:    0.1s remaining:    0.3s\n",
        "[Parallel(n_jobs=4)]: Done   4 out of   4 | elapsed:    0.1s finished\n",
        "[Parallel(n_jobs=4)]: Done   1 out of   4 | elapsed:    2.2s remaining:    6.5s\n",
        "[Parallel(n_jobs=4)]: Done   4 out of   4 | elapsed:    2.6s finished\n"
       ]
      },
      {
       "output_type": "stream",
       "stream": "stderr",
       "text": [
        "[Parallel(n_jobs=4)]: Done   1 out of   4 | elapsed:    0.1s remaining:    0.3s\n",
        "[Parallel(n_jobs=4)]: Done   4 out of   4 | elapsed:    0.1s finished\n",
        "[Parallel(n_jobs=4)]: Done   1 out of   4 | elapsed:    0.9s remaining:    2.6s\n",
        "[Parallel(n_jobs=4)]: Done   4 out of   4 | elapsed:    1.0s finished\n"
       ]
      },
      {
       "output_type": "stream",
       "stream": "stderr",
       "text": [
        "[Parallel(n_jobs=4)]: Done   1 out of   4 | elapsed:    0.0s remaining:    0.1s\n",
        "[Parallel(n_jobs=4)]: Done   4 out of   4 | elapsed:    0.0s finished\n",
        "[Parallel(n_jobs=4)]: Done   1 out of   4 | elapsed:    0.9s remaining:    2.7s\n",
        "[Parallel(n_jobs=4)]: Done   4 out of   4 | elapsed:    0.9s finished\n"
       ]
      },
      {
       "output_type": "stream",
       "stream": "stderr",
       "text": [
        "[Parallel(n_jobs=4)]: Done   1 out of   4 | elapsed:    0.0s remaining:    0.1s\n",
        "[Parallel(n_jobs=4)]: Done   4 out of   4 | elapsed:    0.0s finished\n",
        "[Parallel(n_jobs=4)]: Done   1 out of   4 | elapsed:    0.9s remaining:    2.6s\n",
        "[Parallel(n_jobs=4)]: Done   4 out of   4 | elapsed:    0.9s finished\n"
       ]
      },
      {
       "output_type": "stream",
       "stream": "stderr",
       "text": [
        "[Parallel(n_jobs=4)]: Done   1 out of   4 | elapsed:    0.0s remaining:    0.1s\n",
        "[Parallel(n_jobs=4)]: Done   4 out of   4 | elapsed:    0.0s finished\n",
        "[Parallel(n_jobs=4)]: Done   1 out of   4 | elapsed:    3.2s remaining:    9.6s\n",
        "[Parallel(n_jobs=4)]: Done   4 out of   4 | elapsed:    3.2s finished\n"
       ]
      },
      {
       "output_type": "stream",
       "stream": "stderr",
       "text": [
        "[Parallel(n_jobs=4)]: Done   1 out of   4 | elapsed:    0.1s remaining:    0.3s\n",
        "[Parallel(n_jobs=4)]: Done   4 out of   4 | elapsed:    0.1s finished\n",
        "[Parallel(n_jobs=4)]: Done   1 out of   4 | elapsed:    3.0s remaining:    9.1s\n",
        "[Parallel(n_jobs=4)]: Done   4 out of   4 | elapsed:    3.4s finished\n"
       ]
      },
      {
       "output_type": "stream",
       "stream": "stderr",
       "text": [
        "[Parallel(n_jobs=4)]: Done   1 out of   4 | elapsed:    0.1s remaining:    0.4s\n",
        "[Parallel(n_jobs=4)]: Done   4 out of   4 | elapsed:    0.1s finished\n",
        "[Parallel(n_jobs=4)]: Done   1 out of   4 | elapsed:    3.0s remaining:    8.9s\n",
        "[Parallel(n_jobs=4)]: Done   4 out of   4 | elapsed:    3.5s finished\n"
       ]
      },
      {
       "output_type": "stream",
       "stream": "stderr",
       "text": [
        "[Parallel(n_jobs=4)]: Done   1 out of   4 | elapsed:    0.1s remaining:    0.4s\n",
        "[Parallel(n_jobs=4)]: Done   4 out of   4 | elapsed:    0.1s finished\n",
        "[Parallel(n_jobs=4)]: Done   1 out of   4 | elapsed:    0.4s remaining:    1.3s\n",
        "[Parallel(n_jobs=4)]: Done   4 out of   4 | elapsed:    0.5s finished\n"
       ]
      },
      {
       "output_type": "stream",
       "stream": "stderr",
       "text": [
        "[Parallel(n_jobs=4)]: Done   1 out of   4 | elapsed:    0.0s remaining:    0.1s\n",
        "[Parallel(n_jobs=4)]: Done   4 out of   4 | elapsed:    0.0s finished\n",
        "[Parallel(n_jobs=4)]: Done   1 out of   4 | elapsed:    0.5s remaining:    1.6s\n",
        "[Parallel(n_jobs=4)]: Done   4 out of   4 | elapsed:    0.5s finished\n"
       ]
      },
      {
       "output_type": "stream",
       "stream": "stderr",
       "text": [
        "[Parallel(n_jobs=4)]: Done   1 out of   4 | elapsed:    0.0s remaining:    0.1s\n",
        "[Parallel(n_jobs=4)]: Done   4 out of   4 | elapsed:    0.0s finished\n",
        "[Parallel(n_jobs=4)]: Done   1 out of   4 | elapsed:    0.4s remaining:    1.2s\n",
        "[Parallel(n_jobs=4)]: Done   4 out of   4 | elapsed:    0.5s finished\n"
       ]
      },
      {
       "output_type": "stream",
       "stream": "stderr",
       "text": [
        "[Parallel(n_jobs=4)]: Done   1 out of   4 | elapsed:    0.0s remaining:    0.1s\n",
        "[Parallel(n_jobs=4)]: Done   4 out of   4 | elapsed:    0.0s finished\n",
        "[Parallel(n_jobs=4)]: Done   1 out of   4 | elapsed:    3.1s remaining:    9.4s\n",
        "[Parallel(n_jobs=4)]: Done   4 out of   4 | elapsed:    3.7s finished\n"
       ]
      },
      {
       "output_type": "stream",
       "stream": "stderr",
       "text": [
        "[Parallel(n_jobs=4)]: Done   1 out of   4 | elapsed:    0.1s remaining:    0.2s\n",
        "[Parallel(n_jobs=4)]: Done   4 out of   4 | elapsed:    0.1s finished\n",
        "[Parallel(n_jobs=4)]: Done   1 out of   4 | elapsed:    3.3s remaining:    9.9s\n",
        "[Parallel(n_jobs=4)]: Done   4 out of   4 | elapsed:    3.6s finished\n"
       ]
      },
      {
       "output_type": "stream",
       "stream": "stderr",
       "text": [
        "[Parallel(n_jobs=4)]: Done   1 out of   4 | elapsed:    0.1s remaining:    0.2s\n",
        "[Parallel(n_jobs=4)]: Done   4 out of   4 | elapsed:    0.1s finished\n",
        "[Parallel(n_jobs=4)]: Done   1 out of   4 | elapsed:    3.5s remaining:   10.6s\n",
        "[Parallel(n_jobs=4)]: Done   4 out of   4 | elapsed:    3.6s finished\n"
       ]
      },
      {
       "output_type": "stream",
       "stream": "stderr",
       "text": [
        "[Parallel(n_jobs=4)]: Done   1 out of   4 | elapsed:    0.1s remaining:    0.2s\n",
        "[Parallel(n_jobs=4)]: Done   4 out of   4 | elapsed:    0.1s finished\n",
        "[Parallel(n_jobs=4)]: Done   1 out of   4 | elapsed:    2.4s remaining:    7.3s\n",
        "[Parallel(n_jobs=4)]: Done   4 out of   4 | elapsed:    2.9s finished\n"
       ]
      },
      {
       "output_type": "stream",
       "stream": "stderr",
       "text": [
        "[Parallel(n_jobs=4)]: Done   1 out of   4 | elapsed:    0.0s remaining:    0.1s\n",
        "[Parallel(n_jobs=4)]: Done   4 out of   4 | elapsed:    0.1s finished\n",
        "[Parallel(n_jobs=4)]: Done   1 out of   4 | elapsed:    2.5s remaining:    7.5s\n",
        "[Parallel(n_jobs=4)]: Done   4 out of   4 | elapsed:    2.6s finished\n"
       ]
      },
      {
       "output_type": "stream",
       "stream": "stderr",
       "text": [
        "[Parallel(n_jobs=4)]: Done   1 out of   4 | elapsed:    0.1s remaining:    0.2s\n",
        "[Parallel(n_jobs=4)]: Done   4 out of   4 | elapsed:    0.1s finished\n",
        "[Parallel(n_jobs=4)]: Done   1 out of   4 | elapsed:    2.9s remaining:    8.8s\n",
        "[Parallel(n_jobs=4)]: Done   4 out of   4 | elapsed:    2.9s finished\n"
       ]
      },
      {
       "output_type": "stream",
       "stream": "stderr",
       "text": [
        "[Parallel(n_jobs=4)]: Done   1 out of   4 | elapsed:    0.0s remaining:    0.1s\n",
        "[Parallel(n_jobs=4)]: Done   4 out of   4 | elapsed:    0.0s finished\n",
        "[Parallel(n_jobs=4)]: Done   1 out of   4 | elapsed:    2.7s remaining:    8.2s\n",
        "[Parallel(n_jobs=4)]: Done   4 out of   4 | elapsed:    2.7s finished\n"
       ]
      },
      {
       "output_type": "stream",
       "stream": "stderr",
       "text": [
        "[Parallel(n_jobs=4)]: Done   1 out of   4 | elapsed:    0.1s remaining:    0.3s\n",
        "[Parallel(n_jobs=4)]: Done   4 out of   4 | elapsed:    0.1s finished\n",
        "[Parallel(n_jobs=4)]: Done   1 out of   4 | elapsed:    2.8s remaining:    8.5s\n",
        "[Parallel(n_jobs=4)]: Done   4 out of   4 | elapsed:    2.8s finished\n"
       ]
      },
      {
       "output_type": "stream",
       "stream": "stderr",
       "text": [
        "[Parallel(n_jobs=4)]: Done   1 out of   4 | elapsed:    0.1s remaining:    0.3s\n",
        "[Parallel(n_jobs=4)]: Done   4 out of   4 | elapsed:    0.1s finished\n",
        "[Parallel(n_jobs=4)]: Done   1 out of   4 | elapsed:    2.9s remaining:    8.7s\n",
        "[Parallel(n_jobs=4)]: Done   4 out of   4 | elapsed:    2.9s finished\n"
       ]
      },
      {
       "output_type": "stream",
       "stream": "stderr",
       "text": [
        "[Parallel(n_jobs=4)]: Done   1 out of   4 | elapsed:    0.1s remaining:    0.3s\n",
        "[Parallel(n_jobs=4)]: Done   4 out of   4 | elapsed:    0.1s finished\n",
        "[Parallel(n_jobs=4)]: Done   1 out of   4 | elapsed:    7.8s remaining:   23.3s\n",
        "[Parallel(n_jobs=4)]: Done   4 out of   4 | elapsed:    9.6s finished\n"
       ]
      },
      {
       "output_type": "stream",
       "stream": "stderr",
       "text": [
        "[Parallel(n_jobs=4)]: Done   1 out of   4 | elapsed:    0.2s remaining:    0.5s\n",
        "[Parallel(n_jobs=4)]: Done   4 out of   4 | elapsed:    0.2s finished\n",
        "[Parallel(n_jobs=4)]: Done   1 out of   4 | elapsed:    9.0s remaining:   27.0s\n",
        "[Parallel(n_jobs=4)]: Done   4 out of   4 | elapsed:    9.0s finished\n"
       ]
      },
      {
       "output_type": "stream",
       "stream": "stderr",
       "text": [
        "[Parallel(n_jobs=4)]: Done   1 out of   4 | elapsed:    0.2s remaining:    0.5s\n",
        "[Parallel(n_jobs=4)]: Done   4 out of   4 | elapsed:    0.2s finished\n",
        "[Parallel(n_jobs=4)]: Done   1 out of   4 | elapsed:    7.9s remaining:   23.8s\n",
        "[Parallel(n_jobs=4)]: Done   4 out of   4 | elapsed:    9.9s finished\n"
       ]
      },
      {
       "output_type": "stream",
       "stream": "stderr",
       "text": [
        "[Parallel(n_jobs=4)]: Done   1 out of   4 | elapsed:    0.2s remaining:    0.5s\n",
        "[Parallel(n_jobs=4)]: Done   4 out of   4 | elapsed:    0.2s finished\n",
        "[Parallel(n_jobs=4)]: Done   1 out of   4 | elapsed:    2.9s remaining:    8.8s\n",
        "[Parallel(n_jobs=4)]: Done   4 out of   4 | elapsed:    3.6s finished\n"
       ]
      },
      {
       "output_type": "stream",
       "stream": "stderr",
       "text": [
        "[Parallel(n_jobs=4)]: Done   1 out of   4 | elapsed:    0.1s remaining:    0.4s\n",
        "[Parallel(n_jobs=4)]: Done   4 out of   4 | elapsed:    0.1s finished\n",
        "[Parallel(n_jobs=4)]: Done   1 out of   4 | elapsed:    3.2s remaining:    9.5s\n",
        "[Parallel(n_jobs=4)]: Done   4 out of   4 | elapsed:    3.4s finished\n"
       ]
      },
      {
       "output_type": "stream",
       "stream": "stderr",
       "text": [
        "[Parallel(n_jobs=4)]: Done   1 out of   4 | elapsed:    0.1s remaining:    0.3s\n",
        "[Parallel(n_jobs=4)]: Done   4 out of   4 | elapsed:    0.1s finished\n",
        "[Parallel(n_jobs=4)]: Done   1 out of   4 | elapsed:    3.2s remaining:    9.5s\n",
        "[Parallel(n_jobs=4)]: Done   4 out of   4 | elapsed:    3.4s finished\n"
       ]
      },
      {
       "output_type": "stream",
       "stream": "stderr",
       "text": [
        "[Parallel(n_jobs=4)]: Done   1 out of   4 | elapsed:    0.1s remaining:    0.4s\n",
        "[Parallel(n_jobs=4)]: Done   4 out of   4 | elapsed:    0.1s finished\n",
        "[Parallel(n_jobs=4)]: Done   1 out of   4 | elapsed:    5.4s remaining:   16.3s\n",
        "[Parallel(n_jobs=4)]: Done   4 out of   4 | elapsed:    5.4s finished\n"
       ]
      },
      {
       "output_type": "stream",
       "stream": "stderr",
       "text": [
        "[Parallel(n_jobs=4)]: Done   1 out of   4 | elapsed:    0.2s remaining:    0.6s\n",
        "[Parallel(n_jobs=4)]: Done   4 out of   4 | elapsed:    0.2s finished\n",
        "[Parallel(n_jobs=4)]: Done   1 out of   4 | elapsed:    5.2s remaining:   15.5s\n",
        "[Parallel(n_jobs=4)]: Done   4 out of   4 | elapsed:    5.2s finished\n"
       ]
      },
      {
       "output_type": "stream",
       "stream": "stderr",
       "text": [
        "[Parallel(n_jobs=4)]: Done   1 out of   4 | elapsed:    0.2s remaining:    0.6s\n",
        "[Parallel(n_jobs=4)]: Done   4 out of   4 | elapsed:    0.2s finished\n",
        "[Parallel(n_jobs=4)]: Done   1 out of   4 | elapsed:    4.7s remaining:   14.0s\n",
        "[Parallel(n_jobs=4)]: Done   4 out of   4 | elapsed:    5.7s finished\n"
       ]
      },
      {
       "output_type": "stream",
       "stream": "stderr",
       "text": [
        "[Parallel(n_jobs=4)]: Done   1 out of   4 | elapsed:    0.2s remaining:    0.5s\n",
        "[Parallel(n_jobs=4)]: Done   4 out of   4 | elapsed:    0.2s finished\n",
        "[Parallel(n_jobs=4)]: Done   1 out of   4 | elapsed:    6.1s remaining:   18.2s\n",
        "[Parallel(n_jobs=4)]: Done   4 out of   4 | elapsed:    6.1s finished\n"
       ]
      },
      {
       "output_type": "stream",
       "stream": "stderr",
       "text": [
        "[Parallel(n_jobs=4)]: Done   1 out of   4 | elapsed:    0.2s remaining:    0.7s\n",
        "[Parallel(n_jobs=4)]: Done   4 out of   4 | elapsed:    0.2s finished\n",
        "[Parallel(n_jobs=4)]: Done   1 out of   4 | elapsed:    5.7s remaining:   17.2s\n",
        "[Parallel(n_jobs=4)]: Done   4 out of   4 | elapsed:    6.6s finished\n"
       ]
      },
      {
       "output_type": "stream",
       "stream": "stderr",
       "text": [
        "[Parallel(n_jobs=4)]: Done   1 out of   4 | elapsed:    0.3s remaining:    0.8s\n",
        "[Parallel(n_jobs=4)]: Done   4 out of   4 | elapsed:    0.3s finished\n",
        "[Parallel(n_jobs=4)]: Done   1 out of   4 | elapsed:    6.3s remaining:   18.8s\n",
        "[Parallel(n_jobs=4)]: Done   4 out of   4 | elapsed:    6.3s finished\n"
       ]
      },
      {
       "output_type": "stream",
       "stream": "stderr",
       "text": [
        "[Parallel(n_jobs=4)]: Done   1 out of   4 | elapsed:    0.3s remaining:    0.8s\n",
        "[Parallel(n_jobs=4)]: Done   4 out of   4 | elapsed:    0.3s finished\n",
        "[Parallel(n_jobs=4)]: Done   1 out of   4 | elapsed:    6.4s remaining:   19.2s\n",
        "[Parallel(n_jobs=4)]: Done   4 out of   4 | elapsed:    7.5s finished\n"
       ]
      },
      {
       "output_type": "stream",
       "stream": "stderr",
       "text": [
        "[Parallel(n_jobs=4)]: Done   1 out of   4 | elapsed:    0.1s remaining:    0.4s\n",
        "[Parallel(n_jobs=4)]: Done   4 out of   4 | elapsed:    0.1s finished\n",
        "[Parallel(n_jobs=4)]: Done   1 out of   4 | elapsed:    6.7s remaining:   20.2s\n",
        "[Parallel(n_jobs=4)]: Done   4 out of   4 | elapsed:    7.0s finished\n"
       ]
      },
      {
       "output_type": "stream",
       "stream": "stderr",
       "text": [
        "[Parallel(n_jobs=4)]: Done   1 out of   4 | elapsed:    0.1s remaining:    0.4s\n",
        "[Parallel(n_jobs=4)]: Done   4 out of   4 | elapsed:    0.1s finished\n",
        "[Parallel(n_jobs=4)]: Done   1 out of   4 | elapsed:    7.3s remaining:   22.0s\n",
        "[Parallel(n_jobs=4)]: Done   4 out of   4 | elapsed:    7.3s finished\n"
       ]
      },
      {
       "output_type": "stream",
       "stream": "stderr",
       "text": [
        "[Parallel(n_jobs=4)]: Done   1 out of   4 | elapsed:    0.1s remaining:    0.4s\n",
        "[Parallel(n_jobs=4)]: Done   4 out of   4 | elapsed:    0.1s finished\n",
        "[Parallel(n_jobs=4)]: Done   1 out of   4 | elapsed:    5.8s remaining:   17.3s\n",
        "[Parallel(n_jobs=4)]: Done   4 out of   4 | elapsed:    5.8s finished\n"
       ]
      },
      {
       "output_type": "stream",
       "stream": "stderr",
       "text": [
        "[Parallel(n_jobs=4)]: Done   1 out of   4 | elapsed:    0.2s remaining:    0.7s\n",
        "[Parallel(n_jobs=4)]: Done   4 out of   4 | elapsed:    0.2s finished\n",
        "[Parallel(n_jobs=4)]: Done   1 out of   4 | elapsed:    5.4s remaining:   16.1s\n",
        "[Parallel(n_jobs=4)]: Done   4 out of   4 | elapsed:    5.9s finished\n"
       ]
      },
      {
       "output_type": "stream",
       "stream": "stderr",
       "text": [
        "[Parallel(n_jobs=4)]: Done   1 out of   4 | elapsed:    0.2s remaining:    0.6s\n",
        "[Parallel(n_jobs=4)]: Done   4 out of   4 | elapsed:    0.2s finished\n",
        "[Parallel(n_jobs=4)]: Done   1 out of   4 | elapsed:    5.4s remaining:   16.1s\n",
        "[Parallel(n_jobs=4)]: Done   4 out of   4 | elapsed:    5.6s finished\n"
       ]
      },
      {
       "output_type": "stream",
       "stream": "stderr",
       "text": [
        "[Parallel(n_jobs=4)]: Done   1 out of   4 | elapsed:    0.2s remaining:    0.7s\n",
        "[Parallel(n_jobs=4)]: Done   4 out of   4 | elapsed:    0.3s finished\n",
        "[Parallel(n_jobs=4)]: Done   1 out of   4 | elapsed:    0.5s remaining:    1.6s\n",
        "[Parallel(n_jobs=4)]: Done   4 out of   4 | elapsed:    0.6s finished\n"
       ]
      },
      {
       "output_type": "stream",
       "stream": "stderr",
       "text": [
        "[Parallel(n_jobs=4)]: Done   1 out of   4 | elapsed:    0.0s remaining:    0.1s\n",
        "[Parallel(n_jobs=4)]: Done   4 out of   4 | elapsed:    0.0s finished\n",
        "[Parallel(n_jobs=4)]: Done   1 out of   4 | elapsed:    0.5s remaining:    1.5s\n",
        "[Parallel(n_jobs=4)]: Done   4 out of   4 | elapsed:    0.5s finished\n"
       ]
      },
      {
       "output_type": "stream",
       "stream": "stderr",
       "text": [
        "[Parallel(n_jobs=4)]: Done   1 out of   4 | elapsed:    0.0s remaining:    0.1s\n",
        "[Parallel(n_jobs=4)]: Done   4 out of   4 | elapsed:    0.0s finished\n",
        "[Parallel(n_jobs=4)]: Done   1 out of   4 | elapsed:    0.5s remaining:    1.5s\n",
        "[Parallel(n_jobs=4)]: Done   4 out of   4 | elapsed:    0.6s finished\n"
       ]
      },
      {
       "output_type": "stream",
       "stream": "stderr",
       "text": [
        "[Parallel(n_jobs=4)]: Done   1 out of   4 | elapsed:    0.0s remaining:    0.1s\n",
        "[Parallel(n_jobs=4)]: Done   4 out of   4 | elapsed:    0.0s finished\n",
        "[Parallel(n_jobs=4)]: Done   1 out of   4 | elapsed:    0.5s remaining:    1.6s\n",
        "[Parallel(n_jobs=4)]: Done   4 out of   4 | elapsed:    0.6s finished\n"
       ]
      },
      {
       "output_type": "stream",
       "stream": "stderr",
       "text": [
        "[Parallel(n_jobs=4)]: Done   1 out of   4 | elapsed:    0.0s remaining:    0.1s\n",
        "[Parallel(n_jobs=4)]: Done   4 out of   4 | elapsed:    0.0s finished\n",
        "[Parallel(n_jobs=4)]: Done   1 out of   4 | elapsed:    0.5s remaining:    1.6s\n",
        "[Parallel(n_jobs=4)]: Done   4 out of   4 | elapsed:    0.6s finished\n"
       ]
      },
      {
       "output_type": "stream",
       "stream": "stderr",
       "text": [
        "[Parallel(n_jobs=4)]: Done   1 out of   4 | elapsed:    0.0s remaining:    0.1s\n",
        "[Parallel(n_jobs=4)]: Done   4 out of   4 | elapsed:    0.0s finished\n",
        "[Parallel(n_jobs=4)]: Done   1 out of   4 | elapsed:    0.5s remaining:    1.6s\n",
        "[Parallel(n_jobs=4)]: Done   4 out of   4 | elapsed:    0.6s finished\n"
       ]
      },
      {
       "output_type": "stream",
       "stream": "stderr",
       "text": [
        "[Parallel(n_jobs=4)]: Done   1 out of   4 | elapsed:    0.0s remaining:    0.1s\n",
        "[Parallel(n_jobs=4)]: Done   4 out of   4 | elapsed:    0.0s finished\n",
        "[Parallel(n_jobs=4)]: Done   1 out of   4 | elapsed:    6.2s remaining:   18.7s\n",
        "[Parallel(n_jobs=4)]: Done   4 out of   4 | elapsed:    6.7s finished\n"
       ]
      },
      {
       "output_type": "stream",
       "stream": "stderr",
       "text": [
        "[Parallel(n_jobs=4)]: Done   1 out of   4 | elapsed:    0.1s remaining:    0.3s\n",
        "[Parallel(n_jobs=4)]: Done   4 out of   4 | elapsed:    0.1s finished\n",
        "[Parallel(n_jobs=4)]: Done   1 out of   4 | elapsed:    5.5s remaining:   16.5s\n",
        "[Parallel(n_jobs=4)]: Done   4 out of   4 | elapsed:    6.3s finished\n"
       ]
      },
      {
       "output_type": "stream",
       "stream": "stderr",
       "text": [
        "[Parallel(n_jobs=4)]: Done   1 out of   4 | elapsed:    0.1s remaining:    0.3s\n",
        "[Parallel(n_jobs=4)]: Done   4 out of   4 | elapsed:    0.1s finished\n",
        "[Parallel(n_jobs=4)]: Done   1 out of   4 | elapsed:    5.7s remaining:   17.1s\n",
        "[Parallel(n_jobs=4)]: Done   4 out of   4 | elapsed:    6.6s finished\n"
       ]
      },
      {
       "output_type": "stream",
       "stream": "stderr",
       "text": [
        "[Parallel(n_jobs=4)]: Done   1 out of   4 | elapsed:    0.1s remaining:    0.3s\n",
        "[Parallel(n_jobs=4)]: Done   4 out of   4 | elapsed:    0.1s finished\n",
        "[Parallel(n_jobs=4)]: Done   1 out of   4 | elapsed:    4.2s remaining:   12.7s\n",
        "[Parallel(n_jobs=4)]: Done   4 out of   4 | elapsed:    5.1s finished\n"
       ]
      },
      {
       "output_type": "stream",
       "stream": "stderr",
       "text": [
        "[Parallel(n_jobs=4)]: Done   1 out of   4 | elapsed:    0.2s remaining:    0.5s\n",
        "[Parallel(n_jobs=4)]: Done   4 out of   4 | elapsed:    0.2s finished\n",
        "[Parallel(n_jobs=4)]: Done   1 out of   4 | elapsed:    4.9s remaining:   14.7s\n",
        "[Parallel(n_jobs=4)]: Done   4 out of   4 | elapsed:    4.9s finished\n"
       ]
      },
      {
       "output_type": "stream",
       "stream": "stderr",
       "text": [
        "[Parallel(n_jobs=4)]: Done   1 out of   4 | elapsed:    0.2s remaining:    0.5s\n",
        "[Parallel(n_jobs=4)]: Done   4 out of   4 | elapsed:    0.2s finished\n",
        "[Parallel(n_jobs=4)]: Done   1 out of   4 | elapsed:    4.3s remaining:   12.8s\n",
        "[Parallel(n_jobs=4)]: Done   4 out of   4 | elapsed:    4.8s finished\n"
       ]
      },
      {
       "output_type": "stream",
       "stream": "stderr",
       "text": [
        "[Parallel(n_jobs=4)]: Done   1 out of   4 | elapsed:    0.2s remaining:    0.5s\n",
        "[Parallel(n_jobs=4)]: Done   4 out of   4 | elapsed:    0.2s finished\n",
        "[Parallel(n_jobs=4)]: Done   1 out of   4 | elapsed:    4.0s remaining:   11.9s\n",
        "[Parallel(n_jobs=4)]: Done   4 out of   4 | elapsed:    4.0s finished\n"
       ]
      },
      {
       "output_type": "stream",
       "stream": "stderr",
       "text": [
        "[Parallel(n_jobs=4)]: Done   1 out of   4 | elapsed:    0.1s remaining:    0.2s\n",
        "[Parallel(n_jobs=4)]: Done   4 out of   4 | elapsed:    0.1s finished\n",
        "[Parallel(n_jobs=4)]: Done   1 out of   4 | elapsed:    3.2s remaining:    9.5s\n",
        "[Parallel(n_jobs=4)]: Done   4 out of   4 | elapsed:    3.8s finished\n"
       ]
      },
      {
       "output_type": "stream",
       "stream": "stderr",
       "text": [
        "[Parallel(n_jobs=4)]: Done   1 out of   4 | elapsed:    0.1s remaining:    0.2s\n",
        "[Parallel(n_jobs=4)]: Done   4 out of   4 | elapsed:    0.1s finished\n",
        "[Parallel(n_jobs=4)]: Done   1 out of   4 | elapsed:    3.7s remaining:   11.2s\n",
        "[Parallel(n_jobs=4)]: Done   4 out of   4 | elapsed:    3.7s finished\n"
       ]
      },
      {
       "output_type": "stream",
       "stream": "stderr",
       "text": [
        "[Parallel(n_jobs=4)]: Done   1 out of   4 | elapsed:    0.1s remaining:    0.2s\n",
        "[Parallel(n_jobs=4)]: Done   4 out of   4 | elapsed:    0.1s finished\n",
        "[Parallel(n_jobs=4)]: Done   1 out of   4 | elapsed:    1.3s remaining:    3.8s\n",
        "[Parallel(n_jobs=4)]: Done   4 out of   4 | elapsed:    1.4s finished\n"
       ]
      },
      {
       "output_type": "stream",
       "stream": "stderr",
       "text": [
        "[Parallel(n_jobs=4)]: Done   1 out of   4 | elapsed:    0.1s remaining:    0.2s\n",
        "[Parallel(n_jobs=4)]: Done   4 out of   4 | elapsed:    0.1s finished\n",
        "[Parallel(n_jobs=4)]: Done   1 out of   4 | elapsed:    1.4s remaining:    4.1s\n",
        "[Parallel(n_jobs=4)]: Done   4 out of   4 | elapsed:    1.5s finished\n"
       ]
      },
      {
       "output_type": "stream",
       "stream": "stderr",
       "text": [
        "[Parallel(n_jobs=4)]: Done   1 out of   4 | elapsed:    0.1s remaining:    0.2s\n",
        "[Parallel(n_jobs=4)]: Done   4 out of   4 | elapsed:    0.1s finished\n",
        "[Parallel(n_jobs=4)]: Done   1 out of   4 | elapsed:    1.4s remaining:    4.2s\n",
        "[Parallel(n_jobs=4)]: Done   4 out of   4 | elapsed:    1.5s finished\n"
       ]
      },
      {
       "output_type": "stream",
       "stream": "stderr",
       "text": [
        "[Parallel(n_jobs=4)]: Done   1 out of   4 | elapsed:    0.1s remaining:    0.2s\n",
        "[Parallel(n_jobs=4)]: Done   4 out of   4 | elapsed:    0.1s finished\n",
        "[Parallel(n_jobs=4)]: Done   1 out of   4 | elapsed:    5.1s remaining:   15.4s\n",
        "[Parallel(n_jobs=4)]: Done   4 out of   4 | elapsed:    5.1s finished\n"
       ]
      },
      {
       "output_type": "stream",
       "stream": "stderr",
       "text": [
        "[Parallel(n_jobs=4)]: Done   1 out of   4 | elapsed:    0.2s remaining:    0.5s\n",
        "[Parallel(n_jobs=4)]: Done   4 out of   4 | elapsed:    0.2s finished\n",
        "[Parallel(n_jobs=4)]: Done   1 out of   4 | elapsed:    4.6s remaining:   13.7s\n",
        "[Parallel(n_jobs=4)]: Done   4 out of   4 | elapsed:    5.2s finished\n"
       ]
      },
      {
       "output_type": "stream",
       "stream": "stderr",
       "text": [
        "[Parallel(n_jobs=4)]: Done   1 out of   4 | elapsed:    0.2s remaining:    0.6s\n",
        "[Parallel(n_jobs=4)]: Done   4 out of   4 | elapsed:    0.2s finished\n",
        "[Parallel(n_jobs=4)]: Done   1 out of   4 | elapsed:    4.6s remaining:   13.7s\n",
        "[Parallel(n_jobs=4)]: Done   4 out of   4 | elapsed:    5.0s finished\n"
       ]
      },
      {
       "output_type": "stream",
       "stream": "stderr",
       "text": [
        "[Parallel(n_jobs=4)]: Done   1 out of   4 | elapsed:    0.2s remaining:    0.6s\n",
        "[Parallel(n_jobs=4)]: Done   4 out of   4 | elapsed:    0.2s finished\n",
        "[Parallel(n_jobs=4)]: Done   1 out of   4 | elapsed:    1.3s remaining:    3.9s\n",
        "[Parallel(n_jobs=4)]: Done   4 out of   4 | elapsed:    1.3s finished\n"
       ]
      },
      {
       "output_type": "stream",
       "stream": "stderr",
       "text": [
        "[Parallel(n_jobs=4)]: Done   1 out of   4 | elapsed:    0.0s remaining:    0.1s\n",
        "[Parallel(n_jobs=4)]: Done   4 out of   4 | elapsed:    0.0s finished\n",
        "[Parallel(n_jobs=4)]: Done   1 out of   4 | elapsed:    1.3s remaining:    3.8s\n",
        "[Parallel(n_jobs=4)]: Done   4 out of   4 | elapsed:    1.4s finished\n"
       ]
      },
      {
       "output_type": "stream",
       "stream": "stderr",
       "text": [
        "[Parallel(n_jobs=4)]: Done   1 out of   4 | elapsed:    0.0s remaining:    0.1s\n",
        "[Parallel(n_jobs=4)]: Done   4 out of   4 | elapsed:    0.0s finished\n",
        "[Parallel(n_jobs=4)]: Done   1 out of   4 | elapsed:    1.2s remaining:    3.7s\n",
        "[Parallel(n_jobs=4)]: Done   4 out of   4 | elapsed:    1.4s finished\n"
       ]
      },
      {
       "output_type": "stream",
       "stream": "stderr",
       "text": [
        "[Parallel(n_jobs=4)]: Done   1 out of   4 | elapsed:    0.0s remaining:    0.1s\n",
        "[Parallel(n_jobs=4)]: Done   4 out of   4 | elapsed:    0.0s finished\n",
        "[Parallel(n_jobs=4)]: Done   1 out of   4 | elapsed:   11.2s remaining:   33.7s\n",
        "[Parallel(n_jobs=4)]: Done   4 out of   4 | elapsed:   13.0s finished\n"
       ]
      },
      {
       "output_type": "stream",
       "stream": "stderr",
       "text": [
        "[Parallel(n_jobs=4)]: Done   1 out of   4 | elapsed:    0.3s remaining:    0.8s\n",
        "[Parallel(n_jobs=4)]: Done   4 out of   4 | elapsed:    0.3s finished\n",
        "[Parallel(n_jobs=4)]: Done   1 out of   4 | elapsed:   10.9s remaining:   32.8s\n",
        "[Parallel(n_jobs=4)]: Done   4 out of   4 | elapsed:   13.8s finished\n"
       ]
      },
      {
       "output_type": "stream",
       "stream": "stderr",
       "text": [
        "[Parallel(n_jobs=4)]: Done   1 out of   4 | elapsed:    0.3s remaining:    0.9s\n",
        "[Parallel(n_jobs=4)]: Done   4 out of   4 | elapsed:    0.3s finished\n",
        "[Parallel(n_jobs=4)]: Done   1 out of   4 | elapsed:   11.9s remaining:   35.8s\n",
        "[Parallel(n_jobs=4)]: Done   4 out of   4 | elapsed:   12.2s finished\n"
       ]
      },
      {
       "output_type": "stream",
       "stream": "stderr",
       "text": [
        "[Parallel(n_jobs=4)]: Done   1 out of   4 | elapsed:    0.3s remaining:    0.8s\n",
        "[Parallel(n_jobs=4)]: Done   4 out of   4 | elapsed:    0.3s finished\n",
        "[Parallel(n_jobs=4)]: Done   1 out of   4 | elapsed:    1.9s remaining:    5.8s\n",
        "[Parallel(n_jobs=4)]: Done   4 out of   4 | elapsed:    2.2s finished\n"
       ]
      },
      {
       "output_type": "stream",
       "stream": "stderr",
       "text": [
        "[Parallel(n_jobs=4)]: Done   1 out of   4 | elapsed:    0.1s remaining:    0.2s\n",
        "[Parallel(n_jobs=4)]: Done   4 out of   4 | elapsed:    0.1s finished\n",
        "[Parallel(n_jobs=4)]: Done   1 out of   4 | elapsed:    2.1s remaining:    6.3s\n",
        "[Parallel(n_jobs=4)]: Done   4 out of   4 | elapsed:    2.2s finished\n"
       ]
      },
      {
       "output_type": "stream",
       "stream": "stderr",
       "text": [
        "[Parallel(n_jobs=4)]: Done   1 out of   4 | elapsed:    0.1s remaining:    0.2s\n",
        "[Parallel(n_jobs=4)]: Done   4 out of   4 | elapsed:    0.1s finished\n",
        "[Parallel(n_jobs=4)]: Done   1 out of   4 | elapsed:    1.9s remaining:    5.8s\n",
        "[Parallel(n_jobs=4)]: Done   4 out of   4 | elapsed:    2.2s finished\n"
       ]
      },
      {
       "output_type": "stream",
       "stream": "stderr",
       "text": [
        "[Parallel(n_jobs=4)]: Done   1 out of   4 | elapsed:    0.1s remaining:    0.2s\n",
        "[Parallel(n_jobs=4)]: Done   4 out of   4 | elapsed:    0.1s finished\n",
        "[Parallel(n_jobs=4)]: Done   1 out of   4 | elapsed:    1.8s remaining:    5.3s\n",
        "[Parallel(n_jobs=4)]: Done   4 out of   4 | elapsed:    1.8s finished\n"
       ]
      },
      {
       "output_type": "stream",
       "stream": "stderr",
       "text": [
        "[Parallel(n_jobs=4)]: Done   1 out of   4 | elapsed:    0.1s remaining:    0.2s\n",
        "[Parallel(n_jobs=4)]: Done   4 out of   4 | elapsed:    0.1s finished\n",
        "[Parallel(n_jobs=4)]: Done   1 out of   4 | elapsed:    1.7s remaining:    5.1s\n",
        "[Parallel(n_jobs=4)]: Done   4 out of   4 | elapsed:    1.8s finished\n"
       ]
      },
      {
       "output_type": "stream",
       "stream": "stderr",
       "text": [
        "[Parallel(n_jobs=4)]: Done   1 out of   4 | elapsed:    0.1s remaining:    0.2s\n",
        "[Parallel(n_jobs=4)]: Done   4 out of   4 | elapsed:    0.1s finished\n",
        "[Parallel(n_jobs=4)]: Done   1 out of   4 | elapsed:    2.0s remaining:    6.1s\n",
        "[Parallel(n_jobs=4)]: Done   4 out of   4 | elapsed:    2.0s finished\n"
       ]
      },
      {
       "output_type": "stream",
       "stream": "stderr",
       "text": [
        "[Parallel(n_jobs=4)]: Done   1 out of   4 | elapsed:    0.1s remaining:    0.2s\n",
        "[Parallel(n_jobs=4)]: Done   4 out of   4 | elapsed:    0.1s finished\n",
        "[Parallel(n_jobs=4)]: Done   1 out of   4 | elapsed:   11.1s remaining:   33.3s\n",
        "[Parallel(n_jobs=4)]: Done   4 out of   4 | elapsed:   11.1s finished\n"
       ]
      },
      {
       "output_type": "stream",
       "stream": "stderr",
       "text": [
        "[Parallel(n_jobs=4)]: Done   1 out of   4 | elapsed:    0.2s remaining:    0.6s\n",
        "[Parallel(n_jobs=4)]: Done   4 out of   4 | elapsed:    0.2s finished\n",
        "[Parallel(n_jobs=4)]: Done   1 out of   4 | elapsed:   10.1s remaining:   30.2s\n",
        "[Parallel(n_jobs=4)]: Done   4 out of   4 | elapsed:   10.9s finished\n"
       ]
      },
      {
       "output_type": "stream",
       "stream": "stderr",
       "text": [
        "[Parallel(n_jobs=4)]: Done   1 out of   4 | elapsed:    0.2s remaining:    0.6s\n",
        "[Parallel(n_jobs=4)]: Done   4 out of   4 | elapsed:    0.2s finished\n",
        "[Parallel(n_jobs=4)]: Done   1 out of   4 | elapsed:    9.7s remaining:   29.1s\n",
        "[Parallel(n_jobs=4)]: Done   4 out of   4 | elapsed:   11.1s finished\n"
       ]
      },
      {
       "output_type": "stream",
       "stream": "stderr",
       "text": [
        "[Parallel(n_jobs=4)]: Done   1 out of   4 | elapsed:    0.2s remaining:    0.6s\n",
        "[Parallel(n_jobs=4)]: Done   4 out of   4 | elapsed:    0.2s finished\n",
        "[Parallel(n_jobs=4)]: Done   1 out of   4 | elapsed:    1.8s remaining:    5.4s\n",
        "[Parallel(n_jobs=4)]: Done   4 out of   4 | elapsed:    1.8s finished\n"
       ]
      },
      {
       "output_type": "stream",
       "stream": "stderr",
       "text": [
        "[Parallel(n_jobs=4)]: Done   1 out of   4 | elapsed:    0.1s remaining:    0.2s\n",
        "[Parallel(n_jobs=4)]: Done   4 out of   4 | elapsed:    0.1s finished\n",
        "[Parallel(n_jobs=4)]: Done   1 out of   4 | elapsed:    1.5s remaining:    4.4s\n",
        "[Parallel(n_jobs=4)]: Done   4 out of   4 | elapsed:    1.7s finished\n"
       ]
      },
      {
       "output_type": "stream",
       "stream": "stderr",
       "text": [
        "[Parallel(n_jobs=4)]: Done   1 out of   4 | elapsed:    0.1s remaining:    0.2s\n",
        "[Parallel(n_jobs=4)]: Done   4 out of   4 | elapsed:    0.1s finished\n",
        "[Parallel(n_jobs=4)]: Done   1 out of   4 | elapsed:    1.7s remaining:    5.1s\n",
        "[Parallel(n_jobs=4)]: Done   4 out of   4 | elapsed:    1.7s finished\n"
       ]
      },
      {
       "output_type": "stream",
       "stream": "stderr",
       "text": [
        "[Parallel(n_jobs=4)]: Done   1 out of   4 | elapsed:    0.1s remaining:    0.2s\n",
        "[Parallel(n_jobs=4)]: Done   4 out of   4 | elapsed:    0.1s finished\n",
        "[Parallel(n_jobs=4)]: Done   1 out of   4 | elapsed:    3.5s remaining:   10.4s\n",
        "[Parallel(n_jobs=4)]: Done   4 out of   4 | elapsed:    3.5s finished\n"
       ]
      },
      {
       "output_type": "stream",
       "stream": "stderr",
       "text": [
        "[Parallel(n_jobs=4)]: Done   1 out of   4 | elapsed:    0.1s remaining:    0.4s\n",
        "[Parallel(n_jobs=4)]: Done   4 out of   4 | elapsed:    0.1s finished\n",
        "[Parallel(n_jobs=4)]: Done   1 out of   4 | elapsed:    3.1s remaining:    9.2s\n",
        "[Parallel(n_jobs=4)]: Done   4 out of   4 | elapsed:    3.6s finished\n"
       ]
      },
      {
       "output_type": "stream",
       "stream": "stderr",
       "text": [
        "[Parallel(n_jobs=4)]: Done   1 out of   4 | elapsed:    0.1s remaining:    0.4s\n",
        "[Parallel(n_jobs=4)]: Done   4 out of   4 | elapsed:    0.1s finished\n",
        "[Parallel(n_jobs=4)]: Done   1 out of   4 | elapsed:    3.3s remaining:   10.0s\n",
        "[Parallel(n_jobs=4)]: Done   4 out of   4 | elapsed:    3.4s finished\n"
       ]
      },
      {
       "output_type": "stream",
       "stream": "stderr",
       "text": [
        "[Parallel(n_jobs=4)]: Done   1 out of   4 | elapsed:    0.1s remaining:    0.4s\n",
        "[Parallel(n_jobs=4)]: Done   4 out of   4 | elapsed:    0.1s finished\n",
        "[Parallel(n_jobs=4)]: Done   1 out of   4 | elapsed:    1.5s remaining:    4.4s\n",
        "[Parallel(n_jobs=4)]: Done   4 out of   4 | elapsed:    1.8s finished\n"
       ]
      },
      {
       "output_type": "stream",
       "stream": "stderr",
       "text": [
        "[Parallel(n_jobs=4)]: Done   1 out of   4 | elapsed:    0.1s remaining:    0.2s\n",
        "[Parallel(n_jobs=4)]: Done   4 out of   4 | elapsed:    0.1s finished\n",
        "[Parallel(n_jobs=4)]: Done   1 out of   4 | elapsed:    1.5s remaining:    4.5s\n",
        "[Parallel(n_jobs=4)]: Done   4 out of   4 | elapsed:    1.9s finished\n"
       ]
      },
      {
       "output_type": "stream",
       "stream": "stderr",
       "text": [
        "[Parallel(n_jobs=4)]: Done   1 out of   4 | elapsed:    0.1s remaining:    0.2s\n",
        "[Parallel(n_jobs=4)]: Done   4 out of   4 | elapsed:    0.1s finished\n",
        "[Parallel(n_jobs=4)]: Done   1 out of   4 | elapsed:    1.5s remaining:    4.6s\n",
        "[Parallel(n_jobs=4)]: Done   4 out of   4 | elapsed:    2.1s finished\n"
       ]
      },
      {
       "output_type": "stream",
       "stream": "stderr",
       "text": [
        "[Parallel(n_jobs=4)]: Done   1 out of   4 | elapsed:    0.1s remaining:    0.2s\n",
        "[Parallel(n_jobs=4)]: Done   4 out of   4 | elapsed:    0.1s finished\n",
        "[Parallel(n_jobs=4)]: Done   1 out of   4 | elapsed:    5.8s remaining:   17.3s\n",
        "[Parallel(n_jobs=4)]: Done   4 out of   4 | elapsed:    5.8s finished\n"
       ]
      },
      {
       "output_type": "stream",
       "stream": "stderr",
       "text": [
        "[Parallel(n_jobs=4)]: Done   1 out of   4 | elapsed:    0.1s remaining:    0.3s\n",
        "[Parallel(n_jobs=4)]: Done   4 out of   4 | elapsed:    0.1s finished\n",
        "[Parallel(n_jobs=4)]: Done   1 out of   4 | elapsed:    5.2s remaining:   15.6s\n",
        "[Parallel(n_jobs=4)]: Done   4 out of   4 | elapsed:    5.3s finished\n"
       ]
      },
      {
       "output_type": "stream",
       "stream": "stderr",
       "text": [
        "[Parallel(n_jobs=4)]: Done   1 out of   4 | elapsed:    0.1s remaining:    0.3s\n",
        "[Parallel(n_jobs=4)]: Done   4 out of   4 | elapsed:    0.1s finished\n",
        "[Parallel(n_jobs=4)]: Done   1 out of   4 | elapsed:    5.4s remaining:   16.1s\n",
        "[Parallel(n_jobs=4)]: Done   4 out of   4 | elapsed:    6.0s finished\n"
       ]
      },
      {
       "output_type": "stream",
       "stream": "stderr",
       "text": [
        "[Parallel(n_jobs=4)]: Done   1 out of   4 | elapsed:    0.1s remaining:    0.3s\n",
        "[Parallel(n_jobs=4)]: Done   4 out of   4 | elapsed:    0.1s finished\n",
        "[Parallel(n_jobs=4)]: Done   1 out of   4 | elapsed:    3.8s remaining:   11.4s\n",
        "[Parallel(n_jobs=4)]: Done   4 out of   4 | elapsed:    3.8s finished\n"
       ]
      },
      {
       "output_type": "stream",
       "stream": "stderr",
       "text": [
        "[Parallel(n_jobs=4)]: Done   1 out of   4 | elapsed:    0.1s remaining:    0.4s\n",
        "[Parallel(n_jobs=4)]: Done   4 out of   4 | elapsed:    0.1s finished\n",
        "[Parallel(n_jobs=4)]: Done   1 out of   4 | elapsed:    3.5s remaining:   10.5s\n",
        "[Parallel(n_jobs=4)]: Done   4 out of   4 | elapsed:    3.7s finished\n"
       ]
      },
      {
       "output_type": "stream",
       "stream": "stderr",
       "text": [
        "[Parallel(n_jobs=4)]: Done   1 out of   4 | elapsed:    0.1s remaining:    0.4s\n",
        "[Parallel(n_jobs=4)]: Done   4 out of   4 | elapsed:    0.1s finished\n",
        "[Parallel(n_jobs=4)]: Done   1 out of   4 | elapsed:    3.4s remaining:   10.3s\n",
        "[Parallel(n_jobs=4)]: Done   4 out of   4 | elapsed:    4.0s finished\n"
       ]
      },
      {
       "output_type": "stream",
       "stream": "stderr",
       "text": [
        "[Parallel(n_jobs=4)]: Done   1 out of   4 | elapsed:    0.1s remaining:    0.4s\n",
        "[Parallel(n_jobs=4)]: Done   4 out of   4 | elapsed:    0.1s finished\n",
        "[Parallel(n_jobs=4)]: Done   1 out of   4 | elapsed:    1.0s remaining:    2.9s\n",
        "[Parallel(n_jobs=4)]: Done   4 out of   4 | elapsed:    1.1s finished\n"
       ]
      },
      {
       "output_type": "stream",
       "stream": "stderr",
       "text": [
        "[Parallel(n_jobs=4)]: Done   1 out of   4 | elapsed:    0.0s remaining:    0.1s\n",
        "[Parallel(n_jobs=4)]: Done   4 out of   4 | elapsed:    0.0s finished\n",
        "[Parallel(n_jobs=4)]: Done   1 out of   4 | elapsed:    1.0s remaining:    3.0s\n",
        "[Parallel(n_jobs=4)]: Done   4 out of   4 | elapsed:    1.1s finished\n"
       ]
      },
      {
       "output_type": "stream",
       "stream": "stderr",
       "text": [
        "[Parallel(n_jobs=4)]: Done   1 out of   4 | elapsed:    0.0s remaining:    0.1s\n",
        "[Parallel(n_jobs=4)]: Done   4 out of   4 | elapsed:    0.0s finished\n",
        "[Parallel(n_jobs=4)]: Done   1 out of   4 | elapsed:    1.0s remaining:    3.0s\n",
        "[Parallel(n_jobs=4)]: Done   4 out of   4 | elapsed:    1.2s finished\n"
       ]
      },
      {
       "output_type": "stream",
       "stream": "stderr",
       "text": [
        "[Parallel(n_jobs=4)]: Done   1 out of   4 | elapsed:    0.0s remaining:    0.1s\n",
        "[Parallel(n_jobs=4)]: Done   4 out of   4 | elapsed:    0.0s finished\n",
        "[Parallel(n_jobs=4)]: Done   1 out of   4 | elapsed:    1.1s remaining:    3.3s\n",
        "[Parallel(n_jobs=4)]: Done   4 out of   4 | elapsed:    1.1s finished\n"
       ]
      },
      {
       "output_type": "stream",
       "stream": "stderr",
       "text": [
        "[Parallel(n_jobs=4)]: Done   1 out of   4 | elapsed:    0.0s remaining:    0.1s\n",
        "[Parallel(n_jobs=4)]: Done   4 out of   4 | elapsed:    0.0s finished\n",
        "[Parallel(n_jobs=4)]: Done   1 out of   4 | elapsed:    1.2s remaining:    3.6s\n",
        "[Parallel(n_jobs=4)]: Done   4 out of   4 | elapsed:    1.2s finished\n"
       ]
      },
      {
       "output_type": "stream",
       "stream": "stderr",
       "text": [
        "[Parallel(n_jobs=4)]: Done   1 out of   4 | elapsed:    0.0s remaining:    0.1s\n",
        "[Parallel(n_jobs=4)]: Done   4 out of   4 | elapsed:    0.0s finished\n",
        "[Parallel(n_jobs=4)]: Done   1 out of   4 | elapsed:    1.0s remaining:    2.9s\n",
        "[Parallel(n_jobs=4)]: Done   4 out of   4 | elapsed:    1.2s finished\n"
       ]
      },
      {
       "output_type": "stream",
       "stream": "stderr",
       "text": [
        "[Parallel(n_jobs=4)]: Done   1 out of   4 | elapsed:    0.0s remaining:    0.1s\n",
        "[Parallel(n_jobs=4)]: Done   4 out of   4 | elapsed:    0.0s finished\n",
        "[Parallel(n_jobs=4)]: Done   1 out of   4 | elapsed:    3.8s remaining:   11.3s\n",
        "[Parallel(n_jobs=4)]: Done   4 out of   4 | elapsed:    3.8s finished\n"
       ]
      },
      {
       "output_type": "stream",
       "stream": "stderr",
       "text": [
        "[Parallel(n_jobs=4)]: Done   1 out of   4 | elapsed:    0.1s remaining:    0.2s\n",
        "[Parallel(n_jobs=4)]: Done   4 out of   4 | elapsed:    0.1s finished\n",
        "[Parallel(n_jobs=4)]: Done   1 out of   4 | elapsed:    3.5s remaining:   10.6s\n",
        "[Parallel(n_jobs=4)]: Done   4 out of   4 | elapsed:    3.5s finished\n"
       ]
      },
      {
       "output_type": "stream",
       "stream": "stderr",
       "text": [
        "[Parallel(n_jobs=4)]: Done   1 out of   4 | elapsed:    0.1s remaining:    0.2s\n",
        "[Parallel(n_jobs=4)]: Done   4 out of   4 | elapsed:    0.1s finished\n",
        "[Parallel(n_jobs=4)]: Done   1 out of   4 | elapsed:    3.9s remaining:   11.7s\n",
        "[Parallel(n_jobs=4)]: Done   4 out of   4 | elapsed:    3.9s finished\n"
       ]
      },
      {
       "output_type": "stream",
       "stream": "stderr",
       "text": [
        "[Parallel(n_jobs=4)]: Done   1 out of   4 | elapsed:    0.1s remaining:    0.2s\n",
        "[Parallel(n_jobs=4)]: Done   4 out of   4 | elapsed:    0.1s finished\n",
        "[Parallel(n_jobs=4)]: Done   1 out of   4 | elapsed:    1.6s remaining:    4.7s\n",
        "[Parallel(n_jobs=4)]: Done   4 out of   4 | elapsed:    1.7s finished\n"
       ]
      },
      {
       "output_type": "stream",
       "stream": "stderr",
       "text": [
        "[Parallel(n_jobs=4)]: Done   1 out of   4 | elapsed:    0.1s remaining:    0.2s\n",
        "[Parallel(n_jobs=4)]: Done   4 out of   4 | elapsed:    0.1s finished\n",
        "[Parallel(n_jobs=4)]: Done   1 out of   4 | elapsed:    1.8s remaining:    5.3s\n",
        "[Parallel(n_jobs=4)]: Done   4 out of   4 | elapsed:    1.8s finished\n"
       ]
      },
      {
       "output_type": "stream",
       "stream": "stderr",
       "text": [
        "[Parallel(n_jobs=4)]: Done   1 out of   4 | elapsed:    0.1s remaining:    0.2s\n",
        "[Parallel(n_jobs=4)]: Done   4 out of   4 | elapsed:    0.1s finished\n",
        "[Parallel(n_jobs=4)]: Done   1 out of   4 | elapsed:    1.7s remaining:    5.0s\n",
        "[Parallel(n_jobs=4)]: Done   4 out of   4 | elapsed:    1.8s finished\n"
       ]
      },
      {
       "output_type": "stream",
       "stream": "stderr",
       "text": [
        "[Parallel(n_jobs=4)]: Done   1 out of   4 | elapsed:    0.1s remaining:    0.2s\n",
        "[Parallel(n_jobs=4)]: Done   4 out of   4 | elapsed:    0.1s finished\n",
        "[Parallel(n_jobs=4)]: Done   1 out of   4 | elapsed:    0.6s remaining:    1.9s\n",
        "[Parallel(n_jobs=4)]: Done   4 out of   4 | elapsed:    0.8s finished\n"
       ]
      },
      {
       "output_type": "stream",
       "stream": "stderr",
       "text": [
        "[Parallel(n_jobs=4)]: Done   1 out of   4 | elapsed:    0.0s remaining:    0.0s\n",
        "[Parallel(n_jobs=4)]: Done   4 out of   4 | elapsed:    0.0s finished\n",
        "[Parallel(n_jobs=4)]: Done   1 out of   4 | elapsed:    0.7s remaining:    2.0s\n",
        "[Parallel(n_jobs=4)]: Done   4 out of   4 | elapsed:    0.7s finished\n"
       ]
      },
      {
       "output_type": "stream",
       "stream": "stderr",
       "text": [
        "[Parallel(n_jobs=4)]: Done   1 out of   4 | elapsed:    0.0s remaining:    0.0s\n",
        "[Parallel(n_jobs=4)]: Done   4 out of   4 | elapsed:    0.0s finished\n",
        "[Parallel(n_jobs=4)]: Done   1 out of   4 | elapsed:    0.6s remaining:    1.9s\n",
        "[Parallel(n_jobs=4)]: Done   4 out of   4 | elapsed:    0.7s finished\n"
       ]
      },
      {
       "output_type": "stream",
       "stream": "stderr",
       "text": [
        "[Parallel(n_jobs=4)]: Done   1 out of   4 | elapsed:    0.0s remaining:    0.0s\n",
        "[Parallel(n_jobs=4)]: Done   4 out of   4 | elapsed:    0.0s finished\n",
        "[Parallel(n_jobs=4)]: Done   1 out of   4 | elapsed:    4.2s remaining:   12.7s\n",
        "[Parallel(n_jobs=4)]: Done   4 out of   4 | elapsed:    4.8s finished\n"
       ]
      },
      {
       "output_type": "stream",
       "stream": "stderr",
       "text": [
        "[Parallel(n_jobs=4)]: Done   1 out of   4 | elapsed:    0.2s remaining:    0.5s\n",
        "[Parallel(n_jobs=4)]: Done   4 out of   4 | elapsed:    0.2s finished\n",
        "[Parallel(n_jobs=4)]: Done   1 out of   4 | elapsed:    4.2s remaining:   12.6s\n",
        "[Parallel(n_jobs=4)]: Done   4 out of   4 | elapsed:    4.7s finished\n"
       ]
      },
      {
       "output_type": "stream",
       "stream": "stderr",
       "text": [
        "[Parallel(n_jobs=4)]: Done   1 out of   4 | elapsed:    0.2s remaining:    0.5s\n",
        "[Parallel(n_jobs=4)]: Done   4 out of   4 | elapsed:    0.2s finished\n",
        "[Parallel(n_jobs=4)]: Done   1 out of   4 | elapsed:    4.5s remaining:   13.4s\n",
        "[Parallel(n_jobs=4)]: Done   4 out of   4 | elapsed:    4.9s finished\n"
       ]
      },
      {
       "output_type": "stream",
       "stream": "stderr",
       "text": [
        "[Parallel(n_jobs=4)]: Done   1 out of   4 | elapsed:    0.2s remaining:    0.6s\n",
        "[Parallel(n_jobs=4)]: Done   4 out of   4 | elapsed:    0.2s finished\n",
        "[Parallel(n_jobs=4)]: Done   1 out of   4 | elapsed:    9.2s remaining:   27.7s\n",
        "[Parallel(n_jobs=4)]: Done   4 out of   4 | elapsed:    9.8s finished\n"
       ]
      },
      {
       "output_type": "stream",
       "stream": "stderr",
       "text": [
        "[Parallel(n_jobs=4)]: Done   1 out of   4 | elapsed:    0.2s remaining:    0.5s\n",
        "[Parallel(n_jobs=4)]: Done   4 out of   4 | elapsed:    0.2s finished\n",
        "[Parallel(n_jobs=4)]: Done   1 out of   4 | elapsed:    9.3s remaining:   27.9s\n",
        "[Parallel(n_jobs=4)]: Done   4 out of   4 | elapsed:    9.6s finished\n"
       ]
      },
      {
       "output_type": "stream",
       "stream": "stderr",
       "text": [
        "[Parallel(n_jobs=4)]: Done   1 out of   4 | elapsed:    0.2s remaining:    0.5s\n",
        "[Parallel(n_jobs=4)]: Done   4 out of   4 | elapsed:    0.2s finished\n",
        "[Parallel(n_jobs=4)]: Done   1 out of   4 | elapsed:    9.3s remaining:   27.8s\n",
        "[Parallel(n_jobs=4)]: Done   4 out of   4 | elapsed:    9.5s finished\n"
       ]
      },
      {
       "output_type": "stream",
       "stream": "stderr",
       "text": [
        "[Parallel(n_jobs=4)]: Done   1 out of   4 | elapsed:    0.2s remaining:    0.5s\n",
        "[Parallel(n_jobs=4)]: Done   4 out of   4 | elapsed:    0.2s finished\n",
        "[Parallel(n_jobs=4)]: Done   1 out of   4 | elapsed:    5.1s remaining:   15.4s\n",
        "[Parallel(n_jobs=4)]: Done   4 out of   4 | elapsed:    5.1s finished\n"
       ]
      },
      {
       "output_type": "stream",
       "stream": "stderr",
       "text": [
        "[Parallel(n_jobs=4)]: Done   1 out of   4 | elapsed:    0.1s remaining:    0.3s\n",
        "[Parallel(n_jobs=4)]: Done   4 out of   4 | elapsed:    0.1s finished\n",
        "[Parallel(n_jobs=4)]: Done   1 out of   4 | elapsed:    5.3s remaining:   16.0s\n",
        "[Parallel(n_jobs=4)]: Done   4 out of   4 | elapsed:    5.3s finished\n"
       ]
      },
      {
       "output_type": "stream",
       "stream": "stderr",
       "text": [
        "[Parallel(n_jobs=4)]: Done   1 out of   4 | elapsed:    0.1s remaining:    0.3s\n",
        "[Parallel(n_jobs=4)]: Done   4 out of   4 | elapsed:    0.1s finished\n",
        "[Parallel(n_jobs=4)]: Done   1 out of   4 | elapsed:    4.4s remaining:   13.2s\n",
        "[Parallel(n_jobs=4)]: Done   4 out of   4 | elapsed:    4.9s finished\n"
       ]
      },
      {
       "output_type": "stream",
       "stream": "stderr",
       "text": [
        "[Parallel(n_jobs=4)]: Done   1 out of   4 | elapsed:    0.1s remaining:    0.3s\n",
        "[Parallel(n_jobs=4)]: Done   4 out of   4 | elapsed:    0.1s finished\n",
        "[Parallel(n_jobs=4)]: Done   1 out of   4 | elapsed:    8.0s remaining:   23.9s\n",
        "[Parallel(n_jobs=4)]: Done   4 out of   4 | elapsed:    9.0s finished\n"
       ]
      },
      {
       "output_type": "stream",
       "stream": "stderr",
       "text": [
        "[Parallel(n_jobs=4)]: Done   1 out of   4 | elapsed:    0.1s remaining:    0.4s\n",
        "[Parallel(n_jobs=4)]: Done   4 out of   4 | elapsed:    0.2s finished\n",
        "[Parallel(n_jobs=4)]: Done   1 out of   4 | elapsed:    8.6s remaining:   25.9s\n",
        "[Parallel(n_jobs=4)]: Done   4 out of   4 | elapsed:    8.6s finished\n"
       ]
      },
      {
       "output_type": "stream",
       "stream": "stderr",
       "text": [
        "[Parallel(n_jobs=4)]: Done   1 out of   4 | elapsed:    0.1s remaining:    0.4s\n",
        "[Parallel(n_jobs=4)]: Done   4 out of   4 | elapsed:    0.2s finished\n",
        "[Parallel(n_jobs=4)]: Done   1 out of   4 | elapsed:    8.1s remaining:   24.4s\n",
        "[Parallel(n_jobs=4)]: Done   4 out of   4 | elapsed:    8.5s finished\n"
       ]
      },
      {
       "output_type": "stream",
       "stream": "stderr",
       "text": [
        "[Parallel(n_jobs=4)]: Done   1 out of   4 | elapsed:    0.2s remaining:    0.5s\n",
        "[Parallel(n_jobs=4)]: Done   4 out of   4 | elapsed:    0.2s finished\n",
        "[Parallel(n_jobs=4)]: Done   1 out of   4 | elapsed:    4.7s remaining:   14.2s\n",
        "[Parallel(n_jobs=4)]: Done   4 out of   4 | elapsed:    5.0s finished\n"
       ]
      },
      {
       "output_type": "stream",
       "stream": "stderr",
       "text": [
        "[Parallel(n_jobs=4)]: Done   1 out of   4 | elapsed:    0.2s remaining:    0.6s\n",
        "[Parallel(n_jobs=4)]: Done   4 out of   4 | elapsed:    0.2s finished\n",
        "[Parallel(n_jobs=4)]: Done   1 out of   4 | elapsed:    4.8s remaining:   14.4s\n",
        "[Parallel(n_jobs=4)]: Done   4 out of   4 | elapsed:    4.8s finished\n"
       ]
      },
      {
       "output_type": "stream",
       "stream": "stderr",
       "text": [
        "[Parallel(n_jobs=4)]: Done   1 out of   4 | elapsed:    0.2s remaining:    0.5s\n",
        "[Parallel(n_jobs=4)]: Done   4 out of   4 | elapsed:    0.2s finished\n",
        "[Parallel(n_jobs=4)]: Done   1 out of   4 | elapsed:    4.7s remaining:   14.2s\n",
        "[Parallel(n_jobs=4)]: Done   4 out of   4 | elapsed:    5.0s finished\n"
       ]
      },
      {
       "output_type": "stream",
       "stream": "stderr",
       "text": [
        "[Parallel(n_jobs=4)]: Done   1 out of   4 | elapsed:    0.2s remaining:    0.6s\n",
        "[Parallel(n_jobs=4)]: Done   4 out of   4 | elapsed:    0.2s finished\n",
        "[Parallel(n_jobs=4)]: Done   1 out of   4 | elapsed:    1.3s remaining:    4.0s\n",
        "[Parallel(n_jobs=4)]: Done   4 out of   4 | elapsed:    1.4s finished\n"
       ]
      },
      {
       "output_type": "stream",
       "stream": "stderr",
       "text": [
        "[Parallel(n_jobs=4)]: Done   1 out of   4 | elapsed:    0.0s remaining:    0.1s\n",
        "[Parallel(n_jobs=4)]: Done   4 out of   4 | elapsed:    0.0s finished\n",
        "[Parallel(n_jobs=4)]: Done   1 out of   4 | elapsed:    1.3s remaining:    3.8s\n",
        "[Parallel(n_jobs=4)]: Done   4 out of   4 | elapsed:    1.5s finished\n"
       ]
      },
      {
       "output_type": "stream",
       "stream": "stderr",
       "text": [
        "[Parallel(n_jobs=4)]: Done   1 out of   4 | elapsed:    0.0s remaining:    0.1s\n",
        "[Parallel(n_jobs=4)]: Done   4 out of   4 | elapsed:    0.0s finished\n",
        "[Parallel(n_jobs=4)]: Done   1 out of   4 | elapsed:    1.4s remaining:    4.1s\n",
        "[Parallel(n_jobs=4)]: Done   4 out of   4 | elapsed:    1.5s finished\n"
       ]
      },
      {
       "output_type": "stream",
       "stream": "stderr",
       "text": [
        "[Parallel(n_jobs=4)]: Done   1 out of   4 | elapsed:    0.0s remaining:    0.1s\n",
        "[Parallel(n_jobs=4)]: Done   4 out of   4 | elapsed:    0.0s finished\n",
        "[Parallel(n_jobs=4)]: Done   1 out of   4 | elapsed:    0.9s remaining:    2.8s\n",
        "[Parallel(n_jobs=4)]: Done   4 out of   4 | elapsed:    1.0s finished\n"
       ]
      },
      {
       "output_type": "stream",
       "stream": "stderr",
       "text": [
        "[Parallel(n_jobs=4)]: Done   1 out of   4 | elapsed:    0.0s remaining:    0.1s\n",
        "[Parallel(n_jobs=4)]: Done   4 out of   4 | elapsed:    0.0s finished\n",
        "[Parallel(n_jobs=4)]: Done   1 out of   4 | elapsed:    0.9s remaining:    2.7s\n",
        "[Parallel(n_jobs=4)]: Done   4 out of   4 | elapsed:    0.9s finished\n"
       ]
      },
      {
       "output_type": "stream",
       "stream": "stderr",
       "text": [
        "[Parallel(n_jobs=4)]: Done   1 out of   4 | elapsed:    0.0s remaining:    0.1s\n",
        "[Parallel(n_jobs=4)]: Done   4 out of   4 | elapsed:    0.0s finished\n",
        "[Parallel(n_jobs=4)]: Done   1 out of   4 | elapsed:    0.8s remaining:    2.5s\n",
        "[Parallel(n_jobs=4)]: Done   4 out of   4 | elapsed:    1.1s finished\n"
       ]
      },
      {
       "output_type": "stream",
       "stream": "stderr",
       "text": [
        "[Parallel(n_jobs=4)]: Done   1 out of   4 | elapsed:    0.0s remaining:    0.1s\n",
        "[Parallel(n_jobs=4)]: Done   4 out of   4 | elapsed:    0.0s finished\n",
        "[Parallel(n_jobs=4)]: Done   1 out of   4 | elapsed:    1.2s remaining:    3.7s\n",
        "[Parallel(n_jobs=4)]: Done   4 out of   4 | elapsed:    1.5s finished\n"
       ]
      },
      {
       "output_type": "stream",
       "stream": "stderr",
       "text": [
        "[Parallel(n_jobs=4)]: Done   1 out of   4 | elapsed:    0.1s remaining:    0.2s\n",
        "[Parallel(n_jobs=4)]: Done   4 out of   4 | elapsed:    0.1s finished\n",
        "[Parallel(n_jobs=4)]: Done   1 out of   4 | elapsed:    1.5s remaining:    4.6s\n",
        "[Parallel(n_jobs=4)]: Done   4 out of   4 | elapsed:    1.5s finished\n"
       ]
      },
      {
       "output_type": "stream",
       "stream": "stderr",
       "text": [
        "[Parallel(n_jobs=4)]: Done   1 out of   4 | elapsed:    0.0s remaining:    0.1s\n",
        "[Parallel(n_jobs=4)]: Done   4 out of   4 | elapsed:    0.1s finished\n",
        "[Parallel(n_jobs=4)]: Done   1 out of   4 | elapsed:    1.6s remaining:    4.7s\n",
        "[Parallel(n_jobs=4)]: Done   4 out of   4 | elapsed:    1.6s finished\n"
       ]
      },
      {
       "output_type": "stream",
       "stream": "stderr",
       "text": [
        "[Parallel(n_jobs=4)]: Done   1 out of   4 | elapsed:    0.1s remaining:    0.2s\n",
        "[Parallel(n_jobs=4)]: Done   4 out of   4 | elapsed:    0.1s finished\n",
        "[Parallel(n_jobs=4)]: Done   1 out of   4 | elapsed:    1.5s remaining:    4.6s\n",
        "[Parallel(n_jobs=4)]: Done   4 out of   4 | elapsed:    1.6s finished\n"
       ]
      },
      {
       "output_type": "stream",
       "stream": "stderr",
       "text": [
        "[Parallel(n_jobs=4)]: Done   1 out of   4 | elapsed:    0.0s remaining:    0.1s\n",
        "[Parallel(n_jobs=4)]: Done   4 out of   4 | elapsed:    0.0s finished\n",
        "[Parallel(n_jobs=4)]: Done   1 out of   4 | elapsed:    1.6s remaining:    4.8s\n",
        "[Parallel(n_jobs=4)]: Done   4 out of   4 | elapsed:    1.6s finished\n"
       ]
      },
      {
       "output_type": "stream",
       "stream": "stderr",
       "text": [
        "[Parallel(n_jobs=4)]: Done   1 out of   4 | elapsed:    0.0s remaining:    0.1s\n",
        "[Parallel(n_jobs=4)]: Done   4 out of   4 | elapsed:    0.0s finished\n",
        "[Parallel(n_jobs=4)]: Done   1 out of   4 | elapsed:    1.4s remaining:    4.3s\n",
        "[Parallel(n_jobs=4)]: Done   4 out of   4 | elapsed:    1.8s finished\n"
       ]
      },
      {
       "output_type": "stream",
       "stream": "stderr",
       "text": [
        "[Parallel(n_jobs=4)]: Done   1 out of   4 | elapsed:    0.0s remaining:    0.1s\n",
        "[Parallel(n_jobs=4)]: Done   4 out of   4 | elapsed:    0.0s finished\n",
        "[Parallel(n_jobs=4)]: Done   1 out of   4 | elapsed:    4.7s remaining:   14.2s\n",
        "[Parallel(n_jobs=4)]: Done   4 out of   4 | elapsed:    5.3s finished\n"
       ]
      },
      {
       "output_type": "stream",
       "stream": "stderr",
       "text": [
        "[Parallel(n_jobs=4)]: Done   1 out of   4 | elapsed:    0.1s remaining:    0.3s\n",
        "[Parallel(n_jobs=4)]: Done   4 out of   4 | elapsed:    0.1s finished\n",
        "[Parallel(n_jobs=4)]: Done   1 out of   4 | elapsed:    4.4s remaining:   13.1s\n",
        "[Parallel(n_jobs=4)]: Done   4 out of   4 | elapsed:    5.4s finished\n"
       ]
      },
      {
       "output_type": "stream",
       "stream": "stderr",
       "text": [
        "[Parallel(n_jobs=4)]: Done   1 out of   4 | elapsed:    0.1s remaining:    0.3s\n",
        "[Parallel(n_jobs=4)]: Done   4 out of   4 | elapsed:    0.1s finished\n",
        "[Parallel(n_jobs=4)]: Done   1 out of   4 | elapsed:    4.5s remaining:   13.6s\n",
        "[Parallel(n_jobs=4)]: Done   4 out of   4 | elapsed:    5.1s finished\n"
       ]
      },
      {
       "output_type": "stream",
       "stream": "stderr",
       "text": [
        "[Parallel(n_jobs=4)]: Done   1 out of   4 | elapsed:    0.1s remaining:    0.3s\n",
        "[Parallel(n_jobs=4)]: Done   4 out of   4 | elapsed:    0.1s finished\n",
        "[Parallel(n_jobs=4)]: Done   1 out of   4 | elapsed:    1.3s remaining:    3.8s\n",
        "[Parallel(n_jobs=4)]: Done   4 out of   4 | elapsed:    1.5s finished\n"
       ]
      },
      {
       "output_type": "stream",
       "stream": "stderr",
       "text": [
        "[Parallel(n_jobs=4)]: Done   1 out of   4 | elapsed:    0.0s remaining:    0.1s\n",
        "[Parallel(n_jobs=4)]: Done   4 out of   4 | elapsed:    0.0s finished\n",
        "[Parallel(n_jobs=4)]: Done   1 out of   4 | elapsed:    1.2s remaining:    3.6s\n",
        "[Parallel(n_jobs=4)]: Done   4 out of   4 | elapsed:    1.4s finished\n"
       ]
      },
      {
       "output_type": "stream",
       "stream": "stderr",
       "text": [
        "[Parallel(n_jobs=4)]: Done   1 out of   4 | elapsed:    0.0s remaining:    0.1s\n",
        "[Parallel(n_jobs=4)]: Done   4 out of   4 | elapsed:    0.0s finished\n",
        "[Parallel(n_jobs=4)]: Done   1 out of   4 | elapsed:    1.2s remaining:    3.7s\n",
        "[Parallel(n_jobs=4)]: Done   4 out of   4 | elapsed:    1.4s finished\n"
       ]
      },
      {
       "output_type": "stream",
       "stream": "stderr",
       "text": [
        "[Parallel(n_jobs=4)]: Done   1 out of   4 | elapsed:    0.0s remaining:    0.1s\n",
        "[Parallel(n_jobs=4)]: Done   4 out of   4 | elapsed:    0.0s finished\n",
        "[Parallel(n_jobs=4)]: Done   1 out of   4 | elapsed:    4.5s remaining:   13.4s\n",
        "[Parallel(n_jobs=4)]: Done   4 out of   4 | elapsed:    5.5s finished\n"
       ]
      },
      {
       "output_type": "stream",
       "stream": "stderr",
       "text": [
        "[Parallel(n_jobs=4)]: Done   1 out of   4 | elapsed:    0.1s remaining:    0.3s\n",
        "[Parallel(n_jobs=4)]: Done   4 out of   4 | elapsed:    0.1s finished\n",
        "[Parallel(n_jobs=4)]: Done   1 out of   4 | elapsed:    4.5s remaining:   13.6s\n",
        "[Parallel(n_jobs=4)]: Done   4 out of   4 | elapsed:    5.2s finished\n"
       ]
      },
      {
       "output_type": "stream",
       "stream": "stderr",
       "text": [
        "[Parallel(n_jobs=4)]: Done   1 out of   4 | elapsed:    0.1s remaining:    0.3s\n",
        "[Parallel(n_jobs=4)]: Done   4 out of   4 | elapsed:    0.1s finished\n",
        "[Parallel(n_jobs=4)]: Done   1 out of   4 | elapsed:    4.7s remaining:   14.0s\n",
        "[Parallel(n_jobs=4)]: Done   4 out of   4 | elapsed:    5.1s finished\n"
       ]
      },
      {
       "output_type": "stream",
       "stream": "stderr",
       "text": [
        "[Parallel(n_jobs=4)]: Done   1 out of   4 | elapsed:    0.1s remaining:    0.3s\n",
        "[Parallel(n_jobs=4)]: Done   4 out of   4 | elapsed:    0.1s finished\n",
        "[Parallel(n_jobs=4)]: Done   1 out of   4 | elapsed:    6.0s remaining:   17.9s\n",
        "[Parallel(n_jobs=4)]: Done   4 out of   4 | elapsed:    6.6s finished\n"
       ]
      },
      {
       "output_type": "stream",
       "stream": "stderr",
       "text": [
        "[Parallel(n_jobs=4)]: Done   1 out of   4 | elapsed:    0.2s remaining:    0.7s\n",
        "[Parallel(n_jobs=4)]: Done   4 out of   4 | elapsed:    0.2s finished\n",
        "[Parallel(n_jobs=4)]: Done   1 out of   4 | elapsed:    5.9s remaining:   17.6s\n",
        "[Parallel(n_jobs=4)]: Done   4 out of   4 | elapsed:    5.9s finished\n"
       ]
      },
      {
       "output_type": "stream",
       "stream": "stderr",
       "text": [
        "[Parallel(n_jobs=4)]: Done   1 out of   4 | elapsed:    0.3s remaining:    0.8s\n",
        "[Parallel(n_jobs=4)]: Done   4 out of   4 | elapsed:    0.3s finished\n",
        "[Parallel(n_jobs=4)]: Done   1 out of   4 | elapsed:    5.7s remaining:   17.1s\n",
        "[Parallel(n_jobs=4)]: Done   4 out of   4 | elapsed:    6.1s finished\n"
       ]
      },
      {
       "output_type": "stream",
       "stream": "stderr",
       "text": [
        "[Parallel(n_jobs=4)]: Done   1 out of   4 | elapsed:    0.3s remaining:    0.8s\n",
        "[Parallel(n_jobs=4)]: Done   4 out of   4 | elapsed:    0.3s finished\n",
        "[Parallel(n_jobs=4)]: Done   1 out of   4 | elapsed:    3.0s remaining:    8.9s\n",
        "[Parallel(n_jobs=4)]: Done   4 out of   4 | elapsed:    3.2s finished\n"
       ]
      },
      {
       "output_type": "stream",
       "stream": "stderr",
       "text": [
        "[Parallel(n_jobs=4)]: Done   1 out of   4 | elapsed:    0.1s remaining:    0.3s\n",
        "[Parallel(n_jobs=4)]: Done   4 out of   4 | elapsed:    0.1s finished\n",
        "[Parallel(n_jobs=4)]: Done   1 out of   4 | elapsed:    2.8s remaining:    8.4s\n",
        "[Parallel(n_jobs=4)]: Done   4 out of   4 | elapsed:    3.3s finished\n"
       ]
      },
      {
       "output_type": "stream",
       "stream": "stderr",
       "text": [
        "[Parallel(n_jobs=4)]: Done   1 out of   4 | elapsed:    0.1s remaining:    0.3s\n",
        "[Parallel(n_jobs=4)]: Done   4 out of   4 | elapsed:    0.1s finished\n",
        "[Parallel(n_jobs=4)]: Done   1 out of   4 | elapsed:    2.8s remaining:    8.5s\n",
        "[Parallel(n_jobs=4)]: Done   4 out of   4 | elapsed:    3.0s finished\n"
       ]
      },
      {
       "output_type": "stream",
       "stream": "stderr",
       "text": [
        "[Parallel(n_jobs=4)]: Done   1 out of   4 | elapsed:    0.1s remaining:    0.3s\n",
        "[Parallel(n_jobs=4)]: Done   4 out of   4 | elapsed:    0.1s finished\n",
        "[Parallel(n_jobs=4)]: Done   1 out of   4 | elapsed:   11.1s remaining:   33.2s\n",
        "[Parallel(n_jobs=4)]: Done   4 out of   4 | elapsed:   12.7s finished\n"
       ]
      },
      {
       "output_type": "stream",
       "stream": "stderr",
       "text": [
        "[Parallel(n_jobs=4)]: Done   1 out of   4 | elapsed:    0.3s remaining:    0.8s\n",
        "[Parallel(n_jobs=4)]: Done   4 out of   4 | elapsed:    0.3s finished\n",
        "[Parallel(n_jobs=4)]: Done   1 out of   4 | elapsed:   11.0s remaining:   33.1s\n",
        "[Parallel(n_jobs=4)]: Done   4 out of   4 | elapsed:   12.2s finished\n"
       ]
      },
      {
       "output_type": "stream",
       "stream": "stderr",
       "text": [
        "[Parallel(n_jobs=4)]: Done   1 out of   4 | elapsed:    0.2s remaining:    0.7s\n",
        "[Parallel(n_jobs=4)]: Done   4 out of   4 | elapsed:    0.3s finished\n",
        "[Parallel(n_jobs=4)]: Done   1 out of   4 | elapsed:   12.2s remaining:   36.6s\n",
        "[Parallel(n_jobs=4)]: Done   4 out of   4 | elapsed:   12.2s finished\n"
       ]
      },
      {
       "output_type": "stream",
       "stream": "stderr",
       "text": [
        "[Parallel(n_jobs=4)]: Done   1 out of   4 | elapsed:    0.3s remaining:    0.8s\n",
        "[Parallel(n_jobs=4)]: Done   4 out of   4 | elapsed:    0.3s finished\n",
        "[Parallel(n_jobs=4)]: Done   1 out of   4 | elapsed:    1.3s remaining:    4.0s\n",
        "[Parallel(n_jobs=4)]: Done   4 out of   4 | elapsed:    1.4s finished\n"
       ]
      },
      {
       "output_type": "stream",
       "stream": "stderr",
       "text": [
        "[Parallel(n_jobs=4)]: Done   1 out of   4 | elapsed:    0.0s remaining:    0.1s\n",
        "[Parallel(n_jobs=4)]: Done   4 out of   4 | elapsed:    0.0s finished\n",
        "[Parallel(n_jobs=4)]: Done   1 out of   4 | elapsed:    1.1s remaining:    3.3s\n",
        "[Parallel(n_jobs=4)]: Done   4 out of   4 | elapsed:    1.3s finished\n"
       ]
      },
      {
       "output_type": "stream",
       "stream": "stderr",
       "text": [
        "[Parallel(n_jobs=4)]: Done   1 out of   4 | elapsed:    0.0s remaining:    0.1s\n",
        "[Parallel(n_jobs=4)]: Done   4 out of   4 | elapsed:    0.0s finished\n",
        "[Parallel(n_jobs=4)]: Done   1 out of   4 | elapsed:    1.2s remaining:    3.5s\n",
        "[Parallel(n_jobs=4)]: Done   4 out of   4 | elapsed:    1.4s finished\n"
       ]
      },
      {
       "output_type": "stream",
       "stream": "stderr",
       "text": [
        "[Parallel(n_jobs=4)]: Done   1 out of   4 | elapsed:    0.0s remaining:    0.1s\n",
        "[Parallel(n_jobs=4)]: Done   4 out of   4 | elapsed:    0.0s finished\n",
        "[Parallel(n_jobs=4)]: Done   1 out of   4 | elapsed:    2.5s remaining:    7.4s\n",
        "[Parallel(n_jobs=4)]: Done   4 out of   4 | elapsed:    2.5s finished\n"
       ]
      },
      {
       "output_type": "stream",
       "stream": "stderr",
       "text": [
        "[Parallel(n_jobs=4)]: Done   1 out of   4 | elapsed:    0.1s remaining:    0.3s\n",
        "[Parallel(n_jobs=4)]: Done   4 out of   4 | elapsed:    0.1s finished\n",
        "[Parallel(n_jobs=4)]: Done   1 out of   4 | elapsed:    2.1s remaining:    6.4s\n",
        "[Parallel(n_jobs=4)]: Done   4 out of   4 | elapsed:    2.7s finished\n"
       ]
      },
      {
       "output_type": "stream",
       "stream": "stderr",
       "text": [
        "[Parallel(n_jobs=4)]: Done   1 out of   4 | elapsed:    0.1s remaining:    0.2s\n",
        "[Parallel(n_jobs=4)]: Done   4 out of   4 | elapsed:    0.1s finished\n",
        "[Parallel(n_jobs=4)]: Done   1 out of   4 | elapsed:    2.4s remaining:    7.1s\n",
        "[Parallel(n_jobs=4)]: Done   4 out of   4 | elapsed:    2.4s finished\n"
       ]
      },
      {
       "output_type": "stream",
       "stream": "stderr",
       "text": [
        "[Parallel(n_jobs=4)]: Done   1 out of   4 | elapsed:    0.1s remaining:    0.2s\n",
        "[Parallel(n_jobs=4)]: Done   4 out of   4 | elapsed:    0.1s finished\n",
        "[Parallel(n_jobs=4)]: Done   1 out of   4 | elapsed:    1.6s remaining:    4.7s\n",
        "[Parallel(n_jobs=4)]: Done   4 out of   4 | elapsed:    1.6s finished\n"
       ]
      },
      {
       "output_type": "stream",
       "stream": "stderr",
       "text": [
        "[Parallel(n_jobs=4)]: Done   1 out of   4 | elapsed:    0.0s remaining:    0.1s\n",
        "[Parallel(n_jobs=4)]: Done   4 out of   4 | elapsed:    0.0s finished\n",
        "[Parallel(n_jobs=4)]: Done   1 out of   4 | elapsed:    1.5s remaining:    4.4s\n",
        "[Parallel(n_jobs=4)]: Done   4 out of   4 | elapsed:    1.5s finished\n"
       ]
      },
      {
       "output_type": "stream",
       "stream": "stderr",
       "text": [
        "[Parallel(n_jobs=4)]: Done   1 out of   4 | elapsed:    0.0s remaining:    0.1s\n",
        "[Parallel(n_jobs=4)]: Done   4 out of   4 | elapsed:    0.0s finished\n",
        "[Parallel(n_jobs=4)]: Done   1 out of   4 | elapsed:    1.4s remaining:    4.1s\n",
        "[Parallel(n_jobs=4)]: Done   4 out of   4 | elapsed:    1.5s finished\n"
       ]
      },
      {
       "output_type": "stream",
       "stream": "stderr",
       "text": [
        "[Parallel(n_jobs=4)]: Done   1 out of   4 | elapsed:    0.0s remaining:    0.1s\n",
        "[Parallel(n_jobs=4)]: Done   4 out of   4 | elapsed:    0.0s finished\n",
        "[Parallel(n_jobs=4)]: Done   1 out of   4 | elapsed:    5.5s remaining:   16.4s\n",
        "[Parallel(n_jobs=4)]: Done   4 out of   4 | elapsed:    5.9s finished\n"
       ]
      },
      {
       "output_type": "stream",
       "stream": "stderr",
       "text": [
        "[Parallel(n_jobs=4)]: Done   1 out of   4 | elapsed:    0.3s remaining:    0.8s\n",
        "[Parallel(n_jobs=4)]: Done   4 out of   4 | elapsed:    0.3s finished\n",
        "[Parallel(n_jobs=4)]: Done   1 out of   4 | elapsed:    6.0s remaining:   17.9s\n",
        "[Parallel(n_jobs=4)]: Done   4 out of   4 | elapsed:    6.0s finished\n"
       ]
      },
      {
       "output_type": "stream",
       "stream": "stderr",
       "text": [
        "[Parallel(n_jobs=4)]: Done   1 out of   4 | elapsed:    0.3s remaining:    0.8s\n",
        "[Parallel(n_jobs=4)]: Done   4 out of   4 | elapsed:    0.3s finished\n",
        "[Parallel(n_jobs=4)]: Done   1 out of   4 | elapsed:    6.0s remaining:   18.0s\n",
        "[Parallel(n_jobs=4)]: Done   4 out of   4 | elapsed:    6.0s finished\n"
       ]
      },
      {
       "output_type": "stream",
       "stream": "stderr",
       "text": [
        "[Parallel(n_jobs=4)]: Done   1 out of   4 | elapsed:    0.3s remaining:    0.8s\n",
        "[Parallel(n_jobs=4)]: Done   4 out of   4 | elapsed:    0.3s finished\n",
        "[Parallel(n_jobs=4)]: Done   1 out of   4 | elapsed:    8.5s remaining:   25.4s\n",
        "[Parallel(n_jobs=4)]: Done   4 out of   4 | elapsed:    9.0s finished\n"
       ]
      },
      {
       "output_type": "stream",
       "stream": "stderr",
       "text": [
        "[Parallel(n_jobs=4)]: Done   1 out of   4 | elapsed:    0.2s remaining:    0.5s\n",
        "[Parallel(n_jobs=4)]: Done   4 out of   4 | elapsed:    0.2s finished\n",
        "[Parallel(n_jobs=4)]: Done   1 out of   4 | elapsed:    7.7s remaining:   23.1s\n",
        "[Parallel(n_jobs=4)]: Done   4 out of   4 | elapsed:    8.3s finished\n"
       ]
      },
      {
       "output_type": "stream",
       "stream": "stderr",
       "text": [
        "[Parallel(n_jobs=4)]: Done   1 out of   4 | elapsed:    0.2s remaining:    0.5s\n",
        "[Parallel(n_jobs=4)]: Done   4 out of   4 | elapsed:    0.2s finished\n",
        "[Parallel(n_jobs=4)]: Done   1 out of   4 | elapsed:    8.4s remaining:   25.1s\n",
        "[Parallel(n_jobs=4)]: Done   4 out of   4 | elapsed:    8.4s finished\n"
       ]
      },
      {
       "output_type": "stream",
       "stream": "stderr",
       "text": [
        "[Parallel(n_jobs=4)]: Done   1 out of   4 | elapsed:    0.1s remaining:    0.4s\n",
        "[Parallel(n_jobs=4)]: Done   4 out of   4 | elapsed:    0.2s finished\n",
        "[Parallel(n_jobs=4)]: Done   1 out of   4 | elapsed:    3.3s remaining:   10.0s\n",
        "[Parallel(n_jobs=4)]: Done   4 out of   4 | elapsed:    3.3s finished\n"
       ]
      },
      {
       "output_type": "stream",
       "stream": "stderr",
       "text": [
        "[Parallel(n_jobs=4)]: Done   1 out of   4 | elapsed:    0.1s remaining:    0.2s\n",
        "[Parallel(n_jobs=4)]: Done   4 out of   4 | elapsed:    0.1s finished\n",
        "[Parallel(n_jobs=4)]: Done   1 out of   4 | elapsed:    2.7s remaining:    8.1s\n",
        "[Parallel(n_jobs=4)]: Done   4 out of   4 | elapsed:    3.1s finished\n"
       ]
      },
      {
       "output_type": "stream",
       "stream": "stderr",
       "text": [
        "[Parallel(n_jobs=4)]: Done   1 out of   4 | elapsed:    0.1s remaining:    0.2s\n",
        "[Parallel(n_jobs=4)]: Done   4 out of   4 | elapsed:    0.1s finished\n",
        "[Parallel(n_jobs=4)]: Done   1 out of   4 | elapsed:    2.7s remaining:    8.2s\n",
        "[Parallel(n_jobs=4)]: Done   4 out of   4 | elapsed:    3.0s finished\n"
       ]
      },
      {
       "output_type": "stream",
       "stream": "stderr",
       "text": [
        "[Parallel(n_jobs=4)]: Done   1 out of   4 | elapsed:    0.1s remaining:    0.2s\n",
        "[Parallel(n_jobs=4)]: Done   4 out of   4 | elapsed:    0.1s finished\n",
        "[Parallel(n_jobs=4)]: Done   1 out of   4 | elapsed:    1.3s remaining:    3.8s\n",
        "[Parallel(n_jobs=4)]: Done   4 out of   4 | elapsed:    1.5s finished\n"
       ]
      },
      {
       "output_type": "stream",
       "stream": "stderr",
       "text": [
        "[Parallel(n_jobs=4)]: Done   1 out of   4 | elapsed:    0.1s remaining:    0.2s\n",
        "[Parallel(n_jobs=4)]: Done   4 out of   4 | elapsed:    0.1s finished\n",
        "[Parallel(n_jobs=4)]: Done   1 out of   4 | elapsed:    1.5s remaining:    4.4s\n",
        "[Parallel(n_jobs=4)]: Done   4 out of   4 | elapsed:    1.5s finished\n"
       ]
      },
      {
       "output_type": "stream",
       "stream": "stderr",
       "text": [
        "[Parallel(n_jobs=4)]: Done   1 out of   4 | elapsed:    0.1s remaining:    0.2s\n",
        "[Parallel(n_jobs=4)]: Done   4 out of   4 | elapsed:    0.1s finished\n",
        "[Parallel(n_jobs=4)]: Done   1 out of   4 | elapsed:    1.3s remaining:    4.0s\n",
        "[Parallel(n_jobs=4)]: Done   4 out of   4 | elapsed:    1.6s finished\n"
       ]
      },
      {
       "output_type": "stream",
       "stream": "stderr",
       "text": [
        "[Parallel(n_jobs=4)]: Done   1 out of   4 | elapsed:    0.1s remaining:    0.2s\n",
        "[Parallel(n_jobs=4)]: Done   4 out of   4 | elapsed:    0.1s finished\n",
        "[Parallel(n_jobs=4)]: Done   1 out of   4 | elapsed:    1.8s remaining:    5.3s\n",
        "[Parallel(n_jobs=4)]: Done   4 out of   4 | elapsed:    2.1s finished\n"
       ]
      },
      {
       "output_type": "stream",
       "stream": "stderr",
       "text": [
        "[Parallel(n_jobs=4)]: Done   1 out of   4 | elapsed:    0.0s remaining:    0.1s\n",
        "[Parallel(n_jobs=4)]: Done   4 out of   4 | elapsed:    0.0s finished\n",
        "[Parallel(n_jobs=4)]: Done   1 out of   4 | elapsed:    2.0s remaining:    6.1s\n",
        "[Parallel(n_jobs=4)]: Done   4 out of   4 | elapsed:    2.0s finished\n"
       ]
      },
      {
       "output_type": "stream",
       "stream": "stderr",
       "text": [
        "[Parallel(n_jobs=4)]: Done   1 out of   4 | elapsed:    0.0s remaining:    0.1s\n",
        "[Parallel(n_jobs=4)]: Done   4 out of   4 | elapsed:    0.0s finished\n",
        "[Parallel(n_jobs=4)]: Done   1 out of   4 | elapsed:    1.8s remaining:    5.5s\n",
        "[Parallel(n_jobs=4)]: Done   4 out of   4 | elapsed:    2.1s finished\n"
       ]
      },
      {
       "output_type": "stream",
       "stream": "stderr",
       "text": [
        "[Parallel(n_jobs=4)]: Done   1 out of   4 | elapsed:    0.0s remaining:    0.1s\n",
        "[Parallel(n_jobs=4)]: Done   4 out of   4 | elapsed:    0.0s finished\n",
        "[Parallel(n_jobs=4)]: Done   1 out of   4 | elapsed:    0.1s remaining:    0.3s\n",
        "[Parallel(n_jobs=4)]: Done   4 out of   4 | elapsed:    0.1s finished\n"
       ]
      },
      {
       "output_type": "stream",
       "stream": "stderr",
       "text": [
        "[Parallel(n_jobs=4)]: Done   1 out of   4 | elapsed:    0.0s remaining:    0.0s\n",
        "[Parallel(n_jobs=4)]: Done   4 out of   4 | elapsed:    0.0s finished\n",
        "[Parallel(n_jobs=4)]: Done   1 out of   4 | elapsed:    0.1s remaining:    0.3s\n",
        "[Parallel(n_jobs=4)]: Done   4 out of   4 | elapsed:    0.1s finished\n"
       ]
      },
      {
       "output_type": "stream",
       "stream": "stderr",
       "text": [
        "[Parallel(n_jobs=4)]: Done   1 out of   4 | elapsed:    0.0s remaining:    0.0s\n",
        "[Parallel(n_jobs=4)]: Done   4 out of   4 | elapsed:    0.0s finished\n",
        "[Parallel(n_jobs=4)]: Done   1 out of   4 | elapsed:    0.1s remaining:    0.3s\n",
        "[Parallel(n_jobs=4)]: Done   4 out of   4 | elapsed:    0.1s finished\n"
       ]
      },
      {
       "output_type": "stream",
       "stream": "stderr",
       "text": [
        "[Parallel(n_jobs=4)]: Done   1 out of   4 | elapsed:    0.0s remaining:    0.0s\n",
        "[Parallel(n_jobs=4)]: Done   4 out of   4 | elapsed:    0.0s finished\n",
        "[Parallel(n_jobs=4)]: Done   1 out of   4 | elapsed:    4.3s remaining:   12.8s\n",
        "[Parallel(n_jobs=4)]: Done   4 out of   4 | elapsed:    4.7s finished\n"
       ]
      },
      {
       "output_type": "stream",
       "stream": "stderr",
       "text": [
        "[Parallel(n_jobs=4)]: Done   1 out of   4 | elapsed:    0.1s remaining:    0.2s\n",
        "[Parallel(n_jobs=4)]: Done   4 out of   4 | elapsed:    0.1s finished\n",
        "[Parallel(n_jobs=4)]: Done   1 out of   4 | elapsed:    4.3s remaining:   12.8s\n",
        "[Parallel(n_jobs=4)]: Done   4 out of   4 | elapsed:    4.5s finished\n"
       ]
      },
      {
       "output_type": "stream",
       "stream": "stderr",
       "text": [
        "[Parallel(n_jobs=4)]: Done   1 out of   4 | elapsed:    0.1s remaining:    0.2s\n",
        "[Parallel(n_jobs=4)]: Done   4 out of   4 | elapsed:    0.1s finished\n",
        "[Parallel(n_jobs=4)]: Done   1 out of   4 | elapsed:    4.2s remaining:   12.6s\n",
        "[Parallel(n_jobs=4)]: Done   4 out of   4 | elapsed:    5.1s finished\n"
       ]
      },
      {
       "output_type": "stream",
       "stream": "stderr",
       "text": [
        "[Parallel(n_jobs=4)]: Done   1 out of   4 | elapsed:    0.1s remaining:    0.3s\n",
        "[Parallel(n_jobs=4)]: Done   4 out of   4 | elapsed:    0.1s finished\n",
        "[Parallel(n_jobs=4)]: Done   1 out of   4 | elapsed:    4.2s remaining:   12.6s\n",
        "[Parallel(n_jobs=4)]: Done   4 out of   4 | elapsed:    4.2s finished\n"
       ]
      },
      {
       "output_type": "stream",
       "stream": "stderr",
       "text": [
        "[Parallel(n_jobs=4)]: Done   1 out of   4 | elapsed:    0.1s remaining:    0.4s\n",
        "[Parallel(n_jobs=4)]: Done   4 out of   4 | elapsed:    0.1s finished\n",
        "[Parallel(n_jobs=4)]: Done   1 out of   4 | elapsed:    3.6s remaining:   10.7s\n",
        "[Parallel(n_jobs=4)]: Done   4 out of   4 | elapsed:    4.0s finished\n"
       ]
      },
      {
       "output_type": "stream",
       "stream": "stderr",
       "text": [
        "[Parallel(n_jobs=4)]: Done   1 out of   4 | elapsed:    0.1s remaining:    0.4s\n",
        "[Parallel(n_jobs=4)]: Done   4 out of   4 | elapsed:    0.1s finished\n",
        "[Parallel(n_jobs=4)]: Done   1 out of   4 | elapsed:    3.7s remaining:   11.2s\n",
        "[Parallel(n_jobs=4)]: Done   4 out of   4 | elapsed:    4.1s finished\n"
       ]
      },
      {
       "output_type": "stream",
       "stream": "stderr",
       "text": [
        "[Parallel(n_jobs=4)]: Done   1 out of   4 | elapsed:    0.1s remaining:    0.4s\n",
        "[Parallel(n_jobs=4)]: Done   4 out of   4 | elapsed:    0.1s finished\n",
        "[Parallel(n_jobs=4)]: Done   1 out of   4 | elapsed:    2.1s remaining:    6.3s\n",
        "[Parallel(n_jobs=4)]: Done   4 out of   4 | elapsed:    2.5s finished\n"
       ]
      },
      {
       "output_type": "stream",
       "stream": "stderr",
       "text": [
        "[Parallel(n_jobs=4)]: Done   1 out of   4 | elapsed:    0.1s remaining:    0.3s\n",
        "[Parallel(n_jobs=4)]: Done   4 out of   4 | elapsed:    0.1s finished\n",
        "[Parallel(n_jobs=4)]: Done   1 out of   4 | elapsed:    2.1s remaining:    6.3s\n",
        "[Parallel(n_jobs=4)]: Done   4 out of   4 | elapsed:    2.6s finished\n"
       ]
      },
      {
       "output_type": "stream",
       "stream": "stderr",
       "text": [
        "[Parallel(n_jobs=4)]: Done   1 out of   4 | elapsed:    0.1s remaining:    0.3s\n",
        "[Parallel(n_jobs=4)]: Done   4 out of   4 | elapsed:    0.1s finished\n",
        "[Parallel(n_jobs=4)]: Done   1 out of   4 | elapsed:    2.7s remaining:    8.0s\n",
        "[Parallel(n_jobs=4)]: Done   4 out of   4 | elapsed:    2.7s finished\n"
       ]
      },
      {
       "output_type": "stream",
       "stream": "stderr",
       "text": [
        "[Parallel(n_jobs=4)]: Done   1 out of   4 | elapsed:    0.1s remaining:    0.2s\n",
        "[Parallel(n_jobs=4)]: Done   4 out of   4 | elapsed:    0.1s finished\n",
        "[Parallel(n_jobs=4)]: Done   1 out of   4 | elapsed:    5.0s remaining:   15.0s\n",
        "[Parallel(n_jobs=4)]: Done   4 out of   4 | elapsed:    5.0s finished\n"
       ]
      },
      {
       "output_type": "stream",
       "stream": "stderr",
       "text": [
        "[Parallel(n_jobs=4)]: Done   1 out of   4 | elapsed:    0.1s remaining:    0.3s\n",
        "[Parallel(n_jobs=4)]: Done   4 out of   4 | elapsed:    0.1s finished\n",
        "[Parallel(n_jobs=4)]: Done   1 out of   4 | elapsed:    4.5s remaining:   13.4s\n",
        "[Parallel(n_jobs=4)]: Done   4 out of   4 | elapsed:    4.8s finished\n"
       ]
      },
      {
       "output_type": "stream",
       "stream": "stderr",
       "text": [
        "[Parallel(n_jobs=4)]: Done   1 out of   4 | elapsed:    0.1s remaining:    0.3s\n",
        "[Parallel(n_jobs=4)]: Done   4 out of   4 | elapsed:    0.1s finished\n",
        "[Parallel(n_jobs=4)]: Done   1 out of   4 | elapsed:    5.0s remaining:   15.1s\n",
        "[Parallel(n_jobs=4)]: Done   4 out of   4 | elapsed:    5.0s finished\n"
       ]
      },
      {
       "output_type": "stream",
       "stream": "stderr",
       "text": [
        "[Parallel(n_jobs=4)]: Done   1 out of   4 | elapsed:    0.1s remaining:    0.3s\n",
        "[Parallel(n_jobs=4)]: Done   4 out of   4 | elapsed:    0.1s finished\n",
        "[Parallel(n_jobs=4)]: Done   1 out of   4 | elapsed:    5.2s remaining:   15.6s\n",
        "[Parallel(n_jobs=4)]: Done   4 out of   4 | elapsed:    5.7s finished\n"
       ]
      },
      {
       "output_type": "stream",
       "stream": "stderr",
       "text": [
        "[Parallel(n_jobs=4)]: Done   1 out of   4 | elapsed:    0.1s remaining:    0.3s\n",
        "[Parallel(n_jobs=4)]: Done   4 out of   4 | elapsed:    0.1s finished\n",
        "[Parallel(n_jobs=4)]: Done   1 out of   4 | elapsed:    5.2s remaining:   15.5s\n",
        "[Parallel(n_jobs=4)]: Done   4 out of   4 | elapsed:    6.1s finished\n"
       ]
      },
      {
       "output_type": "stream",
       "stream": "stderr",
       "text": [
        "[Parallel(n_jobs=4)]: Done   1 out of   4 | elapsed:    0.1s remaining:    0.3s\n",
        "[Parallel(n_jobs=4)]: Done   4 out of   4 | elapsed:    0.1s finished\n",
        "[Parallel(n_jobs=4)]: Done   1 out of   4 | elapsed:    6.1s remaining:   18.4s\n",
        "[Parallel(n_jobs=4)]: Done   4 out of   4 | elapsed:    6.1s finished\n"
       ]
      },
      {
       "output_type": "stream",
       "stream": "stderr",
       "text": [
        "[Parallel(n_jobs=4)]: Done   1 out of   4 | elapsed:    0.1s remaining:    0.3s\n",
        "[Parallel(n_jobs=4)]: Done   4 out of   4 | elapsed:    0.1s finished\n",
        "[Parallel(n_jobs=4)]: Done   1 out of   4 | elapsed:    2.4s remaining:    7.3s\n",
        "[Parallel(n_jobs=4)]: Done   4 out of   4 | elapsed:    2.6s finished\n"
       ]
      },
      {
       "output_type": "stream",
       "stream": "stderr",
       "text": [
        "[Parallel(n_jobs=4)]: Done   1 out of   4 | elapsed:    0.0s remaining:    0.1s\n",
        "[Parallel(n_jobs=4)]: Done   4 out of   4 | elapsed:    0.0s finished\n",
        "[Parallel(n_jobs=4)]: Done   1 out of   4 | elapsed:    2.6s remaining:    7.9s\n",
        "[Parallel(n_jobs=4)]: Done   4 out of   4 | elapsed:    2.6s finished\n"
       ]
      },
      {
       "output_type": "stream",
       "stream": "stderr",
       "text": [
        "[Parallel(n_jobs=4)]: Done   1 out of   4 | elapsed:    0.0s remaining:    0.1s\n",
        "[Parallel(n_jobs=4)]: Done   4 out of   4 | elapsed:    0.1s finished\n",
        "[Parallel(n_jobs=4)]: Done   1 out of   4 | elapsed:    2.5s remaining:    7.5s\n",
        "[Parallel(n_jobs=4)]: Done   4 out of   4 | elapsed:    2.5s finished\n"
       ]
      },
      {
       "output_type": "stream",
       "stream": "stderr",
       "text": [
        "[Parallel(n_jobs=4)]: Done   1 out of   4 | elapsed:    0.0s remaining:    0.1s\n",
        "[Parallel(n_jobs=4)]: Done   4 out of   4 | elapsed:    0.0s finished\n",
        "[Parallel(n_jobs=4)]: Done   1 out of   4 | elapsed:   10.5s remaining:   31.4s\n",
        "[Parallel(n_jobs=4)]: Done   4 out of   4 | elapsed:   11.4s finished\n"
       ]
      },
      {
       "output_type": "stream",
       "stream": "stderr",
       "text": [
        "[Parallel(n_jobs=4)]: Done   1 out of   4 | elapsed:    0.3s remaining:    0.8s\n",
        "[Parallel(n_jobs=4)]: Done   4 out of   4 | elapsed:    0.3s finished\n",
        "[Parallel(n_jobs=4)]: Done   1 out of   4 | elapsed:    9.9s remaining:   29.7s\n",
        "[Parallel(n_jobs=4)]: Done   4 out of   4 | elapsed:   11.3s finished\n"
       ]
      },
      {
       "output_type": "stream",
       "stream": "stderr",
       "text": [
        "[Parallel(n_jobs=4)]: Done   1 out of   4 | elapsed:    0.2s remaining:    0.7s\n",
        "[Parallel(n_jobs=4)]: Done   4 out of   4 | elapsed:    0.2s finished\n",
        "[Parallel(n_jobs=4)]: Done   1 out of   4 | elapsed:   11.2s remaining:   33.6s\n",
        "[Parallel(n_jobs=4)]: Done   4 out of   4 | elapsed:   11.2s finished\n"
       ]
      },
      {
       "output_type": "stream",
       "stream": "stderr",
       "text": [
        "[Parallel(n_jobs=4)]: Done   1 out of   4 | elapsed:    0.2s remaining:    0.7s\n",
        "[Parallel(n_jobs=4)]: Done   4 out of   4 | elapsed:    0.3s finished\n",
        "[Parallel(n_jobs=4)]: Done   1 out of   4 | elapsed:    0.3s remaining:    0.9s\n",
        "[Parallel(n_jobs=4)]: Done   4 out of   4 | elapsed:    0.3s finished\n"
       ]
      }
     ],
     "prompt_number": 34
    },
    {
     "cell_type": "code",
     "collapsed": false,
     "input": [
      "print (result_random_search_rf.best_estimator_)"
     ],
     "language": "python",
     "metadata": {},
     "outputs": [
      {
       "output_type": "stream",
       "stream": "stdout",
       "text": [
        "RandomForestClassifier(bootstrap=True, compute_importances=None,\n",
        "            criterion='gini', max_depth=None, max_features=None,\n",
        "            max_leaf_nodes=None, min_density=None, min_samples_leaf=1,\n",
        "            min_samples_split=2, n_estimators=40, n_jobs=-1,\n",
        "            oob_score=True, random_state=None, verbose=1)\n"
       ]
      }
     ],
     "prompt_number": 35
    },
    {
     "cell_type": "code",
     "collapsed": false,
     "input": [
      "clf = RandomForestClassifier(bootstrap=True, compute_importances=None,\n",
      "            criterion='gini', max_depth=None, max_features=None,\n",
      "            max_leaf_nodes=None, min_density=None, min_samples_leaf=1,\n",
      "            min_samples_split=2, n_estimators=730, n_jobs=1,\n",
      "            oob_score=True, random_state=None, verbose=1)"
     ],
     "language": "python",
     "metadata": {},
     "outputs": []
    },
    {
     "cell_type": "code",
     "collapsed": false,
     "input": [
      "clf3 = RandomForestClassifier(bootstrap=True, compute_importances=None,\n",
      "            criterion='entropy', max_depth=None, max_features=None,\n",
      "            max_leaf_nodes=None, min_density=None, min_samples_leaf=1,\n",
      "            min_samples_split=2, n_estimators=835, n_jobs=1,\n",
      "            oob_score=True, random_state=None, verbose=1)\n",
      "\n"
     ],
     "language": "python",
     "metadata": {},
     "outputs": [],
     "prompt_number": 23
    },
    {
     "cell_type": "code",
     "collapsed": false,
     "input": [
      "clf3 = RandomForestClassifier(bootstrap=True, compute_importances=None,\n",
      "            criterion='gini', max_depth=None, max_features=None,\n",
      "            max_leaf_nodes=None, min_density=None, min_samples_leaf=1,\n",
      "            min_samples_split=2, n_estimators=40, n_jobs=-1,\n",
      "            oob_score=True, random_state=None, verbose=1)"
     ],
     "language": "python",
     "metadata": {},
     "outputs": [],
     "prompt_number": 36
    },
    {
     "cell_type": "code",
     "collapsed": false,
     "input": [
      "result_random_search_rf.grid_scores_"
     ],
     "language": "python",
     "metadata": {},
     "outputs": [
      {
       "metadata": {},
       "output_type": "pyout",
       "prompt_number": 37,
       "text": [
        "[mean: 0.89533, std: 0.01190, params: {'n_estimators': 455, 'criterion': 'gini'},\n",
        " mean: 0.89274, std: 0.01169, params: {'n_estimators': 990, 'criterion': 'gini'},\n",
        " mean: 0.89307, std: 0.00898, params: {'n_estimators': 295, 'criterion': 'entropy'},\n",
        " mean: 0.89371, std: 0.00842, params: {'n_estimators': 870, 'criterion': 'entropy'},\n",
        " mean: 0.89112, std: 0.01203, params: {'n_estimators': 85, 'criterion': 'entropy'},\n",
        " mean: 0.89307, std: 0.00927, params: {'n_estimators': 695, 'criterion': 'entropy'},\n",
        " mean: 0.89307, std: 0.01041, params: {'n_estimators': 815, 'criterion': 'entropy'},\n",
        " mean: 0.89274, std: 0.00921, params: {'n_estimators': 985, 'criterion': 'entropy'},\n",
        " mean: 0.89371, std: 0.00921, params: {'n_estimators': 815, 'criterion': 'entropy'},\n",
        " mean: 0.89145, std: 0.00732, params: {'n_estimators': 925, 'criterion': 'entropy'},\n",
        " mean: 0.89339, std: 0.01127, params: {'n_estimators': 975, 'criterion': 'gini'},\n",
        " mean: 0.89436, std: 0.01207, params: {'n_estimators': 575, 'criterion': 'gini'},\n",
        " mean: 0.89242, std: 0.00863, params: {'n_estimators': 30, 'criterion': 'entropy'},\n",
        " mean: 0.89436, std: 0.01041, params: {'n_estimators': 30, 'criterion': 'entropy'},\n",
        " mean: 0.89274, std: 0.00921, params: {'n_estimators': 155, 'criterion': 'entropy'},\n",
        " mean: 0.89404, std: 0.01085, params: {'n_estimators': 570, 'criterion': 'entropy'},\n",
        " mean: 0.89436, std: 0.01004, params: {'n_estimators': 260, 'criterion': 'entropy'},\n",
        " mean: 0.89274, std: 0.00776, params: {'n_estimators': 760, 'criterion': 'entropy'},\n",
        " mean: 0.89339, std: 0.00811, params: {'n_estimators': 80, 'criterion': 'entropy'},\n",
        " mean: 0.88918, std: 0.00779, params: {'n_estimators': 35, 'criterion': 'entropy'},\n",
        " mean: 0.89436, std: 0.01020, params: {'n_estimators': 670, 'criterion': 'gini'},\n",
        " mean: 0.89209, std: 0.00768, params: {'n_estimators': 820, 'criterion': 'entropy'},\n",
        " mean: 0.89307, std: 0.00882, params: {'n_estimators': 345, 'criterion': 'entropy'},\n",
        " mean: 0.89274, std: 0.00841, params: {'n_estimators': 165, 'criterion': 'entropy'},\n",
        " mean: 0.89404, std: 0.01006, params: {'n_estimators': 325, 'criterion': 'gini'},\n",
        " mean: 0.89371, std: 0.01012, params: {'n_estimators': 410, 'criterion': 'entropy'},\n",
        " mean: 0.89339, std: 0.00881, params: {'n_estimators': 665, 'criterion': 'entropy'},\n",
        " mean: 0.89436, std: 0.01176, params: {'n_estimators': 75, 'criterion': 'gini'},\n",
        " mean: 0.89339, std: 0.01176, params: {'n_estimators': 635, 'criterion': 'gini'},\n",
        " mean: 0.89404, std: 0.01263, params: {'n_estimators': 855, 'criterion': 'gini'},\n",
        " mean: 0.89112, std: 0.00961, params: {'n_estimators': 70, 'criterion': 'entropy'},\n",
        " mean: 0.89469, std: 0.01041, params: {'n_estimators': 935, 'criterion': 'gini'},\n",
        " mean: 0.89145, std: 0.01040, params: {'n_estimators': 445, 'criterion': 'gini'},\n",
        " mean: 0.89469, std: 0.01012, params: {'n_estimators': 935, 'criterion': 'gini'},\n",
        " mean: 0.89404, std: 0.00976, params: {'n_estimators': 305, 'criterion': 'gini'},\n",
        " mean: 0.89339, std: 0.01102, params: {'n_estimators': 55, 'criterion': 'entropy'},\n",
        " mean: 0.89339, std: 0.01048, params: {'n_estimators': 310, 'criterion': 'gini'},\n",
        " mean: 0.88983, std: 0.01041, params: {'n_estimators': 80, 'criterion': 'gini'},\n",
        " mean: 0.89242, std: 0.00922, params: {'n_estimators': 285, 'criterion': 'entropy'},\n",
        " mean: 0.89371, std: 0.01141, params: {'n_estimators': 195, 'criterion': 'gini'},\n",
        " mean: 0.89436, std: 0.01073, params: {'n_estimators': 230, 'criterion': 'gini'},\n",
        " mean: 0.89404, std: 0.01185, params: {'n_estimators': 925, 'criterion': 'gini'},\n",
        " mean: 0.89404, std: 0.00927, params: {'n_estimators': 825, 'criterion': 'entropy'},\n",
        " mean: 0.89501, std: 0.01212, params: {'n_estimators': 290, 'criterion': 'gini'},\n",
        " mean: 0.89209, std: 0.00926, params: {'n_estimators': 940, 'criterion': 'entropy'},\n",
        " mean: 0.89112, std: 0.00610, params: {'n_estimators': 515, 'criterion': 'entropy'},\n",
        " mean: 0.89209, std: 0.01120, params: {'n_estimators': 195, 'criterion': 'gini'},\n",
        " mean: 0.89274, std: 0.01160, params: {'n_estimators': 310, 'criterion': 'gini'},\n",
        " mean: 0.89177, std: 0.00772, params: {'n_estimators': 935, 'criterion': 'entropy'},\n",
        " mean: 0.89436, std: 0.01048, params: {'n_estimators': 130, 'criterion': 'gini'},\n",
        " mean: 0.89436, std: 0.00882, params: {'n_estimators': 335, 'criterion': 'gini'},\n",
        " mean: 0.89209, std: 0.00881, params: {'n_estimators': 545, 'criterion': 'entropy'},\n",
        " mean: 0.89307, std: 0.00927, params: {'n_estimators': 660, 'criterion': 'entropy'},\n",
        " mean: 0.89242, std: 0.00969, params: {'n_estimators': 500, 'criterion': 'entropy'},\n",
        " mean: 0.89307, std: 0.01184, params: {'n_estimators': 120, 'criterion': 'gini'},\n",
        " mean: 0.89371, std: 0.00854, params: {'n_estimators': 520, 'criterion': 'entropy'},\n",
        " mean: 0.89501, std: 0.01145, params: {'n_estimators': 165, 'criterion': 'gini'},\n",
        " mean: 0.89274, std: 0.01319, params: {'n_estimators': 920, 'criterion': 'gini'},\n",
        " mean: 0.89307, std: 0.01006, params: {'n_estimators': 595, 'criterion': 'gini'},\n",
        " mean: 0.89274, std: 0.01169, params: {'n_estimators': 530, 'criterion': 'gini'},\n",
        " mean: 0.89145, std: 0.01129, params: {'n_estimators': 75, 'criterion': 'entropy'},\n",
        " mean: 0.89501, std: 0.01086, params: {'n_estimators': 255, 'criterion': 'gini'},\n",
        " mean: 0.89404, std: 0.00820, params: {'n_estimators': 140, 'criterion': 'gini'},\n",
        " mean: 0.89177, std: 0.01140, params: {'n_estimators': 95, 'criterion': 'gini'},\n",
        " mean: 0.89339, std: 0.00863, params: {'n_estimators': 135, 'criterion': 'entropy'},\n",
        " mean: 0.89501, std: 0.01055, params: {'n_estimators': 995, 'criterion': 'gini'},\n",
        " mean: 0.89695, std: 0.01163, params: {'n_estimators': 40, 'criterion': 'gini'},\n",
        " mean: 0.89112, std: 0.00847, params: {'n_estimators': 160, 'criterion': 'entropy'},\n",
        " mean: 0.89501, std: 0.01185, params: {'n_estimators': 450, 'criterion': 'gini'},\n",
        " mean: 0.89339, std: 0.00843, params: {'n_estimators': 905, 'criterion': 'entropy'},\n",
        " mean: 0.89436, std: 0.01241, params: {'n_estimators': 395, 'criterion': 'gini'},\n",
        " mean: 0.89501, std: 0.01145, params: {'n_estimators': 650, 'criterion': 'gini'},\n",
        " mean: 0.89242, std: 0.00922, params: {'n_estimators': 995, 'criterion': 'entropy'},\n",
        " mean: 0.89533, std: 0.01207, params: {'n_estimators': 425, 'criterion': 'gini'},\n",
        " mean: 0.89242, std: 0.01019, params: {'n_estimators': 195, 'criterion': 'entropy'},\n",
        " mean: 0.89112, std: 0.01028, params: {'n_estimators': 125, 'criterion': 'gini'},\n",
        " mean: 0.89404, std: 0.01006, params: {'n_estimators': 190, 'criterion': 'gini'},\n",
        " mean: 0.89339, std: 0.01130, params: {'n_estimators': 635, 'criterion': 'gini'},\n",
        " mean: 0.89339, std: 0.01206, params: {'n_estimators': 385, 'criterion': 'gini'},\n",
        " mean: 0.89177, std: 0.00964, params: {'n_estimators': 235, 'criterion': 'gini'},\n",
        " mean: 0.89533, std: 0.01049, params: {'n_estimators': 745, 'criterion': 'gini'},\n",
        " mean: 0.89242, std: 0.00732, params: {'n_estimators': 675, 'criterion': 'entropy'},\n",
        " mean: 0.89436, std: 0.01207, params: {'n_estimators': 625, 'criterion': 'gini'},\n",
        " mean: 0.89371, std: 0.01219, params: {'n_estimators': 250, 'criterion': 'gini'},\n",
        " mean: 0.89307, std: 0.00961, params: {'n_estimators': 375, 'criterion': 'entropy'},\n",
        " mean: 0.89307, std: 0.01085, params: {'n_estimators': 835, 'criterion': 'gini'},\n",
        " mean: 0.89436, std: 0.01207, params: {'n_estimators': 585, 'criterion': 'gini'},\n",
        " mean: 0.89274, std: 0.00805, params: {'n_estimators': 565, 'criterion': 'entropy'},\n",
        " mean: 0.89242, std: 0.01161, params: {'n_estimators': 300, 'criterion': 'gini'},\n",
        " mean: 0.89242, std: 0.00801, params: {'n_estimators': 505, 'criterion': 'entropy'},\n",
        " mean: 0.89339, std: 0.00996, params: {'n_estimators': 430, 'criterion': 'gini'},\n",
        " mean: 0.89047, std: 0.00903, params: {'n_estimators': 55, 'criterion': 'entropy'},\n",
        " mean: 0.89307, std: 0.00882, params: {'n_estimators': 945, 'criterion': 'entropy'},\n",
        " mean: 0.89274, std: 0.00885, params: {'n_estimators': 265, 'criterion': 'entropy'},\n",
        " mean: 0.89274, std: 0.01160, params: {'n_estimators': 825, 'criterion': 'gini'},\n",
        " mean: 0.89695, std: 0.01007, params: {'n_estimators': 195, 'criterion': 'entropy'},\n",
        " mean: 0.89469, std: 0.01081, params: {'n_estimators': 790, 'criterion': 'gini'},\n",
        " mean: 0.89469, std: 0.00922, params: {'n_estimators': 350, 'criterion': 'gini'},\n",
        " mean: 0.89274, std: 0.00883, params: {'n_estimators': 745, 'criterion': 'entropy'},\n",
        " mean: 0.89209, std: 0.00975, params: {'n_estimators': 665, 'criterion': 'gini'},\n",
        " mean: 0.89177, std: 0.00761, params: {'n_estimators': 305, 'criterion': 'entropy'},\n",
        " mean: 0.89274, std: 0.00724, params: {'n_estimators': 580, 'criterion': 'entropy'},\n",
        " mean: 0.89436, std: 0.01255, params: {'n_estimators': 805, 'criterion': 'gini'},\n",
        " mean: 0.89307, std: 0.01212, params: {'n_estimators': 595, 'criterion': 'gini'},\n",
        " mean: 0.89177, std: 0.00803, params: {'n_estimators': 765, 'criterion': 'entropy'},\n",
        " mean: 0.89436, std: 0.01127, params: {'n_estimators': 955, 'criterion': 'gini'},\n",
        " mean: 0.89177, std: 0.01000, params: {'n_estimators': 190, 'criterion': 'entropy'},\n",
        " mean: 0.89339, std: 0.01002, params: {'n_estimators': 530, 'criterion': 'entropy'},\n",
        " mean: 0.89371, std: 0.01251, params: {'n_estimators': 240, 'criterion': 'gini'},\n",
        " mean: 0.89307, std: 0.01085, params: {'n_estimators': 930, 'criterion': 'gini'},\n",
        " mean: 0.89469, std: 0.00965, params: {'n_estimators': 460, 'criterion': 'entropy'},\n",
        " mean: 0.89177, std: 0.00761, params: {'n_estimators': 245, 'criterion': 'entropy'},\n",
        " mean: 0.89145, std: 0.00811, params: {'n_estimators': 975, 'criterion': 'entropy'},\n",
        " mean: 0.89209, std: 0.00926, params: {'n_estimators': 960, 'criterion': 'entropy'},\n",
        " mean: 0.89469, std: 0.01141, params: {'n_estimators': 705, 'criterion': 'gini'},\n",
        " mean: 0.89436, std: 0.01200, params: {'n_estimators': 935, 'criterion': 'gini'},\n",
        " mean: 0.89566, std: 0.01170, params: {'n_estimators': 550, 'criterion': 'gini'},\n",
        " mean: 0.89274, std: 0.00985, params: {'n_estimators': 195, 'criterion': 'gini'},\n",
        " mean: 0.89501, std: 0.01212, params: {'n_estimators': 710, 'criterion': 'gini'},\n",
        " mean: 0.89307, std: 0.00802, params: {'n_estimators': 665, 'criterion': 'entropy'},\n",
        " mean: 0.89404, std: 0.01200, params: {'n_estimators': 600, 'criterion': 'gini'},\n",
        " mean: 0.89371, std: 0.01219, params: {'n_estimators': 435, 'criterion': 'gini'},\n",
        " mean: 0.89371, std: 0.01141, params: {'n_estimators': 795, 'criterion': 'gini'},\n",
        " mean: 0.89145, std: 0.00763, params: {'n_estimators': 865, 'criterion': 'entropy'},\n",
        " mean: 0.89274, std: 0.00841, params: {'n_estimators': 245, 'criterion': 'entropy'},\n",
        " mean: 0.89371, std: 0.01012, params: {'n_estimators': 540, 'criterion': 'gini'},\n",
        " mean: 0.89307, std: 0.00898, params: {'n_estimators': 125, 'criterion': 'entropy'},\n",
        " mean: 0.89274, std: 0.00921, params: {'n_estimators': 290, 'criterion': 'entropy'},\n",
        " mean: 0.89242, std: 0.00922, params: {'n_estimators': 320, 'criterion': 'entropy'},\n",
        " mean: 0.89469, std: 0.01123, params: {'n_estimators': 590, 'criterion': 'gini'},\n",
        " mean: 0.89469, std: 0.00965, params: {'n_estimators': 630, 'criterion': 'gini'},\n",
        " mean: 0.89469, std: 0.01175, params: {'n_estimators': 930, 'criterion': 'gini'},\n",
        " mean: 0.89177, std: 0.00884, params: {'n_estimators': 295, 'criterion': 'entropy'},\n",
        " mean: 0.89177, std: 0.01000, params: {'n_estimators': 245, 'criterion': 'gini'},\n",
        " mean: 0.89307, std: 0.01029, params: {'n_estimators': 470, 'criterion': 'entropy'},\n",
        " mean: 0.89242, std: 0.01002, params: {'n_estimators': 605, 'criterion': 'entropy'},\n",
        " mean: 0.89209, std: 0.00722, params: {'n_estimators': 590, 'criterion': 'entropy'},\n",
        " mean: 0.89501, std: 0.00742, params: {'n_estimators': 975, 'criterion': 'entropy'},\n",
        " mean: 0.89371, std: 0.01091, params: {'n_estimators': 970, 'criterion': 'gini'},\n",
        " mean: 0.89404, std: 0.01029, params: {'n_estimators': 450, 'criterion': 'gini'},\n",
        " mean: 0.89242, std: 0.00922, params: {'n_estimators': 715, 'criterion': 'entropy'},\n",
        " mean: 0.89371, std: 0.01272, params: {'n_estimators': 150, 'criterion': 'gini'},\n",
        " mean: 0.89177, std: 0.00964, params: {'n_estimators': 800, 'criterion': 'gini'},\n",
        " mean: 0.89209, std: 0.01005, params: {'n_estimators': 260, 'criterion': 'entropy'},\n",
        " mean: 0.89307, std: 0.01029, params: {'n_estimators': 820, 'criterion': 'gini'},\n",
        " mean: 0.89274, std: 0.00804, params: {'n_estimators': 580, 'criterion': 'entropy'},\n",
        " mean: 0.89080, std: 0.00853, params: {'n_estimators': 80, 'criterion': 'entropy'},\n",
        " mean: 0.89371, std: 0.01041, params: {'n_estimators': 485, 'criterion': 'gini'},\n",
        " mean: 0.89209, std: 0.00762, params: {'n_estimators': 475, 'criterion': 'entropy'},\n",
        " mean: 0.89177, std: 0.01090, params: {'n_estimators': 290, 'criterion': 'entropy'},\n",
        " mean: 0.89307, std: 0.01054, params: {'n_estimators': 485, 'criterion': 'gini'},\n",
        " mean: 0.89307, std: 0.01205, params: {'n_estimators': 290, 'criterion': 'gini'},\n",
        " mean: 0.89307, std: 0.00842, params: {'n_estimators': 990, 'criterion': 'entropy'},\n",
        " mean: 0.89274, std: 0.00854, params: {'n_estimators': 260, 'criterion': 'entropy'},\n",
        " mean: 0.89242, std: 0.00961, params: {'n_estimators': 660, 'criterion': 'entropy'},\n",
        " mean: 0.89274, std: 0.01011, params: {'n_estimators': 565, 'criterion': 'entropy'},\n",
        " mean: 0.89177, std: 0.00921, params: {'n_estimators': 880, 'criterion': 'entropy'},\n",
        " mean: 0.89339, std: 0.00969, params: {'n_estimators': 270, 'criterion': 'gini'},\n",
        " mean: 0.89501, std: 0.01006, params: {'n_estimators': 920, 'criterion': 'gini'},\n",
        " mean: 0.89274, std: 0.01090, params: {'n_estimators': 325, 'criterion': 'gini'},\n",
        " mean: 0.89371, std: 0.00842, params: {'n_estimators': 965, 'criterion': 'entropy'},\n",
        " mean: 0.89242, std: 0.00811, params: {'n_estimators': 500, 'criterion': 'entropy'},\n",
        " mean: 0.89274, std: 0.00805, params: {'n_estimators': 760, 'criterion': 'entropy'},\n",
        " mean: 0.89209, std: 0.00847, params: {'n_estimators': 640, 'criterion': 'entropy'},\n",
        " mean: 0.89209, std: 0.00961, params: {'n_estimators': 420, 'criterion': 'entropy'},\n",
        " mean: 0.89371, std: 0.01118, params: {'n_estimators': 765, 'criterion': 'gini'},\n",
        " mean: 0.89469, std: 0.01195, params: {'n_estimators': 575, 'criterion': 'gini'},\n",
        " mean: 0.89371, std: 0.00804, params: {'n_estimators': 465, 'criterion': 'entropy'},\n",
        " mean: 0.89371, std: 0.01141, params: {'n_estimators': 705, 'criterion': 'gini'},\n",
        " mean: 0.89339, std: 0.01255, params: {'n_estimators': 950, 'criterion': 'gini'},\n",
        " mean: 0.89242, std: 0.01073, params: {'n_estimators': 215, 'criterion': 'gini'},\n",
        " mean: 0.89145, std: 0.01206, params: {'n_estimators': 15, 'criterion': 'gini'},\n",
        " mean: 0.89274, std: 0.00726, params: {'n_estimators': 445, 'criterion': 'entropy'},\n",
        " mean: 0.89242, std: 0.01002, params: {'n_estimators': 580, 'criterion': 'entropy'},\n",
        " mean: 0.89339, std: 0.01073, params: {'n_estimators': 630, 'criterion': 'gini'},\n",
        " mean: 0.89274, std: 0.00964, params: {'n_estimators': 755, 'criterion': 'entropy'},\n",
        " mean: 0.89436, std: 0.01162, params: {'n_estimators': 485, 'criterion': 'gini'},\n",
        " mean: 0.89339, std: 0.01048, params: {'n_estimators': 885, 'criterion': 'gini'},\n",
        " mean: 0.89501, std: 0.01185, params: {'n_estimators': 465, 'criterion': 'gini'},\n",
        " mean: 0.89307, std: 0.00842, params: {'n_estimators': 700, 'criterion': 'entropy'},\n",
        " mean: 0.89339, std: 0.00890, params: {'n_estimators': 570, 'criterion': 'entropy'},\n",
        " mean: 0.89371, std: 0.00964, params: {'n_estimators': 630, 'criterion': 'gini'},\n",
        " mean: 0.89371, std: 0.01175, params: {'n_estimators': 380, 'criterion': 'gini'},\n",
        " mean: 0.89242, std: 0.01054, params: {'n_estimators': 205, 'criterion': 'entropy'},\n",
        " mean: 0.89307, std: 0.00802, params: {'n_estimators': 290, 'criterion': 'entropy'},\n",
        " mean: 0.89533, std: 0.01131, params: {'n_estimators': 265, 'criterion': 'gini'},\n",
        " mean: 0.89469, std: 0.01091, params: {'n_estimators': 340, 'criterion': 'gini'},\n",
        " mean: 0.89209, std: 0.00651, params: {'n_estimators': 265, 'criterion': 'entropy'},\n",
        " mean: 0.89371, std: 0.00804, params: {'n_estimators': 435, 'criterion': 'entropy'},\n",
        " mean: 0.89274, std: 0.00933, params: {'n_estimators': 580, 'criterion': 'entropy'},\n",
        " mean: 0.89242, std: 0.01097, params: {'n_estimators': 705, 'criterion': 'gini'},\n",
        " mean: 0.89274, std: 0.01248, params: {'n_estimators': 430, 'criterion': 'gini'},\n",
        " mean: 0.89307, std: 0.00768, params: {'n_estimators': 460, 'criterion': 'entropy'},\n",
        " mean: 0.89209, std: 0.01005, params: {'n_estimators': 695, 'criterion': 'entropy'},\n",
        " mean: 0.89274, std: 0.00964, params: {'n_estimators': 480, 'criterion': 'entropy'},\n",
        " mean: 0.89533, std: 0.01177, params: {'n_estimators': 200, 'criterion': 'gini'},\n",
        " mean: 0.89404, std: 0.00927, params: {'n_estimators': 895, 'criterion': 'gini'},\n",
        " mean: 0.88529, std: 0.00637, params: {'n_estimators': 20, 'criterion': 'gini'},\n",
        " mean: 0.89436, std: 0.01151, params: {'n_estimators': 730, 'criterion': 'gini'},\n",
        " mean: 0.89404, std: 0.01133, params: {'n_estimators': 280, 'criterion': 'gini'},\n",
        " mean: 0.89242, std: 0.00961, params: {'n_estimators': 190, 'criterion': 'entropy'},\n",
        " mean: 0.89242, std: 0.00941, params: {'n_estimators': 130, 'criterion': 'gini'},\n",
        " mean: 0.89307, std: 0.00847, params: {'n_estimators': 960, 'criterion': 'entropy'},\n",
        " mean: 0.89339, std: 0.00843, params: {'n_estimators': 100, 'criterion': 'entropy'},\n",
        " mean: 0.89598, std: 0.01007, params: {'n_estimators': 390, 'criterion': 'gini'},\n",
        " mean: 0.89371, std: 0.01012, params: {'n_estimators': 340, 'criterion': 'entropy'},\n",
        " mean: 0.89371, std: 0.00854, params: {'n_estimators': 185, 'criterion': 'gini'},\n",
        " mean: 0.89274, std: 0.00933, params: {'n_estimators': 950, 'criterion': 'entropy'},\n",
        " mean: 0.89274, std: 0.00805, params: {'n_estimators': 760, 'criterion': 'entropy'},\n",
        " mean: 0.89339, std: 0.00881, params: {'n_estimators': 920, 'criterion': 'entropy'},\n",
        " mean: 0.89566, std: 0.01176, params: {'n_estimators': 790, 'criterion': 'gini'},\n",
        " mean: 0.89404, std: 0.01085, params: {'n_estimators': 955, 'criterion': 'gini'},\n",
        " mean: 0.89404, std: 0.01085, params: {'n_estimators': 955, 'criterion': 'gini'},\n",
        " mean: 0.89533, std: 0.01361, params: {'n_estimators': 810, 'criterion': 'gini'},\n",
        " mean: 0.89274, std: 0.00538, params: {'n_estimators': 75, 'criterion': 'entropy'},\n",
        " mean: 0.89242, std: 0.00881, params: {'n_estimators': 945, 'criterion': 'entropy'},\n",
        " mean: 0.89371, std: 0.01195, params: {'n_estimators': 140, 'criterion': 'gini'},\n",
        " mean: 0.89598, std: 0.01134, params: {'n_estimators': 610, 'criterion': 'gini'},\n",
        " mean: 0.89371, std: 0.00921, params: {'n_estimators': 525, 'criterion': 'gini'},\n",
        " mean: 0.89274, std: 0.00805, params: {'n_estimators': 450, 'criterion': 'entropy'},\n",
        " mean: 0.89371, std: 0.00963, params: {'n_estimators': 920, 'criterion': 'entropy'},\n",
        " mean: 0.89307, std: 0.00922, params: {'n_estimators': 560, 'criterion': 'entropy'},\n",
        " mean: 0.89339, std: 0.00923, params: {'n_estimators': 680, 'criterion': 'entropy'},\n",
        " mean: 0.89533, std: 0.01131, params: {'n_estimators': 735, 'criterion': 'gini'},\n",
        " mean: 0.89274, std: 0.00921, params: {'n_estimators': 965, 'criterion': 'entropy'},\n",
        " mean: 0.89371, std: 0.00985, params: {'n_estimators': 935, 'criterion': 'gini'},\n",
        " mean: 0.89177, std: 0.00964, params: {'n_estimators': 290, 'criterion': 'gini'},\n",
        " mean: 0.89371, std: 0.00933, params: {'n_estimators': 400, 'criterion': 'entropy'},\n",
        " mean: 0.89339, std: 0.00969, params: {'n_estimators': 155, 'criterion': 'gini'},\n",
        " mean: 0.89112, std: 0.00722, params: {'n_estimators': 25, 'criterion': 'entropy'},\n",
        " mean: 0.89371, std: 0.01123, params: {'n_estimators': 950, 'criterion': 'gini'},\n",
        " mean: 0.89112, std: 0.00881, params: {'n_estimators': 200, 'criterion': 'gini'},\n",
        " mean: 0.89339, std: 0.01228, params: {'n_estimators': 930, 'criterion': 'gini'},\n",
        " mean: 0.89436, std: 0.01127, params: {'n_estimators': 970, 'criterion': 'gini'},\n",
        " mean: 0.89209, std: 0.01133, params: {'n_estimators': 365, 'criterion': 'gini'},\n",
        " mean: 0.89501, std: 0.01263, params: {'n_estimators': 145, 'criterion': 'gini'},\n",
        " mean: 0.89339, std: 0.01004, params: {'n_estimators': 520, 'criterion': 'gini'},\n",
        " mean: 0.89112, std: 0.00897, params: {'n_estimators': 70, 'criterion': 'gini'},\n",
        " mean: 0.89307, std: 0.01120, params: {'n_estimators': 280, 'criterion': 'entropy'},\n",
        " mean: 0.89274, std: 0.00929, params: {'n_estimators': 205, 'criterion': 'entropy'},\n",
        " mean: 0.89339, std: 0.00941, params: {'n_estimators': 435, 'criterion': 'gini'},\n",
        " mean: 0.89307, std: 0.00842, params: {'n_estimators': 690, 'criterion': 'entropy'},\n",
        " mean: 0.89501, std: 0.01086, params: {'n_estimators': 515, 'criterion': 'gini'},\n",
        " mean: 0.89404, std: 0.00976, params: {'n_estimators': 815, 'criterion': 'gini'},\n",
        " mean: 0.89274, std: 0.01063, params: {'n_estimators': 950, 'criterion': 'gini'},\n",
        " mean: 0.89339, std: 0.00925, params: {'n_estimators': 560, 'criterion': 'entropy'},\n",
        " mean: 0.89469, std: 0.01220, params: {'n_estimators': 860, 'criterion': 'gini'},\n",
        " mean: 0.89598, std: 0.01086, params: {'n_estimators': 85, 'criterion': 'gini'},\n",
        " mean: 0.89339, std: 0.01176, params: {'n_estimators': 90, 'criterion': 'gini'},\n",
        " mean: 0.89371, std: 0.00725, params: {'n_estimators': 500, 'criterion': 'entropy'},\n",
        " mean: 0.89371, std: 0.01248, params: {'n_estimators': 735, 'criterion': 'gini'},\n",
        " mean: 0.89436, std: 0.00816, params: {'n_estimators': 285, 'criterion': 'entropy'},\n",
        " mean: 0.89242, std: 0.01150, params: {'n_estimators': 220, 'criterion': 'gini'},\n",
        " mean: 0.89436, std: 0.01127, params: {'n_estimators': 795, 'criterion': 'gini'},\n",
        " mean: 0.89501, std: 0.00882, params: {'n_estimators': 105, 'criterion': 'entropy'},\n",
        " mean: 0.89339, std: 0.00881, params: {'n_estimators': 980, 'criterion': 'entropy'},\n",
        " mean: 0.89371, std: 0.01310, params: {'n_estimators': 335, 'criterion': 'gini'},\n",
        " mean: 0.89242, std: 0.01127, params: {'n_estimators': 285, 'criterion': 'gini'},\n",
        " mean: 0.89209, std: 0.00937, params: {'n_estimators': 855, 'criterion': 'entropy'},\n",
        " mean: 0.89404, std: 0.00962, params: {'n_estimators': 250, 'criterion': 'gini'},\n",
        " mean: 0.89436, std: 0.01054, params: {'n_estimators': 530, 'criterion': 'gini'},\n",
        " mean: 0.89339, std: 0.01073, params: {'n_estimators': 260, 'criterion': 'gini'},\n",
        " mean: 0.89209, std: 0.00802, params: {'n_estimators': 445, 'criterion': 'entropy'},\n",
        " mean: 0.89371, std: 0.01091, params: {'n_estimators': 585, 'criterion': 'gini'},\n",
        " mean: 0.89469, std: 0.01118, params: {'n_estimators': 165, 'criterion': 'gini'},\n",
        " mean: 0.89339, std: 0.01228, params: {'n_estimators': 165, 'criterion': 'gini'},\n",
        " mean: 0.89307, std: 0.00802, params: {'n_estimators': 290, 'criterion': 'entropy'},\n",
        " mean: 0.89274, std: 0.01141, params: {'n_estimators': 265, 'criterion': 'gini'},\n",
        " mean: 0.89015, std: 0.01132, params: {'n_estimators': 55, 'criterion': 'entropy'},\n",
        " mean: 0.89242, std: 0.01097, params: {'n_estimators': 720, 'criterion': 'gini'},\n",
        " mean: 0.89242, std: 0.00969, params: {'n_estimators': 760, 'criterion': 'entropy'},\n",
        " mean: 0.89177, std: 0.00921, params: {'n_estimators': 385, 'criterion': 'entropy'},\n",
        " mean: 0.89339, std: 0.00972, params: {'n_estimators': 675, 'criterion': 'entropy'},\n",
        " mean: 0.89436, std: 0.01207, params: {'n_estimators': 770, 'criterion': 'gini'},\n",
        " mean: 0.89145, std: 0.00863, params: {'n_estimators': 110, 'criterion': 'entropy'},\n",
        " mean: 0.89307, std: 0.01244, params: {'n_estimators': 75, 'criterion': 'entropy'},\n",
        " mean: 0.89274, std: 0.01121, params: {'n_estimators': 225, 'criterion': 'gini'},\n",
        " mean: 0.89242, std: 0.01206, params: {'n_estimators': 125, 'criterion': 'entropy'},\n",
        " mean: 0.89242, std: 0.00922, params: {'n_estimators': 400, 'criterion': 'entropy'},\n",
        " mean: 0.89145, std: 0.01081, params: {'n_estimators': 105, 'criterion': 'entropy'},\n",
        " mean: 0.89339, std: 0.00961, params: {'n_estimators': 400, 'criterion': 'entropy'},\n",
        " mean: 0.89533, std: 0.01128, params: {'n_estimators': 935, 'criterion': 'gini'},\n",
        " mean: 0.89371, std: 0.01251, params: {'n_estimators': 475, 'criterion': 'gini'},\n",
        " mean: 0.89209, std: 0.00897, params: {'n_estimators': 965, 'criterion': 'entropy'},\n",
        " mean: 0.89274, std: 0.01040, params: {'n_estimators': 100, 'criterion': 'entropy'},\n",
        " mean: 0.89339, std: 0.01120, params: {'n_estimators': 370, 'criterion': 'gini'},\n",
        " mean: 0.89177, std: 0.00964, params: {'n_estimators': 115, 'criterion': 'entropy'},\n",
        " mean: 0.89404, std: 0.00898, params: {'n_estimators': 920, 'criterion': 'gini'},\n",
        " mean: 0.89274, std: 0.00885, params: {'n_estimators': 670, 'criterion': 'entropy'},\n",
        " mean: 0.89145, std: 0.01081, params: {'n_estimators': 240, 'criterion': 'entropy'},\n",
        " mean: 0.89371, std: 0.01160, params: {'n_estimators': 225, 'criterion': 'gini'},\n",
        " mean: 0.89242, std: 0.00890, params: {'n_estimators': 150, 'criterion': 'entropy'},\n",
        " mean: 0.89080, std: 0.01011, params: {'n_estimators': 15, 'criterion': 'gini'},\n",
        " mean: 0.89339, std: 0.00843, params: {'n_estimators': 360, 'criterion': 'entropy'},\n",
        " mean: 0.89404, std: 0.01107, params: {'n_estimators': 625, 'criterion': 'gini'},\n",
        " mean: 0.89307, std: 0.01212, params: {'n_estimators': 365, 'criterion': 'gini'},\n",
        " mean: 0.89436, std: 0.00844, params: {'n_estimators': 390, 'criterion': 'entropy'},\n",
        " mean: 0.89371, std: 0.00806, params: {'n_estimators': 460, 'criterion': 'entropy'},\n",
        " mean: 0.89274, std: 0.00885, params: {'n_estimators': 205, 'criterion': 'entropy'},\n",
        " mean: 0.89339, std: 0.01002, params: {'n_estimators': 885, 'criterion': 'entropy'}]"
       ]
      }
     ],
     "prompt_number": 37
    },
    {
     "cell_type": "code",
     "collapsed": false,
     "input": [
      "import pickle\n",
      "modelFileSave = open('bigBoyCLF.pkl', 'wb')\n",
      "pickle.dump(clf, modelFileSave)\n",
      "modelFileSave.close() "
     ],
     "language": "python",
     "metadata": {},
     "outputs": [],
     "prompt_number": 29
    },
    {
     "cell_type": "code",
     "collapsed": false,
     "input": [
      "pred = clf.fit(X, t)"
     ],
     "language": "python",
     "metadata": {},
     "outputs": [
      {
       "output_type": "stream",
       "stream": "stderr",
       "text": [
        "[Parallel(n_jobs=4)]: Done   1 out of   4 | elapsed:    0.1s remaining:    0.3s\n",
        "[Parallel(n_jobs=4)]: Done   4 out of   4 | elapsed:    0.1s finished\n"
       ]
      }
     ],
     "prompt_number": 38
    },
    {
     "cell_type": "code",
     "collapsed": false,
     "input": [
      "pred = pred.predict(testdf)"
     ],
     "language": "python",
     "metadata": {},
     "outputs": [
      {
       "output_type": "stream",
       "stream": "stderr",
       "text": [
        "[Parallel(n_jobs=4)]: Done   1 out of   4 | elapsed:    0.0s remaining:    0.0s\n",
        "[Parallel(n_jobs=4)]: Done   4 out of   4 | elapsed:    0.0s finished\n"
       ]
      }
     ],
     "prompt_number": 39
    },
    {
     "cell_type": "code",
     "collapsed": false,
     "input": [
      "filename = \"submissionFinal.csv\"\n",
      "pd.DataFrame(pred, testdf.index).to_csv(filename, index_label = 'Id', header = ['Prediction'])"
     ],
     "language": "python",
     "metadata": {},
     "outputs": [],
     "prompt_number": 40
    },
    {
     "cell_type": "code",
     "collapsed": false,
     "input": [
      "pred"
     ],
     "language": "python",
     "metadata": {},
     "outputs": [
      {
       "metadata": {},
       "output_type": "pyout",
       "prompt_number": 41,
       "text": [
        "array([12, 10,  8, ...,  8,  8,  0])"
       ]
      }
     ],
     "prompt_number": 41
    },
    {
     "cell_type": "markdown",
     "metadata": {},
     "source": [
      "New Shit"
     ]
    },
    {
     "cell_type": "code",
     "collapsed": false,
     "input": [
      "from sklearn.ensemble import BaggingClassifier\n",
      "from sklearn.neighbors import KNeighborsClassifier"
     ],
     "language": "python",
     "metadata": {},
     "outputs": [],
     "prompt_number": 8
    },
    {
     "cell_type": "code",
     "collapsed": false,
     "input": [
      "# specify parameters and distributions to sample from\n",
      "param_dist = {'n_estimators': np.arange(30, 500, 5)}\n",
      "\n",
      "# run randomized search\n",
      "n_iter_search = 50\n",
      "clf = BaggingClassifier(verbose = 1,\n",
      "            oob_score=True,\n",
      "            bootstrap = True)\n",
      "\n",
      "random_search_bag = RandomizedSearchCV(clf, param_distributions=param_dist,\n",
      "                                   n_iter=n_iter_search, )"
     ],
     "language": "python",
     "metadata": {},
     "outputs": [],
     "prompt_number": 15
    },
    {
     "cell_type": "code",
     "collapsed": false,
     "input": [
      "result_random_search_rf = random_search_bag.fit(X, t)"
     ],
     "language": "python",
     "metadata": {},
     "outputs": [
      {
       "output_type": "stream",
       "stream": "stderr",
       "text": [
        "[Parallel(n_jobs=1)]: Done   1 jobs       | elapsed:    3.1s\n",
        "[Parallel(n_jobs=1)]: Done   1 out of   1 | elapsed:    3.1s finished\n",
        "[Parallel(n_jobs=1)]: Done   1 jobs       | elapsed:    0.1s\n"
       ]
      },
      {
       "output_type": "stream",
       "stream": "stderr",
       "text": [
        "[Parallel(n_jobs=1)]: Done   1 out of   1 | elapsed:    0.1s finished\n",
        "[Parallel(n_jobs=1)]: Done   1 jobs       | elapsed:    2.9s\n"
       ]
      },
      {
       "output_type": "stream",
       "stream": "stderr",
       "text": [
        "[Parallel(n_jobs=1)]: Done   1 out of   1 | elapsed:    2.9s finished\n",
        "[Parallel(n_jobs=1)]: Done   1 jobs       | elapsed:    0.1s\n"
       ]
      },
      {
       "output_type": "stream",
       "stream": "stderr",
       "text": [
        "[Parallel(n_jobs=1)]: Done   1 out of   1 | elapsed:    0.1s finished\n",
        "[Parallel(n_jobs=1)]: Done   1 jobs       | elapsed:    3.2s\n"
       ]
      },
      {
       "output_type": "stream",
       "stream": "stderr",
       "text": [
        "[Parallel(n_jobs=1)]: Done   1 out of   1 | elapsed:    3.2s finished\n",
        "[Parallel(n_jobs=1)]: Done   1 jobs       | elapsed:    0.1s\n"
       ]
      },
      {
       "output_type": "stream",
       "stream": "stderr",
       "text": [
        "[Parallel(n_jobs=1)]: Done   1 out of   1 | elapsed:    0.1s finished\n",
        "[Parallel(n_jobs=1)]: Done   1 jobs       | elapsed:    3.4s\n"
       ]
      },
      {
       "output_type": "stream",
       "stream": "stderr",
       "text": [
        "[Parallel(n_jobs=1)]: Done   1 out of   1 | elapsed:    3.5s finished\n",
        "[Parallel(n_jobs=1)]: Done   1 jobs       | elapsed:    0.2s\n"
       ]
      },
      {
       "output_type": "stream",
       "stream": "stderr",
       "text": [
        "[Parallel(n_jobs=1)]: Done   1 out of   1 | elapsed:    0.2s finished\n",
        "[Parallel(n_jobs=1)]: Done   1 jobs       | elapsed:    3.5s\n"
       ]
      },
      {
       "output_type": "stream",
       "stream": "stderr",
       "text": [
        "[Parallel(n_jobs=1)]: Done   1 out of   1 | elapsed:    3.5s finished\n",
        "[Parallel(n_jobs=1)]: Done   1 jobs       | elapsed:    0.1s\n"
       ]
      },
      {
       "output_type": "stream",
       "stream": "stderr",
       "text": [
        "[Parallel(n_jobs=1)]: Done   1 out of   1 | elapsed:    0.1s finished\n",
        "[Parallel(n_jobs=1)]: Done   1 jobs       | elapsed:    3.0s\n"
       ]
      },
      {
       "output_type": "stream",
       "stream": "stderr",
       "text": [
        "[Parallel(n_jobs=1)]: Done   1 out of   1 | elapsed:    3.0s finished\n",
        "[Parallel(n_jobs=1)]: Done   1 jobs       | elapsed:    0.1s\n"
       ]
      },
      {
       "output_type": "stream",
       "stream": "stderr",
       "text": [
        "[Parallel(n_jobs=1)]: Done   1 out of   1 | elapsed:    0.1s finished\n",
        "[Parallel(n_jobs=1)]: Done   1 jobs       | elapsed:    6.7s\n"
       ]
      },
      {
       "output_type": "stream",
       "stream": "stderr",
       "text": [
        "[Parallel(n_jobs=1)]: Done   1 out of   1 | elapsed:    6.7s finished\n",
        "[Parallel(n_jobs=1)]: Done   1 jobs       | elapsed:    0.2s\n"
       ]
      },
      {
       "output_type": "stream",
       "stream": "stderr",
       "text": [
        "[Parallel(n_jobs=1)]: Done   1 out of   1 | elapsed:    0.2s finished\n",
        "[Parallel(n_jobs=1)]: Done   1 jobs       | elapsed:    6.3s\n"
       ]
      },
      {
       "output_type": "stream",
       "stream": "stderr",
       "text": [
        "[Parallel(n_jobs=1)]: Done   1 out of   1 | elapsed:    6.3s finished\n",
        "[Parallel(n_jobs=1)]: Done   1 jobs       | elapsed:    0.2s\n"
       ]
      },
      {
       "output_type": "stream",
       "stream": "stderr",
       "text": [
        "[Parallel(n_jobs=1)]: Done   1 out of   1 | elapsed:    0.2s finished\n",
        "[Parallel(n_jobs=1)]: Done   1 jobs       | elapsed:    6.5s\n"
       ]
      },
      {
       "output_type": "stream",
       "stream": "stderr",
       "text": [
        "[Parallel(n_jobs=1)]: Done   1 out of   1 | elapsed:    6.5s finished\n",
        "[Parallel(n_jobs=1)]: Done   1 jobs       | elapsed:    0.2s\n"
       ]
      },
      {
       "output_type": "stream",
       "stream": "stderr",
       "text": [
        "[Parallel(n_jobs=1)]: Done   1 out of   1 | elapsed:    0.2s finished\n",
        "[Parallel(n_jobs=1)]: Done   1 jobs       | elapsed:    4.0s\n"
       ]
      },
      {
       "output_type": "stream",
       "stream": "stderr",
       "text": [
        "[Parallel(n_jobs=1)]: Done   1 out of   1 | elapsed:    4.0s finished\n",
        "[Parallel(n_jobs=1)]: Done   1 jobs       | elapsed:    0.1s\n"
       ]
      },
      {
       "output_type": "stream",
       "stream": "stderr",
       "text": [
        "[Parallel(n_jobs=1)]: Done   1 out of   1 | elapsed:    0.1s finished\n",
        "[Parallel(n_jobs=1)]: Done   1 jobs       | elapsed:    3.6s\n"
       ]
      },
      {
       "output_type": "stream",
       "stream": "stderr",
       "text": [
        "[Parallel(n_jobs=1)]: Done   1 out of   1 | elapsed:    3.6s finished\n",
        "[Parallel(n_jobs=1)]: Done   1 jobs       | elapsed:    0.1s\n"
       ]
      },
      {
       "output_type": "stream",
       "stream": "stderr",
       "text": [
        "[Parallel(n_jobs=1)]: Done   1 out of   1 | elapsed:    0.1s finished\n",
        "[Parallel(n_jobs=1)]: Done   1 jobs       | elapsed:    3.8s\n"
       ]
      },
      {
       "output_type": "stream",
       "stream": "stderr",
       "text": [
        "[Parallel(n_jobs=1)]: Done   1 out of   1 | elapsed:    3.8s finished\n",
        "[Parallel(n_jobs=1)]: Done   1 jobs       | elapsed:    0.1s\n"
       ]
      },
      {
       "output_type": "stream",
       "stream": "stderr",
       "text": [
        "[Parallel(n_jobs=1)]: Done   1 out of   1 | elapsed:    0.1s finished\n",
        "[Parallel(n_jobs=1)]: Done   1 jobs       | elapsed:    6.6s\n"
       ]
      },
      {
       "output_type": "stream",
       "stream": "stderr",
       "text": [
        "[Parallel(n_jobs=1)]: Done   1 out of   1 | elapsed:    6.6s finished\n",
        "[Parallel(n_jobs=1)]: Done   1 jobs       | elapsed:    0.2s\n"
       ]
      },
      {
       "output_type": "stream",
       "stream": "stderr",
       "text": [
        "[Parallel(n_jobs=1)]: Done   1 out of   1 | elapsed:    0.2s finished\n",
        "[Parallel(n_jobs=1)]: Done   1 jobs       | elapsed:    6.1s\n"
       ]
      },
      {
       "output_type": "stream",
       "stream": "stderr",
       "text": [
        "[Parallel(n_jobs=1)]: Done   1 out of   1 | elapsed:    6.1s finished\n",
        "[Parallel(n_jobs=1)]: Done   1 jobs       | elapsed:    0.2s\n"
       ]
      },
      {
       "output_type": "stream",
       "stream": "stderr",
       "text": [
        "[Parallel(n_jobs=1)]: Done   1 out of   1 | elapsed:    0.2s finished\n",
        "[Parallel(n_jobs=1)]: Done   1 jobs       | elapsed:    6.5s\n"
       ]
      },
      {
       "output_type": "stream",
       "stream": "stderr",
       "text": [
        "[Parallel(n_jobs=1)]: Done   1 out of   1 | elapsed:    6.5s finished\n",
        "[Parallel(n_jobs=1)]: Done   1 jobs       | elapsed:    0.2s\n"
       ]
      },
      {
       "output_type": "stream",
       "stream": "stderr",
       "text": [
        "[Parallel(n_jobs=1)]: Done   1 out of   1 | elapsed:    0.2s finished\n",
        "[Parallel(n_jobs=1)]: Done   1 jobs       | elapsed:    1.6s\n"
       ]
      },
      {
       "output_type": "stream",
       "stream": "stderr",
       "text": [
        "[Parallel(n_jobs=1)]: Done   1 out of   1 | elapsed:    1.6s finished\n",
        "[Parallel(n_jobs=1)]: Done   1 jobs       | elapsed:    0.1s\n"
       ]
      },
      {
       "output_type": "stream",
       "stream": "stderr",
       "text": [
        "[Parallel(n_jobs=1)]: Done   1 out of   1 | elapsed:    0.1s finished\n",
        "[Parallel(n_jobs=1)]: Done   1 jobs       | elapsed:    1.5s\n"
       ]
      },
      {
       "output_type": "stream",
       "stream": "stderr",
       "text": [
        "[Parallel(n_jobs=1)]: Done   1 out of   1 | elapsed:    1.5s finished\n",
        "[Parallel(n_jobs=1)]: Done   1 jobs       | elapsed:    0.1s\n"
       ]
      },
      {
       "output_type": "stream",
       "stream": "stderr",
       "text": [
        "[Parallel(n_jobs=1)]: Done   1 out of   1 | elapsed:    0.1s finished\n",
        "[Parallel(n_jobs=1)]: Done   1 jobs       | elapsed:    1.6s\n"
       ]
      },
      {
       "output_type": "stream",
       "stream": "stderr",
       "text": [
        "[Parallel(n_jobs=1)]: Done   1 out of   1 | elapsed:    1.6s finished\n",
        "[Parallel(n_jobs=1)]: Done   1 jobs       | elapsed:    0.1s\n"
       ]
      },
      {
       "output_type": "stream",
       "stream": "stderr",
       "text": [
        "[Parallel(n_jobs=1)]: Done   1 out of   1 | elapsed:    0.1s finished\n",
        "[Parallel(n_jobs=1)]: Done   1 jobs       | elapsed:    1.5s\n"
       ]
      },
      {
       "output_type": "stream",
       "stream": "stderr",
       "text": [
        "[Parallel(n_jobs=1)]: Done   1 out of   1 | elapsed:    1.5s finished\n",
        "[Parallel(n_jobs=1)]: Done   1 jobs       | elapsed:    0.1s\n"
       ]
      },
      {
       "output_type": "stream",
       "stream": "stderr",
       "text": [
        "[Parallel(n_jobs=1)]: Done   1 out of   1 | elapsed:    0.1s finished\n",
        "[Parallel(n_jobs=1)]: Done   1 jobs       | elapsed:    1.5s\n"
       ]
      },
      {
       "output_type": "stream",
       "stream": "stderr",
       "text": [
        "[Parallel(n_jobs=1)]: Done   1 out of   1 | elapsed:    1.6s finished\n",
        "[Parallel(n_jobs=1)]: Done   1 jobs       | elapsed:    0.1s\n"
       ]
      },
      {
       "output_type": "stream",
       "stream": "stderr",
       "text": [
        "[Parallel(n_jobs=1)]: Done   1 out of   1 | elapsed:    0.1s finished\n",
        "[Parallel(n_jobs=1)]: Done   1 jobs       | elapsed:    1.7s\n"
       ]
      },
      {
       "output_type": "stream",
       "stream": "stderr",
       "text": [
        "[Parallel(n_jobs=1)]: Done   1 out of   1 | elapsed:    1.7s finished\n",
        "[Parallel(n_jobs=1)]: Done   1 jobs       | elapsed:    0.1s\n"
       ]
      },
      {
       "output_type": "stream",
       "stream": "stderr",
       "text": [
        "[Parallel(n_jobs=1)]: Done   1 out of   1 | elapsed:    0.1s finished\n",
        "[Parallel(n_jobs=1)]: Done   1 jobs       | elapsed:    9.5s\n"
       ]
      },
      {
       "output_type": "stream",
       "stream": "stderr",
       "text": [
        "[Parallel(n_jobs=1)]: Done   1 out of   1 | elapsed:    9.5s finished\n",
        "[Parallel(n_jobs=1)]: Done   1 jobs       | elapsed:    0.3s\n"
       ]
      },
      {
       "output_type": "stream",
       "stream": "stderr",
       "text": [
        "[Parallel(n_jobs=1)]: Done   1 out of   1 | elapsed:    0.3s finished\n",
        "[Parallel(n_jobs=1)]: Done   1 jobs       | elapsed:    9.2s\n"
       ]
      },
      {
       "output_type": "stream",
       "stream": "stderr",
       "text": [
        "[Parallel(n_jobs=1)]: Done   1 out of   1 | elapsed:    9.2s finished\n",
        "[Parallel(n_jobs=1)]: Done   1 jobs       | elapsed:    0.3s\n"
       ]
      },
      {
       "output_type": "stream",
       "stream": "stderr",
       "text": [
        "[Parallel(n_jobs=1)]: Done   1 out of   1 | elapsed:    0.3s finished\n",
        "[Parallel(n_jobs=1)]: Done   1 jobs       | elapsed:    8.8s\n"
       ]
      },
      {
       "output_type": "stream",
       "stream": "stderr",
       "text": [
        "[Parallel(n_jobs=1)]: Done   1 out of   1 | elapsed:    8.8s finished\n",
        "[Parallel(n_jobs=1)]: Done   1 jobs       | elapsed:    0.3s\n"
       ]
      },
      {
       "output_type": "stream",
       "stream": "stderr",
       "text": [
        "[Parallel(n_jobs=1)]: Done   1 out of   1 | elapsed:    0.3s finished\n",
        "[Parallel(n_jobs=1)]: Done   1 jobs       | elapsed:    5.5s\n"
       ]
      },
      {
       "output_type": "stream",
       "stream": "stderr",
       "text": [
        "[Parallel(n_jobs=1)]: Done   1 out of   1 | elapsed:    5.5s finished\n",
        "[Parallel(n_jobs=1)]: Done   1 jobs       | elapsed:    0.3s\n"
       ]
      },
      {
       "output_type": "stream",
       "stream": "stderr",
       "text": [
        "[Parallel(n_jobs=1)]: Done   1 out of   1 | elapsed:    0.3s finished\n",
        "[Parallel(n_jobs=1)]: Done   1 jobs       | elapsed:    5.7s\n"
       ]
      },
      {
       "output_type": "stream",
       "stream": "stderr",
       "text": [
        "[Parallel(n_jobs=1)]: Done   1 out of   1 | elapsed:    5.7s finished\n",
        "[Parallel(n_jobs=1)]: Done   1 jobs       | elapsed:    0.2s\n"
       ]
      },
      {
       "output_type": "stream",
       "stream": "stderr",
       "text": [
        "[Parallel(n_jobs=1)]: Done   1 out of   1 | elapsed:    0.2s finished\n",
        "[Parallel(n_jobs=1)]: Done   1 jobs       | elapsed:    5.8s\n"
       ]
      },
      {
       "output_type": "stream",
       "stream": "stderr",
       "text": [
        "[Parallel(n_jobs=1)]: Done   1 out of   1 | elapsed:    5.8s finished\n",
        "[Parallel(n_jobs=1)]: Done   1 jobs       | elapsed:    0.3s\n"
       ]
      },
      {
       "output_type": "stream",
       "stream": "stderr",
       "text": [
        "[Parallel(n_jobs=1)]: Done   1 out of   1 | elapsed:    0.3s finished\n",
        "[Parallel(n_jobs=1)]: Done   1 jobs       | elapsed:    2.6s\n"
       ]
      },
      {
       "output_type": "stream",
       "stream": "stderr",
       "text": [
        "[Parallel(n_jobs=1)]: Done   1 out of   1 | elapsed:    2.6s finished\n",
        "[Parallel(n_jobs=1)]: Done   1 jobs       | elapsed:    0.1s\n"
       ]
      },
      {
       "output_type": "stream",
       "stream": "stderr",
       "text": [
        "[Parallel(n_jobs=1)]: Done   1 out of   1 | elapsed:    0.2s finished\n",
        "[Parallel(n_jobs=1)]: Done   1 jobs       | elapsed:    2.7s\n"
       ]
      },
      {
       "output_type": "stream",
       "stream": "stderr",
       "text": [
        "[Parallel(n_jobs=1)]: Done   1 out of   1 | elapsed:    2.7s finished\n",
        "[Parallel(n_jobs=1)]: Done   1 jobs       | elapsed:    0.1s\n"
       ]
      },
      {
       "output_type": "stream",
       "stream": "stderr",
       "text": [
        "[Parallel(n_jobs=1)]: Done   1 out of   1 | elapsed:    0.1s finished\n",
        "[Parallel(n_jobs=1)]: Done   1 jobs       | elapsed:    2.7s\n"
       ]
      },
      {
       "output_type": "stream",
       "stream": "stderr",
       "text": [
        "[Parallel(n_jobs=1)]: Done   1 out of   1 | elapsed:    2.7s finished\n",
        "[Parallel(n_jobs=1)]: Done   1 jobs       | elapsed:    0.1s\n"
       ]
      },
      {
       "output_type": "stream",
       "stream": "stderr",
       "text": [
        "[Parallel(n_jobs=1)]: Done   1 out of   1 | elapsed:    0.1s finished\n",
        "[Parallel(n_jobs=1)]: Done   1 jobs       | elapsed:    6.7s\n"
       ]
      },
      {
       "output_type": "stream",
       "stream": "stderr",
       "text": [
        "[Parallel(n_jobs=1)]: Done   1 out of   1 | elapsed:    6.7s finished\n",
        "[Parallel(n_jobs=1)]: Done   1 jobs       | elapsed:    0.2s\n"
       ]
      },
      {
       "output_type": "stream",
       "stream": "stderr",
       "text": [
        "[Parallel(n_jobs=1)]: Done   1 out of   1 | elapsed:    0.2s finished\n",
        "[Parallel(n_jobs=1)]: Done   1 jobs       | elapsed:    6.6s\n"
       ]
      },
      {
       "output_type": "stream",
       "stream": "stderr",
       "text": [
        "[Parallel(n_jobs=1)]: Done   1 out of   1 | elapsed:    6.6s finished\n",
        "[Parallel(n_jobs=1)]: Done   1 jobs       | elapsed:    0.2s\n"
       ]
      },
      {
       "output_type": "stream",
       "stream": "stderr",
       "text": [
        "[Parallel(n_jobs=1)]: Done   1 out of   1 | elapsed:    0.2s finished\n",
        "[Parallel(n_jobs=1)]: Done   1 jobs       | elapsed:    6.7s\n"
       ]
      },
      {
       "output_type": "stream",
       "stream": "stderr",
       "text": [
        "[Parallel(n_jobs=1)]: Done   1 out of   1 | elapsed:    6.7s finished\n",
        "[Parallel(n_jobs=1)]: Done   1 jobs       | elapsed:    0.2s\n"
       ]
      },
      {
       "output_type": "stream",
       "stream": "stderr",
       "text": [
        "[Parallel(n_jobs=1)]: Done   1 out of   1 | elapsed:    0.2s finished\n",
        "[Parallel(n_jobs=1)]: Done   1 jobs       | elapsed:    2.5s\n"
       ]
      },
      {
       "output_type": "stream",
       "stream": "stderr",
       "text": [
        "[Parallel(n_jobs=1)]: Done   1 out of   1 | elapsed:    2.5s finished\n",
        "[Parallel(n_jobs=1)]: Done   1 jobs       | elapsed:    0.1s\n"
       ]
      },
      {
       "output_type": "stream",
       "stream": "stderr",
       "text": [
        "[Parallel(n_jobs=1)]: Done   1 out of   1 | elapsed:    0.1s finished\n",
        "[Parallel(n_jobs=1)]: Done   1 jobs       | elapsed:    2.6s\n"
       ]
      },
      {
       "output_type": "stream",
       "stream": "stderr",
       "text": [
        "[Parallel(n_jobs=1)]: Done   1 out of   1 | elapsed:    2.6s finished\n",
        "[Parallel(n_jobs=1)]: Done   1 jobs       | elapsed:    0.1s\n"
       ]
      },
      {
       "output_type": "stream",
       "stream": "stderr",
       "text": [
        "[Parallel(n_jobs=1)]: Done   1 out of   1 | elapsed:    0.1s finished\n",
        "[Parallel(n_jobs=1)]: Done   1 jobs       | elapsed:    2.7s\n"
       ]
      },
      {
       "output_type": "stream",
       "stream": "stderr",
       "text": [
        "[Parallel(n_jobs=1)]: Done   1 out of   1 | elapsed:    2.7s finished\n",
        "[Parallel(n_jobs=1)]: Done   1 jobs       | elapsed:    0.1s\n"
       ]
      },
      {
       "output_type": "stream",
       "stream": "stderr",
       "text": [
        "[Parallel(n_jobs=1)]: Done   1 out of   1 | elapsed:    0.1s finished\n",
        "[Parallel(n_jobs=1)]: Done   1 jobs       | elapsed:    1.7s\n"
       ]
      },
      {
       "output_type": "stream",
       "stream": "stderr",
       "text": [
        "[Parallel(n_jobs=1)]: Done   1 out of   1 | elapsed:    1.7s finished\n",
        "[Parallel(n_jobs=1)]: Done   1 jobs       | elapsed:    0.1s\n"
       ]
      },
      {
       "output_type": "stream",
       "stream": "stderr",
       "text": [
        "[Parallel(n_jobs=1)]: Done   1 out of   1 | elapsed:    0.1s finished\n",
        "[Parallel(n_jobs=1)]: Done   1 jobs       | elapsed:    1.8s\n"
       ]
      },
      {
       "output_type": "stream",
       "stream": "stderr",
       "text": [
        "[Parallel(n_jobs=1)]: Done   1 out of   1 | elapsed:    1.8s finished\n",
        "[Parallel(n_jobs=1)]: Done   1 jobs       | elapsed:    0.1s\n"
       ]
      },
      {
       "output_type": "stream",
       "stream": "stderr",
       "text": [
        "[Parallel(n_jobs=1)]: Done   1 out of   1 | elapsed:    0.1s finished\n",
        "[Parallel(n_jobs=1)]: Done   1 jobs       | elapsed:    1.8s\n"
       ]
      },
      {
       "output_type": "stream",
       "stream": "stderr",
       "text": [
        "[Parallel(n_jobs=1)]: Done   1 out of   1 | elapsed:    1.8s finished\n",
        "[Parallel(n_jobs=1)]: Done   1 jobs       | elapsed:    0.1s\n"
       ]
      },
      {
       "output_type": "stream",
       "stream": "stderr",
       "text": [
        "[Parallel(n_jobs=1)]: Done   1 out of   1 | elapsed:    0.1s finished\n",
        "[Parallel(n_jobs=1)]: Done   1 jobs       | elapsed:    2.2s\n"
       ]
      },
      {
       "output_type": "stream",
       "stream": "stderr",
       "text": [
        "[Parallel(n_jobs=1)]: Done   1 out of   1 | elapsed:    2.2s finished\n",
        "[Parallel(n_jobs=1)]: Done   1 jobs       | elapsed:    0.1s\n"
       ]
      },
      {
       "output_type": "stream",
       "stream": "stderr",
       "text": [
        "[Parallel(n_jobs=1)]: Done   1 out of   1 | elapsed:    0.1s finished\n",
        "[Parallel(n_jobs=1)]: Done   1 jobs       | elapsed:    2.3s\n"
       ]
      },
      {
       "output_type": "stream",
       "stream": "stderr",
       "text": [
        "[Parallel(n_jobs=1)]: Done   1 out of   1 | elapsed:    2.3s finished\n",
        "[Parallel(n_jobs=1)]: Done   1 jobs       | elapsed:    0.1s\n"
       ]
      },
      {
       "output_type": "stream",
       "stream": "stderr",
       "text": [
        "[Parallel(n_jobs=1)]: Done   1 out of   1 | elapsed:    0.1s finished\n",
        "[Parallel(n_jobs=1)]: Done   1 jobs       | elapsed:    2.4s\n"
       ]
      },
      {
       "output_type": "stream",
       "stream": "stderr",
       "text": [
        "[Parallel(n_jobs=1)]: Done   1 out of   1 | elapsed:    2.4s finished\n",
        "[Parallel(n_jobs=1)]: Done   1 jobs       | elapsed:    0.1s\n"
       ]
      },
      {
       "output_type": "stream",
       "stream": "stderr",
       "text": [
        "[Parallel(n_jobs=1)]: Done   1 out of   1 | elapsed:    0.1s finished\n",
        "[Parallel(n_jobs=1)]: Done   1 jobs       | elapsed:    7.1s\n"
       ]
      },
      {
       "output_type": "stream",
       "stream": "stderr",
       "text": [
        "[Parallel(n_jobs=1)]: Done   1 out of   1 | elapsed:    7.1s finished\n",
        "[Parallel(n_jobs=1)]: Done   1 jobs       | elapsed:    0.2s\n"
       ]
      },
      {
       "output_type": "stream",
       "stream": "stderr",
       "text": [
        "[Parallel(n_jobs=1)]: Done   1 out of   1 | elapsed:    0.2s finished\n",
        "[Parallel(n_jobs=1)]: Done   1 jobs       | elapsed:    6.7s\n"
       ]
      },
      {
       "output_type": "stream",
       "stream": "stderr",
       "text": [
        "[Parallel(n_jobs=1)]: Done   1 out of   1 | elapsed:    6.7s finished\n",
        "[Parallel(n_jobs=1)]: Done   1 jobs       | elapsed:    0.2s\n"
       ]
      },
      {
       "output_type": "stream",
       "stream": "stderr",
       "text": [
        "[Parallel(n_jobs=1)]: Done   1 out of   1 | elapsed:    0.2s finished\n",
        "[Parallel(n_jobs=1)]: Done   1 jobs       | elapsed:    6.9s\n"
       ]
      },
      {
       "output_type": "stream",
       "stream": "stderr",
       "text": [
        "[Parallel(n_jobs=1)]: Done   1 out of   1 | elapsed:    6.9s finished\n",
        "[Parallel(n_jobs=1)]: Done   1 jobs       | elapsed:    0.2s\n"
       ]
      },
      {
       "output_type": "stream",
       "stream": "stderr",
       "text": [
        "[Parallel(n_jobs=1)]: Done   1 out of   1 | elapsed:    0.2s finished\n",
        "[Parallel(n_jobs=1)]: Done   1 jobs       | elapsed:    3.4s\n"
       ]
      },
      {
       "output_type": "stream",
       "stream": "stderr",
       "text": [
        "[Parallel(n_jobs=1)]: Done   1 out of   1 | elapsed:    3.4s finished\n",
        "[Parallel(n_jobs=1)]: Done   1 jobs       | elapsed:    0.1s\n"
       ]
      },
      {
       "output_type": "stream",
       "stream": "stderr",
       "text": [
        "[Parallel(n_jobs=1)]: Done   1 out of   1 | elapsed:    0.1s finished\n",
        "[Parallel(n_jobs=1)]: Done   1 jobs       | elapsed:    3.4s\n"
       ]
      },
      {
       "output_type": "stream",
       "stream": "stderr",
       "text": [
        "[Parallel(n_jobs=1)]: Done   1 out of   1 | elapsed:    3.4s finished\n",
        "[Parallel(n_jobs=1)]: Done   1 jobs       | elapsed:    0.1s\n"
       ]
      },
      {
       "output_type": "stream",
       "stream": "stderr",
       "text": [
        "[Parallel(n_jobs=1)]: Done   1 out of   1 | elapsed:    0.1s finished\n",
        "[Parallel(n_jobs=1)]: Done   1 jobs       | elapsed:    3.5s\n"
       ]
      },
      {
       "output_type": "stream",
       "stream": "stderr",
       "text": [
        "[Parallel(n_jobs=1)]: Done   1 out of   1 | elapsed:    3.5s finished\n",
        "[Parallel(n_jobs=1)]: Done   1 jobs       | elapsed:    0.1s\n"
       ]
      },
      {
       "output_type": "stream",
       "stream": "stderr",
       "text": [
        "[Parallel(n_jobs=1)]: Done   1 out of   1 | elapsed:    0.1s finished\n",
        "[Parallel(n_jobs=1)]: Done   1 jobs       | elapsed:    7.2s\n"
       ]
      },
      {
       "output_type": "stream",
       "stream": "stderr",
       "text": [
        "[Parallel(n_jobs=1)]: Done   1 out of   1 | elapsed:    7.2s finished\n",
        "[Parallel(n_jobs=1)]: Done   1 jobs       | elapsed:    0.2s\n"
       ]
      },
      {
       "output_type": "stream",
       "stream": "stderr",
       "text": [
        "[Parallel(n_jobs=1)]: Done   1 out of   1 | elapsed:    0.2s finished\n",
        "[Parallel(n_jobs=1)]: Done   1 jobs       | elapsed:    7.1s\n"
       ]
      },
      {
       "output_type": "stream",
       "stream": "stderr",
       "text": [
        "[Parallel(n_jobs=1)]: Done   1 out of   1 | elapsed:    7.1s finished\n",
        "[Parallel(n_jobs=1)]: Done   1 jobs       | elapsed:    0.2s\n"
       ]
      },
      {
       "output_type": "stream",
       "stream": "stderr",
       "text": [
        "[Parallel(n_jobs=1)]: Done   1 out of   1 | elapsed:    0.2s finished\n",
        "[Parallel(n_jobs=1)]: Done   1 jobs       | elapsed:    7.7s\n"
       ]
      },
      {
       "output_type": "stream",
       "stream": "stderr",
       "text": [
        "[Parallel(n_jobs=1)]: Done   1 out of   1 | elapsed:    7.7s finished\n",
        "[Parallel(n_jobs=1)]: Done   1 jobs       | elapsed:    0.3s\n"
       ]
      },
      {
       "output_type": "stream",
       "stream": "stderr",
       "text": [
        "[Parallel(n_jobs=1)]: Done   1 out of   1 | elapsed:    0.3s finished\n",
        "[Parallel(n_jobs=1)]: Done   1 jobs       | elapsed:    7.0s\n"
       ]
      },
      {
       "output_type": "stream",
       "stream": "stderr",
       "text": [
        "[Parallel(n_jobs=1)]: Done   1 out of   1 | elapsed:    7.0s finished\n",
        "[Parallel(n_jobs=1)]: Done   1 jobs       | elapsed:    0.2s\n"
       ]
      },
      {
       "output_type": "stream",
       "stream": "stderr",
       "text": [
        "[Parallel(n_jobs=1)]: Done   1 out of   1 | elapsed:    0.2s finished\n",
        "[Parallel(n_jobs=1)]: Done   1 jobs       | elapsed:    7.0s\n"
       ]
      },
      {
       "output_type": "stream",
       "stream": "stderr",
       "text": [
        "[Parallel(n_jobs=1)]: Done   1 out of   1 | elapsed:    7.0s finished\n",
        "[Parallel(n_jobs=1)]: Done   1 jobs       | elapsed:    0.3s\n"
       ]
      },
      {
       "output_type": "stream",
       "stream": "stderr",
       "text": [
        "[Parallel(n_jobs=1)]: Done   1 out of   1 | elapsed:    0.3s finished\n",
        "[Parallel(n_jobs=1)]: Done   1 jobs       | elapsed:    7.4s\n"
       ]
      },
      {
       "output_type": "stream",
       "stream": "stderr",
       "text": [
        "[Parallel(n_jobs=1)]: Done   1 out of   1 | elapsed:    7.4s finished\n",
        "[Parallel(n_jobs=1)]: Done   1 jobs       | elapsed:    0.3s\n"
       ]
      },
      {
       "output_type": "stream",
       "stream": "stderr",
       "text": [
        "[Parallel(n_jobs=1)]: Done   1 out of   1 | elapsed:    0.3s finished\n",
        "[Parallel(n_jobs=1)]: Done   1 jobs       | elapsed:    2.3s\n"
       ]
      },
      {
       "output_type": "stream",
       "stream": "stderr",
       "text": [
        "[Parallel(n_jobs=1)]: Done   1 out of   1 | elapsed:    2.3s finished\n",
        "[Parallel(n_jobs=1)]: Done   1 jobs       | elapsed:    0.1s\n"
       ]
      },
      {
       "output_type": "stream",
       "stream": "stderr",
       "text": [
        "[Parallel(n_jobs=1)]: Done   1 out of   1 | elapsed:    0.1s finished\n",
        "[Parallel(n_jobs=1)]: Done   1 jobs       | elapsed:    2.4s\n"
       ]
      },
      {
       "output_type": "stream",
       "stream": "stderr",
       "text": [
        "[Parallel(n_jobs=1)]: Done   1 out of   1 | elapsed:    2.4s finished\n",
        "[Parallel(n_jobs=1)]: Done   1 jobs       | elapsed:    0.1s\n"
       ]
      },
      {
       "output_type": "stream",
       "stream": "stderr",
       "text": [
        "[Parallel(n_jobs=1)]: Done   1 out of   1 | elapsed:    0.1s finished\n",
        "[Parallel(n_jobs=1)]: Done   1 jobs       | elapsed:    2.7s\n"
       ]
      },
      {
       "output_type": "stream",
       "stream": "stderr",
       "text": [
        "[Parallel(n_jobs=1)]: Done   1 out of   1 | elapsed:    2.7s finished\n",
        "[Parallel(n_jobs=1)]: Done   1 jobs       | elapsed:    0.1s\n"
       ]
      },
      {
       "output_type": "stream",
       "stream": "stderr",
       "text": [
        "[Parallel(n_jobs=1)]: Done   1 out of   1 | elapsed:    0.1s finished\n",
        "[Parallel(n_jobs=1)]: Done   1 jobs       | elapsed:    8.5s\n"
       ]
      },
      {
       "output_type": "stream",
       "stream": "stderr",
       "text": [
        "[Parallel(n_jobs=1)]: Done   1 out of   1 | elapsed:    8.5s finished\n",
        "[Parallel(n_jobs=1)]: Done   1 jobs       | elapsed:    0.3s\n"
       ]
      },
      {
       "output_type": "stream",
       "stream": "stderr",
       "text": [
        "[Parallel(n_jobs=1)]: Done   1 out of   1 | elapsed:    0.3s finished\n",
        "[Parallel(n_jobs=1)]: Done   1 jobs       | elapsed:    8.6s\n"
       ]
      },
      {
       "output_type": "stream",
       "stream": "stderr",
       "text": [
        "[Parallel(n_jobs=1)]: Done   1 out of   1 | elapsed:    8.6s finished\n",
        "[Parallel(n_jobs=1)]: Done   1 jobs       | elapsed:    0.3s\n"
       ]
      },
      {
       "output_type": "stream",
       "stream": "stderr",
       "text": [
        "[Parallel(n_jobs=1)]: Done   1 out of   1 | elapsed:    0.3s finished\n",
        "[Parallel(n_jobs=1)]: Done   1 jobs       | elapsed:    9.2s\n"
       ]
      },
      {
       "output_type": "stream",
       "stream": "stderr",
       "text": [
        "[Parallel(n_jobs=1)]: Done   1 out of   1 | elapsed:    9.2s finished\n",
        "[Parallel(n_jobs=1)]: Done   1 jobs       | elapsed:    0.3s\n"
       ]
      },
      {
       "output_type": "stream",
       "stream": "stderr",
       "text": [
        "[Parallel(n_jobs=1)]: Done   1 out of   1 | elapsed:    0.3s finished\n",
        "[Parallel(n_jobs=1)]: Done   1 jobs       | elapsed:    2.7s\n"
       ]
      },
      {
       "output_type": "stream",
       "stream": "stderr",
       "text": [
        "[Parallel(n_jobs=1)]: Done   1 out of   1 | elapsed:    2.7s finished\n",
        "[Parallel(n_jobs=1)]: Done   1 jobs       | elapsed:    0.1s\n"
       ]
      },
      {
       "output_type": "stream",
       "stream": "stderr",
       "text": [
        "[Parallel(n_jobs=1)]: Done   1 out of   1 | elapsed:    0.1s finished\n",
        "[Parallel(n_jobs=1)]: Done   1 jobs       | elapsed:    2.7s\n"
       ]
      },
      {
       "output_type": "stream",
       "stream": "stderr",
       "text": [
        "[Parallel(n_jobs=1)]: Done   1 out of   1 | elapsed:    2.7s finished\n",
        "[Parallel(n_jobs=1)]: Done   1 jobs       | elapsed:    0.1s\n"
       ]
      },
      {
       "output_type": "stream",
       "stream": "stderr",
       "text": [
        "[Parallel(n_jobs=1)]: Done   1 out of   1 | elapsed:    0.1s finished\n",
        "[Parallel(n_jobs=1)]: Done   1 jobs       | elapsed:    2.7s\n"
       ]
      },
      {
       "output_type": "stream",
       "stream": "stderr",
       "text": [
        "[Parallel(n_jobs=1)]: Done   1 out of   1 | elapsed:    2.7s finished\n",
        "[Parallel(n_jobs=1)]: Done   1 jobs       | elapsed:    0.1s\n"
       ]
      },
      {
       "output_type": "stream",
       "stream": "stderr",
       "text": [
        "[Parallel(n_jobs=1)]: Done   1 out of   1 | elapsed:    0.1s finished\n",
        "[Parallel(n_jobs=1)]: Done   1 jobs       | elapsed:    4.9s\n"
       ]
      },
      {
       "output_type": "stream",
       "stream": "stderr",
       "text": [
        "[Parallel(n_jobs=1)]: Done   1 out of   1 | elapsed:    4.9s finished\n",
        "[Parallel(n_jobs=1)]: Done   1 jobs       | elapsed:    0.2s\n"
       ]
      },
      {
       "output_type": "stream",
       "stream": "stderr",
       "text": [
        "[Parallel(n_jobs=1)]: Done   1 out of   1 | elapsed:    0.2s finished\n",
        "[Parallel(n_jobs=1)]: Done   1 jobs       | elapsed:    4.9s\n"
       ]
      },
      {
       "output_type": "stream",
       "stream": "stderr",
       "text": [
        "[Parallel(n_jobs=1)]: Done   1 out of   1 | elapsed:    4.9s finished\n",
        "[Parallel(n_jobs=1)]: Done   1 jobs       | elapsed:    0.2s\n"
       ]
      },
      {
       "output_type": "stream",
       "stream": "stderr",
       "text": [
        "[Parallel(n_jobs=1)]: Done   1 out of   1 | elapsed:    0.2s finished\n",
        "[Parallel(n_jobs=1)]: Done   1 jobs       | elapsed:    4.7s\n"
       ]
      },
      {
       "output_type": "stream",
       "stream": "stderr",
       "text": [
        "[Parallel(n_jobs=1)]: Done   1 out of   1 | elapsed:    4.7s finished\n",
        "[Parallel(n_jobs=1)]: Done   1 jobs       | elapsed:    0.2s\n"
       ]
      },
      {
       "output_type": "stream",
       "stream": "stderr",
       "text": [
        "[Parallel(n_jobs=1)]: Done   1 out of   1 | elapsed:    0.2s finished\n",
        "[Parallel(n_jobs=1)]: Done   1 jobs       | elapsed:    2.2s\n"
       ]
      },
      {
       "output_type": "stream",
       "stream": "stderr",
       "text": [
        "[Parallel(n_jobs=1)]: Done   1 out of   1 | elapsed:    2.2s finished\n",
        "[Parallel(n_jobs=1)]: Done   1 jobs       | elapsed:    0.1s\n"
       ]
      },
      {
       "output_type": "stream",
       "stream": "stderr",
       "text": [
        "[Parallel(n_jobs=1)]: Done   1 out of   1 | elapsed:    0.1s finished\n",
        "[Parallel(n_jobs=1)]: Done   1 jobs       | elapsed:    2.3s\n"
       ]
      },
      {
       "output_type": "stream",
       "stream": "stderr",
       "text": [
        "[Parallel(n_jobs=1)]: Done   1 out of   1 | elapsed:    2.3s finished\n",
        "[Parallel(n_jobs=1)]: Done   1 jobs       | elapsed:    0.1s\n"
       ]
      },
      {
       "output_type": "stream",
       "stream": "stderr",
       "text": [
        "[Parallel(n_jobs=1)]: Done   1 out of   1 | elapsed:    0.1s finished\n",
        "[Parallel(n_jobs=1)]: Done   1 jobs       | elapsed:    2.4s\n"
       ]
      },
      {
       "output_type": "stream",
       "stream": "stderr",
       "text": [
        "[Parallel(n_jobs=1)]: Done   1 out of   1 | elapsed:    2.4s finished\n",
        "[Parallel(n_jobs=1)]: Done   1 jobs       | elapsed:    0.1s\n"
       ]
      },
      {
       "output_type": "stream",
       "stream": "stderr",
       "text": [
        "[Parallel(n_jobs=1)]: Done   1 out of   1 | elapsed:    0.1s finished\n",
        "[Parallel(n_jobs=1)]: Done   1 jobs       | elapsed:    8.0s\n"
       ]
      },
      {
       "output_type": "stream",
       "stream": "stderr",
       "text": [
        "[Parallel(n_jobs=1)]: Done   1 out of   1 | elapsed:    8.0s finished\n",
        "[Parallel(n_jobs=1)]: Done   1 jobs       | elapsed:    0.4s\n"
       ]
      },
      {
       "output_type": "stream",
       "stream": "stderr",
       "text": [
        "[Parallel(n_jobs=1)]: Done   1 out of   1 | elapsed:    0.4s finished\n",
        "[Parallel(n_jobs=1)]: Done   1 jobs       | elapsed:    7.6s\n"
       ]
      },
      {
       "output_type": "stream",
       "stream": "stderr",
       "text": [
        "[Parallel(n_jobs=1)]: Done   1 out of   1 | elapsed:    7.6s finished\n",
        "[Parallel(n_jobs=1)]: Done   1 jobs       | elapsed:    0.3s\n"
       ]
      },
      {
       "output_type": "stream",
       "stream": "stderr",
       "text": [
        "[Parallel(n_jobs=1)]: Done   1 out of   1 | elapsed:    0.3s finished\n",
        "[Parallel(n_jobs=1)]: Done   1 jobs       | elapsed:    7.7s\n"
       ]
      },
      {
       "output_type": "stream",
       "stream": "stderr",
       "text": [
        "[Parallel(n_jobs=1)]: Done   1 out of   1 | elapsed:    7.7s finished\n",
        "[Parallel(n_jobs=1)]: Done   1 jobs       | elapsed:    0.3s\n"
       ]
      },
      {
       "output_type": "stream",
       "stream": "stderr",
       "text": [
        "[Parallel(n_jobs=1)]: Done   1 out of   1 | elapsed:    0.3s finished\n",
        "[Parallel(n_jobs=1)]: Done   1 jobs       | elapsed:    8.2s\n"
       ]
      },
      {
       "output_type": "stream",
       "stream": "stderr",
       "text": [
        "[Parallel(n_jobs=1)]: Done   1 out of   1 | elapsed:    8.2s finished\n",
        "[Parallel(n_jobs=1)]: Done   1 jobs       | elapsed:    0.3s\n"
       ]
      },
      {
       "output_type": "stream",
       "stream": "stderr",
       "text": [
        "[Parallel(n_jobs=1)]: Done   1 out of   1 | elapsed:    0.3s finished\n",
        "[Parallel(n_jobs=1)]: Done   1 jobs       | elapsed:    8.2s\n"
       ]
      },
      {
       "output_type": "stream",
       "stream": "stderr",
       "text": [
        "[Parallel(n_jobs=1)]: Done   1 out of   1 | elapsed:    8.2s finished\n",
        "[Parallel(n_jobs=1)]: Done   1 jobs       | elapsed:    0.3s\n"
       ]
      },
      {
       "output_type": "stream",
       "stream": "stderr",
       "text": [
        "[Parallel(n_jobs=1)]: Done   1 out of   1 | elapsed:    0.3s finished\n",
        "[Parallel(n_jobs=1)]: Done   1 jobs       | elapsed:    8.5s\n"
       ]
      },
      {
       "output_type": "stream",
       "stream": "stderr",
       "text": [
        "[Parallel(n_jobs=1)]: Done   1 out of   1 | elapsed:    8.5s finished\n",
        "[Parallel(n_jobs=1)]: Done   1 jobs       | elapsed:    0.3s\n"
       ]
      },
      {
       "output_type": "stream",
       "stream": "stderr",
       "text": [
        "[Parallel(n_jobs=1)]: Done   1 out of   1 | elapsed:    0.3s finished\n",
        "[Parallel(n_jobs=1)]: Done   1 jobs       | elapsed:    9.1s\n"
       ]
      },
      {
       "output_type": "stream",
       "stream": "stderr",
       "text": [
        "[Parallel(n_jobs=1)]: Done   1 out of   1 | elapsed:    9.1s finished\n",
        "[Parallel(n_jobs=1)]: Done   1 jobs       | elapsed:    0.3s\n"
       ]
      },
      {
       "output_type": "stream",
       "stream": "stderr",
       "text": [
        "[Parallel(n_jobs=1)]: Done   1 out of   1 | elapsed:    0.3s finished\n",
        "[Parallel(n_jobs=1)]: Done   1 jobs       | elapsed:    9.1s\n"
       ]
      },
      {
       "output_type": "stream",
       "stream": "stderr",
       "text": [
        "[Parallel(n_jobs=1)]: Done   1 out of   1 | elapsed:    9.1s finished\n",
        "[Parallel(n_jobs=1)]: Done   1 jobs       | elapsed:    0.3s\n"
       ]
      },
      {
       "output_type": "stream",
       "stream": "stderr",
       "text": [
        "[Parallel(n_jobs=1)]: Done   1 out of   1 | elapsed:    0.3s finished\n",
        "[Parallel(n_jobs=1)]: Done   1 jobs       | elapsed:    9.2s\n"
       ]
      },
      {
       "output_type": "stream",
       "stream": "stderr",
       "text": [
        "[Parallel(n_jobs=1)]: Done   1 out of   1 | elapsed:    9.2s finished\n",
        "[Parallel(n_jobs=1)]: Done   1 jobs       | elapsed:    0.3s\n"
       ]
      },
      {
       "output_type": "stream",
       "stream": "stderr",
       "text": [
        "[Parallel(n_jobs=1)]: Done   1 out of   1 | elapsed:    0.3s finished\n",
        "[Parallel(n_jobs=1)]: Done   1 jobs       | elapsed:    3.7s\n"
       ]
      },
      {
       "output_type": "stream",
       "stream": "stderr",
       "text": [
        "[Parallel(n_jobs=1)]: Done   1 out of   1 | elapsed:    3.7s finished\n",
        "[Parallel(n_jobs=1)]: Done   1 jobs       | elapsed:    0.1s\n"
       ]
      },
      {
       "output_type": "stream",
       "stream": "stderr",
       "text": [
        "[Parallel(n_jobs=1)]: Done   1 out of   1 | elapsed:    0.1s finished\n",
        "[Parallel(n_jobs=1)]: Done   1 jobs       | elapsed:    3.7s\n"
       ]
      },
      {
       "output_type": "stream",
       "stream": "stderr",
       "text": [
        "[Parallel(n_jobs=1)]: Done   1 out of   1 | elapsed:    3.7s finished\n",
        "[Parallel(n_jobs=1)]: Done   1 jobs       | elapsed:    0.1s\n"
       ]
      },
      {
       "output_type": "stream",
       "stream": "stderr",
       "text": [
        "[Parallel(n_jobs=1)]: Done   1 out of   1 | elapsed:    0.1s finished\n",
        "[Parallel(n_jobs=1)]: Done   1 jobs       | elapsed:    4.1s\n"
       ]
      },
      {
       "output_type": "stream",
       "stream": "stderr",
       "text": [
        "[Parallel(n_jobs=1)]: Done   1 out of   1 | elapsed:    4.1s finished\n",
        "[Parallel(n_jobs=1)]: Done   1 jobs       | elapsed:    0.2s\n"
       ]
      },
      {
       "output_type": "stream",
       "stream": "stderr",
       "text": [
        "[Parallel(n_jobs=1)]: Done   1 out of   1 | elapsed:    0.2s finished\n",
        "[Parallel(n_jobs=1)]: Done   1 jobs       | elapsed:    0.8s\n"
       ]
      },
      {
       "output_type": "stream",
       "stream": "stderr",
       "text": [
        "[Parallel(n_jobs=1)]: Done   1 out of   1 | elapsed:    0.8s finished\n",
        "[Parallel(n_jobs=1)]: Done   1 jobs       | elapsed:    0.0s\n"
       ]
      },
      {
       "output_type": "stream",
       "stream": "stderr",
       "text": [
        "[Parallel(n_jobs=1)]: Done   1 out of   1 | elapsed:    0.0s finished\n",
        "[Parallel(n_jobs=1)]: Done   1 jobs       | elapsed:    0.8s\n"
       ]
      },
      {
       "output_type": "stream",
       "stream": "stderr",
       "text": [
        "[Parallel(n_jobs=1)]: Done   1 out of   1 | elapsed:    0.8s finished\n",
        "[Parallel(n_jobs=1)]: Done   1 jobs       | elapsed:    0.0s\n"
       ]
      },
      {
       "output_type": "stream",
       "stream": "stderr",
       "text": [
        "[Parallel(n_jobs=1)]: Done   1 out of   1 | elapsed:    0.0s finished\n",
        "[Parallel(n_jobs=1)]: Done   1 jobs       | elapsed:    0.7s\n"
       ]
      },
      {
       "output_type": "stream",
       "stream": "stderr",
       "text": [
        "[Parallel(n_jobs=1)]: Done   1 out of   1 | elapsed:    0.7s finished\n",
        "[Parallel(n_jobs=1)]: Done   1 jobs       | elapsed:    0.0s\n"
       ]
      },
      {
       "output_type": "stream",
       "stream": "stderr",
       "text": [
        "[Parallel(n_jobs=1)]: Done   1 out of   1 | elapsed:    0.0s finished\n",
        "[Parallel(n_jobs=1)]: Done   1 jobs       | elapsed:    6.7s\n"
       ]
      },
      {
       "output_type": "stream",
       "stream": "stderr",
       "text": [
        "[Parallel(n_jobs=1)]: Done   1 out of   1 | elapsed:    6.7s finished\n",
        "[Parallel(n_jobs=1)]: Done   1 jobs       | elapsed:    0.3s\n"
       ]
      },
      {
       "output_type": "stream",
       "stream": "stderr",
       "text": [
        "[Parallel(n_jobs=1)]: Done   1 out of   1 | elapsed:    0.3s finished\n",
        "[Parallel(n_jobs=1)]: Done   1 jobs       | elapsed:    6.7s\n"
       ]
      },
      {
       "output_type": "stream",
       "stream": "stderr",
       "text": [
        "[Parallel(n_jobs=1)]: Done   1 out of   1 | elapsed:    6.7s finished\n",
        "[Parallel(n_jobs=1)]: Done   1 jobs       | elapsed:    0.2s\n"
       ]
      },
      {
       "output_type": "stream",
       "stream": "stderr",
       "text": [
        "[Parallel(n_jobs=1)]: Done   1 out of   1 | elapsed:    0.2s finished\n",
        "[Parallel(n_jobs=1)]: Done   1 jobs       | elapsed:    7.0s\n"
       ]
      },
      {
       "output_type": "stream",
       "stream": "stderr",
       "text": [
        "[Parallel(n_jobs=1)]: Done   1 out of   1 | elapsed:    7.0s finished\n",
        "[Parallel(n_jobs=1)]: Done   1 jobs       | elapsed:    0.3s\n"
       ]
      },
      {
       "output_type": "stream",
       "stream": "stderr",
       "text": [
        "[Parallel(n_jobs=1)]: Done   1 out of   1 | elapsed:    0.3s finished\n",
        "[Parallel(n_jobs=1)]: Done   1 jobs       | elapsed:    8.9s\n"
       ]
      },
      {
       "output_type": "stream",
       "stream": "stderr",
       "text": [
        "[Parallel(n_jobs=1)]: Done   1 out of   1 | elapsed:    8.9s finished\n",
        "[Parallel(n_jobs=1)]: Done   1 jobs       | elapsed:    0.3s\n"
       ]
      },
      {
       "output_type": "stream",
       "stream": "stderr",
       "text": [
        "[Parallel(n_jobs=1)]: Done   1 out of   1 | elapsed:    0.3s finished\n",
        "[Parallel(n_jobs=1)]: Done   1 jobs       | elapsed:    9.2s\n"
       ]
      },
      {
       "output_type": "stream",
       "stream": "stderr",
       "text": [
        "[Parallel(n_jobs=1)]: Done   1 out of   1 | elapsed:    9.2s finished\n",
        "[Parallel(n_jobs=1)]: Done   1 jobs       | elapsed:    0.4s\n"
       ]
      },
      {
       "output_type": "stream",
       "stream": "stderr",
       "text": [
        "[Parallel(n_jobs=1)]: Done   1 out of   1 | elapsed:    0.4s finished\n",
        "[Parallel(n_jobs=1)]: Done   1 jobs       | elapsed:    8.6s\n"
       ]
      },
      {
       "output_type": "stream",
       "stream": "stderr",
       "text": [
        "[Parallel(n_jobs=1)]: Done   1 out of   1 | elapsed:    8.6s finished\n",
        "[Parallel(n_jobs=1)]: Done   1 jobs       | elapsed:    0.3s\n"
       ]
      },
      {
       "output_type": "stream",
       "stream": "stderr",
       "text": [
        "[Parallel(n_jobs=1)]: Done   1 out of   1 | elapsed:    0.3s finished\n",
        "[Parallel(n_jobs=1)]: Done   1 jobs       | elapsed:    2.6s\n"
       ]
      },
      {
       "output_type": "stream",
       "stream": "stderr",
       "text": [
        "[Parallel(n_jobs=1)]: Done   1 out of   1 | elapsed:    2.6s finished\n",
        "[Parallel(n_jobs=1)]: Done   1 jobs       | elapsed:    0.1s\n"
       ]
      },
      {
       "output_type": "stream",
       "stream": "stderr",
       "text": [
        "[Parallel(n_jobs=1)]: Done   1 out of   1 | elapsed:    0.1s finished\n",
        "[Parallel(n_jobs=1)]: Done   1 jobs       | elapsed:    2.9s\n"
       ]
      },
      {
       "output_type": "stream",
       "stream": "stderr",
       "text": [
        "[Parallel(n_jobs=1)]: Done   1 out of   1 | elapsed:    2.9s finished\n",
        "[Parallel(n_jobs=1)]: Done   1 jobs       | elapsed:    0.1s\n"
       ]
      },
      {
       "output_type": "stream",
       "stream": "stderr",
       "text": [
        "[Parallel(n_jobs=1)]: Done   1 out of   1 | elapsed:    0.1s finished\n",
        "[Parallel(n_jobs=1)]: Done   1 jobs       | elapsed:    2.7s\n"
       ]
      },
      {
       "output_type": "stream",
       "stream": "stderr",
       "text": [
        "[Parallel(n_jobs=1)]: Done   1 out of   1 | elapsed:    2.7s finished\n",
        "[Parallel(n_jobs=1)]: Done   1 jobs       | elapsed:    0.1s\n"
       ]
      },
      {
       "output_type": "stream",
       "stream": "stderr",
       "text": [
        "[Parallel(n_jobs=1)]: Done   1 out of   1 | elapsed:    0.1s finished\n",
        "[Parallel(n_jobs=1)]: Done   1 jobs       | elapsed:    6.6s\n"
       ]
      },
      {
       "output_type": "stream",
       "stream": "stderr",
       "text": [
        "[Parallel(n_jobs=1)]: Done   1 out of   1 | elapsed:    6.6s finished\n",
        "[Parallel(n_jobs=1)]: Done   1 jobs       | elapsed:    0.3s\n"
       ]
      },
      {
       "output_type": "stream",
       "stream": "stderr",
       "text": [
        "[Parallel(n_jobs=1)]: Done   1 out of   1 | elapsed:    0.3s finished\n",
        "[Parallel(n_jobs=1)]: Done   1 jobs       | elapsed:    7.0s\n"
       ]
      },
      {
       "output_type": "stream",
       "stream": "stderr",
       "text": [
        "[Parallel(n_jobs=1)]: Done   1 out of   1 | elapsed:    7.0s finished\n",
        "[Parallel(n_jobs=1)]: Done   1 jobs       | elapsed:    0.3s\n"
       ]
      },
      {
       "output_type": "stream",
       "stream": "stderr",
       "text": [
        "[Parallel(n_jobs=1)]: Done   1 out of   1 | elapsed:    0.3s finished\n",
        "[Parallel(n_jobs=1)]: Done   1 jobs       | elapsed:    6.9s\n"
       ]
      },
      {
       "output_type": "stream",
       "stream": "stderr",
       "text": [
        "[Parallel(n_jobs=1)]: Done   1 out of   1 | elapsed:    6.9s finished\n",
        "[Parallel(n_jobs=1)]: Done   1 jobs       | elapsed:    0.2s\n"
       ]
      },
      {
       "output_type": "stream",
       "stream": "stderr",
       "text": [
        "[Parallel(n_jobs=1)]: Done   1 out of   1 | elapsed:    0.2s finished\n",
        "[Parallel(n_jobs=1)]: Done   1 jobs       | elapsed:    7.3s\n"
       ]
      },
      {
       "output_type": "stream",
       "stream": "stderr",
       "text": [
        "[Parallel(n_jobs=1)]: Done   1 out of   1 | elapsed:    7.3s finished\n",
        "[Parallel(n_jobs=1)]: Done   1 jobs       | elapsed:    0.3s\n"
       ]
      },
      {
       "output_type": "stream",
       "stream": "stderr",
       "text": [
        "[Parallel(n_jobs=1)]: Done   1 out of   1 | elapsed:    0.3s finished\n",
        "[Parallel(n_jobs=1)]: Done   1 jobs       | elapsed:    7.7s\n"
       ]
      },
      {
       "output_type": "stream",
       "stream": "stderr",
       "text": [
        "[Parallel(n_jobs=1)]: Done   1 out of   1 | elapsed:    7.7s finished\n",
        "[Parallel(n_jobs=1)]: Done   1 jobs       | elapsed:    0.3s\n"
       ]
      },
      {
       "output_type": "stream",
       "stream": "stderr",
       "text": [
        "[Parallel(n_jobs=1)]: Done   1 out of   1 | elapsed:    0.3s finished\n",
        "[Parallel(n_jobs=1)]: Done   1 jobs       | elapsed:    7.9s\n"
       ]
      },
      {
       "output_type": "stream",
       "stream": "stderr",
       "text": [
        "[Parallel(n_jobs=1)]: Done   1 out of   1 | elapsed:    7.9s finished\n",
        "[Parallel(n_jobs=1)]: Done   1 jobs       | elapsed:    0.3s\n"
       ]
      },
      {
       "output_type": "stream",
       "stream": "stderr",
       "text": [
        "[Parallel(n_jobs=1)]: Done   1 out of   1 | elapsed:    0.3s finished\n",
        "[Parallel(n_jobs=1)]: Done   1 jobs       | elapsed:    2.8s\n"
       ]
      },
      {
       "output_type": "stream",
       "stream": "stderr",
       "text": [
        "[Parallel(n_jobs=1)]: Done   1 out of   1 | elapsed:    2.8s finished\n",
        "[Parallel(n_jobs=1)]: Done   1 jobs       | elapsed:    0.1s\n"
       ]
      },
      {
       "output_type": "stream",
       "stream": "stderr",
       "text": [
        "[Parallel(n_jobs=1)]: Done   1 out of   1 | elapsed:    0.1s finished\n",
        "[Parallel(n_jobs=1)]: Done   1 jobs       | elapsed:    2.8s\n"
       ]
      },
      {
       "output_type": "stream",
       "stream": "stderr",
       "text": [
        "[Parallel(n_jobs=1)]: Done   1 out of   1 | elapsed:    2.8s finished\n",
        "[Parallel(n_jobs=1)]: Done   1 jobs       | elapsed:    0.1s\n"
       ]
      },
      {
       "output_type": "stream",
       "stream": "stderr",
       "text": [
        "[Parallel(n_jobs=1)]: Done   1 out of   1 | elapsed:    0.1s finished\n",
        "[Parallel(n_jobs=1)]: Done   1 jobs       | elapsed:    2.9s\n"
       ]
      },
      {
       "output_type": "stream",
       "stream": "stderr",
       "text": [
        "[Parallel(n_jobs=1)]: Done   1 out of   1 | elapsed:    2.9s finished\n",
        "[Parallel(n_jobs=1)]: Done   1 jobs       | elapsed:    0.1s\n"
       ]
      },
      {
       "output_type": "stream",
       "stream": "stderr",
       "text": [
        "[Parallel(n_jobs=1)]: Done   1 out of   1 | elapsed:    0.1s finished\n",
        "[Parallel(n_jobs=1)]: Done   1 jobs       | elapsed:    7.8s\n"
       ]
      },
      {
       "output_type": "stream",
       "stream": "stderr",
       "text": [
        "[Parallel(n_jobs=1)]: Done   1 out of   1 | elapsed:    7.8s finished\n",
        "[Parallel(n_jobs=1)]: Done   1 jobs       | elapsed:    0.3s\n"
       ]
      },
      {
       "output_type": "stream",
       "stream": "stderr",
       "text": [
        "[Parallel(n_jobs=1)]: Done   1 out of   1 | elapsed:    0.3s finished\n",
        "[Parallel(n_jobs=1)]: Done   1 jobs       | elapsed:    7.8s\n"
       ]
      },
      {
       "output_type": "stream",
       "stream": "stderr",
       "text": [
        "[Parallel(n_jobs=1)]: Done   1 out of   1 | elapsed:    7.8s finished\n",
        "[Parallel(n_jobs=1)]: Done   1 jobs       | elapsed:    0.3s\n"
       ]
      },
      {
       "output_type": "stream",
       "stream": "stderr",
       "text": [
        "[Parallel(n_jobs=1)]: Done   1 out of   1 | elapsed:    0.3s finished\n",
        "[Parallel(n_jobs=1)]: Done   1 jobs       | elapsed:    7.8s\n"
       ]
      },
      {
       "output_type": "stream",
       "stream": "stderr",
       "text": [
        "[Parallel(n_jobs=1)]: Done   1 out of   1 | elapsed:    7.8s finished\n",
        "[Parallel(n_jobs=1)]: Done   1 jobs       | elapsed:    0.3s\n"
       ]
      },
      {
       "output_type": "stream",
       "stream": "stderr",
       "text": [
        "[Parallel(n_jobs=1)]: Done   1 out of   1 | elapsed:    0.3s finished\n",
        "[Parallel(n_jobs=1)]: Done   1 jobs       | elapsed:    7.7s\n"
       ]
      },
      {
       "output_type": "stream",
       "stream": "stderr",
       "text": [
        "[Parallel(n_jobs=1)]: Done   1 out of   1 | elapsed:    7.7s finished\n",
        "[Parallel(n_jobs=1)]: Done   1 jobs       | elapsed:    0.3s\n"
       ]
      },
      {
       "output_type": "stream",
       "stream": "stderr",
       "text": [
        "[Parallel(n_jobs=1)]: Done   1 out of   1 | elapsed:    0.3s finished\n",
        "[Parallel(n_jobs=1)]: Done   1 jobs       | elapsed:    7.5s\n"
       ]
      },
      {
       "output_type": "stream",
       "stream": "stderr",
       "text": [
        "[Parallel(n_jobs=1)]: Done   1 out of   1 | elapsed:    7.5s finished\n",
        "[Parallel(n_jobs=1)]: Done   1 jobs       | elapsed:    0.3s\n"
       ]
      },
      {
       "output_type": "stream",
       "stream": "stderr",
       "text": [
        "[Parallel(n_jobs=1)]: Done   1 out of   1 | elapsed:    0.3s finished\n",
        "[Parallel(n_jobs=1)]: Done   1 jobs       | elapsed:    7.7s\n"
       ]
      },
      {
       "output_type": "stream",
       "stream": "stderr",
       "text": [
        "[Parallel(n_jobs=1)]: Done   1 out of   1 | elapsed:    7.7s finished\n",
        "[Parallel(n_jobs=1)]: Done   1 jobs       | elapsed:    0.3s\n"
       ]
      },
      {
       "output_type": "stream",
       "stream": "stderr",
       "text": [
        "[Parallel(n_jobs=1)]: Done   1 out of   1 | elapsed:    0.3s finished\n",
        "[Parallel(n_jobs=1)]: Done   1 jobs       | elapsed:    4.7s\n"
       ]
      },
      {
       "output_type": "stream",
       "stream": "stderr",
       "text": [
        "[Parallel(n_jobs=1)]: Done   1 out of   1 | elapsed:    4.7s finished\n",
        "[Parallel(n_jobs=1)]: Done   1 jobs       | elapsed:    0.2s\n"
       ]
      },
      {
       "output_type": "stream",
       "stream": "stderr",
       "text": [
        "[Parallel(n_jobs=1)]: Done   1 out of   1 | elapsed:    0.2s finished\n",
        "[Parallel(n_jobs=1)]: Done   1 jobs       | elapsed:    4.6s\n"
       ]
      },
      {
       "output_type": "stream",
       "stream": "stderr",
       "text": [
        "[Parallel(n_jobs=1)]: Done   1 out of   1 | elapsed:    4.6s finished\n",
        "[Parallel(n_jobs=1)]: Done   1 jobs       | elapsed:    0.2s\n"
       ]
      },
      {
       "output_type": "stream",
       "stream": "stderr",
       "text": [
        "[Parallel(n_jobs=1)]: Done   1 out of   1 | elapsed:    0.2s finished\n",
        "[Parallel(n_jobs=1)]: Done   1 jobs       | elapsed:    4.7s\n"
       ]
      },
      {
       "output_type": "stream",
       "stream": "stderr",
       "text": [
        "[Parallel(n_jobs=1)]: Done   1 out of   1 | elapsed:    4.7s finished\n",
        "[Parallel(n_jobs=1)]: Done   1 jobs       | elapsed:    0.2s\n"
       ]
      },
      {
       "output_type": "stream",
       "stream": "stderr",
       "text": [
        "[Parallel(n_jobs=1)]: Done   1 out of   1 | elapsed:    0.2s finished\n",
        "[Parallel(n_jobs=1)]: Done   1 jobs       | elapsed:    6.4s\n"
       ]
      },
      {
       "output_type": "stream",
       "stream": "stderr",
       "text": [
        "[Parallel(n_jobs=1)]: Done   1 out of   1 | elapsed:    6.4s finished\n",
        "[Parallel(n_jobs=1)]: Done   1 jobs       | elapsed:    0.2s\n"
       ]
      },
      {
       "output_type": "stream",
       "stream": "stderr",
       "text": [
        "[Parallel(n_jobs=1)]: Done   1 out of   1 | elapsed:    0.2s finished\n",
        "[Parallel(n_jobs=1)]: Done   1 jobs       | elapsed:    6.4s\n"
       ]
      },
      {
       "output_type": "stream",
       "stream": "stderr",
       "text": [
        "[Parallel(n_jobs=1)]: Done   1 out of   1 | elapsed:    6.4s finished\n",
        "[Parallel(n_jobs=1)]: Done   1 jobs       | elapsed:    0.2s\n"
       ]
      },
      {
       "output_type": "stream",
       "stream": "stderr",
       "text": [
        "[Parallel(n_jobs=1)]: Done   1 out of   1 | elapsed:    0.2s finished\n",
        "[Parallel(n_jobs=1)]: Done   1 jobs       | elapsed:    6.5s\n"
       ]
      },
      {
       "output_type": "stream",
       "stream": "stderr",
       "text": [
        "[Parallel(n_jobs=1)]: Done   1 out of   1 | elapsed:    6.5s finished\n",
        "[Parallel(n_jobs=1)]: Done   1 jobs       | elapsed:    0.2s\n"
       ]
      },
      {
       "output_type": "stream",
       "stream": "stderr",
       "text": [
        "[Parallel(n_jobs=1)]: Done   1 out of   1 | elapsed:    0.2s finished\n",
        "[Parallel(n_jobs=1)]: Done   1 jobs       | elapsed:    6.3s\n"
       ]
      },
      {
       "output_type": "stream",
       "stream": "stderr",
       "text": [
        "[Parallel(n_jobs=1)]: Done   1 out of   1 | elapsed:    6.3s finished\n",
        "[Parallel(n_jobs=1)]: Done   1 jobs       | elapsed:    0.2s\n"
       ]
      },
      {
       "output_type": "stream",
       "stream": "stderr",
       "text": [
        "[Parallel(n_jobs=1)]: Done   1 out of   1 | elapsed:    0.2s finished\n",
        "[Parallel(n_jobs=1)]: Done   1 jobs       | elapsed:    6.3s\n"
       ]
      },
      {
       "output_type": "stream",
       "stream": "stderr",
       "text": [
        "[Parallel(n_jobs=1)]: Done   1 out of   1 | elapsed:    6.3s finished\n",
        "[Parallel(n_jobs=1)]: Done   1 jobs       | elapsed:    0.2s\n"
       ]
      },
      {
       "output_type": "stream",
       "stream": "stderr",
       "text": [
        "[Parallel(n_jobs=1)]: Done   1 out of   1 | elapsed:    0.2s finished\n",
        "[Parallel(n_jobs=1)]: Done   1 jobs       | elapsed:    6.4s\n"
       ]
      },
      {
       "output_type": "stream",
       "stream": "stderr",
       "text": [
        "[Parallel(n_jobs=1)]: Done   1 out of   1 | elapsed:    6.4s finished\n",
        "[Parallel(n_jobs=1)]: Done   1 jobs       | elapsed:    0.2s\n"
       ]
      },
      {
       "output_type": "stream",
       "stream": "stderr",
       "text": [
        "[Parallel(n_jobs=1)]: Done   1 out of   1 | elapsed:    0.2s finished\n",
        "[Parallel(n_jobs=1)]: Done   1 jobs       | elapsed:    4.1s\n"
       ]
      },
      {
       "output_type": "stream",
       "stream": "stderr",
       "text": [
        "[Parallel(n_jobs=1)]: Done   1 out of   1 | elapsed:    4.1s finished\n",
        "[Parallel(n_jobs=1)]: Done   1 jobs       | elapsed:    0.1s\n"
       ]
      },
      {
       "output_type": "stream",
       "stream": "stderr",
       "text": [
        "[Parallel(n_jobs=1)]: Done   1 out of   1 | elapsed:    0.1s finished\n",
        "[Parallel(n_jobs=1)]: Done   1 jobs       | elapsed:    4.1s\n"
       ]
      },
      {
       "output_type": "stream",
       "stream": "stderr",
       "text": [
        "[Parallel(n_jobs=1)]: Done   1 out of   1 | elapsed:    4.1s finished\n",
        "[Parallel(n_jobs=1)]: Done   1 jobs       | elapsed:    0.1s\n"
       ]
      },
      {
       "output_type": "stream",
       "stream": "stderr",
       "text": [
        "[Parallel(n_jobs=1)]: Done   1 out of   1 | elapsed:    0.1s finished\n",
        "[Parallel(n_jobs=1)]: Done   1 jobs       | elapsed:    4.2s\n"
       ]
      },
      {
       "output_type": "stream",
       "stream": "stderr",
       "text": [
        "[Parallel(n_jobs=1)]: Done   1 out of   1 | elapsed:    4.2s finished\n",
        "[Parallel(n_jobs=1)]: Done   1 jobs       | elapsed:    0.1s\n"
       ]
      },
      {
       "output_type": "stream",
       "stream": "stderr",
       "text": [
        "[Parallel(n_jobs=1)]: Done   1 out of   1 | elapsed:    0.1s finished\n",
        "[Parallel(n_jobs=1)]: Done   1 jobs       | elapsed:    6.6s\n"
       ]
      },
      {
       "output_type": "stream",
       "stream": "stderr",
       "text": [
        "[Parallel(n_jobs=1)]: Done   1 out of   1 | elapsed:    6.6s finished\n",
        "[Parallel(n_jobs=1)]: Done   1 jobs       | elapsed:    0.2s\n"
       ]
      },
      {
       "output_type": "stream",
       "stream": "stderr",
       "text": [
        "[Parallel(n_jobs=1)]: Done   1 out of   1 | elapsed:    0.2s finished\n",
        "[Parallel(n_jobs=1)]: Done   1 jobs       | elapsed:    6.6s\n"
       ]
      },
      {
       "output_type": "stream",
       "stream": "stderr",
       "text": [
        "[Parallel(n_jobs=1)]: Done   1 out of   1 | elapsed:    6.6s finished\n",
        "[Parallel(n_jobs=1)]: Done   1 jobs       | elapsed:    0.2s\n"
       ]
      },
      {
       "output_type": "stream",
       "stream": "stderr",
       "text": [
        "[Parallel(n_jobs=1)]: Done   1 out of   1 | elapsed:    0.2s finished\n",
        "[Parallel(n_jobs=1)]: Done   1 jobs       | elapsed:    6.9s\n"
       ]
      },
      {
       "output_type": "stream",
       "stream": "stderr",
       "text": [
        "[Parallel(n_jobs=1)]: Done   1 out of   1 | elapsed:    6.9s finished\n",
        "[Parallel(n_jobs=1)]: Done   1 jobs       | elapsed:    0.2s\n"
       ]
      },
      {
       "output_type": "stream",
       "stream": "stderr",
       "text": [
        "[Parallel(n_jobs=1)]: Done   1 out of   1 | elapsed:    0.2s finished\n",
        "[Parallel(n_jobs=1)]: Done   1 jobs       | elapsed:    7.2s\n"
       ]
      },
      {
       "output_type": "stream",
       "stream": "stderr",
       "text": [
        "[Parallel(n_jobs=1)]: Done   1 out of   1 | elapsed:    7.2s finished\n",
        "[Parallel(n_jobs=1)]: Done   1 jobs       | elapsed:    0.2s\n"
       ]
      },
      {
       "output_type": "stream",
       "stream": "stderr",
       "text": [
        "[Parallel(n_jobs=1)]: Done   1 out of   1 | elapsed:    0.2s finished\n",
        "[Parallel(n_jobs=1)]: Done   1 jobs       | elapsed:    7.3s\n"
       ]
      },
      {
       "output_type": "stream",
       "stream": "stderr",
       "text": [
        "[Parallel(n_jobs=1)]: Done   1 out of   1 | elapsed:    7.3s finished\n",
        "[Parallel(n_jobs=1)]: Done   1 jobs       | elapsed:    0.3s\n"
       ]
      },
      {
       "output_type": "stream",
       "stream": "stderr",
       "text": [
        "[Parallel(n_jobs=1)]: Done   1 out of   1 | elapsed:    0.3s finished\n",
        "[Parallel(n_jobs=1)]: Done   1 jobs       | elapsed:    7.4s\n"
       ]
      },
      {
       "output_type": "stream",
       "stream": "stderr",
       "text": [
        "[Parallel(n_jobs=1)]: Done   1 out of   1 | elapsed:    7.4s finished\n",
        "[Parallel(n_jobs=1)]: Done   1 jobs       | elapsed:    0.3s\n"
       ]
      },
      {
       "output_type": "stream",
       "stream": "stderr",
       "text": [
        "[Parallel(n_jobs=1)]: Done   1 out of   1 | elapsed:    0.3s finished\n",
        "[Parallel(n_jobs=1)]: Done   1 jobs       | elapsed:    5.0s\n"
       ]
      },
      {
       "output_type": "stream",
       "stream": "stderr",
       "text": [
        "[Parallel(n_jobs=1)]: Done   1 out of   1 | elapsed:    5.0s finished\n",
        "[Parallel(n_jobs=1)]: Done   1 jobs       | elapsed:    0.2s\n"
       ]
      },
      {
       "output_type": "stream",
       "stream": "stderr",
       "text": [
        "[Parallel(n_jobs=1)]: Done   1 out of   1 | elapsed:    0.2s finished\n",
        "[Parallel(n_jobs=1)]: Done   1 jobs       | elapsed:    5.0s\n"
       ]
      },
      {
       "output_type": "stream",
       "stream": "stderr",
       "text": [
        "[Parallel(n_jobs=1)]: Done   1 out of   1 | elapsed:    5.0s finished\n",
        "[Parallel(n_jobs=1)]: Done   1 jobs       | elapsed:    0.2s\n"
       ]
      },
      {
       "output_type": "stream",
       "stream": "stderr",
       "text": [
        "[Parallel(n_jobs=1)]: Done   1 out of   1 | elapsed:    0.2s finished\n",
        "[Parallel(n_jobs=1)]: Done   1 jobs       | elapsed:    5.1s\n"
       ]
      },
      {
       "output_type": "stream",
       "stream": "stderr",
       "text": [
        "[Parallel(n_jobs=1)]: Done   1 out of   1 | elapsed:    5.1s finished\n",
        "[Parallel(n_jobs=1)]: Done   1 jobs       | elapsed:    0.2s\n"
       ]
      },
      {
       "output_type": "stream",
       "stream": "stderr",
       "text": [
        "[Parallel(n_jobs=1)]: Done   1 out of   1 | elapsed:    0.2s finished\n",
        "[Parallel(n_jobs=1)]: Done   1 jobs       | elapsed:    6.2s\n"
       ]
      },
      {
       "output_type": "stream",
       "stream": "stderr",
       "text": [
        "[Parallel(n_jobs=1)]: Done   1 out of   1 | elapsed:    6.2s finished\n",
        "[Parallel(n_jobs=1)]: Done   1 jobs       | elapsed:    0.2s\n"
       ]
      },
      {
       "output_type": "stream",
       "stream": "stderr",
       "text": [
        "[Parallel(n_jobs=1)]: Done   1 out of   1 | elapsed:    0.2s finished\n",
        "[Parallel(n_jobs=1)]: Done   1 jobs       | elapsed:    6.1s\n"
       ]
      },
      {
       "output_type": "stream",
       "stream": "stderr",
       "text": [
        "[Parallel(n_jobs=1)]: Done   1 out of   1 | elapsed:    6.1s finished\n",
        "[Parallel(n_jobs=1)]: Done   1 jobs       | elapsed:    0.2s\n"
       ]
      },
      {
       "output_type": "stream",
       "stream": "stderr",
       "text": [
        "[Parallel(n_jobs=1)]: Done   1 out of   1 | elapsed:    0.2s finished\n",
        "[Parallel(n_jobs=1)]: Done   1 jobs       | elapsed:    6.5s\n"
       ]
      },
      {
       "output_type": "stream",
       "stream": "stderr",
       "text": [
        "[Parallel(n_jobs=1)]: Done   1 out of   1 | elapsed:    6.5s finished\n",
        "[Parallel(n_jobs=1)]: Done   1 jobs       | elapsed:    0.2s\n"
       ]
      },
      {
       "output_type": "stream",
       "stream": "stderr",
       "text": [
        "[Parallel(n_jobs=1)]: Done   1 out of   1 | elapsed:    0.2s finished\n",
        "[Parallel(n_jobs=1)]: Done   1 jobs       | elapsed:    2.3s\n"
       ]
      },
      {
       "output_type": "stream",
       "stream": "stderr",
       "text": [
        "[Parallel(n_jobs=1)]: Done   1 out of   1 | elapsed:    2.3s finished\n",
        "[Parallel(n_jobs=1)]: Done   1 jobs       | elapsed:    0.1s\n"
       ]
      },
      {
       "output_type": "stream",
       "stream": "stderr",
       "text": [
        "[Parallel(n_jobs=1)]: Done   1 out of   1 | elapsed:    0.1s finished\n",
        "[Parallel(n_jobs=1)]: Done   1 jobs       | elapsed:    2.3s\n"
       ]
      },
      {
       "output_type": "stream",
       "stream": "stderr",
       "text": [
        "[Parallel(n_jobs=1)]: Done   1 out of   1 | elapsed:    2.3s finished\n",
        "[Parallel(n_jobs=1)]: Done   1 jobs       | elapsed:    0.1s\n"
       ]
      },
      {
       "output_type": "stream",
       "stream": "stderr",
       "text": [
        "[Parallel(n_jobs=1)]: Done   1 out of   1 | elapsed:    0.1s finished\n",
        "[Parallel(n_jobs=1)]: Done   1 jobs       | elapsed:    2.4s\n"
       ]
      },
      {
       "output_type": "stream",
       "stream": "stderr",
       "text": [
        "[Parallel(n_jobs=1)]: Done   1 out of   1 | elapsed:    2.4s finished\n",
        "[Parallel(n_jobs=1)]: Done   1 jobs       | elapsed:    0.1s\n"
       ]
      },
      {
       "output_type": "stream",
       "stream": "stderr",
       "text": [
        "[Parallel(n_jobs=1)]: Done   1 out of   1 | elapsed:    0.1s finished\n",
        "[Parallel(n_jobs=1)]: Done   1 jobs       | elapsed:    5.2s\n"
       ]
      },
      {
       "output_type": "stream",
       "stream": "stderr",
       "text": [
        "[Parallel(n_jobs=1)]: Done   1 out of   1 | elapsed:    5.2s finished\n",
        "[Parallel(n_jobs=1)]: Done   1 jobs       | elapsed:    0.2s\n"
       ]
      },
      {
       "output_type": "stream",
       "stream": "stderr",
       "text": [
        "[Parallel(n_jobs=1)]: Done   1 out of   1 | elapsed:    0.2s finished\n",
        "[Parallel(n_jobs=1)]: Done   1 jobs       | elapsed:    5.2s\n"
       ]
      },
      {
       "output_type": "stream",
       "stream": "stderr",
       "text": [
        "[Parallel(n_jobs=1)]: Done   1 out of   1 | elapsed:    5.2s finished\n",
        "[Parallel(n_jobs=1)]: Done   1 jobs       | elapsed:    0.2s\n"
       ]
      },
      {
       "output_type": "stream",
       "stream": "stderr",
       "text": [
        "[Parallel(n_jobs=1)]: Done   1 out of   1 | elapsed:    0.2s finished\n",
        "[Parallel(n_jobs=1)]: Done   1 jobs       | elapsed:    5.4s\n"
       ]
      },
      {
       "output_type": "stream",
       "stream": "stderr",
       "text": [
        "[Parallel(n_jobs=1)]: Done   1 out of   1 | elapsed:    5.4s finished\n",
        "[Parallel(n_jobs=1)]: Done   1 jobs       | elapsed:    0.2s\n"
       ]
      },
      {
       "output_type": "stream",
       "stream": "stderr",
       "text": [
        "[Parallel(n_jobs=1)]: Done   1 out of   1 | elapsed:    0.2s finished\n",
        "[Parallel(n_jobs=1)]: Done   1 jobs       | elapsed:    5.7s\n"
       ]
      },
      {
       "output_type": "stream",
       "stream": "stderr",
       "text": [
        "[Parallel(n_jobs=1)]: Done   1 out of   1 | elapsed:    5.7s finished\n",
        "[Parallel(n_jobs=1)]: Done   1 jobs       | elapsed:    0.2s\n"
       ]
      },
      {
       "output_type": "stream",
       "stream": "stderr",
       "text": [
        "[Parallel(n_jobs=1)]: Done   1 out of   1 | elapsed:    0.2s finished\n",
        "[Parallel(n_jobs=1)]: Done   1 jobs       | elapsed:    5.7s\n"
       ]
      },
      {
       "output_type": "stream",
       "stream": "stderr",
       "text": [
        "[Parallel(n_jobs=1)]: Done   1 out of   1 | elapsed:    5.7s finished\n",
        "[Parallel(n_jobs=1)]: Done   1 jobs       | elapsed:    0.2s\n"
       ]
      },
      {
       "output_type": "stream",
       "stream": "stderr",
       "text": [
        "[Parallel(n_jobs=1)]: Done   1 out of   1 | elapsed:    0.2s finished\n",
        "[Parallel(n_jobs=1)]: Done   1 jobs       | elapsed:    5.8s\n"
       ]
      },
      {
       "output_type": "stream",
       "stream": "stderr",
       "text": [
        "[Parallel(n_jobs=1)]: Done   1 out of   1 | elapsed:    5.8s finished\n",
        "[Parallel(n_jobs=1)]: Done   1 jobs       | elapsed:    0.2s\n"
       ]
      },
      {
       "output_type": "stream",
       "stream": "stderr",
       "text": [
        "[Parallel(n_jobs=1)]: Done   1 out of   1 | elapsed:    0.2s finished\n",
        "[Parallel(n_jobs=1)]: Done   1 jobs       | elapsed:    8.5s\n"
       ]
      },
      {
       "output_type": "stream",
       "stream": "stderr",
       "text": [
        "[Parallel(n_jobs=1)]: Done   1 out of   1 | elapsed:    8.5s finished\n",
        "[Parallel(n_jobs=1)]: Done   1 jobs       | elapsed:    0.3s\n"
       ]
      },
      {
       "output_type": "stream",
       "stream": "stderr",
       "text": [
        "[Parallel(n_jobs=1)]: Done   1 out of   1 | elapsed:    0.3s finished\n",
        "[Parallel(n_jobs=1)]: Done   1 jobs       | elapsed:    8.5s\n"
       ]
      },
      {
       "output_type": "stream",
       "stream": "stderr",
       "text": [
        "[Parallel(n_jobs=1)]: Done   1 out of   1 | elapsed:    8.5s finished\n",
        "[Parallel(n_jobs=1)]: Done   1 jobs       | elapsed:    0.3s\n"
       ]
      },
      {
       "output_type": "stream",
       "stream": "stderr",
       "text": [
        "[Parallel(n_jobs=1)]: Done   1 out of   1 | elapsed:    0.3s finished\n",
        "[Parallel(n_jobs=1)]: Done   1 jobs       | elapsed:    8.6s\n"
       ]
      },
      {
       "output_type": "stream",
       "stream": "stderr",
       "text": [
        "[Parallel(n_jobs=1)]: Done   1 out of   1 | elapsed:    8.6s finished\n",
        "[Parallel(n_jobs=1)]: Done   1 jobs       | elapsed:    0.3s\n"
       ]
      },
      {
       "output_type": "stream",
       "stream": "stderr",
       "text": [
        "[Parallel(n_jobs=1)]: Done   1 out of   1 | elapsed:    0.3s finished\n",
        "[Parallel(n_jobs=1)]: Done   1 jobs       | elapsed:    6.3s\n"
       ]
      },
      {
       "output_type": "stream",
       "stream": "stderr",
       "text": [
        "[Parallel(n_jobs=1)]: Done   1 out of   1 | elapsed:    6.3s finished\n",
        "[Parallel(n_jobs=1)]: Done   1 jobs       | elapsed:    0.2s\n"
       ]
      },
      {
       "output_type": "stream",
       "stream": "stderr",
       "text": [
        "[Parallel(n_jobs=1)]: Done   1 out of   1 | elapsed:    0.2s finished\n",
        "[Parallel(n_jobs=1)]: Done   1 jobs       | elapsed:    6.3s\n"
       ]
      },
      {
       "output_type": "stream",
       "stream": "stderr",
       "text": [
        "[Parallel(n_jobs=1)]: Done   1 out of   1 | elapsed:    6.3s finished\n",
        "[Parallel(n_jobs=1)]: Done   1 jobs       | elapsed:    0.2s\n"
       ]
      },
      {
       "output_type": "stream",
       "stream": "stderr",
       "text": [
        "[Parallel(n_jobs=1)]: Done   1 out of   1 | elapsed:    0.2s finished\n",
        "[Parallel(n_jobs=1)]: Done   1 jobs       | elapsed:    6.5s\n"
       ]
      },
      {
       "output_type": "stream",
       "stream": "stderr",
       "text": [
        "[Parallel(n_jobs=1)]: Done   1 out of   1 | elapsed:    6.5s finished\n",
        "[Parallel(n_jobs=1)]: Done   1 jobs       | elapsed:    0.2s\n"
       ]
      },
      {
       "output_type": "stream",
       "stream": "stderr",
       "text": [
        "[Parallel(n_jobs=1)]: Done   1 out of   1 | elapsed:    0.2s finished\n",
        "[Parallel(n_jobs=1)]: Done   1 jobs       | elapsed:    1.1s\n"
       ]
      },
      {
       "output_type": "stream",
       "stream": "stderr",
       "text": [
        "[Parallel(n_jobs=1)]: Done   1 out of   1 | elapsed:    1.1s finished\n",
        "[Parallel(n_jobs=1)]: Done   1 jobs       | elapsed:    0.0s\n"
       ]
      },
      {
       "output_type": "stream",
       "stream": "stderr",
       "text": [
        "[Parallel(n_jobs=1)]: Done   1 out of   1 | elapsed:    0.0s finished\n",
        "[Parallel(n_jobs=1)]: Done   1 jobs       | elapsed:    1.1s\n"
       ]
      },
      {
       "output_type": "stream",
       "stream": "stderr",
       "text": [
        "[Parallel(n_jobs=1)]: Done   1 out of   1 | elapsed:    1.1s finished\n",
        "[Parallel(n_jobs=1)]: Done   1 jobs       | elapsed:    0.0s\n"
       ]
      },
      {
       "output_type": "stream",
       "stream": "stderr",
       "text": [
        "[Parallel(n_jobs=1)]: Done   1 out of   1 | elapsed:    0.0s finished\n",
        "[Parallel(n_jobs=1)]: Done   1 jobs       | elapsed:    1.1s\n"
       ]
      },
      {
       "output_type": "stream",
       "stream": "stderr",
       "text": [
        "[Parallel(n_jobs=1)]: Done   1 out of   1 | elapsed:    1.1s finished\n",
        "[Parallel(n_jobs=1)]: Done   1 jobs       | elapsed:    0.0s\n"
       ]
      },
      {
       "output_type": "stream",
       "stream": "stderr",
       "text": [
        "[Parallel(n_jobs=1)]: Done   1 out of   1 | elapsed:    0.0s finished\n",
        "[Parallel(n_jobs=1)]: Done   1 jobs       | elapsed:    3.3s\n"
       ]
      },
      {
       "output_type": "stream",
       "stream": "stderr",
       "text": [
        "[Parallel(n_jobs=1)]: Done   1 out of   1 | elapsed:    3.3s finished\n"
       ]
      }
     ],
     "prompt_number": 16
    },
    {
     "cell_type": "code",
     "collapsed": false,
     "input": [
      "print (result_random_search_rf.best_estimator_)"
     ],
     "language": "python",
     "metadata": {},
     "outputs": [
      {
       "output_type": "stream",
       "stream": "stdout",
       "text": [
        "BaggingClassifier(base_estimator=None, bootstrap=True,\n",
        "         bootstrap_features=False, max_features=1.0, max_samples=1.0,\n",
        "         n_estimators=120, n_jobs=1, oob_score=True, random_state=None,\n",
        "         verbose=1)\n"
       ]
      }
     ],
     "prompt_number": 17
    },
    {
     "cell_type": "code",
     "collapsed": false,
     "input": [
      "BaggingClassifier(base_estimator=None, bootstrap=True,\n",
      "         bootstrap_features=False, max_features=1.0, max_samples=1.0,\n",
      "         n_estimators=120, n_jobs=1, oob_score=True, random_state=None,\n",
      "         verbose=1)\n"
     ],
     "language": "python",
     "metadata": {},
     "outputs": [
      {
       "metadata": {},
       "output_type": "pyout",
       "prompt_number": 18,
       "text": [
        "BaggingClassifier(base_estimator=None, bootstrap=True,\n",
        "         bootstrap_features=False, max_features=1.0, max_samples=1.0,\n",
        "         n_estimators=120, n_jobs=1, oob_score=True, random_state=None,\n",
        "         verbose=1)"
       ]
      }
     ],
     "prompt_number": 18
    },
    {
     "cell_type": "code",
     "collapsed": false,
     "input": [
      "result_random_search_rf.grid_scores_"
     ],
     "language": "python",
     "metadata": {},
     "outputs": [
      {
       "metadata": {},
       "output_type": "pyout",
       "prompt_number": 19,
       "text": [
        "[mean: 0.89533, std: 0.01207, params: {'n_estimators': 160},\n",
        " mean: 0.89339, std: 0.01098, params: {'n_estimators': 160},\n",
        " mean: 0.89371, std: 0.01044, params: {'n_estimators': 335},\n",
        " mean: 0.89339, std: 0.01206, params: {'n_estimators': 195},\n",
        " mean: 0.89533, std: 0.01207, params: {'n_estimators': 325},\n",
        " mean: 0.89371, std: 0.01122, params: {'n_estimators': 85},\n",
        " mean: 0.89469, std: 0.00889, params: {'n_estimators': 85},\n",
        " mean: 0.89436, std: 0.01207, params: {'n_estimators': 480},\n",
        " mean: 0.89339, std: 0.01019, params: {'n_estimators': 310},\n",
        " mean: 0.89080, std: 0.01140, params: {'n_estimators': 135},\n",
        " mean: 0.89436, std: 0.00969, params: {'n_estimators': 340},\n",
        " mean: 0.89177, std: 0.01219, params: {'n_estimators': 135},\n",
        " mean: 0.89501, std: 0.01030, params: {'n_estimators': 95},\n",
        " mean: 0.89566, std: 0.01142, params: {'n_estimators': 120},\n",
        " mean: 0.89533, std: 0.01098, params: {'n_estimators': 365},\n",
        " mean: 0.89339, std: 0.00941, params: {'n_estimators': 190},\n",
        " mean: 0.89404, std: 0.01185, params: {'n_estimators': 405},\n",
        " mean: 0.89404, std: 0.00934, params: {'n_estimators': 375},\n",
        " mean: 0.89339, std: 0.01150, params: {'n_estimators': 125},\n",
        " mean: 0.89404, std: 0.01165, params: {'n_estimators': 445},\n",
        " mean: 0.89112, std: 0.01243, params: {'n_estimators': 145},\n",
        " mean: 0.89371, std: 0.01041, params: {'n_estimators': 250},\n",
        " mean: 0.89436, std: 0.01098, params: {'n_estimators': 115},\n",
        " mean: 0.89469, std: 0.01024, params: {'n_estimators': 390},\n",
        " mean: 0.89436, std: 0.01098, params: {'n_estimators': 445},\n",
        " mean: 0.89209, std: 0.01085, params: {'n_estimators': 495},\n",
        " mean: 0.89242, std: 0.01206, params: {'n_estimators': 205},\n",
        " mean: 0.89209, std: 0.01164, params: {'n_estimators': 40},\n",
        " mean: 0.89209, std: 0.01054, params: {'n_estimators': 355},\n",
        " mean: 0.89404, std: 0.00962, params: {'n_estimators': 465},\n",
        " mean: 0.89274, std: 0.01234, params: {'n_estimators': 145},\n",
        " mean: 0.89242, std: 0.00996, params: {'n_estimators': 365},\n",
        " mean: 0.89404, std: 0.01107, params: {'n_estimators': 405},\n",
        " mean: 0.89371, std: 0.01013, params: {'n_estimators': 150},\n",
        " mean: 0.89339, std: 0.01127, params: {'n_estimators': 430},\n",
        " mean: 0.89339, std: 0.01150, params: {'n_estimators': 420},\n",
        " mean: 0.89436, std: 0.00844, params: {'n_estimators': 260},\n",
        " mean: 0.89436, std: 0.01003, params: {'n_estimators': 360},\n",
        " mean: 0.89339, std: 0.00890, params: {'n_estimators': 355},\n",
        " mean: 0.89274, std: 0.01239, params: {'n_estimators': 230},\n",
        " mean: 0.89339, std: 0.01019, params: {'n_estimators': 375},\n",
        " mean: 0.89371, std: 0.01041, params: {'n_estimators': 405},\n",
        " mean: 0.89242, std: 0.01054, params: {'n_estimators': 280},\n",
        " mean: 0.89371, std: 0.01042, params: {'n_estimators': 340},\n",
        " mean: 0.89371, std: 0.00933, params: {'n_estimators': 130},\n",
        " mean: 0.89339, std: 0.01127, params: {'n_estimators': 290},\n",
        " mean: 0.89209, std: 0.01160, params: {'n_estimators': 315},\n",
        " mean: 0.89274, std: 0.00985, params: {'n_estimators': 475},\n",
        " mean: 0.89339, std: 0.01098, params: {'n_estimators': 350},\n",
        " mean: 0.89371, std: 0.00725, params: {'n_estimators': 60}]"
       ]
      }
     ],
     "prompt_number": 19
    },
    {
     "cell_type": "code",
     "collapsed": false,
     "input": [
      "pred = clf.fit(X, t)"
     ],
     "language": "python",
     "metadata": {},
     "outputs": [
      {
       "output_type": "stream",
       "stream": "stderr",
       "text": [
        "[Parallel(n_jobs=1)]: Done   1 jobs       | elapsed:    0.3s\n",
        "[Parallel(n_jobs=1)]: Done   1 out of   1 | elapsed:    0.3s finished\n",
        "/home/sergs/.local/lib/python2.7/site-packages/sklearn/ensemble/bagging.py:480: UserWarning: Some inputs do not have OOB scores. This probably means too few estimators were used to compute any reliable oob estimates.\n",
        "  warn(\"Some inputs do not have OOB scores. \"\n"
       ]
      }
     ],
     "prompt_number": 20
    },
    {
     "cell_type": "code",
     "collapsed": false,
     "input": [
      "pred = pred.predict(testdf)"
     ],
     "language": "python",
     "metadata": {},
     "outputs": [
      {
       "output_type": "stream",
       "stream": "stderr",
       "text": [
        "[Parallel(n_jobs=1)]: Done   1 jobs       | elapsed:    0.0s\n",
        "[Parallel(n_jobs=1)]: Done   1 out of   1 | elapsed:    0.0s finished\n"
       ]
      }
     ],
     "prompt_number": 21
    },
    {
     "cell_type": "code",
     "collapsed": false,
     "input": [
      "filename = \"submission14.csv\"\n",
      "pd.DataFrame(pred, testdf.index).to_csv(filename, index_label = 'Id', header = ['Prediction'])"
     ],
     "language": "python",
     "metadata": {},
     "outputs": [],
     "prompt_number": 22
    },
    {
     "cell_type": "code",
     "collapsed": false,
     "input": [
      "pred\n"
     ],
     "language": "python",
     "metadata": {},
     "outputs": [
      {
       "metadata": {},
       "output_type": "pyout",
       "prompt_number": 23,
       "text": [
        "array([12, 10,  8, ...,  8,  8,  0])"
       ]
      }
     ],
     "prompt_number": 23
    },
    {
     "cell_type": "code",
     "collapsed": false,
     "input": [],
     "language": "python",
     "metadata": {},
     "outputs": []
    }
   ],
   "metadata": {}
  }
 ]
}