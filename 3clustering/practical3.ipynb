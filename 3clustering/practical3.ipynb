{
 "cells": [
  {
   "cell_type": "markdown",
   "metadata": {},
   "source": [
    "##Preparing Data"
   ]
  },
  {
   "cell_type": "code",
   "execution_count": 1,
   "metadata": {
    "collapsed": false
   },
   "outputs": [],
   "source": [
    "from modules import *\n",
    "import sklearn"
   ]
  },
  {
   "cell_type": "code",
   "execution_count": 2,
   "metadata": {
    "collapsed": false
   },
   "outputs": [],
   "source": [
    "artists = pd.read_csv('data/artists.csv.gz', compression = 'gzip')\n",
    "profiles = pd.read_csv('data/profiles.csv.gz', compression = 'gzip')\n",
    "test = pd.read_csv('data/test.csv.gz', compression = 'gzip')\n",
    "train = pd.read_csv('data/train.csv.gz', compression = 'gzip')"
   ]
  },
  {
   "cell_type": "code",
   "execution_count": 3,
   "metadata": {
    "collapsed": false
   },
   "outputs": [],
   "source": [
    "data = pd.merge(left = train, right = profiles, how = 'left', on ='user')"
   ]
  },
  {
   "cell_type": "code",
   "execution_count": 4,
   "metadata": {
    "collapsed": false
   },
   "outputs": [
    {
     "data": {
      "text/html": [
       "<div style=\"max-height:1000px;max-width:1500px;overflow:auto;\">\n",
       "<table border=\"1\" class=\"dataframe\">\n",
       "  <thead>\n",
       "    <tr style=\"text-align: right;\">\n",
       "      <th></th>\n",
       "      <th>user_x</th>\n",
       "      <th>artist</th>\n",
       "      <th>plays_x</th>\n",
       "      <th>sex_x</th>\n",
       "      <th>age_x</th>\n",
       "      <th>country_x</th>\n",
       "      <th>user_y</th>\n",
       "      <th>plays_y</th>\n",
       "      <th>sex_y</th>\n",
       "      <th>age_y</th>\n",
       "      <th>country_y</th>\n",
       "    </tr>\n",
       "  </thead>\n",
       "  <tbody>\n",
       "    <tr>\n",
       "      <th>0</th>\n",
       "      <td> 894484ed3c451c4468b043f363a4caf6de30f9ef</td>\n",
       "      <td> ef43cee7-13f5-4d10-844e-879aba3d8b19</td>\n",
       "      <td> 16</td>\n",
       "      <td> f</td>\n",
       "      <td> 16</td>\n",
       "      <td> United States</td>\n",
       "      <td> 528200ac6ac9a35857d8952a26cf6f4738960643</td>\n",
       "      <td> 42</td>\n",
       "      <td> f</td>\n",
       "      <td> 16</td>\n",
       "      <td> United States</td>\n",
       "    </tr>\n",
       "    <tr>\n",
       "      <th>1</th>\n",
       "      <td> 894484ed3c451c4468b043f363a4caf6de30f9ef</td>\n",
       "      <td> 35a6a353-b186-4c13-a264-d18d5e2ce853</td>\n",
       "      <td> 26</td>\n",
       "      <td> f</td>\n",
       "      <td> 16</td>\n",
       "      <td> United States</td>\n",
       "      <td> 528200ac6ac9a35857d8952a26cf6f4738960643</td>\n",
       "      <td> 50</td>\n",
       "      <td> f</td>\n",
       "      <td> 16</td>\n",
       "      <td> United States</td>\n",
       "    </tr>\n",
       "    <tr>\n",
       "      <th>2</th>\n",
       "      <td> 894484ed3c451c4468b043f363a4caf6de30f9ef</td>\n",
       "      <td> a96ac800-bfcb-412a-8a63-0a98df600700</td>\n",
       "      <td> 15</td>\n",
       "      <td> f</td>\n",
       "      <td> 16</td>\n",
       "      <td> United States</td>\n",
       "      <td> 528200ac6ac9a35857d8952a26cf6f4738960643</td>\n",
       "      <td> 47</td>\n",
       "      <td> f</td>\n",
       "      <td> 16</td>\n",
       "      <td> United States</td>\n",
       "    </tr>\n",
       "  </tbody>\n",
       "</table>\n",
       "</div>"
      ],
      "text/plain": [
       "                                     user_x  \\\n",
       "0  894484ed3c451c4468b043f363a4caf6de30f9ef   \n",
       "1  894484ed3c451c4468b043f363a4caf6de30f9ef   \n",
       "2  894484ed3c451c4468b043f363a4caf6de30f9ef   \n",
       "\n",
       "                                 artist  plays_x sex_x  age_x      country_x  \\\n",
       "0  ef43cee7-13f5-4d10-844e-879aba3d8b19       16     f     16  United States   \n",
       "1  35a6a353-b186-4c13-a264-d18d5e2ce853       26     f     16  United States   \n",
       "2  a96ac800-bfcb-412a-8a63-0a98df600700       15     f     16  United States   \n",
       "\n",
       "                                     user_y  plays_y sex_y  age_y  \\\n",
       "0  528200ac6ac9a35857d8952a26cf6f4738960643       42     f     16   \n",
       "1  528200ac6ac9a35857d8952a26cf6f4738960643       50     f     16   \n",
       "2  528200ac6ac9a35857d8952a26cf6f4738960643       47     f     16   \n",
       "\n",
       "       country_y  \n",
       "0  United States  \n",
       "1  United States  \n",
       "2  United States  "
      ]
     },
     "execution_count": 4,
     "metadata": {},
     "output_type": "execute_result"
    }
   ],
   "source": [
    "gb = data.groupby('user')\n",
    "a = gb.get_group('894484ed3c451c4468b043f363a4caf6de30f9ef')\n",
    "b = gb.get_group('528200ac6ac9a35857d8952a26cf6f4738960643')\n",
    "pd.merge(left = a, right = b, how = 'inner', on = 'artist', )"
   ]
  },
  {
   "cell_type": "code",
   "execution_count": 5,
   "metadata": {
    "collapsed": false
   },
   "outputs": [],
   "source": [
    "demog = data.copy(deep = True)"
   ]
  },
  {
   "cell_type": "code",
   "execution_count": 6,
   "metadata": {
    "collapsed": false
   },
   "outputs": [],
   "source": [
    "demog = demog.drop('user', axis = 1)\n",
    "demog['age'] = demog.age.replace(np.nan, 0) \n",
    "demog['sex'] = demog.sex.replace('NaN', -1) \n",
    "demog['sex'] = [1 if i == 'm' else (0 if i == 'f' else -1) for i in demog.sex]"
   ]
  },
  {
   "cell_type": "code",
   "execution_count": 7,
   "metadata": {
    "collapsed": false
   },
   "outputs": [],
   "source": [
    "testdf = pd.merge(left = test, right = profiles, how = 'left', on ='user')"
   ]
  },
  {
   "cell_type": "code",
   "execution_count": 8,
   "metadata": {
    "collapsed": false
   },
   "outputs": [
    {
     "data": {
      "text/html": [
       "<div style=\"max-height:1000px;max-width:1500px;overflow:auto;\">\n",
       "<table border=\"1\" class=\"dataframe\">\n",
       "  <thead>\n",
       "    <tr style=\"text-align: right;\">\n",
       "      <th></th>\n",
       "      <th>Id</th>\n",
       "      <th>artist</th>\n",
       "      <th>sex</th>\n",
       "      <th>age</th>\n",
       "      <th>country</th>\n",
       "    </tr>\n",
       "  </thead>\n",
       "  <tbody>\n",
       "    <tr>\n",
       "      <th>0</th>\n",
       "      <td>       1</td>\n",
       "      <td> 4ac4e32b-bd18-402e-adad-ae00e72f8d85</td>\n",
       "      <td> 0</td>\n",
       "      <td> 23</td>\n",
       "      <td> United Kingdom</td>\n",
       "    </tr>\n",
       "    <tr>\n",
       "      <th>1</th>\n",
       "      <td>  125409</td>\n",
       "      <td> 88a4cd4e-5dee-4153-8462-0d5e43c75f47</td>\n",
       "      <td> 0</td>\n",
       "      <td> 23</td>\n",
       "      <td> United Kingdom</td>\n",
       "    </tr>\n",
       "    <tr>\n",
       "      <th>2</th>\n",
       "      <td>  463450</td>\n",
       "      <td> 2e547c75-36c1-49d0-984e-b14498c936f0</td>\n",
       "      <td> 0</td>\n",
       "      <td> 23</td>\n",
       "      <td> United Kingdom</td>\n",
       "    </tr>\n",
       "    <tr>\n",
       "      <th>3</th>\n",
       "      <td> 1793322</td>\n",
       "      <td> 22a40b75-affc-4e69-8884-266d087e4751</td>\n",
       "      <td> 0</td>\n",
       "      <td> 23</td>\n",
       "      <td> United Kingdom</td>\n",
       "    </tr>\n",
       "    <tr>\n",
       "      <th>4</th>\n",
       "      <td> 1953458</td>\n",
       "      <td> 44cf61b8-5197-448a-b82b-cef6ee89fac5</td>\n",
       "      <td> 0</td>\n",
       "      <td> 23</td>\n",
       "      <td> United Kingdom</td>\n",
       "    </tr>\n",
       "  </tbody>\n",
       "</table>\n",
       "</div>"
      ],
      "text/plain": [
       "        Id                                artist  sex  age         country\n",
       "0        1  4ac4e32b-bd18-402e-adad-ae00e72f8d85    0   23  United Kingdom\n",
       "1   125409  88a4cd4e-5dee-4153-8462-0d5e43c75f47    0   23  United Kingdom\n",
       "2   463450  2e547c75-36c1-49d0-984e-b14498c936f0    0   23  United Kingdom\n",
       "3  1793322  22a40b75-affc-4e69-8884-266d087e4751    0   23  United Kingdom\n",
       "4  1953458  44cf61b8-5197-448a-b82b-cef6ee89fac5    0   23  United Kingdom"
      ]
     },
     "execution_count": 8,
     "metadata": {},
     "output_type": "execute_result"
    }
   ],
   "source": [
    "testdf = testdf.drop('user', axis = 1)\n",
    "testdf['age'] = testdf.age.replace(np.nan, 0) \n",
    "testdf['sex'] = testdf.sex.replace('NaN', -1) \n",
    "testdf['sex'] = [1 if i == 'm' else (0 if i == 'f' else -1) for i in testdf.sex]\n",
    "testdf.head()"
   ]
  },
  {
   "cell_type": "markdown",
   "metadata": {},
   "source": [
    "##min/diff\n",
    "\n",
    "##General algorithm\n",
    "1. For sex, age, country of user, find k-nearest neighbors that that have that country and that artist.\n",
    "2. average plays of k-nearest neighbors.\n",
    "3. weight with prior of average plays for that artist\n",
    "4. return result"
   ]
  },
  {
   "cell_type": "code",
   "execution_count": 9,
   "metadata": {
    "collapsed": false
   },
   "outputs": [],
   "source": [
    "#clf = sklearn.neighbors.KNeighborsClassifier(n_neighbors=5, weights='uniform', algorithm='auto', leaf_size=30, p=2, metric='minkowski', metric_params=None)\n",
    "clf = sklearn.neighbors.NearestNeighbors()"
   ]
  },
  {
   "cell_type": "code",
   "execution_count": 10,
   "metadata": {
    "collapsed": false
   },
   "outputs": [],
   "source": [
    "prior = demog.groupby('artist').plays.mean()"
   ]
  },
  {
   "cell_type": "code",
   "execution_count": null,
   "metadata": {
    "collapsed": false
   },
   "outputs": [],
   "source": [
    "gb = demog.groupby(['artist','country'])"
   ]
  },
  {
   "cell_type": "code",
   "execution_count": null,
   "metadata": {
    "collapsed": false
   },
   "outputs": [
    {
     "name": "stdout",
     "output_type": "stream",
     "text": [
      "Time Remaining: 3:55:25.434937\n",
      "Time Remaining: 3:52:43.630694\n",
      "Time Remaining: 3:49:11.280334\n",
      "Time Remaining: 3:43:56.700864\n",
      "Time Remaining: 3:43:52.189164\n",
      "Time Remaining: 3:43:04.313674\n",
      "Time Remaining: 3:42:52.556776\n",
      "Time Remaining: 3:42:54.214208\n",
      "Time Remaining: 3:42:48.579628\n",
      "Time Remaining: 3:42:47.438788\n",
      "Time Remaining: 3:42:16.407987\n",
      "Time Remaining: 3:41:35.498311\n",
      "Time Remaining: 3:40:44.485616\n",
      "Time Remaining:"
     ]
    }
   ],
   "source": [
    "t = datetime.now()\n",
    "plays = []\n",
    "for i, row in testdf.iterrows():\n",
    "    result = 0\n",
    "    try:\n",
    "        index = tuple(row[['artist', 'country']])\n",
    "        df = gb.get_group(index)\n",
    "        df = df.reset_index()\n",
    "        dist, indices = clf.fit(df[['sex','age']]).kneighbors(row[['sex', 'age']],n_neighbors = min(5, len(df)))\n",
    "        result = df.ix[indices[0]].plays.mean() #Mean of k-nearest neighbors plays\n",
    "        result = .2 * prior.ix[row['artist']] + .8*result #Incorporate prior belief\n",
    "    except:\n",
    "        #print (i, row)\n",
    "        result = prior.ix[row['artist']]\n",
    "    plays.append([i, result])\n",
    "    if np.random.randint(10000) == 0:\n",
    "        elapsed = datetime.now() - t\n",
    "        total = (elapsed / i) * len(testdf)\n",
    "        print \"Time Remaining:\", total - elapsed"
   ]
  },
  {
   "cell_type": "code",
   "execution_count": 14,
   "metadata": {
    "collapsed": false
   },
   "outputs": [],
   "source": [
    "result = pd.DataFrame(plays)\n",
    "result = result.apply(pd.Series.round)\n",
    "result.columns = ['Id', 'Plays']\n",
    "result.Id = result.Id + 1\n",
    "result.to_csv('submission1.csv', index = False)"
   ]
  },
  {
   "cell_type": "code",
   "execution_count": 34,
   "metadata": {
    "collapsed": false
   },
   "outputs": [],
   "source": [
    "#Trying removing prior\n",
    "bias = []\n",
    "for i, row in testdf.iterrows():\n",
    "    bias.append(.2 * prior.ix[row['artist']])"
   ]
  },
  {
   "cell_type": "code",
   "execution_count": 37,
   "metadata": {
    "collapsed": false
   },
   "outputs": [],
   "source": [
    "bias = pd.Series(bias)\n",
    "result.Plays = (result.Plays - bias)*1.25"
   ]
  },
  {
   "cell_type": "code",
   "execution_count": 40,
   "metadata": {
    "collapsed": false
   },
   "outputs": [],
   "source": [
    "result = result.apply(pd.Series.round)\n",
    "result.to_csv('submission2.csv', index = False)"
   ]
  },
  {
   "cell_type": "code",
   "execution_count": 41,
   "metadata": {
    "collapsed": false
   },
   "outputs": [
    {
     "data": {
      "text/plain": [
       "artist\n",
       "000d90ec-d64c-48a1-b775-e726fd240e9f    196.296078\n",
       "000fc734-b7e1-4a01-92d1-f544261b43f5    288.887880\n",
       "0019749d-ee29-4a5f-ab17-6bfa11deb969    145.452174\n",
       "0039c7ae-e1a7-4a7d-9b49-0cbc716821a6    341.798469\n",
       "004e5eed-e267-46ea-b504-54526f1f377d    370.565190\n",
       "Name: plays, dtype: float64"
      ]
     },
     "execution_count": 41,
     "metadata": {},
     "output_type": "execute_result"
    }
   ],
   "source": [
    "prior.head()"
   ]
  },
  {
   "cell_type": "code",
   "execution_count": 42,
   "metadata": {
    "collapsed": false
   },
   "outputs": [
    {
     "data": {
      "text/html": [
       "<div style=\"max-height:1000px;max-width:1500px;overflow:auto;\">\n",
       "<table border=\"1\" class=\"dataframe\">\n",
       "  <thead>\n",
       "    <tr style=\"text-align: right;\">\n",
       "      <th></th>\n",
       "      <th>Id</th>\n",
       "      <th>artist</th>\n",
       "      <th>sex</th>\n",
       "      <th>age</th>\n",
       "      <th>country</th>\n",
       "    </tr>\n",
       "  </thead>\n",
       "  <tbody>\n",
       "    <tr>\n",
       "      <th>0</th>\n",
       "      <td>       1</td>\n",
       "      <td> 4ac4e32b-bd18-402e-adad-ae00e72f8d85</td>\n",
       "      <td> 0</td>\n",
       "      <td> 23</td>\n",
       "      <td> United Kingdom</td>\n",
       "    </tr>\n",
       "    <tr>\n",
       "      <th>1</th>\n",
       "      <td>  125409</td>\n",
       "      <td> 88a4cd4e-5dee-4153-8462-0d5e43c75f47</td>\n",
       "      <td> 0</td>\n",
       "      <td> 23</td>\n",
       "      <td> United Kingdom</td>\n",
       "    </tr>\n",
       "    <tr>\n",
       "      <th>2</th>\n",
       "      <td>  463450</td>\n",
       "      <td> 2e547c75-36c1-49d0-984e-b14498c936f0</td>\n",
       "      <td> 0</td>\n",
       "      <td> 23</td>\n",
       "      <td> United Kingdom</td>\n",
       "    </tr>\n",
       "    <tr>\n",
       "      <th>3</th>\n",
       "      <td> 1793322</td>\n",
       "      <td> 22a40b75-affc-4e69-8884-266d087e4751</td>\n",
       "      <td> 0</td>\n",
       "      <td> 23</td>\n",
       "      <td> United Kingdom</td>\n",
       "    </tr>\n",
       "    <tr>\n",
       "      <th>4</th>\n",
       "      <td> 1953458</td>\n",
       "      <td> 44cf61b8-5197-448a-b82b-cef6ee89fac5</td>\n",
       "      <td> 0</td>\n",
       "      <td> 23</td>\n",
       "      <td> United Kingdom</td>\n",
       "    </tr>\n",
       "  </tbody>\n",
       "</table>\n",
       "</div>"
      ],
      "text/plain": [
       "        Id                                artist  sex  age         country\n",
       "0        1  4ac4e32b-bd18-402e-adad-ae00e72f8d85    0   23  United Kingdom\n",
       "1   125409  88a4cd4e-5dee-4153-8462-0d5e43c75f47    0   23  United Kingdom\n",
       "2   463450  2e547c75-36c1-49d0-984e-b14498c936f0    0   23  United Kingdom\n",
       "3  1793322  22a40b75-affc-4e69-8884-266d087e4751    0   23  United Kingdom\n",
       "4  1953458  44cf61b8-5197-448a-b82b-cef6ee89fac5    0   23  United Kingdom"
      ]
     },
     "execution_count": 42,
     "metadata": {},
     "output_type": "execute_result"
    }
   ],
   "source": [
    "testdf.head()"
   ]
  },
  {
   "cell_type": "code",
   "execution_count": 44,
   "metadata": {
    "collapsed": false
   },
   "outputs": [],
   "source": [
    "sub3 = testdf.artist.replace(prior)"
   ]
  },
  {
   "cell_type": "code",
   "execution_count": 46,
   "metadata": {
    "collapsed": false
   },
   "outputs": [],
   "source": [
    "sub3 = pd.DataFrame(sub3).reset_index()"
   ]
  },
  {
   "cell_type": "code",
   "execution_count": 48,
   "metadata": {
    "collapsed": false
   },
   "outputs": [
    {
     "ename": "TypeError",
     "evalue": "unbound method round() must be called with Series instance as first argument (got nothing instead)",
     "output_type": "error",
     "traceback": [
      "\u001b[1;31m---------------------------------------------------------------------------\u001b[0m",
      "\u001b[1;31mTypeError\u001b[0m                                 Traceback (most recent call last)",
      "\u001b[1;32m<ipython-input-48-c8a36577e3d8>\u001b[0m in \u001b[0;36m<module>\u001b[1;34m()\u001b[0m\n\u001b[0;32m      1\u001b[0m \u001b[0msub3\u001b[0m\u001b[1;33m.\u001b[0m\u001b[0mcolumns\u001b[0m \u001b[1;33m=\u001b[0m \u001b[1;33m[\u001b[0m\u001b[1;34m'Id'\u001b[0m\u001b[1;33m,\u001b[0m\u001b[1;34m'Plays'\u001b[0m\u001b[1;33m]\u001b[0m\u001b[1;33m\u001b[0m\u001b[0m\n\u001b[0;32m      2\u001b[0m \u001b[0msub3\u001b[0m\u001b[1;33m[\u001b[0m\u001b[1;34m'Id'\u001b[0m\u001b[1;33m]\u001b[0m \u001b[1;33m=\u001b[0m \u001b[0msub3\u001b[0m\u001b[1;33m.\u001b[0m\u001b[0mId\u001b[0m \u001b[1;33m+\u001b[0m \u001b[1;36m1\u001b[0m\u001b[1;33m\u001b[0m\u001b[0m\n\u001b[1;32m----> 3\u001b[1;33m \u001b[0msub3\u001b[0m \u001b[1;33m=\u001b[0m \u001b[0msub3\u001b[0m\u001b[1;33m.\u001b[0m\u001b[0mapply\u001b[0m\u001b[1;33m(\u001b[0m\u001b[0mpd\u001b[0m\u001b[1;33m.\u001b[0m\u001b[0mSeries\u001b[0m\u001b[1;33m.\u001b[0m\u001b[0mround\u001b[0m\u001b[1;33m(\u001b[0m\u001b[1;33m)\u001b[0m\u001b[1;33m)\u001b[0m\u001b[1;33m\u001b[0m\u001b[0m\n\u001b[0m",
      "\u001b[1;31mTypeError\u001b[0m: unbound method round() must be called with Series instance as first argument (got nothing instead)"
     ]
    }
   ],
   "source": [
    "sub3.columns = ['Id','Plays']\n",
    "sub3['Id'] = sub3.Id + 1"
   ]
  },
  {
   "cell_type": "code",
   "execution_count": 49,
   "metadata": {
    "collapsed": true
   },
   "outputs": [],
   "source": [
    "sub3 = sub3.apply(pd.Series.round)"
   ]
  },
  {
   "cell_type": "code",
   "execution_count": 52,
   "metadata": {
    "collapsed": false
   },
   "outputs": [],
   "source": [
    "sub3.to_csv('submission3.csv', index = False)"
   ]
  },
  {
   "cell_type": "code",
   "execution_count": null,
   "metadata": {
    "collapsed": true
   },
   "outputs": [],
   "source": []
  }
 ],
 "metadata": {
  "kernelspec": {
   "display_name": "Python 2",
   "language": "python",
   "name": "python2"
  },
  "language_info": {
   "codemirror_mode": {
    "name": "ipython",
    "version": 2
   },
   "file_extension": ".py",
   "mimetype": "text/x-python",
   "name": "python",
   "nbconvert_exporter": "python",
   "pygments_lexer": "ipython2",
   "version": "2.7.5"
  }
 },
 "nbformat": 4,
 "nbformat_minor": 0
}
