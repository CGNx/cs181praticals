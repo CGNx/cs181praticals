{
 "cells": [
  {
   "cell_type": "markdown",
   "metadata": {},
   "source": [
    "##Preparing Data"
   ]
  },
  {
   "cell_type": "code",
   "execution_count": 1,
   "metadata": {
    "collapsed": false
   },
   "outputs": [],
   "source": [
    "from modules import *\n",
    "import sklearn"
   ]
  },
  {
   "cell_type": "code",
   "execution_count": 2,
   "metadata": {
    "collapsed": false
   },
   "outputs": [],
   "source": [
    "artists = pd.read_csv('data/artists.csv.gz', compression = 'gzip')\n",
    "profiles = pd.read_csv('data/profiles.csv.gz', compression = 'gzip')\n",
    "test = pd.read_csv('data/test.csv.gz', compression = 'gzip')\n",
    "train = pd.read_csv('data/train.csv.gz', compression = 'gzip')"
   ]
  },
  {
   "cell_type": "code",
   "execution_count": 3,
   "metadata": {
    "collapsed": false
   },
   "outputs": [
    {
     "data": {
      "text/html": [
       "<div style=\"max-height:1000px;max-width:1500px;overflow:auto;\">\n",
       "<table border=\"1\" class=\"dataframe\">\n",
       "  <thead>\n",
       "    <tr style=\"text-align: right;\">\n",
       "      <th></th>\n",
       "      <th>user</th>\n",
       "      <th>sex</th>\n",
       "      <th>age</th>\n",
       "      <th>country</th>\n",
       "    </tr>\n",
       "  </thead>\n",
       "  <tbody>\n",
       "    <tr>\n",
       "      <th>0</th>\n",
       "      <td> fa40b43298ba3f8aa52e8e8863faf2e2171e0b5d</td>\n",
       "      <td> f</td>\n",
       "      <td> 25</td>\n",
       "      <td>        Sweden</td>\n",
       "    </tr>\n",
       "    <tr>\n",
       "      <th>1</th>\n",
       "      <td> 5909125332c108365a26ccf0ee62636eee08215c</td>\n",
       "      <td> m</td>\n",
       "      <td> 29</td>\n",
       "      <td>       Iceland</td>\n",
       "    </tr>\n",
       "    <tr>\n",
       "      <th>2</th>\n",
       "      <td> d1867cbda35e0d48e9a8390d9f5e079c9d99ea96</td>\n",
       "      <td> m</td>\n",
       "      <td> 30</td>\n",
       "      <td> United States</td>\n",
       "    </tr>\n",
       "    <tr>\n",
       "      <th>3</th>\n",
       "      <td> 63268cce0d68127729890c1691f62d5be5abd87c</td>\n",
       "      <td> m</td>\n",
       "      <td> 21</td>\n",
       "      <td>       Germany</td>\n",
       "    </tr>\n",
       "    <tr>\n",
       "      <th>4</th>\n",
       "      <td> 02871cd952d607ba69b64e2e107773012c708113</td>\n",
       "      <td> m</td>\n",
       "      <td> 24</td>\n",
       "      <td>   Netherlands</td>\n",
       "    </tr>\n",
       "  </tbody>\n",
       "</table>\n",
       "</div>"
      ],
      "text/plain": [
       "                                       user sex  age        country\n",
       "0  fa40b43298ba3f8aa52e8e8863faf2e2171e0b5d   f   25         Sweden\n",
       "1  5909125332c108365a26ccf0ee62636eee08215c   m   29        Iceland\n",
       "2  d1867cbda35e0d48e9a8390d9f5e079c9d99ea96   m   30  United States\n",
       "3  63268cce0d68127729890c1691f62d5be5abd87c   m   21        Germany\n",
       "4  02871cd952d607ba69b64e2e107773012c708113   m   24    Netherlands"
      ]
     },
     "execution_count": 3,
     "metadata": {},
     "output_type": "execute_result"
    }
   ],
   "source": [
    "profiles.head()"
   ]
  },
  {
   "cell_type": "code",
   "execution_count": 4,
   "metadata": {
    "collapsed": false
   },
   "outputs": [
    {
     "data": {
      "text/html": [
       "<div style=\"max-height:1000px;max-width:1500px;overflow:auto;\">\n",
       "<table border=\"1\" class=\"dataframe\">\n",
       "  <thead>\n",
       "    <tr style=\"text-align: right;\">\n",
       "      <th></th>\n",
       "      <th>Id</th>\n",
       "      <th>user</th>\n",
       "      <th>artist</th>\n",
       "    </tr>\n",
       "  </thead>\n",
       "  <tbody>\n",
       "    <tr>\n",
       "      <th>0</th>\n",
       "      <td> 1</td>\n",
       "      <td> 306e19cce2522fa2d39ff5dfc870992100ec22d2</td>\n",
       "      <td> 4ac4e32b-bd18-402e-adad-ae00e72f8d85</td>\n",
       "    </tr>\n",
       "    <tr>\n",
       "      <th>1</th>\n",
       "      <td> 2</td>\n",
       "      <td> 9450d351278df4938bdea4ed86aec940a4e927ac</td>\n",
       "      <td> 1f574ab1-a46d-4586-9331-f0ded23e0411</td>\n",
       "    </tr>\n",
       "    <tr>\n",
       "      <th>2</th>\n",
       "      <td> 3</td>\n",
       "      <td> 801909d6955f59033c88595d3d7f8a6a5dcd53cc</td>\n",
       "      <td> 3eb72791-6322-466b-87d3-24d74901eb2d</td>\n",
       "    </tr>\n",
       "    <tr>\n",
       "      <th>3</th>\n",
       "      <td> 4</td>\n",
       "      <td> e3ed47445c127fbeff47fb58f6bbf2f3b4535d82</td>\n",
       "      <td> 61604b45-8a91-4e33-a1b6-45d7b1fec4e5</td>\n",
       "    </tr>\n",
       "    <tr>\n",
       "      <th>4</th>\n",
       "      <td> 5</td>\n",
       "      <td> a73f46652103f3a5f7429159310f6928f79644aa</td>\n",
       "      <td> 5dfdca28-9ddc-4853-933c-8bc97d87beec</td>\n",
       "    </tr>\n",
       "  </tbody>\n",
       "</table>\n",
       "</div>"
      ],
      "text/plain": [
       "   Id                                      user  \\\n",
       "0   1  306e19cce2522fa2d39ff5dfc870992100ec22d2   \n",
       "1   2  9450d351278df4938bdea4ed86aec940a4e927ac   \n",
       "2   3  801909d6955f59033c88595d3d7f8a6a5dcd53cc   \n",
       "3   4  e3ed47445c127fbeff47fb58f6bbf2f3b4535d82   \n",
       "4   5  a73f46652103f3a5f7429159310f6928f79644aa   \n",
       "\n",
       "                                 artist  \n",
       "0  4ac4e32b-bd18-402e-adad-ae00e72f8d85  \n",
       "1  1f574ab1-a46d-4586-9331-f0ded23e0411  \n",
       "2  3eb72791-6322-466b-87d3-24d74901eb2d  \n",
       "3  61604b45-8a91-4e33-a1b6-45d7b1fec4e5  \n",
       "4  5dfdca28-9ddc-4853-933c-8bc97d87beec  "
      ]
     },
     "execution_count": 4,
     "metadata": {},
     "output_type": "execute_result"
    }
   ],
   "source": [
    "test.head()"
   ]
  },
  {
   "cell_type": "code",
   "execution_count": 5,
   "metadata": {
    "collapsed": false
   },
   "outputs": [],
   "source": [
    "data = pd.merge(left = train, right = profiles, how = 'left', on ='user')"
   ]
  },
  {
   "cell_type": "code",
   "execution_count": 4,
   "metadata": {
    "collapsed": false
   },
   "outputs": [
    {
     "data": {
      "text/html": [
       "<div style=\"max-height:1000px;max-width:1500px;overflow:auto;\">\n",
       "<table border=\"1\" class=\"dataframe\">\n",
       "  <thead>\n",
       "    <tr style=\"text-align: right;\">\n",
       "      <th></th>\n",
       "      <th>user_x</th>\n",
       "      <th>artist</th>\n",
       "      <th>plays_x</th>\n",
       "      <th>sex_x</th>\n",
       "      <th>age_x</th>\n",
       "      <th>country_x</th>\n",
       "      <th>user_y</th>\n",
       "      <th>plays_y</th>\n",
       "      <th>sex_y</th>\n",
       "      <th>age_y</th>\n",
       "      <th>country_y</th>\n",
       "    </tr>\n",
       "  </thead>\n",
       "  <tbody>\n",
       "    <tr>\n",
       "      <th>0</th>\n",
       "      <td> 894484ed3c451c4468b043f363a4caf6de30f9ef</td>\n",
       "      <td> ef43cee7-13f5-4d10-844e-879aba3d8b19</td>\n",
       "      <td> 16</td>\n",
       "      <td> f</td>\n",
       "      <td> 16</td>\n",
       "      <td> United States</td>\n",
       "      <td> 528200ac6ac9a35857d8952a26cf6f4738960643</td>\n",
       "      <td> 42</td>\n",
       "      <td> f</td>\n",
       "      <td> 16</td>\n",
       "      <td> United States</td>\n",
       "    </tr>\n",
       "    <tr>\n",
       "      <th>1</th>\n",
       "      <td> 894484ed3c451c4468b043f363a4caf6de30f9ef</td>\n",
       "      <td> 35a6a353-b186-4c13-a264-d18d5e2ce853</td>\n",
       "      <td> 26</td>\n",
       "      <td> f</td>\n",
       "      <td> 16</td>\n",
       "      <td> United States</td>\n",
       "      <td> 528200ac6ac9a35857d8952a26cf6f4738960643</td>\n",
       "      <td> 50</td>\n",
       "      <td> f</td>\n",
       "      <td> 16</td>\n",
       "      <td> United States</td>\n",
       "    </tr>\n",
       "    <tr>\n",
       "      <th>2</th>\n",
       "      <td> 894484ed3c451c4468b043f363a4caf6de30f9ef</td>\n",
       "      <td> a96ac800-bfcb-412a-8a63-0a98df600700</td>\n",
       "      <td> 15</td>\n",
       "      <td> f</td>\n",
       "      <td> 16</td>\n",
       "      <td> United States</td>\n",
       "      <td> 528200ac6ac9a35857d8952a26cf6f4738960643</td>\n",
       "      <td> 47</td>\n",
       "      <td> f</td>\n",
       "      <td> 16</td>\n",
       "      <td> United States</td>\n",
       "    </tr>\n",
       "  </tbody>\n",
       "</table>\n",
       "</div>"
      ],
      "text/plain": [
       "                                     user_x  \\\n",
       "0  894484ed3c451c4468b043f363a4caf6de30f9ef   \n",
       "1  894484ed3c451c4468b043f363a4caf6de30f9ef   \n",
       "2  894484ed3c451c4468b043f363a4caf6de30f9ef   \n",
       "\n",
       "                                 artist  plays_x sex_x  age_x      country_x  \\\n",
       "0  ef43cee7-13f5-4d10-844e-879aba3d8b19       16     f     16  United States   \n",
       "1  35a6a353-b186-4c13-a264-d18d5e2ce853       26     f     16  United States   \n",
       "2  a96ac800-bfcb-412a-8a63-0a98df600700       15     f     16  United States   \n",
       "\n",
       "                                     user_y  plays_y sex_y  age_y  \\\n",
       "0  528200ac6ac9a35857d8952a26cf6f4738960643       42     f     16   \n",
       "1  528200ac6ac9a35857d8952a26cf6f4738960643       50     f     16   \n",
       "2  528200ac6ac9a35857d8952a26cf6f4738960643       47     f     16   \n",
       "\n",
       "       country_y  \n",
       "0  United States  \n",
       "1  United States  \n",
       "2  United States  "
      ]
     },
     "execution_count": 4,
     "metadata": {},
     "output_type": "execute_result"
    }
   ],
   "source": [
    "gb = data.groupby('user')\n",
    "a = gb.get_group('894484ed3c451c4468b043f363a4caf6de30f9ef')\n",
    "b = gb.get_group('528200ac6ac9a35857d8952a26cf6f4738960643')\n",
    "pd.merge(left = a, right = b, how = 'inner', on = 'artist', )"
   ]
  },
  {
   "cell_type": "code",
   "execution_count": 5,
   "metadata": {
    "collapsed": false
   },
   "outputs": [],
   "source": [
    "demog = data.copy(deep = True)"
   ]
  },
  {
   "cell_type": "code",
   "execution_count": 6,
   "metadata": {
    "collapsed": false
   },
   "outputs": [],
   "source": [
    "demog = demog.drop('user', axis = 1)\n",
    "demog['age'] = demog.age.replace(np.nan, 0) \n",
    "demog['sex'] = demog.sex.replace('NaN', -1) \n",
    "demog['sex'] = [1 if i == 'm' else (0 if i == 'f' else -1) for i in demog.sex]"
   ]
  },
  {
   "cell_type": "code",
   "execution_count": 7,
   "metadata": {
    "collapsed": false
   },
   "outputs": [],
   "source": [
    "testdf = pd.merge(left = test, right = profiles, how = 'left', on ='user')"
   ]
  },
  {
   "cell_type": "code",
   "execution_count": 8,
   "metadata": {
    "collapsed": false
   },
   "outputs": [
    {
     "data": {
      "text/html": [
       "<div style=\"max-height:1000px;max-width:1500px;overflow:auto;\">\n",
       "<table border=\"1\" class=\"dataframe\">\n",
       "  <thead>\n",
       "    <tr style=\"text-align: right;\">\n",
       "      <th></th>\n",
       "      <th>Id</th>\n",
       "      <th>artist</th>\n",
       "      <th>sex</th>\n",
       "      <th>age</th>\n",
       "      <th>country</th>\n",
       "    </tr>\n",
       "  </thead>\n",
       "  <tbody>\n",
       "    <tr>\n",
       "      <th>0</th>\n",
       "      <td>       1</td>\n",
       "      <td> 4ac4e32b-bd18-402e-adad-ae00e72f8d85</td>\n",
       "      <td> 0</td>\n",
       "      <td> 23</td>\n",
       "      <td> United Kingdom</td>\n",
       "    </tr>\n",
       "    <tr>\n",
       "      <th>1</th>\n",
       "      <td>  125409</td>\n",
       "      <td> 88a4cd4e-5dee-4153-8462-0d5e43c75f47</td>\n",
       "      <td> 0</td>\n",
       "      <td> 23</td>\n",
       "      <td> United Kingdom</td>\n",
       "    </tr>\n",
       "    <tr>\n",
       "      <th>2</th>\n",
       "      <td>  463450</td>\n",
       "      <td> 2e547c75-36c1-49d0-984e-b14498c936f0</td>\n",
       "      <td> 0</td>\n",
       "      <td> 23</td>\n",
       "      <td> United Kingdom</td>\n",
       "    </tr>\n",
       "    <tr>\n",
       "      <th>3</th>\n",
       "      <td> 1793322</td>\n",
       "      <td> 22a40b75-affc-4e69-8884-266d087e4751</td>\n",
       "      <td> 0</td>\n",
       "      <td> 23</td>\n",
       "      <td> United Kingdom</td>\n",
       "    </tr>\n",
       "    <tr>\n",
       "      <th>4</th>\n",
       "      <td> 1953458</td>\n",
       "      <td> 44cf61b8-5197-448a-b82b-cef6ee89fac5</td>\n",
       "      <td> 0</td>\n",
       "      <td> 23</td>\n",
       "      <td> United Kingdom</td>\n",
       "    </tr>\n",
       "  </tbody>\n",
       "</table>\n",
       "</div>"
      ],
      "text/plain": [
       "        Id                                artist  sex  age         country\n",
       "0        1  4ac4e32b-bd18-402e-adad-ae00e72f8d85    0   23  United Kingdom\n",
       "1   125409  88a4cd4e-5dee-4153-8462-0d5e43c75f47    0   23  United Kingdom\n",
       "2   463450  2e547c75-36c1-49d0-984e-b14498c936f0    0   23  United Kingdom\n",
       "3  1793322  22a40b75-affc-4e69-8884-266d087e4751    0   23  United Kingdom\n",
       "4  1953458  44cf61b8-5197-448a-b82b-cef6ee89fac5    0   23  United Kingdom"
      ]
     },
     "execution_count": 8,
     "metadata": {},
     "output_type": "execute_result"
    }
   ],
   "source": [
    "testdf = testdf.drop('user', axis = 1)\n",
    "testdf['age'] = testdf.age.replace(np.nan, 0) \n",
    "testdf['sex'] = testdf.sex.replace('NaN', -1) \n",
    "testdf['sex'] = [1 if i == 'm' else (0 if i == 'f' else -1) for i in testdf.sex]\n",
    "testdf.head()"
   ]
  },
  {
   "cell_type": "markdown",
   "metadata": {},
   "source": [
    "##min/diff\n",
    "\n",
    "##General algorithm\n",
    "1. For sex, age, country of user, find k-nearest neighbors that that have that country and that artist.\n",
    "2. average plays of k-nearest neighbors.\n",
    "3. weight with prior of average plays for that artist\n",
    "4. return result"
   ]
  },
  {
   "cell_type": "code",
   "execution_count": 9,
   "metadata": {
    "collapsed": false
   },
   "outputs": [],
   "source": [
    "#clf = sklearn.neighbors.KNeighborsClassifier(n_neighbors=5, weights='uniform', algorithm='auto', leaf_size=30, p=2, metric='minkowski', metric_params=None)\n",
    "clf = sklearn.neighbors.NearestNeighbors()"
   ]
  },
  {
   "cell_type": "code",
   "execution_count": 10,
   "metadata": {
    "collapsed": false
   },
   "outputs": [],
   "source": [
    "prior = demog.groupby('artist').plays.mean()"
   ]
  },
  {
   "cell_type": "code",
   "execution_count": null,
   "metadata": {
    "collapsed": false
   },
   "outputs": [],
   "source": [
    "gb = demog.groupby(['artist','country'])"
   ]
  },
  {
   "cell_type": "code",
   "execution_count": null,
   "metadata": {
    "collapsed": false
   },
   "outputs": [
    {
     "name": "stdout",
     "output_type": "stream",
     "text": [
      "Time Remaining: 3:55:25.434937\n",
      "Time Remaining: 3:52:43.630694\n",
      "Time Remaining: 3:49:11.280334\n",
      "Time Remaining: 3:43:56.700864\n",
      "Time Remaining: 3:43:52.189164\n",
      "Time Remaining: 3:43:04.313674\n",
      "Time Remaining: 3:42:52.556776\n",
      "Time Remaining: 3:42:54.214208\n",
      "Time Remaining: 3:42:48.579628\n",
      "Time Remaining: 3:42:47.438788\n",
      "Time Remaining: 3:42:16.407987\n",
      "Time Remaining: 3:41:35.498311\n",
      "Time Remaining: 3:40:44.485616\n",
      "Time Remaining:"
     ]
    }
   ],
   "source": [
    "t = datetime.now()\n",
    "plays = []\n",
    "for i, row in testdf.iterrows():\n",
    "    result = 0\n",
    "    try:\n",
    "        index = tuple(row[['artist', 'country']])\n",
    "        df = gb.get_group(index)\n",
    "        df = df.reset_index()\n",
    "        dist, indices = clf.fit(df[['sex','age']]).kneighbors(row[['sex', 'age']],n_neighbors = min(5, len(df)))\n",
    "        result = df.ix[indices[0]].plays.mean() #Mean of k-nearest neighbors plays\n",
    "        result = .2 * prior.ix[row['artist']] + .8*result #Incorporate prior belief\n",
    "    except:\n",
    "        #print (i, row)\n",
    "        result = prior.ix[row['artist']]\n",
    "    plays.append([i, result])\n",
    "    if np.random.randint(10000) == 0:\n",
    "        elapsed = datetime.now() - t\n",
    "        total = (elapsed / i) * len(testdf)\n",
    "        print \"Time Remaining:\", total - elapsed"
   ]
  },
  {
   "cell_type": "code",
   "execution_count": 14,
   "metadata": {
    "collapsed": false
   },
   "outputs": [],
   "source": [
    "result = pd.DataFrame(plays)\n",
    "result = result.apply(pd.Series.round)\n",
    "result.columns = ['Id', 'Plays']\n",
    "result.Id = result.Id + 1\n",
    "result.to_csv('submission1.csv', index = False)"
   ]
  },
  {
   "cell_type": "code",
   "execution_count": 34,
   "metadata": {
    "collapsed": false
   },
   "outputs": [],
   "source": [
    "#Trying removing prior\n",
    "bias = []\n",
    "for i, row in testdf.iterrows():\n",
    "    bias.append(.2 * prior.ix[row['artist']])"
   ]
  },
  {
   "cell_type": "code",
   "execution_count": 37,
   "metadata": {
    "collapsed": false
   },
   "outputs": [],
   "source": [
    "bias = pd.Series(bias)\n",
    "result.Plays = (result.Plays - bias)*1.25"
   ]
  },
  {
   "cell_type": "code",
   "execution_count": 40,
   "metadata": {
    "collapsed": false
   },
   "outputs": [],
   "source": [
    "result = result.apply(pd.Series.round)\n",
    "result.to_csv('submission2.csv', index = False)"
   ]
  },
  {
   "cell_type": "code",
   "execution_count": 41,
   "metadata": {
    "collapsed": false
   },
   "outputs": [
    {
     "data": {
      "text/plain": [
       "artist\n",
       "000d90ec-d64c-48a1-b775-e726fd240e9f    196.296078\n",
       "000fc734-b7e1-4a01-92d1-f544261b43f5    288.887880\n",
       "0019749d-ee29-4a5f-ab17-6bfa11deb969    145.452174\n",
       "0039c7ae-e1a7-4a7d-9b49-0cbc716821a6    341.798469\n",
       "004e5eed-e267-46ea-b504-54526f1f377d    370.565190\n",
       "Name: plays, dtype: float64"
      ]
     },
     "execution_count": 41,
     "metadata": {},
     "output_type": "execute_result"
    }
   ],
   "source": [
    "prior.head()"
   ]
  },
  {
   "cell_type": "code",
   "execution_count": 42,
   "metadata": {
    "collapsed": false
   },
   "outputs": [
    {
     "data": {
      "text/html": [
       "<div style=\"max-height:1000px;max-width:1500px;overflow:auto;\">\n",
       "<table border=\"1\" class=\"dataframe\">\n",
       "  <thead>\n",
       "    <tr style=\"text-align: right;\">\n",
       "      <th></th>\n",
       "      <th>Id</th>\n",
       "      <th>artist</th>\n",
       "      <th>sex</th>\n",
       "      <th>age</th>\n",
       "      <th>country</th>\n",
       "    </tr>\n",
       "  </thead>\n",
       "  <tbody>\n",
       "    <tr>\n",
       "      <th>0</th>\n",
       "      <td>       1</td>\n",
       "      <td> 4ac4e32b-bd18-402e-adad-ae00e72f8d85</td>\n",
       "      <td> 0</td>\n",
       "      <td> 23</td>\n",
       "      <td> United Kingdom</td>\n",
       "    </tr>\n",
       "    <tr>\n",
       "      <th>1</th>\n",
       "      <td>  125409</td>\n",
       "      <td> 88a4cd4e-5dee-4153-8462-0d5e43c75f47</td>\n",
       "      <td> 0</td>\n",
       "      <td> 23</td>\n",
       "      <td> United Kingdom</td>\n",
       "    </tr>\n",
       "    <tr>\n",
       "      <th>2</th>\n",
       "      <td>  463450</td>\n",
       "      <td> 2e547c75-36c1-49d0-984e-b14498c936f0</td>\n",
       "      <td> 0</td>\n",
       "      <td> 23</td>\n",
       "      <td> United Kingdom</td>\n",
       "    </tr>\n",
       "    <tr>\n",
       "      <th>3</th>\n",
       "      <td> 1793322</td>\n",
       "      <td> 22a40b75-affc-4e69-8884-266d087e4751</td>\n",
       "      <td> 0</td>\n",
       "      <td> 23</td>\n",
       "      <td> United Kingdom</td>\n",
       "    </tr>\n",
       "    <tr>\n",
       "      <th>4</th>\n",
       "      <td> 1953458</td>\n",
       "      <td> 44cf61b8-5197-448a-b82b-cef6ee89fac5</td>\n",
       "      <td> 0</td>\n",
       "      <td> 23</td>\n",
       "      <td> United Kingdom</td>\n",
       "    </tr>\n",
       "  </tbody>\n",
       "</table>\n",
       "</div>"
      ],
      "text/plain": [
       "        Id                                artist  sex  age         country\n",
       "0        1  4ac4e32b-bd18-402e-adad-ae00e72f8d85    0   23  United Kingdom\n",
       "1   125409  88a4cd4e-5dee-4153-8462-0d5e43c75f47    0   23  United Kingdom\n",
       "2   463450  2e547c75-36c1-49d0-984e-b14498c936f0    0   23  United Kingdom\n",
       "3  1793322  22a40b75-affc-4e69-8884-266d087e4751    0   23  United Kingdom\n",
       "4  1953458  44cf61b8-5197-448a-b82b-cef6ee89fac5    0   23  United Kingdom"
      ]
     },
     "execution_count": 42,
     "metadata": {},
     "output_type": "execute_result"
    }
   ],
   "source": [
    "testdf.head()"
   ]
  },
  {
   "cell_type": "code",
   "execution_count": 44,
   "metadata": {
    "collapsed": false
   },
   "outputs": [],
   "source": [
    "sub3 = testdf.artist.replace(prior)"
   ]
  },
  {
   "cell_type": "code",
   "execution_count": 46,
   "metadata": {
    "collapsed": false
   },
   "outputs": [],
   "source": [
    "sub3 = pd.DataFrame(sub3).reset_index()\n",
    "sub3.columns = ['Id','Plays']\n",
    "sub3['Id'] = sub3.Id + 1\n",
    "sub3 = sub3.apply(pd.Series.round)\n",
    "sub3.to_csv('submission3.csv', index = False)"
   ]
  },
  {
   "cell_type": "markdown",
   "metadata": {
    "collapsed": false
   },
   "source": [
    "##Create a BETTER input matrix for our analysis"
   ]
  },
  {
   "cell_type": "code",
   "execution_count": 6,
   "metadata": {
    "collapsed": true
   },
   "outputs": [],
   "source": [
    "gb = train.groupby('user')"
   ]
  },
  {
   "cell_type": "code",
   "execution_count": 7,
   "metadata": {
    "collapsed": true
   },
   "outputs": [],
   "source": [
    "z = np.zeros((len(train.user.unique()), len(train.artist.unique())))"
   ]
  },
  {
   "cell_type": "code",
   "execution_count": 8,
   "metadata": {
    "collapsed": true
   },
   "outputs": [],
   "source": [
    "X = pd.DataFrame(z)"
   ]
  },
  {
   "cell_type": "code",
   "execution_count": 9,
   "metadata": {
    "collapsed": true
   },
   "outputs": [],
   "source": [
    "X.index = train.user.unique()"
   ]
  },
  {
   "cell_type": "code",
   "execution_count": 10,
   "metadata": {
    "collapsed": true
   },
   "outputs": [],
   "source": [
    "X.columns = train.artist.unique()"
   ]
  },
  {
   "cell_type": "code",
   "execution_count": 11,
   "metadata": {
    "collapsed": false
   },
   "outputs": [],
   "source": [
    "for i,df in gb:\n",
    "    for ind, row in df.iterrows():\n",
    "        X[row.artist][row.user] = row.plays"
   ]
  },
  {
   "cell_type": "code",
   "execution_count": 12,
   "metadata": {
    "collapsed": false
   },
   "outputs": [
    {
     "data": {
      "text/html": [
       "<div style=\"max-height:1000px;max-width:1500px;overflow:auto;\">\n",
       "<table border=\"1\" class=\"dataframe\">\n",
       "  <thead>\n",
       "    <tr style=\"text-align: right;\">\n",
       "      <th></th>\n",
       "      <th>5a8e07d5-d932-4484-a7f7-e700793a9c94</th>\n",
       "      <th>a3a92047-be1c-4f3e-8960-c4f8570984df</th>\n",
       "      <th>eeb1195b-f213-4ce1-b28c-8565211f8e43</th>\n",
       "      <th>a1419808-65d3-4d40-998c-1a0bac65eabc</th>\n",
       "      <th>a3cb23fc-acd3-4ce0-8f36-1e5aa6a18432</th>\n",
       "      <th>1cc5adcd-1422-4b5c-a3cd-3ecd4f43f506</th>\n",
       "      <th>9c9f1380-2516-4fc9-a3e6-f9f61941d090</th>\n",
       "      <th>832a43c7-aa7d-439b-a6b4-4f1afa671c24</th>\n",
       "      <th>2fddb92d-24b2-46a5-bf28-3aed46f4684c</th>\n",
       "      <th>847e8284-8582-4b0e-9c26-b042a4f49e57</th>\n",
       "      <th>...</th>\n",
       "      <th>e390d54f-92f0-4039-9dd3-e8eac130b4c0</th>\n",
       "      <th>72d7d717-0837-4f2a-9641-d0f9fdd3acf7</th>\n",
       "      <th>6ae51665-8261-4ae5-883f-1899651ad31b</th>\n",
       "      <th>ca264abf-3eb6-4d53-827b-6ab16988a4a3</th>\n",
       "      <th>c78a5d46-c631-41bc-8772-439002e3d3aa</th>\n",
       "      <th>dd3f655b-7bf6-4fe1-9360-3de5d842e9d2</th>\n",
       "      <th>582fee78-d934-4603-9f5c-1729e0ca36b7</th>\n",
       "      <th>c1d4f2ba-cf39-460c-9528-6b827d3417a1</th>\n",
       "      <th>bfcc6d75-a6a5-4bc6-8282-47aec8531818</th>\n",
       "      <th>774666d2-2064-4d6c-856c-f8cda0aaf9f0</th>\n",
       "    </tr>\n",
       "  </thead>\n",
       "  <tbody>\n",
       "    <tr>\n",
       "      <th>eb1c57ddc9e0e2d005169d3a1a96e8dd95e3af03</th>\n",
       "      <td> 554</td>\n",
       "      <td>  0</td>\n",
       "      <td>   0</td>\n",
       "      <td>   0</td>\n",
       "      <td>   0</td>\n",
       "      <td> 554</td>\n",
       "      <td>   0</td>\n",
       "      <td> 0</td>\n",
       "      <td>   0</td>\n",
       "      <td> 0</td>\n",
       "      <td>...</td>\n",
       "      <td> 0</td>\n",
       "      <td> 0</td>\n",
       "      <td> 0</td>\n",
       "      <td> 0</td>\n",
       "      <td> 0</td>\n",
       "      <td> 0</td>\n",
       "      <td> 0</td>\n",
       "      <td> 0</td>\n",
       "      <td> 0</td>\n",
       "      <td> 0</td>\n",
       "    </tr>\n",
       "    <tr>\n",
       "      <th>44ce793a6cd9d20f13f4a576a818ef983314bb5d</th>\n",
       "      <td>   0</td>\n",
       "      <td> 81</td>\n",
       "      <td>   0</td>\n",
       "      <td>   0</td>\n",
       "      <td>   0</td>\n",
       "      <td>   0</td>\n",
       "      <td>   0</td>\n",
       "      <td> 0</td>\n",
       "      <td>   0</td>\n",
       "      <td> 0</td>\n",
       "      <td>...</td>\n",
       "      <td> 0</td>\n",
       "      <td> 0</td>\n",
       "      <td> 0</td>\n",
       "      <td> 0</td>\n",
       "      <td> 0</td>\n",
       "      <td> 0</td>\n",
       "      <td> 0</td>\n",
       "      <td> 0</td>\n",
       "      <td> 0</td>\n",
       "      <td> 0</td>\n",
       "    </tr>\n",
       "    <tr>\n",
       "      <th>da9cf3f557161d54b76f24db64be9cc76db008e3</th>\n",
       "      <td>   0</td>\n",
       "      <td>  0</td>\n",
       "      <td> 708</td>\n",
       "      <td>   0</td>\n",
       "      <td>   0</td>\n",
       "      <td>   0</td>\n",
       "      <td> 145</td>\n",
       "      <td> 0</td>\n",
       "      <td>   0</td>\n",
       "      <td> 0</td>\n",
       "      <td>...</td>\n",
       "      <td> 0</td>\n",
       "      <td> 0</td>\n",
       "      <td> 0</td>\n",
       "      <td> 0</td>\n",
       "      <td> 0</td>\n",
       "      <td> 0</td>\n",
       "      <td> 0</td>\n",
       "      <td> 0</td>\n",
       "      <td> 0</td>\n",
       "      <td> 0</td>\n",
       "    </tr>\n",
       "    <tr>\n",
       "      <th>8fa49ab25d425edcf05d44bfc1d5aea895287d81</th>\n",
       "      <td>   0</td>\n",
       "      <td>  0</td>\n",
       "      <td>   0</td>\n",
       "      <td> 265</td>\n",
       "      <td>   0</td>\n",
       "      <td>   0</td>\n",
       "      <td>   0</td>\n",
       "      <td> 0</td>\n",
       "      <td> 476</td>\n",
       "      <td> 0</td>\n",
       "      <td>...</td>\n",
       "      <td> 0</td>\n",
       "      <td> 0</td>\n",
       "      <td> 0</td>\n",
       "      <td> 0</td>\n",
       "      <td> 0</td>\n",
       "      <td> 0</td>\n",
       "      <td> 0</td>\n",
       "      <td> 0</td>\n",
       "      <td> 0</td>\n",
       "      <td> 0</td>\n",
       "    </tr>\n",
       "    <tr>\n",
       "      <th>b85fcaef67d2669cd99b334b5e8c8705263db2cf</th>\n",
       "      <td>   0</td>\n",
       "      <td>  0</td>\n",
       "      <td>   0</td>\n",
       "      <td>   0</td>\n",
       "      <td> 220</td>\n",
       "      <td>   0</td>\n",
       "      <td>   0</td>\n",
       "      <td> 0</td>\n",
       "      <td>   0</td>\n",
       "      <td> 0</td>\n",
       "      <td>...</td>\n",
       "      <td> 0</td>\n",
       "      <td> 0</td>\n",
       "      <td> 0</td>\n",
       "      <td> 0</td>\n",
       "      <td> 0</td>\n",
       "      <td> 0</td>\n",
       "      <td> 0</td>\n",
       "      <td> 0</td>\n",
       "      <td> 0</td>\n",
       "      <td> 0</td>\n",
       "    </tr>\n",
       "  </tbody>\n",
       "</table>\n",
       "<p>5 rows × 2000 columns</p>\n",
       "</div>"
      ],
      "text/plain": [
       "                                          5a8e07d5-d932-4484-a7f7-e700793a9c94  \\\n",
       "eb1c57ddc9e0e2d005169d3a1a96e8dd95e3af03                                   554   \n",
       "44ce793a6cd9d20f13f4a576a818ef983314bb5d                                     0   \n",
       "da9cf3f557161d54b76f24db64be9cc76db008e3                                     0   \n",
       "8fa49ab25d425edcf05d44bfc1d5aea895287d81                                     0   \n",
       "b85fcaef67d2669cd99b334b5e8c8705263db2cf                                     0   \n",
       "\n",
       "                                          a3a92047-be1c-4f3e-8960-c4f8570984df  \\\n",
       "eb1c57ddc9e0e2d005169d3a1a96e8dd95e3af03                                     0   \n",
       "44ce793a6cd9d20f13f4a576a818ef983314bb5d                                    81   \n",
       "da9cf3f557161d54b76f24db64be9cc76db008e3                                     0   \n",
       "8fa49ab25d425edcf05d44bfc1d5aea895287d81                                     0   \n",
       "b85fcaef67d2669cd99b334b5e8c8705263db2cf                                     0   \n",
       "\n",
       "                                          eeb1195b-f213-4ce1-b28c-8565211f8e43  \\\n",
       "eb1c57ddc9e0e2d005169d3a1a96e8dd95e3af03                                     0   \n",
       "44ce793a6cd9d20f13f4a576a818ef983314bb5d                                     0   \n",
       "da9cf3f557161d54b76f24db64be9cc76db008e3                                   708   \n",
       "8fa49ab25d425edcf05d44bfc1d5aea895287d81                                     0   \n",
       "b85fcaef67d2669cd99b334b5e8c8705263db2cf                                     0   \n",
       "\n",
       "                                          a1419808-65d3-4d40-998c-1a0bac65eabc  \\\n",
       "eb1c57ddc9e0e2d005169d3a1a96e8dd95e3af03                                     0   \n",
       "44ce793a6cd9d20f13f4a576a818ef983314bb5d                                     0   \n",
       "da9cf3f557161d54b76f24db64be9cc76db008e3                                     0   \n",
       "8fa49ab25d425edcf05d44bfc1d5aea895287d81                                   265   \n",
       "b85fcaef67d2669cd99b334b5e8c8705263db2cf                                     0   \n",
       "\n",
       "                                          a3cb23fc-acd3-4ce0-8f36-1e5aa6a18432  \\\n",
       "eb1c57ddc9e0e2d005169d3a1a96e8dd95e3af03                                     0   \n",
       "44ce793a6cd9d20f13f4a576a818ef983314bb5d                                     0   \n",
       "da9cf3f557161d54b76f24db64be9cc76db008e3                                     0   \n",
       "8fa49ab25d425edcf05d44bfc1d5aea895287d81                                     0   \n",
       "b85fcaef67d2669cd99b334b5e8c8705263db2cf                                   220   \n",
       "\n",
       "                                          1cc5adcd-1422-4b5c-a3cd-3ecd4f43f506  \\\n",
       "eb1c57ddc9e0e2d005169d3a1a96e8dd95e3af03                                   554   \n",
       "44ce793a6cd9d20f13f4a576a818ef983314bb5d                                     0   \n",
       "da9cf3f557161d54b76f24db64be9cc76db008e3                                     0   \n",
       "8fa49ab25d425edcf05d44bfc1d5aea895287d81                                     0   \n",
       "b85fcaef67d2669cd99b334b5e8c8705263db2cf                                     0   \n",
       "\n",
       "                                          9c9f1380-2516-4fc9-a3e6-f9f61941d090  \\\n",
       "eb1c57ddc9e0e2d005169d3a1a96e8dd95e3af03                                     0   \n",
       "44ce793a6cd9d20f13f4a576a818ef983314bb5d                                     0   \n",
       "da9cf3f557161d54b76f24db64be9cc76db008e3                                   145   \n",
       "8fa49ab25d425edcf05d44bfc1d5aea895287d81                                     0   \n",
       "b85fcaef67d2669cd99b334b5e8c8705263db2cf                                     0   \n",
       "\n",
       "                                          832a43c7-aa7d-439b-a6b4-4f1afa671c24  \\\n",
       "eb1c57ddc9e0e2d005169d3a1a96e8dd95e3af03                                     0   \n",
       "44ce793a6cd9d20f13f4a576a818ef983314bb5d                                     0   \n",
       "da9cf3f557161d54b76f24db64be9cc76db008e3                                     0   \n",
       "8fa49ab25d425edcf05d44bfc1d5aea895287d81                                     0   \n",
       "b85fcaef67d2669cd99b334b5e8c8705263db2cf                                     0   \n",
       "\n",
       "                                          2fddb92d-24b2-46a5-bf28-3aed46f4684c  \\\n",
       "eb1c57ddc9e0e2d005169d3a1a96e8dd95e3af03                                     0   \n",
       "44ce793a6cd9d20f13f4a576a818ef983314bb5d                                     0   \n",
       "da9cf3f557161d54b76f24db64be9cc76db008e3                                     0   \n",
       "8fa49ab25d425edcf05d44bfc1d5aea895287d81                                   476   \n",
       "b85fcaef67d2669cd99b334b5e8c8705263db2cf                                     0   \n",
       "\n",
       "                                          847e8284-8582-4b0e-9c26-b042a4f49e57  \\\n",
       "eb1c57ddc9e0e2d005169d3a1a96e8dd95e3af03                                     0   \n",
       "44ce793a6cd9d20f13f4a576a818ef983314bb5d                                     0   \n",
       "da9cf3f557161d54b76f24db64be9cc76db008e3                                     0   \n",
       "8fa49ab25d425edcf05d44bfc1d5aea895287d81                                     0   \n",
       "b85fcaef67d2669cd99b334b5e8c8705263db2cf                                     0   \n",
       "\n",
       "                                                          ...                   \\\n",
       "eb1c57ddc9e0e2d005169d3a1a96e8dd95e3af03                  ...                    \n",
       "44ce793a6cd9d20f13f4a576a818ef983314bb5d                  ...                    \n",
       "da9cf3f557161d54b76f24db64be9cc76db008e3                  ...                    \n",
       "8fa49ab25d425edcf05d44bfc1d5aea895287d81                  ...                    \n",
       "b85fcaef67d2669cd99b334b5e8c8705263db2cf                  ...                    \n",
       "\n",
       "                                          e390d54f-92f0-4039-9dd3-e8eac130b4c0  \\\n",
       "eb1c57ddc9e0e2d005169d3a1a96e8dd95e3af03                                     0   \n",
       "44ce793a6cd9d20f13f4a576a818ef983314bb5d                                     0   \n",
       "da9cf3f557161d54b76f24db64be9cc76db008e3                                     0   \n",
       "8fa49ab25d425edcf05d44bfc1d5aea895287d81                                     0   \n",
       "b85fcaef67d2669cd99b334b5e8c8705263db2cf                                     0   \n",
       "\n",
       "                                          72d7d717-0837-4f2a-9641-d0f9fdd3acf7  \\\n",
       "eb1c57ddc9e0e2d005169d3a1a96e8dd95e3af03                                     0   \n",
       "44ce793a6cd9d20f13f4a576a818ef983314bb5d                                     0   \n",
       "da9cf3f557161d54b76f24db64be9cc76db008e3                                     0   \n",
       "8fa49ab25d425edcf05d44bfc1d5aea895287d81                                     0   \n",
       "b85fcaef67d2669cd99b334b5e8c8705263db2cf                                     0   \n",
       "\n",
       "                                          6ae51665-8261-4ae5-883f-1899651ad31b  \\\n",
       "eb1c57ddc9e0e2d005169d3a1a96e8dd95e3af03                                     0   \n",
       "44ce793a6cd9d20f13f4a576a818ef983314bb5d                                     0   \n",
       "da9cf3f557161d54b76f24db64be9cc76db008e3                                     0   \n",
       "8fa49ab25d425edcf05d44bfc1d5aea895287d81                                     0   \n",
       "b85fcaef67d2669cd99b334b5e8c8705263db2cf                                     0   \n",
       "\n",
       "                                          ca264abf-3eb6-4d53-827b-6ab16988a4a3  \\\n",
       "eb1c57ddc9e0e2d005169d3a1a96e8dd95e3af03                                     0   \n",
       "44ce793a6cd9d20f13f4a576a818ef983314bb5d                                     0   \n",
       "da9cf3f557161d54b76f24db64be9cc76db008e3                                     0   \n",
       "8fa49ab25d425edcf05d44bfc1d5aea895287d81                                     0   \n",
       "b85fcaef67d2669cd99b334b5e8c8705263db2cf                                     0   \n",
       "\n",
       "                                          c78a5d46-c631-41bc-8772-439002e3d3aa  \\\n",
       "eb1c57ddc9e0e2d005169d3a1a96e8dd95e3af03                                     0   \n",
       "44ce793a6cd9d20f13f4a576a818ef983314bb5d                                     0   \n",
       "da9cf3f557161d54b76f24db64be9cc76db008e3                                     0   \n",
       "8fa49ab25d425edcf05d44bfc1d5aea895287d81                                     0   \n",
       "b85fcaef67d2669cd99b334b5e8c8705263db2cf                                     0   \n",
       "\n",
       "                                          dd3f655b-7bf6-4fe1-9360-3de5d842e9d2  \\\n",
       "eb1c57ddc9e0e2d005169d3a1a96e8dd95e3af03                                     0   \n",
       "44ce793a6cd9d20f13f4a576a818ef983314bb5d                                     0   \n",
       "da9cf3f557161d54b76f24db64be9cc76db008e3                                     0   \n",
       "8fa49ab25d425edcf05d44bfc1d5aea895287d81                                     0   \n",
       "b85fcaef67d2669cd99b334b5e8c8705263db2cf                                     0   \n",
       "\n",
       "                                          582fee78-d934-4603-9f5c-1729e0ca36b7  \\\n",
       "eb1c57ddc9e0e2d005169d3a1a96e8dd95e3af03                                     0   \n",
       "44ce793a6cd9d20f13f4a576a818ef983314bb5d                                     0   \n",
       "da9cf3f557161d54b76f24db64be9cc76db008e3                                     0   \n",
       "8fa49ab25d425edcf05d44bfc1d5aea895287d81                                     0   \n",
       "b85fcaef67d2669cd99b334b5e8c8705263db2cf                                     0   \n",
       "\n",
       "                                          c1d4f2ba-cf39-460c-9528-6b827d3417a1  \\\n",
       "eb1c57ddc9e0e2d005169d3a1a96e8dd95e3af03                                     0   \n",
       "44ce793a6cd9d20f13f4a576a818ef983314bb5d                                     0   \n",
       "da9cf3f557161d54b76f24db64be9cc76db008e3                                     0   \n",
       "8fa49ab25d425edcf05d44bfc1d5aea895287d81                                     0   \n",
       "b85fcaef67d2669cd99b334b5e8c8705263db2cf                                     0   \n",
       "\n",
       "                                          bfcc6d75-a6a5-4bc6-8282-47aec8531818  \\\n",
       "eb1c57ddc9e0e2d005169d3a1a96e8dd95e3af03                                     0   \n",
       "44ce793a6cd9d20f13f4a576a818ef983314bb5d                                     0   \n",
       "da9cf3f557161d54b76f24db64be9cc76db008e3                                     0   \n",
       "8fa49ab25d425edcf05d44bfc1d5aea895287d81                                     0   \n",
       "b85fcaef67d2669cd99b334b5e8c8705263db2cf                                     0   \n",
       "\n",
       "                                          774666d2-2064-4d6c-856c-f8cda0aaf9f0  \n",
       "eb1c57ddc9e0e2d005169d3a1a96e8dd95e3af03                                     0  \n",
       "44ce793a6cd9d20f13f4a576a818ef983314bb5d                                     0  \n",
       "da9cf3f557161d54b76f24db64be9cc76db008e3                                     0  \n",
       "8fa49ab25d425edcf05d44bfc1d5aea895287d81                                     0  \n",
       "b85fcaef67d2669cd99b334b5e8c8705263db2cf                                     0  \n",
       "\n",
       "[5 rows x 2000 columns]"
      ]
     },
     "execution_count": 12,
     "metadata": {},
     "output_type": "execute_result"
    }
   ],
   "source": [
    "X.head()"
   ]
  },
  {
   "cell_type": "markdown",
   "metadata": {},
   "source": [
    "##Normalize rows of X so that number of plays doesn't affect user comparisons (however keep X) around and call this new normalized matrix Xnorm. If Xnorm doesn't yield good results, try X with min/diff similarity metric"
   ]
  },
  {
   "cell_type": "code",
   "execution_count": 13,
   "metadata": {
    "collapsed": false
   },
   "outputs": [
    {
     "data": {
      "text/html": [
       "<div style=\"max-height:1000px;max-width:1500px;overflow:auto;\">\n",
       "<table border=\"1\" class=\"dataframe\">\n",
       "  <thead>\n",
       "    <tr style=\"text-align: right;\">\n",
       "      <th></th>\n",
       "      <th>5a8e07d5-d932-4484-a7f7-e700793a9c94</th>\n",
       "      <th>a3a92047-be1c-4f3e-8960-c4f8570984df</th>\n",
       "      <th>eeb1195b-f213-4ce1-b28c-8565211f8e43</th>\n",
       "      <th>a1419808-65d3-4d40-998c-1a0bac65eabc</th>\n",
       "      <th>a3cb23fc-acd3-4ce0-8f36-1e5aa6a18432</th>\n",
       "      <th>1cc5adcd-1422-4b5c-a3cd-3ecd4f43f506</th>\n",
       "      <th>9c9f1380-2516-4fc9-a3e6-f9f61941d090</th>\n",
       "      <th>832a43c7-aa7d-439b-a6b4-4f1afa671c24</th>\n",
       "      <th>2fddb92d-24b2-46a5-bf28-3aed46f4684c</th>\n",
       "      <th>847e8284-8582-4b0e-9c26-b042a4f49e57</th>\n",
       "      <th>...</th>\n",
       "      <th>e390d54f-92f0-4039-9dd3-e8eac130b4c0</th>\n",
       "      <th>72d7d717-0837-4f2a-9641-d0f9fdd3acf7</th>\n",
       "      <th>6ae51665-8261-4ae5-883f-1899651ad31b</th>\n",
       "      <th>ca264abf-3eb6-4d53-827b-6ab16988a4a3</th>\n",
       "      <th>c78a5d46-c631-41bc-8772-439002e3d3aa</th>\n",
       "      <th>dd3f655b-7bf6-4fe1-9360-3de5d842e9d2</th>\n",
       "      <th>582fee78-d934-4603-9f5c-1729e0ca36b7</th>\n",
       "      <th>c1d4f2ba-cf39-460c-9528-6b827d3417a1</th>\n",
       "      <th>bfcc6d75-a6a5-4bc6-8282-47aec8531818</th>\n",
       "      <th>774666d2-2064-4d6c-856c-f8cda0aaf9f0</th>\n",
       "    </tr>\n",
       "  </thead>\n",
       "  <tbody>\n",
       "    <tr>\n",
       "      <th>eb1c57ddc9e0e2d005169d3a1a96e8dd95e3af03</th>\n",
       "      <td> 0.034378</td>\n",
       "      <td> 0.000000</td>\n",
       "      <td> 0.000000</td>\n",
       "      <td> 0.000000</td>\n",
       "      <td> 0.000000</td>\n",
       "      <td> 0.034378</td>\n",
       "      <td> 0.000000</td>\n",
       "      <td> 0</td>\n",
       "      <td> 0.000000</td>\n",
       "      <td> 0</td>\n",
       "      <td>...</td>\n",
       "      <td> 0</td>\n",
       "      <td> 0</td>\n",
       "      <td> 0</td>\n",
       "      <td> 0</td>\n",
       "      <td> 0</td>\n",
       "      <td> 0</td>\n",
       "      <td> 0</td>\n",
       "      <td> 0</td>\n",
       "      <td> 0</td>\n",
       "      <td> 0</td>\n",
       "    </tr>\n",
       "    <tr>\n",
       "      <th>44ce793a6cd9d20f13f4a576a818ef983314bb5d</th>\n",
       "      <td> 0.000000</td>\n",
       "      <td> 0.142857</td>\n",
       "      <td> 0.000000</td>\n",
       "      <td> 0.000000</td>\n",
       "      <td> 0.000000</td>\n",
       "      <td> 0.000000</td>\n",
       "      <td> 0.000000</td>\n",
       "      <td> 0</td>\n",
       "      <td> 0.000000</td>\n",
       "      <td> 0</td>\n",
       "      <td>...</td>\n",
       "      <td> 0</td>\n",
       "      <td> 0</td>\n",
       "      <td> 0</td>\n",
       "      <td> 0</td>\n",
       "      <td> 0</td>\n",
       "      <td> 0</td>\n",
       "      <td> 0</td>\n",
       "      <td> 0</td>\n",
       "      <td> 0</td>\n",
       "      <td> 0</td>\n",
       "    </tr>\n",
       "    <tr>\n",
       "      <th>da9cf3f557161d54b76f24db64be9cc76db008e3</th>\n",
       "      <td> 0.000000</td>\n",
       "      <td> 0.000000</td>\n",
       "      <td> 0.152883</td>\n",
       "      <td> 0.000000</td>\n",
       "      <td> 0.000000</td>\n",
       "      <td> 0.000000</td>\n",
       "      <td> 0.031311</td>\n",
       "      <td> 0</td>\n",
       "      <td> 0.000000</td>\n",
       "      <td> 0</td>\n",
       "      <td>...</td>\n",
       "      <td> 0</td>\n",
       "      <td> 0</td>\n",
       "      <td> 0</td>\n",
       "      <td> 0</td>\n",
       "      <td> 0</td>\n",
       "      <td> 0</td>\n",
       "      <td> 0</td>\n",
       "      <td> 0</td>\n",
       "      <td> 0</td>\n",
       "      <td> 0</td>\n",
       "    </tr>\n",
       "    <tr>\n",
       "      <th>8fa49ab25d425edcf05d44bfc1d5aea895287d81</th>\n",
       "      <td> 0.000000</td>\n",
       "      <td> 0.000000</td>\n",
       "      <td> 0.000000</td>\n",
       "      <td> 0.044329</td>\n",
       "      <td> 0.000000</td>\n",
       "      <td> 0.000000</td>\n",
       "      <td> 0.000000</td>\n",
       "      <td> 0</td>\n",
       "      <td> 0.079625</td>\n",
       "      <td> 0</td>\n",
       "      <td>...</td>\n",
       "      <td> 0</td>\n",
       "      <td> 0</td>\n",
       "      <td> 0</td>\n",
       "      <td> 0</td>\n",
       "      <td> 0</td>\n",
       "      <td> 0</td>\n",
       "      <td> 0</td>\n",
       "      <td> 0</td>\n",
       "      <td> 0</td>\n",
       "      <td> 0</td>\n",
       "    </tr>\n",
       "    <tr>\n",
       "      <th>b85fcaef67d2669cd99b334b5e8c8705263db2cf</th>\n",
       "      <td> 0.000000</td>\n",
       "      <td> 0.000000</td>\n",
       "      <td> 0.000000</td>\n",
       "      <td> 0.000000</td>\n",
       "      <td> 0.141753</td>\n",
       "      <td> 0.000000</td>\n",
       "      <td> 0.000000</td>\n",
       "      <td> 0</td>\n",
       "      <td> 0.000000</td>\n",
       "      <td> 0</td>\n",
       "      <td>...</td>\n",
       "      <td> 0</td>\n",
       "      <td> 0</td>\n",
       "      <td> 0</td>\n",
       "      <td> 0</td>\n",
       "      <td> 0</td>\n",
       "      <td> 0</td>\n",
       "      <td> 0</td>\n",
       "      <td> 0</td>\n",
       "      <td> 0</td>\n",
       "      <td> 0</td>\n",
       "    </tr>\n",
       "  </tbody>\n",
       "</table>\n",
       "<p>5 rows × 2000 columns</p>\n",
       "</div>"
      ],
      "text/plain": [
       "                                          5a8e07d5-d932-4484-a7f7-e700793a9c94  \\\n",
       "eb1c57ddc9e0e2d005169d3a1a96e8dd95e3af03                              0.034378   \n",
       "44ce793a6cd9d20f13f4a576a818ef983314bb5d                              0.000000   \n",
       "da9cf3f557161d54b76f24db64be9cc76db008e3                              0.000000   \n",
       "8fa49ab25d425edcf05d44bfc1d5aea895287d81                              0.000000   \n",
       "b85fcaef67d2669cd99b334b5e8c8705263db2cf                              0.000000   \n",
       "\n",
       "                                          a3a92047-be1c-4f3e-8960-c4f8570984df  \\\n",
       "eb1c57ddc9e0e2d005169d3a1a96e8dd95e3af03                              0.000000   \n",
       "44ce793a6cd9d20f13f4a576a818ef983314bb5d                              0.142857   \n",
       "da9cf3f557161d54b76f24db64be9cc76db008e3                              0.000000   \n",
       "8fa49ab25d425edcf05d44bfc1d5aea895287d81                              0.000000   \n",
       "b85fcaef67d2669cd99b334b5e8c8705263db2cf                              0.000000   \n",
       "\n",
       "                                          eeb1195b-f213-4ce1-b28c-8565211f8e43  \\\n",
       "eb1c57ddc9e0e2d005169d3a1a96e8dd95e3af03                              0.000000   \n",
       "44ce793a6cd9d20f13f4a576a818ef983314bb5d                              0.000000   \n",
       "da9cf3f557161d54b76f24db64be9cc76db008e3                              0.152883   \n",
       "8fa49ab25d425edcf05d44bfc1d5aea895287d81                              0.000000   \n",
       "b85fcaef67d2669cd99b334b5e8c8705263db2cf                              0.000000   \n",
       "\n",
       "                                          a1419808-65d3-4d40-998c-1a0bac65eabc  \\\n",
       "eb1c57ddc9e0e2d005169d3a1a96e8dd95e3af03                              0.000000   \n",
       "44ce793a6cd9d20f13f4a576a818ef983314bb5d                              0.000000   \n",
       "da9cf3f557161d54b76f24db64be9cc76db008e3                              0.000000   \n",
       "8fa49ab25d425edcf05d44bfc1d5aea895287d81                              0.044329   \n",
       "b85fcaef67d2669cd99b334b5e8c8705263db2cf                              0.000000   \n",
       "\n",
       "                                          a3cb23fc-acd3-4ce0-8f36-1e5aa6a18432  \\\n",
       "eb1c57ddc9e0e2d005169d3a1a96e8dd95e3af03                              0.000000   \n",
       "44ce793a6cd9d20f13f4a576a818ef983314bb5d                              0.000000   \n",
       "da9cf3f557161d54b76f24db64be9cc76db008e3                              0.000000   \n",
       "8fa49ab25d425edcf05d44bfc1d5aea895287d81                              0.000000   \n",
       "b85fcaef67d2669cd99b334b5e8c8705263db2cf                              0.141753   \n",
       "\n",
       "                                          1cc5adcd-1422-4b5c-a3cd-3ecd4f43f506  \\\n",
       "eb1c57ddc9e0e2d005169d3a1a96e8dd95e3af03                              0.034378   \n",
       "44ce793a6cd9d20f13f4a576a818ef983314bb5d                              0.000000   \n",
       "da9cf3f557161d54b76f24db64be9cc76db008e3                              0.000000   \n",
       "8fa49ab25d425edcf05d44bfc1d5aea895287d81                              0.000000   \n",
       "b85fcaef67d2669cd99b334b5e8c8705263db2cf                              0.000000   \n",
       "\n",
       "                                          9c9f1380-2516-4fc9-a3e6-f9f61941d090  \\\n",
       "eb1c57ddc9e0e2d005169d3a1a96e8dd95e3af03                              0.000000   \n",
       "44ce793a6cd9d20f13f4a576a818ef983314bb5d                              0.000000   \n",
       "da9cf3f557161d54b76f24db64be9cc76db008e3                              0.031311   \n",
       "8fa49ab25d425edcf05d44bfc1d5aea895287d81                              0.000000   \n",
       "b85fcaef67d2669cd99b334b5e8c8705263db2cf                              0.000000   \n",
       "\n",
       "                                          832a43c7-aa7d-439b-a6b4-4f1afa671c24  \\\n",
       "eb1c57ddc9e0e2d005169d3a1a96e8dd95e3af03                                     0   \n",
       "44ce793a6cd9d20f13f4a576a818ef983314bb5d                                     0   \n",
       "da9cf3f557161d54b76f24db64be9cc76db008e3                                     0   \n",
       "8fa49ab25d425edcf05d44bfc1d5aea895287d81                                     0   \n",
       "b85fcaef67d2669cd99b334b5e8c8705263db2cf                                     0   \n",
       "\n",
       "                                          2fddb92d-24b2-46a5-bf28-3aed46f4684c  \\\n",
       "eb1c57ddc9e0e2d005169d3a1a96e8dd95e3af03                              0.000000   \n",
       "44ce793a6cd9d20f13f4a576a818ef983314bb5d                              0.000000   \n",
       "da9cf3f557161d54b76f24db64be9cc76db008e3                              0.000000   \n",
       "8fa49ab25d425edcf05d44bfc1d5aea895287d81                              0.079625   \n",
       "b85fcaef67d2669cd99b334b5e8c8705263db2cf                              0.000000   \n",
       "\n",
       "                                          847e8284-8582-4b0e-9c26-b042a4f49e57  \\\n",
       "eb1c57ddc9e0e2d005169d3a1a96e8dd95e3af03                                     0   \n",
       "44ce793a6cd9d20f13f4a576a818ef983314bb5d                                     0   \n",
       "da9cf3f557161d54b76f24db64be9cc76db008e3                                     0   \n",
       "8fa49ab25d425edcf05d44bfc1d5aea895287d81                                     0   \n",
       "b85fcaef67d2669cd99b334b5e8c8705263db2cf                                     0   \n",
       "\n",
       "                                                          ...                   \\\n",
       "eb1c57ddc9e0e2d005169d3a1a96e8dd95e3af03                  ...                    \n",
       "44ce793a6cd9d20f13f4a576a818ef983314bb5d                  ...                    \n",
       "da9cf3f557161d54b76f24db64be9cc76db008e3                  ...                    \n",
       "8fa49ab25d425edcf05d44bfc1d5aea895287d81                  ...                    \n",
       "b85fcaef67d2669cd99b334b5e8c8705263db2cf                  ...                    \n",
       "\n",
       "                                          e390d54f-92f0-4039-9dd3-e8eac130b4c0  \\\n",
       "eb1c57ddc9e0e2d005169d3a1a96e8dd95e3af03                                     0   \n",
       "44ce793a6cd9d20f13f4a576a818ef983314bb5d                                     0   \n",
       "da9cf3f557161d54b76f24db64be9cc76db008e3                                     0   \n",
       "8fa49ab25d425edcf05d44bfc1d5aea895287d81                                     0   \n",
       "b85fcaef67d2669cd99b334b5e8c8705263db2cf                                     0   \n",
       "\n",
       "                                          72d7d717-0837-4f2a-9641-d0f9fdd3acf7  \\\n",
       "eb1c57ddc9e0e2d005169d3a1a96e8dd95e3af03                                     0   \n",
       "44ce793a6cd9d20f13f4a576a818ef983314bb5d                                     0   \n",
       "da9cf3f557161d54b76f24db64be9cc76db008e3                                     0   \n",
       "8fa49ab25d425edcf05d44bfc1d5aea895287d81                                     0   \n",
       "b85fcaef67d2669cd99b334b5e8c8705263db2cf                                     0   \n",
       "\n",
       "                                          6ae51665-8261-4ae5-883f-1899651ad31b  \\\n",
       "eb1c57ddc9e0e2d005169d3a1a96e8dd95e3af03                                     0   \n",
       "44ce793a6cd9d20f13f4a576a818ef983314bb5d                                     0   \n",
       "da9cf3f557161d54b76f24db64be9cc76db008e3                                     0   \n",
       "8fa49ab25d425edcf05d44bfc1d5aea895287d81                                     0   \n",
       "b85fcaef67d2669cd99b334b5e8c8705263db2cf                                     0   \n",
       "\n",
       "                                          ca264abf-3eb6-4d53-827b-6ab16988a4a3  \\\n",
       "eb1c57ddc9e0e2d005169d3a1a96e8dd95e3af03                                     0   \n",
       "44ce793a6cd9d20f13f4a576a818ef983314bb5d                                     0   \n",
       "da9cf3f557161d54b76f24db64be9cc76db008e3                                     0   \n",
       "8fa49ab25d425edcf05d44bfc1d5aea895287d81                                     0   \n",
       "b85fcaef67d2669cd99b334b5e8c8705263db2cf                                     0   \n",
       "\n",
       "                                          c78a5d46-c631-41bc-8772-439002e3d3aa  \\\n",
       "eb1c57ddc9e0e2d005169d3a1a96e8dd95e3af03                                     0   \n",
       "44ce793a6cd9d20f13f4a576a818ef983314bb5d                                     0   \n",
       "da9cf3f557161d54b76f24db64be9cc76db008e3                                     0   \n",
       "8fa49ab25d425edcf05d44bfc1d5aea895287d81                                     0   \n",
       "b85fcaef67d2669cd99b334b5e8c8705263db2cf                                     0   \n",
       "\n",
       "                                          dd3f655b-7bf6-4fe1-9360-3de5d842e9d2  \\\n",
       "eb1c57ddc9e0e2d005169d3a1a96e8dd95e3af03                                     0   \n",
       "44ce793a6cd9d20f13f4a576a818ef983314bb5d                                     0   \n",
       "da9cf3f557161d54b76f24db64be9cc76db008e3                                     0   \n",
       "8fa49ab25d425edcf05d44bfc1d5aea895287d81                                     0   \n",
       "b85fcaef67d2669cd99b334b5e8c8705263db2cf                                     0   \n",
       "\n",
       "                                          582fee78-d934-4603-9f5c-1729e0ca36b7  \\\n",
       "eb1c57ddc9e0e2d005169d3a1a96e8dd95e3af03                                     0   \n",
       "44ce793a6cd9d20f13f4a576a818ef983314bb5d                                     0   \n",
       "da9cf3f557161d54b76f24db64be9cc76db008e3                                     0   \n",
       "8fa49ab25d425edcf05d44bfc1d5aea895287d81                                     0   \n",
       "b85fcaef67d2669cd99b334b5e8c8705263db2cf                                     0   \n",
       "\n",
       "                                          c1d4f2ba-cf39-460c-9528-6b827d3417a1  \\\n",
       "eb1c57ddc9e0e2d005169d3a1a96e8dd95e3af03                                     0   \n",
       "44ce793a6cd9d20f13f4a576a818ef983314bb5d                                     0   \n",
       "da9cf3f557161d54b76f24db64be9cc76db008e3                                     0   \n",
       "8fa49ab25d425edcf05d44bfc1d5aea895287d81                                     0   \n",
       "b85fcaef67d2669cd99b334b5e8c8705263db2cf                                     0   \n",
       "\n",
       "                                          bfcc6d75-a6a5-4bc6-8282-47aec8531818  \\\n",
       "eb1c57ddc9e0e2d005169d3a1a96e8dd95e3af03                                     0   \n",
       "44ce793a6cd9d20f13f4a576a818ef983314bb5d                                     0   \n",
       "da9cf3f557161d54b76f24db64be9cc76db008e3                                     0   \n",
       "8fa49ab25d425edcf05d44bfc1d5aea895287d81                                     0   \n",
       "b85fcaef67d2669cd99b334b5e8c8705263db2cf                                     0   \n",
       "\n",
       "                                          774666d2-2064-4d6c-856c-f8cda0aaf9f0  \n",
       "eb1c57ddc9e0e2d005169d3a1a96e8dd95e3af03                                     0  \n",
       "44ce793a6cd9d20f13f4a576a818ef983314bb5d                                     0  \n",
       "da9cf3f557161d54b76f24db64be9cc76db008e3                                     0  \n",
       "8fa49ab25d425edcf05d44bfc1d5aea895287d81                                     0  \n",
       "b85fcaef67d2669cd99b334b5e8c8705263db2cf                                     0  \n",
       "\n",
       "[5 rows x 2000 columns]"
      ]
     },
     "execution_count": 13,
     "metadata": {},
     "output_type": "execute_result"
    }
   ],
   "source": [
    "Xnorm = X.div(X.sum(axis=1), axis=0)\n",
    "Xnorm.head()"
   ]
  },
  {
   "cell_type": "markdown",
   "metadata": {},
   "source": [
    "##Run PCA to reduce dimensionality of our matrix"
   ]
  },
  {
   "cell_type": "code",
   "execution_count": 17,
   "metadata": {
    "collapsed": false
   },
   "outputs": [
    {
     "ename": "ImportError",
     "evalue": "HDFStore requires PyTables",
     "output_type": "error",
     "traceback": [
      "\u001b[1;31m---------------------------------------------------------------------------\u001b[0m",
      "\u001b[1;31mImportError\u001b[0m                               Traceback (most recent call last)",
      "\u001b[1;32m<ipython-input-17-81e163a99762>\u001b[0m in \u001b[0;36m<module>\u001b[1;34m()\u001b[0m\n\u001b[1;32m----> 1\u001b[1;33m \u001b[0mX\u001b[0m\u001b[1;33m.\u001b[0m\u001b[0mto_hdf\u001b[0m\u001b[1;33m(\u001b[0m\u001b[1;34m'X.h5'\u001b[0m\u001b[1;33m,\u001b[0m\u001b[1;34m'df'\u001b[0m\u001b[1;33m,\u001b[0m\u001b[0mmode\u001b[0m\u001b[1;33m=\u001b[0m\u001b[1;34m'w'\u001b[0m\u001b[1;33m)\u001b[0m\u001b[1;33m\u001b[0m\u001b[0m\n\u001b[0m",
      "\u001b[1;32m/nfs/projects/c/ci3_jwaldo/MONGO/lib/python2.7/site-packages/pandas/core/generic.pyc\u001b[0m in \u001b[0;36mto_hdf\u001b[1;34m(self, path_or_buf, key, **kwargs)\u001b[0m\n\u001b[0;32m    894\u001b[0m \u001b[1;33m\u001b[0m\u001b[0m\n\u001b[0;32m    895\u001b[0m         \u001b[1;32mfrom\u001b[0m \u001b[0mpandas\u001b[0m\u001b[1;33m.\u001b[0m\u001b[0mio\u001b[0m \u001b[1;32mimport\u001b[0m \u001b[0mpytables\u001b[0m\u001b[1;33m\u001b[0m\u001b[0m\n\u001b[1;32m--> 896\u001b[1;33m         \u001b[1;32mreturn\u001b[0m \u001b[0mpytables\u001b[0m\u001b[1;33m.\u001b[0m\u001b[0mto_hdf\u001b[0m\u001b[1;33m(\u001b[0m\u001b[0mpath_or_buf\u001b[0m\u001b[1;33m,\u001b[0m \u001b[0mkey\u001b[0m\u001b[1;33m,\u001b[0m \u001b[0mself\u001b[0m\u001b[1;33m,\u001b[0m \u001b[1;33m**\u001b[0m\u001b[0mkwargs\u001b[0m\u001b[1;33m)\u001b[0m\u001b[1;33m\u001b[0m\u001b[0m\n\u001b[0m\u001b[0;32m    897\u001b[0m \u001b[1;33m\u001b[0m\u001b[0m\n\u001b[0;32m    898\u001b[0m     \u001b[1;32mdef\u001b[0m \u001b[0mto_msgpack\u001b[0m\u001b[1;33m(\u001b[0m\u001b[0mself\u001b[0m\u001b[1;33m,\u001b[0m \u001b[0mpath_or_buf\u001b[0m\u001b[1;33m=\u001b[0m\u001b[0mNone\u001b[0m\u001b[1;33m,\u001b[0m \u001b[1;33m**\u001b[0m\u001b[0mkwargs\u001b[0m\u001b[1;33m)\u001b[0m\u001b[1;33m:\u001b[0m\u001b[1;33m\u001b[0m\u001b[0m\n",
      "\u001b[1;32m/nfs/projects/c/ci3_jwaldo/MONGO/lib/python2.7/site-packages/pandas/io/pytables.pyc\u001b[0m in \u001b[0;36mto_hdf\u001b[1;34m(path_or_buf, key, value, mode, complevel, complib, append, **kwargs)\u001b[0m\n\u001b[0;32m    281\u001b[0m     \u001b[1;32mif\u001b[0m \u001b[0misinstance\u001b[0m\u001b[1;33m(\u001b[0m\u001b[0mpath_or_buf\u001b[0m\u001b[1;33m,\u001b[0m \u001b[0mstring_types\u001b[0m\u001b[1;33m)\u001b[0m\u001b[1;33m:\u001b[0m\u001b[1;33m\u001b[0m\u001b[0m\n\u001b[0;32m    282\u001b[0m         with get_store(path_or_buf, mode=mode, complevel=complevel,\n\u001b[1;32m--> 283\u001b[1;33m                        complib=complib) as store:\n\u001b[0m\u001b[0;32m    284\u001b[0m             \u001b[0mf\u001b[0m\u001b[1;33m(\u001b[0m\u001b[0mstore\u001b[0m\u001b[1;33m)\u001b[0m\u001b[1;33m\u001b[0m\u001b[0m\n\u001b[0;32m    285\u001b[0m     \u001b[1;32melse\u001b[0m\u001b[1;33m:\u001b[0m\u001b[1;33m\u001b[0m\u001b[0m\n",
      "\u001b[1;32m/nfs/projects/c/ci3_jwaldo/applications-edx1/lib/python2.7/contextlib.pyc\u001b[0m in \u001b[0;36m__enter__\u001b[1;34m(self)\u001b[0m\n\u001b[0;32m     15\u001b[0m     \u001b[1;32mdef\u001b[0m \u001b[0m__enter__\u001b[0m\u001b[1;33m(\u001b[0m\u001b[0mself\u001b[0m\u001b[1;33m)\u001b[0m\u001b[1;33m:\u001b[0m\u001b[1;33m\u001b[0m\u001b[0m\n\u001b[0;32m     16\u001b[0m         \u001b[1;32mtry\u001b[0m\u001b[1;33m:\u001b[0m\u001b[1;33m\u001b[0m\u001b[0m\n\u001b[1;32m---> 17\u001b[1;33m             \u001b[1;32mreturn\u001b[0m \u001b[0mself\u001b[0m\u001b[1;33m.\u001b[0m\u001b[0mgen\u001b[0m\u001b[1;33m.\u001b[0m\u001b[0mnext\u001b[0m\u001b[1;33m(\u001b[0m\u001b[1;33m)\u001b[0m\u001b[1;33m\u001b[0m\u001b[0m\n\u001b[0m\u001b[0;32m     18\u001b[0m         \u001b[1;32mexcept\u001b[0m \u001b[0mStopIteration\u001b[0m\u001b[1;33m:\u001b[0m\u001b[1;33m\u001b[0m\u001b[0m\n\u001b[0;32m     19\u001b[0m             \u001b[1;32mraise\u001b[0m \u001b[0mRuntimeError\u001b[0m\u001b[1;33m(\u001b[0m\u001b[1;34m\"generator didn't yield\"\u001b[0m\u001b[1;33m)\u001b[0m\u001b[1;33m\u001b[0m\u001b[0m\n",
      "\u001b[1;32m/nfs/projects/c/ci3_jwaldo/MONGO/lib/python2.7/site-packages/pandas/io/pytables.pyc\u001b[0m in \u001b[0;36mget_store\u001b[1;34m(path, **kwargs)\u001b[0m\n\u001b[0;32m    262\u001b[0m     \u001b[0mstore\u001b[0m \u001b[1;33m=\u001b[0m \u001b[0mNone\u001b[0m\u001b[1;33m\u001b[0m\u001b[0m\n\u001b[0;32m    263\u001b[0m     \u001b[1;32mtry\u001b[0m\u001b[1;33m:\u001b[0m\u001b[1;33m\u001b[0m\u001b[0m\n\u001b[1;32m--> 264\u001b[1;33m         \u001b[0mstore\u001b[0m \u001b[1;33m=\u001b[0m \u001b[0mHDFStore\u001b[0m\u001b[1;33m(\u001b[0m\u001b[0mpath\u001b[0m\u001b[1;33m,\u001b[0m \u001b[1;33m**\u001b[0m\u001b[0mkwargs\u001b[0m\u001b[1;33m)\u001b[0m\u001b[1;33m\u001b[0m\u001b[0m\n\u001b[0m\u001b[0;32m    265\u001b[0m         \u001b[1;32myield\u001b[0m \u001b[0mstore\u001b[0m\u001b[1;33m\u001b[0m\u001b[0m\n\u001b[0;32m    266\u001b[0m     \u001b[1;32mfinally\u001b[0m\u001b[1;33m:\u001b[0m\u001b[1;33m\u001b[0m\u001b[0m\n",
      "\u001b[1;32m/nfs/projects/c/ci3_jwaldo/MONGO/lib/python2.7/site-packages/pandas/io/pytables.pyc\u001b[0m in \u001b[0;36m__init__\u001b[1;34m(self, path, mode, complevel, complib, fletcher32, **kwargs)\u001b[0m\n\u001b[0;32m    390\u001b[0m             \u001b[1;32mimport\u001b[0m \u001b[0mtables\u001b[0m\u001b[1;33m\u001b[0m\u001b[0m\n\u001b[0;32m    391\u001b[0m         \u001b[1;32mexcept\u001b[0m \u001b[0mImportError\u001b[0m\u001b[1;33m:\u001b[0m  \u001b[1;31m# pragma: no cover\u001b[0m\u001b[1;33m\u001b[0m\u001b[0m\n\u001b[1;32m--> 392\u001b[1;33m             \u001b[1;32mraise\u001b[0m \u001b[0mImportError\u001b[0m\u001b[1;33m(\u001b[0m\u001b[1;34m'HDFStore requires PyTables'\u001b[0m\u001b[1;33m)\u001b[0m\u001b[1;33m\u001b[0m\u001b[0m\n\u001b[0m\u001b[0;32m    393\u001b[0m \u001b[1;33m\u001b[0m\u001b[0m\n\u001b[0;32m    394\u001b[0m         \u001b[0mself\u001b[0m\u001b[1;33m.\u001b[0m\u001b[0m_path\u001b[0m \u001b[1;33m=\u001b[0m \u001b[0mpath\u001b[0m\u001b[1;33m\u001b[0m\u001b[0m\n",
      "\u001b[1;31mImportError\u001b[0m: HDFStore requires PyTables"
     ]
    }
   ],
   "source": [
    "X.to_hdf('X.h5','df',mode='w')"
   ]
  },
  {
   "cell_type": "code",
   "execution_count": 106,
   "metadata": {
    "collapsed": true
   },
   "outputs": [],
   "source": [
    "from sklearn.decomposition import PCA\n",
    "pca = PCA(n_components='mle')"
   ]
  },
  {
   "cell_type": "code",
   "execution_count": null,
   "metadata": {
    "collapsed": false
   },
   "outputs": [],
   "source": [
    "pca.fit(Xnorm)"
   ]
  },
  {
   "cell_type": "code",
   "execution_count": null,
   "metadata": {
    "collapsed": true
   },
   "outputs": [],
   "source": []
  }
 ],
 "metadata": {
  "kernelspec": {
   "display_name": "Python 2",
   "language": "python",
   "name": "python2"
  },
  "language_info": {
   "codemirror_mode": {
    "name": "ipython",
    "version": 2
   },
   "file_extension": ".py",
   "mimetype": "text/x-python",
   "name": "python",
   "nbconvert_exporter": "python",
   "pygments_lexer": "ipython2",
   "version": "2.7.5"
  }
 },
 "nbformat": 4,
 "nbformat_minor": 0
}
